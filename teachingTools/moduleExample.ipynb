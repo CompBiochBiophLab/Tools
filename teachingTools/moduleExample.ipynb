{
 "cells": [
  {
   "cell_type": "code",
   "execution_count": 1,
   "metadata": {},
   "outputs": [
    {
     "name": "stdout",
     "output_type": "stream",
     "text": [
      "This message is from an external module\n",
      "This message is from the main file\n",
      "2.772588722239781\n",
      "8886110.520507872\n"
     ]
    }
   ],
   "source": [
    "#taken from https://wellsr.com/python/how-to-create-custom-modules-in-python/\n",
    "\n",
    "import module1\n",
    "\n",
    "module1.print_text()\n",
    "\n",
    "print(\"This message is from the main file\")\n",
    "\n",
    "log16 = module1.find_log(16)\n",
    "print(log16)\n",
    "\n",
    "exp16 = module1.find_exp(16)\n",
    "print(exp16)"
   ]
  }
 ],
 "metadata": {
  "kernelspec": {
   "display_name": "base",
   "language": "python",
   "name": "python3"
  },
  "language_info": {
   "codemirror_mode": {
    "name": "ipython",
    "version": 3
   },
   "file_extension": ".py",
   "mimetype": "text/x-python",
   "name": "python",
   "nbconvert_exporter": "python",
   "pygments_lexer": "ipython3",
   "version": "3.10.8"
  },
  "orig_nbformat": 4
 },
 "nbformat": 4,
 "nbformat_minor": 2
}
