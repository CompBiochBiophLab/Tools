{
 "cells": [
  {
   "cell_type": "code",
   "execution_count": 29,
   "metadata": {},
   "outputs": [],
   "source": [
    "import requests, sys, json, urllib\n",
    "\n",
    "WEBSITE_API = 'https://www.uniprot.org'\n",
    "PROTEINS_API = 'https://www.ebi.ac.uk/proteins/api'\n"
   ]
  },
  {
   "cell_type": "code",
   "execution_count": 32,
   "metadata": {},
   "outputs": [
    {
     "ename": "HTTPError",
     "evalue": "HTTP Error 400: ",
     "output_type": "error",
     "traceback": [
      "\u001b[0;31m---------------------------------------------------------------------------\u001b[0m",
      "\u001b[0;31mHTTPError\u001b[0m                                 Traceback (most recent call last)",
      "\u001b[1;32m/Users/556079/GitHub/Tools/genomeTools/apiUniprot.ipynb Cell 2'\u001b[0m in \u001b[0;36m<cell line: 21>\u001b[0;34m()\u001b[0m\n\u001b[1;32m     <a href='vscode-notebook-cell:/Users/556079/GitHub/Tools/genomeTools/apiUniprot.ipynb#ch0000004?line=17'>18</a>\u001b[0m     \u001b[39mreturn\u001b[39;00m fasta\n\u001b[1;32m     <a href='vscode-notebook-cell:/Users/556079/GitHub/Tools/genomeTools/apiUniprot.ipynb#ch0000004?line=19'>20</a>\u001b[0m uniprot_list \u001b[39m=\u001b[39m [\u001b[39m'\u001b[39m\u001b[39mP40925\u001b[39m\u001b[39m'\u001b[39m, \u001b[39m'\u001b[39m\u001b[39mP40926\u001b[39m\u001b[39m'\u001b[39m]\n\u001b[0;32m---> <a href='vscode-notebook-cell:/Users/556079/GitHub/Tools/genomeTools/apiUniprot.ipynb#ch0000004?line=20'>21</a>\u001b[0m \u001b[39mprint\u001b[39m(get_protein_sequences(uniprot_list))\n",
      "\u001b[1;32m/Users/556079/GitHub/Tools/genomeTools/apiUniprot.ipynb Cell 2'\u001b[0m in \u001b[0;36mget_protein_sequences\u001b[0;34m(uniprot_list)\u001b[0m\n\u001b[1;32m     <a href='vscode-notebook-cell:/Users/556079/GitHub/Tools/genomeTools/apiUniprot.ipynb#ch0000004?line=13'>14</a>\u001b[0m line \u001b[39m=\u001b[39m \u001b[39m'\u001b[39m\u001b[39m+OR+\u001b[39m\u001b[39m'\u001b[39m\u001b[39m.\u001b[39mjoin(uniprot_list)\n\u001b[1;32m     <a href='vscode-notebook-cell:/Users/556079/GitHub/Tools/genomeTools/apiUniprot.ipynb#ch0000004?line=14'>15</a>\u001b[0m url \u001b[39m=\u001b[39m \u001b[39mf\u001b[39m\u001b[39m'\u001b[39m\u001b[39mhttps://www.uniprot.org/uniprot/?query=\u001b[39m\u001b[39m{\u001b[39;00mline\u001b[39m}\u001b[39;00m\u001b[39m&format=pdb\u001b[39m\u001b[39m'\u001b[39m\n\u001b[0;32m---> <a href='vscode-notebook-cell:/Users/556079/GitHub/Tools/genomeTools/apiUniprot.ipynb#ch0000004?line=15'>16</a>\u001b[0m \u001b[39mwith\u001b[39;00m urllib\u001b[39m.\u001b[39;49mrequest\u001b[39m.\u001b[39;49murlopen(url) \u001b[39mas\u001b[39;00m f:\n\u001b[1;32m     <a href='vscode-notebook-cell:/Users/556079/GitHub/Tools/genomeTools/apiUniprot.ipynb#ch0000004?line=16'>17</a>\u001b[0m     fasta \u001b[39m=\u001b[39m f\u001b[39m.\u001b[39mread()\u001b[39m.\u001b[39mdecode(\u001b[39m'\u001b[39m\u001b[39mutf-8\u001b[39m\u001b[39m'\u001b[39m)\u001b[39m.\u001b[39mstrip()\n\u001b[1;32m     <a href='vscode-notebook-cell:/Users/556079/GitHub/Tools/genomeTools/apiUniprot.ipynb#ch0000004?line=17'>18</a>\u001b[0m \u001b[39mreturn\u001b[39;00m fasta\n",
      "File \u001b[0;32m~/miniconda3/envs/omics/lib/python3.10/urllib/request.py:216\u001b[0m, in \u001b[0;36murlopen\u001b[0;34m(url, data, timeout, cafile, capath, cadefault, context)\u001b[0m\n\u001b[1;32m    <a href='file:///Users/556079/miniconda3/envs/omics/lib/python3.10/urllib/request.py?line=213'>214</a>\u001b[0m \u001b[39melse\u001b[39;00m:\n\u001b[1;32m    <a href='file:///Users/556079/miniconda3/envs/omics/lib/python3.10/urllib/request.py?line=214'>215</a>\u001b[0m     opener \u001b[39m=\u001b[39m _opener\n\u001b[0;32m--> <a href='file:///Users/556079/miniconda3/envs/omics/lib/python3.10/urllib/request.py?line=215'>216</a>\u001b[0m \u001b[39mreturn\u001b[39;00m opener\u001b[39m.\u001b[39;49mopen(url, data, timeout)\n",
      "File \u001b[0;32m~/miniconda3/envs/omics/lib/python3.10/urllib/request.py:525\u001b[0m, in \u001b[0;36mOpenerDirector.open\u001b[0;34m(self, fullurl, data, timeout)\u001b[0m\n\u001b[1;32m    <a href='file:///Users/556079/miniconda3/envs/omics/lib/python3.10/urllib/request.py?line=522'>523</a>\u001b[0m \u001b[39mfor\u001b[39;00m processor \u001b[39min\u001b[39;00m \u001b[39mself\u001b[39m\u001b[39m.\u001b[39mprocess_response\u001b[39m.\u001b[39mget(protocol, []):\n\u001b[1;32m    <a href='file:///Users/556079/miniconda3/envs/omics/lib/python3.10/urllib/request.py?line=523'>524</a>\u001b[0m     meth \u001b[39m=\u001b[39m \u001b[39mgetattr\u001b[39m(processor, meth_name)\n\u001b[0;32m--> <a href='file:///Users/556079/miniconda3/envs/omics/lib/python3.10/urllib/request.py?line=524'>525</a>\u001b[0m     response \u001b[39m=\u001b[39m meth(req, response)\n\u001b[1;32m    <a href='file:///Users/556079/miniconda3/envs/omics/lib/python3.10/urllib/request.py?line=526'>527</a>\u001b[0m \u001b[39mreturn\u001b[39;00m response\n",
      "File \u001b[0;32m~/miniconda3/envs/omics/lib/python3.10/urllib/request.py:634\u001b[0m, in \u001b[0;36mHTTPErrorProcessor.http_response\u001b[0;34m(self, request, response)\u001b[0m\n\u001b[1;32m    <a href='file:///Users/556079/miniconda3/envs/omics/lib/python3.10/urllib/request.py?line=630'>631</a>\u001b[0m \u001b[39m# According to RFC 2616, \"2xx\" code indicates that the client's\u001b[39;00m\n\u001b[1;32m    <a href='file:///Users/556079/miniconda3/envs/omics/lib/python3.10/urllib/request.py?line=631'>632</a>\u001b[0m \u001b[39m# request was successfully received, understood, and accepted.\u001b[39;00m\n\u001b[1;32m    <a href='file:///Users/556079/miniconda3/envs/omics/lib/python3.10/urllib/request.py?line=632'>633</a>\u001b[0m \u001b[39mif\u001b[39;00m \u001b[39mnot\u001b[39;00m (\u001b[39m200\u001b[39m \u001b[39m<\u001b[39m\u001b[39m=\u001b[39m code \u001b[39m<\u001b[39m \u001b[39m300\u001b[39m):\n\u001b[0;32m--> <a href='file:///Users/556079/miniconda3/envs/omics/lib/python3.10/urllib/request.py?line=633'>634</a>\u001b[0m     response \u001b[39m=\u001b[39m \u001b[39mself\u001b[39;49m\u001b[39m.\u001b[39;49mparent\u001b[39m.\u001b[39;49merror(\n\u001b[1;32m    <a href='file:///Users/556079/miniconda3/envs/omics/lib/python3.10/urllib/request.py?line=634'>635</a>\u001b[0m         \u001b[39m'\u001b[39;49m\u001b[39mhttp\u001b[39;49m\u001b[39m'\u001b[39;49m, request, response, code, msg, hdrs)\n\u001b[1;32m    <a href='file:///Users/556079/miniconda3/envs/omics/lib/python3.10/urllib/request.py?line=636'>637</a>\u001b[0m \u001b[39mreturn\u001b[39;00m response\n",
      "File \u001b[0;32m~/miniconda3/envs/omics/lib/python3.10/urllib/request.py:563\u001b[0m, in \u001b[0;36mOpenerDirector.error\u001b[0;34m(self, proto, *args)\u001b[0m\n\u001b[1;32m    <a href='file:///Users/556079/miniconda3/envs/omics/lib/python3.10/urllib/request.py?line=560'>561</a>\u001b[0m \u001b[39mif\u001b[39;00m http_err:\n\u001b[1;32m    <a href='file:///Users/556079/miniconda3/envs/omics/lib/python3.10/urllib/request.py?line=561'>562</a>\u001b[0m     args \u001b[39m=\u001b[39m (\u001b[39mdict\u001b[39m, \u001b[39m'\u001b[39m\u001b[39mdefault\u001b[39m\u001b[39m'\u001b[39m, \u001b[39m'\u001b[39m\u001b[39mhttp_error_default\u001b[39m\u001b[39m'\u001b[39m) \u001b[39m+\u001b[39m orig_args\n\u001b[0;32m--> <a href='file:///Users/556079/miniconda3/envs/omics/lib/python3.10/urllib/request.py?line=562'>563</a>\u001b[0m     \u001b[39mreturn\u001b[39;00m \u001b[39mself\u001b[39;49m\u001b[39m.\u001b[39;49m_call_chain(\u001b[39m*\u001b[39;49margs)\n",
      "File \u001b[0;32m~/miniconda3/envs/omics/lib/python3.10/urllib/request.py:496\u001b[0m, in \u001b[0;36mOpenerDirector._call_chain\u001b[0;34m(self, chain, kind, meth_name, *args)\u001b[0m\n\u001b[1;32m    <a href='file:///Users/556079/miniconda3/envs/omics/lib/python3.10/urllib/request.py?line=493'>494</a>\u001b[0m \u001b[39mfor\u001b[39;00m handler \u001b[39min\u001b[39;00m handlers:\n\u001b[1;32m    <a href='file:///Users/556079/miniconda3/envs/omics/lib/python3.10/urllib/request.py?line=494'>495</a>\u001b[0m     func \u001b[39m=\u001b[39m \u001b[39mgetattr\u001b[39m(handler, meth_name)\n\u001b[0;32m--> <a href='file:///Users/556079/miniconda3/envs/omics/lib/python3.10/urllib/request.py?line=495'>496</a>\u001b[0m     result \u001b[39m=\u001b[39m func(\u001b[39m*\u001b[39;49margs)\n\u001b[1;32m    <a href='file:///Users/556079/miniconda3/envs/omics/lib/python3.10/urllib/request.py?line=496'>497</a>\u001b[0m     \u001b[39mif\u001b[39;00m result \u001b[39mis\u001b[39;00m \u001b[39mnot\u001b[39;00m \u001b[39mNone\u001b[39;00m:\n\u001b[1;32m    <a href='file:///Users/556079/miniconda3/envs/omics/lib/python3.10/urllib/request.py?line=497'>498</a>\u001b[0m         \u001b[39mreturn\u001b[39;00m result\n",
      "File \u001b[0;32m~/miniconda3/envs/omics/lib/python3.10/urllib/request.py:643\u001b[0m, in \u001b[0;36mHTTPDefaultErrorHandler.http_error_default\u001b[0;34m(self, req, fp, code, msg, hdrs)\u001b[0m\n\u001b[1;32m    <a href='file:///Users/556079/miniconda3/envs/omics/lib/python3.10/urllib/request.py?line=641'>642</a>\u001b[0m \u001b[39mdef\u001b[39;00m \u001b[39mhttp_error_default\u001b[39m(\u001b[39mself\u001b[39m, req, fp, code, msg, hdrs):\n\u001b[0;32m--> <a href='file:///Users/556079/miniconda3/envs/omics/lib/python3.10/urllib/request.py?line=642'>643</a>\u001b[0m     \u001b[39mraise\u001b[39;00m HTTPError(req\u001b[39m.\u001b[39mfull_url, code, msg, hdrs, fp)\n",
      "\u001b[0;31mHTTPError\u001b[0m: HTTP Error 400: "
     ]
    }
   ],
   "source": [
    "def get_protein_sequences(uniprot_list):\n",
    "    \"\"\"Retrieves the sequences from the UniProt database based on the list of\n",
    "    UniProt ids.\n",
    "    In general, \n",
    "        1. Compose your query here with the advanced search tool:\n",
    "    https://www.uniprot.org/uniprot/?query=id%3Ap40925+OR+id%3Ap40926+OR+id%3Ao43175&sort=score\n",
    "        2. Replace `&sort=score` with `&format=fasta`\n",
    "        3. Edit this function as necessary\n",
    "    Returns:\n",
    "        protein_dict (dict): the updated dictionary\n",
    "    \"\"\"\n",
    "    # This makes it so we match only the ENTRY field\n",
    "    uniprot_list = ['id%3A'+id for id in uniprot_list]\n",
    "    line = '+OR+'.join(uniprot_list)\n",
    "    url = f'https://www.uniprot.org/uniprot/?query={line}&format=fasta'\n",
    "    with urllib.request.urlopen(url) as f:\n",
    "        fasta = f.read().decode('utf-8').strip()\n",
    "    return fasta\n",
    "    \n",
    "uniprot_list = ['P40925', 'P40926']\n",
    "print(get_protein_sequences(uniprot_list))"
   ]
  },
  {
   "cell_type": "markdown",
   "metadata": {},
   "source": [
    "Search the uniprot database"
   ]
  },
  {
   "cell_type": "code",
   "execution_count": 31,
   "metadata": {},
   "outputs": [
    {
     "name": "stdout",
     "output_type": "stream",
     "text": [
      "<Response [200]>\n",
      "<class 'NoneType'>\n"
     ]
    },
    {
     "ename": "AttributeError",
     "evalue": "'NoneType' object has no attribute 'json'",
     "output_type": "error",
     "traceback": [
      "\u001b[0;31m---------------------------------------------------------------------------\u001b[0m",
      "\u001b[0;31mAttributeError\u001b[0m                            Traceback (most recent call last)",
      "\u001b[1;32m/Users/556079/GitHub/Tools/genomeTools/apiUniprot.ipynb Cell 4'\u001b[0m in \u001b[0;36m<cell line: 5>\u001b[0;34m()\u001b[0m\n\u001b[1;32m      <a href='vscode-notebook-cell:/Users/556079/GitHub/Tools/genomeTools/apiUniprot.ipynb#ch0000003?line=1'>2</a>\u001b[0m r \u001b[39m=\u001b[39m get_url(url)\n\u001b[1;32m      <a href='vscode-notebook-cell:/Users/556079/GitHub/Tools/genomeTools/apiUniprot.ipynb#ch0000003?line=3'>4</a>\u001b[0m \u001b[39mprint\u001b[39m(\u001b[39mtype\u001b[39m(r))\n\u001b[0;32m----> <a href='vscode-notebook-cell:/Users/556079/GitHub/Tools/genomeTools/apiUniprot.ipynb#ch0000003?line=4'>5</a>\u001b[0m data \u001b[39m=\u001b[39m r\u001b[39m.\u001b[39;49mjson()\n\u001b[1;32m      <a href='vscode-notebook-cell:/Users/556079/GitHub/Tools/genomeTools/apiUniprot.ipynb#ch0000003?line=6'>7</a>\u001b[0m n_results \u001b[39m=\u001b[39m \u001b[39mlen\u001b[39m(data[\u001b[39m\"\u001b[39m\u001b[39mresults\u001b[39m\u001b[39m\"\u001b[39m])\n\u001b[1;32m      <a href='vscode-notebook-cell:/Users/556079/GitHub/Tools/genomeTools/apiUniprot.ipynb#ch0000003?line=7'>8</a>\u001b[0m \u001b[39mprint\u001b[39m(\u001b[39mf\u001b[39m\u001b[39m'\u001b[39m\u001b[39mNumber of results: (n_results)\u001b[39m\u001b[39m\\n\u001b[39;00m\u001b[39m'\u001b[39m)\n",
      "\u001b[0;31mAttributeError\u001b[0m: 'NoneType' object has no attribute 'json'"
     ]
    }
   ],
   "source": [
    "url = f\"{WEBSITE_API}/uniprot/?query=GPX3\"\n",
    "r = get_url(url)\n",
    "\n",
    "print(type(r))\n",
    "data = r.json()\n",
    "\n",
    "n_results = len(data[\"results\"])\n",
    "print(f'Number of results: (n_results)\\n')\n",
    "\n",
    "for (key, value) in r.headers.items():\n",
    "    print(f'{key}: {value}')"
   ]
  }
 ],
 "metadata": {
  "interpreter": {
   "hash": "3092eb76212a397e08400f30a06080d565cbb198465bf3cec279629c0154c2e9"
  },
  "kernelspec": {
   "display_name": "Python 3.10.0 ('omics')",
   "language": "python",
   "name": "python3"
  },
  "language_info": {
   "codemirror_mode": {
    "name": "ipython",
    "version": 3
   },
   "file_extension": ".py",
   "mimetype": "text/x-python",
   "name": "python",
   "nbconvert_exporter": "python",
   "pygments_lexer": "ipython3",
   "version": "3.10.0"
  },
  "orig_nbformat": 4
 },
 "nbformat": 4,
 "nbformat_minor": 2
}
