{
 "cells": [
  {
   "attachments": {},
   "cell_type": "markdown",
   "metadata": {},
   "source": [
    "# GAMESS parsing tools\n",
    "\n",
    "notebook devoted to perform typical tasks with GAMESS inpouts and outputs for better productivity"
   ]
  },
  {
   "attachments": {},
   "cell_type": "markdown",
   "metadata": {},
   "source": [
    "## Extracting coordinates\n",
    "\n",
    "Extracting coordinates from an optimization calculation"
   ]
  },
  {
   "cell_type": "code",
   "execution_count": null,
   "metadata": {
    "vscode": {
     "languageId": "plaintext"
    }
   },
   "outputs": [],
   "source": [
    "OutputDir = r'/home/jordivilla/OneDrive/Treball-Onedrive'\n",
    "RestartDir = r'/home/jordivilla/gamess/restart/'\n",
    "\n"
   ]
  }
 ],
 "metadata": {
  "language_info": {
   "name": "python"
  },
  "orig_nbformat": 4
 },
 "nbformat": 4,
 "nbformat_minor": 2
}
