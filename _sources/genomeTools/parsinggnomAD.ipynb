{
 "cells": [
  {
   "cell_type": "markdown",
   "metadata": {},
   "source": [
    "# Parsing CSV files from individual genes in gnomAD\n",
    "\n",
    "Example: [file obtained for GPX2:](https://gnomad.broadinstitute.org/gene/ENSG00000176153)\n",
    "\n",
    "```csv\n",
    "Chromosome,Position,rsIDs,Reference,Alternate,Source,Filters - exomes,Filters - genomes,Transcript,HGVS Consequence,Protein Consequence,Transcript Consequence,VEP Annotation,ClinVar Clinical Significance,ClinVar Variation ID,Flags,Allele Count,Allele Number,Allele Frequency,Homozygote Count,Hemizygote Count,Allele Count African/African American,Allele Number African/African American,Homozygote Count African/African American,Hemizygote Count African/African American,Allele Count Latino/Admixed American,Allele Number Latino/Admixed American,Homozygote Count Latino/Admixed American,Hemizygote Count Latino/Admixed American,Allele Count Ashkenazi Jewish,Allele Number Ashkenazi Jewish,Homozygote Count Ashkenazi Jewish,Hemizygote Count Ashkenazi Jewish,Allele Count East Asian,Allele Number East Asian,Homozygote Count East Asian,Hemizygote Count East Asian,Allele Count European (Finnish),Allele Number European (Finnish),Homozygote Count European (Finnish),Hemizygote Count European (Finnish),Allele Count European (non-Finnish),Allele Number European (non-Finnish),Homozygote Count European (non-Finnish),Hemizygote Count European (non-Finnish),Allele Count Other,Allele Number Other,Homozygote Count Other,Hemizygote Count Other,Allele Count South Asian,Allele Number South Asian,Homozygote Count South Asian,Hemizygote Count South Asian\n",
    "14,65406155,rs1471966487,G,T,gnomAD Exomes,PASS,NA,ENST00000389614.5,c.*51C>A,,c.*51C>A,3_prime_UTR_variant,,,,1,218184,0.0000045832875004583285,0,0,0,15192,0,0,0,31042,0,0,0,6818,0,0,1,17494,0,0,0,19274,0,0,0,100426,0,0,0,5126,0,0,0,22812,0,0\n",
    "14,65406166,rs1418718413,C,T,gnomAD Exomes,PASS,NA,ENST00000389614.5,c.*40G>A,,c.*40G>A,3_prime_UTR_variant,,,,1,229576,0.00000435585601282364,0,0,0,15322,0,0,0,32902,0,0,0,7906,0,0,1,17834,0,0,0,20042,0,0,0,104758,0,0,0,5506,0,0,0,25306,0,0\n",
    "```"
   ]
  },
  {
   "cell_type": "code",
   "execution_count": null,
   "metadata": {},
   "outputs": [],
   "source": [
    "#!pip install pandas\n",
    "import pandas as pd\n",
    "from pathlib import Path\n",
    "\n",
    "# define the directory where I keep the data\n",
    "datadir = Path(\"\"\"~/data\"\"\")\n",
    "filename=datadir/\"gnomAD_v2.1.1_ENSG00000176153_2022_03_22_11_24_32.csv\"\n",
    "filename=datadir/\"gnomAD_v2.1.1_ENSG00000233276_2022_03_22_10_54_50.csv\"\n",
    "\n",
    "\n",
    "# load the CSV file\n",
    "data=pd.read_csv(filename)\n",
    "# print(data)\n",
    "data.loc[:,[\"Protein Consequence\",\"ClinVar Clinical Significance\"]]\n",
    "data = data[data[\"Protein Consequence\"].notna()].loc[:,[\"Protein Consequence\",\"ClinVar Clinical Significance\"]]\n",
    "data[data[\"ClinVar Clinical Significance\"].notna()]\n",
    "\n",
    "#contain_values = df[df["
   ]
  },
  {
   "cell_type": "code",
   "execution_count": 1,
   "metadata": {},
   "outputs": [
    {
     "name": "stdout",
     "output_type": "stream",
     "text": [
      "querying for...  GPX1 OR GPX2 OR GPX3 OR GPX4 OR GPX5 OR GPX6 OR GPX7 OR GPX8\n",
      "{'Count': '505', 'RetMax': '20', 'RetStart': '0', 'IdList': ['7124', '3569', '3091', '5743', '3576', '5468', '4780', '5444', '2952', '2950', '4233', '2908', '13982', '335', '155871', '6648', '10135', '860', '2034', '9314'], 'TranslationSet': [], 'TranslationStack': [{'Term': 'GPX3[All Fields]', 'Field': 'All Fields', 'Count': '505', 'Explode': 'N'}, 'GROUP'], 'QueryTranslation': 'GPX3[All Fields]'}\n",
      "['7124', '3569', '3091', '5743', '3576', '5468', '4780', '5444', '2952', '2950', '4233', '2908', '13982', '335', '155871', '6648', '10135', '860', '2034', '9314']\n"
     ]
    },
    {
     "ename": "KeyboardInterrupt",
     "evalue": "",
     "output_type": "error",
     "traceback": [
      "\u001b[0;31m---------------------------------------------------------------------------\u001b[0m",
      "\u001b[0;31mKeyboardInterrupt\u001b[0m                         Traceback (most recent call last)",
      "\u001b[1;32m/Users/556079/GitHub/Tools/genomeTools/parsinggnomAD.ipynb Cell 3'\u001b[0m in \u001b[0;36m<cell line: 29>\u001b[0;34m()\u001b[0m\n\u001b[1;32m     <a href='vscode-notebook-cell:/Users/556079/GitHub/Tools/genomeTools/parsinggnomAD.ipynb#ch0000002?line=26'>27</a>\u001b[0m queryKey \u001b[39m=\u001b[39m result[\u001b[39m\"\u001b[39m\u001b[39mQueryKey\u001b[39m\u001b[39m\"\u001b[39m]\n\u001b[1;32m     <a href='vscode-notebook-cell:/Users/556079/GitHub/Tools/genomeTools/parsinggnomAD.ipynb#ch0000002?line=27'>28</a>\u001b[0m efetch_result \u001b[39m=\u001b[39m Entrez\u001b[39m.\u001b[39mefetch(db\u001b[39m=\u001b[39m\u001b[39m\"\u001b[39m\u001b[39mgene\u001b[39m\u001b[39m\"\u001b[39m, webenv\u001b[39m=\u001b[39mwebEnv, query_key \u001b[39m=\u001b[39m queryKey, retmode\u001b[39m=\u001b[39m\u001b[39m\"\u001b[39m\u001b[39mxml\u001b[39m\u001b[39m\"\u001b[39m)\n\u001b[0;32m---> <a href='vscode-notebook-cell:/Users/556079/GitHub/Tools/genomeTools/parsinggnomAD.ipynb#ch0000002?line=28'>29</a>\u001b[0m genes \u001b[39m=\u001b[39m Entrez\u001b[39m.\u001b[39;49mread(efetch_result)\n\u001b[1;32m     <a href='vscode-notebook-cell:/Users/556079/GitHub/Tools/genomeTools/parsinggnomAD.ipynb#ch0000002?line=29'>30</a>\u001b[0m \u001b[39mprint\u001b[39m(genes)\n",
      "File \u001b[0;32m~/miniconda3/envs/omics/lib/python3.10/site-packages/Bio/Entrez/__init__.py:508\u001b[0m, in \u001b[0;36mread\u001b[0;34m(handle, validate, escape)\u001b[0m\n\u001b[1;32m    <a href='file:///Users/556079/miniconda3/envs/omics/lib/python3.10/site-packages/Bio/Entrez/__init__.py?line=504'>505</a>\u001b[0m \u001b[39mfrom\u001b[39;00m \u001b[39m.\u001b[39;00m\u001b[39mParser\u001b[39;00m \u001b[39mimport\u001b[39;00m DataHandler\n\u001b[1;32m    <a href='file:///Users/556079/miniconda3/envs/omics/lib/python3.10/site-packages/Bio/Entrez/__init__.py?line=506'>507</a>\u001b[0m handler \u001b[39m=\u001b[39m DataHandler(validate, escape)\n\u001b[0;32m--> <a href='file:///Users/556079/miniconda3/envs/omics/lib/python3.10/site-packages/Bio/Entrez/__init__.py?line=507'>508</a>\u001b[0m record \u001b[39m=\u001b[39m handler\u001b[39m.\u001b[39;49mread(handle)\n\u001b[1;32m    <a href='file:///Users/556079/miniconda3/envs/omics/lib/python3.10/site-packages/Bio/Entrez/__init__.py?line=508'>509</a>\u001b[0m \u001b[39mreturn\u001b[39;00m record\n",
      "File \u001b[0;32m~/miniconda3/envs/omics/lib/python3.10/site-packages/Bio/Entrez/Parser.py:335\u001b[0m, in \u001b[0;36mDataHandler.read\u001b[0;34m(self, handle)\u001b[0m\n\u001b[1;32m    <a href='file:///Users/556079/miniconda3/envs/omics/lib/python3.10/site-packages/Bio/Entrez/Parser.py?line=332'>333</a>\u001b[0m     \u001b[39mraise\u001b[39;00m \u001b[39mTypeError\u001b[39;00m(\u001b[39m\"\u001b[39m\u001b[39mfile should be opened in binary mode\u001b[39m\u001b[39m\"\u001b[39m)\n\u001b[1;32m    <a href='file:///Users/556079/miniconda3/envs/omics/lib/python3.10/site-packages/Bio/Entrez/Parser.py?line=333'>334</a>\u001b[0m \u001b[39mtry\u001b[39;00m:\n\u001b[0;32m--> <a href='file:///Users/556079/miniconda3/envs/omics/lib/python3.10/site-packages/Bio/Entrez/Parser.py?line=334'>335</a>\u001b[0m     \u001b[39mself\u001b[39;49m\u001b[39m.\u001b[39;49mparser\u001b[39m.\u001b[39;49mParseFile(handle)\n\u001b[1;32m    <a href='file:///Users/556079/miniconda3/envs/omics/lib/python3.10/site-packages/Bio/Entrez/Parser.py?line=335'>336</a>\u001b[0m \u001b[39mexcept\u001b[39;00m expat\u001b[39m.\u001b[39mExpatError \u001b[39mas\u001b[39;00m e:\n\u001b[1;32m    <a href='file:///Users/556079/miniconda3/envs/omics/lib/python3.10/site-packages/Bio/Entrez/Parser.py?line=336'>337</a>\u001b[0m     \u001b[39mif\u001b[39;00m \u001b[39mself\u001b[39m\u001b[39m.\u001b[39mparser\u001b[39m.\u001b[39mStartElementHandler:\n\u001b[1;32m    <a href='file:///Users/556079/miniconda3/envs/omics/lib/python3.10/site-packages/Bio/Entrez/Parser.py?line=337'>338</a>\u001b[0m         \u001b[39m# We saw the initial <!xml declaration, so we can be sure that\u001b[39;00m\n\u001b[1;32m    <a href='file:///Users/556079/miniconda3/envs/omics/lib/python3.10/site-packages/Bio/Entrez/Parser.py?line=338'>339</a>\u001b[0m         \u001b[39m# we are parsing XML data. Most likely, the XML file is\u001b[39;00m\n\u001b[1;32m    <a href='file:///Users/556079/miniconda3/envs/omics/lib/python3.10/site-packages/Bio/Entrez/Parser.py?line=339'>340</a>\u001b[0m         \u001b[39m# corrupted.\u001b[39;00m\n",
      "File \u001b[0;32m~/miniconda3/envs/omics/lib/python3.10/http/client.py:458\u001b[0m, in \u001b[0;36mHTTPResponse.read\u001b[0;34m(self, amt)\u001b[0m\n\u001b[1;32m    <a href='file:///Users/556079/miniconda3/envs/omics/lib/python3.10/http/client.py?line=454'>455</a>\u001b[0m     \u001b[39mreturn\u001b[39;00m \u001b[39mb\u001b[39m\u001b[39m\"\u001b[39m\u001b[39m\"\u001b[39m\n\u001b[1;32m    <a href='file:///Users/556079/miniconda3/envs/omics/lib/python3.10/http/client.py?line=456'>457</a>\u001b[0m \u001b[39mif\u001b[39;00m \u001b[39mself\u001b[39m\u001b[39m.\u001b[39mchunked:\n\u001b[0;32m--> <a href='file:///Users/556079/miniconda3/envs/omics/lib/python3.10/http/client.py?line=457'>458</a>\u001b[0m     \u001b[39mreturn\u001b[39;00m \u001b[39mself\u001b[39;49m\u001b[39m.\u001b[39;49m_read_chunked(amt)\n\u001b[1;32m    <a href='file:///Users/556079/miniconda3/envs/omics/lib/python3.10/http/client.py?line=459'>460</a>\u001b[0m \u001b[39mif\u001b[39;00m amt \u001b[39mis\u001b[39;00m \u001b[39mnot\u001b[39;00m \u001b[39mNone\u001b[39;00m:\n\u001b[1;32m    <a href='file:///Users/556079/miniconda3/envs/omics/lib/python3.10/http/client.py?line=460'>461</a>\u001b[0m     \u001b[39mif\u001b[39;00m \u001b[39mself\u001b[39m\u001b[39m.\u001b[39mlength \u001b[39mis\u001b[39;00m \u001b[39mnot\u001b[39;00m \u001b[39mNone\u001b[39;00m \u001b[39mand\u001b[39;00m amt \u001b[39m>\u001b[39m \u001b[39mself\u001b[39m\u001b[39m.\u001b[39mlength:\n\u001b[1;32m    <a href='file:///Users/556079/miniconda3/envs/omics/lib/python3.10/http/client.py?line=461'>462</a>\u001b[0m         \u001b[39m# clip the read to the \"end of response\"\u001b[39;00m\n",
      "File \u001b[0;32m~/miniconda3/envs/omics/lib/python3.10/http/client.py:581\u001b[0m, in \u001b[0;36mHTTPResponse._read_chunked\u001b[0;34m(self, amt)\u001b[0m\n\u001b[1;32m    <a href='file:///Users/556079/miniconda3/envs/omics/lib/python3.10/http/client.py?line=578'>579</a>\u001b[0m \u001b[39mtry\u001b[39;00m:\n\u001b[1;32m    <a href='file:///Users/556079/miniconda3/envs/omics/lib/python3.10/http/client.py?line=579'>580</a>\u001b[0m     \u001b[39mwhile\u001b[39;00m \u001b[39mTrue\u001b[39;00m:\n\u001b[0;32m--> <a href='file:///Users/556079/miniconda3/envs/omics/lib/python3.10/http/client.py?line=580'>581</a>\u001b[0m         chunk_left \u001b[39m=\u001b[39m \u001b[39mself\u001b[39;49m\u001b[39m.\u001b[39;49m_get_chunk_left()\n\u001b[1;32m    <a href='file:///Users/556079/miniconda3/envs/omics/lib/python3.10/http/client.py?line=581'>582</a>\u001b[0m         \u001b[39mif\u001b[39;00m chunk_left \u001b[39mis\u001b[39;00m \u001b[39mNone\u001b[39;00m:\n\u001b[1;32m    <a href='file:///Users/556079/miniconda3/envs/omics/lib/python3.10/http/client.py?line=582'>583</a>\u001b[0m             \u001b[39mbreak\u001b[39;00m\n",
      "File \u001b[0;32m~/miniconda3/envs/omics/lib/python3.10/http/client.py:564\u001b[0m, in \u001b[0;36mHTTPResponse._get_chunk_left\u001b[0;34m(self)\u001b[0m\n\u001b[1;32m    <a href='file:///Users/556079/miniconda3/envs/omics/lib/python3.10/http/client.py?line=561'>562</a>\u001b[0m     \u001b[39mself\u001b[39m\u001b[39m.\u001b[39m_safe_read(\u001b[39m2\u001b[39m)  \u001b[39m# toss the CRLF at the end of the chunk\u001b[39;00m\n\u001b[1;32m    <a href='file:///Users/556079/miniconda3/envs/omics/lib/python3.10/http/client.py?line=562'>563</a>\u001b[0m \u001b[39mtry\u001b[39;00m:\n\u001b[0;32m--> <a href='file:///Users/556079/miniconda3/envs/omics/lib/python3.10/http/client.py?line=563'>564</a>\u001b[0m     chunk_left \u001b[39m=\u001b[39m \u001b[39mself\u001b[39;49m\u001b[39m.\u001b[39;49m_read_next_chunk_size()\n\u001b[1;32m    <a href='file:///Users/556079/miniconda3/envs/omics/lib/python3.10/http/client.py?line=564'>565</a>\u001b[0m \u001b[39mexcept\u001b[39;00m \u001b[39mValueError\u001b[39;00m:\n\u001b[1;32m    <a href='file:///Users/556079/miniconda3/envs/omics/lib/python3.10/http/client.py?line=565'>566</a>\u001b[0m     \u001b[39mraise\u001b[39;00m IncompleteRead(\u001b[39mb\u001b[39m\u001b[39m'\u001b[39m\u001b[39m'\u001b[39m)\n",
      "File \u001b[0;32m~/miniconda3/envs/omics/lib/python3.10/http/client.py:524\u001b[0m, in \u001b[0;36mHTTPResponse._read_next_chunk_size\u001b[0;34m(self)\u001b[0m\n\u001b[1;32m    <a href='file:///Users/556079/miniconda3/envs/omics/lib/python3.10/http/client.py?line=521'>522</a>\u001b[0m \u001b[39mdef\u001b[39;00m \u001b[39m_read_next_chunk_size\u001b[39m(\u001b[39mself\u001b[39m):\n\u001b[1;32m    <a href='file:///Users/556079/miniconda3/envs/omics/lib/python3.10/http/client.py?line=522'>523</a>\u001b[0m     \u001b[39m# Read the next chunk size from the file\u001b[39;00m\n\u001b[0;32m--> <a href='file:///Users/556079/miniconda3/envs/omics/lib/python3.10/http/client.py?line=523'>524</a>\u001b[0m     line \u001b[39m=\u001b[39m \u001b[39mself\u001b[39;49m\u001b[39m.\u001b[39;49mfp\u001b[39m.\u001b[39;49mreadline(_MAXLINE \u001b[39m+\u001b[39;49m \u001b[39m1\u001b[39;49m)\n\u001b[1;32m    <a href='file:///Users/556079/miniconda3/envs/omics/lib/python3.10/http/client.py?line=524'>525</a>\u001b[0m     \u001b[39mif\u001b[39;00m \u001b[39mlen\u001b[39m(line) \u001b[39m>\u001b[39m _MAXLINE:\n\u001b[1;32m    <a href='file:///Users/556079/miniconda3/envs/omics/lib/python3.10/http/client.py?line=525'>526</a>\u001b[0m         \u001b[39mraise\u001b[39;00m LineTooLong(\u001b[39m\"\u001b[39m\u001b[39mchunk size\u001b[39m\u001b[39m\"\u001b[39m)\n",
      "File \u001b[0;32m~/miniconda3/envs/omics/lib/python3.10/socket.py:705\u001b[0m, in \u001b[0;36mSocketIO.readinto\u001b[0;34m(self, b)\u001b[0m\n\u001b[1;32m    <a href='file:///Users/556079/miniconda3/envs/omics/lib/python3.10/socket.py?line=702'>703</a>\u001b[0m \u001b[39mwhile\u001b[39;00m \u001b[39mTrue\u001b[39;00m:\n\u001b[1;32m    <a href='file:///Users/556079/miniconda3/envs/omics/lib/python3.10/socket.py?line=703'>704</a>\u001b[0m     \u001b[39mtry\u001b[39;00m:\n\u001b[0;32m--> <a href='file:///Users/556079/miniconda3/envs/omics/lib/python3.10/socket.py?line=704'>705</a>\u001b[0m         \u001b[39mreturn\u001b[39;00m \u001b[39mself\u001b[39;49m\u001b[39m.\u001b[39;49m_sock\u001b[39m.\u001b[39;49mrecv_into(b)\n\u001b[1;32m    <a href='file:///Users/556079/miniconda3/envs/omics/lib/python3.10/socket.py?line=705'>706</a>\u001b[0m     \u001b[39mexcept\u001b[39;00m timeout:\n\u001b[1;32m    <a href='file:///Users/556079/miniconda3/envs/omics/lib/python3.10/socket.py?line=706'>707</a>\u001b[0m         \u001b[39mself\u001b[39m\u001b[39m.\u001b[39m_timeout_occurred \u001b[39m=\u001b[39m \u001b[39mTrue\u001b[39;00m\n",
      "File \u001b[0;32m~/miniconda3/envs/omics/lib/python3.10/ssl.py:1273\u001b[0m, in \u001b[0;36mSSLSocket.recv_into\u001b[0;34m(self, buffer, nbytes, flags)\u001b[0m\n\u001b[1;32m   <a href='file:///Users/556079/miniconda3/envs/omics/lib/python3.10/ssl.py?line=1268'>1269</a>\u001b[0m     \u001b[39mif\u001b[39;00m flags \u001b[39m!=\u001b[39m \u001b[39m0\u001b[39m:\n\u001b[1;32m   <a href='file:///Users/556079/miniconda3/envs/omics/lib/python3.10/ssl.py?line=1269'>1270</a>\u001b[0m         \u001b[39mraise\u001b[39;00m \u001b[39mValueError\u001b[39;00m(\n\u001b[1;32m   <a href='file:///Users/556079/miniconda3/envs/omics/lib/python3.10/ssl.py?line=1270'>1271</a>\u001b[0m           \u001b[39m\"\u001b[39m\u001b[39mnon-zero flags not allowed in calls to recv_into() on \u001b[39m\u001b[39m%s\u001b[39;00m\u001b[39m\"\u001b[39m \u001b[39m%\u001b[39m\n\u001b[1;32m   <a href='file:///Users/556079/miniconda3/envs/omics/lib/python3.10/ssl.py?line=1271'>1272</a>\u001b[0m           \u001b[39mself\u001b[39m\u001b[39m.\u001b[39m\u001b[39m__class__\u001b[39m)\n\u001b[0;32m-> <a href='file:///Users/556079/miniconda3/envs/omics/lib/python3.10/ssl.py?line=1272'>1273</a>\u001b[0m     \u001b[39mreturn\u001b[39;00m \u001b[39mself\u001b[39;49m\u001b[39m.\u001b[39;49mread(nbytes, buffer)\n\u001b[1;32m   <a href='file:///Users/556079/miniconda3/envs/omics/lib/python3.10/ssl.py?line=1273'>1274</a>\u001b[0m \u001b[39melse\u001b[39;00m:\n\u001b[1;32m   <a href='file:///Users/556079/miniconda3/envs/omics/lib/python3.10/ssl.py?line=1274'>1275</a>\u001b[0m     \u001b[39mreturn\u001b[39;00m \u001b[39msuper\u001b[39m()\u001b[39m.\u001b[39mrecv_into(buffer, nbytes, flags)\n",
      "File \u001b[0;32m~/miniconda3/envs/omics/lib/python3.10/ssl.py:1129\u001b[0m, in \u001b[0;36mSSLSocket.read\u001b[0;34m(self, len, buffer)\u001b[0m\n\u001b[1;32m   <a href='file:///Users/556079/miniconda3/envs/omics/lib/python3.10/ssl.py?line=1126'>1127</a>\u001b[0m \u001b[39mtry\u001b[39;00m:\n\u001b[1;32m   <a href='file:///Users/556079/miniconda3/envs/omics/lib/python3.10/ssl.py?line=1127'>1128</a>\u001b[0m     \u001b[39mif\u001b[39;00m buffer \u001b[39mis\u001b[39;00m \u001b[39mnot\u001b[39;00m \u001b[39mNone\u001b[39;00m:\n\u001b[0;32m-> <a href='file:///Users/556079/miniconda3/envs/omics/lib/python3.10/ssl.py?line=1128'>1129</a>\u001b[0m         \u001b[39mreturn\u001b[39;00m \u001b[39mself\u001b[39;49m\u001b[39m.\u001b[39;49m_sslobj\u001b[39m.\u001b[39;49mread(\u001b[39mlen\u001b[39;49m, buffer)\n\u001b[1;32m   <a href='file:///Users/556079/miniconda3/envs/omics/lib/python3.10/ssl.py?line=1129'>1130</a>\u001b[0m     \u001b[39melse\u001b[39;00m:\n\u001b[1;32m   <a href='file:///Users/556079/miniconda3/envs/omics/lib/python3.10/ssl.py?line=1130'>1131</a>\u001b[0m         \u001b[39mreturn\u001b[39;00m \u001b[39mself\u001b[39m\u001b[39m.\u001b[39m_sslobj\u001b[39m.\u001b[39mread(\u001b[39mlen\u001b[39m)\n",
      "\u001b[0;31mKeyboardInterrupt\u001b[0m: "
     ]
    }
   ],
   "source": [
    "from Bio import Entrez\n",
    "import sys\n",
    "\n",
    "Entrez.email=\"jordi.villa@uvic.cat\"\n",
    "\n",
    "list_of_genes=['GPX1','GPX2','GPX3','GPX4','GPX5','GPX6','GPX7','GPX8']\n",
    "term_entrez=' OR '.join(list_of_genes)\n",
    "\n",
    "print('querying for... ',term_entrez)\n",
    "\n",
    "esearch_result = Entrez.esearch(db=\"gene\",term='GPX3',rettype='fasta',retmod=\"text\")\n",
    "parsed_result = Entrez.read(esearch_result)\n",
    "print(parsed_result)\n",
    "\n",
    "print(parsed_result['IdList'])\n",
    "quit()\n",
    "\n",
    "request = Entrez.epost(\"gene\",id=\",\".join(parsed_result['IdList']))\n",
    "try:\n",
    "   result = Entrez.read(request)\n",
    "except RuntimeError as e:\n",
    "   print(\"An error occurred while retrieving the annotations.\")\n",
    "   print(\"The error returned was %s\" % e)\n",
    "   sys.exit(-1)\n",
    " \n",
    "webEnv = result[\"WebEnv\"]\n",
    "queryKey = result[\"QueryKey\"]\n",
    "efetch_result = Entrez.efetch(db=\"gene\", webenv=webEnv, query_key = queryKey, retmode=\"xml\")\n",
    "genes = Entrez.read(efetch_result)\n",
    "print(genes)\n"
   ]
  }
 ],
 "metadata": {
  "interpreter": {
   "hash": "aee8b7b246df8f9039afb4144a1f6fd8d2ca17a180786b69acc140d282b71a49"
  },
  "kernelspec": {
   "display_name": "Python 3 (ipykernel)",
   "language": "python",
   "name": "python3"
  },
  "language_info": {
   "codemirror_mode": {
    "name": "ipython",
    "version": 3
   },
   "file_extension": ".py",
   "mimetype": "text/x-python",
   "name": "python",
   "nbconvert_exporter": "python",
   "pygments_lexer": "ipython3",
   "version": "3.10.0"
  }
 },
 "nbformat": 4,
 "nbformat_minor": 4
}
