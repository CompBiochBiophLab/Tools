{
 "cells": [
  {
   "cell_type": "markdown",
   "metadata": {},
   "source": [
    "Script to analyze a couple of atomic distances in an MD trajectory\n",
    "In this case, the atoms are accessed by the numbering in the PDB file, as the calculation\n",
    "comes from a QMMM run with newchem\n",
    "\n",
    "JVF 20/04/20"
   ]
  },
  {
   "cell_type": "code",
   "execution_count": null,
   "metadata": {},
   "outputs": [],
   "source": [
    "import os\n",
    "import MDAnalysis\n",
    "import numpy as np\n",
    "\n",
    "orig_path=os.path.expanduser(\"data/\")\n",
    "xyzfile=orig_path+'opt1.pdb'\n",
    "trjfile=orig_path+'opt1.dcd'\n",
    "u = MDAnalysis.Universe(xyzfile,trjfile)"
   ]
  },
  {
   "cell_type": "code",
   "execution_count": null,
   "metadata": {},
   "outputs": [],
   "source": [
    "print(u.atoms.names)"
   ]
  },
  {
   "cell_type": "code",
   "execution_count": null,
   "metadata": {},
   "outputs": [],
   "source": [
    "print(u.trajectory)"
   ]
  },
  {
   "cell_type": "code",
   "execution_count": null,
   "metadata": {},
   "outputs": [],
   "source": [
    "# select three atoms to calculate some distances\n",
    "at1=u.select_atoms(\"bynum 12\")\n",
    "at2=u.select_atoms(\"bynum 11\")\n",
    "at3=u.select_atoms(\"bynum 14\")\n",
    "print(at1,at2,at3)\n",
    "print(at1.positions[0])"
   ]
  },
  {
   "cell_type": "code",
   "execution_count": null,
   "metadata": {},
   "outputs": [],
   "source": [
    "import nglview"
   ]
  },
  {
   "cell_type": "code",
   "execution_count": null,
   "metadata": {},
   "outputs": [],
   "source": [
    "view = nglview.show_mdanalysis(u)\n",
    "view.add_ball_and_stick()\n",
    "view"
   ]
  },
  {
   "cell_type": "code",
   "execution_count": null,
   "metadata": {},
   "outputs": [],
   "source": [
    "# in case we want to fix the movie in a single frame\n",
    "#view.frame = 4"
   ]
  },
  {
   "cell_type": "code",
   "execution_count": null,
   "metadata": {
    "scrolled": true
   },
   "outputs": [],
   "source": [
    "# plot the distance between atoms at1 and at2 and between at2 and at3 defined above\n",
    "import matplotlib.pyplot as plt\n",
    "import seaborn as sns\n",
    "%matplotlib inline\n",
    "\n",
    "\n",
    "#plt.style.use('ggplot')\n",
    "#sns.set_style('ticks')\n",
    "\n",
    "# calculate the distances\n",
    "distance12 = np.zeros(len(u.trajectory))\n",
    "distance23 = np.zeros(len(u.trajectory))\n",
    "times = np.zeros(len(u.trajectory))\n",
    "for frame, ts in enumerate(u.trajectory):\n",
    "    at1p=at1.positions[0]\n",
    "    at2p=at2.positions[0]\n",
    "    at3p=at3.positions[0]\n",
    "    times[frame] = u.trajectory.time\n",
    "    distance12[frame] = np.linalg.norm(at1p-at2p)\n",
    "    distance23[frame] = np.linalg.norm(at2p-at3p)\n",
    "\n",
    "# set the limits of the Y axis\n",
    "maxY=max(np.maximum(distance12,distance23))\n",
    "minY=min(np.minimum(distance12,distance23))\n",
    "fig=plt.figure()\n",
    "ax = fig.add_subplot(111)\n",
    "name1=at1[0].name\n",
    "name2=at2[0].name\n",
    "name3=at3[0].name\n",
    "ax.plot(times, distance12,label=\"dist \"+name1+\"-\"+name2)\n",
    "ax.plot(times, distance23,label=\"dist \"+name2+\"-\"+name3)\n",
    "sns.despine(ax=ax)\n",
    "ax.legend(loc=\"center right\")\n",
    "ax.set_xlabel(\"time (ps)\")\n",
    "ax.set_ylabel(r\"distance ($\\AA$)\")\n",
    "ax.set_xlim(0, max(times))\n",
    "ax.set_ylim(minY, maxY)\n",
    "fig.savefig(\"output/distance.pdf\")\n"
   ]
  },
  {
   "cell_type": "code",
   "execution_count": null,
   "metadata": {},
   "outputs": [],
   "source": []
  }
 ],
 "metadata": {
  "kernelspec": {
   "display_name": "Python 3",
   "language": "python",
   "name": "python3"
  },
  "language_info": {
   "codemirror_mode": {
    "name": "ipython",
    "version": 3
   },
   "file_extension": ".py",
   "mimetype": "text/x-python",
   "name": "python",
   "nbconvert_exporter": "python",
   "pygments_lexer": "ipython3",
   "version": "3.7.6"
  }
 },
 "nbformat": 4,
 "nbformat_minor": 4
}
