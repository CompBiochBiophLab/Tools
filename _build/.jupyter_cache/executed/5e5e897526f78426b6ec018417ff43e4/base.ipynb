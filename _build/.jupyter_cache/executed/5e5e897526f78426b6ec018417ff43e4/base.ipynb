{
 "cells": [
  {
   "cell_type": "code",
   "execution_count": 1,
   "metadata": {},
   "outputs": [
    {
     "ename": "ModuleNotFoundError",
     "evalue": "No module named 'rdkit'",
     "output_type": "error",
     "traceback": [
      "\u001b[0;31m---------------------------------------------------------------------------\u001b[0m",
      "\u001b[0;31mModuleNotFoundError\u001b[0m                       Traceback (most recent call last)",
      "Cell \u001b[0;32mIn[1], line 1\u001b[0m\n\u001b[0;32m----> 1\u001b[0m \u001b[38;5;28;01mfrom\u001b[39;00m \u001b[38;5;21;01mrdkit\u001b[39;00m \u001b[38;5;28;01mimport\u001b[39;00m Chem\n",
      "\u001b[0;31mModuleNotFoundError\u001b[0m: No module named 'rdkit'"
     ]
    }
   ],
   "source": [
    "from rdkit import Chem"
   ]
  },
  {
   "cell_type": "code",
   "execution_count": 2,
   "metadata": {},
   "outputs": [
    {
     "ename": "NameError",
     "evalue": "name 'Chem' is not defined",
     "output_type": "error",
     "traceback": [
      "\u001b[0;31m---------------------------------------------------------------------------\u001b[0m",
      "\u001b[0;31mNameError\u001b[0m                                 Traceback (most recent call last)",
      "Cell \u001b[0;32mIn[2], line 1\u001b[0m\n\u001b[0;32m----> 1\u001b[0m m \u001b[38;5;241m=\u001b[39m Chem\u001b[38;5;241m.\u001b[39mMolFromSmiles(\u001b[38;5;124m'\u001b[39m\u001b[38;5;124m[H][C@]12CN([C@H](C(=O)N[C@@H](C[C@]3([H])CCNC3=O)C#N)[C@@]1([H])C2(C)C)C(=O)[C@@H](NC(=O)C(F)(F)F)C(C)(C)C\u001b[39m\u001b[38;5;124m'\u001b[39m)\n\u001b[1;32m      2\u001b[0m m\u001b[38;5;241m.\u001b[39mSetProp(\u001b[38;5;124m'\u001b[39m\u001b[38;5;124m_Name\u001b[39m\u001b[38;5;124m'\u001b[39m,\u001b[38;5;124m'\u001b[39m\u001b[38;5;124mNirmatrelvir\u001b[39m\u001b[38;5;124m'\u001b[39m)\n\u001b[1;32m      3\u001b[0m \u001b[38;5;28mprint\u001b[39m(Chem\u001b[38;5;241m.\u001b[39mMolToMolBlock(m))\n",
      "\u001b[0;31mNameError\u001b[0m: name 'Chem' is not defined"
     ]
    }
   ],
   "source": [
    "m = Chem.MolFromSmiles('[H][C@]12CN([C@H](C(=O)N[C@@H](C[C@]3([H])CCNC3=O)C#N)[C@@]1([H])C2(C)C)C(=O)[C@@H](NC(=O)C(F)(F)F)C(C)(C)C')\n",
    "m.SetProp('_Name','Nirmatrelvir')\n",
    "print(Chem.MolToMolBlock(m))"
   ]
  },
  {
   "cell_type": "code",
   "execution_count": 3,
   "metadata": {},
   "outputs": [
    {
     "ename": "ModuleNotFoundError",
     "evalue": "No module named 'rdkit'",
     "output_type": "error",
     "traceback": [
      "\u001b[0;31m---------------------------------------------------------------------------\u001b[0m",
      "\u001b[0;31mModuleNotFoundError\u001b[0m                       Traceback (most recent call last)",
      "Cell \u001b[0;32mIn[3], line 1\u001b[0m\n\u001b[0;32m----> 1\u001b[0m \u001b[38;5;28;01mfrom\u001b[39;00m \u001b[38;5;21;01mrdkit\u001b[39;00m\u001b[38;5;21;01m.\u001b[39;00m\u001b[38;5;21;01mChem\u001b[39;00m \u001b[38;5;28;01mimport\u001b[39;00m AllChem\n\u001b[1;32m      2\u001b[0m \u001b[38;5;28;01mfrom\u001b[39;00m \u001b[38;5;21;01mIPython\u001b[39;00m\u001b[38;5;21;01m.\u001b[39;00m\u001b[38;5;21;01mdisplay\u001b[39;00m \u001b[38;5;28;01mimport\u001b[39;00m display, Image, SVG\n\u001b[1;32m      4\u001b[0m m2 \u001b[38;5;241m=\u001b[39m Chem\u001b[38;5;241m.\u001b[39mAddHs(m)\n",
      "\u001b[0;31mModuleNotFoundError\u001b[0m: No module named 'rdkit'"
     ]
    }
   ],
   "source": [
    "from rdkit.Chem import AllChem\n",
    "from IPython.display import display, Image, SVG\n",
    "\n",
    "m2 = Chem.AddHs(m)\n",
    "AllChem.EmbedMolecule(m2)\n",
    "Chem.MolToPDBFile(m2,'data/nirmatrelvir.pdb')\n",
    "fig2D='images/nirmatrelvir2D.png'\n",
    "fig3D='images/nirmatrelvir3D.png'\n",
    "Chem.Draw.MolToFile(m,fig2D)\n",
    "Chem.Draw.MolToFile(m2,fig3D)\n",
    "\n",
    "display(Image(filename=fig2D))\n",
    "display(Image(filename=fig3D))"
   ]
  },
  {
   "cell_type": "code",
   "execution_count": 4,
   "metadata": {},
   "outputs": [
    {
     "ename": "NameError",
     "evalue": "name 'Chem' is not defined",
     "output_type": "error",
     "traceback": [
      "\u001b[0;31m---------------------------------------------------------------------------\u001b[0m",
      "\u001b[0;31mNameError\u001b[0m                                 Traceback (most recent call last)",
      "Cell \u001b[0;32mIn[4], line 1\u001b[0m\n\u001b[0;32m----> 1\u001b[0m mol \u001b[38;5;241m=\u001b[39m Chem\u001b[38;5;241m.\u001b[39mMolFromInchi(\u001b[38;5;124m\"\u001b[39m\u001b[38;5;124mInChI=1S/C6H6O2/c1-5(7)6-3-2-4-8-6/h2-4H,1H3\u001b[39m\u001b[38;5;124m\"\u001b[39m)\n\u001b[1;32m      2\u001b[0m furan_smarts \u001b[38;5;241m=\u001b[39m \u001b[38;5;124m\"\u001b[39m\u001b[38;5;124mo1cccc1\u001b[39m\u001b[38;5;124m\"\u001b[39m\n\u001b[1;32m      3\u001b[0m furan \u001b[38;5;241m=\u001b[39m Chem\u001b[38;5;241m.\u001b[39mMolFromSmarts(furan_smarts)\n",
      "\u001b[0;31mNameError\u001b[0m: name 'Chem' is not defined"
     ]
    }
   ],
   "source": [
    "mol = Chem.MolFromInchi(\"InChI=1S/C6H6O2/c1-5(7)6-3-2-4-8-6/h2-4H,1H3\")\n",
    "furan_smarts = \"o1cccc1\"\n",
    "furan = Chem.MolFromSmarts(furan_smarts)\n",
    "Chem.Mol.GetSubstructMatches(mol, furan, uniquify=True)"
   ]
  },
  {
   "cell_type": "code",
   "execution_count": 5,
   "metadata": {},
   "outputs": [
    {
     "ename": "ModuleNotFoundError",
     "evalue": "No module named 'rdkit'",
     "output_type": "error",
     "traceback": [
      "\u001b[0;31m---------------------------------------------------------------------------\u001b[0m",
      "\u001b[0;31mModuleNotFoundError\u001b[0m                       Traceback (most recent call last)",
      "Cell \u001b[0;32mIn[5], line 3\u001b[0m\n\u001b[1;32m      1\u001b[0m \u001b[38;5;28;01mimport\u001b[39;00m \u001b[38;5;21;01msys\u001b[39;00m\n\u001b[1;32m      2\u001b[0m \u001b[38;5;28;01mimport\u001b[39;00m \u001b[38;5;21;01mos\u001b[39;00m\n\u001b[0;32m----> 3\u001b[0m \u001b[38;5;28;01mfrom\u001b[39;00m \u001b[38;5;21;01mrdkit\u001b[39;00m \u001b[38;5;28;01mimport\u001b[39;00m RDPaths\n\u001b[1;32m      5\u001b[0m sys\u001b[38;5;241m.\u001b[39mpath\u001b[38;5;241m.\u001b[39minsert(\u001b[38;5;241m0\u001b[39m, \u001b[38;5;124m'\u001b[39m\u001b[38;5;124m./utils/\u001b[39m\u001b[38;5;124m'\u001b[39m)\n\u001b[1;32m      7\u001b[0m \u001b[38;5;28;01mimport\u001b[39;00m \u001b[38;5;21;01mifg\u001b[39;00m  \u001b[38;5;66;03m#  implementation of Eartl search for Functional Groups\u001b[39;00m\n",
      "\u001b[0;31mModuleNotFoundError\u001b[0m: No module named 'rdkit'"
     ]
    }
   ],
   "source": [
    "import sys\n",
    "import os\n",
    "from rdkit import RDPaths\n",
    "\n",
    "sys.path.insert(0, './utils/')\n",
    "\n",
    "import ifg  #  implementation of Eartl search for Functional Groups\n",
    "ifg_path = os.path.join(RDPaths.RDContribDir, 'IFG')\n",
    "if os.path.exists(ifg_path):\n",
    "    sys.path.append(ifg_path)\n",
    "\n",
    "def map_fgs(mol):\n",
    "    atoms = list(mol.GetAtoms())\n",
    "    for atom in atoms:\n",
    "        atom.SetProp(\"IFG_TYPE\", \"\")\n",
    "    fgs = ifg.identify_functional_groups(mol)\n",
    "    for fg in fgs:\n",
    "        for atmid in fg.atomIds:\n",
    "            atom = mol.GetAtomWithIdx(atmid)\n",
    "            atom.SetProp('IFG_TYPE', fg.type)\n",
    "    return mol \n",
    "\n",
    "map_fgs(m)\n",
    "res = set() \n",
    "for atom in m.GetAtoms(): \n",
    "    res.add(atom.GetProp('IFG_TYPE'))\n",
    "\n",
    "print(res)\n",
    "\n"
   ]
  },
  {
   "cell_type": "code",
   "execution_count": 6,
   "metadata": {},
   "outputs": [
    {
     "ename": "ModuleNotFoundError",
     "evalue": "No module named 'rdkit'",
     "output_type": "error",
     "traceback": [
      "\u001b[0;31m---------------------------------------------------------------------------\u001b[0m",
      "\u001b[0;31mModuleNotFoundError\u001b[0m                       Traceback (most recent call last)",
      "Cell \u001b[0;32mIn[6], line 1\u001b[0m\n\u001b[0;32m----> 1\u001b[0m \u001b[38;5;28;01mfrom\u001b[39;00m \u001b[38;5;21;01mrdkit\u001b[39;00m \u001b[38;5;28;01mimport\u001b[39;00m Chem\n\u001b[1;32m      2\u001b[0m \u001b[38;5;28;01mfrom\u001b[39;00m \u001b[38;5;21;01mrdkit\u001b[39;00m\u001b[38;5;21;01m.\u001b[39;00m\u001b[38;5;21;01mChem\u001b[39;00m\u001b[38;5;21;01m.\u001b[39;00m\u001b[38;5;21;01mDraw\u001b[39;00m \u001b[38;5;28;01mimport\u001b[39;00m IPythonConsole\n\u001b[1;32m      3\u001b[0m \u001b[38;5;28;01mfrom\u001b[39;00m \u001b[38;5;21;01mrdkit\u001b[39;00m\u001b[38;5;21;01m.\u001b[39;00m\u001b[38;5;21;01mChem\u001b[39;00m \u001b[38;5;28;01mimport\u001b[39;00m rdDepictor\n",
      "\u001b[0;31mModuleNotFoundError\u001b[0m: No module named 'rdkit'"
     ]
    }
   ],
   "source": [
    "from rdkit import Chem\n",
    "from rdkit.Chem.Draw import IPythonConsole\n",
    "from rdkit.Chem import rdDepictor\n",
    "from rdkit.Chem.Draw import rdMolDraw2D\n",
    "from IPython.display import SVG\n",
    "from copy import deepcopy\n",
    "\n",
    "\n",
    "def increase_resolution(mol, substructure, size=(400, 200), kekulize=True):\n",
    "    mol = deepcopy(mol)\n",
    "    substructure = deepcopy(substructure)\n",
    "    rdDepictor.Compute2DCoords(mol)\n",
    "    if kekulize:\n",
    "        Chem.Kekulize(mol)  # Localize the benzene ring bonds\n",
    "\n",
    "    drawer = rdMolDraw2D.MolDraw2DSVG(size[0], size[1])\n",
    "\n",
    "    # highlightAtoms expects only one tuple, not tuple of tuples. So it needs to be merged into a single tuple\n",
    "    matches = sum(mol.GetSubstructMatches(substructure), ())\n",
    "    drawer.DrawMolecule(mol, highlightAtoms=matches)\n",
    "\n",
    "    drawer.FinishDrawing()\n",
    "    svg = drawer.GetDrawingText()\n",
    "    return svg.replace('svg:', '')\n",
    "\n",
    "\n",
    "def save_svg(svg, filepath):\n",
    "    \"\"\"\n",
    "    Save svg content in filepath\n",
    "\n",
    "    :param str  svg:        SVG content\n",
    "    :param str  filepath:   Path of the SVG file to save\n",
    "    :return:\n",
    "    \"\"\"\n",
    "    \n",
    "    file_handle = open(filepath, 'w')\n",
    "    file_handle.write(svg)\n",
    "    file_handle.close()\n",
    "\n",
    "for fg in res:\n",
    "    patt = Chem.MolFromSmarts(fg)\n",
    "    fig=increase_resolution(m, patt, kekulize=True)\n",
    "    print(fg)\n",
    "    display(SVG(fig))\n",
    "    save_svg(fig,'images/frag'+fg+'.svg')\n"
   ]
  },
  {
   "cell_type": "code",
   "execution_count": 7,
   "metadata": {},
   "outputs": [
    {
     "ename": "ModuleNotFoundError",
     "evalue": "No module named 'rdkit'",
     "output_type": "error",
     "traceback": [
      "\u001b[0;31m---------------------------------------------------------------------------\u001b[0m",
      "\u001b[0;31mModuleNotFoundError\u001b[0m                       Traceback (most recent call last)",
      "Cell \u001b[0;32mIn[7], line 2\u001b[0m\n\u001b[1;32m      1\u001b[0m \u001b[38;5;28;01mimport\u001b[39;00m \u001b[38;5;21;01mos\u001b[39;00m\n\u001b[0;32m----> 2\u001b[0m \u001b[38;5;28;01mfrom\u001b[39;00m \u001b[38;5;21;01mrdkit\u001b[39;00m\u001b[38;5;21;01m.\u001b[39;00m\u001b[38;5;21;01mChem\u001b[39;00m \u001b[38;5;28;01mimport\u001b[39;00m RDConfig\n\u001b[1;32m      3\u001b[0m \u001b[38;5;28;01mfrom\u001b[39;00m \u001b[38;5;21;01mrdkit\u001b[39;00m\u001b[38;5;21;01m.\u001b[39;00m\u001b[38;5;21;01mChem\u001b[39;00m \u001b[38;5;28;01mimport\u001b[39;00m FunctionalGroups\n\u001b[1;32m      4\u001b[0m fName \u001b[38;5;241m=\u001b[39m os\u001b[38;5;241m.\u001b[39mpath\u001b[38;5;241m.\u001b[39mjoin(RDConfig\u001b[38;5;241m.\u001b[39mRDDataDir, \u001b[38;5;124m'\u001b[39m\u001b[38;5;124mFunctionalGroups.txt\u001b[39m\u001b[38;5;124m'\u001b[39m)\n",
      "\u001b[0;31mModuleNotFoundError\u001b[0m: No module named 'rdkit'"
     ]
    }
   ],
   "source": [
    "import os\n",
    "from rdkit.Chem import RDConfig\n",
    "from rdkit.Chem import FunctionalGroups\n",
    "fName = os.path.join(RDConfig.RDDataDir, 'FunctionalGroups.txt')\n",
    "print(fName)\n",
    "catparams =FunctionalGroups.BuildFuncGroupHierarchy(fileNm=fName)\n",
    "for param in catparams:\n",
    "    print(param.name)\n",
    "    param.pattern.UpdatePropertyCache(strict=False)\n",
    "    Chem.FastFindRings(param.pattern)\n",
    "    Chem.SetHybridization(param.pattern)\n",
    "    display(param.pattern)\n"
   ]
  }
 ],
 "metadata": {
  "kernelspec": {
   "display_name": "Python 3 (ipykernel)",
   "language": "python",
   "name": "python3"
  },
  "language_info": {
   "codemirror_mode": {
    "name": "ipython",
    "version": 3
   },
   "file_extension": ".py",
   "mimetype": "text/x-python",
   "name": "python",
   "nbconvert_exporter": "python",
   "pygments_lexer": "ipython3",
   "version": "3.11.5"
  },
  "vscode": {
   "interpreter": {
    "hash": "f20536e4cfa9d2c9310ab6b347ad8ae394bff0d32c0c453d594a50acf7f3a8f9"
   }
  }
 },
 "nbformat": 4,
 "nbformat_minor": 2
}