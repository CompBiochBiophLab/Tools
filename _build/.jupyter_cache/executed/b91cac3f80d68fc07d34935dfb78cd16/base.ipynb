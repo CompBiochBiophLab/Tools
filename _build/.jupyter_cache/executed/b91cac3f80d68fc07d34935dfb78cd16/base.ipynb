{
 "cells": [
  {
   "cell_type": "code",
   "execution_count": 1,
   "metadata": {},
   "outputs": [
    {
     "name": "stdout",
     "output_type": "stream",
     "text": [
      "{\"source\":\"ensembl_havana\",\"end\":100599885,\"start\":100584936,\"strand\":1,\"db_type\":\"core\",\"object_type\":\"Gene\",\"display_name\":\"TNMD\",\"seq_region_name\":\"X\",\"version\":6,\"id\":\"ENSG00000000005\",\"assembly_name\":\"GRCh38\",\"Transcript\":[{\"logic_name\":\"ensembl_havana_transcript_homo_sapiens\",\"Parent\":\"ENSG00000000005\",\"biotype\":\"protein_coding\",\"assembly_name\":\"GRCh38\",\"species\":\"homo_sapiens\",\"Exon\":[{\"strand\":1,\"start\":100584936,\"db_type\":\"core\",\"species\":\"homo_sapiens\",\"assembly_name\":\"GRCh38\",\"end\":100585066,\"seq_region_name\":\"X\",\"version\":5,\"id\":\"ENSE00001459371\",\"object_type\":\"Exon\"},{\"end\":100585362,\"assembly_name\":\"GRCh38\",\"db_type\":\"core\",\"species\":\"homo_sapiens\",\"start\":100585231,\"strand\":1,\"object_type\":\"Exon\",\"version\":1,\"id\":\"ENSE00000401061\",\"seq_region_name\":\"X\"},{\"version\":1,\"id\":\"ENSE00000673400\",\"seq_region_name\":\"X\",\"object_type\":\"Exon\",\"db_type\":\"core\",\"species\":\"homo_sapiens\",\"strand\":1,\"start\":100593895,\"end\":100594035,\"assembly_name\":\"GRCh38\"},{\"db_type\":\"core\",\"species\":\"homo_sapiens\",\"start\":100594261,\"strand\":1,\"end\":100594362,\"assembly_name\":\"GRCh38\",\"version\":1,\"id\":\"ENSE00003504197\",\"seq_region_name\":\"X\",\"object_type\":\"Exon\"},{\"species\":\"homo_sapiens\",\"db_type\":\"core\",\"strand\":1,\"start\":100597504,\"end\":100597657,\"assembly_name\":\"GRCh38\",\"version\":1,\"id\":\"ENSE00000673403\",\"seq_region_name\":\"X\",\"object_type\":\"Exon\"},{\"object_type\":\"Exon\",\"version\":1,\"id\":\"ENSE00000868865\",\"seq_region_name\":\"X\",\"end\":100599182,\"assembly_name\":\"GRCh38\",\"db_type\":\"core\",\"species\":\"homo_sapiens\",\"start\":100599016,\"strand\":1},{\"version\":4,\"id\":\"ENSE00001459358\",\"seq_region_name\":\"X\",\"object_type\":\"Exon\",\"species\":\"homo_sapiens\",\"db_type\":\"core\",\"strand\":1,\"start\":100599508,\"end\":100599885,\"assembly_name\":\"GRCh38\"}],\"is_canonical\":1,\"object_type\":\"Transcript\",\"display_name\":\"TNMD-201\",\"seq_region_name\":\"X\",\"version\":5,\"id\":\"ENST00000373031\",\"source\":\"ensembl_havana\",\"end\":100599885,\"strand\":1,\"start\":100584936,\"db_type\":\"core\",\"Translation\":{\"end\":100599717,\"start\":100585019,\"db_type\":\"core\",\"species\":\"homo_sapiens\",\"Parent\":\"ENST00000373031\",\"object_type\":\"Translation\",\"length\":317,\"version\":4,\"id\":\"ENSP00000362122\"}},{\"Exon\":[{\"end\":100594035,\"assembly_name\":\"GRCh38\",\"species\":\"homo_sapiens\",\"db_type\":\"core\",\"strand\":1,\"start\":100593624,\"object_type\":\"Exon\",\"version\":1,\"id\":\"ENSE00001952391\",\"seq_region_name\":\"X\"},{\"assembly_name\":\"GRCh38\",\"end\":100594362,\"strand\":1,\"start\":100594261,\"db_type\":\"core\",\"species\":\"homo_sapiens\",\"object_type\":\"Exon\",\"seq_region_name\":\"X\",\"version\":1,\"id\":\"ENSE00003639486\"},{\"object_type\":\"Exon\",\"version\":1,\"id\":\"ENSE00001881546\",\"seq_region_name\":\"X\",\"end\":100597531,\"assembly_name\":\"GRCh38\",\"db_type\":\"core\",\"species\":\"homo_sapiens\",\"strand\":1,\"start\":100597504}],\"species\":\"homo_sapiens\",\"assembly_name\":\"GRCh38\",\"biotype\":\"protein_coding_CDS_not_defined\",\"Parent\":\"ENSG00000000005\",\"logic_name\":\"havana_homo_sapiens\",\"db_type\":\"core\",\"start\":100593624,\"strand\":1,\"end\":100597531,\"source\":\"havana\",\"version\":1,\"id\":\"ENST00000485971\",\"seq_region_name\":\"X\",\"display_name\":\"TNMD-202\",\"object_type\":\"Transcript\",\"is_canonical\":0}],\"species\":\"homo_sapiens\",\"logic_name\":\"ensembl_havana_gene_homo_sapiens\",\"canonical_transcript\":\"ENST00000373031.5\",\"biotype\":\"protein_coding\",\"description\":\"tenomodulin [Source:HGNC Symbol;Acc:HGNC:17757]\"}\n",
      "Gene name for Ensembl ENSG00000000005: TNMD\n"
     ]
    }
   ],
   "source": [
    "import requests\n",
    "import json\n",
    "\n",
    "def get_gene_name_from_ensembl_code(ensembl_code):\n",
    "    # Ensembl REST API URL to get gene info from Ensembl code\n",
    "    url = f\"https://rest.ensembl.org/lookup/id/{ensembl_code}?expand=1\"\n",
    "\n",
    "    # Send a GET request to Ensembl REST API and obtain a json file\n",
    "    response = requests.get(url, headers={\"Content-Type\": \"application/json\"})\n",
    "    print(response.text)  \n",
    "\n",
    "    # Check if the request is successful and process the response\n",
    "    if response.status_code == 200:\n",
    "        data = json.loads(response.text)\n",
    "        if \"display_name\" in data:    # this can be adapted to display any other information in the json file\n",
    "            gene_name = data[\"display_name\"]  \n",
    "            return gene_name\n",
    "\n",
    "    return None\n",
    "\n",
    "# Example of use for a single gene (looping thorough a list of IDs is trivial)\n",
    "ensembl_code = 'ENSG00000000005'\n",
    "gene_name = get_gene_name_from_ensembl_code(ensembl_code)\n",
    "\n",
    "if gene_name:\n",
    "    print(f\"Gene name for Ensembl {ensembl_code}: {gene_name}\")\n",
    "else:\n",
    "    print(f\"No gene name found for Ensembl {ensembl_code}\")\n"
   ]
  }
 ],
 "metadata": {
  "kernelspec": {
   "display_name": "RNATools",
   "language": "python",
   "name": "python3"
  },
  "language_info": {
   "codemirror_mode": {
    "name": "ipython",
    "version": 3
   },
   "file_extension": ".py",
   "mimetype": "text/x-python",
   "name": "python",
   "nbconvert_exporter": "python",
   "pygments_lexer": "ipython3",
   "version": "3.11.4"
  }
 },
 "nbformat": 4,
 "nbformat_minor": 2
}