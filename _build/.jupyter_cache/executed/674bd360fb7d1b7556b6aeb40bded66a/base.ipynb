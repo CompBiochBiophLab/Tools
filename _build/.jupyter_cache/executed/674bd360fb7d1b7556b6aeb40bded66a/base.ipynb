{
 "cells": [
  {
   "cell_type": "code",
   "execution_count": 1,
   "metadata": {},
   "outputs": [
    {
     "ename": "ModuleNotFoundError",
     "evalue": "No module named 'wget'",
     "output_type": "error",
     "traceback": [
      "\u001b[0;31m---------------------------------------------------------------------------\u001b[0m",
      "\u001b[0;31mModuleNotFoundError\u001b[0m                       Traceback (most recent call last)",
      "Cell \u001b[0;32mIn[1], line 1\u001b[0m\n\u001b[0;32m----> 1\u001b[0m \u001b[38;5;28;01mimport\u001b[39;00m \u001b[38;5;21;01mwget\u001b[39;00m\n\u001b[1;32m      3\u001b[0m \u001b[38;5;28;01mdef\u001b[39;00m \u001b[38;5;21mdownload_data\u001b[39m(\u001b[38;5;28mdir\u001b[39m\u001b[38;5;241m=\u001b[39m\u001b[38;5;124m\"\u001b[39m\u001b[38;5;124m~/Data\u001b[39m\u001b[38;5;124m\"\u001b[39m):\n\u001b[1;32m      4\u001b[0m \u001b[38;5;250m    \u001b[39m\u001b[38;5;124;03m\"\"\"\u001b[39;00m\n\u001b[1;32m      5\u001b[0m \u001b[38;5;124;03m    dir: directory were to store the file\u001b[39;00m\n\u001b[1;32m      6\u001b[0m \u001b[38;5;124;03m    \"\"\"\u001b[39;00m\n",
      "\u001b[0;31mModuleNotFoundError\u001b[0m: No module named 'wget'"
     ]
    }
   ],
   "source": [
    "import wget\n",
    "\n",
    "def download_data(dir=\"~/Data\"):\n",
    "    \"\"\"\n",
    "    dir: directory were to store the file\n",
    "    \"\"\"\n",
    "    dir = os.path.expanduser(dir)\n",
    "    if not os.path.exists(dir):\n",
    "        os.makedirs(dir)\n",
    "\n",
    "    site_url = 'ftp://ftp.ebi.ac.uk/pub/databases/intact/current/psi30/pmidMIF30.zip'\n",
    "    print('\\n downloading '+site_url+\" into \"+dir)\n",
    "    file_name = wget.download(url=site_url,out=dir)\n",
    "    print(file_name)\n",
    "\n",
    "download_data()"
   ]
  }
 ],
 "metadata": {
  "interpreter": {
   "hash": "9a686d8fa5c806e587d79eda2f7546a80313571d3e737cbf1931317e7351e5c0"
  },
  "kernelspec": {
   "display_name": "Python 3.10.4 ('bioinfo')",
   "language": "python",
   "name": "python3"
  },
  "language_info": {
   "codemirror_mode": {
    "name": "ipython",
    "version": 3
   },
   "file_extension": ".py",
   "mimetype": "text/x-python",
   "name": "python",
   "nbconvert_exporter": "python",
   "pygments_lexer": "ipython3",
   "version": "3.11.5"
  }
 },
 "nbformat": 4,
 "nbformat_minor": 2
}