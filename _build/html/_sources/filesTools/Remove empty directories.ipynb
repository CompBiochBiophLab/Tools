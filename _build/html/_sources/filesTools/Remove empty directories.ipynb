{
 "cells": [
  {
   "cell_type": "code",
   "execution_count": null,
   "metadata": {},
   "outputs": [],
   "source": [
    "import os\n",
    "counter=1\n",
    "def remove_empty_dirs(path,excludes):\n",
    "    \"\"\"recursive function that checks all subdirs in a dir and removes them if empty\"\"\"\n",
    "    global counter\n",
    "    contents=os.listdir(path)\n",
    "#    print contents\n",
    "    for element in contents:\n",
    "        entity=path+\"/\"+element\n",
    "        if element not in excludes:\n",
    "            if os.path.isdir(entity):\n",
    "                try:\n",
    "                    os.rmdir(entity)\n",
    "                except:\n",
    "#                    print entity+\" does not appear to be empty. Let us look inside\"\n",
    "                    remove_empty_dirs(entity,excludes)\n",
    "                else:\n",
    "                    print(entity+\" has been successfully removed\")\n",
    "                    counter+=1\n",
    "        else:\n",
    "            print(entity + \" skipped\")\n",
    "    return\n",
    "\n",
    "excludes=[\".svn\",\"CVS\"]\n",
    "homepath=\"/Users/whoever/whatever\"\n",
    "first = True\n",
    "while counter == 0 or first==True:\n",
    "    first=False\n",
    "    remove_empty_dirs(homepath,excludes)\n",
    "    print(\"%d directories have been removed\" % counter)\n"
   ]
  },
  {
   "cell_type": "code",
   "execution_count": null,
   "metadata": {},
   "outputs": [],
   "source": []
  }
 ],
 "metadata": {
  "kernelspec": {
   "display_name": "Python 3",
   "language": "python",
   "name": "python3"
  },
  "language_info": {
   "codemirror_mode": {
    "name": "ipython",
    "version": 3
   },
   "file_extension": ".py",
   "mimetype": "text/x-python",
   "name": "python",
   "nbconvert_exporter": "python",
   "pygments_lexer": "ipython3",
   "version": "3.8.5"
  }
 },
 "nbformat": 4,
 "nbformat_minor": 4
}
