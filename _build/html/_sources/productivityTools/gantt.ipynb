{
  "cells": [
    {
      "cell_type": "markdown",
      "metadata": {},
      "source": [
        " # Creating a GANTT chart from a CSV file "
      ]
    },
    {
      "cell_type": "code",
      "metadata": {},
      "source": [
        "import matplotlib.pyplot as plt\n",
        "import matplotlib.dates as mdates\n",
        "from datetime import datetime\n",
        "from dateutil.relativedelta import relativedelta\n",
        "import argparse\n",
        "import pandas as pd\n",
        "from pathlib import Path\n",
        "\n",
        "homedir=str(Path.home())"
      ],
      "outputs": [],
      "execution_count": null
    },
    {
      "cell_type": "code",
      "metadata": {},
      "source": [
        "def read_tasks_from_csv(file_path):\n",
        "    \"\"\"     \n",
        "    function that parses the CSV file containing the info. An example of a file can be found\n",
        "    in the same folder: tasks.csv\n",
        "    \"\"\"\n",
        "    df = pd.read_csv(file_path)\n",
        "    df.drop(df[df['delete'] == '#'].index, inplace=True)            # remove rows that have been explicitly deleted with\n",
        "                                                                    # the sign # in the CSV\n",
        "    for i, row in df.iterrows():\n",
        "        df.at[i,'start'] = datetime.strptime(row['start'], '%Y-%m-%d')\n",
        "        df.at[i,'end'] = datetime.strptime(row['end'], '%Y-%m-%d')\n",
        "        df.at[i,'people_responsible'] = row['people_responsible'].split(',')\n",
        "        df.at[i,'is_milestone'] = bool(int(row['is_milestone']))\n",
        "    return df\n",
        "\n",
        "def create_gantt_chart(tasks,months):\n",
        "    \"\"\"\n",
        "    function that makes use of horizontal bar charts from matplotlib to build the GANTT\n",
        "    The result can be exported as a pop up plot or saved as a figure.\n",
        "    In this example, the figure is saved in PNG format in the wallpapers folder in Pictures, in order \n",
        "    to be used as background in your computer\n",
        "    \"\"\"\n",
        "    # general setup for the plot\n",
        "    plt.rcParams['figure.constrained_layout.use'] = True\n",
        "    plt.rcParams['figure.figsize'] = 16, 9\n",
        "    plt.rcParams[\"axes.edgecolor\"] = \"black\"\n",
        "    plt.rcParams[\"axes.linewidth\"] = 1\n",
        "    #plt.rcParams[\"figure.facecolor\"] = \"yellow\"\n",
        "    #plt.rcParams[\"axes.facecolor\"] = \"blue\"\n",
        "\n",
        "    fig, ax = plt.subplots() \n",
        "    xfmt = mdates.DateFormatter('%Y-%m-%d')\n",
        "    ax.xaxis.set_major_formatter(xfmt)\n",
        "    ax.yaxis.tick_right()\n",
        "    ax.set_xticks(tasks['end'])\n",
        "  \n",
        "    current_date = datetime.now().date()\n",
        "    max_end = current_date+relativedelta(months=months)\n",
        "\n",
        "    # Set the labels and ticks for y-axis\n",
        "    labels = tasks['name']\n",
        "    ax.set_yticks(range(5, len(labels) * 10 + 5, 10))\n",
        "    ax.set_yticklabels(labels)\n",
        "    ax.invert_yaxis()\n",
        "    ax.set_xlim(current_date, max_end)\n",
        "    ax.set_xlabel('End date')\n",
        "    ax.set_title('Projects Schedule')\n",
        "    ax.spines['top'].set_visible(False)\n",
        "    ax.spines['right'].set_visible(False)\n",
        "    ax.spines['bottom'].set_visible(False)\n",
        "    ax.spines['left'].set_visible(False)\n",
        "    plt.xticks(rotation=90)\n",
        "    ax.grid(True)\n",
        "\n",
        "    # Plot the bars for each task and milestone\n",
        "    for i, task in tasks.iterrows():\n",
        "    \n",
        "        edgecolor = 'black'\n",
        "        if task['type'] == 'CALL':\n",
        "            color = 'red'\n",
        "        elif task['type'] == 'TEACH':\n",
        "            color = 'blue'\n",
        "        elif task['type'] == 'IRIS-CC':\n",
        "            color = 'brown'\n",
        "        elif task['type'] == 'RESEARCH':\n",
        "            color = 'green'\n",
        "        else:\n",
        "            color = 'brown'\n",
        "\n",
        "        start = task['start'].date()\n",
        "        if task['start'].date() < current_date and task['end'].date() > current_date:\n",
        "            # Tasca ja comen\u00e7ada\n",
        "            start = current_date\n",
        "        elif task['is_milestone']:\n",
        "            print('found milestone for task:',task)\n",
        "            color = 'black'\n",
        "        \n",
        "        # some warnings\n",
        "        if task['end'].date() == current_date + relativedelta(days=1):\n",
        "            print ('WARNING: task ',task,' ends TOMORROW!!')\n",
        "        elif task['end'].date() == current_date:\n",
        "            print ('WARNING: task ',task,' ends TODAY!!')\n",
        "\n",
        "        duration = task['end'].date() - start\n",
        "\n",
        "        # plot each horizontal bar and the label       \n",
        "        ax.barh(i * 10 + 5, duration, left=start, height=8, align='center', edgecolor=edgecolor, color=color, alpha=0.8)\n",
        "        people = ', '.join(task['people_responsible'])\n",
        "        ax.text(start, i * 10 + 5, people, ha='right', va='center')\n",
        "\n",
        "    fig.savefig(homedir+'/Pictures/Wallpapers/gantt.png') # convenient to have it as wallpaper\n",
        "    #plt.show()"
      ],
      "outputs": [],
      "execution_count": null
    },
    {
      "cell_type": "markdown",
      "metadata": {},
      "source": [
        "  parse arguments "
      ]
    },
    {
      "cell_type": "code",
      "metadata": {},
      "source": [
        "parser = argparse.ArgumentParser(description='Generate Gantt chart from CSV file') # Crear un objecte ArgumentParser\n",
        "parser.add_argument('-c','--csvfile', type=str, help='Path to the CSV file',required=True) # Afegir l'argument per al cam\u00ed del fitxer CSV\n",
        "parser.add_argument('-m','--months', type=int, help='Number of months to visualize',default=2) # Afegir l'argument per al cam\u00ed del fitxer CSV\n",
        "args = parser.parse_args() \n",
        "csv_file_path = args.csvfile \n",
        "months = args.months"
      ],
      "outputs": [],
      "execution_count": null
    },
    {
      "cell_type": "markdown",
      "metadata": {},
      "source": [
        " read the file and build the gantt "
      ]
    },
    {
      "cell_type": "code",
      "metadata": {},
      "source": [
        "tasks = read_tasks_from_csv(csv_file_path)\n",
        "create_gantt_chart(tasks,months)\n"
      ],
      "outputs": [],
      "execution_count": null
    }
  ],
  "metadata": {
    "anaconda-cloud": {},
    "kernelspec": {
      "display_name": "Python 3",
      "language": "python",
      "name": "python3"
    },
    "language_info": {
      "codemirror_mode": {
        "name": "ipython",
        "version": 3
      },
      "file_extension": ".py",
      "mimetype": "text/x-python",
      "name": "python",
      "nbconvert_exporter": "python",
      "pygments_lexer": "ipython3",
      "version": "3.6.1"
    }
  },
  "nbformat": 4,
  "nbformat_minor": 4
}