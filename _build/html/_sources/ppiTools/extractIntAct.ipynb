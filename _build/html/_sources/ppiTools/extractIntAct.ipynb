{
 "cells": [
  {
   "cell_type": "markdown",
   "metadata": {},
   "source": [
    "1. download intact database"
   ]
  },
  {
   "cell_type": "code",
   "execution_count": 3,
   "metadata": {},
   "outputs": [
    {
     "name": "stdout",
     "output_type": "stream",
     "text": [
      "pmidMIF30.zip\n"
     ]
    }
   ],
   "source": [
    "import wget\n",
    "\n",
    "def download_data(dir=\"~/Data\"):\n",
    "    \"\"\"\n",
    "    dir: directory were to store the file\n",
    "    \"\"\"\n",
    "    dir = os.path.expanduser(dir)\n",
    "    if not os.path.exists(dir):\n",
    "        os.makedirs(dir)\n",
    "\n",
    "    site_url = 'ftp://ftp.ebi.ac.uk/pub/databases/intact/current/psi30/pmidMIF30.zip'\n",
    "    print('\\n downloading '+site_url+\" into \"+dir)\n",
    "    file_name = wget.download(url=site_url,out=dir)\n",
    "    print(file_name)\n",
    "\n",
    "download_data()"
   ]
  }
 ],
 "metadata": {
  "interpreter": {
   "hash": "9a686d8fa5c806e587d79eda2f7546a80313571d3e737cbf1931317e7351e5c0"
  },
  "kernelspec": {
   "display_name": "Python 3.10.4 ('bioinfo')",
   "language": "python",
   "name": "python3"
  },
  "language_info": {
   "codemirror_mode": {
    "name": "ipython",
    "version": 3
   },
   "file_extension": ".py",
   "mimetype": "text/x-python",
   "name": "python",
   "nbconvert_exporter": "python",
   "pygments_lexer": "ipython3",
   "version": "3.10.4"
  },
  "orig_nbformat": 4
 },
 "nbformat": 4,
 "nbformat_minor": 2
}
