{
 "cells": [
  {
   "cell_type": "markdown",
   "metadata": {},
   "source": [
    "Simple script from the MDAnalysis documentation to ensure nglview works fine\n",
    "\n",
    "JVF 20/04/20\n",
    "\n",
    "Before running this you need to ensure the `nglview` widget will appear here. \n",
    "This the way it worked for me after checking forums\n",
    "\n",
    "```\n",
    "$jupyter-nbextension enable --py --user widgetsnbextension\n",
    "$jupyter-nbextension enable --py --user nglview\n",
    "```"
   ]
  },
  {
   "cell_type": "code",
   "execution_count": 2,
   "metadata": {},
   "outputs": [
    {
     "data": {
      "application/vnd.jupyter.widget-view+json": {
       "model_id": "10a7c4d8372e4dadb53417c73228805a",
       "version_major": 2,
       "version_minor": 0
      },
      "text/plain": [
       "NGLWidget(max_frame=97)"
      ]
     },
     "metadata": {},
     "output_type": "display_data"
    }
   ],
   "source": [
    "from MDAnalysis import Universe\n",
    "from MDAnalysis.tests import datafiles\n",
    "import nglview as nv\n",
    "\n",
    "u= Universe(datafiles.PSF,datafiles.DCD)\n",
    "\n",
    "view = nv.show_mdanalysis(u)\n",
    "view"
   ]
  },
  {
   "cell_type": "code",
   "execution_count": null,
   "metadata": {},
   "outputs": [],
   "source": []
  },
  {
   "cell_type": "code",
   "execution_count": null,
   "metadata": {},
   "outputs": [],
   "source": []
  }
 ],
 "metadata": {
  "kernelspec": {
   "display_name": "Python 3",
   "language": "python",
   "name": "python3"
  },
  "language_info": {
   "codemirror_mode": {
    "name": "ipython",
    "version": 3
   },
   "file_extension": ".py",
   "mimetype": "text/x-python",
   "name": "python",
   "nbconvert_exporter": "python",
   "pygments_lexer": "ipython3",
   "version": "3.7.6"
  }
 },
 "nbformat": 4,
 "nbformat_minor": 4
}
