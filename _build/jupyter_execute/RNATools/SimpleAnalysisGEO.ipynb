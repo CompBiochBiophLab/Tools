{
 "cells": [
  {
   "cell_type": "code",
   "execution_count": 1,
   "metadata": {},
   "outputs": [
    {
     "ename": "ModuleNotFoundError",
     "evalue": "No module named 'GEOparse'",
     "output_type": "error",
     "traceback": [
      "\u001b[0;31m---------------------------------------------------------------------------\u001b[0m",
      "\u001b[0;31mModuleNotFoundError\u001b[0m                       Traceback (most recent call last)",
      "Cell \u001b[0;32mIn[1], line 1\u001b[0m\n\u001b[0;32m----> 1\u001b[0m \u001b[38;5;28;01mimport\u001b[39;00m \u001b[38;5;21;01mGEOparse\u001b[39;00m\n\u001b[1;32m      2\u001b[0m \u001b[38;5;28;01mimport\u001b[39;00m \u001b[38;5;21;01mpandas\u001b[39;00m \u001b[38;5;28;01mas\u001b[39;00m \u001b[38;5;21;01mpd\u001b[39;00m\n\u001b[1;32m      4\u001b[0m gse \u001b[38;5;241m=\u001b[39m GEOparse\u001b[38;5;241m.\u001b[39mget_GEO(geo\u001b[38;5;241m=\u001b[39m\u001b[38;5;124m\"\u001b[39m\u001b[38;5;124mGSE160306\u001b[39m\u001b[38;5;124m\"\u001b[39m, destdir\u001b[38;5;241m=\u001b[39m\u001b[38;5;124m\"\u001b[39m\u001b[38;5;124mdataDownload\u001b[39m\u001b[38;5;124m\"\u001b[39m)\n",
      "\u001b[0;31mModuleNotFoundError\u001b[0m: No module named 'GEOparse'"
     ]
    }
   ],
   "source": [
    "import GEOparse\n",
    "import pandas as pd\n",
    "\n",
    "gse = GEOparse.get_GEO(geo=\"GSE160306\", destdir=\"dataDownload\")\n"
   ]
  },
  {
   "cell_type": "code",
   "execution_count": 2,
   "metadata": {},
   "outputs": [
    {
     "name": "stdout",
     "output_type": "stream",
     "text": [
      "GPL check:\n"
     ]
    },
    {
     "ename": "NameError",
     "evalue": "name 'geo' is not defined",
     "output_type": "error",
     "traceback": [
      "\u001b[0;31m---------------------------------------------------------------------------\u001b[0m",
      "\u001b[0;31mNameError\u001b[0m                                 Traceback (most recent call last)",
      "Cell \u001b[0;32mIn[2], line 2\u001b[0m\n\u001b[1;32m      1\u001b[0m \u001b[38;5;28mprint\u001b[39m(\u001b[38;5;124m\"\u001b[39m\u001b[38;5;124mGPL check:\u001b[39m\u001b[38;5;124m\"\u001b[39m)\n\u001b[0;32m----> 2\u001b[0m \u001b[38;5;28;01mfor\u001b[39;00m gpl_name, gpl \u001b[38;5;129;01min\u001b[39;00m \u001b[43mgeo\u001b[49m\u001b[38;5;241m.\u001b[39mgpls\u001b[38;5;241m.\u001b[39mitems():\n\u001b[1;32m      3\u001b[0m     \u001b[38;5;28mprint\u001b[39m(\u001b[38;5;124m\"\u001b[39m\u001b[38;5;124mName: \u001b[39m\u001b[38;5;124m\"\u001b[39m, gpl_name)\n\u001b[1;32m      4\u001b[0m     \u001b[38;5;28mprint\u001b[39m(\u001b[38;5;124m\"\u001b[39m\u001b[38;5;124mMetadata:\u001b[39m\u001b[38;5;124m\"\u001b[39m,)\n",
      "\u001b[0;31mNameError\u001b[0m: name 'geo' is not defined"
     ]
    }
   ],
   "source": [
    "print(\"GPL check:\")\n",
    "for gpl_name, gpl in geo.gpls.items():\n",
    "    print(\"Name: \", gpl_name)\n",
    "    print(\"Metadata:\",)\n",
    "    for key, value in gpl.metadata.items():\n",
    "        print(\" - %s : %s\" % (key, \", \".join(value)))\n",
    "    print(\"Table data:\",)\n",
    "    print(gpl.table.head())\n"
   ]
  },
  {
   "cell_type": "code",
   "execution_count": null,
   "metadata": {},
   "outputs": [],
   "source": [
    "print(\"GSM check:\")\n",
    "for gsm_name, gsm in geo.gsms.items():\n",
    "    print(\"Name: \", gsm_name)\n",
    "    print(\"Metadata:\",)\n",
    "    for key, value in gsm.metadata.items():\n",
    "        print(\" - %s : %s\" % (key, \", \".join(value)))\n",
    "    print (\"Table data:\",)\n",
    "    print (gsm.table.head())\n",
    "    print(gsm.columns)"
   ]
  },
  {
   "cell_type": "code",
   "execution_count": null,
   "metadata": {},
   "outputs": [],
   "source": [
    "pivoted_control_samples = gse.pivot_samples('VALUE')[controls]\n",
    "pivoted_control_samples.head()"
   ]
  }
 ],
 "metadata": {
  "kernelspec": {
   "display_name": "Python 3 (ipykernel)",
   "language": "python",
   "name": "python3"
  },
  "language_info": {
   "codemirror_mode": {
    "name": "ipython",
    "version": 3
   },
   "file_extension": ".py",
   "mimetype": "text/x-python",
   "name": "python",
   "nbconvert_exporter": "python",
   "pygments_lexer": "ipython3",
   "version": "3.10.10"
  }
 },
 "nbformat": 4,
 "nbformat_minor": 2
}