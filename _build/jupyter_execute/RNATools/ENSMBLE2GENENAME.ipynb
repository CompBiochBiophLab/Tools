{
 "cells": [
  {
   "attachments": {},
   "cell_type": "markdown",
   "metadata": {},
   "source": [
    "## Obtaining the gene name of an ENSEMBL ID"
   ]
  },
  {
   "cell_type": "code",
   "execution_count": 1,
   "metadata": {},
   "outputs": [
    {
     "name": "stdout",
     "output_type": "stream",
     "text": [
      "{\"seq_region_name\":\"X\",\"description\":\"tenomodulin [Source:HGNC Symbol;Acc:HGNC:17757]\",\"start\":100584936,\"end\":100599885,\"canonical_transcript\":\"ENST00000373031.5\",\"strand\":1,\"assembly_name\":\"GRCh38\",\"id\":\"ENSG00000000005\",\"Transcript\":[{\"version\":5,\"object_type\":\"Transcript\",\"Translation\":{\"species\":\"homo_sapiens\",\"db_type\":\"core\",\"id\":\"ENSP00000362122\",\"length\":317,\"Parent\":\"ENST00000373031\",\"start\":100585019,\"object_type\":\"Translation\",\"version\":4,\"end\":100599717},\"species\":\"homo_sapiens\",\"db_type\":\"core\",\"logic_name\":\"ensembl_havana_transcript_homo_sapiens\",\"source\":\"ensembl_havana\",\"display_name\":\"TNMD-201\",\"is_canonical\":1,\"biotype\":\"protein_coding\",\"start\":100584936,\"end\":100599885,\"Exon\":[{\"end\":100585066,\"object_type\":\"Exon\",\"start\":100584936,\"version\":5,\"seq_region_name\":\"X\",\"id\":\"ENSE00001459371\",\"strand\":1,\"assembly_name\":\"GRCh38\",\"db_type\":\"core\",\"species\":\"homo_sapiens\"},{\"seq_region_name\":\"X\",\"end\":100585362,\"start\":100585231,\"version\":1,\"object_type\":\"Exon\",\"id\":\"ENSE00000401061\",\"species\":\"homo_sapiens\",\"strand\":1,\"assembly_name\":\"GRCh38\",\"db_type\":\"core\"},{\"start\":100593895,\"version\":1,\"object_type\":\"Exon\",\"end\":100594035,\"seq_region_name\":\"X\",\"species\":\"homo_sapiens\",\"strand\":1,\"db_type\":\"core\",\"assembly_name\":\"GRCh38\",\"id\":\"ENSE00000673400\"},{\"id\":\"ENSE00003504197\",\"species\":\"homo_sapiens\",\"strand\":1,\"assembly_name\":\"GRCh38\",\"db_type\":\"core\",\"end\":100594362,\"object_type\":\"Exon\",\"start\":100594261,\"version\":1,\"seq_region_name\":\"X\"},{\"id\":\"ENSE00000673403\",\"assembly_name\":\"GRCh38\",\"strand\":1,\"db_type\":\"core\",\"species\":\"homo_sapiens\",\"seq_region_name\":\"X\",\"end\":100597657,\"start\":100597504,\"object_type\":\"Exon\",\"version\":1},{\"id\":\"ENSE00000868865\",\"strand\":1,\"assembly_name\":\"GRCh38\",\"species\":\"homo_sapiens\",\"db_type\":\"core\",\"seq_region_name\":\"X\",\"end\":100599182,\"start\":100599016,\"object_type\":\"Exon\",\"version\":1},{\"start\":100599508,\"version\":4,\"object_type\":\"Exon\",\"end\":100599885,\"seq_region_name\":\"X\",\"strand\":1,\"species\":\"homo_sapiens\",\"db_type\":\"core\",\"assembly_name\":\"GRCh38\",\"id\":\"ENSE00001459358\"}],\"Parent\":\"ENSG00000000005\",\"seq_region_name\":\"X\",\"strand\":1,\"assembly_name\":\"GRCh38\",\"id\":\"ENST00000373031\"},{\"seq_region_name\":\"X\",\"Parent\":\"ENSG00000000005\",\"Exon\":[{\"db_type\":\"core\",\"strand\":1,\"assembly_name\":\"GRCh38\",\"species\":\"homo_sapiens\",\"id\":\"ENSE00001952391\",\"start\":100593624,\"version\":1,\"object_type\":\"Exon\",\"end\":100594035,\"seq_region_name\":\"X\"},{\"id\":\"ENSE00003639486\",\"species\":\"homo_sapiens\",\"strand\":1,\"db_type\":\"core\",\"assembly_name\":\"GRCh38\",\"seq_region_name\":\"X\",\"end\":100594362,\"start\":100594261,\"version\":1,\"object_type\":\"Exon\"},{\"end\":100597531,\"version\":1,\"start\":100597504,\"object_type\":\"Exon\",\"seq_region_name\":\"X\",\"id\":\"ENSE00001881546\",\"strand\":1,\"species\":\"homo_sapiens\",\"assembly_name\":\"GRCh38\",\"db_type\":\"core\"}],\"end\":100597531,\"start\":100593624,\"id\":\"ENST00000485971\",\"strand\":1,\"assembly_name\":\"GRCh38\",\"version\":1,\"object_type\":\"Transcript\",\"is_canonical\":0,\"biotype\":\"protein_coding_CDS_not_defined\",\"display_name\":\"TNMD-202\",\"source\":\"havana\",\"logic_name\":\"havana_homo_sapiens\",\"species\":\"homo_sapiens\",\"db_type\":\"core\"}],\"version\":6,\"object_type\":\"Gene\",\"display_name\":\"TNMD\",\"biotype\":\"protein_coding\",\"db_type\":\"core\",\"species\":\"homo_sapiens\",\"logic_name\":\"ensembl_havana_gene_homo_sapiens\",\"source\":\"ensembl_havana\"}\n",
      "Gene name for Ensembl ENSG00000000005: TNMD\n"
     ]
    }
   ],
   "source": [
    "import requests\n",
    "import json\n",
    "\n",
    "def get_gene_name_from_ensembl_code(ensembl_code):\n",
    "    # Ensembl REST API URL to get gene info from Ensembl code\n",
    "    url = f\"https://rest.ensembl.org/lookup/id/{ensembl_code}?expand=1\"\n",
    "\n",
    "    # Send a GET request to Ensembl REST API and obtain a json file\n",
    "    response = requests.get(url, headers={\"Content-Type\": \"application/json\"})\n",
    "    print(response.text)  \n",
    "\n",
    "    # Check if the request is successful and process the response\n",
    "    if response.status_code == 200:\n",
    "        data = json.loads(response.text)\n",
    "        if \"display_name\" in data:    # this can be adapted to display any other information in the json file\n",
    "            gene_name = data[\"display_name\"]  \n",
    "            return gene_name\n",
    "\n",
    "    return None\n",
    "\n",
    "# Example of use for a single gene (looping thorough a list of IDs is trivial)\n",
    "ensembl_code = 'ENSG00000000005'\n",
    "gene_name = get_gene_name_from_ensembl_code(ensembl_code)\n",
    "\n",
    "if gene_name:\n",
    "    print(f\"Gene name for Ensembl {ensembl_code}: {gene_name}\")\n",
    "else:\n",
    "    print(f\"No gene name found for Ensembl {ensembl_code}\")\n"
   ]
  }
 ],
 "metadata": {
  "kernelspec": {
   "display_name": "RNATools",
   "language": "python",
   "name": "python3"
  },
  "language_info": {
   "codemirror_mode": {
    "name": "ipython",
    "version": 3
   },
   "file_extension": ".py",
   "mimetype": "text/x-python",
   "name": "python",
   "nbconvert_exporter": "python",
   "pygments_lexer": "ipython3",
   "version": "3.10.10"
  }
 },
 "nbformat": 4,
 "nbformat_minor": 2
}