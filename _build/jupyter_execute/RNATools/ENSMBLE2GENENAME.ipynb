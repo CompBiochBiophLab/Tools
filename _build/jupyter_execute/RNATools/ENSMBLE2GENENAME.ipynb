{
 "cells": [
  {
   "attachments": {},
   "cell_type": "markdown",
   "metadata": {},
   "source": [
    "## Obtaining the gene name of an ENSEMBL ID"
   ]
  },
  {
   "cell_type": "code",
   "execution_count": 1,
   "metadata": {},
   "outputs": [
    {
     "name": "stdout",
     "output_type": "stream",
     "text": [
      "{\"source\":\"ensembl_havana\",\"description\":\"tenomodulin [Source:HGNC Symbol;Acc:HGNC:17757]\",\"start\":100584936,\"object_type\":\"Gene\",\"Transcript\":[{\"Parent\":\"ENSG00000000005\",\"source\":\"ensembl_havana\",\"start\":100584936,\"Exon\":[{\"seq_region_name\":\"X\",\"version\":5,\"end\":100585066,\"species\":\"homo_sapiens\",\"db_type\":\"core\",\"start\":100584936,\"strand\":1,\"id\":\"ENSE00001459371\",\"object_type\":\"Exon\",\"assembly_name\":\"GRCh38\"},{\"id\":\"ENSE00000401061\",\"strand\":1,\"start\":100585231,\"assembly_name\":\"GRCh38\",\"object_type\":\"Exon\",\"seq_region_name\":\"X\",\"db_type\":\"core\",\"species\":\"homo_sapiens\",\"end\":100585362,\"version\":1},{\"db_type\":\"core\",\"species\":\"homo_sapiens\",\"end\":100594035,\"version\":1,\"seq_region_name\":\"X\",\"assembly_name\":\"GRCh38\",\"object_type\":\"Exon\",\"id\":\"ENSE00000673400\",\"strand\":1,\"start\":100593895},{\"strand\":1,\"id\":\"ENSE00003504197\",\"start\":100594261,\"assembly_name\":\"GRCh38\",\"object_type\":\"Exon\",\"seq_region_name\":\"X\",\"db_type\":\"core\",\"version\":1,\"species\":\"homo_sapiens\",\"end\":100594362},{\"object_type\":\"Exon\",\"assembly_name\":\"GRCh38\",\"start\":100597504,\"strand\":1,\"id\":\"ENSE00000673403\",\"version\":1,\"species\":\"homo_sapiens\",\"end\":100597657,\"db_type\":\"core\",\"seq_region_name\":\"X\"},{\"object_type\":\"Exon\",\"assembly_name\":\"GRCh38\",\"start\":100599016,\"id\":\"ENSE00000868865\",\"strand\":1,\"species\":\"homo_sapiens\",\"end\":100599182,\"version\":1,\"db_type\":\"core\",\"seq_region_name\":\"X\"},{\"id\":\"ENSE00001459358\",\"strand\":1,\"start\":100599508,\"assembly_name\":\"GRCh38\",\"object_type\":\"Exon\",\"seq_region_name\":\"X\",\"db_type\":\"core\",\"end\":100599885,\"species\":\"homo_sapiens\",\"version\":4}],\"object_type\":\"Transcript\",\"display_name\":\"TNMD-201\",\"db_type\":\"core\",\"is_canonical\":1,\"version\":5,\"end\":100599885,\"strand\":1,\"biotype\":\"protein_coding\",\"id\":\"ENST00000373031\",\"assembly_name\":\"GRCh38\",\"logic_name\":\"ensembl_havana_transcript_homo_sapiens\",\"seq_region_name\":\"X\",\"Translation\":{\"species\":\"homo_sapiens\",\"length\":317,\"end\":100599717,\"version\":4,\"db_type\":\"core\",\"start\":100585019,\"id\":\"ENSP00000362122\",\"Parent\":\"ENST00000373031\",\"object_type\":\"Translation\"},\"species\":\"homo_sapiens\"},{\"db_type\":\"core\",\"is_canonical\":0,\"version\":1,\"end\":100597531,\"display_name\":\"TNMD-202\",\"Exon\":[{\"strand\":1,\"id\":\"ENSE00001952391\",\"start\":100593624,\"assembly_name\":\"GRCh38\",\"object_type\":\"Exon\",\"seq_region_name\":\"X\",\"db_type\":\"core\",\"version\":1,\"end\":100594035,\"species\":\"homo_sapiens\"},{\"version\":1,\"species\":\"homo_sapiens\",\"end\":100594362,\"db_type\":\"core\",\"seq_region_name\":\"X\",\"object_type\":\"Exon\",\"assembly_name\":\"GRCh38\",\"start\":100594261,\"strand\":1,\"id\":\"ENSE00003639486\"},{\"start\":100597504,\"strand\":1,\"id\":\"ENSE00001881546\",\"object_type\":\"Exon\",\"assembly_name\":\"GRCh38\",\"seq_region_name\":\"X\",\"version\":1,\"end\":100597531,\"species\":\"homo_sapiens\",\"db_type\":\"core\"}],\"object_type\":\"Transcript\",\"Parent\":\"ENSG00000000005\",\"source\":\"havana\",\"start\":100593624,\"species\":\"homo_sapiens\",\"seq_region_name\":\"X\",\"assembly_name\":\"GRCh38\",\"logic_name\":\"havana_homo_sapiens\",\"strand\":1,\"id\":\"ENST00000485971\",\"biotype\":\"protein_coding_CDS_not_defined\"}],\"display_name\":\"TNMD\",\"db_type\":\"core\",\"end\":100599885,\"version\":6,\"biotype\":\"protein_coding\",\"id\":\"ENSG00000000005\",\"canonical_transcript\":\"ENST00000373031.5\",\"strand\":1,\"logic_name\":\"ensembl_havana_gene_homo_sapiens\",\"assembly_name\":\"GRCh38\",\"seq_region_name\":\"X\",\"species\":\"homo_sapiens\"}\n",
      "Gene name for Ensembl ENSG00000000005: TNMD\n"
     ]
    }
   ],
   "source": [
    "import requests\n",
    "import json\n",
    "\n",
    "def get_gene_name_from_ensembl_code(ensembl_code):\n",
    "    # Ensembl REST API URL to get gene info from Ensembl code\n",
    "    url = f\"https://rest.ensembl.org/lookup/id/{ensembl_code}?expand=1\"\n",
    "\n",
    "    # Send a GET request to Ensembl REST API and obtain a json file\n",
    "    response = requests.get(url, headers={\"Content-Type\": \"application/json\"})\n",
    "    print(response.text)  \n",
    "\n",
    "    # Check if the request is successful and process the response\n",
    "    if response.status_code == 200:\n",
    "        data = json.loads(response.text)\n",
    "        if \"display_name\" in data:    # this can be adapted to display any other information in the json file\n",
    "            gene_name = data[\"display_name\"]  \n",
    "            return gene_name\n",
    "\n",
    "    return None\n",
    "\n",
    "# Example of use for a single gene (looping thorough a list of IDs is trivial)\n",
    "ensembl_code = 'ENSG00000000005'\n",
    "gene_name = get_gene_name_from_ensembl_code(ensembl_code)\n",
    "\n",
    "if gene_name:\n",
    "    print(f\"Gene name for Ensembl {ensembl_code}: {gene_name}\")\n",
    "else:\n",
    "    print(f\"No gene name found for Ensembl {ensembl_code}\")\n"
   ]
  }
 ],
 "metadata": {
  "kernelspec": {
   "display_name": "RNATools",
   "language": "python",
   "name": "python3"
  },
  "language_info": {
   "codemirror_mode": {
    "name": "ipython",
    "version": 3
   },
   "file_extension": ".py",
   "mimetype": "text/x-python",
   "name": "python",
   "nbconvert_exporter": "python",
   "pygments_lexer": "ipython3",
   "version": "3.11.4"
  }
 },
 "nbformat": 4,
 "nbformat_minor": 2
}