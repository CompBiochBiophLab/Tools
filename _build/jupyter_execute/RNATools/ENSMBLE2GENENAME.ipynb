{
 "cells": [
  {
   "attachments": {},
   "cell_type": "markdown",
   "metadata": {},
   "source": [
    "## Obtaining the gene name of an ENSEMBL ID"
   ]
  },
  {
   "cell_type": "code",
   "execution_count": 1,
   "metadata": {},
   "outputs": [
    {
     "name": "stdout",
     "output_type": "stream",
     "text": [
      "{\"assembly_name\":\"GRCh38\",\"display_name\":\"TNMD\",\"logic_name\":\"ensembl_havana_gene_homo_sapiens\",\"canonical_transcript\":\"ENST00000373031.5\",\"description\":\"tenomodulin [Source:HGNC Symbol;Acc:HGNC:17757]\",\"seq_region_name\":\"X\",\"object_type\":\"Gene\",\"db_type\":\"core\",\"id\":\"ENSG00000000005\",\"end\":100599885,\"Transcript\":[{\"id\":\"ENST00000373031\",\"end\":100599885,\"Parent\":\"ENSG00000000005\",\"Exon\":[{\"start\":100584936,\"version\":5,\"seq_region_name\":\"X\",\"strand\":1,\"species\":\"homo_sapiens\",\"id\":\"ENSE00001459371\",\"end\":100585066,\"object_type\":\"Exon\",\"db_type\":\"core\",\"assembly_name\":\"GRCh38\"},{\"version\":1,\"seq_region_name\":\"X\",\"start\":100585231,\"species\":\"homo_sapiens\",\"strand\":1,\"id\":\"ENSE00000401061\",\"end\":100585362,\"assembly_name\":\"GRCh38\",\"object_type\":\"Exon\",\"db_type\":\"core\"},{\"species\":\"homo_sapiens\",\"strand\":1,\"version\":1,\"seq_region_name\":\"X\",\"start\":100593895,\"assembly_name\":\"GRCh38\",\"object_type\":\"Exon\",\"db_type\":\"core\",\"end\":100594035,\"id\":\"ENSE00000673400\"},{\"assembly_name\":\"GRCh38\",\"object_type\":\"Exon\",\"db_type\":\"core\",\"end\":100594362,\"id\":\"ENSE00003504197\",\"species\":\"homo_sapiens\",\"strand\":1,\"version\":1,\"seq_region_name\":\"X\",\"start\":100594261},{\"assembly_name\":\"GRCh38\",\"object_type\":\"Exon\",\"db_type\":\"core\",\"end\":100597657,\"id\":\"ENSE00000673403\",\"species\":\"homo_sapiens\",\"strand\":1,\"seq_region_name\":\"X\",\"version\":1,\"start\":100597504},{\"species\":\"homo_sapiens\",\"strand\":1,\"version\":1,\"seq_region_name\":\"X\",\"start\":100599016,\"assembly_name\":\"GRCh38\",\"object_type\":\"Exon\",\"db_type\":\"core\",\"end\":100599182,\"id\":\"ENSE00000868865\"},{\"end\":100599885,\"id\":\"ENSE00001459358\",\"assembly_name\":\"GRCh38\",\"db_type\":\"core\",\"object_type\":\"Exon\",\"seq_region_name\":\"X\",\"version\":4,\"start\":100599508,\"species\":\"homo_sapiens\",\"strand\":1}],\"object_type\":\"Transcript\",\"db_type\":\"core\",\"version\":5,\"source\":\"ensembl_havana\",\"start\":100584936,\"Translation\":{\"species\":\"homo_sapiens\",\"start\":100585019,\"version\":4,\"object_type\":\"Translation\",\"db_type\":\"core\",\"Parent\":\"ENST00000373031\",\"length\":317,\"end\":100599717,\"id\":\"ENSP00000362122\"},\"species\":\"homo_sapiens\",\"strand\":1,\"biotype\":\"protein_coding\",\"logic_name\":\"ensembl_havana_transcript_homo_sapiens\",\"is_canonical\":1,\"display_name\":\"TNMD-201\",\"assembly_name\":\"GRCh38\",\"seq_region_name\":\"X\"},{\"display_name\":\"TNMD-202\",\"assembly_name\":\"GRCh38\",\"logic_name\":\"havana_homo_sapiens\",\"is_canonical\":0,\"seq_region_name\":\"X\",\"db_type\":\"core\",\"object_type\":\"Transcript\",\"Exon\":[{\"id\":\"ENSE00001952391\",\"end\":100594035,\"object_type\":\"Exon\",\"db_type\":\"core\",\"assembly_name\":\"GRCh38\",\"start\":100593624,\"seq_region_name\":\"X\",\"version\":1,\"strand\":1,\"species\":\"homo_sapiens\"},{\"end\":100594362,\"id\":\"ENSE00003639486\",\"object_type\":\"Exon\",\"db_type\":\"core\",\"assembly_name\":\"GRCh38\",\"start\":100594261,\"version\":1,\"seq_region_name\":\"X\",\"strand\":1,\"species\":\"homo_sapiens\"},{\"version\":1,\"seq_region_name\":\"X\",\"start\":100597504,\"species\":\"homo_sapiens\",\"strand\":1,\"id\":\"ENSE00001881546\",\"end\":100597531,\"assembly_name\":\"GRCh38\",\"db_type\":\"core\",\"object_type\":\"Exon\"}],\"Parent\":\"ENSG00000000005\",\"end\":100597531,\"id\":\"ENST00000485971\",\"biotype\":\"protein_coding_CDS_not_defined\",\"strand\":1,\"species\":\"homo_sapiens\",\"start\":100593624,\"source\":\"havana\",\"version\":1}],\"species\":\"homo_sapiens\",\"strand\":1,\"biotype\":\"protein_coding\",\"version\":6,\"source\":\"ensembl_havana\",\"start\":100584936}\n",
      "Gene name for Ensembl ENSG00000000005: TNMD\n"
     ]
    }
   ],
   "source": [
    "import requests\n",
    "import json\n",
    "\n",
    "def get_gene_name_from_ensembl_code(ensembl_code):\n",
    "    # Ensembl REST API URL to get gene info from Ensembl code\n",
    "    url = f\"https://rest.ensembl.org/lookup/id/{ensembl_code}?expand=1\"\n",
    "\n",
    "    # Send a GET request to Ensembl REST API and obtain a json file\n",
    "    response = requests.get(url, headers={\"Content-Type\": \"application/json\"})\n",
    "    print(response.text)  \n",
    "\n",
    "    # Check if the request is successful and process the response\n",
    "    if response.status_code == 200:\n",
    "        data = json.loads(response.text)\n",
    "        if \"display_name\" in data:    # this can be adapted to display any other information in the json file\n",
    "            gene_name = data[\"display_name\"]  \n",
    "            return gene_name\n",
    "\n",
    "    return None\n",
    "\n",
    "# Example of use for a single gene (looping thorough a list of IDs is trivial)\n",
    "ensembl_code = 'ENSG00000000005'\n",
    "gene_name = get_gene_name_from_ensembl_code(ensembl_code)\n",
    "\n",
    "if gene_name:\n",
    "    print(f\"Gene name for Ensembl {ensembl_code}: {gene_name}\")\n",
    "else:\n",
    "    print(f\"No gene name found for Ensembl {ensembl_code}\")\n"
   ]
  }
 ],
 "metadata": {
  "kernelspec": {
   "display_name": "RNATools",
   "language": "python",
   "name": "python3"
  },
  "language_info": {
   "codemirror_mode": {
    "name": "ipython",
    "version": 3
   },
   "file_extension": ".py",
   "mimetype": "text/x-python",
   "name": "python",
   "nbconvert_exporter": "python",
   "pygments_lexer": "ipython3",
   "version": "3.10.10"
  }
 },
 "nbformat": 4,
 "nbformat_minor": 2
}