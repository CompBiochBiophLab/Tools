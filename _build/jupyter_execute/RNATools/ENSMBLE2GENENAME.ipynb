{
 "cells": [
  {
   "attachments": {},
   "cell_type": "markdown",
   "metadata": {},
   "source": [
    "## Obtaining the gene name of an ENSEMBL ID"
   ]
  },
  {
   "cell_type": "code",
   "execution_count": 1,
   "metadata": {},
   "outputs": [
    {
     "name": "stdout",
     "output_type": "stream",
     "text": [
      "{\"logic_name\":\"ensembl_havana_gene_homo_sapiens\",\"object_type\":\"Gene\",\"id\":\"ENSG00000000005\",\"db_type\":\"core\",\"display_name\":\"TNMD\",\"biotype\":\"protein_coding\",\"end\":100599885,\"species\":\"homo_sapiens\",\"source\":\"ensembl_havana\",\"Transcript\":[{\"is_canonical\":1,\"strand\":1,\"seq_region_name\":\"X\",\"Parent\":\"ENSG00000000005\",\"species\":\"homo_sapiens\",\"end\":100599885,\"source\":\"ensembl_havana\",\"start\":100584936,\"version\":5,\"assembly_name\":\"GRCh38\",\"display_name\":\"TNMD-201\",\"Translation\":{\"object_type\":\"Translation\",\"id\":\"ENSP00000362122\",\"db_type\":\"core\",\"version\":4,\"start\":100585019,\"species\":\"homo_sapiens\",\"end\":100599717,\"length\":317,\"Parent\":\"ENST00000373031\"},\"Exon\":[{\"seq_region_name\":\"X\",\"strand\":1,\"species\":\"homo_sapiens\",\"end\":100585066,\"version\":5,\"assembly_name\":\"GRCh38\",\"start\":100584936,\"object_type\":\"Exon\",\"id\":\"ENSE00001459371\",\"db_type\":\"core\"},{\"object_type\":\"Exon\",\"id\":\"ENSE00000401061\",\"db_type\":\"core\",\"start\":100585231,\"version\":1,\"assembly_name\":\"GRCh38\",\"end\":100585362,\"species\":\"homo_sapiens\",\"seq_region_name\":\"X\",\"strand\":1},{\"strand\":1,\"seq_region_name\":\"X\",\"species\":\"homo_sapiens\",\"end\":100594035,\"assembly_name\":\"GRCh38\",\"start\":100593895,\"version\":1,\"object_type\":\"Exon\",\"id\":\"ENSE00000673400\",\"db_type\":\"core\"},{\"strand\":1,\"seq_region_name\":\"X\",\"object_type\":\"Exon\",\"db_type\":\"core\",\"id\":\"ENSE00003504197\",\"assembly_name\":\"GRCh38\",\"version\":1,\"start\":100594261,\"species\":\"homo_sapiens\",\"end\":100594362},{\"end\":100597657,\"species\":\"homo_sapiens\",\"db_type\":\"core\",\"id\":\"ENSE00000673403\",\"object_type\":\"Exon\",\"assembly_name\":\"GRCh38\",\"version\":1,\"start\":100597504,\"seq_region_name\":\"X\",\"strand\":1},{\"strand\":1,\"seq_region_name\":\"X\",\"id\":\"ENSE00000868865\",\"db_type\":\"core\",\"object_type\":\"Exon\",\"assembly_name\":\"GRCh38\",\"version\":1,\"start\":100599016,\"species\":\"homo_sapiens\",\"end\":100599182},{\"strand\":1,\"seq_region_name\":\"X\",\"end\":100599885,\"species\":\"homo_sapiens\",\"id\":\"ENSE00001459358\",\"db_type\":\"core\",\"object_type\":\"Exon\",\"version\":4,\"start\":100599508,\"assembly_name\":\"GRCh38\"}],\"biotype\":\"protein_coding\",\"logic_name\":\"ensembl_havana_transcript_homo_sapiens\",\"object_type\":\"Transcript\",\"id\":\"ENST00000373031\",\"db_type\":\"core\"},{\"end\":100597531,\"species\":\"homo_sapiens\",\"source\":\"havana\",\"version\":1,\"assembly_name\":\"GRCh38\",\"start\":100593624,\"is_canonical\":0,\"seq_region_name\":\"X\",\"strand\":1,\"Parent\":\"ENSG00000000005\",\"logic_name\":\"havana_homo_sapiens\",\"object_type\":\"Transcript\",\"id\":\"ENST00000485971\",\"db_type\":\"core\",\"display_name\":\"TNMD-202\",\"biotype\":\"protein_coding_CDS_not_defined\",\"Exon\":[{\"db_type\":\"core\",\"id\":\"ENSE00001952391\",\"object_type\":\"Exon\",\"assembly_name\":\"GRCh38\",\"version\":1,\"start\":100593624,\"end\":100594035,\"species\":\"homo_sapiens\",\"seq_region_name\":\"X\",\"strand\":1},{\"seq_region_name\":\"X\",\"strand\":1,\"object_type\":\"Exon\",\"db_type\":\"core\",\"id\":\"ENSE00003639486\",\"assembly_name\":\"GRCh38\",\"version\":1,\"start\":100594261,\"end\":100594362,\"species\":\"homo_sapiens\"},{\"seq_region_name\":\"X\",\"strand\":1,\"object_type\":\"Exon\",\"id\":\"ENSE00001881546\",\"db_type\":\"core\",\"start\":100597504,\"version\":1,\"assembly_name\":\"GRCh38\",\"species\":\"homo_sapiens\",\"end\":100597531}]}],\"version\":6,\"start\":100584936,\"assembly_name\":\"GRCh38\",\"description\":\"tenomodulin [Source:HGNC Symbol;Acc:HGNC:17757]\",\"canonical_transcript\":\"ENST00000373031.5\",\"seq_region_name\":\"X\",\"strand\":1}\n",
      "Gene name for Ensembl ENSG00000000005: TNMD\n"
     ]
    }
   ],
   "source": [
    "import requests\n",
    "import json\n",
    "\n",
    "def get_gene_name_from_ensembl_code(ensembl_code):\n",
    "    # Ensembl REST API URL to get gene info from Ensembl code\n",
    "    url = f\"https://rest.ensembl.org/lookup/id/{ensembl_code}?expand=1\"\n",
    "\n",
    "    # Send a GET request to Ensembl REST API and obtain a json file\n",
    "    response = requests.get(url, headers={\"Content-Type\": \"application/json\"})\n",
    "    print(response.text)  \n",
    "\n",
    "    # Check if the request is successful and process the response\n",
    "    if response.status_code == 200:\n",
    "        data = json.loads(response.text)\n",
    "        if \"display_name\" in data:    # this can be adapted to display any other information in the json file\n",
    "            gene_name = data[\"display_name\"]  \n",
    "            return gene_name\n",
    "\n",
    "    return None\n",
    "\n",
    "# Example of use for a single gene (looping thorough a list of IDs is trivial)\n",
    "ensembl_code = 'ENSG00000000005'\n",
    "gene_name = get_gene_name_from_ensembl_code(ensembl_code)\n",
    "\n",
    "if gene_name:\n",
    "    print(f\"Gene name for Ensembl {ensembl_code}: {gene_name}\")\n",
    "else:\n",
    "    print(f\"No gene name found for Ensembl {ensembl_code}\")\n"
   ]
  }
 ],
 "metadata": {
  "kernelspec": {
   "display_name": "RNATools",
   "language": "python",
   "name": "python3"
  },
  "language_info": {
   "codemirror_mode": {
    "name": "ipython",
    "version": 3
   },
   "file_extension": ".py",
   "mimetype": "text/x-python",
   "name": "python",
   "nbconvert_exporter": "python",
   "pygments_lexer": "ipython3",
   "version": "3.11.4"
  }
 },
 "nbformat": 4,
 "nbformat_minor": 2
}