{
 "cells": [
  {
   "cell_type": "markdown",
   "metadata": {},
   "source": [
    "# Tasks with genomic DBs\n",
    "\n",
    "## Parsing CSV files from individual genes in gnomAD\n",
    "\n",
    "Example: [file obtained for GPX2:](https://gnomad.broadinstitute.org/gene/ENSG00000176153)\n",
    "\n",
    "```csv\n",
    "Chromosome,Position,rsIDs,Reference,Alternate,Source,Filters - exomes,Filters - genomes,Transcript,HGVS Consequence,Protein Consequence,Transcript Consequence,VEP Annotation,ClinVar Clinical Significance,ClinVar Variation ID,Flags,Allele Count,Allele Number,Allele Frequency,Homozygote Count,Hemizygote Count,Allele Count African/African American,Allele Number African/African American,Homozygote Count African/African American,Hemizygote Count African/African American,Allele Count Latino/Admixed American,Allele Number Latino/Admixed American,Homozygote Count Latino/Admixed American,Hemizygote Count Latino/Admixed American,Allele Count Ashkenazi Jewish,Allele Number Ashkenazi Jewish,Homozygote Count Ashkenazi Jewish,Hemizygote Count Ashkenazi Jewish,Allele Count East Asian,Allele Number East Asian,Homozygote Count East Asian,Hemizygote Count East Asian,Allele Count European (Finnish),Allele Number European (Finnish),Homozygote Count European (Finnish),Hemizygote Count European (Finnish),Allele Count European (non-Finnish),Allele Number European (non-Finnish),Homozygote Count European (non-Finnish),Hemizygote Count European (non-Finnish),Allele Count Other,Allele Number Other,Homozygote Count Other,Hemizygote Count Other,Allele Count South Asian,Allele Number South Asian,Homozygote Count South Asian,Hemizygote Count South Asian\n",
    "14,65406155,rs1471966487,G,T,gnomAD Exomes,PASS,NA,ENST00000389614.5,c.*51C>A,,c.*51C>A,3_prime_UTR_variant,,,,1,218184,0.0000045832875004583285,0,0,0,15192,0,0,0,31042,0,0,0,6818,0,0,1,17494,0,0,0,19274,0,0,0,100426,0,0,0,5126,0,0,0,22812,0,0\n",
    "14,65406166,rs1418718413,C,T,gnomAD Exomes,PASS,NA,ENST00000389614.5,c.*40G>A,,c.*40G>A,3_prime_UTR_variant,,,,1,229576,0.00000435585601282364,0,0,0,15322,0,0,0,32902,0,0,0,7906,0,0,1,17834,0,0,0,20042,0,0,0,104758,0,0,0,5506,0,0,0,25306,0,0\n",
    "(...)\n",
    "```"
   ]
  },
  {
   "cell_type": "markdown",
   "metadata": {},
   "source": [
    "## Querying ENSEMBL"
   ]
  },
  {
   "cell_type": "code",
   "execution_count": 1,
   "metadata": {},
   "outputs": [
    {
     "data": {
      "text/html": [
       "<div>\n",
       "<style scoped>\n",
       "    .dataframe tbody tr th:only-of-type {\n",
       "        vertical-align: middle;\n",
       "    }\n",
       "\n",
       "    .dataframe tbody tr th {\n",
       "        vertical-align: top;\n",
       "    }\n",
       "\n",
       "    .dataframe thead th {\n",
       "        text-align: right;\n",
       "    }\n",
       "</style>\n",
       "<table border=\"1\" class=\"dataframe\">\n",
       "  <thead>\n",
       "    <tr style=\"text-align: right;\">\n",
       "      <th></th>\n",
       "      <th>Protein Consequence</th>\n",
       "      <th>ClinVar Clinical Significance</th>\n",
       "    </tr>\n",
       "  </thead>\n",
       "  <tbody>\n",
       "    <tr>\n",
       "      <th>64</th>\n",
       "      <td>p.Lys138Arg</td>\n",
       "      <td>Uncertain significance</td>\n",
       "    </tr>\n",
       "    <tr>\n",
       "      <th>237</th>\n",
       "      <td>p.Arg56His</td>\n",
       "      <td>Uncertain significance</td>\n",
       "    </tr>\n",
       "  </tbody>\n",
       "</table>\n",
       "</div>"
      ],
      "text/plain": [
       "    Protein Consequence ClinVar Clinical Significance\n",
       "64          p.Lys138Arg        Uncertain significance\n",
       "237          p.Arg56His        Uncertain significance"
      ]
     },
     "execution_count": 1,
     "metadata": {},
     "output_type": "execute_result"
    }
   ],
   "source": [
    "#!pip install pandas\n",
    "import pandas as pd\n",
    "from pathlib import Path\n",
    "\n",
    "# define the directory where I keep the data\n",
    "datadir = Path(\"\"\"./input\"\"\")\n",
    "filename=datadir/\"gnomAD_v2.1.1_ENSG00000176153_2023_09_24_12_56_03.csv\"\n",
    "\n",
    "\n",
    "# load the CSV file\n",
    "data=pd.read_csv(filename)\n",
    "# print(data)\n",
    "data.loc[:,[\"Protein Consequence\",\"ClinVar Clinical Significance\"]]\n",
    "data = data[data[\"Protein Consequence\"].notna()].loc[:,[\"Protein Consequence\",\"ClinVar Clinical Significance\"]]\n",
    "data[data[\"ClinVar Clinical Significance\"].notna()]\n",
    "\n",
    "#contain_values = df[df["
   ]
  },
  {
   "cell_type": "code",
   "execution_count": 2,
   "metadata": {},
   "outputs": [
    {
     "name": "stdout",
     "output_type": "stream",
     "text": [
      "querying for...  GPX1\n"
     ]
    },
    {
     "name": "stderr",
     "output_type": "stream",
     "text": [
      "/Users/jordivilla/miniconda3/lib/python3.11/site-packages/Bio/Entrez/__init__.py:658: UserWarning: \n",
      "Email address is not specified.\n",
      "\n",
      "To make use of NCBI's E-utilities, NCBI requires you to specify your\n",
      "email address with each request.  As an example, if your email address\n",
      "is A.N.Other@example.com, you can specify it as follows:\n",
      "   from Bio import Entrez\n",
      "   Entrez.email = 'A.N.Other@example.com'\n",
      "In case of excessive usage of the E-utilities, NCBI will attempt to contact\n",
      "a user at the email address provided before blocking access to the\n",
      "E-utilities.\n",
      "  warnings.warn(\n"
     ]
    },
    {
     "name": "stdout",
     "output_type": "stream",
     "text": [
      "{'Count': '623', 'RetMax': '20', 'RetStart': '0', 'IdList': ['132235860', '132080472', '7124', '3569', '3091', '5743', '3576', '5468', '4780', '5444', '2952', '2950', '4233', '2908', '13982', '335', '155871', '6648', '10135', '860'], 'TranslationSet': [], 'TranslationStack': [{'Term': 'GPX3[All Fields]', 'Field': 'All Fields', 'Count': '623', 'Explode': 'N'}, 'GROUP'], 'QueryTranslation': 'GPX3[All Fields]'}\n"
     ]
    },
    {
     "ename": "KeyboardInterrupt",
     "evalue": "",
     "output_type": "error",
     "traceback": [
      "\u001b[0;31m---------------------------------------------------------------------------\u001b[0m",
      "\u001b[0;31mKeyboardInterrupt\u001b[0m                         Traceback (most recent call last)",
      "Cell \u001b[0;32mIn[2], line 27\u001b[0m\n\u001b[1;32m     25\u001b[0m queryKey \u001b[38;5;241m=\u001b[39m result[\u001b[38;5;124m\"\u001b[39m\u001b[38;5;124mQueryKey\u001b[39m\u001b[38;5;124m\"\u001b[39m]\n\u001b[1;32m     26\u001b[0m efetch_result \u001b[38;5;241m=\u001b[39m Entrez\u001b[38;5;241m.\u001b[39mefetch(db\u001b[38;5;241m=\u001b[39m\u001b[38;5;124m\"\u001b[39m\u001b[38;5;124mgene\u001b[39m\u001b[38;5;124m\"\u001b[39m, webenv\u001b[38;5;241m=\u001b[39mwebEnv, query_key \u001b[38;5;241m=\u001b[39m queryKey, retmode\u001b[38;5;241m=\u001b[39m\u001b[38;5;124m\"\u001b[39m\u001b[38;5;124mxml\u001b[39m\u001b[38;5;124m\"\u001b[39m)\n\u001b[0;32m---> 27\u001b[0m genes \u001b[38;5;241m=\u001b[39m Entrez\u001b[38;5;241m.\u001b[39mread(efetch_result)\n\u001b[1;32m     28\u001b[0m \u001b[38;5;28mprint\u001b[39m(genes)\n",
      "File \u001b[0;32m~/miniconda3/lib/python3.11/site-packages/Bio/Entrez/__init__.py:508\u001b[0m, in \u001b[0;36mread\u001b[0;34m(handle, validate, escape)\u001b[0m\n\u001b[1;32m    505\u001b[0m \u001b[38;5;28;01mfrom\u001b[39;00m \u001b[38;5;21;01m.\u001b[39;00m\u001b[38;5;21;01mParser\u001b[39;00m \u001b[38;5;28;01mimport\u001b[39;00m DataHandler\n\u001b[1;32m    507\u001b[0m handler \u001b[38;5;241m=\u001b[39m DataHandler(validate, escape)\n\u001b[0;32m--> 508\u001b[0m record \u001b[38;5;241m=\u001b[39m handler\u001b[38;5;241m.\u001b[39mread(handle)\n\u001b[1;32m    509\u001b[0m \u001b[38;5;28;01mreturn\u001b[39;00m record\n",
      "File \u001b[0;32m~/miniconda3/lib/python3.11/site-packages/Bio/Entrez/Parser.py:304\u001b[0m, in \u001b[0;36mDataHandler.read\u001b[0;34m(self, handle)\u001b[0m\n\u001b[1;32m    302\u001b[0m     \u001b[38;5;28;01mraise\u001b[39;00m \u001b[38;5;167;01mTypeError\u001b[39;00m(\u001b[38;5;124m\"\u001b[39m\u001b[38;5;124mfile should be opened in binary mode\u001b[39m\u001b[38;5;124m\"\u001b[39m)\n\u001b[1;32m    303\u001b[0m \u001b[38;5;28;01mtry\u001b[39;00m:\n\u001b[0;32m--> 304\u001b[0m     \u001b[38;5;28mself\u001b[39m\u001b[38;5;241m.\u001b[39mparser\u001b[38;5;241m.\u001b[39mParseFile(handle)\n\u001b[1;32m    305\u001b[0m \u001b[38;5;28;01mexcept\u001b[39;00m expat\u001b[38;5;241m.\u001b[39mExpatError \u001b[38;5;28;01mas\u001b[39;00m e:\n\u001b[1;32m    306\u001b[0m     \u001b[38;5;28;01mif\u001b[39;00m \u001b[38;5;28mself\u001b[39m\u001b[38;5;241m.\u001b[39mparser\u001b[38;5;241m.\u001b[39mStartElementHandler:\n\u001b[1;32m    307\u001b[0m         \u001b[38;5;66;03m# We saw the initial <!xml declaration, so we can be sure that\u001b[39;00m\n\u001b[1;32m    308\u001b[0m         \u001b[38;5;66;03m# we are parsing XML data. Most likely, the XML file is\u001b[39;00m\n\u001b[1;32m    309\u001b[0m         \u001b[38;5;66;03m# corrupted.\u001b[39;00m\n",
      "File \u001b[0;32m/private/var/folders/sy/f16zz6x50xz3113nwtb9bvq00000gp/T/abs_b9mlwh3bw7/croot/python-split_1694437905663/work/Modules/pyexpat.c:281\u001b[0m, in \u001b[0;36mCharacterData\u001b[0;34m()\u001b[0m\n",
      "File \u001b[0;32m~/miniconda3/lib/python3.11/site-packages/Bio/Entrez/Parser.py:701\u001b[0m, in \u001b[0;36mDataHandler.characterDataHandlerRaw\u001b[0;34m(self, content)\u001b[0m\n\u001b[1;32m    698\u001b[0m             \u001b[38;5;28;01mreturn\u001b[39;00m\n\u001b[1;32m    699\u001b[0m         element\u001b[38;5;241m.\u001b[39mstore(value)\n\u001b[0;32m--> 701\u001b[0m \u001b[38;5;28;01mdef\u001b[39;00m \u001b[38;5;21mcharacterDataHandlerRaw\u001b[39m(\u001b[38;5;28mself\u001b[39m, content):\n\u001b[1;32m    702\u001b[0m \u001b[38;5;250m    \u001b[39m\u001b[38;5;124;03m\"\"\"Handle character data as-is (raw).\"\"\"\u001b[39;00m\n\u001b[1;32m    703\u001b[0m     \u001b[38;5;28mself\u001b[39m\u001b[38;5;241m.\u001b[39mdata\u001b[38;5;241m.\u001b[39mappend(content)\n",
      "\u001b[0;31mKeyboardInterrupt\u001b[0m: "
     ]
    }
   ],
   "source": [
    "from Bio import Entrez\n",
    "import sys\n",
    "\n",
    "# uncomment and add your e-mail address:\n",
    "# Entrez.email=\"me@uvic.cat\"\n",
    "\n",
    "list_of_genes=['GPX1']\n",
    "term_entrez=' OR '.join(list_of_genes)\n",
    "\n",
    "print('querying for... ',term_entrez)\n",
    "\n",
    "esearch_result = Entrez.esearch(db=\"gene\",term='GPX3',rettype='fasta',retmod=\"text\")\n",
    "parsed_result = Entrez.read(esearch_result)\n",
    "print(parsed_result)\n",
    "\n",
    "request = Entrez.epost(\"gene\",id=\",\".join(parsed_result['IdList']))\n",
    "try:\n",
    "   result = Entrez.read(request)\n",
    "except RuntimeError as e:\n",
    "   print(\"An error occurred while retrieving the annotations.\")\n",
    "   print(\"The error returned was %s\" % e)\n",
    "   sys.exit(-1)\n",
    " \n",
    "webEnv = result[\"WebEnv\"]\n",
    "queryKey = result[\"QueryKey\"]\n",
    "efetch_result = Entrez.efetch(db=\"gene\", webenv=webEnv, query_key = queryKey, retmode=\"xml\")\n",
    "genes = Entrez.read(efetch_result)\n",
    "print(genes)\n"
   ]
  }
 ],
 "metadata": {
  "interpreter": {
   "hash": "aee8b7b246df8f9039afb4144a1f6fd8d2ca17a180786b69acc140d282b71a49"
  },
  "kernelspec": {
   "display_name": "Python 3 (ipykernel)",
   "language": "python",
   "name": "python3"
  },
  "language_info": {
   "codemirror_mode": {
    "name": "ipython",
    "version": 3
   },
   "file_extension": ".py",
   "mimetype": "text/x-python",
   "name": "python",
   "nbconvert_exporter": "python",
   "pygments_lexer": "ipython3",
   "version": "3.11.5"
  }
 },
 "nbformat": 4,
 "nbformat_minor": 4
}