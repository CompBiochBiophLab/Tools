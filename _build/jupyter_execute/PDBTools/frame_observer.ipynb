{
 "cells": [
  {
   "cell_type": "markdown",
   "metadata": {},
   "source": [
    "# NGLview"
   ]
  },
  {
   "cell_type": "code",
   "execution_count": 1,
   "metadata": {},
   "outputs": [
    {
     "ename": "ModuleNotFoundError",
     "evalue": "No module named 'nglview'",
     "output_type": "error",
     "traceback": [
      "\u001b[0;31m---------------------------------------------------------------------------\u001b[0m",
      "\u001b[0;31mModuleNotFoundError\u001b[0m                       Traceback (most recent call last)",
      "Cell \u001b[0;32mIn[1], line 1\u001b[0m\n\u001b[0;32m----> 1\u001b[0m \u001b[38;5;28;01mimport\u001b[39;00m \u001b[38;5;21;01mnglview\u001b[39;00m\n\u001b[1;32m      2\u001b[0m \u001b[38;5;28;01mfrom\u001b[39;00m \u001b[38;5;21;01mmdtraj\u001b[39;00m \u001b[38;5;28;01mimport\u001b[39;00m load\n\u001b[1;32m      3\u001b[0m \u001b[38;5;28;01mfrom\u001b[39;00m \u001b[38;5;21;01mnumpy\u001b[39;00m\u001b[38;5;21;01m.\u001b[39;00m\u001b[38;5;21;01mrandom\u001b[39;00m \u001b[38;5;28;01mimport\u001b[39;00m randn\n",
      "\u001b[0;31mModuleNotFoundError\u001b[0m: No module named 'nglview'"
     ]
    }
   ],
   "source": [
    "import nglview\n",
    "from mdtraj import load\n",
    "from numpy.random import randn\n",
    "from matplotlib import pylab as plt\n",
    "%matplotlib notebook "
   ]
  },
  {
   "cell_type": "markdown",
   "metadata": {},
   "source": [
    "## Needed data"
   ]
  },
  {
   "cell_type": "code",
   "execution_count": 2,
   "metadata": {},
   "outputs": [
    {
     "ename": "NameError",
     "evalue": "name 'load' is not defined",
     "output_type": "error",
     "traceback": [
      "\u001b[0;31m---------------------------------------------------------------------------\u001b[0m",
      "\u001b[0;31mNameError\u001b[0m                                 Traceback (most recent call last)",
      "Cell \u001b[0;32mIn[2], line 1\u001b[0m\n\u001b[0;32m----> 1\u001b[0m geom \u001b[38;5;241m=\u001b[39m load(\u001b[38;5;124m'\u001b[39m\u001b[38;5;124m//Users/jordivilla/Downloads/1c5k.pdb\u001b[39m\u001b[38;5;124m'\u001b[39m)\n\u001b[1;32m      2\u001b[0m iwdg \u001b[38;5;241m=\u001b[39m nglview\u001b[38;5;241m.\u001b[39mshow_mdtraj(geom)\n\u001b[1;32m      3\u001b[0m pos \u001b[38;5;241m=\u001b[39m randn(iwdg\u001b[38;5;241m.\u001b[39mtrajectory_0\u001b[38;5;241m.\u001b[39mn_frames,\u001b[38;5;241m2\u001b[39m)\n",
      "\u001b[0;31mNameError\u001b[0m: name 'load' is not defined"
     ]
    }
   ],
   "source": [
    "geom = load('//Users/jordivilla/Downloads/1c5k.pdb')\n",
    "iwdg = nglview.show_mdtraj(geom)\n",
    "pos = randn(iwdg.trajectory_0.n_frames,2)"
   ]
  },
  {
   "cell_type": "code",
   "execution_count": 3,
   "metadata": {},
   "outputs": [],
   "source": [
    "def link_ngl_wdgt_to_ax_pos(ax, pos, ngl_widget):\n",
    "    from matplotlib.widgets import AxesWidget\n",
    "    from scipy.spatial import cKDTree\n",
    "    r\"\"\"\n",
    "    Initial idea for this function comes from @arose, the rest is @gph82 and @clonker\n",
    "    \"\"\"\n",
    "    \n",
    "    kdtree = cKDTree(pos)        \n",
    "    assert ngl_widget.trajectory_0.n_frames == pos.shape[0]\n",
    "    x, y = pos.T\n",
    "    \n",
    "    lineh = ax.axhline(ax.get_ybound()[0], c=\"black\", ls='--')\n",
    "    linev = ax.axvline(ax.get_xbound()[0], c=\"black\", ls='--')\n",
    "    dot, = ax.plot(pos[0,0],pos[0,1], 'o', c='red', ms=7)\n",
    "\n",
    "    ngl_widget.isClick = False\n",
    "    \n",
    "    def onclick(event):\n",
    "        linev.set_xdata((event.xdata, event.xdata))\n",
    "        lineh.set_ydata((event.ydata, event.ydata))\n",
    "        data = [event.xdata, event.ydata]\n",
    "        _, index = kdtree.query(x=data, k=1)\n",
    "        dot.set_xdata((x[index]))\n",
    "        dot.set_ydata((y[index]))\n",
    "        ngl_widget.isClick = True\n",
    "        ngl_widget.frame = index\n",
    "    \n",
    "    def my_observer(change):\n",
    "        r\"\"\"Here comes the code that you want to execute\n",
    "        \"\"\"\n",
    "        ngl_widget.isClick = False\n",
    "        _idx = change[\"new\"]\n",
    "        try:\n",
    "            dot.set_xdata((x[_idx]))\n",
    "            dot.set_ydata((y[_idx]))            \n",
    "        except IndexError as e:\n",
    "            dot.set_xdata((x[0]))\n",
    "            dot.set_ydata((y[0]))\n",
    "            print(\"caught index error with index %s (new=%s, old=%s)\" % (_idx, change[\"new\"], change[\"old\"]))\n",
    "    \n",
    "    # Connect axes to widget\n",
    "    axes_widget = AxesWidget(ax)\n",
    "    axes_widget.connect_event('button_release_event', onclick)\n",
    "    \n",
    "    # Connect widget to axes\n",
    "    ngl_widget.observe(my_observer, \"frame\", \"change\")"
   ]
  },
  {
   "cell_type": "markdown",
   "metadata": {},
   "source": [
    "##  Fun stuff"
   ]
  },
  {
   "cell_type": "code",
   "execution_count": 4,
   "metadata": {},
   "outputs": [
    {
     "ename": "NameError",
     "evalue": "name 'plt' is not defined",
     "output_type": "error",
     "traceback": [
      "\u001b[0;31m---------------------------------------------------------------------------\u001b[0m",
      "\u001b[0;31mNameError\u001b[0m                                 Traceback (most recent call last)",
      "Cell \u001b[0;32mIn[4], line 1\u001b[0m\n\u001b[0;32m----> 1\u001b[0m link_ngl_wdgt_to_ax_pos(plt\u001b[38;5;241m.\u001b[39mgca(), pos, iwdg)\n\u001b[1;32m      2\u001b[0m plt\u001b[38;5;241m.\u001b[39mscatter(pos[:,\u001b[38;5;241m0\u001b[39m],pos[:,\u001b[38;5;241m1\u001b[39m])\n\u001b[1;32m      3\u001b[0m iwdg\n",
      "\u001b[0;31mNameError\u001b[0m: name 'plt' is not defined"
     ]
    }
   ],
   "source": [
    "link_ngl_wdgt_to_ax_pos(plt.gca(), pos, iwdg)\n",
    "plt.scatter(pos[:,0],pos[:,1])\n",
    "iwdg"
   ]
  },
  {
   "cell_type": "code",
   "execution_count": null,
   "metadata": {
    "collapsed": true
   },
   "outputs": [],
   "source": []
  }
 ],
 "metadata": {
  "anaconda-cloud": {},
  "kernelspec": {
   "display_name": "Python 3",
   "language": "python",
   "name": "python3"
  },
  "language_info": {
   "codemirror_mode": {
    "name": "ipython",
    "version": 3
   },
   "file_extension": ".py",
   "mimetype": "text/x-python",
   "name": "python",
   "nbconvert_exporter": "python",
   "pygments_lexer": "ipython3",
   "version": "3.11.5"
  },
  "widgets": {
   "state": {
    "216316833903415ba72322bb2ad3376d": {
     "views": [
      {
       "cell_index": 4
      }
     ]
    },
    "2d388998312f46e4b97d252fe7a93a6c": {
     "views": [
      {
       "cell_index": 4
      }
     ]
    },
    "9731add9320e44c482fc6d4fab7ef029": {
     "views": [
      {
       "cell_index": 4
      }
     ]
    },
    "d4ff5c9a1e1d4e07b4155ecea8aec5eb": {
     "views": [
      {
       "cell_index": 4
      }
     ]
    }
   },
   "version": "1.2.0"
  }
 },
 "nbformat": 4,
 "nbformat_minor": 1
}