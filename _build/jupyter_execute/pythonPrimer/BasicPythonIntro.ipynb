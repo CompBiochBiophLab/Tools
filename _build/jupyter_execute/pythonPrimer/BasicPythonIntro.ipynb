{
 "cells": [
  {
   "cell_type": "markdown",
   "metadata": {},
   "source": [
    "# A  very simple introduction to programming with `Python`\n",
    "\n",
    "## Basic programming concepts\n",
    "\n",
    "Basic programming concepts! Only syntax change.\n",
    "\n",
    "* Programs opera\n",
    "* te on various \"data types\": integers, strings, doubles\n",
    "* Concept of variable and assignment: \n",
    "```\n",
    "Age = 3\n",
    "```\n",
    "* Expresions create and process data:\n",
    "```\n",
    "x>3\n",
    "y=x*2\n",
    "```\n",
    "* Control of flow: conditioning testing (if, else) and iterations (for, while loops)\n",
    "* Procedural programming: using functions to divide your program into logical chunks\n",
    "\n",
    "[Built-in types](https://docs.python.org/3/library/stdtypes.html)\n"
   ]
  },
  {
   "cell_type": "markdown",
   "metadata": {},
   "source": [
    "## Python\n",
    "\n",
    "* Dynamical, interpreted, object oriented programming language\n",
    "* Software quality: designed to be readable, coherent and maintainable\n",
    "* Developer productivity: very compact code (20-33\\% of the size of the corresponding java/C code): less code, so less to debug, so less to maintain, so less to learn\n",
    "\n",
    "Check [ThinkPython](https://greenteapress.com/wp/think-python-2e/) for starting material.\n",
    "\n",
    "Why Python?\n",
    "\n",
    "* Reduce the time spent in programming & debugging: OOP, testing\n",
    "* Make it easy to extend your program: code reuse (OOP)\n",
    "* Reduce the time for others to understand your program: documentation, program readability\n"
   ]
  },
  {
   "cell_type": "markdown",
   "metadata": {},
   "source": [
    "### Structure of a program\n",
    "* Programs are composed of `modules`\n",
    "* Modules contain statements\n",
    "  * Function definitions\n",
    "  * Control statements (if, while, etc)\n",
    "  * Variable assignments\n",
    "* Statements contain expressions:\n",
    "```\n",
    "x<3\n",
    "a=x*x+2\n",
    "```\n",
    "* Expressions create and process objects\n"
   ]
  },
  {
   "cell_type": "markdown",
   "metadata": {},
   "source": [
    "### Python keywords\n",
    "```\n",
    "and       del     from    not    while \n",
    "as        elif    global  or     with \n",
    "assert    else    if      pass   yield \n",
    "break     except  import  print \n",
    "class     exec    in      raise \n",
    "continue  finally is      return \n",
    "def       for     lambda  try`\n",
    "```\n"
   ]
  },
  {
   "cell_type": "markdown",
   "metadata": {},
   "source": [
    "### Numbers\n",
    "* Types: integer, floating point, long integers, bool (True, False)\n",
    "* Basic expression operators & [precedence](http://www.ibiblio.org/g2swap/byteofpython/read/operator-precedence.html)\n",
    "* Conversion: mixed types are converted up, e.g., Integers into floating point\n",
    "```\n",
    "40+3.1\n",
    "```\n"
   ]
  },
  {
   "cell_type": "markdown",
   "metadata": {},
   "source": [
    "### Dynamic typing\n",
    "* Variable types are decided at runtime\n",
    "* Variables are created when you assign values to them\n",
    "* Variables refer to an object, e.g., a number\n",
    "* The object has a type; the variable does not\n",
    "* When a variable appears in an expression, it is immediately replaced by the object it refers to\n",
    "```\n",
    "a=3\n",
    "```\n",
    "\n",
    "1. Create an object of type integer that represents the number \n",
    "1. Create variable `a` if it does not exist yet\n",
    "1. link the variable `a` to the new object `3`\n",
    "\n",
    "![Dynamic typing 1](../figures/dynamic_typing_1.png)\n",
    "\n",
    "![Dynamic typing 2](../figures/dynamic_typing_2.png)\n"
   ]
  },
  {
   "cell_type": "markdown",
   "metadata": {},
   "source": [
    "### Garbage collection\n",
    "When no variables are left that reference an object, it is destroyed (automatic memory management)\n",
    "\n",
    "![Dynamic typing 3](../figures/dynamic_typing_3.png)\n"
   ]
  },
  {
   "cell_type": "markdown",
   "metadata": {},
   "source": [
    "### Modules\n",
    "* Every file containing python code whose name ends in `.py` is a module\n",
    "* A module usually contains a number of items e.g. Variables and functions which you can access. These items are called attributes\n",
    "* You load a module using the import statement\n",
    "* Just like a number a module is an object\n",
    "* You can reload a module after changing it using the `reload()` function\n",
    "* You access modules attributes using the `.` operator: `myModule.myAttribute`\n",
    "* Modules are the highest level way of organising your program\n",
    "* Large programs have multiple module files each of which contains related code\n"
   ]
  },
  {
   "cell_type": "markdown",
   "metadata": {},
   "source": [
    "### Documentation\n",
    "\n",
    "* Documentation is one of the core parts of good programming\n",
    "* Python contains an inbuilt documentation mechanism using \"doc strings\"\n",
    "* For modules the doc string is the first string in the module file.\n",
    "* Doc strings must be enclosed in triple quotes.\n",
    "* A modules doc string is accessible through an attribute called `__doc__`\n",
    "* More on docstrings [here](https://www.python.org/dev/peps/pep-0257/)"
   ]
  },
  {
   "cell_type": "code",
   "execution_count": 1,
   "metadata": {},
   "outputs": [
    {
     "data": {
      "text/plain": [
       "'Use the real uid/gid to test for access to a path.\\n\\n  path\\n    Path to be tested; can be string, bytes, or a path-like object.\\n  mode\\n    Operating-system mode bitfield.  Can be F_OK to test existence,\\n    or the inclusive-OR of R_OK, W_OK, and X_OK.\\n  dir_fd\\n    If not None, it should be a file descriptor open to a directory,\\n    and path should be relative; path will then be relative to that\\n    directory.\\n  effective_ids\\n    If True, access will use the effective uid/gid instead of\\n    the real uid/gid.\\n  follow_symlinks\\n    If False, and the last element of the path is a symbolic link,\\n    access will examine the symbolic link itself instead of the file\\n    the link points to.\\n\\ndir_fd, effective_ids, and follow_symlinks may not be implemented\\n  on your platform.  If they are unavailable, using them will raise a\\n  NotImplementedError.\\n\\nNote that most operations will use the effective uid/gid, therefore this\\n  routine can be used in a suid/sgid environment to test if the invoking user\\n  has the specified access to the path.'"
      ]
     },
     "execution_count": 1,
     "metadata": {},
     "output_type": "execute_result"
    }
   ],
   "source": [
    "import os\n",
    "os.access.__doc__"
   ]
  },
  {
   "cell_type": "code",
   "execution_count": 2,
   "metadata": {},
   "outputs": [],
   "source": [
    "def phase_of_the_moon():\n",
    "  \"\"\"\"This function returns a slightly randomized\n",
    "  integer that shuffles data around in a way\n",
    "  convenient for the XYZ class.\"\"\"\n",
    "  # Working code here.\n",
    "  return value "
   ]
  },
  {
   "cell_type": "code",
   "execution_count": 3,
   "metadata": {},
   "outputs": [],
   "source": [
    "def something():\n",
    "  \"\"\"This is a first paragraph.\n",
    "\n",
    "  This is a second paragraph.  The intervening\n",
    "  blank line means this must be a new paragraph.\"\"\"\n",
    "  #  ... "
   ]
  },
  {
   "cell_type": "markdown",
   "metadata": {},
   "source": [
    "### Module attributes\n",
    "* `__doc__` is one of four special module attributes. The others are\n",
    "  * `__name__` - The module name\n",
    "  * `__file__` - The modules file name (complete path)\n",
    "  * `__builtin__` - Ignore for now* `__builtin__` - Ignore for now\n",
    "* All special names in python begin and end with `__`\n",
    "* You can see all the attributes of a module using the `dir()` function, which returns a list data type - more on lists later. `dir()`returns a list of the attributes and methods of any object: modules, functions, strings, lists, dictionaries... \n"
   ]
  },
  {
   "cell_type": "markdown",
   "metadata": {},
   "source": [
    "### The import search path\n"
   ]
  },
  {
   "cell_type": "code",
   "execution_count": 4,
   "metadata": {},
   "outputs": [
    {
     "name": "stdout",
     "output_type": "stream",
     "text": [
      "<module 'sys' (built-in)>\n",
      "['/home/jordivilla/GitHub/Tools/pythonPrimer', '/home/jordivilla/miniconda3/lib/python311.zip', '/home/jordivilla/miniconda3/lib/python3.11', '/home/jordivilla/miniconda3/lib/python3.11/lib-dynload', '', '/home/jordivilla/miniconda3/lib/python3.11/site-packages', '/my/new/path']\n"
     ]
    }
   ],
   "source": [
    "import sys                 \n",
    "print(sys)\n",
    "sys.path.append('/my/new/path') \n",
    "print(sys.path)"
   ]
  },
  {
   "cell_type": "code",
   "execution_count": 5,
   "metadata": {},
   "outputs": [
    {
     "name": "stdout",
     "output_type": "stream",
     "text": [
      "sys.argv[0] = /home/jordivilla/miniconda3/lib/python3.11/site-packages/ipykernel_launcher.py\n",
      "path = /home/jordivilla/miniconda3/lib/python3.11/site-packages\n",
      "full path = /home/jordivilla/miniconda3/lib/python3.11/site-packages\n"
     ]
    }
   ],
   "source": [
    "import sys, os\n",
    "print('sys.argv[0] =', sys.argv[0])             \n",
    "pathname = os.path.dirname(sys.argv[0])        \n",
    "print('path =', pathname)\n",
    "print('full path =', os.path.abspath(pathname))"
   ]
  },
  {
   "cell_type": "markdown",
   "metadata": {},
   "source": [
    "### Function basics\n",
    "[Python library: Functions](http://docs.python.org/library/functions.html)\n",
    "\n",
    "* We have already seen two functions - `reload()` \\& `dir()`\n",
    "* Functions are defined using the `def` statement\n",
    "* All code that is in the function must be indented\n",
    "* The function ends when the indentation level is the same as the def statement that created it.\n",
    "* The functions arguments are given in brackets after the name\n",
    "* Note you do not declare types in the argument list!\n",
    "* You can use any object as the arguments to a function: e.g. Numbers, modules and even other functions!"
   ]
  },
  {
   "cell_type": "code",
   "execution_count": 6,
   "metadata": {},
   "outputs": [
    {
     "name": "stdout",
     "output_type": "stream",
     "text": [
      "3 * 2 =  6\n"
     ]
    }
   ],
   "source": [
    "def mult(a, b):\n",
    "    if b == 0:\n",
    "        return 0\n",
    "    rest = mult(a, b - 1)\n",
    "    value = a + rest\n",
    "    return value\n",
    "print(\"3 * 2 = \", mult(3, 2))"
   ]
  },
  {
   "cell_type": "markdown",
   "metadata": {},
   "source": [
    "## Recursivity\n",
    "\n",
    "QUESTION:Write a function for the factorial of a number\n",
    "\n",
    "QUESTION:Write a function for counting down from a given integer"
   ]
  },
  {
   "cell_type": "code",
   "execution_count": 7,
   "metadata": {},
   "outputs": [
    {
     "name": "stdout",
     "output_type": "stream",
     "text": [
      "5\n",
      "4\n",
      "3\n",
      "2\n",
      "1\n",
      "0\n"
     ]
    }
   ],
   "source": [
    "# example function\n",
    "def count_down(n):\n",
    "    print(n)\n",
    "    if n > 0:\n",
    "        return count_down(n-1)\n",
    " \n",
    "count_down(5)"
   ]
  },
  {
   "cell_type": "code",
   "execution_count": 8,
   "metadata": {},
   "outputs": [
    {
     "name": "stdout",
     "output_type": "stream",
     "text": [
      "2! = 2\n",
      "3! = 6\n",
      "4! = 24\n",
      "5! = 120\n"
     ]
    }
   ],
   "source": [
    "# example function\n",
    "def factorial(n):\n",
    "    if n <= 1:\n",
    "        return 1\n",
    "    return n * factorial(n - 1)\n",
    " \n",
    "print(\"2! =\", factorial(2)) \n",
    "print(\"3! =\", factorial(3)) \n",
    "print(\"4! =\", factorial(4)) \n",
    "print(\"5! =\", factorial(5)) "
   ]
  },
  {
   "cell_type": "markdown",
   "metadata": {},
   "source": [
    "## More on functions\n",
    "* The function is not created until `def is executed\n",
    "* Like numbers and modules, functions are objects\n",
    "* When `def executes it creates a function object and associates a name with it.\n",
    "\n",
    "![Functions](../figures/functions_1.png)\n",
    "\n",
    "## Argument values\n",
    "\n",
    "Try this in a python script:\n",
    "\n",
    "```python\n",
    "def ask_ok(prompt, retries=4, complaint='Yes or no, please!'):\n",
    "    while True:\n",
    "        ok = input(prompt)\n",
    "        if ok in ('y', 'ye', 'yes'):\n",
    "            return True\n",
    "        if ok in ('n', 'no', 'nop', 'nope'):\n",
    "            return False\n",
    "        retries = retries - 1\n",
    "        if retries < 0:\n",
    "            raise IOError('refusenik user')\n",
    "        print(complaint)\n",
    "ask_ok('Do you really want to quit?')\n",
    "ask_ok('OK to overwrite the file?', 2)\n",
    "ask_ok('OK to overwrite the file?', 2, 'Come on, only yes or no!')\n",
    "```"
   ]
  },
  {
   "cell_type": "markdown",
   "metadata": {},
   "source": [
    "\n",
    "## Lambda forms\n",
    "Lambda forms can be used wherever function objects are required. They are syntactically restricted to a single expression. \n"
   ]
  },
  {
   "cell_type": "code",
   "execution_count": 9,
   "metadata": {},
   "outputs": [
    {
     "name": "stdout",
     "output_type": "stream",
     "text": [
      "42\n",
      "43\n"
     ]
    }
   ],
   "source": [
    "def make_incrementor(n):\n",
    "    return lambda x: x + n\n",
    "\n",
    "f = make_incrementor(42)\n",
    "print(f(0))\n",
    "print(f(1))"
   ]
  },
  {
   "cell_type": "markdown",
   "metadata": {},
   "source": [
    "## Function documentation\n",
    "\n",
    "* Like modules functions can also have doc strings.\n",
    "* The doc string is the first string after the function definition.\n",
    "* It must be enclosed in triple quotes ''' '''.\n",
    "* It is accessible through the attribute `__doc__`.\n",
    "\n",
    "## Objects and attributes\n",
    "* In python everything is an object.\n",
    "* Numbers\n",
    "* Functions\n",
    "* Modules\n",
    "* In python all objects have attributes\n",
    "* The `dir()` function lists the attributes of any object\n",
    "* Remember objects also have types\n",
    "* Functions are of type function\n",
    "* Integers have type int etc.\n",
    "* Use the `type()` function to get an objects type.\n",
    "\n"
   ]
  },
  {
   "cell_type": "code",
   "execution_count": 10,
   "metadata": {},
   "outputs": [
    {
     "name": "stdout",
     "output_type": "stream",
     "text": [
      "Negative changed to absolute value 3\n",
      "square values in the interval [ -3 , 3 ]\n",
      "-3 9\n",
      "-2 4\n",
      "-1 1\n",
      "0 0\n",
      "1 1\n",
      "2 4\n",
      "3 9\n",
      "\n",
      "Fibonacci serie up to  3\n",
      "1\n",
      "1\n",
      "2\n"
     ]
    }
   ],
   "source": [
    "def function(n):\n",
    "    \"\"\"Print square values up to n.\"\"\"\n",
    "    print('square values in the interval [', -n,',',n,']')\n",
    "    i=0\n",
    "    for x2 in range(-n, n+1):\n",
    "        print(x2,x2**2)\n",
    "\n",
    "def fib(n):    \n",
    "    # write Fibonacci series up to n\n",
    "    \"\"\"Print a Fibonacci series up to n.\"\"\"\n",
    "    print('\\nFibonacci serie up to ', n)\n",
    "    a, b = 0, 1\n",
    "    while b<n:\n",
    "        print(b,)\n",
    "        a,b=b,a+b\n",
    "\n",
    "\n",
    "#n0 = int(input(\"Please enter an integer: \"))\n",
    "n0 = -3\n",
    "\n",
    "if n0 < 0:\n",
    "    n0 = abs(n0)\n",
    "    print('Negative changed to absolute value', n0)\n",
    "function(n0)\n",
    "fib(n0)\n"
   ]
  },
  {
   "cell_type": "markdown",
   "metadata": {},
   "source": [
    "\n",
    "QUESTION:Create a module called `firstExercise.py`.  Define the following functions and variables in the module:\n",
    "* A function called `objectDocumention` which takes one argument and returns the doc string of the argument.\n",
    "* A function called `objectName` which takes one argument and returns its `__name__` attribute.\n",
    "* A function called `multiply(a, b)` which returns `a * b`. Try passing objects other than numbers.\n",
    "* A function called `integerMultiply(a,b)` which converts its arguments to integers before multiplying them. Hint: Use the function `int()` to convert objects to integers. Try with mixed numbers and strings.\n",
    "* Load the module from the interactive shell and test it. \n",
    "\n",
    "QUESTION:Write a program (Python script) named `madlib.py`, which asks the user to enter a series of nouns, verbs, adjectives, adverbs, plural nouns, past tense verbs, etc., and then generates a paragraph which is syntactically correct but semantically ridiculous.\n",
    "\n",
    "## Coercion\n",
    "* Converting an object from one type to another is called coercion\n",
    "```\n",
    ">>> x=2\n",
    ">>> y=3.\n",
    ">>> coerce(x,y)\n",
    "(2.0, 3.0)\n",
    "```\n",
    "* However not all objects can be coerced.\n",
    "* When performing numeric operations the object with the smaller type is converted to the larger type.\n",
    "* When using `and` or `or` the left hand operand is converted to a bool.\n",
    "* The standard coercion functions for the types we have seen so far are `int()`, `float()`, `str()`, `bool()`\n",
    "\n",
    "## Bool conversions\n",
    "* Any non-zero number or non-empty object converts to `True`\n",
    "* A zero number or an empty object is `False`.\n",
    "\n",
    "## Operator overloading\n",
    "* Operators that perform different actions depending on the types of the operands are said to be {\\em overloaded\n",
    "* `*`\n",
    "* Multiplies when the operands are both numbers\n",
    "* Replicates when one is a number and the other a string\n",
    "* `+`\n",
    "* Adds when the operands are both numbers\n",
    "* Concatenates when the operands are both strings.\n",
    "* Many operators in python are overloaded.\n",
    "* Notice that when the operands do not support the operator python raises an error. There is no point in checking your self.\n",
    "* Also when the operators meaning is ambiguous an error is raised: using `+` with a string and a number - addition or concatenation?\n",
    "\n",
    "## Some other terminology\n",
    "* Assigning an object to a name e.g. `a = 3, `firstFunction = secondFunction, is often called {\\em binding.\n",
    "* Changing  what a name refers to is called {\\em rebinding.\n",
    "* `a = 3` Binds the name a to the object 3\n",
    "* `a = \"aString\"` Rebinds the name a to the object \"aString\"\n",
    "\n",
    "## Strings\n",
    "* A string is an ordered collection of characters.\n",
    "* They are immutable i.e. They cannot be changed.\n",
    "* You can create strings using \n",
    "* Double quotes - \"\"\n",
    "* Single quotes - ''\n",
    "* Triple quotes ''' ''' - i.e. Doc strings.\n",
    "* Double and single quotes are the same\n",
    "* Triple quotes create block strings which can span multiple lines."
   ]
  },
  {
   "cell_type": "code",
   "execution_count": 11,
   "metadata": {},
   "outputs": [
    {
     "name": "stdout",
     "output_type": "stream",
     "text": [
      "This is a rather long string containing\n",
      "several lines of text just as you would do in C.\n",
      "    Note that whitespace at the beginning of the line is significant.\n"
     ]
    }
   ],
   "source": [
    "hello = \"This is a rather long string containing\\n\\\n",
    "several lines of text just as you would do in C.\\n\\\n",
    "    Note that whitespace at the beginning of the line is\\\n",
    " significant.\"\n",
    "\n",
    "print(hello)"
   ]
  },
  {
   "cell_type": "markdown",
   "metadata": {},
   "source": [
    " \n",
    "## Basic String Operations\n",
    "* We've already seen `*` (replicate) and `+` (concatenate)\n",
    "* Since strings are ordered collection of characters we can access their components by {\\em indexing\n",
    "* The first character in the string has position 0.\n",
    "* The position of the last character is equal to the number of characters in the string -1.\n",
    "* `[]` is the index operator\n",
    "* `aString = \"Genial\"`\n",
    "* `aString[1]`\n",
    "*  You can also index from the end using negative numbers\n",
    "* `aString[-1]` (This is the position = number of characters in the string -1)\n",
    "* `\"Genial\"` length is 6\n",
    "* `\"Genial\"[-1]` is position `6 - 1 = 5 (\"l\")`\n",
    "\n",
    "## Slicing\n",
    "* Slicing takes specified parts of a string and creates a new string.\n",
    "* `[start:end]` Take from position start up to but not including position end\n",
    "* `Astring[1:3]`\n",
    "* If `start` is blank i.e. `[:end]`. It means from the first position\n",
    "* If `end` is blank i.e. `[start:]`. It means go to the last position\n",
    "* Extended slicing `[start:end:step]`\n",
    "* `[1:10:2]` - Get the characters from 1 to 10 taking steps of 2.\n",
    "\n",
    "## String examples\n"
   ]
  },
  {
   "cell_type": "code",
   "execution_count": 12,
   "metadata": {},
   "outputs": [
    {
     "name": "stdout",
     "output_type": "stream",
     "text": [
      "HelpA\n"
     ]
    },
    {
     "data": {
      "text/plain": [
       "'<HelpAHelpAHelpAHelpAHelpA>'"
      ]
     },
     "execution_count": 12,
     "metadata": {},
     "output_type": "execute_result"
    }
   ],
   "source": [
    "word = 'Help' + 'A'\n",
    "print(word)\n",
    "'<' + word*5 + '>'"
   ]
  },
  {
   "cell_type": "markdown",
   "metadata": {},
   "source": [
    "Some examples:\n",
    "\n",
    "```\n",
    ">>> 'str' 'ing'                   #  <-  This is ok\n",
    "'string'\n",
    ">>> 'str'.strip() + 'ing'   #  <-  This is ok\n",
    "'string'\n",
    ">>> 'str'.strip() 'ing'     #  <-  This is invalid\n",
    "  File \"<stdin>\", line 1, in ?\n",
    "    'str'.strip() 'ing'\n",
    "                      ^\n",
    "SyntaxError: invalid syntax\n",
    "```\n"
   ]
  },
  {
   "cell_type": "code",
   "execution_count": 13,
   "metadata": {},
   "outputs": [
    {
     "ename": "TypeError",
     "evalue": "'str' object does not support item assignment",
     "output_type": "error",
     "traceback": [
      "\u001b[0;31m---------------------------------------------------------------------------\u001b[0m",
      "\u001b[0;31mTypeError\u001b[0m                                 Traceback (most recent call last)",
      "Cell \u001b[0;32mIn[13], line 1\u001b[0m\n\u001b[0;32m----> 1\u001b[0m \u001b[43mword\u001b[49m\u001b[43m[\u001b[49m\u001b[38;5;241;43m0\u001b[39;49m\u001b[43m]\u001b[49m \u001b[38;5;241m=\u001b[39m \u001b[38;5;124m'\u001b[39m\u001b[38;5;124mx\u001b[39m\u001b[38;5;124m'\u001b[39m \u001b[38;5;66;03m# ERROR! you cannot assign an item to a str object or part of it. In other words..\u001b[39;00m\n\u001b[1;32m      2\u001b[0m               \u001b[38;5;66;03m# ... str are ummutable\u001b[39;00m\n",
      "\u001b[0;31mTypeError\u001b[0m: 'str' object does not support item assignment"
     ]
    }
   ],
   "source": [
    "word[0] = 'x' # ERROR! you cannot assign an item to a str object or part of it. In other words..\n",
    "              # ... str are ummutable"
   ]
  },
  {
   "cell_type": "code",
   "execution_count": null,
   "metadata": {},
   "outputs": [
    {
     "name": "stdout",
     "output_type": "stream",
     "text": [
      "pA\n",
      "HelpA\n"
     ]
    },
    {
     "ename": "IndexError",
     "evalue": "string index out of range",
     "output_type": "error",
     "traceback": [
      "\u001b[0;31m---------------------------------------------------------------------------\u001b[0m",
      "\u001b[0;31mIndexError\u001b[0m                                Traceback (most recent call last)",
      "\u001b[1;32m/home/jordivilla/GitHub/Classes/Data-Science-with-Python/code/BasicPythonIntro.ipynb Cell 33\u001b[0m line \u001b[0;36m3\n\u001b[1;32m      <a href='vscode-notebook-cell:/home/jordivilla/GitHub/Classes/Data-Science-with-Python/code/BasicPythonIntro.ipynb#X46sZmlsZQ%3D%3D?line=0'>1</a>\u001b[0m \u001b[39mprint\u001b[39m(word[\u001b[39m-\u001b[39m\u001b[39m2\u001b[39m:])    \u001b[39m# The last two characters\u001b[39;00m\n\u001b[1;32m      <a href='vscode-notebook-cell:/home/jordivilla/GitHub/Classes/Data-Science-with-Python/code/BasicPythonIntro.ipynb#X46sZmlsZQ%3D%3D?line=1'>2</a>\u001b[0m \u001b[39mprint\u001b[39m(word[\u001b[39m-\u001b[39m\u001b[39m100\u001b[39m:])\n\u001b[0;32m----> <a href='vscode-notebook-cell:/home/jordivilla/GitHub/Classes/Data-Science-with-Python/code/BasicPythonIntro.ipynb#X46sZmlsZQ%3D%3D?line=2'>3</a>\u001b[0m \u001b[39mprint\u001b[39m(word[\u001b[39m-\u001b[39;49m\u001b[39m10\u001b[39;49m])    \u001b[39m# ERROR\u001b[39;00m\n",
      "\u001b[0;31mIndexError\u001b[0m: string index out of range"
     ]
    }
   ],
   "source": [
    "print(word[-2:])    # The last two characters\n",
    "print(word[-100:])\n",
    "print(word[-10])    # ERROR"
   ]
  },
  {
   "cell_type": "markdown",
   "metadata": {},
   "source": [
    "![Table showing str indexes](../figures/tableStringIndex.png)\n"
   ]
  },
  {
   "cell_type": "code",
   "execution_count": null,
   "metadata": {},
   "outputs": [],
   "source": [
    "string1 = \"A, B, C, D, E, F\"\n",
    "\n",
    "print(\"String is:\", string1)\n",
    "print(\"Split string by spaces:\", string1.split())\n",
    "print(\"Split string by commas:\", string1.split( \",\" ))\n",
    "print(\"Split string by commas, max 2:\", string1.split( \",\", 2 ))"
   ]
  },
  {
   "cell_type": "markdown",
   "metadata": {},
   "source": [
    "Removing leading and/or trailing characters in a string:\n"
   ]
  },
  {
   "cell_type": "code",
   "execution_count": null,
   "metadata": {},
   "outputs": [],
   "source": [
    "string1 = \"\\t  \\n  This is a test string. \\t\\t \\n\"\n",
    "print('Original string: \"%s\"\\n' % string1)\n",
    "print('Using strip: \"%s\"\\n' % string1.strip())\n",
    "print('Using left strip: \"%s\"\\n' % string1.lstrip())\n",
    "print('Using right strip: \"%s\"\\n' % string1.rstrip())"
   ]
  },
  {
   "cell_type": "markdown",
   "metadata": {},
   "source": [
    "\n",
    "\n",
    "## Lists\n",
    "* Lists contain ordered collections of any type of object: Numbers, strings, other lists.\n",
    "* List Properties:\n",
    "* Mutable\n",
    "* Can change the object at any position\n",
    "* Can add and remove items from a list (more later)\n",
    "*  Heterogenous\n",
    "* Can contain a mixture of data\n",
    "* Creating a list\n",
    "* `myList = []` \n",
    "* `myList = [3, 4, \"Jordi\"]`\n",
    "* `myList = [\"aString\", [3, 4, \"Jordi\"]]`\n",
    "## List Operations\n",
    "* A list like a string is a sequence. All the operators that work on strings work on lists (more {\\em overloading\n",
    "* `*` (replication)\n",
    "* `+` (concatenation)\n",
    "* `[]` (indexing)\n",
    "* `[:]` (slicing)\n",
    "* In addition a list is mutable - you can assign to list positions\n",
    "* Index assignment: `myList[3] = \"Hello\"` \n",
    "* Slice assignment: `MyList[0:3] = [0,1]` (Two steps: Deletion - the slice on the left is deleted; Insertion - the slice on the right is inserted in its place.\n",
    "\n",
    "## List Operations\n",
    "* Trying to access a position that does not exist in a sequence is an error\n",
    "* The function `len()` returns the number of items in a sequence.\n",
    "* There are two more sequence operators\n",
    "* `x` in sequence evaluates as True if the object x is in the sequence or false if its not.  e.g. `3 in [1,2,3]`, `\"J\" in \"Jordi\"`\n",
    "* `x` not in sequence,  the opposite of in.\n",
    "\n",
    "## Examples with lists\n"
   ]
  },
  {
   "cell_type": "markdown",
   "metadata": {},
   "source": [
    "```\n",
    ">>> q = [2, 3]\n",
    ">>> p = [1, q, 4]\n",
    ">>> len(p)\n",
    "3\n",
    ">>> p[1]\n",
    "[2, 3]\n",
    ">>> p[1][0]\n",
    "2\n",
    ">>> p[1].append('xtra')\n",
    ">>> p\n",
    "[1, [2, 3, 'xtra'], 4]\n",
    ">>> q\n",
    "[2, 3, 'xtra']\n",
    "```"
   ]
  },
  {
   "cell_type": "markdown",
   "metadata": {},
   "source": [
    "\n",
    "## Shallow vs Deep list copy\n",
    "Shallow Copy: (copies chunks of memory from one location to another)\n"
   ]
  },
  {
   "cell_type": "code",
   "execution_count": null,
   "metadata": {},
   "outputs": [
    {
     "name": "stdout",
     "output_type": "stream",
     "text": [
      "139655914768128 ['one', 'two', 'three']\n",
      "139655916758272 ['one', 2, 'three']\n"
     ]
    }
   ],
   "source": [
    "a = ['one','two','three']\n",
    "b = a[:]\n",
    "b[1] = 2\n",
    "print(id(a), a)\n",
    "print(id(b), b) \n"
   ]
  },
  {
   "cell_type": "markdown",
   "metadata": {},
   "source": [
    "Deep Copy: (Copies object reference)\n"
   ]
  },
  {
   "cell_type": "code",
   "execution_count": null,
   "metadata": {},
   "outputs": [
    {
     "name": "stdout",
     "output_type": "stream",
     "text": [
      "139655916762176 ['one', 2, 'three']\n",
      "139655916762176 ['one', 2, 'three']\n"
     ]
    }
   ],
   "source": [
    "a = ['one','two','three']\n",
    "b = a\n",
    "b[1] = 2\n",
    "print(id(a), a) \n",
    "print(id(b), b) \n"
   ]
  },
  {
   "cell_type": "markdown",
   "metadata": {},
   "source": [
    "\n",
    "## The `del` statement\n"
   ]
  },
  {
   "cell_type": "code",
   "execution_count": null,
   "metadata": {},
   "outputs": [
    {
     "name": "stdout",
     "output_type": "stream",
     "text": [
      "[1, 66.25, 333, 333, 1234.5]\n",
      "[1, 66.25, 1234.5]\n",
      "[]\n"
     ]
    }
   ],
   "source": [
    "a = [-1, 1, 66.25, 333, 333, 1234.5]\n",
    "del a[0]\n",
    "print(a)\n",
    "del a[2:4]\n",
    "print(a)\n",
    "del a[:]\n",
    "print(a)"
   ]
  },
  {
   "cell_type": "markdown",
   "metadata": {},
   "source": [
    "\n",
    "## `if` statement\n",
    "\n",
    "```\n",
    "if test1:\n",
    "\t<statements1>\n",
    "elif test2:\n",
    "\t<statements2>\n",
    "else:\n",
    "\t<statements3>\n",
    "```"
   ]
  },
  {
   "cell_type": "markdown",
   "metadata": {},
   "source": [
    "* All code that exists in the if statement must be indented (there are no braces etc.)\n",
    "* Expression is any python expression that evaluates to a boolean i.e `True` or `False`"
   ]
  },
  {
   "cell_type": "code",
   "execution_count": null,
   "metadata": {},
   "outputs": [
    {
     "name": "stdout",
     "output_type": "stream",
     "text": [
      "More\n"
     ]
    }
   ],
   "source": [
    "#x = int(input(\"Please enter an integer: \"))\n",
    "x = 3\n",
    "if x < 0:\n",
    "    x = 0\n",
    "    print('Negative changed to zero')\n",
    "elif x == 0:\n",
    "    print('Zero')\n",
    "elif x == 1:\n",
    "    print('Single')\n",
    "else:\n",
    "    print('More')\n"
   ]
  },
  {
   "cell_type": "markdown",
   "metadata": {},
   "source": [
    "\n",
    "## `while`  loop\n",
    "\n",
    "```\n",
    "while test:\n",
    "\t<statements>\n",
    "```\n",
    "*  Repeatedly executes `<statements>` until `test` is true"
   ]
  },
  {
   "cell_type": "code",
   "execution_count": null,
   "metadata": {},
   "outputs": [
    {
     "name": "stdout",
     "output_type": "stream",
     "text": [
      "1\n",
      "1\n",
      "2\n",
      "3\n",
      "5\n",
      "8\n",
      "13\n",
      "21\n",
      "34\n",
      "55\n",
      "89\n"
     ]
    }
   ],
   "source": [
    "# Fibonacci series:\n",
    "# the sum of two elements defines the next\n",
    "a, b = 0, 1\n",
    "while b < 100:\n",
    "    print(b)\n",
    "    a, b = b, a+b"
   ]
  },
  {
   "cell_type": "markdown",
   "metadata": {},
   "source": [
    "\n",
    "## `for` loop\n",
    "\n",
    "```\n",
    "for <target> in <object>:\n",
    "\t<statements>\n",
    "```"
   ]
  },
  {
   "cell_type": "markdown",
   "metadata": {},
   "source": [
    "* When python runs this loop it assigns the elements in `<object>`, one by one to the variable `<target>`\n",
    "* Remember `<target>` is only a reference to an item in the sequence. Rebinding `<target>` does not change the item in the sequence.\n",
    "* To change the elements of a list you need to use the `range()` function.\n",
    "\n",
    "QUESTION:try changing the characters of `\"Peter\"` to `\"Roman\"` by different methods (use while, for, ...)\n",
    "\n",
    "## `for` loop examples\n"
   ]
  },
  {
   "cell_type": "code",
   "execution_count": null,
   "metadata": {},
   "outputs": [
    {
     "name": "stdout",
     "output_type": "stream",
     "text": [
      "cat 3\n",
      "window 6\n",
      "defenestrate 12\n"
     ]
    }
   ],
   "source": [
    ">>> # Measure some strings:\n",
    "a = ['cat', 'window', 'defenestrate']\n",
    "for x in a:\n",
    "    print(x, len(x))"
   ]
  },
  {
   "cell_type": "code",
   "execution_count": null,
   "metadata": {},
   "outputs": [
    {
     "name": "stdout",
     "output_type": "stream",
     "text": [
      "['defenestrate', 'cat', 'window', 'defenestrate']\n"
     ]
    }
   ],
   "source": [
    "for x in a[:]: # make a slice copy of the entire list\n",
    "    if len(x) > 6: a.insert(0, x)\n",
    "print(a)"
   ]
  },
  {
   "cell_type": "markdown",
   "metadata": {},
   "source": [
    "`a.insert(len(a), x)` is equivalent to `a.append(x)`"
   ]
  },
  {
   "cell_type": "code",
   "execution_count": null,
   "metadata": {},
   "outputs": [
    {
     "name": "stdout",
     "output_type": "stream",
     "text": [
      "0 Mary\n",
      "1 had\n",
      "2 a\n",
      "3 little\n",
      "4 lamb\n"
     ]
    }
   ],
   "source": [
    "a = ['Mary', 'had', 'a', 'little', 'lamb']\n",
    "for i in range(len(a)):\n",
    "    print(i, a[i])"
   ]
  },
  {
   "cell_type": "markdown",
   "metadata": {},
   "source": [
    "\n",
    "## Loop statements\n",
    "* `break` Jumps out of the innermost loop. Use when you want a loop to end immediately due to some condition being reached\n",
    "* `continue` Jumps to the top of the innermost loop. Use when you dont want to execute any more code for this iteration\n",
    "* `pass` for empty loops\n",
    "* `else` block, Executed if a loop was not exited due to a break statement \n",
    "\n",
    "## Some examples\n"
   ]
  },
  {
   "cell_type": "code",
   "execution_count": null,
   "metadata": {},
   "outputs": [
    {
     "name": "stdout",
     "output_type": "stream",
     "text": [
      "3 is a prime number\n",
      "4 equals 2 * 2.0\n",
      "5 is a prime number\n",
      "5 is a prime number\n",
      "5 is a prime number\n",
      "6 equals 2 * 3.0\n",
      "7 is a prime number\n",
      "7 is a prime number\n",
      "7 is a prime number\n",
      "7 is a prime number\n",
      "7 is a prime number\n",
      "8 equals 2 * 4.0\n",
      "9 is a prime number\n",
      "9 equals 3 * 3.0\n"
     ]
    }
   ],
   "source": [
    "for n in range(2, 10):\n",
    "    for x in range(2, n):\n",
    "        if n % x == 0:\n",
    "            print(n, 'equals', x, '*', n/x)\n",
    "            break\n",
    "        else:\n",
    "            # loop fell through without finding a factor\n",
    "            print(n, 'is a prime number')"
   ]
  },
  {
   "cell_type": "markdown",
   "metadata": {},
   "source": [
    "Example of using `pass`:\n",
    "```\n",
    "while True:\n",
    "    pass  # Busy-wait for keyboard interrupt (Ctrl+C)\n",
    "```"
   ]
  },
  {
   "cell_type": "markdown",
   "metadata": {},
   "source": [
    "\n",
    "## List comprehensions\n"
   ]
  },
  {
   "cell_type": "code",
   "execution_count": null,
   "metadata": {},
   "outputs": [
    {
     "name": "stdout",
     "output_type": "stream",
     "text": [
      "[1, 9, 8, 4]\n",
      "[2, 18, 16, 8]\n"
     ]
    }
   ],
   "source": [
    "li = [1, 9, 8, 4]     \n",
    "print(li)                           \n",
    "li = [elem*2 for elem in li] \n",
    "print(li)"
   ]
  },
  {
   "cell_type": "markdown",
   "metadata": {},
   "source": [
    " look at it from right to left. `li` is the list you're mapping\n"
   ]
  },
  {
   "cell_type": "code",
   "execution_count": null,
   "metadata": {},
   "outputs": [
    {
     "name": "stdout",
     "output_type": "stream",
     "text": [
      "[8, 6, -18, 16, 12, -36, 24, 18, -54]\n",
      "[6, 5, -7, 8, 7, -5, 10, 9, -3]\n",
      "[8, 12, -54]\n",
      "['3.1', '3.14', '3.142', '3.1416', '3.14159']\n"
     ]
    }
   ],
   "source": [
    "vec1 = [2, 4, 6]\n",
    "vec2 = [4, 3, -9]\n",
    "print([x*y for x in vec1 for y in vec2])\n",
    "print([x+y for x in vec1 for y in vec2])\n",
    "print([vec1[i]*vec2[i] for i in range(len(vec1))])\n",
    "print([str(round(355/113.0, i)) for i in range(1,6)])"
   ]
  },
  {
   "cell_type": "code",
   "execution_count": null,
   "metadata": {},
   "outputs": [
    {
     "data": {
      "text/plain": [
       "'server=mpilgrim;database=master;uid=sa;pwd=secret'"
      ]
     },
     "execution_count": 14,
     "metadata": {},
     "output_type": "execute_result"
    }
   ],
   "source": [
    "params = {\"server\":\"mpilgrim\", \"database\":\"master\", \"uid\":\"sa\", \"pwd\":\"secret\"}\n",
    "[\"%s=%s\" % (k, v) for k, v in params.items()]\n",
    "\";\".join([\"%s=%s\" % (k, v) for k, v in params.items()])"
   ]
  },
  {
   "cell_type": "markdown",
   "metadata": {},
   "source": [
    "\n",
    "## Files\n",
    "* The file object in python represents a file that you can read from and write to\n",
    "* Unlike the other python objects you can not use operators on them e.g. `+, `*, `[] etc.\n",
    "* Creation\n",
    "```\n",
    "myFile = open(location)\n",
    "```\n",
    "* Some Methods\n",
    "  * `read()`\n",
    "  * `readline()`\n",
    "  * `readlines()`\n",
    "  * `write()`\n",
    "  * `writelines()`\n",
    "  * `close()`\n",
    "\n",
    "## File manipulation examples\n",
    "\n",
    "[Input/Output](http://docs.python.org/tutorial/inputoutput.html)\n"
   ]
  },
  {
   "cell_type": "code",
   "execution_count": null,
   "metadata": {},
   "outputs": [
    {
     "name": "stdout",
     "output_type": "stream",
     "text": [
      "Testing files in Python.\n",
      "easily\n",
      "\n",
      "\n",
      "Bottom line.\n"
     ]
    }
   ],
   "source": [
    "fileHandle = open('test.txt', 'w') # write mode\n",
    "fileHandle.write('Testing files in Python.\\neasily')\n",
    "fileHandle.close()\n",
    "fileHandle = open('test.txt', 'a') # append mode\n",
    "fileHandle.write('\\n\\n\\nBottom line.')\n",
    "fileHandle.close()\n",
    "fileHandle = open('test.txt') # read mode (default)\n",
    "print(fileHandle.read())\n",
    "fileHandle.close()\n"
   ]
  },
  {
   "cell_type": "markdown",
   "metadata": {},
   "source": [
    "\n",
    "## File manipulation examples\n"
   ]
  },
  {
   "cell_type": "code",
   "execution_count": null,
   "metadata": {},
   "outputs": [
    {
     "name": "stdout",
     "output_type": "stream",
     "text": [
      "Testing files in Python.\n",
      "\n",
      "25\n",
      "easily\n",
      "\n",
      "T\n",
      "4\n",
      "i\n"
     ]
    }
   ],
   "source": [
    "fileHandle = open ( 'test.txt' )\n",
    "print(fileHandle.readline()) \n",
    "print(fileHandle.tell()) # position within the file\n",
    "print(fileHandle.readline())\n",
    "fileHandle = open ( 'test.txt' )\n",
    "print(fileHandle.read ( 1 ))\n",
    "print(fileHandle.seek ( 4 ))\n",
    "print(fileHandle.read ( 1 )) "
   ]
  },
  {
   "cell_type": "markdown",
   "metadata": {},
   "source": [
    "\n",
    "## More sophisticated file manipulation\n",
    "http://docs.python.org/library/glob.html\n"
   ]
  },
  {
   "cell_type": "code",
   "execution_count": null,
   "metadata": {},
   "outputs": [
    {
     "name": "stdout",
     "output_type": "stream",
     "text": [
      "[]\n"
     ]
    }
   ],
   "source": [
    "import os, glob, shutil\n",
    "from os.path import expanduser\n",
    "\n",
    "home = expanduser(\"~\") #adding your $HOME directory to th\n",
    "\n",
    "'''\n",
    "file_ext = input(\"Extension for the files:\\n\")\n",
    "file_count = int(input(\"Files count in each new dir:\\n\"))\n",
    "dir_base_name = input(\"name base for dirs:\\n\")\n",
    "'''\n",
    "file_ext = \"fasta\"\n",
    "file_count = 10\n",
    "dir_base_name = home+'/Downloads/'\n",
    "filenames = glob.glob(('files/*.' + file_ext)) \n",
    "filenames.sort()\n",
    "print(filenames)\n",
    "dir_number = 0\n",
    "while filenames:\n",
    "    dir_number += 1\n",
    "    new_dir = dir_base_name + str(dir_number)\n",
    "    os.mkdir(new_dir)\n",
    "    for n in range(min(file_count, len(filenames))):\n",
    "        src_file = filenames.pop(0)\n",
    "        shutil.copy(src_file, new_dir)\n",
    "        os.unlink(src_file)\n"
   ]
  },
  {
   "cell_type": "markdown",
   "metadata": {},
   "source": [
    "\n",
    "## Methods\n",
    "* We have seen that everything in python is an object and that all objects have attributes. The attributes can have different types e.g string, int, function\n",
    "* Another type of attribute an object can have is called a {\\em method\n",
    "* An objects methods are special functions that operate on the object itself. \n",
    "* invoked with `object.method()` the method does something with object\n",
    "* Some objects like modules have no methods or very rarely used methods e.g. Functions and numbers.\n",
    "* Lists and strings have many very commonly used methods.\n",
    "\n",
    "## Example: String methods\n",
    "* Here are some string methods\n",
    "* `capitalize`\n",
    "* `count`\n",
    "* `find`\n",
    "* `index`\n",
    "* `split`\n",
    "* Some methods take arguments, others don't.\n",
    "* Check [String Methods](https://docs.python.org/3/library/string.html).\n",
    "* Check [Built-in types](https://docs.python.org/3/library/stdtypes.html).\n",
    "\n",
    "## Object attributes\n",
    "* We have seen that objects can have many attributes and that all attributes are objects. (Remember `dir()`)\n",
    "* Generally an object's attributes are divided into two types\n",
    "* Callable - They can perform some action and return a result: Functions, methods\n",
    "* Not callable - Everything else (strings, lists, numbers etc.)\n",
    "* You can check if an object is callable using the `callable()` function.\n",
    "* Another useful function is `getattr()`. It returns an attribute of an object if you know its name as a string."
   ]
  },
  {
   "cell_type": "code",
   "execution_count": null,
   "metadata": {},
   "outputs": [
    {
     "name": "stdout",
     "output_type": "stream",
     "text": [
      "<built-in method pop of list object at 0x7f043c175c00>\n"
     ]
    }
   ],
   "source": [
    "li = [\"Larry\", \"Curly\"]\n",
    "print(getattr(li, \"pop\"))           "
   ]
  },
  {
   "cell_type": "markdown",
   "metadata": {},
   "source": [
    "\n",
    "## Augmented assignment\n",
    "* Based on C\n",
    "* Short hand for writing common expressions\n",
    "* Traditional: `X = X + Y`\n",
    "* Augmented: `X += Y`\n",
    "* `X *= Y`, `X -=Y`, `X /= Y` etc.\n",
    "* Less typing\n",
    "* Automatically chooses optimal method\n",
    "```\n",
    "L = L + [3,4]\n",
    "L.extend([3,4])\n",
    "L += [3,4] # Automatically chooses extend\n",
    "```\n",
    "\n",
    "## String formatting\n",
    "`\\%`\n",
    "* Format operator.\n",
    "* You place a string to the right of the operator with conversion targets embedded in it.\n",
    "* A conversion target is a `\\%` followed by a letter. The letter indicates the conversion to be performed\n",
    "* On the right of the format operator you place, in parentheses, one object for each conversion target in the string.\n",
    "* Python inserts each object into the string, the first at the first conversion target etc, performing the necessary conversion first.\n",
    "* `\"Name \\%s. Age \\%d\" \\% (\"Joe\", 52)`\n",
    "\n",
    "## Extended formatting\n",
    "* Since all basic objects in python have a string description usually `\\%s` is all thats needed\n",
    "* However with numbers more control is often required: `\\%d`, `\\%e`, `\\%E`, `\\%f`\n",
    "* Extended formatting syntax: `\\%[flags][width][.precision]code`\n",
    "* Flags:\n",
    "  * `-`   left justify\n",
    "  * `+`  add plus for positive numbers\n",
    "  * `0`  pad with zeros\n",
    "* Width is the maximum width the conversion can have\n",
    "  * `.precision` is the number of places after the decimal point.\n",
    "\n",
    "## String formatting vs. concatenating\n"
   ]
  },
  {
   "cell_type": "code",
   "execution_count": null,
   "metadata": {},
   "outputs": [
    {
     "name": "stdout",
     "output_type": "stream",
     "text": [
      "secret is not a good password for sa\n",
      "secret is not a good password for sa\n",
      "Users connected: 6\n"
     ]
    },
    {
     "ename": "TypeError",
     "evalue": "can only concatenate str (not \"int\") to str",
     "output_type": "error",
     "traceback": [
      "\u001b[0;31m---------------------------------------------------------------------------\u001b[0m",
      "\u001b[0;31mTypeError\u001b[0m                                 Traceback (most recent call last)",
      "\u001b[1;32m/home/jordivilla/GitHub/Classes/Data-Science-with-Python/code/BasicPythonIntro.ipynb Cell 74\u001b[0m line \u001b[0;36m7\n\u001b[1;32m      <a href='vscode-notebook-cell:/home/jordivilla/GitHub/Classes/Data-Science-with-Python/code/BasicPythonIntro.ipynb#Y135sZmlsZQ%3D%3D?line=4'>5</a>\u001b[0m userCount \u001b[39m=\u001b[39m \u001b[39m6\u001b[39m\n\u001b[1;32m      <a href='vscode-notebook-cell:/home/jordivilla/GitHub/Classes/Data-Science-with-Python/code/BasicPythonIntro.ipynb#Y135sZmlsZQ%3D%3D?line=5'>6</a>\u001b[0m \u001b[39mprint\u001b[39m(\u001b[39m\"\u001b[39m\u001b[39mUsers connected: \u001b[39m\u001b[39m%d\u001b[39;00m\u001b[39m\"\u001b[39m \u001b[39m%\u001b[39m (userCount, )  )          \n\u001b[0;32m----> <a href='vscode-notebook-cell:/home/jordivilla/GitHub/Classes/Data-Science-with-Python/code/BasicPythonIntro.ipynb#Y135sZmlsZQ%3D%3D?line=6'>7</a>\u001b[0m \u001b[39mprint\u001b[39m(\u001b[39m\"\u001b[39;49m\u001b[39mUsers connected: \u001b[39;49m\u001b[39m\"\u001b[39;49m \u001b[39m+\u001b[39;49m userCount)          \u001b[39m# Error, trying to concatenate str with int        \u001b[39;00m\n",
      "\u001b[0;31mTypeError\u001b[0m: can only concatenate str (not \"int\") to str"
     ]
    }
   ],
   "source": [
    "uid = \"sa\"\n",
    "pwd = \"secret\"\n",
    "print(pwd + \" is not a good password for \" + uid)      \n",
    "print(\"%s is not a good password for %s\" % (pwd, uid)) \n",
    "userCount = 6\n",
    "print(\"Users connected: %d\" % (userCount, )  )          \n",
    "print(\"Users connected: \" + userCount)          # Error, trying to concatenate str with int        "
   ]
  },
  {
   "cell_type": "markdown",
   "metadata": {},
   "source": [
    "## Tuples\n",
    "* A tuple is an immutable list with no methods\n",
    "* Ordered collection of arbitrary objects\n",
    "* Creation \n",
    "  * `()` e.g. `(3, \"Name\")` \n",
    "  * `,` e.g. `3, \"Name`  (Not advisable)\n",
    "* A tuple with a single element is a special case: `(40,)` - require a trailing comma\n",
    "* Can be operated on by all the immutable sequence operators\n",
    "  * `*`, `+`, `[]`, `[:]`, `in` \n",
    "* Accessed by position starting from 0\n",
    "* Use `len()` to get length of a tuple\n",
    "* Note than only the tuple is immutable. Mutable objects in a tuple are still mutable.\n",
    "* Tuples provide integrity (one needs to be sure that something cannot be changed)\n",
    "\n",
    "## Using tuples to assign values\n",
    "```\n",
    ">>> v = ('a', 'b', 'e')\n",
    ">>> (x, y, z) = v     \n",
    ">>> x\n",
    "'a'\n",
    ">>> y\n",
    "'b'\n",
    ">>> z\n",
    "'e'\n",
    "```\n",
    "`v` is a tuple of three elements, and `(x, y, z)` is a tuple of three variables. \n",
    "\n",
    "## Sequence conversion\n",
    "* Like `int()`, `float()` etc. there are functions for converting objects to lists & tuples.\n",
    "  * `list()`\n",
    "  * `tuple()`\n",
    "* These functions can only coerce objects that are also sequences i.e. strings, lists, tuples\n",
    "  * `list(3)` - will not work\n",
    "  * `list(\"3\")` - will work\n",
    "\n",
    "## Sequence functions\n",
    "* `filter()`\n",
    "  * Filters the elements of a sequence based on a function and produces a new sequence\n",
    "* `map()`\n",
    "  * Applies a function to every element of a sequence and returns a list of the results. \n",
    "  * It can be used with multiple lists\n",
    "* `zip()`\n",
    "  * Takes any number of lists as arguments\n",
    "  * Returns a list of tuples where the first contains the first element of each sequence, the second the second element of each etc."
   ]
  },
  {
   "cell_type": "code",
   "execution_count": null,
   "metadata": {},
   "outputs": [
    {
     "name": "stdout",
     "output_type": "stream",
     "text": [
      "<filter object at 0x7f043c05ec50>\n",
      "<map object at 0x7f043c05ed70>\n"
     ]
    }
   ],
   "source": [
    "foo = [2, 18, 9, 22, 17, 24, 8, 12, 27]\n",
    "print(filter(lambda x: x % 3 == 0, foo))\n",
    "print(map(lambda x: x * 2 + 10, foo))"
   ]
  },
  {
   "cell_type": "markdown",
   "metadata": {},
   "source": [
    "### Example of the use of `filter`"
   ]
  },
  {
   "cell_type": "code",
   "execution_count": null,
   "metadata": {},
   "outputs": [
    {
     "name": "stdout",
     "output_type": "stream",
     "text": [
      "[1, 3, 5, 9, -3]\n"
     ]
    }
   ],
   "source": [
    "def odd(n):           \n",
    "     return n%2\n",
    "     \n",
    "li = [1, 2, 3, 5, 9, 10, 256, -3]\n",
    "filter(odd, li)       \n",
    "filteredList = []\n",
    "for n in li:          \n",
    "    if odd(n):\n",
    "        filteredList.append(n)\n",
    "print(filteredList)"
   ]
  },
  {
   "cell_type": "markdown",
   "metadata": {},
   "source": [
    "* `odd` returns 1 if n is odd and 0 if n is even.\n",
    "* `filter` takes two arguments, a function (odd) and a list (li). It loops through the list and calls odd per element.\n",
    "* You could accomplish the same thing with a for loop. But at the cost of less compact code. \n",
    "\n",
    "### Example of the use of `zip`\n"
   ]
  },
  {
   "cell_type": "code",
   "execution_count": null,
   "metadata": {},
   "outputs": [
    {
     "name": "stdout",
     "output_type": "stream",
     "text": [
      "[(1, 4, 7), (2, 5, 8), (3, 6, 9)]\n"
     ]
    }
   ],
   "source": [
    "mat = [\n",
    "       [1, 2, 3],\n",
    "       [4, 5, 6],\n",
    "       [7, 8, 9],\n",
    "      ]\n",
    "a =zip(*mat)\n",
    "print(list(a))"
   ]
  },
  {
   "cell_type": "code",
   "execution_count": null,
   "metadata": {},
   "outputs": [
    {
     "name": "stdout",
     "output_type": "stream",
     "text": [
      "{'Jesus': 'Spain', 'Marc': 'USA', 'Michal': 'Poland', 'Graham': 'UK'}\n"
     ]
    }
   ],
   "source": [
    "names = [\"Jesus\",\"Marc\",\"Michal\",\"Graham\"]\n",
    "places = [\"Spain\",\"USA\",\"Poland\",\"UK\"]\n",
    "combo = zip(names,places)\n",
    "who = dict(combo)\n",
    "print(who)"
   ]
  },
  {
   "cell_type": "markdown",
   "metadata": {},
   "source": [
    "\n",
    "### Examples of the use of `map`\n"
   ]
  },
  {
   "cell_type": "code",
   "execution_count": null,
   "metadata": {},
   "outputs": [
    {
     "name": "stdout",
     "output_type": "stream",
     "text": [
      "[2, 2, 7, 4, 3, 4]\n"
     ]
    }
   ],
   "source": [
    "# let us split a sentence and count how many characters each word contains\n",
    "# first we split it\n",
    "listofWords = 'It is raining cats and dogs'.split()\n",
    "# now we apply the function len to each word\n",
    "# take notice that map returns an iterator, which we can then convert into a list\n",
    "listofLengths = list(map(lambda w: len(w),listofWords))\n",
    "print(listofLengths)"
   ]
  },
  {
   "cell_type": "markdown",
   "metadata": {},
   "source": [
    "\n",
    "\n",
    "\n",
    "### Exercises\n",
    "\n",
    "QUESTION:Write a code that computes the prime numbers up to 50 (hint: use the `filter()` function)\n",
    "\n",
    "QUESTION:Write a code that writes a value table `(x,f(x))` for `f(x)=sin(x)` (hint: use the `map()` function)\n",
    "\n",
    "\n",
    "## Dictionaries\n",
    "\n",
    "* Dictionaries are mappings and so are iterable (see [https://realpython.com/iterate-through-dictionary-python/](https://realpython.com/iterate-through-dictionary-python/))\n",
    "* Unordered collection of objects (Python 3 includes order)\n",
    "* Access items via a key (case sensitive)\n",
    "* Very fast retrieval\n",
    "* Mutable\n",
    "* Creation\n",
    "  * `{}` - an empty dictionary\n",
    "  * `{'age': 40, 'name': \"unknown\"}`\n",
    "\n",
    "Check also `defaultdict` in [collections](https://docs.python.org/2/library/collections.html)\n",
    "\n",
    "### Example dictionaries\n"
   ]
  },
  {
   "cell_type": "code",
   "execution_count": null,
   "metadata": {},
   "outputs": [
    {
     "name": "stdout",
     "output_type": "stream",
     "text": [
      "mpilgrim\n",
      "master\n",
      "{'server': 'mpilgrim', 'database': 'pubs', 'uid': 'sa'}\n",
      "{'server': 'mpilgrim', 'database': 'pubs'}\n",
      "<zip object at 0x7f042d47a540>\n",
      "wrong key\n"
     ]
    }
   ],
   "source": [
    "d = {\"server\":\"mpilgrim\", \"database\":\"master\"}\n",
    "print(d[\"server\"])                                    \n",
    "print(d[\"database\"])   \n",
    "d[\"database\"] = \"pubs\" \n",
    "d[\"uid\"] = \"sa\"     # adding a keyword   \n",
    "print(d)\n",
    "del d['uid']        # removing a keyword\n",
    "print(d)\n",
    "\n",
    "# another practical way of creating a dictionary. \n",
    "keys = ['pere','manel','jordi','aina','teresa']\n",
    "values = [25,'pèsols','[1,2,3]',d]\n",
    "print(zip(keys,values))\n",
    "d2 = dict(zip(keys, values))\n",
    "\n",
    "\n",
    "pk = input('give me the name of a possible key in your dictionary: ')\n",
    "if pk in d2:\n",
    "    print(pk,' is a key')\n",
    "else:\n",
    "    print('wrong key')                          "
   ]
  },
  {
   "cell_type": "markdown",
   "metadata": {},
   "source": [
    "\n",
    "### Dictionary operations\n",
    "* Accessing\n",
    "  * Dict[key]\n",
    "  * `len()` - Returns the number of stored entries\n",
    "* Assignment \n",
    "  * `Dict[key] = object` \n",
    "* Removal\n",
    "  * `del Dict[key]`\n",
    "* The `del` statement can be used with lists or attributes etc.\n",
    "* Construction\n",
    "  * `dict(zip(keys, values))` \n",
    "\n",
    "### Dictionary methods\n",
    "\n",
    "Some typical methods for dictionaries:\n",
    "\n",
    "* `keys()`\n",
    "* `values()`\n",
    "* `copy()`\n",
    "\n",
    "## Note on function arguments\n"
   ]
  },
  {
   "cell_type": "code",
   "execution_count": null,
   "metadata": {},
   "outputs": [
    {
     "name": "stdout",
     "output_type": "stream",
     "text": [
      "range(3, 6)\n",
      "range(3, 6)\n"
     ]
    }
   ],
   "source": [
    "print(range(3, 6))             # normal call with separate arguments\n",
    "args = [3, 6]\n",
    "print(range(*args))            # call with arguments unpacked from a list\n"
   ]
  },
  {
   "cell_type": "code",
   "execution_count": null,
   "metadata": {},
   "outputs": [
    {
     "name": "stdout",
     "output_type": "stream",
     "text": [
      "-- Do you have any Limburger ?\n",
      "-- I'm sorry, we're all out of Limburger\n",
      "It's very runny, sir.\n",
      "It's really very, VERY runny, sir.\n",
      "----------------------------------------\n",
      "client : John Cleese\n",
      "shopkeeper : Michael Palin\n",
      "sketch : Cheese Shop Sketch\n"
     ]
    }
   ],
   "source": [
    "def cheeseshop(kind, *arguments, **keywords):\n",
    "    print(\"-- Do you have any\", kind, '?')\n",
    "    print(\"-- I'm sorry, we're all out of\", kind)\n",
    "    for arg in arguments: print(arg)\n",
    "    print ('-'*40)\n",
    "    for kw in keywords.keys(): print (kw, ':', keywords[kw])\n",
    "\n",
    "cheeseshop('Limburger', \"It's very runny, sir.\",\n",
    "           \"It's really very, VERY runny, sir.\",\n",
    "           client='John Cleese',\n",
    "           shopkeeper='Michael Palin',\n",
    "           sketch='Cheese Shop Sketch')\n"
   ]
  },
  {
   "cell_type": "markdown",
   "metadata": {},
   "source": [
    "\n",
    "## Naming convention\n",
    "* [docstrings](http://www.python.org/dev/peps/pep-0257) and [general text](http://www.python.org/dev/peps/pep-0008)\n",
    "* Function names should describe what the function does. \n",
    "* The more general the better though there is a balance. \n",
    "* Name should be enough to give an idea of what it does. \n",
    "* General does not mean short! Use full words\n",
    "* Arguments names should be as general as possible: object, aString, aFunction, comparisonFunction.\n",
    "* A variabe name should describe what it is. \n",
    "* Use full words. \n",
    "* You should not use reserved words.\n",
    "* Names beginning and ending in two `__` are system defined names and have a special meaning for the interpreter.\n",
    "\n",
    "## Finding substrings\n",
    "[index](https://www.programiz.com/python-programming/methods/string/index)"
   ]
  },
  {
   "cell_type": "code",
   "execution_count": null,
   "metadata": {},
   "outputs": [
    {
     "name": "stdout",
     "output_type": "stream",
     "text": [
      "28\n",
      "28\n"
     ]
    }
   ],
   "source": [
    "dna = \"\"\"ttcacctagtctaggacccactaatgcagatcctgtg\n",
    "tgtctagctaagatgtattatatctatattcactgggcttattgggccaa\n",
    "tgaaaatatgcaagaaaggaaaaaaaagatgtagacaaggaattctattt\"\"\"\n",
    "E='gat'\n",
    "print(dna.find(E))\n",
    "print(dna.index(E))"
   ]
  },
  {
   "cell_type": "markdown",
   "metadata": {},
   "source": [
    "Try looking for a non-existing substring with both methods\n",
    "\n",
    "QUESTION:Write a function that returns the list of codons for a DNA sequence and a given frame\n",
    "\n",
    "## Regular expressions\n",
    "\n",
    "A regular expression is a pattern that a string is searched for. Unix commands such as \"rm *.*\" are similar to regular expressions, but the syntax of regular expressions is more elaborated. Several Unix programs (grep, sed, awk, ed, vi, emacs) use regular expressions and many modern programming languages (such as Java) also support them.\n",
    "\n",
    "[REGEX](http://docs.python.org/howto/regex.html)\n",
    "[RE](http://docs.python.org/library/re.html)"
   ]
  },
  {
   "cell_type": "code",
   "execution_count": null,
   "metadata": {},
   "outputs": [
    {
     "name": "stdout",
     "output_type": "stream",
     "text": [
      "def\n",
      "egg\n",
      "Isaac Newton | Isaac | Newton | ('Isaac', 'Newton')\n"
     ]
    }
   ],
   "source": [
    "import re\n",
    "m = re.search('(?<=abc)def', 'abcdef')\n",
    "print(m.group(0))\n",
    "m = re.search('(?<=-)\\w+', 'spam-egg')\n",
    "print(m.group(0))\n",
    "m = re.match(r\"(\\w+) (\\w+)\", \"Isaac Newton, physicist\")\n",
    "print(m.group(0),'|',       # The entire match\n",
    "      m.group(1),'|',       # The first parenthesized subgroup.\n",
    "      m.group(2),'|',       # The second parenthesized subgroup.\n",
    "      m.group(1, 2))        # Multiple arguments give us a tuple.\n",
    "\n"
   ]
  },
  {
   "cell_type": "markdown",
   "metadata": {},
   "source": [
    "\n",
    "## Writing regex\n",
    "* `compile()` Compile a regular expression pattern into a regular expression object, which can be used for matching using its `match()` and `search()` methods\n",
    "* `search()`  Scan through string looking for a location where the regular expression pattern produces a match, and return a corresponding MatchObject instance.\n",
    "* `match()`  If zero or more characters at the beginning of string match the regular expression pattern, return a corresponding MatchObject instance\n",
    "* `split()` Split string by the occurrences of pattern \n",
    "\n",
    "\n",
    "In Python, a regular expression is first compiled:"
   ]
  },
  {
   "cell_type": "code",
   "execution_count": null,
   "metadata": {},
   "outputs": [
    {
     "name": "stdout",
     "output_type": "stream",
     "text": [
      "<re.Match object; span=(89, 93), match='for '>\n",
      "False\n"
     ]
    }
   ],
   "source": [
    "line = \"Compile a regular expression pattern into a regular expression object, which can be used for matching using its match() and search() methods\"\n",
    "keyword = re.compile(r\"for \")\n",
    "print(keyword.search(line))\n",
    "print(not keyword.search(line))\n",
    "keyword = re.compile(r\"the \",re.I) #for insensitive search"
   ]
  },
  {
   "cell_type": "markdown",
   "metadata": {},
   "source": [
    "\n",
    "## `re.finditer()`\n"
   ]
  },
  {
   "cell_type": "code",
   "execution_count": null,
   "metadata": {},
   "outputs": [
    {
     "name": "stdout",
     "output_type": "stream",
     "text": [
      "String match \"testing\" at 7:14\n"
     ]
    }
   ],
   "source": [
    "import re\n",
    "s1 = 'We are testing the use of finditer'\n",
    "pattern = 'testing'\n",
    "for match in re.finditer(pattern, s1):\n",
    "    s = match.start()\n",
    "    e = match.end()\n",
    "    print('String match \"%s\" at %d:%d' % (s1[s:e], s, e))"
   ]
  },
  {
   "cell_type": "markdown",
   "metadata": {},
   "source": [
    "\n",
    "QUESTION:Given a string of A, C, T, and G, and X, find a string where X matches any single character, e.g., CATGG is contained in ACTGGGXXAXGGTTT.\n",
    "\n",
    "QUESTION:Write a regular expression to extract the coding sequence from a DNA string. It starts with the ATG codon and ends with a stop codon (TAA, TAG, or TGA).\n"
   ]
  },
  {
   "cell_type": "code",
   "execution_count": null,
   "metadata": {},
   "outputs": [
    {
     "name": "stdout",
     "output_type": "stream",
     "text": [
      "['foot', 'fell', 'fastest']\n",
      "cat in the hat\n"
     ]
    },
    {
     "data": {
      "text/plain": [
       "'tea for two'"
      ]
     },
     "execution_count": 59,
     "metadata": {},
     "output_type": "execute_result"
    }
   ],
   "source": [
    "import re\n",
    "\n",
    "print(re.findall(r'\\bf[a-z]*', 'which foot or hand fell fastest'))\n",
    "print(re.sub(r'(\\b[a-z]+) \\1', r'\\1', 'cat in the the hat'))\n",
    "'tea for too'.replace('too', 'two')\n"
   ]
  },
  {
   "cell_type": "code",
   "execution_count": null,
   "metadata": {},
   "outputs": [
    {
     "name": "stdout",
     "output_type": "stream",
     "text": [
      "<class 'bytes'>\n"
     ]
    }
   ],
   "source": [
    "#!/usr/bin/env python\n",
    "import re\n",
    "\n",
    "from urllib.request import urlopen\n",
    "html = urlopen(\"http://docs.python.org/howto/regex.html\").read()\n",
    "print(type(html))\n",
    "\n",
    "# compiling the regular expression:\n",
    "keyword = re.compile(r\"the \")\n",
    "\n",
    "# searching the file content line by line:\n",
    "for line in str(html):\n",
    "    if keyword.search(line):\n",
    "       print(line,)\n"
   ]
  },
  {
   "cell_type": "markdown",
   "metadata": {},
   "source": [
    "\n",
    "## Regular expressions\n"
   ]
  },
  {
   "cell_type": "markdown",
   "metadata": {},
   "source": [
    "Write scripts that\n",
    "\n",
    "QUESTION: Retrieve all lines from a given file that do not contain \"the \". Retrieve all lines that contain \"the \" with lower or upper case letters (hint: use the ignore case option)\n",
    "\n",
    "QUESTION: Retrieve lines from a long sequence (eg, CFTR) that contain a given codon, and then a given first and third letter for each triad \n",
    "\n",
    "QUESTION: Write a script that asks users for their name, address and phone number. Test each input for accuracy, for example, there should be no letters in a phone number. A phone number should have a certain length. An address should have a certain format, etc. Ask the user to repeat the input in case your script identifies it as incorrect.\n",
    "\n",
    "QUESTION: Download the sequence of the CFTR gene and create a python program able to:\n",
    "* obtain the content of G and C\n",
    "* transcribe it into RNA sequence\n",
    "* get its complementary DNA sequence\n",
    "* get its reverse complementary DNA sequence\n",
    "* plot a histogram for the frequency of the different DNA codons in the sequence, ordering the codons by frequency in the X axis\n",
    "\n",
    "# Classes\n",
    "\n",
    "## Classes: Some defs\n",
    "\n",
    "* **Namespace** mapping from names to objects. There is absolutely norelation between names in different namescapes (different local names in a function invocation, for example; that is why we prefix them with the name of the function, for example).\n",
    "* **Scope**  textual region of a Python program where a namespace is directly accessible.\n",
    "* **Attributes**  anything you can call in the form:`object.attribute (data and methods).\n",
    "* **Instance objects** created by {\\em instantiation of classes.\n",
    "\n",
    "[Tutorial](http://docs.python.org/tutorial/classes.html)\n",
    "\n",
    "\n",
    "## Global vs local variables\n",
    "\n",
    "\n",
    "\n"
   ]
  },
  {
   "cell_type": "code",
   "execution_count": null,
   "metadata": {},
   "outputs": [
    {
     "name": "stdout",
     "output_type": "stream",
     "text": [
      "Double a global variable, return it + 3.\n",
      "5\n",
      "7\n",
      "11\n",
      "first now has the value 8\n"
     ]
    },
    {
     "ename": "NameError",
     "evalue": "name 'result' is not defined",
     "output_type": "error",
     "traceback": [
      "\u001b[0;31m---------------------------------------------------------------------------\u001b[0m",
      "\u001b[0;31mNameError\u001b[0m                                 Traceback (most recent call last)",
      "\u001b[1;32m/home/jordivilla/GitHub/Classes/Data-Science-with-Python/code/BasicPythonIntro.ipynb Cell 102\u001b[0m line \u001b[0;36m1\n\u001b[1;32m     <a href='vscode-notebook-cell:/home/jordivilla/GitHub/Classes/Data-Science-with-Python/code/BasicPythonIntro.ipynb#Y205sZmlsZQ%3D%3D?line=16'>17</a>\u001b[0m \u001b[39mprint\u001b[39m(one())\n\u001b[1;32m     <a href='vscode-notebook-cell:/home/jordivilla/GitHub/Classes/Data-Science-with-Python/code/BasicPythonIntro.ipynb#Y205sZmlsZQ%3D%3D?line=17'>18</a>\u001b[0m \u001b[39mprint\u001b[39m(\u001b[39m\"\u001b[39m\u001b[39mfirst now has the value\u001b[39m\u001b[39m\"\u001b[39m,first)\n\u001b[0;32m---> <a href='vscode-notebook-cell:/home/jordivilla/GitHub/Classes/Data-Science-with-Python/code/BasicPythonIntro.ipynb#Y205sZmlsZQ%3D%3D?line=18'>19</a>\u001b[0m \u001b[39mprint\u001b[39m(\u001b[39m\"\u001b[39m\u001b[39mresult has the value\u001b[39m\u001b[39m\"\u001b[39m,result)\n",
      "\u001b[0;31mNameError\u001b[0m: name 'result' is not defined"
     ]
    }
   ],
   "source": [
    "#!/usr/local/bin/python\n",
    "\"\"\"http://www.wellho.net/resources/ex.php4?item=y105/locvar.py\"\"\"\n",
    "# Variable scope\n",
    "\n",
    "first = 1\n",
    "\n",
    "def one():\n",
    "        \"Double a global variable, return it + 3.\"\n",
    "        global first\n",
    "        first *= 2\n",
    "        result = first+3\n",
    "        return result\n",
    "\n",
    "print(one.__doc__)\n",
    "print(one())\n",
    "print(one())\n",
    "print(one())\n",
    "print(\"first now has the value\",first)\n",
    "print(\"result has the value\",result)  # ERROR\n"
   ]
  },
  {
   "cell_type": "markdown",
   "metadata": {},
   "source": [
    "## A first example of a class\n",
    "\n",
    "\n",
    "\n",
    "\n"
   ]
  },
  {
   "cell_type": "code",
   "execution_count": null,
   "metadata": {},
   "outputs": [
    {
     "name": "stdout",
     "output_type": "stream",
     "text": [
      "My house is number 40\n",
      "It has 8 rooms\n"
     ]
    }
   ],
   "source": [
    "#! /usr/bin/python\n",
    "\"\"\"house.py -- A house program.  \"\"\"\n",
    "\n",
    "class House(object):\n",
    "    \"\"\"Some stuff \"\"\"\n",
    "my_house = House() # class instantiation\n",
    "my_house.number = 40 # data attribute\n",
    "my_house.rooms = 8\n",
    "my_house.garden = 1\n",
    "\t\n",
    "print(\"My house is number\", my_house.number)\n",
    "print(\"It has\", my_house.rooms, \"rooms\")\n",
    "if my_house.garden:\n",
    "\tgarden_text = \"has\"\n",
    "else:\n",
    "\tgarden_text = \"does not have\"\n",
    "\tprint(\"It\", garden_text, \"a garden\")\n"
   ]
  },
  {
   "cell_type": "markdown",
   "metadata": {},
   "source": [
    "## A second example of a class\n"
   ]
  },
  {
   "cell_type": "code",
   "execution_count": null,
   "metadata": {},
   "outputs": [
    {
     "name": "stdout",
     "output_type": "stream",
     "text": [
      "My house is number 20\n",
      "It has 1 rooms\n",
      "It does not have a garden\n"
     ]
    }
   ],
   "source": [
    "#! /usr/bin/python\n",
    "\"\"\"house2.py -- Another house.\n",
    "\"\"\"\n",
    "\n",
    "class House(object):\n",
    "\tdef __init__(self, number, rooms, garden):\n",
    "\t\tself.number = number\n",
    "\t\tself.rooms = rooms\n",
    "\t\tself.garden = garden\n",
    "\n",
    "my_house = House(20, 1, 0)\n",
    "\n",
    "print(\"My house is number\", my_house.number)\n",
    "print(\"It has\", my_house.rooms, \"rooms\")\n",
    "if my_house.garden:\n",
    "\tgarden_text = \"has\"\n",
    "else:\n",
    "\tgarden_text = \"does not have\"\n",
    "print(\"It\", garden_text, \"a garden\")\n"
   ]
  },
  {
   "cell_type": "markdown",
   "metadata": {},
   "source": [
    "## Adding methods"
   ]
  },
  {
   "cell_type": "code",
   "execution_count": null,
   "metadata": {},
   "outputs": [
    {
     "name": "stdout",
     "output_type": "stream",
     "text": [
      "10\n"
     ]
    }
   ],
   "source": [
    "#! /usr/bin/python\n",
    "\"\"\"square.py -- Make some noise about a square.\n",
    "\"\"\"\n",
    "\n",
    "class Square:\n",
    "\tdef __init__(self, length, width):\n",
    "\t\tself.length = length\n",
    "\t\tself.width = width\n",
    "\n",
    "\tdef area(self):\n",
    "\t\treturn self.length * self.width\n",
    "\n",
    "my_square = Square(5, 2)\n",
    "print(my_square.area())\n"
   ]
  },
  {
   "cell_type": "markdown",
   "metadata": {},
   "source": [
    "[Basic stuff about classes in Python](http://www.ibiblio.org/g2swap/byteofpython/read/oops.html)\n",
    "\n",
    "\n",
    "## Some terminology\n",
    "* A class creates a new type where objects are instances of the class.\n",
    "* The 'functions' that are part of an object are called methods.\n",
    "* The fields and methods are called 'attributes'.\n",
    "* You can examine all the methods and attributes that are associated with an object using the dir command :\n",
    "`print(dir(some\\_obj)`\n",
    "* Fields are of two types - they can belong to each instance/object of the class or they can belong to the class itself. They are called instance variables and class variables respectively.\n",
    "\n",
    "\n",
    "## Arrays and classes\n",
    "\n",
    "\n",
    "\n"
   ]
  },
  {
   "cell_type": "code",
   "execution_count": null,
   "metadata": {},
   "outputs": [
    {
     "name": "stdout",
     "output_type": "stream",
     "text": [
      "Alex[3] age is 3\n",
      "Age is 0\n",
      "House number is 0\n",
      "Age is 1\n",
      "House number is 1\n",
      "Age is 2\n",
      "House number is 2\n",
      "Age is 3\n",
      "House number is 3\n",
      "Age is 4\n",
      "House number is 4\n"
     ]
    }
   ],
   "source": [
    "#! /usr/bin/python\n",
    "\"\"\"person.py -- A person example.\n",
    "\"\"\"\n",
    "class Person(object):\n",
    "\tdef __init__(self, age, house_number):\n",
    "\t\tself.age = age\n",
    "\t\tself.house_number = house_number\n",
    "\n",
    "alex = []\n",
    "for i in range(5):\n",
    "\tobj = Person(i, i)\n",
    "\talex.append(obj)\n",
    "\n",
    "print(\"Alex[3] age is\", alex[3].age)\n",
    "print\n",
    "\n",
    "for alexsub in alex:\n",
    "\tprint(\"Age is\", alexsub.age)\n",
    "\tprint(\"House number is\", alexsub.house_number)"
   ]
  },
  {
   "cell_type": "markdown",
   "metadata": {},
   "source": [
    "## Examples\n",
    "QUESTION:Write a simple program that reads from a CSV file containing a list of names, addresses, and ages and returns the name, address and age for a particular person upon request.\n",
    "QUESTION:Extend the above program to include e-mail addresses and phone numbers to the student's data. [Hint](http://www.upriss.org.uk/python/session13.html)\n",
    "\n",
    "# Exceptions\n",
    "\n",
    "[Syntax errors](http://docs.python.org/tutorial/errors.html)\n",
    "\n",
    "```python\n",
    ">>> while True print('Hello world')\n",
    "  File \"<stdin>\", line 1, in ?\n",
    "    while True print('Hello world')\n",
    "                   ^\n",
    "SyntaxError: invalid syntax\n",
    "```"
   ]
  },
  {
   "cell_type": "markdown",
   "metadata": {},
   "source": [
    "QUESTION: try to correct these lines"
   ]
  },
  {
   "cell_type": "code",
   "execution_count": null,
   "metadata": {},
   "outputs": [
    {
     "ename": "ZeroDivisionError",
     "evalue": "division by zero",
     "output_type": "error",
     "traceback": [
      "\u001b[0;31m---------------------------------------------------------------------------\u001b[0m",
      "\u001b[0;31mZeroDivisionError\u001b[0m                         Traceback (most recent call last)",
      "\u001b[1;32m/home/jordivilla/GitHub/Classes/Data-Science-with-Python/code/BasicPythonIntro.ipynb Cell 113\u001b[0m line \u001b[0;36m1\n\u001b[0;32m----> <a href='vscode-notebook-cell:/home/jordivilla/GitHub/Classes/Data-Science-with-Python/code/BasicPythonIntro.ipynb#Y223sZmlsZQ%3D%3D?line=0'>1</a>\u001b[0m \u001b[39m10\u001b[39m \u001b[39m*\u001b[39m (\u001b[39m1\u001b[39;49m\u001b[39m/\u001b[39;49m\u001b[39m0\u001b[39;49m)\n\u001b[1;32m      <a href='vscode-notebook-cell:/home/jordivilla/GitHub/Classes/Data-Science-with-Python/code/BasicPythonIntro.ipynb#Y223sZmlsZQ%3D%3D?line=1'>2</a>\u001b[0m \u001b[39m4\u001b[39m \u001b[39m+\u001b[39m spam\u001b[39m*\u001b[39m\u001b[39m3\u001b[39m\n\u001b[1;32m      <a href='vscode-notebook-cell:/home/jordivilla/GitHub/Classes/Data-Science-with-Python/code/BasicPythonIntro.ipynb#Y223sZmlsZQ%3D%3D?line=2'>3</a>\u001b[0m \u001b[39m'\u001b[39m\u001b[39m2\u001b[39m\u001b[39m'\u001b[39m \u001b[39m+\u001b[39m \u001b[39m2\u001b[39m\n",
      "\u001b[0;31mZeroDivisionError\u001b[0m: division by zero"
     ]
    }
   ],
   "source": [
    "10 * (1/0)\n",
    "4 + spam*3\n",
    "'2' + 2"
   ]
  },
  {
   "cell_type": "markdown",
   "metadata": {},
   "source": [
    "\n",
    "## Handling exceptions\n"
   ]
  },
  {
   "cell_type": "markdown",
   "metadata": {},
   "source": [
    "```python\n",
    "#!/usr/bin/env python\n",
    "#\n",
    "# Program to read and print(a file \n",
    "\n",
    "import sys\n",
    "\n",
    "try:\n",
    "    file = open(\"alice.txt\",\"r\")\n",
    "except IOError:\n",
    "    print(\"Could not open file\")\n",
    "    sys.exit(0)\n",
    "\n",
    "text = file.readlines()\n",
    "file.close()\n",
    "\n",
    "for line in text:\n",
    "    print(line,)\n",
    "print()```"
   ]
  },
  {
   "cell_type": "markdown",
   "metadata": {},
   "source": [
    "\n",
    "## Exceptions\n"
   ]
  },
  {
   "cell_type": "markdown",
   "metadata": {},
   "source": [
    "```python\n",
    "... except (RuntimeError, TypeError, NameError):\n",
    "...     pass\n",
    "```\n"
   ]
  },
  {
   "cell_type": "markdown",
   "metadata": {},
   "source": [
    "```python\n",
    ">>> def this_fails():\n",
    "...     x = 1/0\n",
    "...\n",
    ">>> try:\n",
    "...     this_fails()\n",
    "... except ZeroDivisionError as detail:\n",
    "...     print('Handling run-time error:', detail\n",
    "...\n",
    "Handling run-time error: integer division or modulo by zero\n",
    "```"
   ]
  },
  {
   "cell_type": "markdown",
   "metadata": {},
   "source": [
    "\n",
    "## A useful case\n"
   ]
  },
  {
   "cell_type": "markdown",
   "metadata": {},
   "source": [
    "```python\n",
    "# example on how to use command line arguments in python with getopt\n",
    "import getopt, sys\n",
    "\n",
    "def main():\n",
    "    try:\n",
    "        opts, args = getopt.getopt(sys.argv[1:], \"ho:\", [\"help\", \"output=\"])\n",
    "    except getopt.GetoptError:\n",
    "        # print(help information and exit:\n",
    "        usage()\n",
    "        sys.exit(2)\n",
    "    output = None\n",
    "    for o, a in opts:\n",
    "        if o in (\"-h\", \"--help\"):\n",
    "            usage()\n",
    "            sys.exit()\n",
    "        if o in (\"-o\", \"--output\"):\n",
    "            output = a\n",
    "    #...\n",
    "if __name__ == \"__main__\":\n",
    "    main()```\n"
   ]
  },
  {
   "cell_type": "markdown",
   "metadata": {},
   "source": [
    "## Exceptions\n"
   ]
  },
  {
   "cell_type": "markdown",
   "metadata": {},
   "source": [
    "```python\n",
    ">>> def divide(x, y):\n",
    "...     try:\n",
    "...         result = x / y\n",
    "...     except ZeroDivisionError:\n",
    "...         print(\"division by zero!\"\n",
    "...     else:\n",
    "...         print(\"result is\", result\n",
    "...     finally:\n",
    "...         print(\"executing finally clause\"\n",
    "...\n",
    ">>> divide(2, 1)\n",
    "result is 2\n",
    "executing finally clause\n",
    ">>> divide(2, 0)\n",
    "division by zero!\n",
    "executing finally clause\n",
    ">>> divide(\"2\", \"1\")\n",
    "executing finally clause\n",
    "Traceback (most recent call last):\n",
    "  File \"<stdin>\", line 1, in ?\n",
    "  File \"<stdin>\", line 3, in divide\n",
    "TypeError: unsupported operand type(s) for /: 'str' and 'str'\n",
    "```"
   ]
  },
  {
   "cell_type": "markdown",
   "metadata": {},
   "source": [
    "\n",
    "\n",
    "## User defined exceptions\n"
   ]
  },
  {
   "cell_type": "markdown",
   "metadata": {},
   "source": [
    "```python\n",
    ">>> class MyError(Exception):\n",
    "...     def __init__(self, value):\n",
    "...         self.value = value\n",
    "...     def __str__(self):\n",
    "...         return repr(self.value)\n",
    "...\n",
    ">>> try:\n",
    "...     raise MyError(2*2)\n",
    "... except MyError as e:\n",
    "...     print('My exception occurred, value:', e.value\n",
    "...\n",
    "My exception occurred, value: 4\n",
    ">>> raise MyError('oops!')\n",
    "Traceback (most recent call last):\n",
    "  File \"<stdin>\", line 1, in ?\n",
    "__main__.MyError: 'oops!'\n",
    "```"
   ]
  },
  {
   "cell_type": "markdown",
   "metadata": {},
   "source": [
    "\n",
    "\n",
    "## User defined exceptions\n"
   ]
  },
  {
   "cell_type": "code",
   "execution_count": null,
   "metadata": {},
   "outputs": [],
   "source": [
    "class Error(Exception):\n",
    "    \"\"\"Base class for exceptions in this module.\"\"\"\n",
    "    pass\n",
    "\n",
    "class InputError(Error):\n",
    "    \"\"\"Exception raised for errors in the input.\n",
    "\n",
    "    Attributes:\n",
    "        expr -- input expression in which the error occurred\n",
    "        msg  -- explanation of the error\n",
    "    \"\"\"\n",
    "\n",
    "    def __init__(self, expr, msg):\n",
    "        self.expr = expr\n",
    "        self.msg = msg\n"
   ]
  },
  {
   "cell_type": "markdown",
   "metadata": {},
   "source": [
    "## BioPython\n",
    "Set of modules and packages for biology (sequence analysis, database access, parsers...).\n",
    "\\tiny\n",
    "\\url{http://biopython.org/DIST/docs/tutorial/Tutorial.html\n",
    "\\url{http://biopython.org/DIST/docs/api/\n",
    "\\normalsize\n",
    "\n",
    "## Examples\n"
   ]
  },
  {
   "cell_type": "markdown",
   "metadata": {},
   "source": [
    "```python\n",
    ">>> from Bio.Seq import Seq\n",
    ">>> my_seq = Seq(\"AGTACACTGGT\")\n",
    ">>> my_seq\n",
    "Seq('AGTACACTGGT', Alphabet())\n",
    ">>> print(my_seq\n",
    "AGTACACTGGT\n",
    ">>> my_seq.alphabet\n",
    "Alphabet()\n",
    ">>> my_seq.complement()\n",
    "Seq('TCATGTGACCA', Alphabet())\n",
    ">>> my_seq.reverse_complement()\n",
    "Seq('ACCAGTGTACT', Alphabet())\n",
    "```"
   ]
  },
  {
   "cell_type": "markdown",
   "metadata": {},
   "source": [
    "\n",
    "## A couple of simple exercises\n",
    "QUESTION:Search for CFTR nucleotide sequences in the NCBI server. Save the sequences as FASTA and GeneBank. Using the [SeqIO](http://biopython.org/DIST/docs/api/Bio.SeqIO-module.html#parse)parser extract the sequences from the files and print them on screen. \n",
    "\n",
    "QUESTION:Download an alignment for the CFTR protein entries from PFAM (use the seed for ABC transporters). Using the [AlignIO parser](http://biopython.org/DIST/docs/api/Bio.AlignIO-module.html#parse), extract the sequences from FASTA or Stocholm formatted files downloaded from PFAM.\n",
    "\n"
   ]
  },
  {
   "cell_type": "code",
   "execution_count": null,
   "metadata": {},
   "outputs": [
    {
     "name": "stdout",
     "output_type": "stream",
     "text": [
      "Alignment(seqA='--TGTGACT-A', seqB='CATG-G--TCA', score=5.0, start=0, end=11)\n",
      "Alignment(seqA='--TGTGA-CTA', seqB='CATG-G-TC-A', score=5.0, start=0, end=11)\n",
      "Alignment(seqA='--TGTGACTA', seqB='CATG-GTC-A', score=5.0, start=0, end=10)\n",
      "Alignment(seqA='--TG-TGACTA', seqB='CATGGT--C-A', score=5.0, start=0, end=11)\n",
      "Alignment(seqA='--T-GTGACTA', seqB='CATGGT--C-A', score=5.0, start=0, end=11)\n"
     ]
    }
   ],
   "source": [
    "# Import libraries\n",
    "from Bio import pairwise2\n",
    "from Bio.Seq import Seq\n",
    " \n",
    "# Creating sample sequences\n",
    "seq1 = Seq(\"TGTGACTA\")\n",
    "seq2 = Seq(\"CATGGTCA\")\n",
    " \n",
    "# Finding similarities\n",
    "alignments = pairwise2.align.globalxx(seq1, seq2)\n",
    " \n",
    "# Showing results\n",
    "for match in alignments:\n",
    "    print(match)\n"
   ]
  },
  {
   "cell_type": "markdown",
   "metadata": {},
   "source": [
    "See, better, `MultipleSeqAlignment`\n",
    "\n",
    "## Converting between sequence alignment formats\n"
   ]
  },
  {
   "cell_type": "code",
   "execution_count": null,
   "metadata": {},
   "outputs": [
    {
     "name": "stdout",
     "output_type": "stream",
     "text": [
      "Converted 1 alignments\n"
     ]
    }
   ],
   "source": [
    "from Bio import AlignIO\n",
    "\n",
    "L=\"\"\"# STOCKHOLM 1.0\n",
    "#=GS COATB_BPIKE/30-81  AC P03620.1\n",
    "#=GS COATB_BPIKE/30-81  DR PDB; 1ifl ; 1-52;\n",
    "#=GS Q9T0Q8_BPIKE/1-52  AC Q9T0Q8.1\n",
    "#=GS COATB_BPI22/32-83  AC P15416.1\n",
    "#=GS COATB_BPM13/24-72  AC P69541.1\n",
    "#=GS COATB_BPM13/24-72  DR PDB; 2cpb ; 1-49;\n",
    "#=GS COATB_BPM13/24-72  DR PDB; 2cps ; 1-49;\n",
    "#=GS COATB_BPZJ2/1-49   AC P03618.1\n",
    "#=GS Q9T0Q9_BPFD/1-49   AC Q9T0Q9.1\n",
    "#=GS Q9T0Q9_BPFD/1-49   DR PDB; 1nh4 A; 1-49;\n",
    "#=GS COATB_BPIF1/22-73  AC P03619.2\n",
    "#=GS COATB_BPIF1/22-73  DR PDB; 1ifk ; 1-50;\n",
    "COATB_BPIKE/30-81             AEPNAATNYATEAMDSLKTQAIDLISQTWPVVTTVVVAGLVIRLFKKFSSKA\n",
    "#=GR COATB_BPIKE/30-81  SS    -HHHHHHHHHHHHHH--HHHHHHHH--HHHHHHHHHHHHHHHHHHHHH----\n",
    "Q9T0Q8_BPIKE/1-52             AEPNAATNYATEAMDSLKTQAIDLISQTWPVVTTVVVAGLVIKLFKKFVSRA\n",
    "COATB_BPI22/32-83             DGTSTATSYATEAMNSLKTQATDLIDQTWPVVTSVAVAGLAIRLFKKFSSKA\n",
    "COATB_BPM13/24-72             AEGDDP...AKAAFNSLQASATEYIGYAWAMVVVIVGATIGIKLFKKFTSKA\n",
    "#=GR COATB_BPM13/24-72  SS    ---S-T...CHCHHHHCCCCTCCCTTCHHHHHHHHHHHHHHHHHHHHCTT--\n",
    "COATB_BPZJ2/1-49              AEGDDP...AKAAFDSLQASATEYIGYAWAMVVVIVGATIGIKLFKKFASKA\n",
    "Q9T0Q9_BPFD/1-49              AEGDDP...AKAAFDSLQASATEYIGYAWAMVVVIVGATIGIKLFKKFTSKA\n",
    "#=GR Q9T0Q9_BPFD/1-49   SS    ------...-HHHHHHHHHHHHHHHHHHHHHHHHHHHHHHHHHHHHHHHH--\n",
    "COATB_BPIF1/22-73             FAADDATSQAKAAFDSLTAQATEMSGYAWALVVLVVGATVGIKLFKKFVSRA\n",
    "#=GR COATB_BPIF1/22-73  SS    XX-HHHH--HHHHHH--HHHHHHH--HHHHHHHHHHHHHHHHHHHHHHH---\n",
    "#=GC SS_cons                  XHHHHHHHHHHHHHHHCHHHHHHHHCHHHHHHHHHHHHHHHHHHHHHHHC--\n",
    "#=GC seq_cons                 AEssss...AptAhDSLpspAT-hIu.sWshVsslVsAsluIKLFKKFsSKA\n",
    "//\n",
    "\"\"\"\n",
    "file = open('datasets/PF05371_seed.sth', 'w')\n",
    "file.write(L)\n",
    "file.close()\n",
    "\n",
    "count = AlignIO.convert(\"datasets/PF05371_seed.sth\", \"stockholm\",\n",
    "                        \"output/PF05371_seed.aln\", \"clustal\")\n",
    "print(\"Converted %i alignments\" % count)\n"
   ]
  },
  {
   "cell_type": "code",
   "execution_count": null,
   "metadata": {},
   "outputs": [
    {
     "name": "stdout",
     "output_type": "stream",
     "text": [
      "Converted 1 alignments\n"
     ]
    }
   ],
   "source": [
    "from Bio import AlignIO\n",
    "alignments = AlignIO.parse(open(\"PF05371_seed.sth\"), \n",
    "                                \"stockholm\")\n",
    "handle = open(\"PF05371_seed.aln\",\"w\")\n",
    "count = AlignIO.write(alignments, handle, \"clustal\")\n",
    "handle.close()\n",
    "print(\"Converted %i alignments\" % count)\n"
   ]
  },
  {
   "cell_type": "code",
   "execution_count": null,
   "metadata": {},
   "outputs": [
    {
     "name": "stdout",
     "output_type": "stream",
     "text": [
      "CLUSTAL X (1.81) multiple sequence alignment\n",
      "\n",
      "\n",
      "COATB_BPIKE/30-81                   AEPNAATNYATEAMDSLKTQAIDLISQTWPVVTTVVVAGLVIRLFKKFSS\n",
      "Q9T0Q8_BPIKE/1-52                   AEPNAATNYATEAMDSLKTQAIDLISQTWPVVTTVVVAGLVIKLFKKFVS\n",
      "COATB_BPI22/32-83                   DGTSTATSYATEAMNSLKTQATDLIDQTWPVVTSVAVAGLAIRLFKKFSS\n",
      "COATB_BPM13/24-72                   AEGDDP---AKAAFNSLQASATEYIGYAWAMVVVIVGATIGIKLFKKFTS\n",
      "COATB_BPZJ2/1-49                    AEGDDP---AKAAFDSLQASATEYIGYAWAMVVVIVGATIGIKLFKKFAS\n",
      "Q9T0Q9_BPFD/1-49                    AEGDDP---AKAAFDSLQASATEYIGYAWAMVVVIVGATIGIKLFKKFTS\n",
      "COATB_BPIF1/22-73                   FAADDATSQAKAAFDSLTAQATEMSGYAWALVVLVVGATVGIKLFKKFVS\n",
      "\n",
      "COATB_BPIKE/30-81                   KA\n",
      "Q9T0Q8_BPIKE/1-52                   RA\n",
      "COATB_BPI22/32-83                   KA\n",
      "COATB_BPM13/24-72                   KA\n",
      "COATB_BPZJ2/1-49                    KA\n",
      "Q9T0Q9_BPFD/1-49                    KA\n",
      "COATB_BPIF1/22-73                   RA\n",
      "\n",
      "\n",
      "\n"
     ]
    },
    {
     "name": "stderr",
     "output_type": "stream",
     "text": [
      "/home/jordivilla/miniconda3/lib/python3.11/site-packages/Bio/Align/__init__.py:304: BiopythonDeprecationWarning: alignment.format has been deprecated, and we intend to remove it in a future release of Biopython. Instead of alignment.format(format_spec), please use format(alignment, format_spec) or an f-string.\n",
      "  warnings.warn(\n"
     ]
    }
   ],
   "source": [
    "from Bio import AlignIO\n",
    "alignment = AlignIO.read(open(\"PF05371_seed.sth\"), \n",
    "                         \"stockholm\")\n",
    "print(alignment.format(\"clustal\"))\n"
   ]
  },
  {
   "cell_type": "markdown",
   "metadata": {},
   "source": [
    "\n",
    "## Performing alignments\n",
    "BioPython provides tools for command line execution. For example:\n"
   ]
  },
  {
   "cell_type": "code",
   "execution_count": null,
   "metadata": {},
   "outputs": [
    {
     "name": "stdout",
     "output_type": "stream",
     "text": [
      "Help on class ClustalwCommandline in module Bio.Align.Applications._Clustalw:\n",
      "\n",
      "class ClustalwCommandline(Bio.Application.AbstractCommandline)\n",
      " |  ClustalwCommandline(cmd='clustalw', **kwargs)\n",
      " |  \n",
      " |  Command line wrapper for clustalw (version one or two).\n",
      " |  \n",
      " |  http://www.clustal.org/\n",
      " |  \n",
      " |  Notes\n",
      " |  -----\n",
      " |  Last checked against versions: 1.83 and 2.1\n",
      " |  \n",
      " |  References\n",
      " |  ----------\n",
      " |  Larkin MA, Blackshields G, Brown NP, Chenna R, McGettigan PA,\n",
      " |  McWilliam H, Valentin F, Wallace IM, Wilm A, Lopez R, Thompson JD,\n",
      " |  Gibson TJ, Higgins DG. (2007). Clustal W and Clustal X version 2.0.\n",
      " |  Bioinformatics, 23, 2947-2948.\n",
      " |  \n",
      " |  Examples\n",
      " |  --------\n",
      " |  >>> from Bio.Align.Applications import ClustalwCommandline\n",
      " |  >>> in_file = \"unaligned.fasta\"\n",
      " |  >>> clustalw_cline = ClustalwCommandline(\"clustalw2\", infile=in_file)\n",
      " |  >>> print(clustalw_cline)\n",
      " |  clustalw2 -infile=unaligned.fasta\n",
      " |  \n",
      " |  You would typically run the command line with clustalw_cline() or via\n",
      " |  the Python subprocess module, as described in the Biopython tutorial.\n",
      " |  \n",
      " |  Method resolution order:\n",
      " |      ClustalwCommandline\n",
      " |      Bio.Application.AbstractCommandline\n",
      " |      builtins.object\n",
      " |  \n",
      " |  Methods defined here:\n",
      " |  \n",
      " |  __init__(self, cmd='clustalw', **kwargs)\n",
      " |      Initialize the class.\n",
      " |  \n",
      " |  ----------------------------------------------------------------------\n",
      " |  Methods inherited from Bio.Application.AbstractCommandline:\n",
      " |  \n",
      " |  __call__(self, stdin=None, stdout=True, stderr=True, cwd=None, env=None)\n",
      " |      Execute command, wait for it to finish, return (stdout, stderr).\n",
      " |      \n",
      " |      Runs the command line tool and waits for it to finish. If it returns\n",
      " |      a non-zero error level, an exception is raised. Otherwise two strings\n",
      " |      are returned containing stdout and stderr.\n",
      " |      \n",
      " |      The optional stdin argument should be a string of data which will be\n",
      " |      passed to the tool as standard input.\n",
      " |      \n",
      " |      The optional stdout and stderr argument may be filenames (string),\n",
      " |      but otherwise are treated as a booleans, and control if the output\n",
      " |      should be captured as strings (True, default), or ignored by sending\n",
      " |      it to /dev/null to avoid wasting memory (False). If sent to a file\n",
      " |      or ignored, then empty string(s) are returned.\n",
      " |      \n",
      " |      The optional cwd argument is a string giving the working directory\n",
      " |      to run the command from. See Python's subprocess module documentation\n",
      " |      for more details.\n",
      " |      \n",
      " |      The optional env argument is a dictionary setting the environment\n",
      " |      variables to be used in the new process. By default the current\n",
      " |      process' environment variables are used. See Python's subprocess\n",
      " |      module documentation for more details.\n",
      " |      \n",
      " |      Default example usage::\n",
      " |      \n",
      " |          from Bio.Emboss.Applications import WaterCommandline\n",
      " |          water_cmd = WaterCommandline(gapopen=10, gapextend=0.5,\n",
      " |                                       stdout=True, auto=True,\n",
      " |                                       asequence=\"a.fasta\", bsequence=\"b.fasta\")\n",
      " |          print(\"About to run: %s\" % water_cmd)\n",
      " |          std_output, err_output = water_cmd()\n",
      " |      \n",
      " |      This functionality is similar to subprocess.check_output(). In general\n",
      " |      if you require more control over running the command, use subprocess\n",
      " |      directly.\n",
      " |      \n",
      " |      When the program called returns a non-zero error level, a custom\n",
      " |      ApplicationError exception is raised. This includes any stdout and\n",
      " |      stderr strings captured as attributes of the exception object, since\n",
      " |      they may be useful for diagnosing what went wrong.\n",
      " |  \n",
      " |  __repr__(self)\n",
      " |      Return a representation of the command line object for debugging.\n",
      " |      \n",
      " |      e.g.\n",
      " |      \n",
      " |      >>> from Bio.Emboss.Applications import WaterCommandline\n",
      " |      >>> cline = WaterCommandline(gapopen=10, gapextend=0.5)\n",
      " |      >>> cline.asequence = \"asis:ACCCGGGCGCGGT\"\n",
      " |      >>> cline.bsequence = \"asis:ACCCGAGCGCGGT\"\n",
      " |      >>> cline.outfile = \"temp_water.txt\"\n",
      " |      >>> print(cline)\n",
      " |      water -outfile=temp_water.txt -asequence=asis:ACCCGGGCGCGGT -bsequence=asis:ACCCGAGCGCGGT -gapopen=10 -gapextend=0.5\n",
      " |      >>> cline\n",
      " |      WaterCommandline(cmd='water', outfile='temp_water.txt', asequence='asis:ACCCGGGCGCGGT', bsequence='asis:ACCCGAGCGCGGT', gapopen=10, gapextend=0.5)\n",
      " |  \n",
      " |  __setattr__(self, name, value)\n",
      " |      Set attribute name to value (PRIVATE).\n",
      " |      \n",
      " |      This code implements a workaround for a user interface issue.\n",
      " |      Without this __setattr__ attribute-based assignment of parameters\n",
      " |      will silently accept invalid parameters, leading to known instances\n",
      " |      of the user assuming that parameters for the application are set,\n",
      " |      when they are not.\n",
      " |      \n",
      " |      >>> from Bio.Emboss.Applications import WaterCommandline\n",
      " |      >>> cline = WaterCommandline(gapopen=10, gapextend=0.5, stdout=True)\n",
      " |      >>> cline.asequence = \"a.fasta\"\n",
      " |      >>> cline.bsequence = \"b.fasta\"\n",
      " |      >>> cline.csequence = \"c.fasta\"\n",
      " |      Traceback (most recent call last):\n",
      " |      ...\n",
      " |      ValueError: Option name csequence was not found.\n",
      " |      >>> print(cline)\n",
      " |      water -stdout -asequence=a.fasta -bsequence=b.fasta -gapopen=10 -gapextend=0.5\n",
      " |      \n",
      " |      This workaround uses a whitelist of object attributes, and sets the\n",
      " |      object attribute list as normal, for these.  Other attributes are\n",
      " |      assumed to be parameters, and passed to the self.set_parameter method\n",
      " |      for validation and assignment.\n",
      " |  \n",
      " |  __str__(self)\n",
      " |      Make the commandline string with the currently set options.\n",
      " |      \n",
      " |      e.g.\n",
      " |      \n",
      " |      >>> from Bio.Emboss.Applications import WaterCommandline\n",
      " |      >>> cline = WaterCommandline(gapopen=10, gapextend=0.5)\n",
      " |      >>> cline.asequence = \"asis:ACCCGGGCGCGGT\"\n",
      " |      >>> cline.bsequence = \"asis:ACCCGAGCGCGGT\"\n",
      " |      >>> cline.outfile = \"temp_water.txt\"\n",
      " |      >>> print(cline)\n",
      " |      water -outfile=temp_water.txt -asequence=asis:ACCCGGGCGCGGT -bsequence=asis:ACCCGAGCGCGGT -gapopen=10 -gapextend=0.5\n",
      " |      >>> str(cline)\n",
      " |      'water -outfile=temp_water.txt -asequence=asis:ACCCGGGCGCGGT -bsequence=asis:ACCCGAGCGCGGT -gapopen=10 -gapextend=0.5'\n",
      " |  \n",
      " |  set_parameter(self, name, value=None)\n",
      " |      Set a commandline option for a program (OBSOLETE).\n",
      " |      \n",
      " |      Every parameter is available via a property and as a named\n",
      " |      keyword when creating the instance. Using either of these is\n",
      " |      preferred to this legacy set_parameter method which is now\n",
      " |      OBSOLETE, and likely to be DEPRECATED and later REMOVED in\n",
      " |      future releases.\n",
      " |  \n",
      " |  ----------------------------------------------------------------------\n",
      " |  Data descriptors inherited from Bio.Application.AbstractCommandline:\n",
      " |  \n",
      " |  __dict__\n",
      " |      dictionary for instance variables (if defined)\n",
      " |  \n",
      " |  __weakref__\n",
      " |      list of weak references to the object (if defined)\n",
      " |  \n",
      " |  ----------------------------------------------------------------------\n",
      " |  Data and other attributes inherited from Bio.Application.AbstractCommandline:\n",
      " |  \n",
      " |  parameters = None\n",
      "\n"
     ]
    },
    {
     "ename": "AssertionError",
     "evalue": "Clustal W missing",
     "output_type": "error",
     "traceback": [
      "\u001b[0;31m---------------------------------------------------------------------------\u001b[0m",
      "\u001b[0;31mAssertionError\u001b[0m                            Traceback (most recent call last)",
      "\u001b[1;32m/home/jordivilla/GitHub/Classes/Data-Science-with-Python/code/BasicPythonIntro.ipynb Cell 136\u001b[0m line \u001b[0;36m6\n\u001b[1;32m      <a href='vscode-notebook-cell:/home/jordivilla/GitHub/Classes/Data-Science-with-Python/code/BasicPythonIntro.ipynb#Y255sZmlsZQ%3D%3D?line=3'>4</a>\u001b[0m help(ClustalwCommandline)\n\u001b[1;32m      <a href='vscode-notebook-cell:/home/jordivilla/GitHub/Classes/Data-Science-with-Python/code/BasicPythonIntro.ipynb#Y255sZmlsZQ%3D%3D?line=4'>5</a>\u001b[0m c_exe \u001b[39m=\u001b[39m \u001b[39mr\u001b[39m\u001b[39m\"\u001b[39m\u001b[39m/Applications/clustalw2\u001b[39m\u001b[39m\"\u001b[39m\n\u001b[0;32m----> <a href='vscode-notebook-cell:/home/jordivilla/GitHub/Classes/Data-Science-with-Python/code/BasicPythonIntro.ipynb#Y255sZmlsZQ%3D%3D?line=5'>6</a>\u001b[0m \u001b[39massert\u001b[39;00m os\u001b[39m.\u001b[39mpath\u001b[39m.\u001b[39misfile(c_exe), \u001b[39m\"\u001b[39m\u001b[39mClustal W missing\u001b[39m\u001b[39m\"\u001b[39m\n\u001b[1;32m      <a href='vscode-notebook-cell:/home/jordivilla/GitHub/Classes/Data-Science-with-Python/code/BasicPythonIntro.ipynb#Y255sZmlsZQ%3D%3D?line=6'>7</a>\u001b[0m cl \u001b[39m=\u001b[39m ClustalwCommandline(c_exe, infile\u001b[39m=\u001b[39m\u001b[39m\"\u001b[39m\u001b[39mcftr.fasta\u001b[39m\u001b[39m\"\u001b[39m)\n\u001b[1;32m      <a href='vscode-notebook-cell:/home/jordivilla/GitHub/Classes/Data-Science-with-Python/code/BasicPythonIntro.ipynb#Y255sZmlsZQ%3D%3D?line=7'>8</a>\u001b[0m return_code \u001b[39m=\u001b[39m subprocess\u001b[39m.\u001b[39mcall(\u001b[39mstr\u001b[39m(cl),\n\u001b[1;32m      <a href='vscode-notebook-cell:/home/jordivilla/GitHub/Classes/Data-Science-with-Python/code/BasicPythonIntro.ipynb#Y255sZmlsZQ%3D%3D?line=8'>9</a>\u001b[0m                        stdout \u001b[39m=\u001b[39m \u001b[39mopen\u001b[39m(os\u001b[39m.\u001b[39mdevnull),\n\u001b[1;32m     <a href='vscode-notebook-cell:/home/jordivilla/GitHub/Classes/Data-Science-with-Python/code/BasicPythonIntro.ipynb#Y255sZmlsZQ%3D%3D?line=9'>10</a>\u001b[0m                        stderr \u001b[39m=\u001b[39m \u001b[39mopen\u001b[39m(os\u001b[39m.\u001b[39mdevnull),\n\u001b[1;32m     <a href='vscode-notebook-cell:/home/jordivilla/GitHub/Classes/Data-Science-with-Python/code/BasicPythonIntro.ipynb#Y255sZmlsZQ%3D%3D?line=10'>11</a>\u001b[0m                        shell\u001b[39m=\u001b[39m(sys\u001b[39m.\u001b[39mplatform\u001b[39m!=\u001b[39m\u001b[39m\"\u001b[39m\u001b[39mwin32\u001b[39m\u001b[39m\"\u001b[39m))\n",
      "\u001b[0;31mAssertionError\u001b[0m: Clustal W missing"
     ]
    }
   ],
   "source": [
    "import os\n",
    "import subprocess\n",
    "from Bio.Align.Applications import ClustalwCommandline\n",
    "help(ClustalwCommandline)\n",
    "c_exe = r\"/Applications/clustalw2\" # change by the proper execution path\n",
    "assert os.path.isfile(c_exe), \"Clustal W missing\"\n",
    "cl = ClustalwCommandline(c_exe, infile=\"cftr.fasta\")\n",
    "return_code = subprocess.call(str(cl),\n",
    "                       stdout = open(os.devnull),\n",
    "                       stderr = open(os.devnull),\n",
    "                       shell=(sys.platform!=\"win32\"))\n"
   ]
  },
  {
   "cell_type": "markdown",
   "metadata": {},
   "source": [
    "## Working with streams and [subprocesses](http://docs.python.org/library/subprocess.html)\n"
   ]
  },
  {
   "cell_type": "markdown",
   "metadata": {},
   "source": [
    "```python\n",
    "import sys\n",
    "while 1:\n",
    "    try:\n",
    "        input = sys.stdin.readline()\n",
    "        if input:\n",
    "            sys.stdout.write('Echo to stdout: %s'%input)\n",
    "            sys.stderr.write('Echo to stderr: %s'%input)\n",
    "    except KeyboardError:\n",
    "         sys.exit()\n",
    "```"
   ]
  },
  {
   "cell_type": "code",
   "execution_count": null,
   "metadata": {},
   "outputs": [
    {
     "data": {
      "text/plain": [
       "<Popen: returncode: None args: 'echo $PWD'>"
      ]
     },
     "execution_count": 21,
     "metadata": {},
     "output_type": "execute_result"
    },
    {
     "name": "stdout",
     "output_type": "stream",
     "text": [
      "/home/jordivilla/GitHub/Classes/Data-Science-with-Python/code\n"
     ]
    }
   ],
   "source": [
    "subprocess.Popen('echo $PWD', shell=True)\n"
   ]
  },
  {
   "cell_type": "code",
   "execution_count": null,
   "metadata": {},
   "outputs": [
    {
     "data": {
      "text/plain": [
       "<Popen: returncode: None args: '\\ncat << EOF > output/new.txt\\nHello World!\\...>"
      ]
     },
     "execution_count": 23,
     "metadata": {},
     "output_type": "execute_result"
    }
   ],
   "source": [
    "subprocess.Popen(\"\"\"\n",
    "cat << EOF > output/new.txt\n",
    "Hello World!\n",
    "EOF\n",
    "\"\"\", shell=True)\n"
   ]
  },
  {
   "cell_type": "markdown",
   "metadata": {},
   "source": [
    "\n",
    "## Dealing with PDB files\n",
    "[Dealing with PDB files](http://www.biopython.org/DIST/docs/tutorial/Tutorial.html#htoc133)\n",
    "![fig](../figures/smcra.png)\n",
    "\n",
    "## PDB retrieving and parsing example\n"
   ]
  },
  {
   "cell_type": "code",
   "execution_count": null,
   "metadata": {},
   "outputs": [
    {
     "name": "stdout",
     "output_type": "stream",
     "text": [
      "Structure exists: 'output/pdb5p21.ent' \n"
     ]
    },
    {
     "data": {
      "text/plain": [
       "'output/pdb5p21.ent'"
      ]
     },
     "execution_count": 27,
     "metadata": {},
     "output_type": "execute_result"
    }
   ],
   "source": [
    "from Bio.PDB import PDBList\n",
    "pdbl=PDBList()\n",
    "pdbl.retrieve_pdb_file('5P21',file_format='pdb',pdir=\"output\")\n"
   ]
  },
  {
   "cell_type": "code",
   "execution_count": null,
   "metadata": {},
   "outputs": [
    {
     "data": {
      "text/plain": [
       "[<Model id=0>]"
      ]
     },
     "execution_count": 29,
     "metadata": {},
     "output_type": "execute_result"
    }
   ],
   "source": [
    "from Bio.PDB.PDBParser import PDBParser\n",
    "parser=PDBParser()\n",
    "structure=parser.get_structure(\"test\",\"output/pdb5p21.ent\")\n",
    "structure.get_list()\n"
   ]
  },
  {
   "cell_type": "code",
   "execution_count": null,
   "metadata": {},
   "outputs": [
    {
     "data": {
      "text/plain": [
       "[<Chain id=A>]"
      ]
     },
     "execution_count": 30,
     "metadata": {},
     "output_type": "execute_result"
    }
   ],
   "source": [
    "model=structure[0]\n",
    "model.get_list()\n"
   ]
  },
  {
   "cell_type": "code",
   "execution_count": null,
   "metadata": {},
   "outputs": [],
   "source": [
    "chain=model[\"A\"]\n",
    "chain.get_list()\n"
   ]
  },
  {
   "cell_type": "markdown",
   "metadata": {},
   "source": [
    "[BioPDB cookbook](http://www.biopython.org/DIST/docs/cookbook/biopdb_faq.pdf)"
   ]
  },
  {
   "cell_type": "code",
   "execution_count": null,
   "metadata": {},
   "outputs": [
    {
     "data": {
      "text/plain": [
       "('output/5p21.pdb', <http.client.HTTPMessage at 0x7f043d661c50>)"
      ]
     },
     "execution_count": 71,
     "metadata": {},
     "output_type": "execute_result"
    }
   ],
   "source": [
    "from urllib.request import urlretrieve\n",
    "def fetch_pdb(id):\n",
    "  url = 'http://www.rcsb.org/pdb/files/%s.pdb' % id\n",
    "  file = 'output/%s.pdb' % id\n",
    "  return urlretrieve(url,file)\n",
    "fetch_pdb('5p21')"
   ]
  },
  {
   "cell_type": "markdown",
   "metadata": {},
   "source": [
    "# Graphics\n",
    "\n",
    "## Plotting with Python\n",
    "\n",
    "[Matplotlib](http://bmi.bmt.tue.nl/~philbers/8C080/matplotlibtutorial.html) is the reference tool for [plotting](http://wiki.python.org/moin/NumericAndScientific/Plotting) 2D data in Python. iPython has a \"pylab\" mode specific for interacting with matplotlib.\n",
    "\n"
   ]
  },
  {
   "cell_type": "code",
   "execution_count": null,
   "metadata": {},
   "outputs": [
    {
     "data": {
      "text/plain": [
       "(array([  1.,   0.,   0.,   0.,   1.,   0.,   1.,   0.,   1.,   1.,   3.,\n",
       "          5.,   3.,   7.,   5.,   9.,   9.,   8.,  11.,  17.,  21.,  31.,\n",
       "         21.,  27.,  46.,  40.,  50.,  60.,  72.,  71.,  99.,  66., 104.,\n",
       "        112., 136., 147., 149., 141., 169., 205., 191., 218., 237., 272.,\n",
       "        231., 275., 262., 272., 284., 289., 284., 288., 310., 279., 265.,\n",
       "        277., 276., 282., 248., 245., 236., 224., 226., 207., 185., 172.,\n",
       "        177., 161., 142., 131., 119., 114., 109.,  91.,  72.,  59.,  73.,\n",
       "         61.,  51.,  38.,  38.,  23.,  18.,  26.,  20.,  18.,  16.,  10.,\n",
       "         12.,  10.,   6.,   4.,   4.,   2.,   2.,   1.,   3.,   2.,   2.,\n",
       "          1.]),\n",
       " array([-3.80386047, -3.73140274, -3.658945  , -3.58648727, -3.51402953,\n",
       "        -3.4415718 , -3.36911406, -3.29665633, -3.22419859, -3.15174085,\n",
       "        -3.07928312, -3.00682538, -2.93436765, -2.86190991, -2.78945218,\n",
       "        -2.71699444, -2.64453671, -2.57207897, -2.49962124, -2.4271635 ,\n",
       "        -2.35470577, -2.28224803, -2.2097903 , -2.13733256, -2.06487482,\n",
       "        -1.99241709, -1.91995935, -1.84750162, -1.77504388, -1.70258615,\n",
       "        -1.63012841, -1.55767068, -1.48521294, -1.41275521, -1.34029747,\n",
       "        -1.26783974, -1.195382  , -1.12292427, -1.05046653, -0.97800879,\n",
       "        -0.90555106, -0.83309332, -0.76063559, -0.68817785, -0.61572012,\n",
       "        -0.54326238, -0.47080465, -0.39834691, -0.32588918, -0.25343144,\n",
       "        -0.18097371, -0.10851597, -0.03605824,  0.0363995 ,  0.10885723,\n",
       "         0.18131497,  0.25377271,  0.32623044,  0.39868818,  0.47114591,\n",
       "         0.54360365,  0.61606138,  0.68851912,  0.76097685,  0.83343459,\n",
       "         0.90589232,  0.97835006,  1.05080779,  1.12326553,  1.19572326,\n",
       "         1.268181  ,  1.34063874,  1.41309647,  1.48555421,  1.55801194,\n",
       "         1.63046968,  1.70292741,  1.77538515,  1.84784288,  1.92030062,\n",
       "         1.99275835,  2.06521609,  2.13767382,  2.21013156,  2.28258929,\n",
       "         2.35504703,  2.42750477,  2.4999625 ,  2.57242024,  2.64487797,\n",
       "         2.71733571,  2.78979344,  2.86225118,  2.93470891,  3.00716665,\n",
       "         3.07962438,  3.15208212,  3.22453985,  3.29699759,  3.36945532,\n",
       "         3.44191306]),\n",
       " <BarContainer object of 100 artists>)"
      ]
     },
     "execution_count": 58,
     "metadata": {},
     "output_type": "execute_result"
    },
    {
     "data": {
      "image/png": "[encoded data removed]",
      "text/plain": [
       "<Figure size 640x480 with 1 Axes>"
      ]
     },
     "metadata": {},
     "output_type": "display_data"
    }
   ],
   "source": [
    "from pylab import randn, hist\n",
    "x = randn(10000)\n",
    "hist(x, 100)\n"
   ]
  },
  {
   "cell_type": "markdown",
   "metadata": {},
   "source": [
    "The [pylab](http://www.scipy.org/PyLab) mode offers interaction similar to Matlab.\n",
    "\n",
    "\n",
    "[matplotlib](http://matplotlib.sourceforge.net/)\n",
    "\n",
    "Check also [GnuPlot.py](http://gnuplot-py.sourceforge.net/)\n",
    "\n",
    "\n"
   ]
  },
  {
   "cell_type": "code",
   "execution_count": null,
   "metadata": {},
   "outputs": [
    {
     "data": {
      "image/png": "[encoded data removed]",
      "text/plain": [
       "<Figure size 640x480 with 1 Axes>"
      ]
     },
     "metadata": {},
     "output_type": "display_data"
    }
   ],
   "source": [
    "import matplotlib.pyplot as plt\n",
    "plt.plot([1,2,3])\n",
    "plt.ylabel('some numbers')\n",
    "plt.show()\n"
   ]
  },
  {
   "cell_type": "code",
   "execution_count": null,
   "metadata": {},
   "outputs": [
    {
     "data": {
      "text/plain": [
       "(0.0, 6.0, 0.0, 20.0)"
      ]
     },
     "execution_count": 60,
     "metadata": {},
     "output_type": "execute_result"
    },
    {
     "data": {
      "image/png": "[encoded data removed]",
      "text/plain": [
       "<Figure size 640x480 with 1 Axes>"
      ]
     },
     "metadata": {},
     "output_type": "display_data"
    }
   ],
   "source": [
    "import matplotlib.pyplot as plt\n",
    "plt.plot([1,2,3,4], [1,4,9,16], 'ro')\n",
    "plt.axis([0, 6, 0, 20])\n"
   ]
  },
  {
   "cell_type": "markdown",
   "metadata": {},
   "source": [
    "\n",
    "## working with numpy arrays\n"
   ]
  },
  {
   "cell_type": "code",
   "execution_count": null,
   "metadata": {},
   "outputs": [
    {
     "data": {
      "text/plain": [
       "[<matplotlib.lines.Line2D at 0x7f043d839110>,\n",
       " <matplotlib.lines.Line2D at 0x7f043c4b0590>,\n",
       " <matplotlib.lines.Line2D at 0x7f043d7cfcd0>]"
      ]
     },
     "execution_count": 63,
     "metadata": {},
     "output_type": "execute_result"
    },
    {
     "data": {
      "image/png": "[encoded data removed]",
      "text/plain": [
       "<Figure size 640x480 with 1 Axes>"
      ]
     },
     "metadata": {},
     "output_type": "display_data"
    }
   ],
   "source": [
    "import numpy as np\n",
    "import matplotlib.pyplot as plt\n",
    "\n",
    "# evenly sampled time at 200ms intervals\n",
    "t = np.arange(0., 5., 0.2)\n",
    "\n",
    "# red dashes, blue squares and green triangles\n",
    "plt.plot(t, t, 'r--', t, t**2, 'bs', t, t**3, 'g^')\n"
   ]
  },
  {
   "cell_type": "markdown",
   "metadata": {},
   "source": [
    "## `urllib3` package\n"
   ]
  },
  {
   "cell_type": "code",
   "execution_count": null,
   "metadata": {},
   "outputs": [
    {
     "data": {
      "text/plain": [
       "<!DOCTYPE html>\n",
       "<html class=\"no-js\" lang=\"en-US\">\n",
       "<head>\n",
       "<meta content=\"text/html; charset=utf-8\" http-equiv=\"Content-Type\"/>\n",
       "<title>Famous Singers - List and Biographies of World Famous Singers</title>\n",
       "<link href=\"//www.thefamouspeople.com/images/favicon_tfp.ico\" rel=\"icon\"/>\n",
       "<meta content=\"List and Biographies of World Famous Singers\" name=\"Description\"/>\n",
       "<meta content=\"width=device-width, initial-scale=1\" name=\"viewport\"/>\n",
       "<meta content=\"on\" http-equiv=\"x-dns-prefetch-control\"/>\n",
       "<link href=\"//www.google-analytics.com/\" rel=\"dns-prefetch\"/>\n",
       "<meta content=\"Famous Singers - List and Biographies of World Famous Singers\" property=\"og:title\"/><meta content=\"List and Biographies of World Famous Singers\" property=\"og:description\"/><meta content=\"https://www.thefamouspeople.com/profiles/images/og-michael-jackson-3955.jpg\" property=\"og:image\"/><meta content=\"https://www.thefamouspeople.com/singers.php\" property=\"og:url\"/>\n",
       "<meta content=\"article\" property=\"og:type\"/>\n",
       "<script src=\"https://cdnjs.cloudflare.com/ajax/libs/jquery/3.2.1/jquery.min.js\"></script>\n",
       "<style>\n",
       ".collapsing,.dropdown,.dropup,.glyphicon,.nav>li,.nav>li>a,.navbar{position:relative}hr,img{border:0}body,figure{margin:0}.btn,.text-nowrap{white-space:nowrap}.btn,[role=button]{cursor:pointer}html{font-family:sans-serif;-webkit-text-size-adjust:100%;-ms-text-size-adjust:100%;font-size:10px;-webkit-tap-highlight-color:transparent}article,aside,details,figcaption,figure,footer,header,hgroup,main,menu,nav,section,summary{display:block}audio,canvas,progress,video{display:inline-block;vertical-align:baseline}.btn,.caret,img{vertical-align:middle}[hidden],template{display:none}a{background-color:transparent}a:active,a:hover{outline:0}b,strong{font-weight:700}h1{margin:.67em 0}pre{overflow:auto}@media print{blockquote,img,pre,tr{page-break-inside:avoid}*,:after,:before{color:#000!important;text-shadow:none!important;background:0 0!important;-webkit-box-shadow:none!important;box-shadow:none!important}a,a:visited{text-decoration:underline}a[href]:after{content:\" (\" attr(href) \")\"}abbr[title]:after{content:\" (\" attr(title) \")\"}a[href^=\"javascript:\"]:after,a[href^=\"#\"]:after{content:\"\"}img{max-width:100%!important}h2,h3,p{orphans:3;widows:3}h2,h3{page-break-after:avoid}.navbar{display:none}.btn>.caret,.dropup>.btn>.caret{border-top-color:#000!important}}.btn,.navbar-toggle{background-image:none}.img-thumbnail,body{background-color:#fff}.glyphicon{top:1px;display:inline-block;font-family:'Glyphicons Halflings';font-style:normal;font-weight:400;line-height:1;-webkit-font-smoothing:antialiased;-moz-osx-font-smoothing:grayscale}.glyphicon-chevron-left:before{content:\"\\e079\"}.glyphicon-chevron-right:before{content:\"\\e080\"}*,:after,:before{-webkit-box-sizing:border-box;-moz-box-sizing:border-box;box-sizing:border-box}body{font-family: 'Helvetica Neue', Helvetica, Arial, sans-serif;font-size:14px;line-height:1.42857143;color:#222;}button,input,select,textarea{font-family:inherit;font-size:inherit;line-height:inherit}a{color:#337ab7;text-decoration:none}a:focus,a:hover{color:#23527c;text-decoration:underline}a:focus{outline:-webkit-focus-ring-color auto 5px;outline-offset:-2px}.carousel-inner>.item>a>img,.carousel-inner>.item>img,.img-responsive,.thumbnail a>img,.thumbnail>img{display:block;max-width:100%;height:auto}.btn,.img-thumbnail,.list-inline>li{display:inline-block}.h1,.h2,.h3,.h4,.h5,.h6,h1,h2,h3,h4,h5,h6{font-family:inherit;font-weight:500;line-height:1.1;color:#2b2b2b;}.h1 .small,.h1 small,.h2 .small,.h2 small,.h3 .small,.h3 small,.h4 .small,.h4 small,.h5 .small,.h5 small,.h6 .small,.h6 small,h1 .small,h1 small,h2 .small,h2 small,h3 .small,h3 small,h4 .small,h4 small,h5 .small,h5 small,h6 .small,h6 small{font-weight:400;line-height:1;color:#777}.h1,.h2,.h3,h1,h2,h3{margin-top:10px;margin-bottom:10px}.h1 .smal.advanced_searchl,.h1 small,.h2 .small,.h2 small,.h3 .small,.h3 small,h1 .small,h1 small,h2 .small,h2 small,h3 .small,h3 small{font-size:65%}.h4,.h5,.h6,h4,h5,h6{margin-top:10px;margin-bottom:10px;color:#2b2b2b;}.lead,dl{margin-bottom:20px}.h4 .small,.h4 small,.h5 .small,.h5 small,.h6 .small,.h6 small,h4 .small,h4 small,h5 .small,h5 small,h6 .small,h6 small{font-size:75%}.h1,h1{font-size:36px;}.h2,h2{font-size:30px}.h3,h3{font-size:24px}.h4,h4{font-size:18px}.h5,h5{font-size:14px}.h6,h6{font-size:12px}p{margin:0 0 10px}.lead{font-size:16px;font-weight:300;line-height:1.4}.btn,.nav-tabs>li>a,dd,dt{line-height:1.42857143}.list-inline,.list-unstyled{padding-left:0px;list-style:none}dl,ol,ul{margin-top:0}ol,ul{margin-bottom:10px}.btn,ol ol,ol ul,ul ol,ul ul{margin-bottom:0}.list-inline{margin-left:-5px}.list-inline>li{padding-right:5px;padding-left:5px}dt{font-weight:700}dd{margin-left:0}@media(min-width:768px){.dl-horizontal dt{float:left;width:160px;overflow:hidden;clear:left;text-align:right;text-overflow:ellipsis;white-space:nowrap}.dl-horizontal dd{margin-left:180px}}.container,.container-fluid{margin-right:auto;margin-left:auto;padding-right:15px;padding-left:15px}@media(min-width:992px){.container{width:100%}.desktopclear{clear:none}.tabclear{clear:both!important}.videohide{display:block!important}.videodisplay{display:none!important;display:none}}@media(min-width:1200px){.carousel-control{width:30%!important;}.container{width:100%}.thisday-image{width:50%!important}.onscroll_add_height{margin-top:-258px!important}.desktopclear{clear:both}.tabclear{clear:none!important;display:none}.mobclear{clear:none!important;display:none}}.row{margin-right:-15px;margin-left:-15px}.col-lg-1,.col-lg-10,.col-lg-11,.col-lg-12,.col-lg-2,.col-lg-3,.col-lg-4,.col-lg-5,.col-lg-6,.col-lg-7,.col-lg-8,.col-lg-9,.col-md-1,.col-md-10,.col-md-11,.col-md-12,.col-md-2,.col-md-3,.col-md-4,.col-md-5,.col-md-6,.col-md-7,.col-md-8,.col-md-9,.col-sm-1,.col-sm-10,.col-sm-11,.col-sm-12,.col-sm-2,.col-sm-3,.col-sm-4,.col-sm-5,.col-sm-6,.col-sm-7,.col-sm-8,.col-sm-9,.col-xs-1,.col-xs-10,.col-xs-11,.col-xs-12,.col-xs-2,.col-xs-3,.col-xs-4,.col-xs-5,.col-xs-6,.col-xs-7,.col-xs-8,.col-xs-9{position:relative;min-height:1px;padding-right:15px;padding-left:15px}.col-xs-1,.col-xs-10,.col-xs-11,.col-xs-12,.col-xs-2,.col-xs-3,.col-xs-4,.col-xs-5,.col-xs-6,.col-xs-7,.col-xs-8,.col-xs-9{float:left}.col-xs-12{width:100%}.col-xs-11{width:91.66666667%}.col-xs-10{width:83.33333333%}.col-xs-9{width:75%}.col-xs-8{width:66.66666667%}.col-xs-7{width:58.33333333%}.col-xs-6{width:50%}.col-xs-5{width:41.66666667%}.col-xs-4{width:33.33333333%}.col-xs-3{width:25%}.col-xs-2{width:16.66666667%}.col-xs-1{width:8.33333333%}@media(min-width:768px){.col-sm-1,.col-sm-10,.col-sm-11,.col-sm-12,.col-sm-2,.col-sm-3,.col-sm-4,.col-sm-5,.col-sm-6,.col-sm-7,.col-sm-8,.col-sm-9{float:left}.col-sm-12{width:100%}.col-sm-11{width:91.66666667%}.col-sm-10{width:83.33333333%}.col-sm-9{width:75%}.col-sm-8{width:66.66666667%}.col-sm-7{width:58.33333333%}.col-sm-6{width:50%}.col-sm-5{width:41.66666667%}.col-sm-4{width:33.33333333%}.col-sm-3{width:25%}.col-sm-2{width:16.66666667%}.col-sm-1{width:8.33333333%}}@media(min-width:992px){.col-md-1,.col-md-10,.col-md-11,.col-md-12,.col-md-2,.col-md-3,.col-md-4,.col-md-5,.col-md-6,.col-md-7,.col-md-8,.col-md-9{float:left}.col-md-12{width:100%}.col-md-11{width:91.66666667%}.col-md-10{width:83.33333333%}.col-md-9{width:75%}.col-md-8{width:66.66666667%}.col-md-7{width:58.33333333%}.col-md-6{width:50%}.col-md-5{width:41.66666667%}.col-md-4{width:33.33333333%}.col-md-3{width:25%}.col-md-2{width:16.66666667%}.col-md-1{width:8.33333333%}}@media(min-width:1200px){.col-lg-1,.col-lg-10,.col-lg-11,.col-lg-12,.col-lg-2,.col-lg-3,.col-lg-4,.col-lg-5,.col-lg-6,.col-lg-7,.col-lg-8,.col-lg-9{float:left}.col-lg-12{width:100%}.col-lg-11{width:91.66666667%}.col-lg-10{width:83.33333333%}.col-lg-9{width:75%}.col-lg-8{width:66.66666667%}.col-lg-7{width:58.33333333%}.col-lg-6{width:50%}.col-lg-5{width:41.66666667%}.col-lg-4{width:33.33333333%}.col-lg-3{width:25%}.col-lg-2{width:16.66666667%}.col-lg-1{width:8.33333333%}}caption{padding-top:8px;padding-bottom:8px;color:#777;text-align:left}.btn{padding:6px 12px;font-size:14px;font-weight:400;text-align:center;-ms-touch-action:manipulation;touch-action:manipulation;-webkit-user-select:none;-moz-user-select:none;-ms-user-select:none;user-select:none;border:1px solid transparent}.collapse{display:none}.collapse.in{display:block}tr.collapse.in{display:table-row}tbody.collapse.in{display:table-row-group}.nav>li,.nav>li>a{display:block}.collapsing{height:0;overflow:hidden;-webkit-transition-timing-function:ease;-o-transition-timing-function:ease;transition-timing-function:ease;-webkit-transition-duration:.35s;-o-transition-duration:.35s;transition-duration:.35s;-webkit-transition-property:height,visibility;-o-transition-property:height,visibility;transition-property:height,visibility}.pull-right>.dropdown-menu{right:0;left:auto}.dropup .caret,.navbar-fixed-bottom .dropdown .caret{content:\"\";border-top:0;border-bottom:4px dashed;border-bottom:4px solid\\9}.dropup .dropdown-menu,.navbar-fixed-bottom .dropdown .dropdown-menu{top:auto;bottom:100%;margin-bottom:2px}@media(min-width:768px){.navbar-right .dropdown-menu{right:0;left:auto}.navbar-right .dropdown-menu-left{right:auto;left:0}}.nav-justified>.dropdown .dropdown-menu,.nav-tabs.nav-justified>.dropdown .dropdown-menu{top:auto;left:auto}.nav{padding-left:0px;margin-bottom:0;list-style:none}.nav>li>a{padding:10px 15px}.nav>li>a:focus,.nav>li>a:hover{text-decoration:none;background-color:#eee}.nav>li.disabled>a:focus,.nav>li.disabled>a:hover{color:#777;text-decoration:none;cursor:not-allowed;background-color:transparent}.nav .open>a,.nav .open>a:focus,.nav .open>a:hover{background-color:#eee;border-color:#337ab7}.nav .nav-divider{height:1px;margin:9px 0;overflow:hidden;background-color:#e5e5e5}.nav>li>a>img{max-width:none}.nav-tabs{border-bottom:1px solid #ddd}.nav-tabs>li{float:left;margin-bottom:-1px}.nav-tabs>li>a{margin-right:2px;border:1px solid transparent;border-radius:4px 4px 0 0}.nav-tabs>li>a:hover{border-color:#eee #eee #ddd}.nav-tabs>li.active>a,.nav-tabs>li.active>a:focus,.nav-tabs>li.active>a:hover{color:#555;cursor:default;background-color:#fff;border:1px solid #ddd;border-bottom-color:transparent}.nav-tabs .dropdown-menu{margin-top:-1px;border-top-left-radius:0;border-top-right-radius:0}.navbar{min-height:50px;margin-bottom:20px;border:1px solid transparent}.navbar-collapse{padding-right:15px;padding-left:15px;overflow-x:visible;-webkit-overflow-scrolling:touch;border-top:1px solid transparent;-webkit-box-shadow:inset 0 1px 0 rgba(255,255,255,.1);box-shadow:inset 0 1px 0 rgba(255,255,255,.1)}.navbar-collapse.in{overflow-y:auto}.navbar-fixed-bottom .navbar-collapse,.navbar-fixed-top .navbar-collapse{max-height:340px}@media(max-width:480px) and (orientation:landscape){.navbar-fixed-bottom .navbar-collapse,.navbar-fixed-top .navbar-collapse{max-height:200px}}.container-fluid>.navbar-collapse,.container-fluid>.navbar-header,.container>.navbar-collapse,.container>.navbar-header{margin-right:-15px;margin-left:-15px}@media(min-width:768px){.onscroll_add_height{margin-top:0}.navbar{border-radius:4px}.navbar-header{float:left}.navbar-collapse{width:auto;border-top:0;-webkit-box-shadow:none;box-shadow:none}.navbar-collapse.collapse{display:block!important;height:auto!important;padding-bottom:0;overflow:visible!important}.navbar-collapse.in{overflow-y:visible}.navbar-fixed-bottom .navbar-collapse,.navbar-fixed-top .navbar-collapse,.navbar-static-top .navbar-collapse{padding-right:0;padding-left:0}.container-fluid>.navbar-collapse,.container-fluid>.navbar-header,.container>.navbar-collapse,.container>.navbar-header{margin-right:0;margin-left:0}.navbar-fixed-bottom,.navbar-fixed-top,.navbar-static-top{border-radius:0}.navbar>.container .navbar-brand,.navbar>.container-fluid .navbar-brand{margin-left:-15px}}.navbar-static-top{z-index:1000;border-width:0 0 1px}.navbar-fixed-bottom,.navbar-fixed-top{position:fixed;right:0;left:0;z-index:1030}.carousel,.carousel-inner,.navbar-toggle{position:relative}.navbar-fixed-top{top:0;border-width:0 0 1px}.navbar-fixed-bottom{bottom:0;margin-bottom:0;border-width:1px 0 0}.navbar-brand{float:left;height:50px;padding:15px;font-size:18px;line-height:20px}.navbar-brand:focus,.navbar-brand:hover{text-decoration:none}.navbar-brand>img{display:block}.navbar-toggle{float:right;padding:9px 10px;margin-top:8px;margin-right:15px;margin-bottom:8px;background-color:transparent;border:1px solid transparent;border-radius:4px}.navbar-toggle:focus{outline:0}.navbar-toggle .icon-bar{display:block;width:22px;height:2px;border-radius:1px}.navbar-toggle .icon-bar+.icon-bar{margin-top:4px}.navbar-nav{#margin:10px}.navbar-nav>li>a{padding-top:10px;padding-bottom:10px;line-height:20px}@media(min-width:768px){.navbar-toggle{display:none}.navbar-nav{float:left;}.navbar-nav>li{float:left}.navbar-nav>li>a{padding-top:15px;padding-bottom:15px}.navbar-text{float:left;margin-right:15px;margin-left:15px}.navbar-left{float:left!important}.navbar-right{float:right!important;margin-right:-15px}.navbar-right~.navbar-right{margin-right:0}}.navbar-text{margin-top:15px;margin-bottom:15px}.close{float:right;font-size:21px;font-weight:700;color:#000;text-shadow:0 1px 0 #fff;filter:alpha(opacity=20);opacity:.2}.carousel-caption,.carousel-control{text-align:center;}.close:focus,.close:hover{color:#000;text-decoration:none;cursor:pointer;filter:alpha(opacity=50);opacity:.5}button.close{-webkit-appearance:none;padding:0;cursor:pointer;background:0;border:0}.carousel-inner{width:100%;overflow:hidden}.carousel-inner>.item{position:relative;display:none;-webkit-transition:.6s ease-in-out left;-o-transition:.6s ease-in-out left;transition:.6s ease-in-out left}@media all and (transform-3d),(-webkit-transform-3d){.carousel-inner>.item{-webkit-transition:-webkit-transform .6s ease-in-out;-o-transition:-o-transform .6s ease-in-out;transition:transform .6s ease-in-out;-webkit-backface-visibility:hidden;backface-visibility:hidden;-webkit-perspective:1000px;perspective:1000px}.carousel-inner>.item.active.right,.carousel-inner>.item.next{left:0;-webkit-transform:translate3d(100%,0,0);transform:translate3d(100%,0,0)}.carousel-inner>.item.active.left,.carousel-inner>.item.prev{left:0;-webkit-transform:translate3d(-100%,0,0);transform:translate3d(-100%,0,0)}.carousel-inner>.item.active,.carousel-inner>.item.next.left,.carousel-inner>.item.prev.right{left:0;-webkit-transform:translate3d(0,0,0);transform:translate3d(0,0,0)}}.carousel-inner>.active,.carousel-inner>.next,.carousel-inner>.prev{display:block}.carousel-inner>.active{left:0}.carousel-inner>.next,.carousel-inner>.prev{position:absolute;top:0;width:100%}.carousel-inner>.next{left:100%}.carousel-inner>.prev{left:-100%}.carousel-inner>.next.left,.carousel-inner>.prev.right{left:0}.carousel-inner>.active.left{left:-100%}.carousel-inner>.active.right{left:100%}.carousel-control{position:absolute;top:0;bottom:0;left:0;width:0%;font-size:20px;color:#fff;background-color:rgba(0,0,0,0);filter:alpha(opacity=50);opacity:.5}.carousel-control.left{background-image:-webkit-linear-gradient(left,rgba(0,0,0,.5) 0,rgba(0,0,0,.0001) 100%);background-image:-o-linear-gradient(left,rgba(0,0,0,.5) 0,rgba(0,0,0,.0001) 100%);background-image:-webkit-gradient(linear,left top,right top,from(rgba(0,0,0,.5)),to(rgba(0,0,0,.0001)));background-image:linear-gradient(to right,rgba(0,0,0,.5) 0,rgba(0,0,0,.0001) 100%);filter:progid:DXImageTransform.Microsoft.gradient(startColorstr='#80000000',endColorstr='#00000000',GradientType=1);background-repeat:repeat-x}.carousel-control.right{right:0;left:auto;background-image:-webkit-linear-gradient(left,rgba(0,0,0,.0001) 0,rgba(0,0,0,.5) 100%);background-image:-o-linear-gradient(left,rgba(0,0,0,.0001) 0,rgba(0,0,0,.5) 100%);background-image:-webkit-gradient(linear,left top,right top,from(rgba(0,0,0,.0001)),to(rgba(0,0,0,.5)));background-image:linear-gradient(to right,rgba(0,0,0,.0001) 0,rgba(0,0,0,.5) 100%);filter:progid:DXImageTransform.Microsoft.gradient(startColorstr='#00000000',endColorstr='#80000000',GradientType=1);background-repeat:repeat-x}.carousel-control:focus,.carousel-control:hover{color:#fff;text-decoration:none;filter:alpha(opacity=90);outline:0;opacity:.9}.carousel-control .glyphicon-chevron-left,.carousel-control .glyphicon-chevron-right,.carousel-control .icon-next,.carousel-control .icon-prev{position:absolute;top:50%;z-index:5;display:inline-block;margin-top:-10px}.carousel-control .glyphicon-chevron-left,.carousel-control .icon-prev{left:40%;margin-left:-10px}.carousel-control .glyphicon-chevron-right,.carousel-control .icon-next{right:40%;margin-right:-10px}.carousel-control .icon-next,.carousel-control .icon-prev{width:20px;height:20px;font-family:serif;line-height:1}.carousel-control .icon-prev:before{content:'\\2039'}.carousel-control .icon-next:before{content:'\\203a'}.carousel-indicators{position:absolute;bottom:10px;left:50%;z-index:15;width:60%;padding-left:0px;margin-left:-30%;text-align:center;list-style:none}.carousel-indicators li{display:inline-block;width:10px;height:10px;margin:1px;text-indent:-999px;cursor:pointer;background-color:#000\\9;background-color:rgba(0,0,0,0);border:1px solid #fff;border-radius:10px}.carousel-indicators .active{width:12px;height:12px;margin:0;background-color:#fff}.carousel-caption{position:absolute;right:15%;bottom:20px;left:15%;z-index:10;padding-top:20px;padding-bottom:20px;color:#fff}.carousel-caption .btn{text-shadow:none}@media screen and (min-width:768px){.carousel-control .glyphicon-chevron-left,.carousel-control .glyphicon-chevron-right,.carousel-control .icon-next,.carousel-control .icon-prev{width:30px;height:30px;margin-top:-10px;font-size:30px}.carousel-control .glyphicon-chevron-left,.carousel-control .icon-prev{margin-left:-10px}.carousel-control .glyphicon-chevron-right,.carousel-control .icon-next{margin-right:-10px}.carousel-caption{right:20%;left:20%;padding-bottom:30px}.carousel-indicators{bottom:20px}}.btn-group-vertical>.btn-group:after,.btn-group-vertical>.btn-group:before,.btn-toolbar:after,.btn-toolbar:before,.clearfix:after,.clearfix:before,.container-fluid:after,.container-fluid:before,.container:after,.container:before,.form-horizontal .form-group:after,.form-horizontal .form-group:before,.nav:after,.nav:before,.navbar-collapse:after,.navbar-collapse:before,.navbar-header:after,.navbar-header:before,.navbar:after,.navbar:before,.row:after,.row:before{display:table;content:\" \"}.btn-group-vertical>.btn-group:after,.btn-toolbar:after,.clearfix:after,.container-fluid:after,.container:after,.form-horizontal .form-group:after,.modal-footer:after,.modal-header:after,.nav:after,.navbar-collapse:after,.navbar-header:after,.navbar:after,.pager:after,.panel-body:after,.row:after{clear:both}.breadcrumb{margin-bottom:2px}.breadcrumb>li{display:inline-block}.breadcrumb>.active{color:#777}.breadcrumb>li+li:before{padding:0 5px;color:#ccc;content:\"/\\00a0\"}.breadcrumb{padding:8px 15px;margin-bottom:20px;list-style:none;background-color:#f5f5f5;border-radius:4px}.glyphicon-ok:before {\n",
       "    content: \"\\e013\";\n",
       "}.glyphicon-arrow-up:before{content:\"\\e093\"}.btn-primary:hover{color:#fff;background-color:#286090;border-color:#204d74}.topmenu-cls.navbar-default .navbar-nav>li>a{-webkit-transition:all .75s;-moz-transition:all .75s;-ms-transition:all .75s;-o-transition:all .75s}.crb,.f-people,.more-fp,.topmenu-cls{text-align:center}.city_this_bot_nav_bottom,.city_this_bottom,.city_this_left_nav_bottom{left:588px;width:450px}*{padding:0}.clear{clear:both}img{border:0}.editors{margin-top:10px;font-size:24px;color:#570101!important;font-family:\"Guardian Egyptian Web\",\"Guardian Text Egyptian Web\",Georgia,serif}.boxes,.smallred,.smallred td a{font-family:Verdana,Arial,Helvetica,sans-serif}.hero .hero-text h1{font-size:36px;font-weight:500;letter-spacing:normal;color:#000!important;margin:0}.nom>a:focus,.nom>a:hover,.nom>a>b:focus,.nom>a>b:hover{background:0 0!important;color:#fafafa!important}.topmenu-cls{color:#fafafa;font-size:12px;margin-left:4px;margin-top:10px;#text-transform:uppercase;letter-spacing:.75px;word-spacing:2px;transition:all 0s;padding:10px 0!important}.big_logo{width:23%!important}.nav>li>a:focus,.nav>li>a:hover{color:#2f2020!important}#page{width:1004px;margin:0 auto;background-color:#FFF}#header{position:relative;background:url(../images/header-bg.png) no-repeat;height:156px;border-bottom:5px solid #f2f2f2;padding-bottom:10px}.city_this,.city_this_bottom,.fblogo,.logo,.play,.qclass{position:absolute}.logo{top:76px}.fpf-block ul{padding-left:0!important}.display_selected_filter_list{margin:10px;padding:10px;background:grey;color:#fc0;font-weight:900;width:auto}#my_carouse_by ul,#my_carousel ul{padding-left:0}.catprofilesbottom{padding-left:0px;padding-right:5px}.catprofiles{padding-left:3px!important;padding-right:3px!important}#content{margin:12px 0 0}#rightbar{float:left;width:220px}.search input{border:1px solid #ccc;margin-bottom:5px;padding:5px;float:left;color:#000}.search button{background:url(../images/search-icon.jpg) 5px 4px no-repeat #000;border:0;float:left;width:32px;height:28px}.display-quotes-img img{cursor:unset}.title_shadow{box-shadow:0 4px 8px 0 #000,0 6px 20px 0 #000}.crb{font-size:10px!important;color:#aaa!important;}#cse-search-box{margin:0}.catmore a:before{content:\"\\2023\";color:#ddb101;padding-right:5px}.famous-prof ul li{list-style:none;border-bottom:1px dotted #fc0;line-height:34px}.famous-prof ul li a{font-size:16px;color:#666;text-decoration:none}.famous-prof ul li a:hover{color:#333}.famous-prof ul li a span{font-style:italic;color:#ccc}.downarrow ul li a:after{content:\"\\25bc\";visibility:visible;display:inline-block;clear:both;#float:right;padding-left:8px;font-size:14px;color:#fc0;font-weight:700}.famous-peoples h3{font-size:18px;border-bottom:5px solid #000;padding-bottom:5px}.f-people{background:#000;padding:5px;float:left;margin:8px 8px 0 0}.fp-full_info .f-peoples{height:auto}.f-people img{width:204px;height:146px}.f-people h4{font-weight:700;font-size:10px;color:#fff}.f-people p{color:#fc0;font-size:9px}.left_famous_people_by_additional_links a{color:#6b564b}.fp-2{margin-right:0}.fp-desc{margin-top:7px}.more-fp{background:#e9e9e9;margin-top:10px}.more-fp a{color:#000;font-size:12px;padding:5px;text-decoration:none;display:block;font-weight:700}#center,#centersearch{padding:0 15px;width:737px;float:left}.more-fp span{color:#999}.right-section{margin-bottom:10px}.margincls{margin:0}.hpdesc{text-align:justify;font-size:12px;margin-top:10px;margin-bottom:10px}#center{margin:0 0 0 15px;border-left:2px solid #e7e7e7}#centersearch{margin-left:100px}.small-fpintro{text-align:center}.small-fpintro p{font-size:14px;color:#333}.breadcrumbs ul li{float:left;list-style:none}.breadcrumbs ul li a{color:#333;font-size:14px;text-decoration:none}.breadcrumbs ul li span{margin:0 5px}.active-fp{color:#fc0!important}.al{margin-bottom:10px!important;margin-top:10px!important}.left_cat_list ul{padding-left:0}.fps-desc h1{font-size:28px;margin-bottom:5px}.fps-desc p span{color:#333;text-transform:capitalize;line-height:17px}.copyright,.copyright a,.copyright p a{text-transform:uppercase}.fps-desc .social{float:left;margin-top:15px}.fps-desc .report{float:right;margin-top:20px}.fps-desc .report button{border:0;background:url(../images/report-button-bg.jpg) repeat-x;border-radius:3px;color:#fff;font-size:12px;font-weight:700;padding:1px 5px;float:left;cursor:pointer}.fps-desc .report a{float:left;display:block;margin-left:5px;cursor:pointer}.fp-first p{float:right;font-size:14px;color:#333;margin-left:15px;text-align:justify}.fpf-block{margin-top:0!important;text-align:justify!important}.fp-sinfo2{padding-top:0!important}.cat1,.cat2{text-align:justify}.fpf-block h3{font-size:20px;margin-bottom:5px}.fpf-block img{float:left;margin:0 15px 10px 0;margin:0 auto}.fpf2 img{float:right;margin:0 0 10px 15px;border:1px solid #000}.fp-timeline{margin-top:5px;margin-bottom:5px}.fp-timeline .h3span{font-size:20px;color:#fc0;background:#444;padding:5px;font-weight:700}.h3spanhp{margin-left:3px}.fp-timeline p{font-size:14px;color:#666;float:none;width:auto;overflow-x:hidden}.fp-timeline span{font-weight:700;color:#000;float:left;font-size:14px}.even{background:#ebebeb}.even,.odd{padding:3px 10px}.bottom-social_report .social{float:left;margin-top:15px}.bottom-social_report .report{float:right}.bottom-social_report .report button{cursor:pointer;border:0;background:#8b0000;color:#fff;font-size:12px;font-weight:700;padding:10px;float:left}.bottom-social_report .report a{float:left;display:block;margin-left:5px;color:#fff}.copyright{color:#fff;margin:10px}.copyright a{font-size:14px;color:#fff;text-align:center;margin:0 0 10px}.fpf-block ol li,.fpf-block ul li{margin-left:55px}.footer-menu li{float:left;list-style:none;line-height:16px;margin-right:10px}.footer-menu li a{font-size:14px;color:#fc0;text-decoration:none}.footer-menu li a:hover{text-decoration:underline}.catlink,.f-people p,.f-peoples .fp-desc a,.fp-quotes a,.fpf-block a,.pagination a,a{text-decoration:none}.fpf-block a{font-size:17px;color:#1a0dab;}.fpf-block div h1{float:left}.fpf-block ul li{font-size:17px;font-weight:400;color:#333}.fpf-block .cat1,.fpf-block .cat2{color:#000;border:1px solid #000;padding:5px;width:350px;height:116px}.fpf-block strong{font-size:24px}.fpf-block .cat1{font-size:12px;float:left}.fpf-block .cat2{font-size:12px;float:right}.fpf-block .cat1 button,.fpf-block .cat2 button{float:left;border:0;background:url(../images/report-button-bg.jpg) repeat-x;border-radius:3px;color:#fff;font-size:12px;font-weight:700;padding:1px 5px;cursor:pointer;margin:3px}.f-peoples span{font-size:11px}.f-peoples .fp-desc{text-align:center}.catlink{font-weight:700;font-size:24px;color:#000}.fp-timeline .h3span a{font-size:20px;color:#fc0;background:#444;padding:5px;font-weight:700}.copyright p a{font-size:14px;color:#ccc}.pagination ul li{display:inline;padding:5px;margin:0;font-weight:700;cursor:pointer;font-size:18px}.pagination a{color:#000}.boxes{padding:0;font-size:14px;font-style:normal;font-weight:400;font-variant:normal;text-transform:none;color:#333}.smallred{font-size:16px}.smallred td a{font-size:14px}.fbstring,.readmore{font-size:12px;font-weight:700}.search-box{FONT-SIZE:12px;COLOR:#333;FONT-FAMILY:Arial;HEIGHT:20px;BORDER:1px solid;color:#333}.fbbutton,.idolize button,.readmore{border:0;cursor:pointer}.boxes td div{margin:0}.idolize{padding:10px 5px 5px 4px;height:35px}.idolize button{float:left;height:25px;margin-left:7px;margin-top:-3px}.fbbutton{float:left;width:115px;height:35px;margin-top:6px;margin-right:-30px}.fbstring{color:#000;text-align:center;margin-right:10px;float:left}.fbimg{float:left}.fblogo{float:right;right:16px;top:157px}.search .sgindex{height:22px;width:650px;margin-left:40px}.readmore{background:url(../images/report-button-bg.jpg) repeat-x;border-radius:3px;padding:1px 5px}.city_this,.city_this div,.city_this_biography,.city_this_bot_nav div,.city_this_bot_nav_bottom div,.city_this_bottom,.city_this_bottom div,.city_this_left_nav div,.city_this_left_nav_bottom div,.small-fpintro1{padding:5px}.city_this,.city_this_bottom{display:none;border:2px solid #000;background-color:#FFF;outline:0;z-index:1008}.city_this p,.city_this_bottom p{font-weight:400;font-family:Arial,sans-serif;font-size:12px}.city_this{font-size:12px;margin-top:-300px}.city_this_bottom{font-size:12px}.city_this_biography{background:#fc0;font-size:18px;cursor:pointer;font-weight:700;border-radius:3px;margin-top:15px;margin-left:5px}.city_this_bot_nav p,.city_this_bot_nav_bottom p,.city_this_left_nav p,.city_this_left_nav_bottom p{font-size:12px;font-weight:400;font-family:Arial,sans-serif}.city_this_bot_nav,.city_this_bot_nav_bottom,.city_this_left_nav,.city_this_left_nav_bottom{display:none;border:2px solid #000;background-color:#FFF;z-index:1008;font-size:12px;padding:5px;position:absolute;outline:0}.city_this_left_nav{width:450px;margin-top:-300px}.city_this_bot_nav{/top:382px;/width:450px;margin-top:-640px}.small-fpintro1,.small-fpintro2{background:#fc0;text-align:center}.carousel span,.ic-profile{font-weight:700}.small-fpintro2{padding:3px}.small-fpintro1 input{color:#9c9c9c;height:20px;font-size:14px}.small-fpintro2 input{width:40px}.small-fpintro1 span{background:#000;color:#FFF;cursor:pointer;font-size:12px;margin-left:4px;padding:3px;border-radius:6px}.carousel-desktop{margin:0 auto;height:auto!important;width:calc(100% /1.44)!important}.carousel span{color:#fc0;float:left;font-size:20px!important;padding:10px;top:50%!important}.glyphicon{width:40px!important;height:40px!important}.small-fpintro2 span{background:#000;color:#FFF;cursor:pointer;float:right;margin:10px 40px;padding:5px;border-radius:6px}.tt_edit,.tt_edit span{padding:10px}.userpara{display:block;border-radius:6px;box-shadow:0 3px 3px -3px #000}.tt_edit{background:#fc0;border-radius:6px;border:1px solid #000}.tt_edit span input{width:40px;vertical-align:top}.tt_edit span span{width:40px;padding:2px}.tt_edit span .tcont{width:555px;height:50px;vertical-align:top;margin-top:-5px}.tt_edit p{color:#000}.tt_edit .tnote{color:red;float:left;margin-top:-4px}.play{top:50%;color:#fc0;z-index:5;display:inline-block;margin-top:0;padding:5px;border:5px #fc0;background:rgba(0,0,0,.5);border-radius:5px;font-size:18px;box-shadow:0 4px 8px 0 rgba(0,0,0,.2),0 6px 20px 0 rgba(0,0,0,.19);margin-left:17px;font-weight:900}.psd,.qclass{display:none}.qclass{width:36px;height:36px;cursor:pointer;z-index:9948040;background-image:url(https://cdn.jsdelivr.net/fancybox/2.1.5/fancybox_sprite.png);top:-60px;right:0;#top:-15px;#right:-10px}.psd{position:fixed;width:336px;height:auto;z-index:9948030;right:1%;bottom:0;border:5px solid #fafafa}.fp-quotes .flag_content,.popBox{position:absolute;cursor:pointer}.textcont{width:590px;height:50px}.tt_edit td span{width:40px;padding:2px}.tt_edit td input{width:40px}.tt_edit .ttbut{float:right;margin:0 11px 1px 0;background:#000;color:#FFF;cursor:pointer;border-radius:6px;padding:3px;font-size:12px;font-weight:400}.newpara{font-size:14px;color:#333;margin-left:15px}.newparalike{font-size:12px;color:#3b9dff;font-weight:700;cursor:pointer;font-family:Helvetica,sans-serif;margin-left:-2px}.author,.author1{color:#9c9c9c;font-style:italic}.author{font-size:14px}.author1{font-size:12px}.fp-timeline .newpara{font-size:14px;color:#333;margin-bottom:5px;margin-left:15px}.fp-timeline .newparalike{padding-left:2px;font-size:12px;color:#3b9dff}.fp-timeline .author,.fp-timeline .author1{color:#9c9c9c;font-style:italic;font-weight:400}.fp-timeline .author{font-size:14px}.fp-timeline .author1{font-size:12px}.fp-timeline p span{padding:1px}.fp-quotes{margin-top:15px}.fp-quotes .h3span{font-size:20px;color:#fc0;background:#444;padding:5px;margin-bottom:15px;font-weight:700}.fp-quotes .qdiv{font-size:14px;color:#666;float:none;width:auto;text-align:center;margin:5px;overflow-x:hidden;background:#ffffcd;border:1px dotted red}.fp-quotes .newpara{font-size:14px;color:#333;margin-bottom:5px;margin-left:15px}.fp-quotes .newparalike{padding-left:2px;font-size:12px;color:#3b9dff}.fp-quotes .author,.fp-quotes .author1{color:#9c9c9c;font-style:italic;font-weight:400}.fp-quotes .author{font-size:14px}.fp-quotes .author1{font-size:12px}.fp-quotes p span{float:none}.fp-quotes .flag_content{display:none;width:260px;height:100px;z-index:100;background-color:#000;color:#FFF;left:770px;margin-top:-20px;padding:5px}.fp-quotes .flag_content textarea{width:80%;height:50%}.fp-quotes a{font-size:14px;color:#666;padding:2px;cursor:pointer}.fp-quotes a:hover{color:#000}.fp-quotes .qdiv p{text-align:center;margin:6px}.fp-quotes .qdiv div{text-align:center;margin-left:26px}.fp-quotes .qdiv a{padding:5px;cursor:pointer}.fp-quotes .qdiv button{cursor:pointer;border:0;background:url(../images/quotesimage.jpg) repeat-x;border-radius:3px;width:220px;height:23px}.flag_content,.fp-timeline .flag_content{background-color:#fc0;padding:10px;color:#000;position:absolute;display:none;cursor:pointer}.flag_content{border-radius:12px;width:325px;z-index:100;margin-top:-20px;border:2px solid #000}.flag_content span{width:80%;height:50%;font-size:12px;margin-bottom:10px}.flag_content textarea{width:98%;height:50%;margin:5px 1px}.flag_content div{height:50%;font-size:12px;float:right}.flag_content div input{margin:0 5px 0 3px}.fp-timeline .flag_content{border-radius:12px;width:325px;height:100px;margin-top:-20px;border:2px solid #000}.fp-timeline .flag_content span{font-size:12px;color:#000;font-weight:400}.fp-timeline .flag_content textarea{width:98%;margin:5px 1px}.fp-timeline .flag_content input{float:right;margin:0 5px 0 3px}.timeline_add{margin:-19px 0 14px}.catpm{text-align:justify;float:left}.fpf-block .catpm{padding:5px;border:1px solid #000;height:auto;width:728px}.fpf-block .catpm p{margin:1px;font-size:14px;color:#000;padding:5px}.popBox{z-index:2;background:#000;width:400px;height:30px;padding:.3em;border:1px solid #000;border-radius:6px;color:#fff}.hideme{display:none}.book_info{background-color:#000;border:2px solid #FC0;display:none;font-size:12px;height:50px;outline:0;padding:5px;z-index:1008}.book_info p{color:#FFF;margin:16px;height:20px}.book_info p a{background:#FC0;border-radius:4px;color:#000;cursor:pointer;font-size:16px;padding-bottom:2px}.open{background-image:url(../images/minus_awards.jpg)}.close{background-image:url(../images/plus_awards.jpg)}.slider-stage{width:120px;overflow:hidden;height:175px;margin-left:1px;float:left;position:relative}.slider-list{width:200px;border:0;margin:0;padding:0;left:0;position:absolute}.slider-list a.theme{list-style:none;margin:0;padding:0;border:0;float:left;width:140px;height:140px;position:relative;cursor:pointer;text-decoration:none;overflow:hidden}.slider-list a.theme span.nameVignette{position:absolute;left:4px;bottom:0;color:#a0a09b;padding:3px;font-size:10px}.slider-list a.theme:hover span.nameVignette{color:#494947}.slider-list a.theme span.changeTheme{background:#363636;color:#ffd200;display:none;font-family:Tahoma,Arial,Helvetica,sans-serif;font-size:10px;font-weight:700;height:16px;left:0;position:absolute;text-align:center;text-transform:uppercase;top:0;width:120px}.privacy,.privacytext{font-family:Arial;font-size:14px}.slider-list a.theme:hover span.changeTheme{display:block}.sliderBloc{height:145px;width:173px;overflow:hidden;border:1px solid red}.sliderBloc a.next,.sliderBloc a.previous{background:url(../images/fleche-carrousel-gauche.png) left top no-repeat;float:left;text-indent:-9999px;cursor:pointer;width:20px;height:20px;margin:55px 2px 0 0}.sliderBloc a.next{background:url(../images/fleche-carrousel-droite.png) left top no-repeat;margin:55px 0 0 2px}.sliderBloc a.next:hover,.sliderBloc a.previous:hover{background-position:left -20px}.privacy{color:#336799;line-height:16px;margin:10px;padding:4px}.privacytext{margin:0;padding:10px 2px 10px 1px}.left_side_social{font:11px Helvetica,Tahoma,Arial;cursor:pointer;position:fixed;top:40%;width:50px;#float:right;right:7%}@media only screen and (max-width:1280px){#page{margin-left:5%}.theme-bg-ssts-label-hp{width:100%!important}.topmenu-cls{margin-top:0!important}#stickyheader{width:68%!important;margin-left:33%!important}.hgsm-ssts-label-top-left-hp{left:-6px!important;top:-11px!important}}@media only screen and (max-width:600px){#page{margin-left:10%}.playwire_class{width:100%!important}}#left_sticky_ad{#width:300px;height:600px;position:sticky;top:0;#left:0}#bottom_sticky_ad{position:static}.catmore{text-align:center;margin-bottom:5px}.catmorelinks{padding:10px;font-size:15px!important;color:#2b2b2b!important;text-align:left!important}.catmorelinks:hover{color:#1e90ff!important}.blog-sidebar ul li a:hover{color:#333!important}.h1,h1{font-family:\"Guardian Egyptian Web\",\"Guardian Text Egyptian Web\",Georgia,serif;}.blog-masthead{background-color:#FFF;box-shadow:inset 0 -2px 5px rgba(0,0,0,.1)}.blog-nav-item{position:relative;display:inline-block;padding:10px;font-weight:500;color:#cdddeb}.blog-nav-item:focus,.blog-nav-item:hover{color:#fff;text-decoration:none}.blog-nav .active{color:#fff}.blog-nav .active:after{position:absolute;bottom:0;left:50%;width:0;height:0;margin-left:-5px;vertical-align:middle;content:\" \";border-right:5px solid transparent;border-bottom:5px solid;border-left:5px solid transparent}.blog-nav img{max-width:125%}.blog-nav{width:80%}.blog-header{padding-bottom:10px}.blog-title{margin-bottom:0;font-family:Georgia,\"Times New Roman\",Times,serif;color:#c03;font-size:34px;font-weight:400}.blog-description{font-size:20px;color:#999}.blog-main{font-size:18px;line-height:1.5}.sidebar-module{padding:15px;margin:0 -15px 15px}.sidebar-module-inset{padding:15px;background-color:#f5f5f5;border-radius:4px}.sidebar-module-inset ol:last-child,.sidebar-module-inset p:last-child,.sidebar-module-inset ul:last-child{margin-bottom:0}.pager{margin-bottom:60px;text-align:left}.pager>li>a{width:140px;padding:10px 20px;text-align:center;border-radius:30px}.blog-post-title{margin-bottom:5px;font-size:40px}.blog-post-meta{margin-bottom:20px;color:#999}.blog-footer{padding:40px 0;color:#999;text-align:center;background-color:#f9f9f9;border-top:1px solid #e5e5e5}.blog-sidebar ul li{list-style:none;border-bottom:1px dotted #fc0;padding-left:5px;font-size:xx-small}.f-people span{color:#fc0;font-size:11px}.fp-sinfo{border:0;}.famous-prof-main{padding:5px;box-shadow:0 1px 1px #fcd402;width:100%;color:#6b564b;background:0 0!important;margin-bottom:-1px}.blog-sidebar ul li:hover{}.blog-sidebar ul li a{color:#666;text-decoration:none;font-size:15px!important;font-family:open-sans,sans-serif!important}.search{margin-top:1%}.search input{width:75%}.search button{#margin-left:1%}.gindex{height:28px}.display-profile-quotes{border:1px solid rgba(17,17,17,.37);margin:10px;width:46%;padding:0}.filtersubmit{float:right;margin-bottom:5px}.shareimages{margin-top:-10px!important;padding:0;padding-left:5px!important;text-align:initial!important}.share-icon-position{margin:20px;position:absolute;text-align:left;margin-left:60px!important;margin-top:35px!important}.display-quotes-img{padding:0;margin-bottom:10px;background:#fff;text-align:center!important}@media(min-width:767px){.main{margin-left:0;float:right}.adx_small_desktop{display:none}.navbar-toggle{margin-right:6px!important}.tablet_logo,.tablet_logo img{width:100%!important}.subdropdown_menu{display:block!important;background-image:none!important}.discusslogo{font-size:22px!important}.share_rn{padding:12px 10px 0 12px!important}.page_bits{width:72%!important}.born_wrapper{width:100%!important}.share_fb{background:url(../images/share_icons.png) 3px 8px no-repeat #2d609b!important}.hide_on_bs,.hide_on_m{display:none!important}.filter-main{width:96%!important}.button-label{margin-left:0!important;text-align:left!important}.shareimages{text-align:center!important}.share-icon-position{margin:20px}.f-peoples img{width:100%!important;height:auto!important}.f-peoples{width:100%!important;height:auto!important;margin:6px!important;padding:8px!important}.yellow-ad-text1{font-size:26px!important}.f-peoples span{font-size:12px!important;margin-left:8px}}@media(max-width:767px){.container{padding:0}.main_content_left_ad,.shareimages{text-align:center!important}.small-fpintro1{display:none!important},.fp-timeline .author,.fp-timeline .author1,.fp-timeline .newparalike,.newpara span{display:none}.blog-sidebar{width:100%;margin:0 auto}.filtersubmit,.navbar-toggle{margin-right:10px!important}.page_bits li{width:30%!important}.page_bits{width:64%!important}.center-top-data{margin-bottom:10%!important}.display-profile-quotes{width:100%!important;margin-bottom:10px!important}.hide_on_bs,.hide_on_m{display:block!important}.filter-main{width:96%!important}.filtersubmit{margin-bottom:5px!important}.main_content_left_ad,.share-icon-position{margin:0 auto!important}.quick_right{width:64%!important}.fpf-block a,.fpf-block p,.fpf-block div,.main_introduction_right, .main_introduction_right p, .newpara_desc p strong{font-size:18px!important;}.main_content_left_ad{float:none!important}}@media(max-width:480px){.catmorelinks,.pagination ul li{padding:10px!important}.fps-img{text-align:center;float:none;}.display-profile-quotes{width:100%!important;margin-bottom:10px!important}.hide_on_bs{display:block!important}.hide_on_m{display:block!important}.share-icon-position{width:100%!important}.f-peoples img{width:100%!important;height:auto!important}.f-peoples{width:100%!important;height:auto!important;text-align:center}.f-peoples h4,.f-peoples p,.f-peoples span{text-align:center!important}.f-peoples h4{font-size:20px!important}.f-peoples span{font-size:12px!important}.f-peoples p{font-size:14px!important}.cat_more_from_heading span{font-size:18px!important}.blog-sidebar ul li a{font-size:16px;line-height:1.5!important}.pagination ul{padding-left:0!important}.theme-bg-ssts-label-hp{width:100%!important}.hgsm-ssts-label-top-left-hp{left:-8px!important;top:-13px!important}.footer-menu{margin:0 auto!important}.crb{text-align:center;font-size:10px!important}.navbar-toggle{margin-right:7px!important;padding:8px!important}.sticky_button{margin-top:-11%!important}.mobile_logo{width:86%!important}.site_logo{width:100%!important}.hide_on_mobile_only{display:none!important}.page_bits{width:41%!important}.page_bits li{width:50%!important}.shareimages{text-align:center!important;margin-top:6px!important}.sec_heading strong{box-shadow:none!important;padding:0!important}.top_ad_mobile{width:320px!important;height:100px!important}.profile-pic-top{width:100%!important;margin:0 auto!important}.ddl div,.dl div{margin-top:5px!important}.hc{padding-left:8px!important;padding-right:8px!important}.ddl p,.dl p{margin-bottom:-5px!important;font-size:14px!important}.dl div{#margin-right:2px!important}.ddl div{margin-right:0!important}}.fp-first p{width:50%}.small-fpintro1 input{width:90%}.f-people,.right-section img,.tt_edit,.tt_edit textarea{width:100%}.tt_edit{height:auto;margin-left:1%}.tt_edit textarea{margin-top:1%}.f-people .fp-desc p{text-align:center;margin:0;font-size:14px;font-weight:700;color:#fff}#fb-root{display:none}.famous-prof{margin:0;text-align:left;border:1px solid #ccc;padding:10px;box-shadow:5px 5px 5px #d2cfc6;font-weight:600;color:#6B564B;font-size:19px;padding:5px 10px;display:block!important;border-bottom: 5px solid #fc0;}.famous-prof ul{text-align:left;padding-left:0}.center-ad,.copyright p,.famous-peoples,.footer-menu,.meta_description,.right-section,.tfp_bellow_career_ad{text-align:center}.famous-peoples{padding:5px}.facebook_like_box{margin-left:4%;width:100%}#footer .row{margin:0}#footer{margin-top:0}.copyright{float:none}.vdo_right{float:inherit;background:#fff;height:445px}.admire_button{float:left}.main_content_left_ad{float:left;margin-right:1%;margin-top:0}.main_introduction_right{margin-left:1px}.small-fpintro1{display:block;border-radius:6px;box-shadow:0 3px 3px -3px #000}.fp-timeline_year{width:80px}.left_famous_people_by{font-size:17px;font-weight:700;}.blog-nav .tfp_logo img{width:68%;margin-top:-14%}#my_carousel li{float:left;margin-left:1%;list-style:none}.footer-menu ul{margin-left:30%}#my_carousel4 #vdo img{max-width:100%}#my_carouse_by #vdo img{max-width:100%;margin-top:-5px;width:10px!important;height:14px!important}.tfp_fb_like_box iframe{margin:10px 0;text-align:center}#my_carousel4 ul{float:left;list-style:none}.footer-menu{float:none;color:#fafafa;font-size:12px}.center-ad{margin:0px auto;text-align: -webkit-center;}.tfp_center_ad,.tfp_main_content_left_ad,.tfp_master_left_ad,.tfp_profile_top_ad{margin-left:auto;margin-right:auto}.tfp_profile_top_ad{width:320px;height:100px}@media(min-width:500px){.tfp_center_ad,.tfp_profile_top_ad{#width:100%;#height:60px}.born_wrapper{width:300px}}@media(min-width:1200px){.tfp_center_ad,.tfp_profile_top_ad{#width:100%;#height:90px}}.tfp_main_content_left_ad{width:300px;height:250px}@media(min-width:1200px){.tfp_main_content_left_ad{width:100%;#height:280px}}.tfp_master_left_ad{width:336px;height:280px}@media(min-width:760px){.tfp_master_left_ad{width:160px;height:600px}.generate_timeline button{width:25%!important;margin-right:3%!important;margin-top:0px!important}.picturesof{margin:0 auto 10px!important;width:100%!important;height:auto!important}.profile-pic-top{margin:0 auto!important}}.tfp_bellow_career_ad{width:320px;height:100px;margin-left:auto;margin-right:auto}@media(min-width:500px){.tfp_bellow_career_ad{width:468px;height:60px}}@media(min-width:1200px){.tfp_bellow_career_ad{width:728px;height:90px}}#content{margin-top:0;background:#fff}.navbar-default{display:none}.tablet_logo{display:block}.mobile_logo{display:none}.embed_report_error{float:right!important;margin-top:-15px!important;margin-right:30px!important}.generate_timeline{background:#444;color:#FC0;padding:10px;margin-bottom:10px}.downld,.gte{padding:0}.generate_timeline button{border:0;border-radius:3px;height:35px;cursor:pointer;width:35%;float:left;margin-right:1%}.generate_timeline p{color:#FFF;font-size:13px;font-weight:700;margin-top:1%;margin-bottom:0}.fps-img img{border:5px solid #333}.meta_description{margin-bottom:10px}.small-fpintro{background:0;padding:0}.newpara{list-style-type:none;margin-bottom:0}.newpara_desc{width:100%;display:list-item;list-style-type:disc;text-align:left;margin-right:2%}.bio,.quick_right a{display:inline-block!important}.main_content_right{float:right;margin-left:10px}.main_content_left{float:left;margin-right:20px}.downld,.fp-timeline p span,.gte,.newparalike{float:right}.main_content_left img,.main_content_right img{margin:0}.flag_content,.fp-timeline .flag_content{left:20%}.fp-timeline .flag_content span{width:100%;height:37%;margin-bottom:0}.fp-timeline .flag_content textarea{height:62%}.fp-timeline .flag_content input{font-weight:400}.city{text-align:center;width:100%}.main_city_this{width:100%;margin-top:10px}.fbstring{margin-top:5px}.citethissize{width:100px!important;height:30px!important;border:0!important}.picturesof{margin-left:1px!important;width:173px!important;height:150px!important}.city_this{left:0;width:65%;top:18%}.city_this p{text-align:left}.city_this_left_nav{left:0;top:20%}.city_this_bot_nav{left:0;width:70%;top:100%}.fpf-block ul li{margin:5px 5px 5px 5px;list-style-type:none}.tfp_logo img{width:100%}#book_by_img,#book_on_img{cursor:pointer}.book_info{margin-top:0;margin-left:3%;position:relative;width:95%}.left_nav_city_this{text-align:center;margin-bottom:10px}.lang-trans{background:1px #333}.fbsticky{font-size:12px}.gte{text-align:end;margin:-8px}.bio{color:rgba(51,51,51,.2)}.left_nav_city_this,cite-bottom a,city{cursor:pointer}.cite-bottom{text-align:center}.left_nav_city_this,city a span{}.sltop{float:left}.sltoplinks{color:#3b5998;font-size:15px}.quick_left,.quick_left1{float:left;width:30%;font-size:13px;text-transform:capitalize;margin-bottom:2px}.generate-timeline-button{background:url(../images/timelinebutton.jpg) repeat-x;background-size:100%}.list-group-item{padding:0 15px}.quick_left1{font-family:initial;#text-align:right;font-weight:600;border-right:1px solid #ccc;padding:2px 5px}.quick_left span{}.quick_left{text-align:right;font-weight:700;}.quick_right,.quick_right1{text-align:left;margin-bottom:5px;float:left}.quick_right1{width:64%;margin-left:8px;font-size:14px;padding:2px 5px;font-family:initial}.quick_right{width:60%;font-size:13px;margin-left:4px}.fps-img img{width:300px;height:250px}.fps-desc{width:57%;margin-left:0;float:left}.pictures_of_img{margin-left:1px;width:158px;height:150px;border:3px solid #FC0;margin-bottom:10px}#showmore,#showmore1{float:none;text-align:center;color:green}#idolize .row{margin-left:0;margin-right:0}.bellow_img_attr_sour{text-align:center;font-size:12px;width:100%;margin-left:auto;margin-right:auto;word-wrap:break-word}.fps-img{width:39%;float:right}@media(max-width:1024px){.first_pic{width:auto!important;height:auto!important;}.navbar-nav{margin:10px}.blog-sidebar{display:none}.main-right{width:100%!important}.fps-desc{width:55%}.quick_left{text-transform:capitalize!important}.profile-valueclick-ad-desktop{display:block!important}.adx_small_desktop{display:block!important}.youtube-cls{width:100%!important;height:100%!important}.hide_on_tab{display:none!important}.top-nav{float:left!important;padding:5px;width:14%!important}.center-top-data{margin-bottom:0!important}.theme-bg-ssts-label-hp{width:100%!important}.tfp_logo_desk img{margin-top:5px!important}#fb1{width:31%!important}#tw1{width:32%!important;left:150px!important}#rd1{width:27%!important;margin-left:-12px!important}.filter-main{margin-bottom:0;padding:0;margin-right:0!important;margin-left:0!important;width:100%!important;background-color:#fff!important;border-bottom:1px solid #e7e7e7!important;border-right:1px solid #e7e7e7;border-left:1px solid #e7e7e7}}@media(min-width:812px){.profile-valueclick-ad-mobile{display:none!important}}@media(max-width:1000px){.fps-desc{width:100%}}@media(max-width:800px){.mobclear{clear:both!important}.h1,h1{text-align:center}.main_city_this{display:none}.top_ad_mobile{width:320px!important;height:100px!important}}@media(max-width:1000px){.bellow_img_attr_sour,.fps-img{width:100%}.fps-img{#float:none;text-align:center}.top_ad_mobile{width:320px!important;height:100px!important}}@media(max-width:699px){.fps-img{float:none;text-align:center}.top_ad_mobile{width:320px!important;height:100px!important}}@media(max-width:812px){.ili_main_content_right_ad_with_mobile{display:none!important}.carousel-control{width:0%;}}@media(max-width:420px){.quick_left,.quick_right{font-size:15px!important}.quick_left{width:41%}.quick_right{width:79%!important}.main_content_left{float:right;margin-right:0}.pictures_of_img{width:142px;height:150px}.main_introduction_right,.newpara_desc{font-size:18px!important;margin:10px 0;line-height:1.5em}.top_ad_mobile{width:320px!important;height:100px!important}.profile-pic-top{margin:0 auto!important}.embed_report_error{margin-right:0!important}.bottom-social_report .report{margin-top:10px!important}.carousel-desktop{margin:0 auto;width:300px!important;height:250px!important}.glyphicon{width:40px!important;height:40px!important}.tfp_sticky_footer{position:fixed;bottom:-10px;background-color:#fafafa;display:none;width:100%!important;text-align:center}.search button{background:url(../images/search-icon.jpg) no-repeat #fc0;border:0;background-position:5px 3px!important;float:left;width:32px;height:28px}.search{margin-top:5%}.filter-main{background-color:transparent!important}}@media(max-width:320px){.quick_left,.quick_right{font-size:15px!important}.quick_left{width:41%}.quick_right{width:50%}.button-label2::after{margin-bottom:-20px!important}.main_introduction_right,.newpara_desc{font-size:18px!important;margin:10px 0;line-height:1.5em}.top_ad_mobile{width:320px!important;height:100px!important}.profile-pic-top{margin:0 auto!important}.embed_report_error{margin-right:0!important}.bottom-social_report .report{margin-top:10px!important}.carousel-desktop{margin:0 auto;width:300px!important;height:250px!important}.glyphicon{width:40px!important;height:40px!important}.tfp_sticky_footer{position:fixed;bottom:0;background-color:#fafafa;display:none;width:100%!important;text-align:center}.search button{background:url(../images/search-icon.jpg) no-repeat #fc0;border:0;background-position:5px 3px!important;float:left;width:32px;height:28px}}.ra{font-size:18px;font-weight:700;padding-left:10px}.cat_more_from{border:1px solid #e7e6ce;border-radius:4px;text-align:center;margin-bottom:10px!important;padding-bottom:5px;border-bottom:4px solid #807f67;padding-left:0px;padding-right:0}.famousas{font-size:12px;text-decoration:none;color:#000;padding:5px}.famousasmain a{text-align:center;font-size:12px!important;word-wrap:break-word}.famousasmain a:focus,.famousasmain a:hover{text-align:center;box-shadow:0 0 10px #77623c!important;color:#531f1f!important;text-decoration:none}.dottedlineright{border-right:dotted 1px #FC0}.cat_more_from_heading{text-align:center;background:#FC0;margin-bottom:3px;padding:10px}.maincatdesc{padding:10px 2px 10px 1px;padding:10px;font-size:16px}.cat_profile_box,.main_cat_profile_box{padding:5px;border:1px solid #000}.seeall{text-align:center;margin-bottom:5px}.cat_more_from_heading span,.cat_more_from_heading span>a{color:#531f1f!important;font-weight:700;font-size:14px}.cat_profile_box p{font-size:12px;color:#000;margin-bottom:0;text-align:left}.cat_profile_box a{font-size:16px;font-weight:700;color:#000;text-decoration:underline}.cat_profile_box a:hover{color:#ccc}.main_cat_profile_box{text-align:left}.main_cat_profile_box p{font-size:12px;color:#000;margin-bottom:0;text-align:left}.pagination{text-align:center}.main_cat_profile_box a{font-size:16px;font-weight:700;color:#000;text-decoration:underline}.main_cat_profile_box a:hover{color:#ccc}.readmore{float:right;margin-top:-10px}.pagination{width:100%;padding:10px!important}.fps-desc{margin-bottom:5px;margin-right:1%}.table_list table{border:2px solid grey;border-collapse:separate}.dl{display:block!important;text-align:left!important}@media(min-width:800px){.cat_profile_box{height:180px}}.searchpage_main .search button,.searchpage_main .search input{float:none}.f-peoples{float:left;width:48%!important}.f-peoples img{width:168px;height:140px}.f-peoples h4{margin-bottom:0;font-weight:700;font-size:16px}.f-peoples h4:hover{color:#fff}.f-peoples p{text-align:center;color:#999;font-size:11px}.f-peoples img:hover{border:5px solid #fafafa!important}td{background:#fff;border:0 solid #ccc;border-color:rgba(0,0,0,.2);color:#000;-webkit-box-shadow:0 2px 10px rgba(0,0,0,.2);box-shadow:0 2px 10px rgba(0,0,0,.2)}.f-peoples-top{background:#fc0!important}.f-peoples-top h4,.f-peoples-top p,.f-peoples-top span{color:#2b2b2b!important}.flag_content{height:auto}@media(max-width:420px){.f-peoples img{width:136px}.fp-full_info .f-peoples{margin-left:2.5%}#my_carousel4 .row embed{width:100%}.left_side_social{right:-2%}}@media(min-width:1000px) and (max-width:1024px){.carousel-control{width:40%!important}.videodisplay{display:block!important}.videohide{display:none!important}}@media(min-width:780px){.city_this{top:12%}.city_this_left_nav{top:32%}.left_side_social{right:-2%}}@media(max-width:800px){#my_carousel4 ul{width:100%;text-align:center}.footer-menu ul{margin-left:20%}.cat_more_from{width:100%}}@media(max-width:768px){.main-xs{padding:0px!important;}.famousasclass{text-align:center;margin-bottom:10px!important;}.ptitle{font-size:28px!important;}.carousel-control{width:40%!important}.mobclear{clear:both!important}.left_side_social{margin-left:-18px}.hide_on_m{display:block!important}.primistop{margin-top:1px!important}.left_side_social,.right-section,.tfp_fb_like_box,.tt_edit{display:none}#content{border-left:0!important}body{background:0}.navbar-default{display:block}.big_logo,.generate_timeline{#display:none}.navbar-default .newpara_desc{width:100%}h1{text-align:center}.tablet_logo{width:98%;}.tablet_logo img{width:90%}.city_this_bot_nav{left:16%;width:65%;top:111%}.city_this{top:14%;left:13%}.city_this_left_nav{top:107%;width:70%;left:18%}}@media(max-width:414px){.mobile_logo{display:block;width:86%}.tablet_logo{display:none}.navbar-default .navbar-toggle{margin-top:-8%!important;}.advanced_search{font-size:20px!important;}.site_logo{width:84%}.main_content_left_ad{float:none;text-align:center}.generate_timeline button{width:100%!important;height:50px!important}.picturesof{margin:0 auto 10px!important;width:100%!important;height:auto!important}}@media(max-width:360px){.advanced_search{font-size:19px!important;} #my_carousel,.fp-timeline .h3span,.fps-desc h1{text-align:center}#my_carousel li{margin-top:1%}.blog-sidebar{width:96%}.search input{width:70%}.container{padding-left:0px;padding-right:0px}.main_content_left_ad{float:none;text-align:center}.newpara{text-align:justify}.fpf-block ul li{margin-left:12px!important}.footer-menu ul{margin-left:0!important}.logo_background{display:none}.blog-nav .tfp_logo img{width:100%;margin-top:0}#content{margin-top:0!important;border-left:0}.sec_heading{text-align:center;line-height:40px}.sec_heading strong{box-shadow:none}.mobile_logo{display:block;width:15%}.city_this a,.city_this_bot_nav a{display:inline-block;width:100%}.site_logo{width:84%}.navbar-default .navbar-toggle{margin-top:-9%!important}.generate_timeline button{float:none}.city_this{width:97%;top:15%;left:2%!important}.city_this_bot_nav{left:0;width:100%;top:111%}.tablet_logo{display:none}.city_this_left_nav{width:96%;left:2%!important}.pictures_of_img{width:126px;height:150px}.footer-menu{font-size:12px;margin:0 auto!important}.back_to_top{top:90%}.page_bits{width:30%!important}.page_bits li{width:100%!important}.search button{background:url(../images/search-icon.jpg) no-repeat #fc0;border:0;background-position:5px 4px!important;float:left;width:32px;height:28px}.main-right{padding:0 5px}}@media(min-width:1026px) and (max-width:1199px){.fps-img{width:42%!important;}.fps-desc{width:55%}}#fbcomments,.fb-comments,.fb-comments iframe[style],.fb-comments span{margin-top:1%;margin-bottom:1%;width:100%!important}#stickyheader{width:73%;height:50px;display:none;position:fixed;z-index:1000;box-shadow:0 0 10px #666;margin-left:27%;border-bottom-left-radius:5px;border-bottom-right-radius:5px;background-color:#fff}#stickyheader img{height:40px;margin:10px 10px 10px 0}#stickyalias{display:none;height:10px}.page_bits{z-index:50;height:64px;margin:1% 0 0;padding:0;text-align:left;list-style:none;overflow:hidden}.sticky_button,.sticky_menu{#position:fixed;z-index:1000}.pod,.podinternal,.quickfacts{position:relative;overflow:hidden}.page_bits li{width:20%;margin-left:1%;font-weight:700;height:40px;font-family:Verdana;line-height:12px;color:#FFF;float:left;list-style:none;border-radius:5px;}.page_bits{float:right!important;#width:72%!important}@media(min-width:992px) and (max-width:1199px){.page_bits{float:right!important;width:72%!important}.profile-valueclick-ad-mobile{display:none!important}#stickyheader{width:70%!important;margin-left:27%!important;height:60px!important}.fpbt,.page_bits li{float:left;border-radius:5px;font-weight:700;height:40px;font-family:Verdana;line-height:12px}.page_bits li{width:19%;margin-left:4px;#font-size:12px;color:#fff;list-style:none}.discusslogo{padding:13px 0 0 16px!important}.fpbt{width:260px;font-size:15px;margin-top:1%;padding:12px;background:#30261d;color:#fdedb0;text-decoration:none;border:1px solid #fc0}.catfilter{width:20%}.hide_on_bs{display:none}.filter-main{margin-bottom:0;padding:0;margin-right:0!important;margin-left:0!important;width:100%!important;background-color:#fff!important;border-bottom:1px solid #e7e7e7!important;border-right:1px solid #e7e7e7;border-left:1px solid #e7e7e7}.button-label{width:15%!important}.arrow-right{border-bottom:30px solid transparent;border-left:30px solid #fc0}.gender_form{width:15.4%!important}.f-peoples{width:238px!important;padding:6px!important;margin:1px!important}.tfp_master_left_ad{width:160px!important;height:600px!important;margin:0 20px!important}.adx-netbook-display{display:block!important}.adx-netbook-block{display:none!important}}@media(min-width:1200px){.fpbt,.page_bits li{border-radius:5px;font-weight:700;font-family:Verdana;line-height:12px}.discusslogo{font-size:26px!important}.profile-valueclick-ad-mobile{display:none!important}.page_bits li{width:20%;margin-left:5px;height:40px;#font-size:12px;color:#fff;float:left;list-style:none}.page_bits{float:right!important;width:77%!important}.fpbt{width:260px;float:left;font-size:15px;margin-top:1%;height:40px;padding:12px;background:#30261d;color:#fdedb0;text-decoration:none;border:1px solid #fc0}.share_fb{background:url(../images/share_icons.png) 35px 8px no-repeat #2d609b!important}.catfilter{width:20%}.hide_on_bs{display:none}.hide_on_m{display:none!important}.filter-main{margin-bottom:0;padding:0;margin-right:0!important;margin-left:0!important;width:100%!important;background-color:#fff!important;border-bottom:1px solid #e7e7e7!important;border-right:1px solid #e7e7e7;border-left:1px solid #e7e7e7}.button-label{width:15%!important}.shareimages{text-align:left!important}.arrow-right{border-bottom:30px solid transparent;border-left:30px solid #fc0}.gender_form{width:15.6%!important}.tfp_master_left_ad{width:300px!important;height:600px!important}.f-peoples{width:24.50%!important;height:auto!important;margin:2px!important}.f-peoples img{width:100%!important;height:auto!important}.home-profile-name:hover{color:#fc0!important}.topsocilalinks{padding:0;margin-right:5px!important;margin-top:3px!important}}@media(min-width:1025px) and (max-width:1280px){.topmenu-cls{margin-top:10px!important}#stickyheader{width:65%!important;margin-left:31%!important}.left_side_social{right:0!important;top:20%!important}.hide_on_m{display:none!important}}@media(min-width:1367px) and (max-width:1440px){.hide_on_m{display:none!important}}@media(min-width:1441px) and (max-width:1600px){.hide_on_m{display:none!important}.carousel-control{width:47%!important}}@media(min-width:1601px) and (max-width:1680px){.hide_on_m{display:none!important}}@media(min-width:1681px) and (max-width:1920px){.hide_on_m{display:none!important}.carousel-control{width:0!important}}@media(max-width:700px){.carousel-control{width:62%!important}.hide_on_table{display:none!important}.hide_on_mobile{display:none!important}.hide_on_m{display:block!important}.fpbt{width:205px;float:left;font-size:12px;margin-top:1%;border-radius:5px;font-weight:700;height:40px;font-family:Verdana;line-height:14px;padding:10px;background:#30261d;color:#fdedb0;text-decoration:none;border:1px solid #FC0}.discusslogo{font-size:18px!important}.tfp_logo_desk img{margin-top:10px!important}}@media(max-width:600px){.hide_on_mobile_text,.left-valueclick-ad,.profile-valueclick-ad,.profile-valueclick-ad-desktop{display:none}.page_bits li{width:26%;margin-left:2%}.share_rn{padding:12px 10px 0 8px;font-size:18px!important}}.sticky_button{margin-top:-8%!important;float:right}.sticky_menu{margin-top:-3%;width:90%;border:2px solid #fc0!important}.sticky_button_div{float:right;margin-top:-14px;margin-right:6%!important}@media only screen and (max-width:700px){.sticky_menu{margin-top:-1%}.profile-valueclick-ad-desktop{display:none}}@media only screen and (max-width:420px){.sticky_button{margin-top:-11%!important}.btn-primary-new{width:94%!important}.profile-valueclick-ad-desktop{display:none!important}.page_bits{width:41%!important}}@media only screen and (max-width:380px){.sticky_button{margin-top:-12%!important}.sticky_menu{margin-left:0!important}.share_rn{padding:12px 10px 0 3px!important}.profile-valueclick-ad-desktop{display:none!important}.page_bits{width:35%!important}.filter-main{width:100%!important;background-color:#1e1e1e!important}}.bottom_pdf_down_link{display:inline-block;border:2px solid #bdb7b7;padding:2px 8px 2px 2px;border-radius:2px}.toppdf{border:0;margin:5px;width:100%}.pdf_download_button_bottom{#text-decoration:underline;text-decoration:none;color:#db060e;font-weight:900}.bottom_pdf_down_link:hover{background-color:#eee;color:#db060e!important;border-color:#db060e}.img-elements{border:none!important;margin-top:4px!important;margin-right:5%!important}.bottom_pdf_down_link a:focus,.bottom_pdf_down_link a:hover{color:#db060e!important;text-decoration:none!important}.fp-timeline p{margin-left:0!important}.mainbooksdiv{padding-left:0!important;padding-right:0!important}.booksbymain{padding-left:0px;padding-right:2px}.booksabountmain{font-size:16px!important}.displaybooksbyp1{color:#630d0d!important;font-size:12px!important;font-weight:700;text-align:justify;margin-bottom:1px}.displaybooksbyp2{color:#666!important;font-size:9px!important;font-weight:700;height:12px;overflow:hidden;margin-bottom:1px}.booksabountmainright{float:right;padding-left:1px;padding-right:0}.booksabountmainleft{float:left;padding-left:2px;padding-right:1px}.scrollerbg{margin:5px;padding:5px;text-align:center}.displaybooksabout,.displaybooksby{background:#fff;margin:3px;padding:5px;height:auto;border-bottom:1px solid #fc0}.pdf_down_image{max-width:35px;margin-right:12px;max-height:35px;border:none!important}.quickfacts{width:100%;background:#022e33;font-size:26px;font-family:initial;text-align:center;color:#fafafa;margin-bottom:10px;font-weight:500}.arrow-img{height:20px;width:100%;border-radius:3px;border-color:#db060e;cursor:pointer}.arrow-icon{height:14px;width:10px}.arrow-img:hover{height:20px;width:100%;cursor:pointer;box-shadow:0 0 10px #492525}.bottom-social_report .report{margin-top:0;}.cat_more_from_also_listed{width:100%;background:#fff;border:2px solid #444;text-align:center}.cat_more_from_heading_also_listed{font-size:18px;color:#fc0;background:#444;font-weight:700}.also-listed-div{margin:5px;text-align:unset}.pod,.podinternal{margin-bottom:20px;margin-top:20px;text-align:left}.rec-country-name{font-size:12px;color:#fff}.also_listed_bottom{text-decoration:none;color:#1a0dab!important;}.pod{border:1px solid #e5e5e5;border-radius:4px;box-sizing:border-box;-moz-box-sizing:border-box;box-shadow:0 0 1px}.podinternal{border:1px solid #e5e5e5;border-radius:4px;box-sizing:border-box;-moz-box-sizing:border-box;background-color:#fcecc6}.pod.colorbar.editorial:before,.pod.colorbar>.contentdata:focus,.pod.colorbar>.contentdata:hover,.podinternal.colorbar.editorial:before,.podinternal.colorbar>.contentdata:focus,.podinternal.colorbar>.contentdata:hover{background:#fc0}.pod.colorbar:before,.podinternal.colorbar:before{border-radius:inherit;border-bottom-right-radius:0;border-bottom-left-radius:0;content:'';display:block;height:10px;position:absolute;width:100%}.tile,.tilehp{position:relative}hr.loose-dotted{border:0;height:14px;overflow:hidden;color:#fc0;font-size:10px;clear:both;margin-bottom:10px;margin-top:0}.pod.colorbar>.contentdata>a{color:#555;text-decoration:none}.podinternal.colorbar>.contentdata>a{color:#711515;text-decoration:none}hr.loose-dotted:after{content:\"......................................................................................................................................................................................................\";letter-spacing:2px}.pod.colorbar>.contentdata{padding:10px;padding:10px;font-size:15px!important;background-color:#fff;margin:5px 0px;box-shadow:0 5px 5px 0 rgba(0,0,0,0.1)}.podinternal.colorbar>.contentdata{padding:10px;background-color:#fcecc6;line-height:15px;margin-bottom:10px}.contentdata ul li{list-style:none}.pod>.contentdata .title,.podinternal>.contentdata .title{float:none;text-align:center}.pod>.title,.podinternal>.title{float:none;margin-top:25px;text-align:center;color:#745f0a}.arrowimg{border:0!important;float:none!important;margin:0!important}h3.title,h3.titlesmall{margin-top:0;clear:both}.sitemap-h2{margin-bottom:10px;text-align:center;color:#666}.sitemap-h4:focus,.sitemap-h4:hover{color:#666!important;text-decoration:underline}.breadcrumbs ul li a:hover,.btn-block,.button-label a,.button-label-m a,.button-label-m:hover,.button-label:hover,.fpbt:hover,.toplink a:hover{text-decoration:none}.sitemap-h4{padding-left:10px;color:#745f0a}.section h3.title,.section h3.titlesmall{padding-bottom:0;margin-bottom:0}.catprofilesbottom{width:25%}.tile{background-color:#666;border-radius:6px;padding:12px;text-align:center;border-bottom:3px solid #e3e4e8;#height:340px}.hgsm-ssts-label-top-left-hp{left:-8px;position:absolute;top:-13px;z-index:2}.theme-bg-ssts-label-hp:hover{background-color:#2b2b2b!important;color:#fafafa!important;border-bottom:5px solid #d4a901;margin-left:8px}.tilehp a.tileLink{color:#34495e}.f-peoples-born{height:auto!important}.tile p{line-height:20px;padding-top:5px}.img-thumbnail{padding:4px!important;line-height:1.72222!important;background-color:#fff!important;border:2px solid #bdc3c7!important;-webkit-transition:all .25s ease-in-out!important;transition:all .25s ease-in-out!important;display:inline-block!important;max-width:100%!important;height:auto!important;width:100%;border-width:1px!important;border-radius:4px!important}.img-thumbnail:hover,.tile:hover{-moz-box-shadow:0 0 10px #fc0;-webkit-box-shadow:0 0 10px #fc0;box-shadow:0 0 10px #fc0}.loading-bar,.loading-bar:hover{box-shadow:inset 0 -5px 5px -5px #227482}.btn-sm{padding:9px 13px;font-size:13px;line-height:1.385;border-radius:4px}.btn-primary{color:#fff;background-color:#fc0}.btn{border:0;font-size:15px;line-height:1.4;-webkit-font-smoothing:subpixel-antialiased;-webkit-transition:border .25s linear,color .25s linear,background-color .25s linear;transition:border .25s linear,color .25s linear,background-color .25s linear}.btn-block{white-space:normal;display:block;width:100%;padding-left:2px;padding-right:2px;font-size:16px!important;color:#531f1f!important;font-weight:700!important}.btn-block-margin{margin-top:82%}.tile a.tileLink{color:#34495e}.btn-block:active,.btn-block:focus,.btn-block:hover{color:#fff!important;background-color:#df9904;border-color:#580909;}.titlesmall{display:none}.navbar{margin-bottom:0}.navbar-default .navbar-brand{color:#c6e466}.navbar-nav>li>a{padding-top:8px;padding-bottom:8px}.navbar-default .navbar-toggle:focus,.navbar-default .navbar-toggle:hover{background-color:transparent}.navbar-default .navbar-collapse,.navbar-default .navbar-form{font-family:\"Guardian Egyptian Web\",\"Guardian Text Egyptian Web\",Georgia,serif!important}.navbar-default .navbar-nav>li>a:focus,.navbar-default .navbar-nav>li>a:hover{color:#531f1f!important;background-color:#fc0}.navbar-default .navbar-nav>.open>a,.navbar-default .navbar-nav>.open>a:focus,.navbar-default .navbar-nav>.open>a:hover{background-color:#2b2b2b!important;color:#fafafa!important}.caret{margin-left:10px!important;border-top:6px solid!important;border-right:6px solid transparent!important;border-left:6px solid transparent!important}.navbar-brand{font-size:24px}.navbar-default .navbar-brand:focus,.navbar-default .navbar-brand:hover{color:#c6e466}.dropdown-menu>li>a{font-weight:700!important;color:#444!important;font-size:13px}.dropdown-menu>li>a:focus,.dropdown-menu>li>a:hover{color:#531f1f!important;background-color:#fc0!important}.navbar-nav>li>.dropdown-menu{border-color:#fc0}.loading-bar{padding:10px 20px;display:block;text-align:center;border-radius:5px;margin:20px 1px 20px 0;font-size:2em;font-family:museo-sans,sans-serif;font-weight:700;cursor:pointer;position:relative;background:#faf5f2;color:#227482!important}.breadcrumbs ul{padding:0!important}.breadcrumbs ul li a h1:hover{color:#d4a901!important}.loading-bar:hover{background:#FC0}@media(max-width:767px){.deskdefineheight{width:360px!important}.primisparent{width:100%!important}.mobclear{clear:both}.fps-desc{width:100%!important}.col-xs-12{width:100%}.titlesmall{display:block}.videodisplay{display:none!important}.mobclear{clear:both}.subdropdown_menu{display:block!important;background-image:none!important}.left-valueclick-ad,.profile-valueclick-ad{display:none}#stickyheader{width:100%!important;margin-left:0!important}.share_fb{background:url(../images/share_icons.png) 3px 8px no-repeat #2d609b}.filter-main{width:94%!important;padding:0!important}.button-label{margin-left:0!important;text-align:left!important}.catprofiles{width:50%!important}.shareimages{text-align:center}.f-peoples{width:49%!important;height:240px!important}.f-peoples img{width:100%!important;height:170px!important}.main-right{padding:0 5px!important}}.case2,.goog-te-gadget-icon{display:none}@media(max-width:533px){.navbar-toggle{margin-right:6px!important}.share_rn{padding:12px 10px 0 8px!important;#font-size:20px!important}.discusslogo{font-size:20px!important}.sticky_button{margin-top:-11px}.page_bits{width:59%!important}.f-peoples img{width:100%!important;height:250px!important}.f-peoples{width:100%!important;height:auto!important;float:none!important;margin:10px auto!important}.center-ad,.tfp_center_ad,.tfp_master_left_ad{#width:100%!important}.top_ad_mobile{width:320px!important;height:100px!important}.embed.youtube-cls{width:100%;height:100%}}@media(max-width:480px){.catprofiles,.filter-main{width:100%!important}.share_rn{padding:12px 10px 0;#font-size:20px!important}.discusslogo{font-size:15px!important}.navbar-default .navbar-toggle{margin-top:2%!important;}.left-valueclick-ad,.profile-valueclick-ad{display:none}.center-top-data{margin-bottom:5px!important;margin-top:0!important}.page_bits{width:39%!important}.youtube-cls{width:100%!important;height:100%!important}.boost_rank{font-size:18px!important}.catprofiles{padding-left:0!important;padding-right:0!important}}@media(max-width:320px){.carousel-control{width:0!important}.navbar-toggle{margin-right:3px!important}.navbar-default .navbar-toggle{margin-top:-12%!important}.left-valueclick-ad,.profile-valueclick-ad{display:none}.filter-main{width:90%!important;padding-left:10px!important;padding-right:10px!important}.page_bits{width:30%!important}.embed.youtube-cls{width:100%;height:100%}.catprofiles{padding-left:0!important;padding-right:0!important}}.home-cat-rows{width:100%!important}.tile p{font-size:12px;color:#fff;margin-bottom:0;text-align:left;height:auto;width:100%;overflow:hidden}.f-peoples{border:1px solid #a9a49a;padding:10px;background:#2b2b2b;width:188px;height:204px;margin:1px}.fp-full_info{clear:both;width:100%!important}.f-peoples h4,.f-peoples span{color:#fdf5e6;margin-top:5px;z-index:0}.sec_heading strong{padding:10px;box-shadow:5px 5px 5px #77623c;}.img-h{height:250px}.toplink a{color:#9e2803;padding:5px}.toplink a:hover{background-color:transparent;padding:5px;color:teal}.goog-te-menu2-item:hover div{color:#fff;background:#fc0!important}.toplink{margin-bottom:10px;margin-top:10px;color:#616161;font-size:15px;font-weight:700;padding:10px 5px;border:3px solid #f6eee2;border-radius:2px;box-shadow:2px 4px 5px #c0b6af}a.goog-te-menu-value>span{color:#fc0;text-decoration:none}div.goog-te-gadget-simple{border-radius:5px;background:#000;padding:8px}.goog-logo-link{}div.born_wrapper{position:relative;border:5px solid #31271c;border-radius:5px}div.born_wrapper:hover{border:5px solid #97640a;box-shadow:5px 5px 5px #666}div.born_description a{color:#fff}div.born_description h5{color:#fff;font-size:16px;font-weight:700}div.born_description{position:absolute;bottom:0;left:0;display:none;background-color:#000;font-family:tahoma;font-size:12px;color:snow;width:100%;opacity:.7}div.born_description_content{padding:10px 10px 0}.category-nat-display{color:#666;font-size:11px}.fpbt:hover{background:#333;color:#fc0;border:1px solid #fc0}.center-top-data{margin:10px 0;padding:0}.fbiframe{border:0;overflow:hidden;height:220px;width:300px}.bs-docs-example1{margin:0 auto;padding:5px 5px 0}.button-label,.button-label-m{margin-bottom:10px;color:#fc0}.bs-docs-example1:before{padding:10px 0 50px 10px}.bs-docs-example:after{content:\"Example\";position:absolute;top:-1px;left:-1px;padding:3px 7px;font-size:12px;font-weight:700;border:1px solid #ddd;color:#9da0a4;-webkit-border-radius:4px 0 4px 0;-moz-border-radius:4px 0;border-radius:4px 0}.button-label-m:after,.button-label:before{content:\"\\25bc\";color:#fc0}.cascading-dropdown-loading{cursor:wait;background:url(../images/ajax-loader.gif) 85% center no-repeat}.button-label1:before,.button-label:before{display:inline;line-height:16px;height:16px;width:14px;padding-right:5px;padding-left:5px;margin-right:5px;text-align:center}.button-label:before{font-size:14px;margin-top:5px}.button-label-m:after{font-size:20px!important;float:right;margin-top:0}#filter_form a:focus,#hidefilter_filters a:focus{color:#fc0!important;text-decoration:none!important}.button-label1:before,.button-label2:after{content:\"\\25b2\";color:#fc0;font-size:14px}.button-label1:before{margin-top:5px}.button-label{border-radius:6px;box-shadow:5px 5px 5px #666;font-size:13px;font-weight:400;border:1px solid #fc0;padding:4px 5px;margin-left:-5px;text-align:center}.button-label-m{padding:6px;font-size:20px!important;font-weight:700;font-family:serif}.button-label:hover{color:#fff}.button-label a,.button-label-m a,.button-label-m:hover{color:#fff!important}.step1,.step2,.step3,.step4,.step5,.step6,.step7,.step8,.step9{border:1px solid #e5d8d3!important;background-color:transparent!important;margin:0 10px 10px 0!important;font-size:13px!important;color:#fff!important;vertical-align:middle!important;-webkit-border-radius:4px!important;-moz-border-radius:4px!important;border-radius:4px!important;box-shadow:5px 5px 5px #666!important;height:28px!important}.theme-bg-ssts-label,.theme-bg-ssts-label-hp{font-family:'Futura Today Bold',arial,sans-serif;font-size:10px;font-weight:700}.filtersubmit{background:#2f2020;color:#fff;border-radius:3px;padding:2px}.filtercolor{-webkit-filter:brightness(.6);filter:brightness(.6);height:250px!important}.filtercolor:hover{-webkit-filter:none;filter:none;box-shadow:0 0 10px #999}.tilemain{background-color:#f5f5f5}.tilemain:hover{box-shadow:0 0 10px #666}.btn-block-filter{background-color:#efede3}.noimage .headline-asset-item-tile.headline-asset-item-sports-tile,.parent-label.sports,.site-nav-span.site-nav-sports-span.site-nav-active-span,.sports-theme-bg,.sports-theme-bg-hover:hover{background-color:#efede3!important}.hgsm-ssts-label-top-left{left:10px;position:absolute;top:10px;z-index:2}.theme-bg-ssts-label{background-color:#6f6f6f;letter-spacing:1px;line-height:9px;padding:10px;text-transform:uppercase;color:#900}.theme-bg-ssts-label-hp{background-color:#2b2b2b!important;color:#fafafa!important;letter-spacing:.7px;padding:10px 4px;text-align:center;width:100%}.theme-bg-ssts-label:hover{color:#fff;background-color:#9e1d0a!important}@-moz-document url-prefix(){select{-moz-appearance:none;text-indent:.01px;text-overflow:\"\"}}#hidefilter{margin:0}.born-img-hp{margin:30px 0 0!important}.filter-main{width:100%!important}.filter-main1{margin-bottom:0;background-color:#fc0!important;margin-right:15px;margin-left:15px;border-bottom:5px solid}#hidefilter_filters{margin:5px;padding:10px 10px 0;width:100%;border-top:5px solid #666}.fancybox-custom .fancybox-skin{box-shadow:0 0 50px #222}.fancybox-opened{#width:auto!important;word-wrap:break-word}.fancybox-title{text-align:center}.mobile-filter-search-img{width:30px!important;height:30px!important}.chosen-select-deselect{width:100%;font-weight:700;padding:5px;margin-bottom:10px;#color:#fff;#background:#2f2020}.filter-label{color:#FFF;font-weight:700;font-size:15px;padding-left:2px;padding-right:2px}.filter-main-div{margin-bottom:30px}.chosen-container{display:inline-block;font-size:14px;position:relative;vertical-align:middle}.filter-search{box-shadow:5px 5px 5px #020202;background:#fc0;color:#3a1313}.mpf{background-color:rgba(0,0,0,.83);top:0;border-top:0}.chosen-container .chosen-drop{background:#fff;border:1px solid #ccc;border-bottom-right-radius:4px;border-bottom-left-radius:4px;-webkit-box-shadow:0 8px 8px rgba(0,0,0,.25);box-shadow:0 8px 8px rgba(0,0,0,.25);margin-top:-1px;position:absolute;top:100%;left:-9000px;z-index:1060}.chosen-container.chosen-with-drop .chosen-drop{left:0;right:0}.fcat{font-weight:700!important;color:#333!important}.chosen-container .chosen-results{color:#444;margin:0 4px 4px 0;max-height:240px;padding:0 0 0 4px;position:relative;overflow-x:hidden;overflow-y:auto;-webkit-overflow-scrolling:touch}.chosen-container .chosen-results li{display:none;line-height:1.42857143;list-style:none;margin:0;padding:5px 6px}.chosen-container .chosen-results li em{background:#feffde;font-style:normal}.chosen-container .chosen-results li.group-result{display:list-item;cursor:default;color:#333;font-weight:700}.chosen-container .chosen-results li.group-option{padding-left:15px}.chosen-container .chosen-results li.active-result{cursor:pointer;display:list-item;font-family:initial}.chosen-container .chosen-results li.highlighted{color:#531f1f!important;background-color:#FC0}.chosen-container .chosen-results li.highlighted em{background:0}.chosen-container .chosen-results li.disabled-result{display:list-item;color:#777}.chosen-container .chosen-results .no-results{background:#eee;display:list-item}.chosen-container .chosen-results-scroll{background:#fff;margin:0 4px;position:absolute;text-align:center;width:321px;z-index:1}.chosen-container .chosen-results-scroll span{display:inline-block;height:1.42857143;text-indent:-5000px;width:9px}.chosen-container .chosen-results-scroll-down{bottom:0}.chosen-container .chosen-results-scroll-down span{background:url(../images/chosen-sprite.png) -4px -3px no-repeat}.chosen-container .chosen-results-scroll-up span{background:url(../images/chosen-sprite.png) -22px -3px no-repeat}.chosen-container-single .chosen-single{-webkit-background-clip:padding-box;-moz-background-clip:padding;background-clip:padding-box;-webkit-box-shadow:inset 0 1px 1px rgba(0,0,0,.075);box-shadow:inset 0 1px 1px rgba(0,0,0,.075);display:block;overflow:hidden;padding:0 0 0 8px;position:relative;text-decoration:none;white-space:nowrap}.chosen-container-single .chosen-single span{display:block;margin-right:26px;overflow:hidden;text-overflow:ellipsis;white-space:nowrap;padding-left:10px;font-weight:700;}.chosen-container-single .chosen-single abbr{background:url(../images/chosen-sprite.png) right top no-repeat;display:block;font-size:1px;height:10px;position:absolute;right:26px;top:10px;width:12px}.chosen-container-single .chosen-single abbr:hover{background-position:right -11px}.chosen-container-single .chosen-single.chosen-disabled .chosen-single abbr:hover{background-position:right 2px}.chosen-container-single .chosen-single div{display:block;height:100%;position:absolute;top:0;right:0;width:18px}.chosen-container-single .chosen-single div b{background:url(../images/chosen-sprite.png) 0 5px no-repeat;display:block;height:100%;width:100%}.chosen-container-single .chosen-default{color:#777}.chosen-container-single .chosen-search{margin:0;padding:3px 4px;position:relative;white-space:nowrap;z-index:1000}.chosen-container-single .chosen-search input[type=text]{background:url(../images/chosen-sprite.png) 100% -20px no-repeat,#fff;border:1px solid #fc0;-webkit-box-shadow:inset 0 1px 1px rgba(0,0,0,.075);box-shadow:inset 0 1px 1px rgba(0,0,0,.075);margin:1px 0;padding:4px 20px 4px 4px;width:100%;border-radius:4px}.chosen-container-single .chosen-drop{margin-top:-1px;border-bottom-right-radius:4px;border-bottom-left-radius:4px;-webkit-background-clip:padding-box;-moz-background-clip:padding;background-clip:padding-box}.chosen-container-single-nosearch .chosen-search input{position:absolute;left:-9000px}.chosen-container-multi .chosen-choices{background-color:#fff;border:1px solid #ccc;-webkit-box-shadow:inset 0 1px 1px rgba(0,0,0,.075);box-shadow:inset 0 1px 1px rgba(0,0,0,.075);cursor:text;height:auto!important;height:1%;margin:0;overflow:hidden;padding:0;position:relative;border-radius:4px}.chosen-container-multi .chosen-choices li{float:left;list-style:none}.chosen-container-multi .chosen-choices .search-field{margin:0;padding:0;white-space:nowrap}.chosen-container-multi .chosen-choices .search-field input[type=text]{background:0 0!important;border:0!important;-webkit-box-shadow:none;box-shadow:none;color:#555;height:32px;margin:0;padding:4px;outline:0}.chosen-container-multi .chosen-choices .search-field .default{color:#999}.chosen-container-multi .chosen-choices .search-choice{-webkit-background-clip:padding-box;-moz-background-clip:padding;background-clip:padding-box;background-color:#eee;border:1px solid #ccc;background-image:-webkit-linear-gradient(top,#fff 0,#eee 100%);background-image:-o-linear-gradient(top,#fff 0,#eee 100%);background-image:linear-gradient(to bottom,#fff 0,#eee 100%);background-repeat:repeat-x;filter:progid:DXImageTransform.Microsoft.gradient(startColorstr='#ffffffff',endColorstr='#ffeeeeee',GradientType=0);-webkit-box-shadow:inset 0 1px 1px rgba(0,0,0,.075);box-shadow:inset 0 1px 1px rgba(0,0,0,.075);color:#333;cursor:default;line-height:13px;margin:6px 0 3px 5px;padding:3px 20px 3px 5px;position:relative;border-radius:4px}.chosen-container-active .chosen-single,.chosen-container-active.chosen-with-drop .chosen-single .chosen-select-deselect{border:1px solid #66afe9;-webkit-box-shadow:0 1px 1px rgba(0,0,0,.075) inset,0 0 8px rgba(82,168,236,.6);-webkit-transition:border linear .2s,box-shadow linear .2s;-o-transition:border linear .2s,box-shadow linear .2s;box-shadow:0 1px 1px rgba(0,0,0,.075) inset,0 0 8px rgba(82,168,236,.6);transition:border linear .2s,box-shadow linear .2s}.chosen-container-multi .chosen-choices .search-choice .search-choice-close{background:url(../images/chosen-sprite.png) right top no-repeat;display:block;font-size:1px;height:10px;position:absolute;right:4px;top:5px;width:12px;cursor:pointer}.chosen-container-multi .chosen-choices .search-choice .search-choice-close:hover{background-position:right -11px}.chosen-container-multi .chosen-choices .search-choice-focus{background:#d4d4d4}.chosen-container-multi .chosen-choices .search-choice-focus .search-choice-close{background-position:right -11px}.chosen-container-multi .chosen-results{margin:0;padding:0}.chosen-container-multi .chosen-drop .result-selected{display:none}.chosen-container-active.chosen-with-drop .chosen-single{background-color:#fff;border-bottom-right-radius:0;border-bottom-left-radius:0}.chosen-container-active.chosen-with-drop .chosen-single div{background:0;border-left:none}.chosen-container-active.chosen-with-drop .chosen-single div b{background-position:-18px 7px}.chosen-container-active .chosen-choices{border:1px solid #66afe9;border-bottom-right-radius:0;border-bottom-left-radius:0;-webkit-box-shadow:0 1px 1px rgba(0,0,0,.075) inset,0 0 8px rgba(82,168,236,.6);box-shadow:0 1px 1px rgba(0,0,0,.075) inset,0 0 8px rgba(82,168,236,.6);-webkit-transition:border linear .2s,box-shadow linear .2s;-o-transition:border linear .2s,box-shadow linear .2s;transition:border linear .2s,box-shadow linear .2s}.chosen-container-active .chosen-choices .search-field input[type=text]{color:#111!important}.chosen-container-active.chosen-with-drop .chosen-choices{border-bottom-right-radius:0;border-bottom-left-radius:0}.chosen-disabled{cursor:default;opacity:.5!important}.chosen-disabled .chosen-choices .search-choice .search-choice-close,.chosen-disabled .chosen-single{cursor:default}.chosen-rtl{text-align:right}.chosen-rtl .chosen-single{padding:0 8px 0 0;overflow:visible}.chosen-rtl .chosen-single span{margin-left:26px;margin-right:0;direction:rtl}.chosen-rtl .chosen-single div{left:7px;right:auto}.chosen-rtl .chosen-single abbr{left:26px;right:auto}.chosen-rtl .chosen-choices .search-field input[type=text]{direction:rtl}.chosen-rtl .chosen-choices li{float:right}.chosen-rtl .chosen-choices .search-choice{margin:6px 5px 3px 0;padding:3px 5px 3px 19px}.chosen-rtl .chosen-choices .search-choice .search-choice-close{background-position:right top;left:4px;right:auto}.chosen-rtl.chosen-container-single .chosen-results{margin:0 0 4px 4px;padding:0 4px 0 0}.chosen-rtl .chosen-results .group-option{padding-left:0px;padding-right:15px}.chosen-rtl.chosen-container-active.chosen-with-drop .chosen-single div{border-right:0}.chosen-rtl .chosen-search input[type=text]{background:url(../images/chosen-sprite.png) -28px -20px no-repeat,#fff;direction:rtl;padding:4px 5px 4px 20px}.chosen-container{width:100%!important}.filter-internal{padding-left:0!important;padding-right:0!important}.chosen-container-single .chosen-single{border:1px solid #e5e5e5!important;background-color:#fff!important;line-height:25px!important;margin:0 10px 10px 0!important;font-size:13px!important;color:#2b2b2b!important;vertical-align:middle!important;-webkit-border-radius:4px!important;-moz-border-radius:4px!important;border-radius:4px!important;height:28px!important}.cse-branding-right,.cse-branding-bottom{margin:0;padding:0}.cse-branding-bottom,.cse-branding-right{zoom:1}.cse-branding-bottom:after,.cse-branding-right:after{content:\".\";display:block;height:0;clear:both;visibility:hidden}.cse-branding-text{font:10px Arial}.cse-branding-form form{margin-bottom:0;padding-bottom:0}.cse-branding-bottom .cse-branding-logo,.cse-branding-bottom .cse-branding-text{display:block;float:left}.cse-branding-bottom .cse-branding-form{margin-bottom:3px}.cse-branding-bottom .cse-branding-logo{padding:0}.cse-branding-bottom .cse-branding-text{padding-top:4px}.cse-branding-right .cse-branding-form{float:left;margin-right:4px}.cse-branding-right .cse-branding-logo,.cse-branding-right .cse-branding-text{margin-left:4px}.cse-branding-right .cse-branding-logo{padding:0}.cse-branding-right .cse-branding-text{margin-top:-4px}.content_box_new .rr{margin-top:0;padding:1em 0 0;font-size:18px;line-height:190%!important;color:#000}.content_box_new strong{color:#222!important}.content_box_new a strong,.rr a{color:#0a628f!important}.rr strong{font-size:16px!important}.rr a strong:hover{text-decoration:underline}.bordered-feature-image{display:block;padding:10px;box-shadow:3px 3px 3px 1px rgba(0,0,0,.15);margin:0 0 1.5em;outline:0;width:700px;height:360px;}.bordered-feature-image:hover{opacity:.75}.textbg{color:#fafafa;border-bottom:5px solid #f5af33;background:rgba(116,111,111,0)!important}.textbg>a{color:#fafafa;font-size:36px;font-family:initial}.thisday-image{position:relative;width:100%;}.td-img-text h2{position:absolute;left:0;width:100%;#left:2%;top:-150px}.td-img-text h2 span{color:#fff;font:700 26px/45px Helvetica,Sans-Serif;letter-spacing:0;background:#000;background:rgba(0,0,0,.7);padding:6px}#footer a,.navbar-default .navbar-nav>li>a{text-transform:uppercase;letter-spacing:.75px;word-spacing:2px}.td-img-text>h2>a:hover,a:focus{text-decoration:underline!important}a:focus,a:hover{text-decoration:none!important}.button-label-m3:after{content:\"\\25bc\";color:#6b564b;font-size:17px!important;float:right;margin-top:0}.button-labe4:after{content:\"\\25b2\";color:#6b564b;font-size:14px}.left_cat_list{margin:10px 0}#famouspeopleby,#famouspeopleby-profession,#instafamous-people-cat{opacity:1;padding:10px;font-size:17px;margin-bottom:0!important;text-shadow:none}.instafamous-cat,.left_cat_list{margin-top:50px!important}.sec_heading{margin-bottom:15px!important;margin-top:15px!important}.insta_newpara_desc{width:100%;text-align:initial}.insta-links{margin-top:10px;margin-bottom:10px;text-align:center;padding:0}.insta-social-links:hover{cursor:pointer}#text-img-toggle:hover,#text-toggle:hover{cursor:pointer;border-bottom:1px solid #fc0}.insta-img{float:none!important;margin:0 auto!important;border:5px solid #2b2b2b}.insta-links1{padding:0}.insta-img-credit{margin-top:-10px!important}.insta-social-links-main{padding:0;text-align:center;margin-bottom:5px}.left_nav_sicons{display:inline-block;border:5px solid #fc0;padding-left:0}.quotes-img{float:none!important;background:#fff;border:1px solid #ccc;border-color:rgba(0,0,0,.2);color:#000;-webkit-box-shadow:0 2px 10px rgba(0,0,0,.2);box-shadow:0 2px 10px rgba(0,0,0,.2)}.quotes-text a,.quotes-text span{color:#1a0dab!important}.quotes-text{text-align:center;font-size:14px;padding:8px;border-radius:5px;border-left:5px solid #fc0;border-right:5px solid #fc0;background:#fff;-webkit-box-shadow:0 5px 7px -5px #999;-moz-box-shadow:0 5px 7px -5px #999;box-shadow:0 5px 7px -5px #999;margin-left:30px;margin-right:30px;font-weight:700}.quotes-text:hover{border-top:1px solid #ccc;border-bottom:1px solid #ccc}.quotes-text a:hover{color:#333!important;border-bottom:2px solid #fc0}.quotes-text-top a:hover{color:#fafafa!important;border-bottom:2px solid #fc0}.rp{#height:139px!important}.center-cls{float:initial!important}#footer{background:#0b0b0b;font-size:14px;font-weight:300;padding:5px!important}#footer a{font-weight:400;color:#fafafa!important;font-size:12px;text-align:center}#footer a:hover{color:#fc0}.home-profile-name{margin-top:10px!important;margin-bottom:5px!important}.profiles_also_listed{opacity:1;padding:10px;font-size:17px;text-shadow:none;font-family:open-sans,sans-serif!important}.famous-prof-main a{color:#6b564b}.right-section{margin-top:10px;background:#fc0;padding:10px;font-family:initial;width:300px;margin:0 auto}.yellow-ad-text1{color:#2b2b2b;font-weight:500;font-size:34px;line-height:40px}.howtocite,.navbar-nav>li>a{line-height:20px}.yellow-ad-text2{color:#666;font-weight:600;font-size:12px}.yellow-ad-text3{color:#333;font-weight:600;font-size:18px}.howtocite{border:1px solid #ccc;padding:10px;color:#2b2b2b;font-size:13px;#font-family:initail;font-family:open-sans,sans-serif!important}.howtocite h4{color:#fc0}#successimg1{background-image:url(../images/button_report-missing-embed.png);background-repeat:no-repeat;margin:-5px;border:1px solid red;padding:17px}.pdf_download_button_bottom1{text-decoration:none;color:#db060e;font-weight:900}.navbar-default .navbar-toggle{border-color:#fff!important;border-radius:0;background:#fff!important}.navbar-default{background-color:#1e1e1e!important;border:none!important;}.sr-only{position:absolute;width:1px;height:1px;padding:0;margin:-1px;overflow:hidden;clip:rect(0,0,0,0);border:0}.navbar-default .navbar-toggle .icon-bar{background-color:#d2924c}.navbar-default .navbar-nav>.active>a,.navbar-default .navbar-nav>.active>a:focus,.navbar-default .navbar-nav>.active>a:hover{background-color:transparent;color:#fc0;font-weight:700}.navbar-default .navbar-nav>li>a{color:#fafafa;font-size:12px;padding-right:0;margin-left:15px;transition:all 0s}.navbar-default .navbar-nav>.active>a:after{background-color:#f5af33}.navbar-collapse{padding-left:0!important}.navbar-default .navbar-nav>li>a:after{background-color:#eee;display:block;position:absolute;left:9px;bottom:0;width:0;height:2px;content:\"\";-webkit-transition:all .75s;-moz-transition:all .75s;-ms-transition:all .75s;-o-transition:all .75s;transition:all 0s}:after,:before{-webkit-box-sizing:border-box;-moz-box-sizing:border-box;box-sizing:border-box}@media(min-width:414px) and (max-width:736px){.hide_on_mobile_only{display:none!important}.tablogo{display:block!important}#filter_form{#top:5px!important;}.navbar-default .navbar-toggle{top:0!important;}.search{margin:10px!important}.filter-main{width:100%!important;background-color:transparent!important}}.insta_newpara_desc,.main_introduction_right,.newpara_desc,.newpara_desc p, .newpara_desc p strong{margin-top:15px!important;margin-bottom:15px!important;line-height: 1.74em;text-transform: none;font-size: 17px;font-family: 'Helvetica Neue', Helvetica, Arial, sans-serif;margin: 0 0 10px;color:#222;}@media(min-width:768px) and (max-width:1023px){.pname{text-align:center;}.bio{display:none!important;}.videodisplay{display:block!important}.videohide{display:none!important}.blog-sidebar{display:none!important}.main-right{width:100%!important}}.awards-table{margin-top:10px;margin-bottom:5px}.awards-table td{padding:4px!important;font-size:14px;color:#333;vertical-align:middle!important}.awards-table .h3{font-size:20px}@media(max-width:480px){.carousel-control{width:10%!important}.awards-table td{font-size:17px}.hashtags>a{font-size:18px!important;color:#1a0dab!important}}.sec_heading b{padding:5px;font-weight:800;font-size:14px;box-shadow:none}.awardsButton{background:#8b0000;color:#fff;height:35px;font-size:13px;font-weight:700;float:right;margin-bottom:5px}.award_show_hide{display:none;clear:both}.award_year{vertical-align:middle;width:2%}.award_desc,.award_movie{width:49%;line-height:24px!important}.btn-boost-wrap{border-radius:6px;display:inline-block;margin-top:6px;position:relative;width:100%;background-color:#fff}.btn-boost-wrap .tfp_rank{font-family:Robotoregular;display:inline-block;border:2px solid #fc0;top:0;left:0;text-align:center;padding:8px 0;line-height:1em;z-index:100;border-radius:10px 0 0 10px}.btn-boost-wrap .tfp_rank_no{font-size:16px;color:#3b5998;font-weight:900;padding:3.5px}.btn-boost-wrap .tfp_rank_title{font-size:16px!important;color:rgba(255,255,255,.8);line-height:1em;text-transform:lowercase;padding-top:1px;min-width:40px}.btn-boost{color:#fc0;background-color:#2f2020}.btn{padding:4px 15px;font-weight:700}.boost_rank{color:#db060e!important}.boost_not_allowed{cursor:not-allowed;background-color:#fc0!important;color:#000!important}.up_arrow{height:10px!important;width:10px!important;margin-right:5px}.break{clear:both;padding:5px}.boost_top_bottom{border-top:1px solid #fc0;border-bottom:1px solid #fc0;padding-top:2px;padding-bottom:2px}.boost_top_bottom2{border-top:1px solid #fff;border-bottom:1px solid #fff;padding-top:2px;padding-bottom:2px}.hashtags{border-radius:4px;border:1px solid rgba(0,0,0,.12);line-height:16px;padding:6px 7px;display:inline-block;font-size:13px;color:#1a0dab;text-align:left;margin-bottom:5px}.crbads{font-size:13px!important;margin:10px!important}#showmore1{background-position:300px 5px!important}.btn-primary-new a{color:#fff!important;padding:2% 8% 14% 8%;white-space: pre-wrap;}.btn-primary-cat-new a{color:#fff!important;padding:2% 8% 14% 8%}.primis_cls{#height:280px!important}.primis_cls iframe{z-index:50000!important;width:100%}.primisparent{width:60%;float:none!important;margin-top:10px;margin-bottom:10px}@media screen and (max-width:360px) and (max-height:640px){.main_introduction_right,.main_introduction_right p,newpara_desc p,.insta_newpara_desc,.newpara_desc,insta_newpara_desc p,.insta_newpara_desc p strong{font-size:18px!important;}.carousel-control{width:0%!important}}@media screen and (max-width:320px) and (max-height:568px){.carousel-control{width:0%!important}}@media screen and (max-width:320px) and (max-height:480px){.carousel-control{width:0!important}}@media screen and (max-width:320px) and (max-height:533px){.carousel-control{width:0!important}}.internal_space{padding:0px;}.col-center-block{float:none;display:block;margin:0 auto}.search button{background:url(../images/search-icon.jpg) no-repeat #fc0;border:0;background-position:5px 3px!important;float:left;width:32px;height:28px}.logo_name{color: #fff;font-size: 30px;font-family:serif;margin:0px auto;}.top_ad{margin:0px auto!important;}.logo_name>a:hover{color:#fff!important;}.logo_sub{color:#fc0;font-size:30px;font-weight:900;}.yml{margin:0;font-size:16px;margin-top:10px;font-weight:700}.llink{width:100%;height:60px;background-color:#fff;text-decoration:none;font-weight:700;color:#2b2b2b!important;font-size:16px;}.advanced_search{margin:0;padding:0px;font-weight:700;color:#fafafa;font-size:22px;#border-bottom:2px solid #fc0;}\n",
       "/*Partition*/\n",
       "@media (min-width:320px)  { /* smartphones, iPhone, portrait 480x320 phones */ .mobile_ad{display:block!important;}.tablet_ad{display:none!important;}.desktop_ad{display:none!important;} .display_desk{display:none!important;} .display_mob{display:block!important;}}\n",
       "@media (min-width:481px)  { /* portrait e-readers (Nook/Kindle), smaller tablets @ 600 or @ 640 wide. */ .mobile_ad{display:block!important;}.tablet_ad{display:none!important;}.desktop_ad{display:none!important;}}\n",
       "@media (min-width:641px)  { /* portrait tablets, portrait iPad, landscape e-readers, landscape 800x480 or 854x480 phones */ .mobile_ad{display:block!important;}.tablet_ad{display:none!important;}.desktop_ad{display:none!important;}}\n",
       "@media (min-width:768px)  { /* tablet, landscape iPad, lo-res laptops ands desktops */ .tablet_ad{display:block!important;}.desktop_ad{display:none!important;}.mobile_ad{display:none!important;}}\n",
       "@media (min-width:961px)  { /* tablet, landscape iPad, lo-res laptops ands desktops */ .tablet_ad{display:block!important;}.desktop_ad{display:none!important;}.mobile_ad{display:none!important;}.display_desk{display:block!important;} .display_mob{display:none!important;}}\n",
       "@media (min-width:1025px) { /* big landscape tablets, laptops, and desktops */ .desktop_ad{display:block!important;}.tablet_ad{display:none!important;}.mobile_ad{display:none!important;}}\n",
       "@media (min-width:1281px) { /* hi-res laptops and desktops */ .desktop_ad{display:block!important;}.tablet_ad{display:none!important;}.mobile_ad{display:none!important;}}\n",
       "</style>\n",
       "<script async=\"\" crossorigin=\"anonymous\" src=\"https://pagead2.googlesyndication.com/pagead/js/adsbygoogle.js?client=ca-pub-0023073267844535\"></script>\n",
       "<style>\n",
       "header{position:-webkit-sticky;position:-moz-sticky;position:-o-sticky;position:-ms-sticky;position:sticky;top:0;background:#fff;z-index:100000}.modal-title-m-div{float:left}#ui-datepicker-div {left: 32%!important;}.modal{background:#fff;z-index:10000;color:#1E1E1E;font-weight:700;padding:6px 0;align-items:center}.modal-dialog{border:1px solid #ccc;padding:0;display:flex;align-items:center;justify-content:center}.modal-content{display:contents;width:100%}.modal-title{color:#31271c;font-size:20px;text-align:center;margin-right:20px;font-weight:700;color:var(--c-black);letter-spacing:.3px}.m-main-body{background:#2b2b2b;width:40%;border-radius:4px;padding-left:4px;padding-right:4px}.psubmit{height:34px;width:100%;background:#424040;color:#fc0;font-size:14px;border-radius:2px;letter-spacing:.5px}.p-input{width:92%;height:34px;border-radius:4px;display:block;width:100%;padding:.375rem .75rem;line-height:1.5;color:#fc0;background-color:#424040;background-clip:padding-box;border:1px solid #424040;border-radius:.25rem;transition:border-color .15s ease-in-out,box-shadow .15s ease-in-out;font-size:14px;font-weight:700}.m-main-body div{padding:8px 4px}.m-main-body .fa{padding:0;font-size:20px;color:#fff}::placeholder{color:#fc0;opacity:1}.b-input{width:70%}.b-submit{width:30%}.m-t-desk{display:block}.m-t-mobi{display:none}.m-t-c{font-size:24px}.psubmit-m{display:none}.psubmit-d{display:block}\n",
       "@media(max-width:767px){.hero-image{height:120px!important;}.psubmit-m{display:block}.psubmit-d{display:none}.m-t-mobi{display:block}.m-t-desk{display:none}.modal-title-m-div{width:45%!important;float:left}.m-main-body{width:55%!important}.sticky{width:100%}.m-main-body{display:flex;align-items:center;justify-content:center;margin-right:2%}.m-main-body .col-xs-8{width:66.66666667%}.m-main-body .col-xs-4{width:33.33333333%}.p-input{height:34px;font-size:14px}.modal-title{font-size:16px;text-align:center;margin-right:2px}.m-t-c{font-size:20px}.psubmit{width:100%;font-size:14px;height:34px;padding:0}.modal-dialog,.modal{padding-top:4px;padding-bottom:4px;}.modal .row{margin:0;padding-top:5px;padding-bottom:0}}\n",
       "@media(max-width:420px){.xx{width:46%!important;}.modal-title-m-div{padding:0;letter-spacing:0}.m-main-body{width:80%}.modal-title{font-size:14px}.m-t-c{font-size:18px}}#ui-datepicker-div{background:#2b2b2b!important;color:#fff!important;z-index:100079!important}.ui-datepicker .ui-datepicker-title{background:#424040;color:#fff}#sticky-ui-div{z-index:10000000}.ui-datepicker-calendar thead{display:none !important;}\n",
       ".blur-bg{width:100%;position:relative}.sticky-combi-main{position:-webkit-sticky;position:sticky;top:0}.hero-image{filter:brightness(.5);max-width:100%;height:250px;width:100%;background-position:0 -50px;background-repeat:no-repeat;background-size:cover}.hero-text{opacity:1;text-align:center;position:absolute;top:70%;left:50%;transform:translate(-50%,-50%);color:#000;font-weight:700;width:100%;z-index:2}.rec_text{font-weight:700;border-radius:4px;line-height:16px;margin-left:6px;padding:6px 7px;display:inline-block}.main-sub{border:1px solid #e7e6ce;border-radius:4px;padding:0;text-align:center;border-bottom:4px solid #807f67;margin-bottom:10px}.hrlines{margin-top:10px;border:0;height:1px;background-image:linear-gradient(to right,transparent,#f3be08,transparent)}.section2{margin-bottom:15px}.h1s{width:100%;font-size:42px;font-weight:900;color:#fff}@media screen and (max-width:992px){.h1s{width:100%;font-size:28px!important;font-weight:900;color:#fff}.hero-image{background-position:center!important}}.wrapper.style1 .button.alt:hover{background-color:#fff}.wrapper.style1{background-color:#eee;color:#777}.wrapper{padding:0 0 4em 0;position:relative}.desc-q{color:#2b2b2b;margin-bottom:10px;margin-top:.5em;line-height:1.4;font-size:16px}.eventstart{color:#2b2b2b;padding:20px 0 0 0;height:auto;-webkit-box-shadow:0 2px 3px rgba(0,0,0,.1);-moz-box-shadow:0 2px 3px rgba(0,0,0,.1);box-shadow:0 2px 3px rgba(0,0,0,.1);box-shadow:0 6px 15px 0 rgba(0,0,0,.1)}.two-feature{background-color:#fff;height:450px}.ptitle{font-weight:700!important;font-size:34px;margin-bottom:1.5rem;line-height:1.5em;margin-left:5px}.glyphicon{font-weight:400!important}.ptitle a{color:#2f2020;text-decoration:none;width:fit-content}ul.actions{cursor:default;list-style:none;padding-left:0}ul.actions>li:last-child{padding-right:0}ul.actions>li{display:inline-block;padding:0 1em 0 0;vertical-align:middle}.button.alt{background-color:transparent;box-shadow:inset 0 0 0 2px #999}.descEvent{font-size:18px!important}.fa-thumbs-o-up{color:#424039;font-size:32px!important}.fa-thumbs-o-down{color:#424039;font-size:32px!important}.fa-thumbs-down:hover,.fa-thumbs-o-down:hover{background:#a00;color:#fafafa;border-radius:10px}.fa-thumbs-down,.fa-thumbs-o-down{background:#a00;color:#fafafa;border-radius:10px}.dislikes,.likes{font-weight:700;font-size:16px;margin:0 25px 5px 15px!important}.fa-thumbs-o-up:hover,.fa-thumbs-up:hover{background:#1e90ff;color:#fafafa;border-radius:10px}.rt-text-display{margin-top:-10px}.fa-thumbs-o-up,.fa-thumbs-up{background:#1e90ff;color:#fafafa;border-radius:10px}.fa{font-size:32px;padding:6px 12px;cursor:pointer;margin:5px;text-align:center;margin-left:0}.fa-thumbs-up:before{content:url(/images/arrow-circle-up.svg)}.fa-thumbs-down:before{content:url(/images/arrow-circle-down.svg)}.fa-thumbs-o-up:before{content:url(/images/arrow-circle-o-up.svg)}.fa-thumbs-o-down:before{content:url(/images/arrow-circle-o-down.svg)}.desc{color:#2b2b2b;margin-bottom:10px;margin-top:.5em;line-height:1.4;font-size:18px}.number{padding:5px;margin-right:.937rem;line-height:4rem;font-weight:700;background-color:#2f2020;color:#fff;border-left:5px solid #daa520}.ptitle a:focus,.ptitle a:hover{color:#daa520!important;text-decoration:underline}.combi_pagedesc{width:100%;padding:10px;margin-bottom:15px;line-height:1.6em;text-transform:none;font-size:15px;}.btn-group-lg>.btn,.btn-lg{padding:10px 16px;font-size:18px;line-height:1.3333333;border-radius:6px}.btn-info{color:#fff;background-color:#5bc0de;border-color:#46b8da}.rt-text-display{margin-top:-10px}.combi_links{font-weight:700;border-radius:4px;border:1px solid #e5e5e5;line-height:16px;margin-left:6px;margin:10px;padding:6px 7px;display:inline-block}.combi_links a{color:#1a0dab!important;font-size:16px}.search_text{height:32px;border:1px solid #ccc;width:80%}.search_bt{width:19%;background:#2f2020;height:32px;color:#fafafa;padding:0 10px}.combi-profile-img{text-align:center!important;text-align:-moz-center!important;text-align:-webkit-center!important;margin:0 auto;display:block;}.combi-profile-img-without-like-dislike{width:300px;height:250px;text-align:center;margin:0 auto;margin-bottom:20px}#st-1 .st-total{color:#fff!important}.display_combi_sticky_ad{display:none}@media (min-width:1023px){.display_combi_sticky_ad{display:block!important}}@media (max-width:1023px){.display_combi_sticky_ad{display:none!important}}.ptitle-internal a{border-bottom:3px solid #daa520;line-height:4rem;width:fit-content}\n",
       "</style>\n",
       "<script>\n",
       "  (adsbygoogle = window.adsbygoogle || []).push({\n",
       "  google_ad_client: \"ca-pub-0023073267844535\",\n",
       "  enable_page_level_ads: false\n",
       "  });\n",
       "</script>\n",
       "<script data-cfasync=\"false\" type=\"text/javascript\">\n",
       "  document.addEventListener(\"scroll\", function loadApScript() {\n",
       "    (function (w, d) {\n",
       "      var s = d.createElement('script');\n",
       "      s.src = '//cdn.adpushup.com/41167/adpushup.js';\n",
       "      s.crossOrigin = 'anonymous';\n",
       "      s.type = 'text/javascript'; s.async = true;\n",
       "      (d.getElementsByTagName('head')[0] || d.getElementsByTagName('body')[0]).appendChild(s);\n",
       "      w.adpushup = w.adpushup || { que: [] };\n",
       "    })(window, document);\n",
       "    document.removeEventListener(\"scroll\", loadApScript);\n",
       "  })\n",
       "</script>\n",
       "<script async=\"\" src=\"https://www.googletagmanager.com/gtag/js?id=G-91T20S5ZRX\"></script>\n",
       "<script>\n",
       "  window.dataLayer = window.dataLayer || [];\n",
       "  function gtag(){dataLayer.push(arguments);}\n",
       "  gtag('js', new Date());\n",
       "  gtag('config', 'G-91T20S5ZRX');\n",
       "</script>\n",
       "<script async=\"\" nonce=\"x9DQxuSfqR8gSCNzf6ghFw\" src=\"https://fundingchoicesmessages.google.com/i/pub-0023073267844535?ers=1\"></script><script nonce=\"x9DQxuSfqR8gSCNzf6ghFw\">(function() {function signalGooglefcPresent() {if (!window.frames['googlefcPresent']) {if (document.body) {const iframe = document.createElement('iframe'); iframe.style = 'width: 0; height: 0; border: none; z-index: -1000; left: -1000px; top: -1000px;'; iframe.style.display = 'none'; iframe.name = 'googlefcPresent'; document.body.appendChild(iframe);} else {setTimeout(signalGooglefcPresent, 0);}}}signalGooglefcPresent();})();</script>\n",
       "<script>(function(){/*\n",
       "\n",
       " Copyright The Closure Library Authors.\n",
       " SPDX-License-Identifier: Apache-2.0\n",
       "*/\n",
       "'use strict';var aa=function(a){var b=0;return function(){return b<a.length?{done:!1,value:a[b++]}:{done:!0}}},ba=\"function\"==typeof Object.create?Object.create:function(a){var b=function(){};b.prototype=a;return new b},k;if(\"function\"==typeof Object.setPrototypeOf)k=Object.setPrototypeOf;else{var m;a:{var ca={a:!0},n={};try{n.__proto__=ca;m=n.a;break a}catch(a){}m=!1}k=m?function(a,b){a.__proto__=b;if(a.__proto__!==b)throw new TypeError(a+\" is not extensible\");return a}:null}\n",
       "var p=k,q=function(a,b){a.prototype=ba(b.prototype);a.prototype.constructor=a;if(p)p(a,b);else for(var c in b)if(\"prototype\"!=c)if(Object.defineProperties){var d=Object.getOwnPropertyDescriptor(b,c);d&&Object.defineProperty(a,c,d)}else a[c]=b[c];a.v=b.prototype},r=this||self,da=function(){},t=function(a){return a};var u;var w=function(a,b){this.g=b===v?a:\"\"};w.prototype.toString=function(){return this.g+\"\"};var v={},x=function(a){if(void 0===u){var b=null;var c=r.trustedTypes;if(c&&c.createPolicy){try{b=c.createPolicy(\"goog#html\",{createHTML:t,createScript:t,createScriptURL:t})}catch(d){r.console&&r.console.error(d.message)}u=b}else u=b}a=(b=u)?b.createScriptURL(a):a;return new w(a,v)};var A=function(){return Math.floor(2147483648*Math.random()).toString(36)+Math.abs(Math.floor(2147483648*Math.random())^Date.now()).toString(36)};var B={},C=null;var D=\"function\"===typeof Uint8Array;function E(a,b,c){return\"object\"===typeof a?D&&!Array.isArray(a)&&a instanceof Uint8Array?c(a):F(a,b,c):b(a)}function F(a,b,c){if(Array.isArray(a)){for(var d=Array(a.length),e=0;e<a.length;e++){var f=a[e];null!=f&&(d[e]=E(f,b,c))}Array.isArray(a)&&a.s&&G(d);return d}d={};for(e in a)Object.prototype.hasOwnProperty.call(a,e)&&(f=a[e],null!=f&&(d[e]=E(f,b,c)));return d}\n",
       "function ea(a){return F(a,function(b){return\"number\"===typeof b?isFinite(b)?b:String(b):b},function(b){var c;void 0===c&&(c=0);if(!C){C={};for(var d=\"ABCDEFGHIJKLMNOPQRSTUVWXYZabcdefghijklmnopqrstuvwxyz0123456789\".split(\"\"),e=[\"+/=\",\"+/\",\"-_=\",\"-_.\",\"-_\"],f=0;5>f;f++){var h=d.concat(e[f].split(\"\"));B[f]=h;for(var g=0;g<h.length;g++){var l=h[g];void 0===C[l]&&(C[l]=g)}}}c=B[c];d=Array(Math.floor(b.length/3));e=c[64]||\"\";for(f=h=0;h<b.length-2;h+=3){var y=b[h],z=b[h+1];l=b[h+2];g=c[y>>2];y=c[(y&3)<<\n",
       "4|z>>4];z=c[(z&15)<<2|l>>6];l=c[l&63];d[f++]=\"\"+g+y+z+l}g=0;l=e;switch(b.length-h){case 2:g=b[h+1],l=c[(g&15)<<2]||e;case 1:b=b[h],d[f]=\"\"+c[b>>2]+c[(b&3)<<4|g>>4]+l+e}return d.join(\"\")})}var fa={s:{value:!0,configurable:!0}},G=function(a){Array.isArray(a)&&!Object.isFrozen(a)&&Object.defineProperties(a,fa);return a};var H;var J=function(a,b,c){var d=H;H=null;a||(a=d);d=this.constructor.u;a||(a=d?[d]:[]);this.j=d?0:-1;this.h=null;this.g=a;a:{d=this.g.length;a=d-1;if(d&&(d=this.g[a],!(null===d||\"object\"!=typeof d||Array.isArray(d)||D&&d instanceof Uint8Array))){this.l=a-this.j;this.i=d;break a}void 0!==b&&-1<b?(this.l=Math.max(b,a+1-this.j),this.i=null):this.l=Number.MAX_VALUE}if(c)for(b=0;b<c.length;b++)a=c[b],a<this.l?(a+=this.j,(d=this.g[a])?G(d):this.g[a]=I):(d=this.l+this.j,this.g[d]||(this.i=this.g[d]={}),(d=this.i[a])?\n",
       "G(d):this.i[a]=I)},I=Object.freeze(G([])),K=function(a,b){if(-1===b)return null;if(b<a.l){b+=a.j;var c=a.g[b];return c!==I?c:a.g[b]=G([])}if(a.i)return c=a.i[b],c!==I?c:a.i[b]=G([])},M=function(a,b){var c=L;if(-1===b)return null;a.h||(a.h={});if(!a.h[b]){var d=K(a,b);d&&(a.h[b]=new c(d))}return a.h[b]};J.prototype.toJSON=function(){var a=N(this,!1);return ea(a)};\n",
       "var N=function(a,b){if(a.h)for(var c in a.h)if(Object.prototype.hasOwnProperty.call(a.h,c)){var d=a.h[c];if(Array.isArray(d))for(var e=0;e<d.length;e++)d[e]&&N(d[e],b);else d&&N(d,b)}return a.g},O=function(a,b){H=b=b?JSON.parse(b):null;a=new a(b);H=null;return a};J.prototype.toString=function(){return N(this,!1).toString()};var P=function(a){J.call(this,a)};q(P,J);function ha(a){var b,c=(a.ownerDocument&&a.ownerDocument.defaultView||window).document,d=null===(b=c.querySelector)||void 0===b?void 0:b.call(c,\"script[nonce]\");(b=d?d.nonce||d.getAttribute(\"nonce\")||\"\":\"\")&&a.setAttribute(\"nonce\",b)};var Q=function(a,b){b=String(b);\"application/xhtml+xml\"===a.contentType&&(b=b.toLowerCase());return a.createElement(b)},R=function(a){this.g=a||r.document||document};R.prototype.appendChild=function(a,b){a.appendChild(b)};var S=function(a,b,c,d,e,f){try{var h=a.g,g=Q(a.g,\"SCRIPT\");g.async=!0;g.src=b instanceof w&&b.constructor===w?b.g:\"type_error:TrustedResourceUrl\";ha(g);h.head.appendChild(g);g.addEventListener(\"load\",function(){e();d&&h.head.removeChild(g)});g.addEventListener(\"error\",function(){0<c?S(a,b,c-1,d,e,f):(d&&h.head.removeChild(g),f())})}catch(l){f()}};var ia=r.atob(\"aHR0cHM6Ly93d3cuZ3N0YXRpYy5jb20vaW1hZ2VzL2ljb25zL21hdGVyaWFsL3N5c3RlbS8xeC93YXJuaW5nX2FtYmVyXzI0ZHAucG5n\"),ja=r.atob(\"WW91IGFyZSBzZWVpbmcgdGhpcyBtZXNzYWdlIGJlY2F1c2UgYWQgb3Igc2NyaXB0IGJsb2NraW5nIHNvZnR3YXJlIGlzIGludGVyZmVyaW5nIHdpdGggdGhpcyBwYWdlLg==\"),ka=r.atob(\"RGlzYWJsZSBhbnkgYWQgb3Igc2NyaXB0IGJsb2NraW5nIHNvZnR3YXJlLCB0aGVuIHJlbG9hZCB0aGlzIHBhZ2Uu\"),la=function(a,b,c){this.h=a;this.j=new R(this.h);this.g=null;this.i=[];this.l=!1;this.o=b;this.m=c},V=function(a){if(a.h.body&&!a.l){var b=\n",
       "function(){T(a);r.setTimeout(function(){return U(a,3)},50)};S(a.j,a.o,2,!0,function(){r[a.m]||b()},b);a.l=!0}},T=function(a){for(var b=W(1,5),c=0;c<b;c++){var d=X(a);a.h.body.appendChild(d);a.i.push(d)}b=X(a);b.style.bottom=\"0\";b.style.left=\"0\";b.style.position=\"fixed\";b.style.width=W(100,110).toString()+\"%\";b.style.zIndex=W(2147483544,2147483644).toString();b.style[\"background-color\"]=ma(249,259,242,252,219,229);b.style[\"box-shadow\"]=\"0 0 12px #888\";b.style.color=ma(0,10,0,10,0,10);b.style.display=\n",
       "\"flex\";b.style[\"justify-content\"]=\"center\";b.style[\"font-family\"]=\"Roboto, Arial\";c=X(a);c.style.width=W(80,85).toString()+\"%\";c.style.maxWidth=W(750,775).toString()+\"px\";c.style.margin=\"24px\";c.style.display=\"flex\";c.style[\"align-items\"]=\"flex-start\";c.style[\"justify-content\"]=\"center\";d=Q(a.j.g,\"IMG\");d.className=A();d.src=ia;d.style.height=\"24px\";d.style.width=\"24px\";d.style[\"padding-right\"]=\"16px\";var e=X(a),f=X(a);f.style[\"font-weight\"]=\"bold\";f.textContent=ja;var h=X(a);h.textContent=ka;Y(a,\n",
       "e,f);Y(a,e,h);Y(a,c,d);Y(a,c,e);Y(a,b,c);a.g=b;a.h.body.appendChild(a.g);b=W(1,5);for(c=0;c<b;c++)d=X(a),a.h.body.appendChild(d),a.i.push(d)},Y=function(a,b,c){for(var d=W(1,5),e=0;e<d;e++){var f=X(a);b.appendChild(f)}b.appendChild(c);c=W(1,5);for(d=0;d<c;d++)e=X(a),b.appendChild(e)},W=function(a,b){return Math.floor(a+Math.random()*(b-a))},ma=function(a,b,c,d,e,f){return\"rgb(\"+W(Math.max(a,0),Math.min(b,255)).toString()+\",\"+W(Math.max(c,0),Math.min(d,255)).toString()+\",\"+W(Math.max(e,0),Math.min(f,\n",
       "255)).toString()+\")\"},X=function(a){a=Q(a.j.g,\"DIV\");a.className=A();return a},U=function(a,b){0>=b||null!=a.g&&0!=a.g.offsetHeight&&0!=a.g.offsetWidth||(na(a),T(a),r.setTimeout(function(){return U(a,b-1)},50))},na=function(a){var b=a.i;var c=\"undefined\"!=typeof Symbol&&Symbol.iterator&&b[Symbol.iterator];b=c?c.call(b):{next:aa(b)};for(c=b.next();!c.done;c=b.next())(c=c.value)&&c.parentNode&&c.parentNode.removeChild(c);a.i=[];(b=a.g)&&b.parentNode&&b.parentNode.removeChild(b);a.g=null};var pa=function(a,b,c,d,e){var f=oa(c),h=function(l){l.appendChild(f);r.setTimeout(function(){f?(0!==f.offsetHeight&&0!==f.offsetWidth?b():a(),f.parentNode&&f.parentNode.removeChild(f)):a()},d)},g=function(l){document.body?h(document.body):0<l?r.setTimeout(function(){g(l-1)},e):b()};g(3)},oa=function(a){var b=document.createElement(\"div\");b.className=a;b.style.width=\"1px\";b.style.height=\"1px\";b.style.position=\"absolute\";b.style.left=\"-10000px\";b.style.top=\"-10000px\";b.style.zIndex=\"-10000\";return b};var L=function(a){J.call(this,a)};q(L,J);var qa=function(a){J.call(this,a)};q(qa,J);var ra=function(a,b){this.l=a;this.m=new R(a.document);this.g=b;this.i=K(this.g,1);b=M(this.g,2);this.o=x(K(b,4)||\"\");this.h=!1;b=M(this.g,13);b=x(K(b,4)||\"\");this.j=new la(a.document,b,K(this.g,12))};ra.prototype.start=function(){sa(this)};\n",
       "var sa=function(a){ta(a);S(a.m,a.o,3,!1,function(){a:{var b=a.i;var c=r.btoa(b);if(c=r[c]){try{var d=O(P,r.atob(c))}catch(e){b=!1;break a}b=b===K(d,1)}else b=!1}b?Z(a,K(a.g,14)):(Z(a,K(a.g,8)),V(a.j))},function(){pa(function(){Z(a,K(a.g,7));V(a.j)},function(){return Z(a,K(a.g,6))},K(a.g,9),K(a.g,10),K(a.g,11))})},Z=function(a,b){a.h||(a.h=!0,a=new a.l.XMLHttpRequest,a.open(\"GET\",b,!0),a.send())},ta=function(a){var b=r.btoa(a.i);a.l[b]&&Z(a,K(a.g,5))};(function(a,b){r[a]=function(c){for(var d=[],e=0;e<arguments.length;++e)d[e-0]=arguments[e];r[a]=da;b.apply(null,d)}})(\"__h82AlnkH6D91__\",function(a){\"function\"===typeof window.atob&&(new ra(window,O(qa,window.atob(a)))).start()});}).call(this);\n",
       "\n",
       "window.__h82AlnkH6D91__(\"WyJwdWItMDAyMzA3MzI2Nzg0NDUzNSIsW251bGwsbnVsbCxudWxsLCJodHRwczovL2Z1bmRpbmdjaG9pY2VzbWVzc2FnZXMuZ29vZ2xlLmNvbS9iL3B1Yi0wMDIzMDczMjY3ODQ0NTM1Il0sbnVsbCxudWxsLCJodHRwczovL2Z1bmRpbmdjaG9pY2VzbWVzc2FnZXMuZ29vZ2xlLmNvbS9lbC9BR1NLV3hWRG50VlBjRHVoUjkyYjBsRVVTNzVZWkc3WFotTHMwX2gtWE9ySDd5X25oYVJ5bXdaa29YeUJlRzJvUVVxcS1WWXE4V3VQNjJqV3BJTXJwSHlPT0pDMHhBXHUwMDNkXHUwMDNkP3RlXHUwMDNkVE9LRU5fRVhQT1NFRCIsImh0dHBzOi8vZnVuZGluZ2Nob2ljZXNtZXNzYWdlcy5nb29nbGUuY29tL2VsL0FHU0tXeFVtYk1HOFlCMWszenhXaDVjdWhGOUFWYzFuNkJENzlJRV9zbDNNeTU4RTI3ZUtuOURaUVluTDBBVV9oeFpaUDR0T254ajl3RFlSVDJzdGxXcmI2NXJiYkFcdTAwM2RcdTAwM2Q/YWJcdTAwM2QxXHUwMDI2c2JmXHUwMDNkMSIsImh0dHBzOi8vZnVuZGluZ2Nob2ljZXNtZXNzYWdlcy5nb29nbGUuY29tL2VsL0FHU0tXeFhpQnBsVE9JSlR4a0d3b2czZE0wOGNNTjRHTmNuazRrNDl6a25QYm0wQmlrbndxeEFqbTMxb21ySEJOLWt5bGRmNHpCZ2pGX0dLeWQ0ajJQSnQ0S2l3NndcdTAwM2RcdTAwM2Q/YWJcdTAwM2QyXHUwMDI2c2JmXHUwMDNkMSIsImh0dHBzOi8vZnVuZGluZ2Nob2ljZXNtZXNzYWdlcy5nb29nbGUuY29tL2VsL0FHU0tXeFZ0VmhOM0M0RGY1U0RyY184MGJ1Ylg0MEtSVFVab054T25vN254dEYtRFpTQlJBQjVLT21TR194bUtoNmRsYUhCckMyaXJLYXZFNzAyNm5tRF9PSzFVRmdcdTAwM2RcdTAwM2Q/c2JmXHUwMDNkMiIsImRpdi1ncHQtYWQiLDIwLDEwMCwiY0hWaUxUQXdNak13TnpNeU5qYzRORFExTXpVXHUwMDNkIixbbnVsbCxudWxsLG51bGwsImh0dHBzOi8vd3d3LmdzdGF0aWMuY29tLzBlbW4vZi9wL3B1Yi0wMDIzMDczMjY3ODQ0NTM1LmpzP3VzcXBcdTAwM2RDQVEiXSwiaHR0cHM6Ly9mdW5kaW5nY2hvaWNlc21lc3NhZ2VzLmdvb2dsZS5jb20vZWwvQUdTS1d4VXlMbGR6YUVmTTNueHVZTDlYU2l2SGJJdHVSMmNqcXBib1FBQnJFUUFNb1lLTzVMc0ZYcDgzZ2ZySDZERzRPdFJhSkN2M3ZULXhkSlJkdmdXbHl4YV9GQVx1MDAzZFx1MDAzZCJd\");</script>\n",
       "</head>\n",
       "<body>\n",
       "<div class=\"container section1\"><div id=\"content\"><div class=\"col-md-12 col-sm-12 hide_on_mobile_only\" style=\"padding:0;background:#1e1e1e\"><div class=\"col-md-3 col-sm-12 logo_name\" style=\"padding:0 10px\"><a class=\"logo_name\" href=\"//www.thefamouspeople.com/\">The<span class=\"logo_sub\">Famous</span>People</a></div><div class=\"col-md-9 col-sm-12 top-nav-main\" style=\"padding:0;margin:-9px\"><ul class=\"nav navbar-nav col-md-12 col-sm-12\" style=\"padding:0\"><li class=\"col-md-1 col-sm-1 top-nav\" style=\"padding:0\"><a class=\"topmenu-cls\" href=\"//lists.thefamouspeople.com\"><b>Lists</b></a></li><li class=\"col-md-2 col-sm-2 top-nav\" style=\"padding:0\"><a class=\"topmenu-cls\" href=\"//www.thefamouspeople.com/profession.php\"><b>Profession</b></a></li><li class=\"col-md-2 col-sm-2 top-nav\" style=\"padding:0\"><a class=\"topmenu-cls\" href=\"//www.thefamouspeople.com/famous-people-born-today.php\"><b>Born Today</b></a></li><li class=\"col-md-1 col-sm-1 top-nav\" style=\"padding:0\"><a class=\"topmenu-cls\" href=\"//quiz.thefamouspeople.com\"><b>Quiz</b></a></li><li class=\"col-md-2 col-sm-2 top-nav\" style=\"padding:0\"><a class=\"topmenu-cls\" href=\"//www.thefamouspeople.com/famous-people-by-birthday.php\"><b>Birthdays</b></a></li><li class=\"col-md-2 col-sm-2 top-nav\" style=\"padding:0\"><a class=\"topmenu-cls\" href=\"//quotes.thefamouspeople.com\"><b>Quotes</b></a></li><li class=\"col-md-2 col-sm-2 top-nav\" style=\"padding:0\"><a class=\"topmenu-cls\" href=\"//www.thefamouspeople.com/filmography/index.php\"><b>Filmography</b></a></li></ul></div></div></div></div><div class=\"clear\"></div>\n",
       "<div class=\"container section1.1 hide_on_bs mpf tablogo\"> <div class=\"col-xs-12 col-sm-12 col-md-12 filter-main hide_on_bs mpf tablogo\" style=\"box-shadow:0 0 5px 0 #2b2b2b;background-color:#1e1e1e\"> <nav class=\"navbar-default header_navbar\" style=\"background-color:#1e1e1e\"> <div class=\"navbar-header\"> <a class=\"tfp_logo tfp_logo_desk\" href=\"//www.thefamouspeople.com/\"> <div class=\"col-xs-3 col-sm-2 col-md-2\" style=\"color:#fff;font-weight:900;font-size:35px;font-family:serif;margin:0 auto\">T<span style=\"color:#fc0\">F</span>P</div></a> <div class=\"col-xs-7 col-sm-7 col-md-7\" style=\"display:flex;flex-flow:row wrap;justify-content:center;padding:0\"> <div class=\"search\"><a class=\"advanced_search\" href=\"//www.thefamouspeople.com/advanced_search.php'\" style=\"float:left;\">Advanced Search   <button aria-label=\"Right Align\" style=\"float:right;\"> </button></a></div>\n",
       "<div class=\"clear\"></div>\n",
       "</div><button aria-expanded=\"false\" aria-label=\"navbar\" class=\"navbar-toggle nav_menu_btn collapsed\" data-target=\"#myNavbar\" data-toggle=\"collapse\" id=\"navbar-toggle\" type=\"button\"> <span class=\"icon-bar\"> </span> <span class=\"icon-bar\"> </span> <span class=\"icon-bar\"> </span> </button> </div><div aria-expanded=\"false\" class=\"navbar-collapse collapse\" id=\"myNavbar\" style=\"height:1px\"> <ul class=\"nav navbar-nav\" id=\"responsive-menu-custom\"> <li class=\"responsive_active active\" style=\"cursor:default\"><a href=\"//lists.thefamouspeople.com\">Lists</a></li><li><a href=\"//thisday.thefamouspeople.com\">This Day In History</a></li><li><a href=\"//www.thefamouspeople.com/profession.php\">Profession</a></li><li><a href=\"//www.thefamouspeople.com/filmography/index.php\">Filmography</a></li><li><a href=\"//quiz.thefamouspeople.com\">Quiz Time</a></li><li><a href=\"//www.thefamouspeople.com/famous-people-born-today.php\">Born Today</a></li><li><a href=\"//www.thefamouspeople.com/famous-people-died-today.php\">Died Today</a></li><li><a href=\"//quotes.thefamouspeople.com\">Quotes</a></li><li><a href=\"//www.thefamouspeople.com/recent.php\">Recent</a></li></ul> </div></nav> </div></div><div class=\"clear\"></div>\n",
       "<div class=\"clear\"></div>\n",
       "<div class=\"container section3\">\n",
       "<div id=\"content3\">\n",
       "<div class=\"col-lg-12 col-md-12 col-sm-12 col-xs-12 internal_space\">\n",
       "<div class=\"col-lg-9 col-md-9 col-sm-9 hide_on_mobile_only\" style=\"padding: 10px;\">\n",
       "<form action=\"//www.thefamouspeople.com/search.php\" class=\"center-top-data hide_on_mobile_only\" id=\"cse-search-box\">\n",
       "<input name=\"cx\" type=\"hidden\" value=\"partner-pub-0023073267844535:jlk2i21njrj\"/>\n",
       "<input name=\"cof\" type=\"hidden\" value=\"FORID:10\"/>\n",
       "<input name=\"ie\" type=\"hidden\" value=\"ISO-8859-1\"/>\n",
       "<input aria-label=\"Search Profile\" class=\"search_text\" name=\"q\" type=\"text\"/>\n",
       "<input aria-label=\"Search\" class=\"search_bt\" type=\"submit\" value=\"Search\"/>\n",
       "</form>\n",
       "</div>\n",
       "<div class=\"col-lg-3 col-md-3 col-sm-3 hide_on_mobile_only\" style=\"padding: 10px;\">\n",
       "<div class=\"search\" style=\"color:#2b2b2b;\">\n",
       "<a class=\"advanced_search\" href=\"//www.thefamouspeople.com/advanced_search.php\" style=\"float:left;color:#2b2b2b;border-bottom:3px solid #fc0;\">Advanced Search</a>\n",
       "<div class=\"clear\"></div>\n",
       "</div>\n",
       "</div>\n",
       "<div class=\"col-lg-9 col-md-12 col-sm-12 col-xs-12 main main-xs internal_space\" style=\"float:left;\">\n",
       "<h1 style=\"text-align:center;margin:50px 0px;\">Singers</h1>\n",
       "<div class=\"overlay\"></div>\n",
       "<div class=\"clear\"></div><div class=\"container section4\">\n",
       "<div id=\"content4\">\n",
       "<div class=\"col-lg-12 col-md-12 col-sm-12 col-xs-12\">\n",
       "<div class=\"col-md-12 col-sm-12 col-xs-12 main-sub\">\n",
       "<div class=\"cat_more_from_heading\">More From <span>Singers</span></div>\n",
       "<div class=\"catmore\">\n",
       "<a class=\"col-md-3 col-sm-4 col-xs-6 catmorelinks\" href=\"//www.thefamouspeople.com/women-singers.php\">Women Singers</a><a class=\"col-md-3 col-sm-4 col-xs-6 catmorelinks\" href=\"//www.thefamouspeople.com/male-singers.php\">Male Singers</a><a class=\"col-md-3 col-sm-4 col-xs-6 catmorelinks\" href=\"//www.thefamouspeople.com/black-singers.php\">Black Singers</a><div style=\"clear:both;\"></div><hr style=\"margin-top:10px; border: 0; height: 1px; background-image: linear-gradient(to right, transparent, #F3BE08, transparent);\"/></div>\n",
       "</div>\n",
       "</div>\n",
       "</div>\n",
       "</div>\n",
       "<div class=\"combi_pagedesc\" id=\"intro\"> The dictionary definition of singers states that they are people who use their voice to produce musical sounds through modulation in tone and pitch however a layman’s definition of a singer is worded in a slightly different manner. Singers are people who have always been with us through the joyous times and through the times we’d rather wish we didn’t remember. They have even accompanied us when we have felt like a rebel and done our bit to revolt against the rules. For many, when they have failed to find the words to express their feeling or love, admiration or even exasperation, singers have stepped forward with their songs to lend suitable words to those feelings. The art of singing has been around for centuries, and practically every culture and civilization has had its share of singers. From throaty growls to melodic voices the list of notable singers from around the world would include the names of people like Dietrich Fischer-Dieskau, a famous opera singer, and Eddie Vedder, the famous rock singer from the band Pearl Jam. The history of music has also seen people who have been loved for their singing but have also been acknowledged to have had very bad singing voices. What follows now, is a collection of biographies of some of the most memorable singers from around the world which includes their life stories, timelines and some interesting trivia about them. </div>\n",
       "<div class=\"clear\"></div>\n",
       "<div style=\"text-align:center;font-weight:700;width:100%;padding:10px;font-size:20px;color:#3e433e;margin-bottom:20px;background: whitesmoke;\">\n",
       "Vote for Your Favourite Singers</div>\n",
       "<div class=\"clear\"></div>\n",
       "<p style=\"font-weight:500;background:#3e433e;padding:10px;font-size:16px;color:#fafafa;width:100%;\">\n",
       "<i class=\"fa fa-hand-o-right\" style=\"margin:-5px 5px;padding:0px!important;content: url(/images/hand-o-right.svg);\">Right Icon</i>This ranking is based on an algorithm that combines various factors, including the votes of our users and search trends on the internet.\n",
       "</p>\n",
       "<div class=\"clear\"></div>\n",
       "<div id=\"main-mp-content\">\n",
       "<div class=\"wrapper\"><article class=\"feature col-lg-12 col-md-12 col-sm-12 col-xs-12 eventt internal_space\"><div class=\"ptitle\"><div style=\"display: flex;align-items: baseline;\"><div class=\"number\"> 1 </div><div class=\"ptitle-internal\" style=\"display:flex;flex-direction:column;\"><a class=\"tileLink\" href=\"//www.thefamouspeople.com/profiles/michael-jackson-3955.php\">Michael Jackson</a><div class=\"\" style=\"font-size:14px;color:#666;margin-top: 0.5em;line-height: 1.6;\">(One of the Most Significant Cultural Figures of the 20th Century Popularly Known as the 'King of Pop')</div></div><div class=\"clear\"></div></div><div class=\"clear\"></div></div><div class=\"clear\"></div><div class=\"image col-lg-4 col-md-5 col-sm-5 col-xs-12\"><a class=\"tileLink\" href=\"//www.thefamouspeople.com/profiles/michael-jackson-3955.php\"><img alt=\"Michael Jackson\" class=\"combi-profile-img\" height=\"250\" src=\"//www.thefamouspeople.com/profiles/thumbs/michael-jackson-3.jpg\" title=\"Michael Jackson\" width=\"300\"/></a><div style=\"text-align:center;display: flex;justify-content: center;\"><div style=\"display:flex;flex-direction:column;align-items: center;\"><i class=\"fa fa-thumbs-o-up like-btn-3955\" data-id=\"3955\" data-placement=\"top\" data-toggle=\"tooltip\" onclick=\"_gaq.push(['_trackEvent', 'CatVote', 'Up-Vote-Clicked', 'Michael Jackson']);\" style=\"width:50px;height:50px;\" title=\"Vote For Your Favourite Singers\"></i><span class=\"likes likes-3955\">1363</span></div><div style=\"display:flex;flex-direction:column;align-items: center;\"><i class=\"fa fa-thumbs-o-down dislike-btn-3955\" data-id=\"3955\" data-placement=\"top\" data-toggle=\"tooltip\" onclick=\"_gaq.push(['_trackEvent', 'CatVote', 'Down-Vote-Clicked', 'Michael Jackson']);\" style=\"width:50px;height:50px;\" title=\"Vote For Your Favourite Singers\"></i><span class=\"dislikes dislikes-3955\">547</span></div></div></div><div class=\"col-lg-8 col-md-7 col-sm-7 col-xs-12 rt-text-display\"><div class=\"desc-q\"><b>Listed In: </b><a href=\"//www.thefamouspeople.com/pop-singers.php\">Pop Singers</a>, <a href=\"//www.thefamouspeople.com/rhythm-blues-singers.php\">Rhythm &amp; Blues Singers</a>, <a href=\"//www.thefamouspeople.com/choreographers.php\">Choreographers</a></div><div class=\"desc-q\"><b>Birthdate: </b>August 29, 1958</div><div class=\"desc-q\"><b>Sun Sign: </b>Virgo</div><div class=\"desc-q\"><b>Birthplace: </b>Gary, Indiana, United States</div><div class=\"desc-q\"><b>Died: </b>June 25, 2009</div><div class=\"desc descEvent\"><p>The <strong>King of Pop</strong> and an international superstar, Michael Jackson was a musical entertainer whose work – both with Jackson 5 and solo – won accolades and hearts worldwide. Equally popular were his unique dance moves that created sensation and shaped future dance styles. Amongst the most successful entertainers of all time, Jackson was later accused of child molestation.  </p></div></div><script>$(document).ready(function(){var pid =3955;var proname='';var page_url='//www.thefamouspeople.com/singers.php'; var ip = '2a06:98c0:3600::103'; var list_id = ' 25'; var uid ='7539142f08306d9c304dea98154572fa'; var page_type='category_parent'; var parent_cat_id = '0';$(\".like-btn-\"+pid).on(\"click\",function(){var s=$(this).data(\"id\");($clicked_btn=$(this)).hasClass(\"fa-thumbs-o-up\")?action=\"like\":$clicked_btn.hasClass(\"fa-thumbs-up\")&&(action=\"unlike\"),$.ajax({url:\"serverfile.php\",type:\"POST\",data:{action:action,post_id:s,user_id:uid,ip:ip,list_id:list_id,page_type:page_type,parent_cat_id:parent_cat_id,page_url:page_url,proname:proname},success:function(s){res=JSON.parse(s),\"like\"==action?($clicked_btn.removeClass(\"fa-thumbs-o-up\"),$clicked_btn.addClass(\"fa-thumbs-up\")):\"unlike\"==action&&($clicked_btn.removeClass(\"fa-thumbs-up\"),$clicked_btn.addClass(\"fa-thumbs-o-up\")),$(\".likes-\"+pid).text(res.likes),$(\".dislikes-\"+pid).text(res.dislikes),$(\".dislike-btn-\"+pid).removeClass(\"fa-thumbs-down\").addClass(\"fa-thumbs-o-down\")}})}),$(\".dislike-btn-\"+pid).on(\"click\",function(){var s=$(this).data(\"id\");($clicked_btn=$(this)).hasClass(\"fa-thumbs-o-down\")?action=\"dislike\":$clicked_btn.hasClass(\"fa-thumbs-down\")&&(action=\"undislike\"),$.ajax({url:\"serverfile.php\",type:\"POST\",data:{action:action,post_id:s,user_id:uid,ip:ip,list_id:list_id,page_type:page_type,parent_cat_id:parent_cat_id,page_url:page_url,proname:proname},success:function(s){res=JSON.parse(s),\"dislike\"==action?($clicked_btn.removeClass(\"fa-thumbs-o-down\"),$clicked_btn.addClass(\"fa-thumbs-down\")):\"undislike\"==action&&($clicked_btn.removeClass(\"fa-thumbs-down\"),$clicked_btn.addClass(\"fa-thumbs-o-down\")),$(\".likes-\"+pid).text(res.likes),$(\".dislikes-\"+pid).text(res.dislikes),$(\".like-btn-\"+pid).removeClass(\"fa-thumbs-up\").addClass(\"fa-thumbs-o-up\")}})});});</script></article></div><div class=\"clear\"></div><div class=\"col-lg-12 col-md-12 col-xs-12 col-sm-12 center-ad\" style=\"margin:20px 0px;height:250px;\"><div class=\"center-ad desktop_ad\">\n",
       "<div class=\"_ap_apex_ad\" id=\"5655a656-98ad-4563-9ec0-8f844b708ca6\">\n",
       "<script>\n",
       "var adpushup = window.adpushup = window.adpushup || {};\n",
       "adpushup.que = adpushup.que || [];\n",
       "adpushup.que.push(function() {\n",
       "\tadpushup.triggerAd(\"5655a656-98ad-4563-9ec0-8f844b708ca6\");\n",
       "});\n",
       "</script>\n",
       "</div>\n",
       "</div><div class=\"center-ad tablet_ad\">\n",
       "<div class=\"_ap_apex_ad\" id=\"5655a656-98ad-4563-9ec0-8f844b708ca6\">\n",
       "<script>\n",
       "var adpushup = window.adpushup = window.adpushup || {};\n",
       "adpushup.que = adpushup.que || [];\n",
       "adpushup.que.push(function() {\n",
       "\tadpushup.triggerAd(\"5655a656-98ad-4563-9ec0-8f844b708ca6\");\n",
       "});\n",
       "</script>\n",
       "</div>\n",
       "</div><div class=\"center-ad mobile_ad\">\n",
       "<div class=\"_ap_apex_ad\" id=\"2fc1129b-a969-4ae5-bc29-2ffea14b72f9\">\n",
       "<script>\n",
       "var adpushup = window.adpushup = window.adpushup || {};\n",
       "adpushup.que = adpushup.que || [];\n",
       "adpushup.que.push(function() {\n",
       "\tadpushup.triggerAd(\"2fc1129b-a969-4ae5-bc29-2ffea14b72f9\");\n",
       "});\n",
       "</script>\n",
       "</div>\n",
       "</div></div><div class=\"clear\"></div><div class=\"wrapper\"><article class=\"feature col-lg-12 col-md-12 col-sm-12 col-xs-12 eventt internal_space\"><div class=\"ptitle\"><div style=\"display: flex;align-items: baseline;\"><div class=\"number\"> 2 </div><div class=\"ptitle-internal\" style=\"display:flex;flex-direction:column;\"><a class=\"tileLink\" href=\"//www.thefamouspeople.com/profiles/ariana-grande-15637.php\">Ariana Grande</a><div class=\"\" style=\"font-size:14px;color:#666;margin-top: 0.5em;line-height: 1.6;\">(The Most Streamed Female Artist Ever)</div></div><div class=\"clear\"></div></div><div class=\"clear\"></div></div><div class=\"clear\"></div><div class=\"image col-lg-4 col-md-5 col-sm-5 col-xs-12\"><a class=\"tileLink\" href=\"//www.thefamouspeople.com/profiles/ariana-grande-15637.php\"><img alt=\"Ariana Grande\" class=\"combi-profile-img\" height=\"250\" src=\"//www.thefamouspeople.com/profiles/thumbs/ariana-grande-1.jpg\" title=\"Ariana Grande\" width=\"300\"/></a><div style=\"text-align:center;display: flex;justify-content: center;\"><div style=\"display:flex;flex-direction:column;align-items: center;\"><i class=\"fa fa-thumbs-o-up like-btn-15637\" data-id=\"15637\" data-placement=\"top\" data-toggle=\"tooltip\" onclick=\"_gaq.push(['_trackEvent', 'CatVote', 'Up-Vote-Clicked', 'Ariana Grande']);\" style=\"width:50px;height:50px;\" title=\"Vote For Your Favourite Singers\"></i><span class=\"likes likes-15637\">1969</span></div><div style=\"display:flex;flex-direction:column;align-items: center;\"><i class=\"fa fa-thumbs-o-down dislike-btn-15637\" data-id=\"15637\" data-placement=\"top\" data-toggle=\"tooltip\" onclick=\"_gaq.push(['_trackEvent', 'CatVote', 'Down-Vote-Clicked', 'Ariana Grande']);\" style=\"width:50px;height:50px;\" title=\"Vote For Your Favourite Singers\"></i><span class=\"dislikes dislikes-15637\">1009</span></div></div></div><div class=\"col-lg-8 col-md-7 col-sm-7 col-xs-12 rt-text-display\"><div class=\"desc-q\"><b>Listed In: </b><a href=\"//www.thefamouspeople.com/pop-singers.php\">Pop Singers</a>, <a href=\"//www.thefamouspeople.com/rhythm-blues-singers.php\">Rhythm &amp; Blues Singers</a>, <a href=\"//www.thefamouspeople.com/lyricists.php\">Lyricists &amp; Songwriters</a></div><div class=\"desc-q\"><b>Birthdate: </b>June 26, 1993</div><div class=\"desc-q\"><b>Sun Sign: </b>Cancer</div><div class=\"desc-q\"><b>Birthplace: </b>Boca Raton, Florida, United States</div><div class=\"desc descEvent\"><p>A talented youngster, Ariana Grande first stepped into the world of entertainment through Broadway musical <em>13</em> and later shot to fame with television series <em>Victorious</em> and its spinoff, <em>Sam &amp; Cat</em>. Her television series also kick started her musical career which flourished with the release of her five commercially successful and critically applauded albums and collaborations with various other artists.</p></div></div><script>$(document).ready(function(){var pid =15637;var proname='';var page_url='//www.thefamouspeople.com/singers.php'; var ip = '2a06:98c0:3600::103'; var list_id = ' 25'; var uid ='7539142f08306d9c304dea98154572fa'; var page_type='category_parent'; var parent_cat_id = '0';$(\".like-btn-\"+pid).on(\"click\",function(){var s=$(this).data(\"id\");($clicked_btn=$(this)).hasClass(\"fa-thumbs-o-up\")?action=\"like\":$clicked_btn.hasClass(\"fa-thumbs-up\")&&(action=\"unlike\"),$.ajax({url:\"serverfile.php\",type:\"POST\",data:{action:action,post_id:s,user_id:uid,ip:ip,list_id:list_id,page_type:page_type,parent_cat_id:parent_cat_id,page_url:page_url,proname:proname},success:function(s){res=JSON.parse(s),\"like\"==action?($clicked_btn.removeClass(\"fa-thumbs-o-up\"),$clicked_btn.addClass(\"fa-thumbs-up\")):\"unlike\"==action&&($clicked_btn.removeClass(\"fa-thumbs-up\"),$clicked_btn.addClass(\"fa-thumbs-o-up\")),$(\".likes-\"+pid).text(res.likes),$(\".dislikes-\"+pid).text(res.dislikes),$(\".dislike-btn-\"+pid).removeClass(\"fa-thumbs-down\").addClass(\"fa-thumbs-o-down\")}})}),$(\".dislike-btn-\"+pid).on(\"click\",function(){var s=$(this).data(\"id\");($clicked_btn=$(this)).hasClass(\"fa-thumbs-o-down\")?action=\"dislike\":$clicked_btn.hasClass(\"fa-thumbs-down\")&&(action=\"undislike\"),$.ajax({url:\"serverfile.php\",type:\"POST\",data:{action:action,post_id:s,user_id:uid,ip:ip,list_id:list_id,page_type:page_type,parent_cat_id:parent_cat_id,page_url:page_url,proname:proname},success:function(s){res=JSON.parse(s),\"dislike\"==action?($clicked_btn.removeClass(\"fa-thumbs-o-down\"),$clicked_btn.addClass(\"fa-thumbs-down\")):\"undislike\"==action&&($clicked_btn.removeClass(\"fa-thumbs-down\"),$clicked_btn.addClass(\"fa-thumbs-o-down\")),$(\".likes-\"+pid).text(res.likes),$(\".dislikes-\"+pid).text(res.dislikes),$(\".like-btn-\"+pid).removeClass(\"fa-thumbs-up\").addClass(\"fa-thumbs-o-up\")}})});});</script></article></div><div class=\"clear\"></div><div class=\"wrapper col-lg-10 col-md-10 col-xs-12 col-sm-12 col-center-block\"><div class=\"col-lg-6 col-md-6 col-xs-12 col-sm-12\" style=\"text-align:center; margin:10px auto;display:block;\"><div class=\"clear\"></div>\n",
       "<div class=\"primis_cls center-ad\">\n",
       "<div class=\"col-md-12 col-xs-12 col-sm-12 &lt;?php echo $primisparent; ?&gt; primistop\" style=\"Vertical-align: center\">\n",
       "<script language=\"javascript\" src=\"https://live.primis.tech/live/liveView.php?s=99305&amp;cbuster=[CACHE_BUSTER]&amp;pubUrl=[PAGE_URL_ENCODED]&amp;x=[WIDTH]&amp;y=[HEIGHT]&amp;vp_content=plembed1344iqxykzvm&amp;subId=[SUBID_ENCODED]\" type=\"text/javascript\"></script>\n",
       "</div></div>\n",
       "<style>.primis_cls iframe{z-index:50000!important;}.primisparent{width:60%;float:none!important;margin-top:10px;margin-bottom:10px;}</style>\n",
       "<div class=\"clear\"></div>\n",
       "</div><div class=\"col-lg-6 col-md-6 col-xs-12 col-sm-12 profile-valueclick-ad-desktop\">\n",
       "<div class=\"_ap_apex_ad\" id=\"2fc1129b-a969-4ae5-bc29-2ffea14b72f9\">\n",
       "<script>\n",
       "var adpushup = window.adpushup = window.adpushup || {};\n",
       "adpushup.que = adpushup.que || [];\n",
       "adpushup.que.push(function() {\n",
       "\tadpushup.triggerAd(\"2fc1129b-a969-4ae5-bc29-2ffea14b72f9\");\n",
       "});\n",
       "</script>\n",
       "</div>\n",
       "</div></div><div class=\"clear\"></div><div class=\"wrapper\"><article class=\"feature col-lg-12 col-md-12 col-sm-12 col-xs-12 eventt internal_space\"><div class=\"ptitle\"><div style=\"display: flex;align-items: baseline;\"><div class=\"number\"> 3 </div><div class=\"ptitle-internal\" style=\"display:flex;flex-direction:column;\"><a class=\"tileLink\" href=\"//www.thefamouspeople.com/profiles/freddie-mercury-1431.php\">Freddie Mercury</a><div class=\"\" style=\"font-size:14px;color:#666;margin-top: 0.5em;line-height: 1.6;\">(One of the Greatest Rock Singers and the Lead Vocalist of the Rock Band 'Queen')</div></div><div class=\"clear\"></div></div><div class=\"clear\"></div></div><div class=\"clear\"></div><div class=\"image col-lg-4 col-md-5 col-sm-5 col-xs-12\"><a class=\"tileLink\" href=\"//www.thefamouspeople.com/profiles/freddie-mercury-1431.php\"><img alt=\"Freddie Mercury\" class=\"combi-profile-img\" height=\"250\" src=\"//www.thefamouspeople.com/profiles/thumbs/freddie-mercury-4.jpg\" title=\"Freddie Mercury\" width=\"300\"/></a><div style=\"text-align:center;display: flex;justify-content: center;\"><div style=\"display:flex;flex-direction:column;align-items: center;\"><i class=\"fa fa-thumbs-o-up like-btn-1431\" data-id=\"1431\" data-placement=\"top\" data-toggle=\"tooltip\" onclick=\"_gaq.push(['_trackEvent', 'CatVote', 'Up-Vote-Clicked', 'Freddie Mercury']);\" style=\"width:50px;height:50px;\" title=\"Vote For Your Favourite Singers\"></i><span class=\"likes likes-1431\">799</span></div><div style=\"display:flex;flex-direction:column;align-items: center;\"><i class=\"fa fa-thumbs-o-down dislike-btn-1431\" data-id=\"1431\" data-placement=\"top\" data-toggle=\"tooltip\" onclick=\"_gaq.push(['_trackEvent', 'CatVote', 'Down-Vote-Clicked', 'Freddie Mercury']);\" style=\"width:50px;height:50px;\" title=\"Vote For Your Favourite Singers\"></i><span class=\"dislikes dislikes-1431\">418</span></div></div></div><div class=\"col-lg-8 col-md-7 col-sm-7 col-xs-12 rt-text-display\"><div class=\"desc-q\"><b>Listed In: </b><a href=\"//www.thefamouspeople.com/record-producers.php\">Record Producers</a>, <a href=\"//www.thefamouspeople.com/rock-singers.php\">Rock Singers</a>, <a href=\"//www.thefamouspeople.com/pop-singers.php\">Pop Singers</a></div><div class=\"desc-q\"><b>Birthdate: </b>September 5, 1946</div><div class=\"desc-q\"><b>Sun Sign: </b>Virgo</div><div class=\"desc-q\"><b>Birthplace: </b>Stone Town, Tanzania</div><div class=\"desc-q\"><b>Died: </b>November 24, 1991</div><div class=\"desc descEvent\"><p>Legendary singer, songwriter and lead vocalist of the British rock band, Queen, Frederick Bulsara adopted the name Freddie Mercury which aptly suits his on-stage vibrant and exuberant persona. A four-octave vocal range musician, Mercury owned every stage he set foot on as much with his vivid performance as with his superhuman voice modulation.  </p></div></div><script>$(document).ready(function(){var pid =1431;var proname='';var page_url='//www.thefamouspeople.com/singers.php'; var ip = '2a06:98c0:3600::103'; var list_id = ' 25'; var uid ='7539142f08306d9c304dea98154572fa'; var page_type='category_parent'; var parent_cat_id = '0';$(\".like-btn-\"+pid).on(\"click\",function(){var s=$(this).data(\"id\");($clicked_btn=$(this)).hasClass(\"fa-thumbs-o-up\")?action=\"like\":$clicked_btn.hasClass(\"fa-thumbs-up\")&&(action=\"unlike\"),$.ajax({url:\"serverfile.php\",type:\"POST\",data:{action:action,post_id:s,user_id:uid,ip:ip,list_id:list_id,page_type:page_type,parent_cat_id:parent_cat_id,page_url:page_url,proname:proname},success:function(s){res=JSON.parse(s),\"like\"==action?($clicked_btn.removeClass(\"fa-thumbs-o-up\"),$clicked_btn.addClass(\"fa-thumbs-up\")):\"unlike\"==action&&($clicked_btn.removeClass(\"fa-thumbs-up\"),$clicked_btn.addClass(\"fa-thumbs-o-up\")),$(\".likes-\"+pid).text(res.likes),$(\".dislikes-\"+pid).text(res.dislikes),$(\".dislike-btn-\"+pid).removeClass(\"fa-thumbs-down\").addClass(\"fa-thumbs-o-down\")}})}),$(\".dislike-btn-\"+pid).on(\"click\",function(){var s=$(this).data(\"id\");($clicked_btn=$(this)).hasClass(\"fa-thumbs-o-down\")?action=\"dislike\":$clicked_btn.hasClass(\"fa-thumbs-down\")&&(action=\"undislike\"),$.ajax({url:\"serverfile.php\",type:\"POST\",data:{action:action,post_id:s,user_id:uid,ip:ip,list_id:list_id,page_type:page_type,parent_cat_id:parent_cat_id,page_url:page_url,proname:proname},success:function(s){res=JSON.parse(s),\"dislike\"==action?($clicked_btn.removeClass(\"fa-thumbs-o-down\"),$clicked_btn.addClass(\"fa-thumbs-down\")):\"undislike\"==action&&($clicked_btn.removeClass(\"fa-thumbs-down\"),$clicked_btn.addClass(\"fa-thumbs-o-down\")),$(\".likes-\"+pid).text(res.likes),$(\".dislikes-\"+pid).text(res.dislikes),$(\".like-btn-\"+pid).removeClass(\"fa-thumbs-up\").addClass(\"fa-thumbs-o-up\")}})});});</script></article></div><div class=\"clear\"></div><div style=\"margin-bottom:10px;margin-top:5px;\"><div class=\"ddl\" style=\"font-weight:700;color:#2b2b2b;\"><span class=\"rec_text\">Recommended Lists: </span><div class=\"combi_links\"> <a class=\"catmorelinks\" href=\"//quotes.thefamouspeople.com/singers.php\">Quotes By Famous Singers</a> </div><div class=\"combi_links\"> <a class=\"catmorelinks\" href=\"//www.thefamouspeople.com/classical-singers.php\">Classical Singers</a> </div></div></div><div class=\"wrapper\"><article class=\"feature col-lg-12 col-md-12 col-sm-12 col-xs-12 eventt internal_space\"><div class=\"ptitle\"><div style=\"display: flex;align-items: baseline;\"><div class=\"number\"> 4 </div><div class=\"ptitle-internal\" style=\"display:flex;flex-direction:column;\"><a class=\"tileLink\" href=\"//www.thefamouspeople.com/profiles/taylor-swift-13896.php\">Taylor Swift</a><div class=\"\" style=\"font-size:14px;color:#666;margin-top: 0.5em;line-height: 1.6;\">(Pop Icon &amp; One of the Best-Selling Musicians of All Time)</div></div><div class=\"clear\"></div></div><div class=\"clear\"></div></div><div class=\"clear\"></div><div class=\"image col-lg-4 col-md-5 col-sm-5 col-xs-12\"><a class=\"tileLink\" href=\"//www.thefamouspeople.com/profiles/taylor-swift-13896.php\"><img alt=\"Taylor Swift\" class=\"combi-profile-img\" data-src=\"//www.thefamouspeople.com/profiles/thumbs/taylor-swift-1.jpg\" height=\"250\" src=\"\" title=\"Taylor Swift\" width=\"300\"/></a><div style=\"text-align:center;display: flex;justify-content: center;\"><div style=\"display:flex;flex-direction:column;align-items: center;\"><i class=\"fa fa-thumbs-o-up like-btn-13896\" data-id=\"13896\" data-placement=\"top\" data-toggle=\"tooltip\" onclick=\"_gaq.push(['_trackEvent', 'CatVote', 'Up-Vote-Clicked', 'Taylor Swift']);\" style=\"width:50px;height:50px;\" title=\"Vote For Your Favourite Singers\"></i><span class=\"likes likes-13896\">1286</span></div><div style=\"display:flex;flex-direction:column;align-items: center;\"><i class=\"fa fa-thumbs-o-down dislike-btn-13896\" data-id=\"13896\" data-placement=\"top\" data-toggle=\"tooltip\" onclick=\"_gaq.push(['_trackEvent', 'CatVote', 'Down-Vote-Clicked', 'Taylor Swift']);\" style=\"width:50px;height:50px;\" title=\"Vote For Your Favourite Singers\"></i><span class=\"dislikes dislikes-13896\">622</span></div></div></div><div class=\"col-lg-8 col-md-7 col-sm-7 col-xs-12 rt-text-display\"><div class=\"desc-q\"><b>Listed In: </b><a href=\"//www.thefamouspeople.com/pop-singers.php\">Pop Singers</a>, <a href=\"//www.thefamouspeople.com/country-singers.php\">Country Singers</a></div><div class=\"desc-q\"><b>Birthdate: </b>December 13, 1989</div><div class=\"desc-q\"><b>Sun Sign: </b>Sagittarius</div><div class=\"desc-q\"><b>Birthplace: </b>West Reading, Pennsylvania, United States</div><div class=\"desc descEvent\"><p>American pop and country music singer-songwriter, Taylor Swift is a multiple Grammy award winning artist who has inspired a number of hopeful musicians. A talented artist since a young age, she achieved success with her first single and debut album in 2006. Since then, the <em>Fearless </em>star has not looked back and also made her acting debut in 2009.</p></div></div><script>$(document).ready(function(){var pid =13896;var proname='';var page_url='//www.thefamouspeople.com/singers.php'; var ip = '2a06:98c0:3600::103'; var list_id = ' 25'; var uid ='7539142f08306d9c304dea98154572fa'; var page_type='category_parent'; var parent_cat_id = '0';$(\".like-btn-\"+pid).on(\"click\",function(){var s=$(this).data(\"id\");($clicked_btn=$(this)).hasClass(\"fa-thumbs-o-up\")?action=\"like\":$clicked_btn.hasClass(\"fa-thumbs-up\")&&(action=\"unlike\"),$.ajax({url:\"serverfile.php\",type:\"POST\",data:{action:action,post_id:s,user_id:uid,ip:ip,list_id:list_id,page_type:page_type,parent_cat_id:parent_cat_id,page_url:page_url,proname:proname},success:function(s){res=JSON.parse(s),\"like\"==action?($clicked_btn.removeClass(\"fa-thumbs-o-up\"),$clicked_btn.addClass(\"fa-thumbs-up\")):\"unlike\"==action&&($clicked_btn.removeClass(\"fa-thumbs-up\"),$clicked_btn.addClass(\"fa-thumbs-o-up\")),$(\".likes-\"+pid).text(res.likes),$(\".dislikes-\"+pid).text(res.dislikes),$(\".dislike-btn-\"+pid).removeClass(\"fa-thumbs-down\").addClass(\"fa-thumbs-o-down\")}})}),$(\".dislike-btn-\"+pid).on(\"click\",function(){var s=$(this).data(\"id\");($clicked_btn=$(this)).hasClass(\"fa-thumbs-o-down\")?action=\"dislike\":$clicked_btn.hasClass(\"fa-thumbs-down\")&&(action=\"undislike\"),$.ajax({url:\"serverfile.php\",type:\"POST\",data:{action:action,post_id:s,user_id:uid,ip:ip,list_id:list_id,page_type:page_type,parent_cat_id:parent_cat_id,page_url:page_url,proname:proname},success:function(s){res=JSON.parse(s),\"dislike\"==action?($clicked_btn.removeClass(\"fa-thumbs-o-down\"),$clicked_btn.addClass(\"fa-thumbs-down\")):\"undislike\"==action&&($clicked_btn.removeClass(\"fa-thumbs-down\"),$clicked_btn.addClass(\"fa-thumbs-o-down\")),$(\".likes-\"+pid).text(res.likes),$(\".dislikes-\"+pid).text(res.dislikes),$(\".like-btn-\"+pid).removeClass(\"fa-thumbs-up\").addClass(\"fa-thumbs-o-up\")}})});});</script></article></div><div class=\"clear\"></div><div style=\"margin-bottom:10px;margin-top:5px;\"><div class=\"ddl\" style=\"font-weight:700;color:#2b2b2b;\"><span class=\"rec_text\">Recommended Lists: </span><div class=\"combi_links\"> <a class=\"catmorelinks\" href=\"//www.thefamouspeople.com/contemporary-rb-singers.php\">Contemporary R&amp;B Singers</a> </div><div class=\"combi_links\"> <a class=\"catmorelinks\" href=\"//www.thefamouspeople.com/country-singers.php\">Country Singers</a> </div></div></div><div class=\"wrapper\"><article class=\"feature col-lg-12 col-md-12 col-sm-12 col-xs-12 eventt internal_space\"><div class=\"ptitle\"><div style=\"display: flex;align-items: baseline;\"><div class=\"number\"> 5 </div><div class=\"ptitle-internal\" style=\"display:flex;flex-direction:column;\"><a class=\"tileLink\" href=\"//www.thefamouspeople.com/profiles/eminem-3985.php\">Eminem</a><div class=\"\" style=\"font-size:14px;color:#666;margin-top: 0.5em;line-height: 1.6;\">(One of the Most Influential and Popular Rappers of All Time)</div></div><div class=\"clear\"></div></div><div class=\"clear\"></div></div><div class=\"clear\"></div><div class=\"image col-lg-4 col-md-5 col-sm-5 col-xs-12\"><a class=\"tileLink\" href=\"//www.thefamouspeople.com/profiles/eminem-3985.php\"><img alt=\"Eminem\" class=\"combi-profile-img\" data-src=\"//www.thefamouspeople.com/profiles/thumbs/eminem-10.jpg\" height=\"250\" src=\"\" title=\"Eminem\" width=\"300\"/></a><div style=\"text-align:center;display: flex;justify-content: center;\"><div style=\"display:flex;flex-direction:column;align-items: center;\"><i class=\"fa fa-thumbs-o-up like-btn-3985\" data-id=\"3985\" data-placement=\"top\" data-toggle=\"tooltip\" onclick=\"_gaq.push(['_trackEvent', 'CatVote', 'Up-Vote-Clicked', 'Eminem']);\" style=\"width:50px;height:50px;\" title=\"Vote For Your Favourite Singers\"></i><span class=\"likes likes-3985\">656</span></div><div style=\"display:flex;flex-direction:column;align-items: center;\"><i class=\"fa fa-thumbs-o-down dislike-btn-3985\" data-id=\"3985\" data-placement=\"top\" data-toggle=\"tooltip\" onclick=\"_gaq.push(['_trackEvent', 'CatVote', 'Down-Vote-Clicked', 'Eminem']);\" style=\"width:50px;height:50px;\" title=\"Vote For Your Favourite Singers\"></i><span class=\"dislikes dislikes-3985\">280</span></div></div></div><div class=\"col-lg-8 col-md-7 col-sm-7 col-xs-12 rt-text-display\"><div class=\"desc-q\"><b>Listed In: </b><a href=\"//www.thefamouspeople.com/rappers.php\">Rappers</a>, <a href=\"//www.thefamouspeople.com/hip-hop-rappers.php\">Hip Hop Singers</a></div><div class=\"desc-q\"><b>Birthdate: </b>October 17, 1972</div><div class=\"desc-q\"><b>Sun Sign: </b>Libra</div><div class=\"desc-q\"><b>Birthplace: </b>Saint Joseph, Missouri, United States</div><div class=\"desc descEvent\"><p>Amongst the biggest rappers of all time, Eminem gained worldwide popularity with the release of albums like <em>The Slim Shady LP</em> and <em>The Marshall Mathers LP</em>. His subsequent albums became huge successes further making him a bigger sensation and one of the bestselling music artists of all time. His fame greatly inspired other white rappers to succeed in popular music.</p></div></div><script>$(document).ready(function(){var pid =3985;var proname='';var page_url='//www.thefamouspeople.com/singers.php'; var ip = '2a06:98c0:3600::103'; var list_id = ' 25'; var uid ='7539142f08306d9c304dea98154572fa'; var page_type='category_parent'; var parent_cat_id = '0';$(\".like-btn-\"+pid).on(\"click\",function(){var s=$(this).data(\"id\");($clicked_btn=$(this)).hasClass(\"fa-thumbs-o-up\")?action=\"like\":$clicked_btn.hasClass(\"fa-thumbs-up\")&&(action=\"unlike\"),$.ajax({url:\"serverfile.php\",type:\"POST\",data:{action:action,post_id:s,user_id:uid,ip:ip,list_id:list_id,page_type:page_type,parent_cat_id:parent_cat_id,page_url:page_url,proname:proname},success:function(s){res=JSON.parse(s),\"like\"==action?($clicked_btn.removeClass(\"fa-thumbs-o-up\"),$clicked_btn.addClass(\"fa-thumbs-up\")):\"unlike\"==action&&($clicked_btn.removeClass(\"fa-thumbs-up\"),$clicked_btn.addClass(\"fa-thumbs-o-up\")),$(\".likes-\"+pid).text(res.likes),$(\".dislikes-\"+pid).text(res.dislikes),$(\".dislike-btn-\"+pid).removeClass(\"fa-thumbs-down\").addClass(\"fa-thumbs-o-down\")}})}),$(\".dislike-btn-\"+pid).on(\"click\",function(){var s=$(this).data(\"id\");($clicked_btn=$(this)).hasClass(\"fa-thumbs-o-down\")?action=\"dislike\":$clicked_btn.hasClass(\"fa-thumbs-down\")&&(action=\"undislike\"),$.ajax({url:\"serverfile.php\",type:\"POST\",data:{action:action,post_id:s,user_id:uid,ip:ip,list_id:list_id,page_type:page_type,parent_cat_id:parent_cat_id,page_url:page_url,proname:proname},success:function(s){res=JSON.parse(s),\"dislike\"==action?($clicked_btn.removeClass(\"fa-thumbs-o-down\"),$clicked_btn.addClass(\"fa-thumbs-down\")):\"undislike\"==action&&($clicked_btn.removeClass(\"fa-thumbs-down\"),$clicked_btn.addClass(\"fa-thumbs-o-down\")),$(\".likes-\"+pid).text(res.likes),$(\".dislikes-\"+pid).text(res.dislikes),$(\".like-btn-\"+pid).removeClass(\"fa-thumbs-up\").addClass(\"fa-thumbs-o-up\")}})});});</script></article></div><div class=\"clear\"></div><div class=\"col-lg-12 col-md-12 col-xs-12 col-sm-12 center-ad\" style=\"margin:20px 0px;height:360px;\"><div class=\"center-ad\"><div class=\"center-ad desktop_ad\">\n",
       "<img alt=\"\" height=\"0\" src=\"//pixel.carambo.la/Pixel/bnyn16/113169/0/1/0\" style=\"display:block;width:0;height:0;\" width=\"0\"/>\n",
       "<script cbola_wid=\"0\" class=\"carambola_InContent\" data-cfasync=\"false\" type=\"text/javascript\">\n",
       "  (function (i,d,s,o,m,r,c,l,w,q,y,h,g) {\n",
       "  var e=d.getElementById(r);if(e===null){\n",
       "  var t = d.createElement(o); t.src = g + Math.floor(Math.random() * 1000); t.id = r; t.setAttribute(m, s);t.async = 1;var n=d.getElementsByTagName(o)[0];n.parentNode.insertBefore(t, n);\n",
       "  var dt=new Date().getTime();\n",
       "  try{i[l][w+y](h,i[l][q+y](h)+'&'+dt);}catch(er){i[h]=dt;}\n",
       "  } else if(typeof i[c]!=='undefined'){i[c]++}\n",
       "  else{i[c]=1;}\n",
       "  })(window, document, 'InContent', 'script', 'mediaType', 'carambola_proxy','Cbola_IC','localStorage','set','get','Item','cbolaDt','//route.carambo.la/inimage/getlayer?pid=bnyn16&did=113169&wid=0&rdn=')\n",
       "  </script>\n",
       "</div>\n",
       "<div class=\"center-ad tablet_ad\">\n",
       "<img alt=\"\" height=\"0\" src=\"//pixel.carambo.la/Pixel/bnyn16/113169/2/1/0\" style=\"display:block;width:0;height:0;\" width=\"0\"/>\n",
       "<script cbola_wid=\"2\" class=\"carambola_InContent\" data-cfasync=\"false\" type=\"text/javascript\">\n",
       "  (function (i,d,s,o,m,r,c,l,w,q,y,h,g) {\n",
       "  var e=d.getElementById(r);if(e===null){\n",
       "  var t = d.createElement(o); t.src = g + Math.floor(Math.random() * 1000); t.id = r; t.setAttribute(m, s);t.async = 1;var n=d.getElementsByTagName(o)[0];n.parentNode.insertBefore(t, n);\n",
       "  var dt=new Date().getTime();\n",
       "  try{i[l][w+y](h,i[l][q+y](h)+'&'+dt);}catch(er){i[h]=dt;}\n",
       "  } else if(typeof i[c]!=='undefined'){i[c]++}\n",
       "  else{i[c]=1;}\n",
       "  })(window, document, 'InContent', 'script', 'mediaType', 'carambola_proxy','Cbola_IC','localStorage','set','get','Item','cbolaDt','https://cdata.carambo.la/Layer/InImage/Prod/cbola_platform/version_0.110/js/Carambola_layer_152.min.js?pid=bnyn16&did=113169&wid=2&rdn=')\n",
       "  </script>\n",
       "</div>\n",
       "<div class=\"center-ad mobile_ad\">\n",
       "<img alt=\"\" height=\"0\" src=\"//pixel.carambo.la/Pixel/bnyn16/113169/2/1/0\" style=\"display:block;width:0;height:0;\" width=\"0\"/>\n",
       "<script cbola_wid=\"2\" class=\"carambola_InContent\" data-cfasync=\"false\" type=\"text/javascript\">\n",
       "  (function (i,d,s,o,m,r,c,l,w,q,y,h,g) {\n",
       "  var e=d.getElementById(r);if(e===null){\n",
       "  var t = d.createElement(o); t.src = g + Math.floor(Math.random() * 1000); t.id = r; t.setAttribute(m, s);t.async = 1;var n=d.getElementsByTagName(o)[0];n.parentNode.insertBefore(t, n);\n",
       "  var dt=new Date().getTime();\n",
       "  try{i[l][w+y](h,i[l][q+y](h)+'&'+dt);}catch(er){i[h]=dt;}\n",
       "  } else if(typeof i[c]!=='undefined'){i[c]++}\n",
       "  else{i[c]=1;}\n",
       "  })(window, document, 'InContent', 'script', 'mediaType', 'carambola_proxy','Cbola_IC','localStorage','set','get','Item','cbolaDt','https://cdata.carambo.la/Layer/InImage/Prod/cbola_platform/version_0.110/js/Carambola_layer_152.min.js?pid=bnyn16&did=113169&wid=2&rdn=')\n",
       "  </script>\n",
       "</div>\n",
       "</div></div><div class=\"clear\"></div><div class=\"wrapper\"><article class=\"feature col-lg-12 col-md-12 col-sm-12 col-xs-12 eventt internal_space\"><div class=\"ptitle\"><div style=\"display: flex;align-items: baseline;\"><div class=\"number\"> 6 </div><div class=\"ptitle-internal\" style=\"display:flex;flex-direction:column;\"><a class=\"tileLink\" href=\"//www.thefamouspeople.com/profiles/elvis-aaron-presley-1337.php\">Elvis Presley</a><div class=\"\" style=\"font-size:14px;color:#666;margin-top: 0.5em;line-height: 1.6;\">(One of the Most Significant Cultural Icons of the 20th Century and 'The King of Rock and Roll')</div></div><div class=\"clear\"></div></div><div class=\"clear\"></div></div><div class=\"clear\"></div><div class=\"image col-lg-4 col-md-5 col-sm-5 col-xs-12\"><a class=\"tileLink\" href=\"//www.thefamouspeople.com/profiles/elvis-aaron-presley-1337.php\"><img alt=\"Elvis Presley\" class=\"combi-profile-img\" data-src=\"//www.thefamouspeople.com/profiles/thumbs/elvis-presley-4.jpg\" height=\"250\" src=\"\" title=\"Elvis Presley\" width=\"300\"/></a><div style=\"text-align:center;display: flex;justify-content: center;\"><div style=\"display:flex;flex-direction:column;align-items: center;\"><i class=\"fa fa-thumbs-o-up like-btn-1337\" data-id=\"1337\" data-placement=\"top\" data-toggle=\"tooltip\" onclick=\"_gaq.push(['_trackEvent', 'CatVote', 'Up-Vote-Clicked', 'Elvis Presley']);\" style=\"width:50px;height:50px;\" title=\"Vote For Your Favourite Singers\"></i><span class=\"likes likes-1337\">456</span></div><div style=\"display:flex;flex-direction:column;align-items: center;\"><i class=\"fa fa-thumbs-o-down dislike-btn-1337\" data-id=\"1337\" data-placement=\"top\" data-toggle=\"tooltip\" onclick=\"_gaq.push(['_trackEvent', 'CatVote', 'Down-Vote-Clicked', 'Elvis Presley']);\" style=\"width:50px;height:50px;\" title=\"Vote For Your Favourite Singers\"></i><span class=\"dislikes dislikes-1337\">175</span></div></div></div><div class=\"col-lg-8 col-md-7 col-sm-7 col-xs-12 rt-text-display\"><div class=\"desc-q\"><b>Listed In: </b><a href=\"//www.thefamouspeople.com/pop-singers.php\">Pop Singers</a></div><div class=\"desc-q\"><b>Birthdate: </b>January 8, 1935</div><div class=\"desc-q\"><b>Sun Sign: </b>Capricorn</div><div class=\"desc-q\"><b>Birthplace: </b>Tupelo, Mississippi, United States</div><div class=\"desc-q\"><b>Died: </b>August 16, 1977</div><div class=\"desc descEvent\">The King of Rock ‘n’ Roll, winner of 3 Grammys, and pioneer of the Pelvis move, Elvis Presley was a musical phenomenon of the 20th century<strong>. </strong>Known for his humbleness, love for God and devotion to his country, Presley had numerous gold, platinum and multi-platinum records to his credit, including 18 number 1 hits and 38 top ten hits.</div></div><script>$(document).ready(function(){var pid =1337;var proname='';var page_url='//www.thefamouspeople.com/singers.php'; var ip = '2a06:98c0:3600::103'; var list_id = ' 25'; var uid ='7539142f08306d9c304dea98154572fa'; var page_type='category_parent'; var parent_cat_id = '0';$(\".like-btn-\"+pid).on(\"click\",function(){var s=$(this).data(\"id\");($clicked_btn=$(this)).hasClass(\"fa-thumbs-o-up\")?action=\"like\":$clicked_btn.hasClass(\"fa-thumbs-up\")&&(action=\"unlike\"),$.ajax({url:\"serverfile.php\",type:\"POST\",data:{action:action,post_id:s,user_id:uid,ip:ip,list_id:list_id,page_type:page_type,parent_cat_id:parent_cat_id,page_url:page_url,proname:proname},success:function(s){res=JSON.parse(s),\"like\"==action?($clicked_btn.removeClass(\"fa-thumbs-o-up\"),$clicked_btn.addClass(\"fa-thumbs-up\")):\"unlike\"==action&&($clicked_btn.removeClass(\"fa-thumbs-up\"),$clicked_btn.addClass(\"fa-thumbs-o-up\")),$(\".likes-\"+pid).text(res.likes),$(\".dislikes-\"+pid).text(res.dislikes),$(\".dislike-btn-\"+pid).removeClass(\"fa-thumbs-down\").addClass(\"fa-thumbs-o-down\")}})}),$(\".dislike-btn-\"+pid).on(\"click\",function(){var s=$(this).data(\"id\");($clicked_btn=$(this)).hasClass(\"fa-thumbs-o-down\")?action=\"dislike\":$clicked_btn.hasClass(\"fa-thumbs-down\")&&(action=\"undislike\"),$.ajax({url:\"serverfile.php\",type:\"POST\",data:{action:action,post_id:s,user_id:uid,ip:ip,list_id:list_id,page_type:page_type,parent_cat_id:parent_cat_id,page_url:page_url,proname:proname},success:function(s){res=JSON.parse(s),\"dislike\"==action?($clicked_btn.removeClass(\"fa-thumbs-o-down\"),$clicked_btn.addClass(\"fa-thumbs-down\")):\"undislike\"==action&&($clicked_btn.removeClass(\"fa-thumbs-down\"),$clicked_btn.addClass(\"fa-thumbs-o-down\")),$(\".likes-\"+pid).text(res.likes),$(\".dislikes-\"+pid).text(res.dislikes),$(\".like-btn-\"+pid).removeClass(\"fa-thumbs-up\").addClass(\"fa-thumbs-o-up\")}})});});</script></article></div><div class=\"clear\"></div><div style=\"margin-bottom:10px;margin-top:5px;\"><div class=\"ddl\" style=\"font-weight:700;color:#2b2b2b;\"><span class=\"rec_text\">Recommended Lists: </span><div class=\"combi_links\"> <a class=\"catmorelinks\" href=\"//www.thefamouspeople.com/dance-singers.php\">Dance Singers</a> </div><div class=\"combi_links\"> <a class=\"catmorelinks\" href=\"//www.thefamouspeople.com/devotional-singers.php\">Devotional Singers</a> </div></div></div><div class=\"wrapper\"><article class=\"feature col-lg-12 col-md-12 col-sm-12 col-xs-12 eventt internal_space\"><div class=\"ptitle\"><div style=\"display: flex;align-items: baseline;\"><div class=\"number\"> 7 </div><div class=\"ptitle-internal\" style=\"display:flex;flex-direction:column;\"><a class=\"tileLink\" href=\"//www.thefamouspeople.com/profiles/xxxtentacion-32895.php\">XXXTentacion</a><div class=\"\" style=\"font-size:14px;color:#666;margin-top: 0.5em;line-height: 1.6;\">(Rapper Well Known for His Depressing, and at Times Devastating Music)</div></div><div class=\"clear\"></div></div><div class=\"clear\"></div></div><div class=\"clear\"></div><div class=\"image col-lg-4 col-md-5 col-sm-5 col-xs-12\"><a class=\"tileLink\" href=\"//www.thefamouspeople.com/profiles/xxxtentacion-32895.php\"><img alt=\"XXXTentacion\" class=\"combi-profile-img\" data-src=\"//www.thefamouspeople.com/profiles/thumbs/xxxtentacion-1.jpg\" height=\"250\" src=\"\" title=\"XXXTentacion\" width=\"300\"/></a><div style=\"text-align:center;display: flex;justify-content: center;\"><div style=\"display:flex;flex-direction:column;align-items: center;\"><i class=\"fa fa-thumbs-o-up like-btn-32895\" data-id=\"32895\" data-placement=\"top\" data-toggle=\"tooltip\" onclick=\"_gaq.push(['_trackEvent', 'CatVote', 'Up-Vote-Clicked', 'XXXTentacion']);\" style=\"width:50px;height:50px;\" title=\"Vote For Your Favourite Singers\"></i><span class=\"likes likes-32895\">1202</span></div><div style=\"display:flex;flex-direction:column;align-items: center;\"><i class=\"fa fa-thumbs-o-down dislike-btn-32895\" data-id=\"32895\" data-placement=\"top\" data-toggle=\"tooltip\" onclick=\"_gaq.push(['_trackEvent', 'CatVote', 'Down-Vote-Clicked', 'XXXTentacion']);\" style=\"width:50px;height:50px;\" title=\"Vote For Your Favourite Singers\"></i><span class=\"dislikes dislikes-32895\">1096</span></div></div></div><div class=\"col-lg-8 col-md-7 col-sm-7 col-xs-12 rt-text-display\"><div class=\"desc-q\"><b>Listed In: </b><a href=\"//www.thefamouspeople.com/rappers.php\">Rappers</a>, <a href=\"//www.thefamouspeople.com/hip-hop-rappers.php\">Hip Hop Singers</a>, <a href=\"//www.thefamouspeople.com/lyricists.php\">Lyricists &amp; Songwriters</a></div><div class=\"desc-q\"><b>Birthdate: </b>January 23, 1998</div><div class=\"desc-q\"><b>Sun Sign: </b>Aquarius</div><div class=\"desc-q\"><b>Birthplace: </b>Plantation, Florida, United States</div><div class=\"desc-q\"><b>Died: </b>June 18, 2018</div><div class=\"desc descEvent\"><p>A rapper and singer, XXXTentacion, gained fame with the success of the song, <em>Look at Me,</em> and release of albums like <em>17</em> and <em>?</em>. In his personal life, he faced multiple legal issues from the beginning. He was shot dead at the young age of 20. XXXTentacion had a cult following among the youth owing to his depression and alienation thematic driven music.</p></div></div><script>$(document).ready(function(){var pid =32895;var proname='';var page_url='//www.thefamouspeople.com/singers.php'; var ip = '2a06:98c0:3600::103'; var list_id = ' 25'; var uid ='7539142f08306d9c304dea98154572fa'; var page_type='category_parent'; var parent_cat_id = '0';$(\".like-btn-\"+pid).on(\"click\",function(){var s=$(this).data(\"id\");($clicked_btn=$(this)).hasClass(\"fa-thumbs-o-up\")?action=\"like\":$clicked_btn.hasClass(\"fa-thumbs-up\")&&(action=\"unlike\"),$.ajax({url:\"serverfile.php\",type:\"POST\",data:{action:action,post_id:s,user_id:uid,ip:ip,list_id:list_id,page_type:page_type,parent_cat_id:parent_cat_id,page_url:page_url,proname:proname},success:function(s){res=JSON.parse(s),\"like\"==action?($clicked_btn.removeClass(\"fa-thumbs-o-up\"),$clicked_btn.addClass(\"fa-thumbs-up\")):\"unlike\"==action&&($clicked_btn.removeClass(\"fa-thumbs-up\"),$clicked_btn.addClass(\"fa-thumbs-o-up\")),$(\".likes-\"+pid).text(res.likes),$(\".dislikes-\"+pid).text(res.dislikes),$(\".dislike-btn-\"+pid).removeClass(\"fa-thumbs-down\").addClass(\"fa-thumbs-o-down\")}})}),$(\".dislike-btn-\"+pid).on(\"click\",function(){var s=$(this).data(\"id\");($clicked_btn=$(this)).hasClass(\"fa-thumbs-o-down\")?action=\"dislike\":$clicked_btn.hasClass(\"fa-thumbs-down\")&&(action=\"undislike\"),$.ajax({url:\"serverfile.php\",type:\"POST\",data:{action:action,post_id:s,user_id:uid,ip:ip,list_id:list_id,page_type:page_type,parent_cat_id:parent_cat_id,page_url:page_url,proname:proname},success:function(s){res=JSON.parse(s),\"dislike\"==action?($clicked_btn.removeClass(\"fa-thumbs-o-down\"),$clicked_btn.addClass(\"fa-thumbs-down\")):\"undislike\"==action&&($clicked_btn.removeClass(\"fa-thumbs-down\"),$clicked_btn.addClass(\"fa-thumbs-o-down\")),$(\".likes-\"+pid).text(res.likes),$(\".dislikes-\"+pid).text(res.dislikes),$(\".like-btn-\"+pid).removeClass(\"fa-thumbs-up\").addClass(\"fa-thumbs-o-up\")}})});});</script></article></div><div class=\"clear\"></div><div class=\"wrapper\"><article class=\"feature col-lg-12 col-md-12 col-sm-12 col-xs-12 eventt internal_space\"><div class=\"ptitle\"><div style=\"display: flex;align-items: baseline;\"><div class=\"number\"> 8 </div><div class=\"ptitle-internal\" style=\"display:flex;flex-direction:column;\"><a class=\"tileLink\" href=\"//www.thefamouspeople.com/profiles/tupac-amaru-shakur-3096.php\">Tupac Shakur</a><div class=\"\" style=\"font-size:14px;color:#666;margin-top: 0.5em;line-height: 1.6;\">( 100 Greatest Artists of All Time by Rolling Stone)</div></div><div class=\"clear\"></div></div><div class=\"clear\"></div></div><div class=\"clear\"></div><div class=\"image col-lg-4 col-md-5 col-sm-5 col-xs-12\"><a class=\"tileLink\" href=\"//www.thefamouspeople.com/profiles/tupac-amaru-shakur-3096.php\"><img alt=\"Tupac Shakur\" class=\"combi-profile-img\" data-src=\"//www.thefamouspeople.com/profiles/thumbs/tupac-shakur-3.jpg\" height=\"250\" src=\"\" title=\"Tupac Shakur\" width=\"300\"/></a><div style=\"text-align:center;display: flex;justify-content: center;\"><div style=\"display:flex;flex-direction:column;align-items: center;\"><i class=\"fa fa-thumbs-o-up like-btn-3096\" data-id=\"3096\" data-placement=\"top\" data-toggle=\"tooltip\" onclick=\"_gaq.push(['_trackEvent', 'CatVote', 'Up-Vote-Clicked', 'Tupac Shakur']);\" style=\"width:50px;height:50px;\" title=\"Vote For Your Favourite Singers\"></i><span class=\"likes likes-3096\">930</span></div><div style=\"display:flex;flex-direction:column;align-items: center;\"><i class=\"fa fa-thumbs-o-down dislike-btn-3096\" data-id=\"3096\" data-placement=\"top\" data-toggle=\"tooltip\" onclick=\"_gaq.push(['_trackEvent', 'CatVote', 'Down-Vote-Clicked', 'Tupac Shakur']);\" style=\"width:50px;height:50px;\" title=\"Vote For Your Favourite Singers\"></i><span class=\"dislikes dislikes-3096\">548</span></div></div></div><div class=\"col-lg-8 col-md-7 col-sm-7 col-xs-12 rt-text-display\"><div class=\"desc-q\"><b>Listed In: </b><a href=\"//www.thefamouspeople.com/hip-hop-rappers.php\">Hip Hop Singers</a>, <a href=\"//www.thefamouspeople.com/rappers.php\">Rappers</a></div><div class=\"desc-q\"><b>Birthdate: </b>June 16, 1971</div><div class=\"desc-q\"><b>Sun Sign: </b>Gemini</div><div class=\"desc-q\"><b>Birthplace: </b>New York City, New York, United States</div><div class=\"desc-q\"><b>Died: </b>September 13, 1996</div><div class=\"desc descEvent\"><p>Tupac Amaru Shakur, popularly known as 2Pac or Makaveli, is considered as one of the <strong>greatest American rappers</strong> of all time. Talent and trouble went hand in hand in Shakur’s journey to fame; the higher Shakur rose in his iconic status, the deeper he became entangled in gang violence and an infamous rivalry, which sadly led to his untimely demise.</p></div></div><script>$(document).ready(function(){var pid =3096;var proname='';var page_url='//www.thefamouspeople.com/singers.php'; var ip = '2a06:98c0:3600::103'; var list_id = ' 25'; var uid ='7539142f08306d9c304dea98154572fa'; var page_type='category_parent'; var parent_cat_id = '0';$(\".like-btn-\"+pid).on(\"click\",function(){var s=$(this).data(\"id\");($clicked_btn=$(this)).hasClass(\"fa-thumbs-o-up\")?action=\"like\":$clicked_btn.hasClass(\"fa-thumbs-up\")&&(action=\"unlike\"),$.ajax({url:\"serverfile.php\",type:\"POST\",data:{action:action,post_id:s,user_id:uid,ip:ip,list_id:list_id,page_type:page_type,parent_cat_id:parent_cat_id,page_url:page_url,proname:proname},success:function(s){res=JSON.parse(s),\"like\"==action?($clicked_btn.removeClass(\"fa-thumbs-o-up\"),$clicked_btn.addClass(\"fa-thumbs-up\")):\"unlike\"==action&&($clicked_btn.removeClass(\"fa-thumbs-up\"),$clicked_btn.addClass(\"fa-thumbs-o-up\")),$(\".likes-\"+pid).text(res.likes),$(\".dislikes-\"+pid).text(res.dislikes),$(\".dislike-btn-\"+pid).removeClass(\"fa-thumbs-down\").addClass(\"fa-thumbs-o-down\")}})}),$(\".dislike-btn-\"+pid).on(\"click\",function(){var s=$(this).data(\"id\");($clicked_btn=$(this)).hasClass(\"fa-thumbs-o-down\")?action=\"dislike\":$clicked_btn.hasClass(\"fa-thumbs-down\")&&(action=\"undislike\"),$.ajax({url:\"serverfile.php\",type:\"POST\",data:{action:action,post_id:s,user_id:uid,ip:ip,list_id:list_id,page_type:page_type,parent_cat_id:parent_cat_id,page_url:page_url,proname:proname},success:function(s){res=JSON.parse(s),\"dislike\"==action?($clicked_btn.removeClass(\"fa-thumbs-o-down\"),$clicked_btn.addClass(\"fa-thumbs-down\")):\"undislike\"==action&&($clicked_btn.removeClass(\"fa-thumbs-down\"),$clicked_btn.addClass(\"fa-thumbs-o-down\")),$(\".likes-\"+pid).text(res.likes),$(\".dislikes-\"+pid).text(res.dislikes),$(\".like-btn-\"+pid).removeClass(\"fa-thumbs-up\").addClass(\"fa-thumbs-o-up\")}})});});</script></article></div><div class=\"clear\"></div><div style=\"margin-bottom:10px;margin-top:5px;\"><div class=\"ddl\" style=\"font-weight:700;color:#2b2b2b;\"><span class=\"rec_text\">Recommended Lists: </span><div class=\"combi_links\"> <a class=\"catmorelinks\" href=\"//www.thefamouspeople.com/folk-rock-singers.php\">Folk Rock Singers</a> </div><div class=\"combi_links\"> <a class=\"catmorelinks\" href=\"//www.thefamouspeople.com/folk-singers.php\">Folk Singers</a> </div></div></div><div class=\"wrapper\"><article class=\"feature col-lg-12 col-md-12 col-sm-12 col-xs-12 eventt internal_space\"><div class=\"ptitle\"><div style=\"display: flex;align-items: baseline;\"><div class=\"number\"> 9 </div><div class=\"ptitle-internal\" style=\"display:flex;flex-direction:column;\"><a class=\"tileLink\" href=\"//www.thefamouspeople.com/profiles/lady-gaga-4930.php\">Lady Gaga</a><div class=\"\" style=\"font-size:14px;color:#666;margin-top: 0.5em;line-height: 1.6;\">(One of the Best-Selling Music Artists &amp; Only Female to Achieve 4 Singles that Sold 10 Million Copies Globally)</div></div><div class=\"clear\"></div></div><div class=\"clear\"></div></div><div class=\"clear\"></div><div class=\"image col-lg-4 col-md-5 col-sm-5 col-xs-12\"><a class=\"tileLink\" href=\"//www.thefamouspeople.com/profiles/lady-gaga-4930.php\"><img alt=\"Lady Gaga\" class=\"combi-profile-img\" data-src=\"//www.thefamouspeople.com/profiles/thumbs/lady-gaga-3.jpg\" height=\"250\" src=\"\" title=\"Lady Gaga\" width=\"300\"/></a><div style=\"text-align:center;display: flex;justify-content: center;\"><div style=\"display:flex;flex-direction:column;align-items: center;\"><i class=\"fa fa-thumbs-o-up like-btn-4930\" data-id=\"4930\" data-placement=\"top\" data-toggle=\"tooltip\" onclick=\"_gaq.push(['_trackEvent', 'CatVote', 'Up-Vote-Clicked', 'Lady Gaga']);\" style=\"width:50px;height:50px;\" title=\"Vote For Your Favourite Singers\"></i><span class=\"likes likes-4930\">735</span></div><div style=\"display:flex;flex-direction:column;align-items: center;\"><i class=\"fa fa-thumbs-o-down dislike-btn-4930\" data-id=\"4930\" data-placement=\"top\" data-toggle=\"tooltip\" onclick=\"_gaq.push(['_trackEvent', 'CatVote', 'Down-Vote-Clicked', 'Lady Gaga']);\" style=\"width:50px;height:50px;\" title=\"Vote For Your Favourite Singers\"></i><span class=\"dislikes dislikes-4930\">408</span></div></div></div><div class=\"col-lg-8 col-md-7 col-sm-7 col-xs-12 rt-text-display\"><div class=\"desc-q\"><b>Listed In: </b><a href=\"//www.thefamouspeople.com/pop-singers.php\">Pop Singers</a>, <a href=\"//www.thefamouspeople.com/dance-singers.php\">Dance Singers</a>, <a href=\"//www.thefamouspeople.com/actress.php\">Actresses</a></div><div class=\"desc-q\"><b>Birthdate: </b>March 28, 1986</div><div class=\"desc-q\"><b>Sun Sign: </b>Aries</div><div class=\"desc-q\"><b>Birthplace: </b>New York City, New York, United States</div><div class=\"desc descEvent\"><p>Popular singer and songwriter, Lady Gaga has been active in the music industry since her teens. One of the world's best-selling music artists, she is the recipient of numerous prestigious awards. A versatile performer, she is known for her consistent image reinventions in music. She is actively involved in philanthropy and social activism.</p></div></div><script>$(document).ready(function(){var pid =4930;var proname='';var page_url='//www.thefamouspeople.com/singers.php'; var ip = '2a06:98c0:3600::103'; var list_id = ' 25'; var uid ='7539142f08306d9c304dea98154572fa'; var page_type='category_parent'; var parent_cat_id = '0';$(\".like-btn-\"+pid).on(\"click\",function(){var s=$(this).data(\"id\");($clicked_btn=$(this)).hasClass(\"fa-thumbs-o-up\")?action=\"like\":$clicked_btn.hasClass(\"fa-thumbs-up\")&&(action=\"unlike\"),$.ajax({url:\"serverfile.php\",type:\"POST\",data:{action:action,post_id:s,user_id:uid,ip:ip,list_id:list_id,page_type:page_type,parent_cat_id:parent_cat_id,page_url:page_url,proname:proname},success:function(s){res=JSON.parse(s),\"like\"==action?($clicked_btn.removeClass(\"fa-thumbs-o-up\"),$clicked_btn.addClass(\"fa-thumbs-up\")):\"unlike\"==action&&($clicked_btn.removeClass(\"fa-thumbs-up\"),$clicked_btn.addClass(\"fa-thumbs-o-up\")),$(\".likes-\"+pid).text(res.likes),$(\".dislikes-\"+pid).text(res.dislikes),$(\".dislike-btn-\"+pid).removeClass(\"fa-thumbs-down\").addClass(\"fa-thumbs-o-down\")}})}),$(\".dislike-btn-\"+pid).on(\"click\",function(){var s=$(this).data(\"id\");($clicked_btn=$(this)).hasClass(\"fa-thumbs-o-down\")?action=\"dislike\":$clicked_btn.hasClass(\"fa-thumbs-down\")&&(action=\"undislike\"),$.ajax({url:\"serverfile.php\",type:\"POST\",data:{action:action,post_id:s,user_id:uid,ip:ip,list_id:list_id,page_type:page_type,parent_cat_id:parent_cat_id,page_url:page_url,proname:proname},success:function(s){res=JSON.parse(s),\"dislike\"==action?($clicked_btn.removeClass(\"fa-thumbs-o-down\"),$clicked_btn.addClass(\"fa-thumbs-down\")):\"undislike\"==action&&($clicked_btn.removeClass(\"fa-thumbs-down\"),$clicked_btn.addClass(\"fa-thumbs-o-down\")),$(\".likes-\"+pid).text(res.likes),$(\".dislikes-\"+pid).text(res.dislikes),$(\".like-btn-\"+pid).removeClass(\"fa-thumbs-up\").addClass(\"fa-thumbs-o-up\")}})});});</script></article></div><div class=\"clear\"></div><div class=\"wrapper\"><article class=\"feature col-lg-12 col-md-12 col-sm-12 col-xs-12 eventt internal_space\"><div class=\"ptitle\"><div style=\"display: flex;align-items: baseline;\"><div class=\"number\"> 10 </div><div class=\"ptitle-internal\" style=\"display:flex;flex-direction:column;\"><a class=\"tileLink\" href=\"//www.thefamouspeople.com/profiles/selena-gomez-6224.php\">Selena Gomez</a><div class=\"\" style=\"font-size:14px;color:#666;margin-top: 0.5em;line-height: 1.6;\">(Singer-Songwriter)</div></div><div class=\"clear\"></div></div><div class=\"clear\"></div></div><div class=\"clear\"></div><div class=\"image col-lg-4 col-md-5 col-sm-5 col-xs-12\"><a class=\"tileLink\" href=\"//www.thefamouspeople.com/profiles/selena-gomez-6224.php\"><img alt=\"Selena Gomez\" class=\"combi-profile-img\" data-src=\"//www.thefamouspeople.com/profiles/thumbs/selena-gomez-1.jpg\" height=\"250\" src=\"\" title=\"Selena Gomez\" width=\"300\"/></a><div style=\"text-align:center;display: flex;justify-content: center;\"><div style=\"display:flex;flex-direction:column;align-items: center;\"><i class=\"fa fa-thumbs-o-up like-btn-6224\" data-id=\"6224\" data-placement=\"top\" data-toggle=\"tooltip\" onclick=\"_gaq.push(['_trackEvent', 'CatVote', 'Up-Vote-Clicked', 'Selena Gomez']);\" style=\"width:50px;height:50px;\" title=\"Vote For Your Favourite Singers\"></i><span class=\"likes likes-6224\">1035</span></div><div style=\"display:flex;flex-direction:column;align-items: center;\"><i class=\"fa fa-thumbs-o-down dislike-btn-6224\" data-id=\"6224\" data-placement=\"top\" data-toggle=\"tooltip\" onclick=\"_gaq.push(['_trackEvent', 'CatVote', 'Down-Vote-Clicked', 'Selena Gomez']);\" style=\"width:50px;height:50px;\" title=\"Vote For Your Favourite Singers\"></i><span class=\"dislikes dislikes-6224\">468</span></div></div></div><div class=\"col-lg-8 col-md-7 col-sm-7 col-xs-12 rt-text-display\"><div class=\"desc-q\"><b>Listed In: </b><a href=\"//www.thefamouspeople.com/pop-singers.php\">Pop Singers</a>, <a href=\"//www.thefamouspeople.com/actress.php\">Actresses</a></div><div class=\"desc-q\"><b>Birthdate: </b>July 22, 1992</div><div class=\"desc-q\"><b>Sun Sign: </b>Cancer</div><div class=\"desc-q\"><b>Birthplace: </b>Grand Prairie, Texas, United States</div><div class=\"desc descEvent\"><p>Singer, songwriter, and actress, Selena Gomez, was destined for a career in the entertainment industry! The daughter of an actress, she was exposed to acting as a child and began her career early on. She gained much fame as a singer and actress in her teenage and was named the Billboard Woman of the Year in 2017.</p></div></div><script>$(document).ready(function(){var pid =6224;var proname='';var page_url='//www.thefamouspeople.com/singers.php'; var ip = '2a06:98c0:3600::103'; var list_id = ' 25'; var uid ='7539142f08306d9c304dea98154572fa'; var page_type='category_parent'; var parent_cat_id = '0';$(\".like-btn-\"+pid).on(\"click\",function(){var s=$(this).data(\"id\");($clicked_btn=$(this)).hasClass(\"fa-thumbs-o-up\")?action=\"like\":$clicked_btn.hasClass(\"fa-thumbs-up\")&&(action=\"unlike\"),$.ajax({url:\"serverfile.php\",type:\"POST\",data:{action:action,post_id:s,user_id:uid,ip:ip,list_id:list_id,page_type:page_type,parent_cat_id:parent_cat_id,page_url:page_url,proname:proname},success:function(s){res=JSON.parse(s),\"like\"==action?($clicked_btn.removeClass(\"fa-thumbs-o-up\"),$clicked_btn.addClass(\"fa-thumbs-up\")):\"unlike\"==action&&($clicked_btn.removeClass(\"fa-thumbs-up\"),$clicked_btn.addClass(\"fa-thumbs-o-up\")),$(\".likes-\"+pid).text(res.likes),$(\".dislikes-\"+pid).text(res.dislikes),$(\".dislike-btn-\"+pid).removeClass(\"fa-thumbs-down\").addClass(\"fa-thumbs-o-down\")}})}),$(\".dislike-btn-\"+pid).on(\"click\",function(){var s=$(this).data(\"id\");($clicked_btn=$(this)).hasClass(\"fa-thumbs-o-down\")?action=\"dislike\":$clicked_btn.hasClass(\"fa-thumbs-down\")&&(action=\"undislike\"),$.ajax({url:\"serverfile.php\",type:\"POST\",data:{action:action,post_id:s,user_id:uid,ip:ip,list_id:list_id,page_type:page_type,parent_cat_id:parent_cat_id,page_url:page_url,proname:proname},success:function(s){res=JSON.parse(s),\"dislike\"==action?($clicked_btn.removeClass(\"fa-thumbs-o-down\"),$clicked_btn.addClass(\"fa-thumbs-down\")):\"undislike\"==action&&($clicked_btn.removeClass(\"fa-thumbs-down\"),$clicked_btn.addClass(\"fa-thumbs-o-down\")),$(\".likes-\"+pid).text(res.likes),$(\".dislikes-\"+pid).text(res.dislikes),$(\".like-btn-\"+pid).removeClass(\"fa-thumbs-up\").addClass(\"fa-thumbs-o-up\")}})});});</script></article></div><div class=\"clear\"></div><div class=\"col-lg-12 col-md-12 col-xs-12 col-sm-12\" style=\"margin:20px 0px;height:250px;\"><div class=\"center-ad desktop_ad\">\n",
       "<div class=\"_ap_apex_ad\" id=\"5655a656-98ad-4563-9ec0-8f844b708ca6\">\n",
       "<script>\n",
       "var adpushup = window.adpushup = window.adpushup || {};\n",
       "adpushup.que = adpushup.que || [];\n",
       "adpushup.que.push(function() {\n",
       "\tadpushup.triggerAd(\"5655a656-98ad-4563-9ec0-8f844b708ca6\");\n",
       "});\n",
       "</script>\n",
       "</div>\n",
       "</div><div class=\"center-ad tablet_ad\">\n",
       "<div class=\"_ap_apex_ad\" id=\"5655a656-98ad-4563-9ec0-8f844b708ca6\">\n",
       "<script>\n",
       "var adpushup = window.adpushup = window.adpushup || {};\n",
       "adpushup.que = adpushup.que || [];\n",
       "adpushup.que.push(function() {\n",
       "\tadpushup.triggerAd(\"5655a656-98ad-4563-9ec0-8f844b708ca6\");\n",
       "});\n",
       "</script>\n",
       "</div>\n",
       "</div><div class=\"center-ad mobile_ad\">\n",
       "<div class=\"_ap_apex_ad\" id=\"2fc1129b-a969-4ae5-bc29-2ffea14b72f9\">\n",
       "<script>\n",
       "var adpushup = window.adpushup = window.adpushup || {};\n",
       "adpushup.que = adpushup.que || [];\n",
       "adpushup.que.push(function() {\n",
       "\tadpushup.triggerAd(\"2fc1129b-a969-4ae5-bc29-2ffea14b72f9\");\n",
       "});\n",
       "</script>\n",
       "</div>\n",
       "</div></div><div class=\"clear\"></div><div style=\"margin-bottom:10px;margin-top:5px;\"><div class=\"ddl\" style=\"font-weight:700;color:#2b2b2b;\"><span class=\"rec_text\">Recommended Lists: </span><div class=\"combi_links\"> <a class=\"catmorelinks\" href=\"//www.thefamouspeople.com/ghazal-singers.php\">Ghazal Singers</a> </div><div class=\"combi_links\"> <a class=\"catmorelinks\" href=\"//www.thefamouspeople.com/gospel-singers.php\">Gospel Singers</a> </div></div></div><div class=\"wrapper\"><article class=\"feature col-lg-12 col-md-12 col-sm-12 col-xs-12 eventt internal_space\"><div class=\"ptitle\"><div style=\"display: flex;align-items: baseline;\"><div class=\"number\"> 11 </div><div class=\"ptitle-internal\" style=\"display:flex;flex-direction:column;\"><a class=\"tileLink\" href=\"//www.thefamouspeople.com/profiles/beyonce-knowles-4117.php\">Beyonce Knowles</a><div class=\"\" style=\"font-size:14px;color:#666;margin-top: 0.5em;line-height: 1.6;\">(Singer-Songwriter, Actress and Lead Singer of the R&amp;B Group ‘Destiny’s Child’)</div></div><div class=\"clear\"></div></div><div class=\"clear\"></div></div><div class=\"clear\"></div><div class=\"image col-lg-4 col-md-5 col-sm-5 col-xs-12\"><a class=\"tileLink\" href=\"//www.thefamouspeople.com/profiles/beyonce-knowles-4117.php\"><img alt=\"Beyonce Knowles\" class=\"combi-profile-img\" data-src=\"//www.thefamouspeople.com/profiles/thumbs/beyonce-knowles-6.jpg\" height=\"250\" src=\"\" title=\"Beyonce Knowles\" width=\"300\"/></a><div style=\"text-align:center;display: flex;justify-content: center;\"><div style=\"display:flex;flex-direction:column;align-items: center;\"><i class=\"fa fa-thumbs-o-up like-btn-4117\" data-id=\"4117\" data-placement=\"top\" data-toggle=\"tooltip\" onclick=\"_gaq.push(['_trackEvent', 'CatVote', 'Up-Vote-Clicked', 'Beyonce Knowles']);\" style=\"width:50px;height:50px;\" title=\"Vote For Your Favourite Singers\"></i><span class=\"likes likes-4117\">1447</span></div><div style=\"display:flex;flex-direction:column;align-items: center;\"><i class=\"fa fa-thumbs-o-down dislike-btn-4117\" data-id=\"4117\" data-placement=\"top\" data-toggle=\"tooltip\" onclick=\"_gaq.push(['_trackEvent', 'CatVote', 'Down-Vote-Clicked', 'Beyonce Knowles']);\" style=\"width:50px;height:50px;\" title=\"Vote For Your Favourite Singers\"></i><span class=\"dislikes dislikes-4117\">858</span></div></div></div><div class=\"col-lg-8 col-md-7 col-sm-7 col-xs-12 rt-text-display\"><div class=\"desc-q\"><b>Listed In: </b><a href=\"//www.thefamouspeople.com/pop-singers.php\">Pop Singers</a>, <a href=\"//www.thefamouspeople.com/rhythm-blues-singers.php\">Rhythm &amp; Blues Singers</a></div><div class=\"desc-q\"><b>Birthdate: </b>September 4, 1981</div><div class=\"desc-q\"><b>Sun Sign: </b>Virgo</div><div class=\"desc-q\"><b>Birthplace: </b>Houston, Texas, United States</div><div class=\"desc descEvent\"><p>Beyonce Knowles is a singer, songwriter, and actress. She developed an interest in music as a child. As a teenager, she became the lead singer of <em>Destiny's Child</em>, one of the best-selling girl groups of all time. She is one of the world's best-selling recording artists and one of the highest-earning black musicians of all time</p></div></div><script>$(document).ready(function(){var pid =4117;var proname='';var page_url='//www.thefamouspeople.com/singers.php'; var ip = '2a06:98c0:3600::103'; var list_id = ' 25'; var uid ='7539142f08306d9c304dea98154572fa'; var page_type='category_parent'; var parent_cat_id = '0';$(\".like-btn-\"+pid).on(\"click\",function(){var s=$(this).data(\"id\");($clicked_btn=$(this)).hasClass(\"fa-thumbs-o-up\")?action=\"like\":$clicked_btn.hasClass(\"fa-thumbs-up\")&&(action=\"unlike\"),$.ajax({url:\"serverfile.php\",type:\"POST\",data:{action:action,post_id:s,user_id:uid,ip:ip,list_id:list_id,page_type:page_type,parent_cat_id:parent_cat_id,page_url:page_url,proname:proname},success:function(s){res=JSON.parse(s),\"like\"==action?($clicked_btn.removeClass(\"fa-thumbs-o-up\"),$clicked_btn.addClass(\"fa-thumbs-up\")):\"unlike\"==action&&($clicked_btn.removeClass(\"fa-thumbs-up\"),$clicked_btn.addClass(\"fa-thumbs-o-up\")),$(\".likes-\"+pid).text(res.likes),$(\".dislikes-\"+pid).text(res.dislikes),$(\".dislike-btn-\"+pid).removeClass(\"fa-thumbs-down\").addClass(\"fa-thumbs-o-down\")}})}),$(\".dislike-btn-\"+pid).on(\"click\",function(){var s=$(this).data(\"id\");($clicked_btn=$(this)).hasClass(\"fa-thumbs-o-down\")?action=\"dislike\":$clicked_btn.hasClass(\"fa-thumbs-down\")&&(action=\"undislike\"),$.ajax({url:\"serverfile.php\",type:\"POST\",data:{action:action,post_id:s,user_id:uid,ip:ip,list_id:list_id,page_type:page_type,parent_cat_id:parent_cat_id,page_url:page_url,proname:proname},success:function(s){res=JSON.parse(s),\"dislike\"==action?($clicked_btn.removeClass(\"fa-thumbs-o-down\"),$clicked_btn.addClass(\"fa-thumbs-down\")):\"undislike\"==action&&($clicked_btn.removeClass(\"fa-thumbs-down\"),$clicked_btn.addClass(\"fa-thumbs-o-down\")),$(\".likes-\"+pid).text(res.likes),$(\".dislikes-\"+pid).text(res.dislikes),$(\".like-btn-\"+pid).removeClass(\"fa-thumbs-up\").addClass(\"fa-thumbs-o-up\")}})});});</script></article></div><div class=\"clear\"></div><div class=\"wrapper\"><article class=\"feature col-lg-12 col-md-12 col-sm-12 col-xs-12 eventt internal_space\"><div class=\"ptitle\"><div style=\"display: flex;align-items: baseline;\"><div class=\"number\"> 12 </div><div class=\"ptitle-internal\" style=\"display:flex;flex-direction:column;\"><a class=\"tileLink\" href=\"//www.thefamouspeople.com/profiles/dua-lipa-40875.php\">Dua Lipa</a><div class=\"\" style=\"font-size:14px;color:#666;margin-top: 0.5em;line-height: 1.6;\">(Singer-Songwriter)</div></div><div class=\"clear\"></div></div><div class=\"clear\"></div></div><div class=\"clear\"></div><div class=\"image col-lg-4 col-md-5 col-sm-5 col-xs-12\"><a class=\"tileLink\" href=\"//www.thefamouspeople.com/profiles/dua-lipa-40875.php\"><img alt=\"Dua Lipa\" class=\"combi-profile-img\" data-src=\"//www.thefamouspeople.com/profiles/thumbs/dua-lipa-1.jpg\" height=\"250\" src=\"\" title=\"Dua Lipa\" width=\"300\"/></a><div style=\"text-align:center;display: flex;justify-content: center;\"><div style=\"display:flex;flex-direction:column;align-items: center;\"><i class=\"fa fa-thumbs-o-up like-btn-40875\" data-id=\"40875\" data-placement=\"top\" data-toggle=\"tooltip\" onclick=\"_gaq.push(['_trackEvent', 'CatVote', 'Up-Vote-Clicked', 'Dua Lipa']);\" style=\"width:50px;height:50px;\" title=\"Vote For Your Favourite Singers\"></i><span class=\"likes likes-40875\">939</span></div><div style=\"display:flex;flex-direction:column;align-items: center;\"><i class=\"fa fa-thumbs-o-down dislike-btn-40875\" data-id=\"40875\" data-placement=\"top\" data-toggle=\"tooltip\" onclick=\"_gaq.push(['_trackEvent', 'CatVote', 'Down-Vote-Clicked', 'Dua Lipa']);\" style=\"width:50px;height:50px;\" title=\"Vote For Your Favourite Singers\"></i><span class=\"dislikes dislikes-40875\">522</span></div></div></div><div class=\"col-lg-8 col-md-7 col-sm-7 col-xs-12 rt-text-display\"><div class=\"desc-q\"><b>Listed In: </b><a href=\"//www.thefamouspeople.com/pop-singers.php\">Pop Singers</a></div><div class=\"desc-q\"><b>Birthdate: </b>August 22, 1995</div><div class=\"desc-q\"><b>Sun Sign: </b>Leo</div><div class=\"desc-q\"><b>Birthplace: </b>London, England</div><div class=\"desc descEvent\"><p>At fourteen, singer Dua Lipa began her career by posting covers of famous songs on YouTube. She soon signed a contract with Warner Music Group and shot into fame with the release of her eponymous chart topping debut album. Since then, she has released her critically acclaimed second album, bagged two Grammys and created history at 2018 BRIT Awards.</p></div></div><script>$(document).ready(function(){var pid =40875;var proname='';var page_url='//www.thefamouspeople.com/singers.php'; var ip = '2a06:98c0:3600::103'; var list_id = ' 25'; var uid ='7539142f08306d9c304dea98154572fa'; var page_type='category_parent'; var parent_cat_id = '0';$(\".like-btn-\"+pid).on(\"click\",function(){var s=$(this).data(\"id\");($clicked_btn=$(this)).hasClass(\"fa-thumbs-o-up\")?action=\"like\":$clicked_btn.hasClass(\"fa-thumbs-up\")&&(action=\"unlike\"),$.ajax({url:\"serverfile.php\",type:\"POST\",data:{action:action,post_id:s,user_id:uid,ip:ip,list_id:list_id,page_type:page_type,parent_cat_id:parent_cat_id,page_url:page_url,proname:proname},success:function(s){res=JSON.parse(s),\"like\"==action?($clicked_btn.removeClass(\"fa-thumbs-o-up\"),$clicked_btn.addClass(\"fa-thumbs-up\")):\"unlike\"==action&&($clicked_btn.removeClass(\"fa-thumbs-up\"),$clicked_btn.addClass(\"fa-thumbs-o-up\")),$(\".likes-\"+pid).text(res.likes),$(\".dislikes-\"+pid).text(res.dislikes),$(\".dislike-btn-\"+pid).removeClass(\"fa-thumbs-down\").addClass(\"fa-thumbs-o-down\")}})}),$(\".dislike-btn-\"+pid).on(\"click\",function(){var s=$(this).data(\"id\");($clicked_btn=$(this)).hasClass(\"fa-thumbs-o-down\")?action=\"dislike\":$clicked_btn.hasClass(\"fa-thumbs-down\")&&(action=\"undislike\"),$.ajax({url:\"serverfile.php\",type:\"POST\",data:{action:action,post_id:s,user_id:uid,ip:ip,list_id:list_id,page_type:page_type,parent_cat_id:parent_cat_id,page_url:page_url,proname:proname},success:function(s){res=JSON.parse(s),\"dislike\"==action?($clicked_btn.removeClass(\"fa-thumbs-o-down\"),$clicked_btn.addClass(\"fa-thumbs-down\")):\"undislike\"==action&&($clicked_btn.removeClass(\"fa-thumbs-down\"),$clicked_btn.addClass(\"fa-thumbs-o-down\")),$(\".likes-\"+pid).text(res.likes),$(\".dislikes-\"+pid).text(res.dislikes),$(\".like-btn-\"+pid).removeClass(\"fa-thumbs-up\").addClass(\"fa-thumbs-o-up\")}})});});</script></article></div><div class=\"clear\"></div><div style=\"margin-bottom:10px;margin-top:5px;\"><div class=\"ddl\" style=\"font-weight:700;color:#2b2b2b;\"><span class=\"rec_text\">Recommended Lists: </span><div class=\"combi_links\"> <a class=\"catmorelinks\" href=\"//www.thefamouspeople.com/hard-rock-singers.php\">Hard Rock Singers</a> </div><div class=\"combi_links\"> <a class=\"catmorelinks\" href=\"//www.thefamouspeople.com/hip-hop-rappers.php\">Hip Hop Singers</a> </div></div></div><div class=\"wrapper\"><article class=\"feature col-lg-12 col-md-12 col-sm-12 col-xs-12 eventt internal_space\"><div class=\"ptitle\"><div style=\"display: flex;align-items: baseline;\"><div class=\"number\"> 13 </div><div class=\"ptitle-internal\" style=\"display:flex;flex-direction:column;\"><a class=\"tileLink\" href=\"//www.thefamouspeople.com/profiles/rihanna-6579.php\">Rihanna</a><div class=\"\" style=\"font-size:14px;color:#666;margin-top: 0.5em;line-height: 1.6;\">(One of the Best-Selling Female Pop and R&amp;B Artist In History)</div></div><div class=\"clear\"></div></div><div class=\"clear\"></div></div><div class=\"clear\"></div><div class=\"image col-lg-4 col-md-5 col-sm-5 col-xs-12\"><a class=\"tileLink\" href=\"//www.thefamouspeople.com/profiles/rihanna-6579.php\"><img alt=\"Rihanna\" class=\"combi-profile-img\" data-src=\"//www.thefamouspeople.com/profiles/thumbs/rihanna-1.jpg\" height=\"250\" src=\"\" title=\"Rihanna\" width=\"300\"/></a><div style=\"text-align:center;display: flex;justify-content: center;\"><div style=\"display:flex;flex-direction:column;align-items: center;\"><i class=\"fa fa-thumbs-o-up like-btn-6579\" data-id=\"6579\" data-placement=\"top\" data-toggle=\"tooltip\" onclick=\"_gaq.push(['_trackEvent', 'CatVote', 'Up-Vote-Clicked', 'Rihanna']);\" style=\"width:50px;height:50px;\" title=\"Vote For Your Favourite Singers\"></i><span class=\"likes likes-6579\">723</span></div><div style=\"display:flex;flex-direction:column;align-items: center;\"><i class=\"fa fa-thumbs-o-down dislike-btn-6579\" data-id=\"6579\" data-placement=\"top\" data-toggle=\"tooltip\" onclick=\"_gaq.push(['_trackEvent', 'CatVote', 'Down-Vote-Clicked', 'Rihanna']);\" style=\"width:50px;height:50px;\" title=\"Vote For Your Favourite Singers\"></i><span class=\"dislikes dislikes-6579\">323</span></div></div></div><div class=\"col-lg-8 col-md-7 col-sm-7 col-xs-12 rt-text-display\"><div class=\"desc-q\"><b>Listed In: </b><a href=\"//www.thefamouspeople.com/pop-singers.php\">Pop Singers</a>, <a href=\"//www.thefamouspeople.com/rhythm-blues-singers.php\">Rhythm &amp; Blues Singers</a>, <a href=\"//www.thefamouspeople.com/lyricists.php\">Lyricists &amp; Songwriters</a></div><div class=\"desc-q\"><b>Birthdate: </b>February 20, 1988</div><div class=\"desc-q\"><b>Sun Sign: </b>Pisces</div><div class=\"desc-q\"><b>Birthplace: </b>Saint Michael, Barbados</div><div class=\"desc descEvent\"><p>For anyone who has a penchant for music, Rihanna needs no introduction. Born as Robyn Rihanna Fenty, Rihanna is one of the most influential names in the music and fashion industry. Her effortless singing, catchy tunes and inimitable dance moves have won her eight Grammy Awards, eight American Music Awards, twelve Billboard Music Awards and two BRIT Awards.</p></div></div><script>$(document).ready(function(){var pid =6579;var proname='';var page_url='//www.thefamouspeople.com/singers.php'; var ip = '2a06:98c0:3600::103'; var list_id = ' 25'; var uid ='7539142f08306d9c304dea98154572fa'; var page_type='category_parent'; var parent_cat_id = '0';$(\".like-btn-\"+pid).on(\"click\",function(){var s=$(this).data(\"id\");($clicked_btn=$(this)).hasClass(\"fa-thumbs-o-up\")?action=\"like\":$clicked_btn.hasClass(\"fa-thumbs-up\")&&(action=\"unlike\"),$.ajax({url:\"serverfile.php\",type:\"POST\",data:{action:action,post_id:s,user_id:uid,ip:ip,list_id:list_id,page_type:page_type,parent_cat_id:parent_cat_id,page_url:page_url,proname:proname},success:function(s){res=JSON.parse(s),\"like\"==action?($clicked_btn.removeClass(\"fa-thumbs-o-up\"),$clicked_btn.addClass(\"fa-thumbs-up\")):\"unlike\"==action&&($clicked_btn.removeClass(\"fa-thumbs-up\"),$clicked_btn.addClass(\"fa-thumbs-o-up\")),$(\".likes-\"+pid).text(res.likes),$(\".dislikes-\"+pid).text(res.dislikes),$(\".dislike-btn-\"+pid).removeClass(\"fa-thumbs-down\").addClass(\"fa-thumbs-o-down\")}})}),$(\".dislike-btn-\"+pid).on(\"click\",function(){var s=$(this).data(\"id\");($clicked_btn=$(this)).hasClass(\"fa-thumbs-o-down\")?action=\"dislike\":$clicked_btn.hasClass(\"fa-thumbs-down\")&&(action=\"undislike\"),$.ajax({url:\"serverfile.php\",type:\"POST\",data:{action:action,post_id:s,user_id:uid,ip:ip,list_id:list_id,page_type:page_type,parent_cat_id:parent_cat_id,page_url:page_url,proname:proname},success:function(s){res=JSON.parse(s),\"dislike\"==action?($clicked_btn.removeClass(\"fa-thumbs-o-down\"),$clicked_btn.addClass(\"fa-thumbs-down\")):\"undislike\"==action&&($clicked_btn.removeClass(\"fa-thumbs-down\"),$clicked_btn.addClass(\"fa-thumbs-o-down\")),$(\".likes-\"+pid).text(res.likes),$(\".dislikes-\"+pid).text(res.dislikes),$(\".like-btn-\"+pid).removeClass(\"fa-thumbs-up\").addClass(\"fa-thumbs-o-up\")}})});});</script></article></div><div class=\"clear\"></div><div class=\"wrapper\"><article class=\"feature col-lg-12 col-md-12 col-sm-12 col-xs-12 eventt internal_space\"><div class=\"ptitle\"><div style=\"display: flex;align-items: baseline;\"><div class=\"number\"> 14 </div><div class=\"ptitle-internal\" style=\"display:flex;flex-direction:column;\"><a class=\"tileLink\" href=\"//www.thefamouspeople.com/profiles/jennifer-lynn-lopez-1800.php\">Jennifer Lopez</a><div class=\"\" style=\"font-size:14px;color:#666;margin-top: 0.5em;line-height: 1.6;\">(Singer, Actress, Dancer)</div></div><div class=\"clear\"></div></div><div class=\"clear\"></div></div><div class=\"clear\"></div><div class=\"image col-lg-4 col-md-5 col-sm-5 col-xs-12\"><a class=\"tileLink\" href=\"//www.thefamouspeople.com/profiles/jennifer-lynn-lopez-1800.php\"><img alt=\"Jennifer Lopez\" class=\"combi-profile-img\" data-src=\"//www.thefamouspeople.com/profiles/thumbs/jennifer-lopez-2.jpg\" height=\"250\" src=\"\" title=\"Jennifer Lopez\" width=\"300\"/></a><div style=\"text-align:center;display: flex;justify-content: center;\"><div style=\"display:flex;flex-direction:column;align-items: center;\"><i class=\"fa fa-thumbs-o-up like-btn-1800\" data-id=\"1800\" data-placement=\"top\" data-toggle=\"tooltip\" onclick=\"_gaq.push(['_trackEvent', 'CatVote', 'Up-Vote-Clicked', 'Jennifer Lopez']);\" style=\"width:50px;height:50px;\" title=\"Vote For Your Favourite Singers\"></i><span class=\"likes likes-1800\">504</span></div><div style=\"display:flex;flex-direction:column;align-items: center;\"><i class=\"fa fa-thumbs-o-down dislike-btn-1800\" data-id=\"1800\" data-placement=\"top\" data-toggle=\"tooltip\" onclick=\"_gaq.push(['_trackEvent', 'CatVote', 'Down-Vote-Clicked', 'Jennifer Lopez']);\" style=\"width:50px;height:50px;\" title=\"Vote For Your Favourite Singers\"></i><span class=\"dislikes dislikes-1800\">370</span></div></div></div><div class=\"col-lg-8 col-md-7 col-sm-7 col-xs-12 rt-text-display\"><div class=\"desc-q\"><b>Listed In: </b><a href=\"//www.thefamouspeople.com/pop-singers.php\">Pop Singers</a>, <a href=\"//www.thefamouspeople.com/hip-hop-rappers.php\">Hip Hop Singers</a>, <a href=\"//www.thefamouspeople.com/rhythm-blues-singers.php\">Rhythm &amp; Blues Singers</a></div><div class=\"desc-q\"><b>Birthdate: </b>July 24, 1969</div><div class=\"desc-q\"><b>Sun Sign: </b>Leo</div><div class=\"desc-q\"><b>Birthplace: </b>Castle Hill, New York, United States</div><div class=\"desc descEvent\"><p>Jennifer Lopez established herself as the highest-paid Latin actress in Hollywood after starring in films such as <em>Out of Sight</em>, <em>The Wedding Planner</em>, <em>Maid in Manhattan</em> and <em>Shall We Dance</em>’. She is also an accomplished dancer and commercially very successful singer. She helped propel the Latin pop movement in American music. She is also a fashion designer and a businesswoman.</p></div></div><script>$(document).ready(function(){var pid =1800;var proname='';var page_url='//www.thefamouspeople.com/singers.php'; var ip = '2a06:98c0:3600::103'; var list_id = ' 25'; var uid ='7539142f08306d9c304dea98154572fa'; var page_type='category_parent'; var parent_cat_id = '0';$(\".like-btn-\"+pid).on(\"click\",function(){var s=$(this).data(\"id\");($clicked_btn=$(this)).hasClass(\"fa-thumbs-o-up\")?action=\"like\":$clicked_btn.hasClass(\"fa-thumbs-up\")&&(action=\"unlike\"),$.ajax({url:\"serverfile.php\",type:\"POST\",data:{action:action,post_id:s,user_id:uid,ip:ip,list_id:list_id,page_type:page_type,parent_cat_id:parent_cat_id,page_url:page_url,proname:proname},success:function(s){res=JSON.parse(s),\"like\"==action?($clicked_btn.removeClass(\"fa-thumbs-o-up\"),$clicked_btn.addClass(\"fa-thumbs-up\")):\"unlike\"==action&&($clicked_btn.removeClass(\"fa-thumbs-up\"),$clicked_btn.addClass(\"fa-thumbs-o-up\")),$(\".likes-\"+pid).text(res.likes),$(\".dislikes-\"+pid).text(res.dislikes),$(\".dislike-btn-\"+pid).removeClass(\"fa-thumbs-down\").addClass(\"fa-thumbs-o-down\")}})}),$(\".dislike-btn-\"+pid).on(\"click\",function(){var s=$(this).data(\"id\");($clicked_btn=$(this)).hasClass(\"fa-thumbs-o-down\")?action=\"dislike\":$clicked_btn.hasClass(\"fa-thumbs-down\")&&(action=\"undislike\"),$.ajax({url:\"serverfile.php\",type:\"POST\",data:{action:action,post_id:s,user_id:uid,ip:ip,list_id:list_id,page_type:page_type,parent_cat_id:parent_cat_id,page_url:page_url,proname:proname},success:function(s){res=JSON.parse(s),\"dislike\"==action?($clicked_btn.removeClass(\"fa-thumbs-o-down\"),$clicked_btn.addClass(\"fa-thumbs-down\")):\"undislike\"==action&&($clicked_btn.removeClass(\"fa-thumbs-down\"),$clicked_btn.addClass(\"fa-thumbs-o-down\")),$(\".likes-\"+pid).text(res.likes),$(\".dislikes-\"+pid).text(res.dislikes),$(\".like-btn-\"+pid).removeClass(\"fa-thumbs-up\").addClass(\"fa-thumbs-o-up\")}})});});</script></article></div><div class=\"clear\"></div><div style=\"margin-bottom:10px;margin-top:5px;\"><div class=\"ddl\" style=\"font-weight:700;color:#2b2b2b;\"><span class=\"rec_text\">Recommended Lists: </span><div class=\"combi_links\"> <a class=\"catmorelinks\" href=\"//www.thefamouspeople.com/indie-pop-singers.php\">Indie Pop Singers</a> </div><div class=\"combi_links\"> <a class=\"catmorelinks\" href=\"//www.thefamouspeople.com/jazz-singers.php\">Jazz Singers</a> </div></div></div><div class=\"wrapper\"><article class=\"feature col-lg-12 col-md-12 col-sm-12 col-xs-12 eventt internal_space\"><div class=\"ptitle\"><div style=\"display: flex;align-items: baseline;\"><div class=\"number\"> 15 </div><div class=\"ptitle-internal\" style=\"display:flex;flex-direction:column;\"><a class=\"tileLink\" href=\"//www.thefamouspeople.com/profiles/adele-6088.php\">Adele</a><div class=\"\" style=\"font-size:14px;color:#666;margin-top: 0.5em;line-height: 1.6;\">(One of the Best-Selling Music Artists Known for Her Multi-Platinum Certified Albums '19' and '21')</div></div><div class=\"clear\"></div></div><div class=\"clear\"></div></div><div class=\"clear\"></div><div class=\"image col-lg-4 col-md-5 col-sm-5 col-xs-12\"><a class=\"tileLink\" href=\"//www.thefamouspeople.com/profiles/adele-6088.php\"><img alt=\"Adele\" class=\"combi-profile-img\" data-src=\"//www.thefamouspeople.com/profiles/thumbs/adele-3.jpg\" height=\"250\" src=\"\" title=\"Adele\" width=\"300\"/></a><div style=\"text-align:center;display: flex;justify-content: center;\"><div style=\"display:flex;flex-direction:column;align-items: center;\"><i class=\"fa fa-thumbs-o-up like-btn-6088\" data-id=\"6088\" data-placement=\"top\" data-toggle=\"tooltip\" onclick=\"_gaq.push(['_trackEvent', 'CatVote', 'Up-Vote-Clicked', 'Adele']);\" style=\"width:50px;height:50px;\" title=\"Vote For Your Favourite Singers\"></i><span class=\"likes likes-6088\">739</span></div><div style=\"display:flex;flex-direction:column;align-items: center;\"><i class=\"fa fa-thumbs-o-down dislike-btn-6088\" data-id=\"6088\" data-placement=\"top\" data-toggle=\"tooltip\" onclick=\"_gaq.push(['_trackEvent', 'CatVote', 'Down-Vote-Clicked', 'Adele']);\" style=\"width:50px;height:50px;\" title=\"Vote For Your Favourite Singers\"></i><span class=\"dislikes dislikes-6088\">277</span></div></div></div><div class=\"col-lg-8 col-md-7 col-sm-7 col-xs-12 rt-text-display\"><div class=\"desc-q\"><b>Listed In: </b><a href=\"//www.thefamouspeople.com/soul-singers.php\">Soul Singers</a>, <a href=\"//www.thefamouspeople.com/pop-singers.php\">Pop Singers</a>, <a href=\"//www.thefamouspeople.com/lyricists.php\">Lyricists &amp; Songwriters</a></div><div class=\"desc-q\"><b>Birthdate: </b>May 5, 1988</div><div class=\"desc-q\"><b>Sun Sign: </b>Taurus</div><div class=\"desc-q\"><b>Birthplace: </b>London, England, United Kingdom</div><div class=\"desc descEvent\"><p>Adele is one of the most successful female music artists from England. She is one of the best-selling music artists in the world, having sold over 120 million records. The recipient of numerous awards, Adele also holds several <strong>Guinness World Records</strong>. In 2012 and 2016, she was named in <em>Time </em>magazine's list of <em>most influential people in the world</em>.</p></div></div><script>$(document).ready(function(){var pid =6088;var proname='';var page_url='//www.thefamouspeople.com/singers.php'; var ip = '2a06:98c0:3600::103'; var list_id = ' 25'; var uid ='7539142f08306d9c304dea98154572fa'; var page_type='category_parent'; var parent_cat_id = '0';$(\".like-btn-\"+pid).on(\"click\",function(){var s=$(this).data(\"id\");($clicked_btn=$(this)).hasClass(\"fa-thumbs-o-up\")?action=\"like\":$clicked_btn.hasClass(\"fa-thumbs-up\")&&(action=\"unlike\"),$.ajax({url:\"serverfile.php\",type:\"POST\",data:{action:action,post_id:s,user_id:uid,ip:ip,list_id:list_id,page_type:page_type,parent_cat_id:parent_cat_id,page_url:page_url,proname:proname},success:function(s){res=JSON.parse(s),\"like\"==action?($clicked_btn.removeClass(\"fa-thumbs-o-up\"),$clicked_btn.addClass(\"fa-thumbs-up\")):\"unlike\"==action&&($clicked_btn.removeClass(\"fa-thumbs-up\"),$clicked_btn.addClass(\"fa-thumbs-o-up\")),$(\".likes-\"+pid).text(res.likes),$(\".dislikes-\"+pid).text(res.dislikes),$(\".dislike-btn-\"+pid).removeClass(\"fa-thumbs-down\").addClass(\"fa-thumbs-o-down\")}})}),$(\".dislike-btn-\"+pid).on(\"click\",function(){var s=$(this).data(\"id\");($clicked_btn=$(this)).hasClass(\"fa-thumbs-o-down\")?action=\"dislike\":$clicked_btn.hasClass(\"fa-thumbs-down\")&&(action=\"undislike\"),$.ajax({url:\"serverfile.php\",type:\"POST\",data:{action:action,post_id:s,user_id:uid,ip:ip,list_id:list_id,page_type:page_type,parent_cat_id:parent_cat_id,page_url:page_url,proname:proname},success:function(s){res=JSON.parse(s),\"dislike\"==action?($clicked_btn.removeClass(\"fa-thumbs-o-down\"),$clicked_btn.addClass(\"fa-thumbs-down\")):\"undislike\"==action&&($clicked_btn.removeClass(\"fa-thumbs-down\"),$clicked_btn.addClass(\"fa-thumbs-o-down\")),$(\".likes-\"+pid).text(res.likes),$(\".dislikes-\"+pid).text(res.dislikes),$(\".like-btn-\"+pid).removeClass(\"fa-thumbs-up\").addClass(\"fa-thumbs-o-up\")}})});});</script></article></div><div class=\"clear\"></div><div class=\"col-lg-12 col-md-12 col-xs-12 col-sm-12\" style=\"margin:20px 0px;height:250px;\"><div class=\"center-ad desktop_ad\">\n",
       "<div class=\"_ap_apex_ad\" id=\"5655a656-98ad-4563-9ec0-8f844b708ca6\">\n",
       "<script>\n",
       "var adpushup = window.adpushup = window.adpushup || {};\n",
       "adpushup.que = adpushup.que || [];\n",
       "adpushup.que.push(function() {\n",
       "\tadpushup.triggerAd(\"5655a656-98ad-4563-9ec0-8f844b708ca6\");\n",
       "});\n",
       "</script>\n",
       "</div>\n",
       "</div><div class=\"center-ad tablet_ad\">\n",
       "<div class=\"_ap_apex_ad\" id=\"5655a656-98ad-4563-9ec0-8f844b708ca6\">\n",
       "<script>\n",
       "var adpushup = window.adpushup = window.adpushup || {};\n",
       "adpushup.que = adpushup.que || [];\n",
       "adpushup.que.push(function() {\n",
       "\tadpushup.triggerAd(\"5655a656-98ad-4563-9ec0-8f844b708ca6\");\n",
       "});\n",
       "</script>\n",
       "</div>\n",
       "</div><div class=\"center-ad mobile_ad\">\n",
       "<div class=\"_ap_apex_ad\" id=\"2fc1129b-a969-4ae5-bc29-2ffea14b72f9\">\n",
       "<script>\n",
       "var adpushup = window.adpushup = window.adpushup || {};\n",
       "adpushup.que = adpushup.que || [];\n",
       "adpushup.que.push(function() {\n",
       "\tadpushup.triggerAd(\"2fc1129b-a969-4ae5-bc29-2ffea14b72f9\");\n",
       "});\n",
       "</script>\n",
       "</div>\n",
       "</div></div><div class=\"clear\"></div><div class=\"wrapper\"><article class=\"feature col-lg-12 col-md-12 col-sm-12 col-xs-12 eventt internal_space\"><div class=\"ptitle\"><div style=\"display: flex;align-items: baseline;\"><div class=\"number\"> 16 </div><div class=\"ptitle-internal\" style=\"display:flex;flex-direction:column;\"><a class=\"tileLink\" href=\"//www.thefamouspeople.com/profiles/ed-sheeran-29882.php\">Ed Sheeran</a><div class=\"\" style=\"font-size:14px;color:#666;margin-top: 0.5em;line-height: 1.6;\">(Singer)</div></div><div class=\"clear\"></div></div><div class=\"clear\"></div></div><div class=\"clear\"></div><div class=\"image col-lg-4 col-md-5 col-sm-5 col-xs-12\"><a class=\"tileLink\" href=\"//www.thefamouspeople.com/profiles/ed-sheeran-29882.php\"><img alt=\"Ed Sheeran\" class=\"combi-profile-img\" data-src=\"//www.thefamouspeople.com/profiles/thumbs/ed-sheeran-1.jpg\" height=\"250\" src=\"\" title=\"Ed Sheeran\" width=\"300\"/></a><div style=\"text-align:center;display: flex;justify-content: center;\"><div style=\"display:flex;flex-direction:column;align-items: center;\"><i class=\"fa fa-thumbs-o-up like-btn-29882\" data-id=\"29882\" data-placement=\"top\" data-toggle=\"tooltip\" onclick=\"_gaq.push(['_trackEvent', 'CatVote', 'Up-Vote-Clicked', 'Ed Sheeran']);\" style=\"width:50px;height:50px;\" title=\"Vote For Your Favourite Singers\"></i><span class=\"likes likes-29882\">822</span></div><div style=\"display:flex;flex-direction:column;align-items: center;\"><i class=\"fa fa-thumbs-o-down dislike-btn-29882\" data-id=\"29882\" data-placement=\"top\" data-toggle=\"tooltip\" onclick=\"_gaq.push(['_trackEvent', 'CatVote', 'Down-Vote-Clicked', 'Ed Sheeran']);\" style=\"width:50px;height:50px;\" title=\"Vote For Your Favourite Singers\"></i><span class=\"dislikes dislikes-29882\">382</span></div></div></div><div class=\"col-lg-8 col-md-7 col-sm-7 col-xs-12 rt-text-display\"><div class=\"desc-q\"><b>Listed In: </b><a href=\"//www.thefamouspeople.com/folk-singers.php\">Folk Singers</a>, <a href=\"//www.thefamouspeople.com/pop-singers.php\">Pop Singers</a></div><div class=\"desc-q\"><b>Birthdate: </b>February 17, 1991</div><div class=\"desc-q\"><b>Sun Sign: </b>Aquarius</div><div class=\"desc-q\"><b>Birthplace: </b>Halifax, West Yorkshire, England</div><div class=\"desc descEvent\"><p>Ed Sheeran is one of the most popular English singer-songwriters of the current generation. His songs <em>Castle on the Hill</em> and <em>Shape of You</em> from his third studio album broke records in several countries. He is one of the best-selling music artists in the world, having sold over 150 million records worldwide.</p></div></div><script>$(document).ready(function(){var pid =29882;var proname='';var page_url='//www.thefamouspeople.com/singers.php'; var ip = '2a06:98c0:3600::103'; var list_id = ' 25'; var uid ='7539142f08306d9c304dea98154572fa'; var page_type='category_parent'; var parent_cat_id = '0';$(\".like-btn-\"+pid).on(\"click\",function(){var s=$(this).data(\"id\");($clicked_btn=$(this)).hasClass(\"fa-thumbs-o-up\")?action=\"like\":$clicked_btn.hasClass(\"fa-thumbs-up\")&&(action=\"unlike\"),$.ajax({url:\"serverfile.php\",type:\"POST\",data:{action:action,post_id:s,user_id:uid,ip:ip,list_id:list_id,page_type:page_type,parent_cat_id:parent_cat_id,page_url:page_url,proname:proname},success:function(s){res=JSON.parse(s),\"like\"==action?($clicked_btn.removeClass(\"fa-thumbs-o-up\"),$clicked_btn.addClass(\"fa-thumbs-up\")):\"unlike\"==action&&($clicked_btn.removeClass(\"fa-thumbs-up\"),$clicked_btn.addClass(\"fa-thumbs-o-up\")),$(\".likes-\"+pid).text(res.likes),$(\".dislikes-\"+pid).text(res.dislikes),$(\".dislike-btn-\"+pid).removeClass(\"fa-thumbs-down\").addClass(\"fa-thumbs-o-down\")}})}),$(\".dislike-btn-\"+pid).on(\"click\",function(){var s=$(this).data(\"id\");($clicked_btn=$(this)).hasClass(\"fa-thumbs-o-down\")?action=\"dislike\":$clicked_btn.hasClass(\"fa-thumbs-down\")&&(action=\"undislike\"),$.ajax({url:\"serverfile.php\",type:\"POST\",data:{action:action,post_id:s,user_id:uid,ip:ip,list_id:list_id,page_type:page_type,parent_cat_id:parent_cat_id,page_url:page_url,proname:proname},success:function(s){res=JSON.parse(s),\"dislike\"==action?($clicked_btn.removeClass(\"fa-thumbs-o-down\"),$clicked_btn.addClass(\"fa-thumbs-down\")):\"undislike\"==action&&($clicked_btn.removeClass(\"fa-thumbs-down\"),$clicked_btn.addClass(\"fa-thumbs-o-down\")),$(\".likes-\"+pid).text(res.likes),$(\".dislikes-\"+pid).text(res.dislikes),$(\".like-btn-\"+pid).removeClass(\"fa-thumbs-up\").addClass(\"fa-thumbs-o-up\")}})});});</script></article></div><div class=\"clear\"></div><div style=\"margin-bottom:10px;margin-top:5px;\"><div class=\"ddl\" style=\"font-weight:700;color:#2b2b2b;\"><span class=\"rec_text\">Recommended Lists: </span><div class=\"combi_links\"> <a class=\"catmorelinks\" href=\"//www.thefamouspeople.com/k-pop.php\">K-Pop Singers</a> </div><div class=\"combi_links\"> <a class=\"catmorelinks\" href=\"//www.thefamouspeople.com/opera-singers.php\">Opera Singers</a> </div></div></div><div class=\"wrapper\"><article class=\"feature col-lg-12 col-md-12 col-sm-12 col-xs-12 eventt internal_space\"><div class=\"ptitle\"><div style=\"display: flex;align-items: baseline;\"><div class=\"number\"> 17 </div><div class=\"ptitle-internal\" style=\"display:flex;flex-direction:column;\"><a class=\"tileLink\" href=\"//www.thefamouspeople.com/profiles/harry-styles-15979.php\">Harry Styles</a><div class=\"\" style=\"font-size:14px;color:#666;margin-top: 0.5em;line-height: 1.6;\">(Singer and Actor)</div></div><div class=\"clear\"></div></div><div class=\"clear\"></div></div><div class=\"clear\"></div><div class=\"image col-lg-4 col-md-5 col-sm-5 col-xs-12\"><a class=\"tileLink\" href=\"//www.thefamouspeople.com/profiles/harry-styles-15979.php\"><img alt=\"Harry Styles\" class=\"combi-profile-img\" data-src=\"//www.thefamouspeople.com/profiles/thumbs/harry-styles-4.jpg\" height=\"250\" src=\"\" title=\"Harry Styles\" width=\"300\"/></a><div style=\"text-align:center;display: flex;justify-content: center;\"><div style=\"display:flex;flex-direction:column;align-items: center;\"><i class=\"fa fa-thumbs-o-up like-btn-15979\" data-id=\"15979\" data-placement=\"top\" data-toggle=\"tooltip\" onclick=\"_gaq.push(['_trackEvent', 'CatVote', 'Up-Vote-Clicked', 'Harry Styles']);\" style=\"width:50px;height:50px;\" title=\"Vote For Your Favourite Singers\"></i><span class=\"likes likes-15979\">898</span></div><div style=\"display:flex;flex-direction:column;align-items: center;\"><i class=\"fa fa-thumbs-o-down dislike-btn-15979\" data-id=\"15979\" data-placement=\"top\" data-toggle=\"tooltip\" onclick=\"_gaq.push(['_trackEvent', 'CatVote', 'Down-Vote-Clicked', 'Harry Styles']);\" style=\"width:50px;height:50px;\" title=\"Vote For Your Favourite Singers\"></i><span class=\"dislikes dislikes-15979\">325</span></div></div></div><div class=\"col-lg-8 col-md-7 col-sm-7 col-xs-12 rt-text-display\"><div class=\"desc-q\"><b>Listed In: </b><a href=\"//www.thefamouspeople.com/pop-singers.php\">Pop Singers</a></div><div class=\"desc-q\"><b>Birthdate: </b>February 1, 1994</div><div class=\"desc-q\"><b>Sun Sign: </b>Aquarius</div><div class=\"desc-q\"><b>Birthplace: </b>Redditch, Worcestershire, England</div><div class=\"desc descEvent\"><p>With a career that began on the stage of <strong>The X Factor</strong> to being named <strong>Billboard’s Artist of the Year</strong> in 2014, Harry Styles is a name to be reckoned with in the music industry. He is a member of the internationally successful pop band, <strong>One Direction, </strong>and is known for his flamboyance and versatility.   </p></div></div><script>$(document).ready(function(){var pid =15979;var proname='';var page_url='//www.thefamouspeople.com/singers.php'; var ip = '2a06:98c0:3600::103'; var list_id = ' 25'; var uid ='7539142f08306d9c304dea98154572fa'; var page_type='category_parent'; var parent_cat_id = '0';$(\".like-btn-\"+pid).on(\"click\",function(){var s=$(this).data(\"id\");($clicked_btn=$(this)).hasClass(\"fa-thumbs-o-up\")?action=\"like\":$clicked_btn.hasClass(\"fa-thumbs-up\")&&(action=\"unlike\"),$.ajax({url:\"serverfile.php\",type:\"POST\",data:{action:action,post_id:s,user_id:uid,ip:ip,list_id:list_id,page_type:page_type,parent_cat_id:parent_cat_id,page_url:page_url,proname:proname},success:function(s){res=JSON.parse(s),\"like\"==action?($clicked_btn.removeClass(\"fa-thumbs-o-up\"),$clicked_btn.addClass(\"fa-thumbs-up\")):\"unlike\"==action&&($clicked_btn.removeClass(\"fa-thumbs-up\"),$clicked_btn.addClass(\"fa-thumbs-o-up\")),$(\".likes-\"+pid).text(res.likes),$(\".dislikes-\"+pid).text(res.dislikes),$(\".dislike-btn-\"+pid).removeClass(\"fa-thumbs-down\").addClass(\"fa-thumbs-o-down\")}})}),$(\".dislike-btn-\"+pid).on(\"click\",function(){var s=$(this).data(\"id\");($clicked_btn=$(this)).hasClass(\"fa-thumbs-o-down\")?action=\"dislike\":$clicked_btn.hasClass(\"fa-thumbs-down\")&&(action=\"undislike\"),$.ajax({url:\"serverfile.php\",type:\"POST\",data:{action:action,post_id:s,user_id:uid,ip:ip,list_id:list_id,page_type:page_type,parent_cat_id:parent_cat_id,page_url:page_url,proname:proname},success:function(s){res=JSON.parse(s),\"dislike\"==action?($clicked_btn.removeClass(\"fa-thumbs-o-down\"),$clicked_btn.addClass(\"fa-thumbs-down\")):\"undislike\"==action&&($clicked_btn.removeClass(\"fa-thumbs-down\"),$clicked_btn.addClass(\"fa-thumbs-o-down\")),$(\".likes-\"+pid).text(res.likes),$(\".dislikes-\"+pid).text(res.dislikes),$(\".like-btn-\"+pid).removeClass(\"fa-thumbs-up\").addClass(\"fa-thumbs-o-up\")}})});});</script></article></div><div class=\"clear\"></div><div class=\"wrapper\"><article class=\"feature col-lg-12 col-md-12 col-sm-12 col-xs-12 eventt internal_space\"><div class=\"ptitle\"><div style=\"display: flex;align-items: baseline;\"><div class=\"number\"> 18 </div><div class=\"ptitle-internal\" style=\"display:flex;flex-direction:column;\"><a class=\"tileLink\" href=\"//www.thefamouspeople.com/profiles/drake-15325.php\">Drake</a><div class=\"\" style=\"font-size:14px;color:#666;margin-top: 0.5em;line-height: 1.6;\">(One of the Best-Selling Music Artists With the Most Top 10 Singles on the Billboard Hot 100)</div></div><div class=\"clear\"></div></div><div class=\"clear\"></div></div><div class=\"clear\"></div><div class=\"image col-lg-4 col-md-5 col-sm-5 col-xs-12\"><a class=\"tileLink\" href=\"//www.thefamouspeople.com/profiles/drake-15325.php\"><img alt=\"Drake\" class=\"combi-profile-img\" data-src=\"//www.thefamouspeople.com/profiles/thumbs/drake-4.jpg\" height=\"250\" src=\"\" title=\"Drake\" width=\"300\"/></a><div style=\"text-align:center;display: flex;justify-content: center;\"><div style=\"display:flex;flex-direction:column;align-items: center;\"><i class=\"fa fa-thumbs-o-up like-btn-15325\" data-id=\"15325\" data-placement=\"top\" data-toggle=\"tooltip\" onclick=\"_gaq.push(['_trackEvent', 'CatVote', 'Up-Vote-Clicked', 'Drake']);\" style=\"width:50px;height:50px;\" title=\"Vote For Your Favourite Singers\"></i><span class=\"likes likes-15325\">540</span></div><div style=\"display:flex;flex-direction:column;align-items: center;\"><i class=\"fa fa-thumbs-o-down dislike-btn-15325\" data-id=\"15325\" data-placement=\"top\" data-toggle=\"tooltip\" onclick=\"_gaq.push(['_trackEvent', 'CatVote', 'Down-Vote-Clicked', 'Drake']);\" style=\"width:50px;height:50px;\" title=\"Vote For Your Favourite Singers\"></i><span class=\"dislikes dislikes-15325\">341</span></div></div></div><div class=\"col-lg-8 col-md-7 col-sm-7 col-xs-12 rt-text-display\"><div class=\"desc-q\"><b>Listed In: </b><a href=\"//www.thefamouspeople.com/rappers.php\">Rappers</a>, <a href=\"//www.thefamouspeople.com/lyricists.php\">Lyricists &amp; Songwriters</a>, <a href=\"//www.thefamouspeople.com/hip-hop-rappers.php\">Hip Hop Singers</a></div><div class=\"desc-q\"><b>Birthdate: </b>October 24, 1986</div><div class=\"desc-q\"><b>Sun Sign: </b>Scorpio</div><div class=\"desc-q\"><b>Birthplace: </b>Toronto, Canada</div><div class=\"desc descEvent\"><p>Drake soared to fame with his performance as <strong>Jimmy Brooks </strong>in the series <strong>Degrassi: The Next Generation</strong>. He then became a rap sensation with his platinum album <strong>Thank Me Later</strong> and his <strong>Grammy</strong>-winning quadruple platinum album <strong>Take Care</strong>. His track<strong> In My Feelings </strong>went viral with the global <strong>Kiki Challenge</strong>.</p></div></div><script>$(document).ready(function(){var pid =15325;var proname='';var page_url='//www.thefamouspeople.com/singers.php'; var ip = '2a06:98c0:3600::103'; var list_id = ' 25'; var uid ='7539142f08306d9c304dea98154572fa'; var page_type='category_parent'; var parent_cat_id = '0';$(\".like-btn-\"+pid).on(\"click\",function(){var s=$(this).data(\"id\");($clicked_btn=$(this)).hasClass(\"fa-thumbs-o-up\")?action=\"like\":$clicked_btn.hasClass(\"fa-thumbs-up\")&&(action=\"unlike\"),$.ajax({url:\"serverfile.php\",type:\"POST\",data:{action:action,post_id:s,user_id:uid,ip:ip,list_id:list_id,page_type:page_type,parent_cat_id:parent_cat_id,page_url:page_url,proname:proname},success:function(s){res=JSON.parse(s),\"like\"==action?($clicked_btn.removeClass(\"fa-thumbs-o-up\"),$clicked_btn.addClass(\"fa-thumbs-up\")):\"unlike\"==action&&($clicked_btn.removeClass(\"fa-thumbs-up\"),$clicked_btn.addClass(\"fa-thumbs-o-up\")),$(\".likes-\"+pid).text(res.likes),$(\".dislikes-\"+pid).text(res.dislikes),$(\".dislike-btn-\"+pid).removeClass(\"fa-thumbs-down\").addClass(\"fa-thumbs-o-down\")}})}),$(\".dislike-btn-\"+pid).on(\"click\",function(){var s=$(this).data(\"id\");($clicked_btn=$(this)).hasClass(\"fa-thumbs-o-down\")?action=\"dislike\":$clicked_btn.hasClass(\"fa-thumbs-down\")&&(action=\"undislike\"),$.ajax({url:\"serverfile.php\",type:\"POST\",data:{action:action,post_id:s,user_id:uid,ip:ip,list_id:list_id,page_type:page_type,parent_cat_id:parent_cat_id,page_url:page_url,proname:proname},success:function(s){res=JSON.parse(s),\"dislike\"==action?($clicked_btn.removeClass(\"fa-thumbs-o-down\"),$clicked_btn.addClass(\"fa-thumbs-down\")):\"undislike\"==action&&($clicked_btn.removeClass(\"fa-thumbs-down\"),$clicked_btn.addClass(\"fa-thumbs-o-down\")),$(\".likes-\"+pid).text(res.likes),$(\".dislikes-\"+pid).text(res.dislikes),$(\".like-btn-\"+pid).removeClass(\"fa-thumbs-up\").addClass(\"fa-thumbs-o-up\")}})});});</script></article></div><div class=\"clear\"></div><div style=\"margin-bottom:10px;margin-top:5px;\"><div class=\"ddl\" style=\"font-weight:700;color:#2b2b2b;\"><span class=\"rec_text\">Recommended Lists: </span><div class=\"combi_links\"> <a class=\"catmorelinks\" href=\"//www.thefamouspeople.com/playback-singers.php\">Playback Singers</a> </div><div class=\"combi_links\"> <a class=\"catmorelinks\" href=\"//www.thefamouspeople.com/pop-rock-singers.php\">Pop Rock Singers</a> </div></div></div><div class=\"wrapper\"><article class=\"feature col-lg-12 col-md-12 col-sm-12 col-xs-12 eventt internal_space\"><div class=\"ptitle\"><div style=\"display: flex;align-items: baseline;\"><div class=\"number\"> 19 </div><div class=\"ptitle-internal\" style=\"display:flex;flex-direction:column;\"><a class=\"tileLink\" href=\"//www.thefamouspeople.com/profiles/snoop-dogg-2872.php\">Snoop Dogg</a><div class=\"\" style=\"font-size:14px;color:#666;margin-top: 0.5em;line-height: 1.6;\">(Rapper)</div></div><div class=\"clear\"></div></div><div class=\"clear\"></div></div><div class=\"clear\"></div><div class=\"image col-lg-4 col-md-5 col-sm-5 col-xs-12\"><a class=\"tileLink\" href=\"//www.thefamouspeople.com/profiles/snoop-dogg-2872.php\"><img alt=\"Snoop Dogg\" class=\"combi-profile-img\" data-src=\"//www.thefamouspeople.com/profiles/thumbs/snoop-dogg-1.jpg\" height=\"250\" src=\"\" title=\"Snoop Dogg\" width=\"300\"/></a><div style=\"text-align:center;display: flex;justify-content: center;\"><div style=\"display:flex;flex-direction:column;align-items: center;\"><i class=\"fa fa-thumbs-o-up like-btn-2872\" data-id=\"2872\" data-placement=\"top\" data-toggle=\"tooltip\" onclick=\"_gaq.push(['_trackEvent', 'CatVote', 'Up-Vote-Clicked', 'Snoop Dogg']);\" style=\"width:50px;height:50px;\" title=\"Vote For Your Favourite Singers\"></i><span class=\"likes likes-2872\">761</span></div><div style=\"display:flex;flex-direction:column;align-items: center;\"><i class=\"fa fa-thumbs-o-down dislike-btn-2872\" data-id=\"2872\" data-placement=\"top\" data-toggle=\"tooltip\" onclick=\"_gaq.push(['_trackEvent', 'CatVote', 'Down-Vote-Clicked', 'Snoop Dogg']);\" style=\"width:50px;height:50px;\" title=\"Vote For Your Favourite Singers\"></i><span class=\"dislikes dislikes-2872\">408</span></div></div></div><div class=\"col-lg-8 col-md-7 col-sm-7 col-xs-12 rt-text-display\"><div class=\"desc-q\"><b>Listed In: </b><a href=\"//www.thefamouspeople.com/rappers.php\">Rappers</a>, <a href=\"//www.thefamouspeople.com/hip-hop-rappers.php\">Hip Hop Singers</a></div><div class=\"desc-q\"><b>Birthdate: </b>October 20, 1971</div><div class=\"desc-q\"><b>Sun Sign: </b>Libra</div><div class=\"desc-q\"><b>Birthplace: </b>Long Beach, California, United States</div><div class=\"desc descEvent\"><p>Snoop Dogg is a famous American rapper whose life is a perfect example of rags-to-riches story. As a child, he did various odd jobs to help his family make ends meet. He started rapping as a young boy to distract himself from his unstable family life. He ran into trouble with the law as a teenager. However, once he released his debut album, there was no looking back.</p>\n",
       "<p> </p></div></div><script>$(document).ready(function(){var pid =2872;var proname='';var page_url='//www.thefamouspeople.com/singers.php'; var ip = '2a06:98c0:3600::103'; var list_id = ' 25'; var uid ='7539142f08306d9c304dea98154572fa'; var page_type='category_parent'; var parent_cat_id = '0';$(\".like-btn-\"+pid).on(\"click\",function(){var s=$(this).data(\"id\");($clicked_btn=$(this)).hasClass(\"fa-thumbs-o-up\")?action=\"like\":$clicked_btn.hasClass(\"fa-thumbs-up\")&&(action=\"unlike\"),$.ajax({url:\"serverfile.php\",type:\"POST\",data:{action:action,post_id:s,user_id:uid,ip:ip,list_id:list_id,page_type:page_type,parent_cat_id:parent_cat_id,page_url:page_url,proname:proname},success:function(s){res=JSON.parse(s),\"like\"==action?($clicked_btn.removeClass(\"fa-thumbs-o-up\"),$clicked_btn.addClass(\"fa-thumbs-up\")):\"unlike\"==action&&($clicked_btn.removeClass(\"fa-thumbs-up\"),$clicked_btn.addClass(\"fa-thumbs-o-up\")),$(\".likes-\"+pid).text(res.likes),$(\".dislikes-\"+pid).text(res.dislikes),$(\".dislike-btn-\"+pid).removeClass(\"fa-thumbs-down\").addClass(\"fa-thumbs-o-down\")}})}),$(\".dislike-btn-\"+pid).on(\"click\",function(){var s=$(this).data(\"id\");($clicked_btn=$(this)).hasClass(\"fa-thumbs-o-down\")?action=\"dislike\":$clicked_btn.hasClass(\"fa-thumbs-down\")&&(action=\"undislike\"),$.ajax({url:\"serverfile.php\",type:\"POST\",data:{action:action,post_id:s,user_id:uid,ip:ip,list_id:list_id,page_type:page_type,parent_cat_id:parent_cat_id,page_url:page_url,proname:proname},success:function(s){res=JSON.parse(s),\"dislike\"==action?($clicked_btn.removeClass(\"fa-thumbs-o-down\"),$clicked_btn.addClass(\"fa-thumbs-down\")):\"undislike\"==action&&($clicked_btn.removeClass(\"fa-thumbs-down\"),$clicked_btn.addClass(\"fa-thumbs-o-down\")),$(\".likes-\"+pid).text(res.likes),$(\".dislikes-\"+pid).text(res.dislikes),$(\".like-btn-\"+pid).removeClass(\"fa-thumbs-up\").addClass(\"fa-thumbs-o-up\")}})});});</script></article></div><div class=\"clear\"></div><div class=\"wrapper\"><article class=\"feature col-lg-12 col-md-12 col-sm-12 col-xs-12 eventt internal_space\"><div class=\"ptitle\"><div style=\"display: flex;align-items: baseline;\"><div class=\"number\"> 20 </div><div class=\"ptitle-internal\" style=\"display:flex;flex-direction:column;\"><a class=\"tileLink\" href=\"//www.thefamouspeople.com/profiles/prince-7305.php\">Prince</a><div class=\"\" style=\"font-size:14px;color:#666;margin-top: 0.5em;line-height: 1.6;\">(Singer-songwriter &amp; Multi-instrumentalist)</div></div><div class=\"clear\"></div></div><div class=\"clear\"></div></div><div class=\"clear\"></div><div class=\"image col-lg-4 col-md-5 col-sm-5 col-xs-12\"><a class=\"tileLink\" href=\"//www.thefamouspeople.com/profiles/prince-7305.php\"><img alt=\"Prince\" class=\"combi-profile-img\" data-src=\"//www.thefamouspeople.com/profiles/thumbs/prince-2.jpg\" height=\"250\" src=\"\" title=\"Prince\" width=\"300\"/></a><div style=\"text-align:center;display: flex;justify-content: center;\"><div style=\"display:flex;flex-direction:column;align-items: center;\"><i class=\"fa fa-thumbs-o-up like-btn-7305\" data-id=\"7305\" data-placement=\"top\" data-toggle=\"tooltip\" onclick=\"_gaq.push(['_trackEvent', 'CatVote', 'Up-Vote-Clicked', 'Prince']);\" style=\"width:50px;height:50px;\" title=\"Vote For Your Favourite Singers\"></i><span class=\"likes likes-7305\">379</span></div><div style=\"display:flex;flex-direction:column;align-items: center;\"><i class=\"fa fa-thumbs-o-down dislike-btn-7305\" data-id=\"7305\" data-placement=\"top\" data-toggle=\"tooltip\" onclick=\"_gaq.push(['_trackEvent', 'CatVote', 'Down-Vote-Clicked', 'Prince']);\" style=\"width:50px;height:50px;\" title=\"Vote For Your Favourite Singers\"></i><span class=\"dislikes dislikes-7305\">312</span></div></div></div><div class=\"col-lg-8 col-md-7 col-sm-7 col-xs-12 rt-text-display\"><div class=\"desc-q\"><b>Listed In: </b><a href=\"//www.thefamouspeople.com/record-producers.php\">Record Producers</a>, <a href=\"//www.thefamouspeople.com/rock-singers.php\">Rock Singers</a>, <a href=\"//www.thefamouspeople.com/pop-singers.php\">Pop Singers</a></div><div class=\"desc-q\"><b>Birthdate: </b>June 7, 1958</div><div class=\"desc-q\"><b>Sun Sign: </b>Gemini</div><div class=\"desc-q\"><b>Birthplace: </b>Minneapolis, Minnesota, United States</div><div class=\"desc-q\"><b>Died: </b>April 21, 2016</div><div class=\"desc descEvent\"><p>Singer-songwriter, dancer, and musician, Prince is is widely regarded as one of the greatest musicians of his generation. He was considered a guitar virtuoso and could also play several other instruments. With worldwide sales of over 150 million records, he is ranked among the best-selling music artists of all time. He was also well known for his flamboyant persona.</p></div></div><script>$(document).ready(function(){var pid =7305;var proname='';var page_url='//www.thefamouspeople.com/singers.php'; var ip = '2a06:98c0:3600::103'; var list_id = ' 25'; var uid ='7539142f08306d9c304dea98154572fa'; var page_type='category_parent'; var parent_cat_id = '0';$(\".like-btn-\"+pid).on(\"click\",function(){var s=$(this).data(\"id\");($clicked_btn=$(this)).hasClass(\"fa-thumbs-o-up\")?action=\"like\":$clicked_btn.hasClass(\"fa-thumbs-up\")&&(action=\"unlike\"),$.ajax({url:\"serverfile.php\",type:\"POST\",data:{action:action,post_id:s,user_id:uid,ip:ip,list_id:list_id,page_type:page_type,parent_cat_id:parent_cat_id,page_url:page_url,proname:proname},success:function(s){res=JSON.parse(s),\"like\"==action?($clicked_btn.removeClass(\"fa-thumbs-o-up\"),$clicked_btn.addClass(\"fa-thumbs-up\")):\"unlike\"==action&&($clicked_btn.removeClass(\"fa-thumbs-up\"),$clicked_btn.addClass(\"fa-thumbs-o-up\")),$(\".likes-\"+pid).text(res.likes),$(\".dislikes-\"+pid).text(res.dislikes),$(\".dislike-btn-\"+pid).removeClass(\"fa-thumbs-down\").addClass(\"fa-thumbs-o-down\")}})}),$(\".dislike-btn-\"+pid).on(\"click\",function(){var s=$(this).data(\"id\");($clicked_btn=$(this)).hasClass(\"fa-thumbs-o-down\")?action=\"dislike\":$clicked_btn.hasClass(\"fa-thumbs-down\")&&(action=\"undislike\"),$.ajax({url:\"serverfile.php\",type:\"POST\",data:{action:action,post_id:s,user_id:uid,ip:ip,list_id:list_id,page_type:page_type,parent_cat_id:parent_cat_id,page_url:page_url,proname:proname},success:function(s){res=JSON.parse(s),\"dislike\"==action?($clicked_btn.removeClass(\"fa-thumbs-o-down\"),$clicked_btn.addClass(\"fa-thumbs-down\")):\"undislike\"==action&&($clicked_btn.removeClass(\"fa-thumbs-down\"),$clicked_btn.addClass(\"fa-thumbs-o-down\")),$(\".likes-\"+pid).text(res.likes),$(\".dislikes-\"+pid).text(res.dislikes),$(\".like-btn-\"+pid).removeClass(\"fa-thumbs-up\").addClass(\"fa-thumbs-o-up\")}})});});</script></article></div><div class=\"clear\"></div><div class=\"col-lg-12 col-md-12 col-xs-12 col-sm-12\" style=\"margin:20px 0px;height:250px;\"><div class=\"center-ad desktop_ad\">\n",
       "<div class=\"_ap_apex_ad\" id=\"5655a656-98ad-4563-9ec0-8f844b708ca6\">\n",
       "<script>\n",
       "var adpushup = window.adpushup = window.adpushup || {};\n",
       "adpushup.que = adpushup.que || [];\n",
       "adpushup.que.push(function() {\n",
       "\tadpushup.triggerAd(\"5655a656-98ad-4563-9ec0-8f844b708ca6\");\n",
       "});\n",
       "</script>\n",
       "</div>\n",
       "</div><div class=\"center-ad tablet_ad\">\n",
       "<div class=\"_ap_apex_ad\" id=\"5655a656-98ad-4563-9ec0-8f844b708ca6\">\n",
       "<script>\n",
       "var adpushup = window.adpushup = window.adpushup || {};\n",
       "adpushup.que = adpushup.que || [];\n",
       "adpushup.que.push(function() {\n",
       "\tadpushup.triggerAd(\"5655a656-98ad-4563-9ec0-8f844b708ca6\");\n",
       "});\n",
       "</script>\n",
       "</div>\n",
       "</div><div class=\"center-ad mobile_ad\">\n",
       "<div class=\"_ap_apex_ad\" id=\"2fc1129b-a969-4ae5-bc29-2ffea14b72f9\">\n",
       "<script>\n",
       "var adpushup = window.adpushup = window.adpushup || {};\n",
       "adpushup.que = adpushup.que || [];\n",
       "adpushup.que.push(function() {\n",
       "\tadpushup.triggerAd(\"2fc1129b-a969-4ae5-bc29-2ffea14b72f9\");\n",
       "});\n",
       "</script>\n",
       "</div>\n",
       "</div></div><div class=\"clear\"></div><div style=\"margin-bottom:10px;margin-top:5px;\"><div class=\"ddl\" style=\"font-weight:700;color:#2b2b2b;\"><span class=\"rec_text\">Recommended Lists: </span><div class=\"combi_links\"> <a class=\"catmorelinks\" href=\"//www.thefamouspeople.com/pop-singers.php\">Pop Singers</a> </div><div class=\"combi_links\"> <a class=\"catmorelinks\" href=\"//www.thefamouspeople.com/psychedelic-singers.php\">Psychedelic Singers</a> </div></div></div><div class=\"wrapper\"><article class=\"feature col-lg-12 col-md-12 col-sm-12 col-xs-12 eventt internal_space\"><div class=\"ptitle\"><div style=\"display: flex;align-items: baseline;\"><div class=\"number\"> 21 </div><div class=\"ptitle-internal\" style=\"display:flex;flex-direction:column;\"><a class=\"tileLink\" href=\"//www.thefamouspeople.com/profiles/britney-jean-spears-931.php\">Britney Spears</a><div class=\"\" style=\"font-size:14px;color:#666;margin-top: 0.5em;line-height: 1.6;\">(Singer-Songwriter)</div></div><div class=\"clear\"></div></div><div class=\"clear\"></div></div><div class=\"clear\"></div><div class=\"image col-lg-4 col-md-5 col-sm-5 col-xs-12\"><a class=\"tileLink\" href=\"//www.thefamouspeople.com/profiles/britney-jean-spears-931.php\"><img alt=\"Britney Spears\" class=\"combi-profile-img\" data-src=\"//www.thefamouspeople.com/profiles/thumbs/britney-spears-8.jpg\" height=\"250\" src=\"\" title=\"Britney Spears\" width=\"300\"/></a><div style=\"text-align:center;display: flex;justify-content: center;\"><div style=\"display:flex;flex-direction:column;align-items: center;\"><i class=\"fa fa-thumbs-o-up like-btn-931\" data-id=\"931\" data-placement=\"top\" data-toggle=\"tooltip\" onclick=\"_gaq.push(['_trackEvent', 'CatVote', 'Up-Vote-Clicked', 'Britney Spears']);\" style=\"width:50px;height:50px;\" title=\"Vote For Your Favourite Singers\"></i><span class=\"likes likes-931\">502</span></div><div style=\"display:flex;flex-direction:column;align-items: center;\"><i class=\"fa fa-thumbs-o-down dislike-btn-931\" data-id=\"931\" data-placement=\"top\" data-toggle=\"tooltip\" onclick=\"_gaq.push(['_trackEvent', 'CatVote', 'Down-Vote-Clicked', 'Britney Spears']);\" style=\"width:50px;height:50px;\" title=\"Vote For Your Favourite Singers\"></i><span class=\"dislikes dislikes-931\">215</span></div></div></div><div class=\"col-lg-8 col-md-7 col-sm-7 col-xs-12 rt-text-display\"><div class=\"desc-q\"><b>Listed In: </b><a href=\"//www.thefamouspeople.com/pop-singers.php\">Pop Singers</a>, <a href=\"//www.thefamouspeople.com/pop-musicians.php\">Pop Musicians</a>, <a href=\"//www.thefamouspeople.com/actress.php\">Actresses</a></div><div class=\"desc-q\"><b>Birthdate: </b>December 2, 1981</div><div class=\"desc-q\"><b>Sun Sign: </b>Sagittarius</div><div class=\"desc-q\"><b>Birthplace: </b>McComb, Mississippi, United States</div><div class=\"desc descEvent\"><p>Internationally recognised American singer, songwriter and actress, Britney Spears entered the entertainment industry at an early age and later became highly successful as a solo artist with her albums, <em>Baby One More Time, </em>and <em>Oops!…I Did It Again</em>. The <strong>Princess of Pop</strong> has since released a number of albums and dabbled with acting. Her personal life has also garnered frequent media attention.</p></div></div><script>$(document).ready(function(){var pid =931;var proname='';var page_url='//www.thefamouspeople.com/singers.php'; var ip = '2a06:98c0:3600::103'; var list_id = ' 25'; var uid ='7539142f08306d9c304dea98154572fa'; var page_type='category_parent'; var parent_cat_id = '0';$(\".like-btn-\"+pid).on(\"click\",function(){var s=$(this).data(\"id\");($clicked_btn=$(this)).hasClass(\"fa-thumbs-o-up\")?action=\"like\":$clicked_btn.hasClass(\"fa-thumbs-up\")&&(action=\"unlike\"),$.ajax({url:\"serverfile.php\",type:\"POST\",data:{action:action,post_id:s,user_id:uid,ip:ip,list_id:list_id,page_type:page_type,parent_cat_id:parent_cat_id,page_url:page_url,proname:proname},success:function(s){res=JSON.parse(s),\"like\"==action?($clicked_btn.removeClass(\"fa-thumbs-o-up\"),$clicked_btn.addClass(\"fa-thumbs-up\")):\"unlike\"==action&&($clicked_btn.removeClass(\"fa-thumbs-up\"),$clicked_btn.addClass(\"fa-thumbs-o-up\")),$(\".likes-\"+pid).text(res.likes),$(\".dislikes-\"+pid).text(res.dislikes),$(\".dislike-btn-\"+pid).removeClass(\"fa-thumbs-down\").addClass(\"fa-thumbs-o-down\")}})}),$(\".dislike-btn-\"+pid).on(\"click\",function(){var s=$(this).data(\"id\");($clicked_btn=$(this)).hasClass(\"fa-thumbs-o-down\")?action=\"dislike\":$clicked_btn.hasClass(\"fa-thumbs-down\")&&(action=\"undislike\"),$.ajax({url:\"serverfile.php\",type:\"POST\",data:{action:action,post_id:s,user_id:uid,ip:ip,list_id:list_id,page_type:page_type,parent_cat_id:parent_cat_id,page_url:page_url,proname:proname},success:function(s){res=JSON.parse(s),\"dislike\"==action?($clicked_btn.removeClass(\"fa-thumbs-o-down\"),$clicked_btn.addClass(\"fa-thumbs-down\")):\"undislike\"==action&&($clicked_btn.removeClass(\"fa-thumbs-down\"),$clicked_btn.addClass(\"fa-thumbs-o-down\")),$(\".likes-\"+pid).text(res.likes),$(\".dislikes-\"+pid).text(res.dislikes),$(\".like-btn-\"+pid).removeClass(\"fa-thumbs-up\").addClass(\"fa-thumbs-o-up\")}})});});</script></article></div><div class=\"clear\"></div><div class=\"wrapper\"><article class=\"feature col-lg-12 col-md-12 col-sm-12 col-xs-12 eventt internal_space\"><div class=\"ptitle\"><div style=\"display: flex;align-items: baseline;\"><div class=\"number\"> 22 </div><div class=\"ptitle-internal\" style=\"display:flex;flex-direction:column;\"><a class=\"tileLink\" href=\"//www.thefamouspeople.com/profiles/justin-bieber-3938.php\">Justin Bieber</a><div class=\"\" style=\"font-size:14px;color:#666;margin-top: 0.5em;line-height: 1.6;\">(Singer-Songwriter and One of the Best-Selling Pop Music Artists of All Time)</div></div><div class=\"clear\"></div></div><div class=\"clear\"></div></div><div class=\"clear\"></div><div class=\"image col-lg-4 col-md-5 col-sm-5 col-xs-12\"><a class=\"tileLink\" href=\"//www.thefamouspeople.com/profiles/justin-bieber-3938.php\"><img alt=\"Justin Bieber\" class=\"combi-profile-img\" data-src=\"//www.thefamouspeople.com/profiles/thumbs/justin-bieber.jpg\" height=\"250\" src=\"\" title=\"Justin Bieber\" width=\"300\"/></a><div style=\"text-align:center;display: flex;justify-content: center;\"><div style=\"display:flex;flex-direction:column;align-items: center;\"><i class=\"fa fa-thumbs-o-up like-btn-3938\" data-id=\"3938\" data-placement=\"top\" data-toggle=\"tooltip\" onclick=\"_gaq.push(['_trackEvent', 'CatVote', 'Up-Vote-Clicked', 'Justin Bieber']);\" style=\"width:50px;height:50px;\" title=\"Vote For Your Favourite Singers\"></i><span class=\"likes likes-3938\">797</span></div><div style=\"display:flex;flex-direction:column;align-items: center;\"><i class=\"fa fa-thumbs-o-down dislike-btn-3938\" data-id=\"3938\" data-placement=\"top\" data-toggle=\"tooltip\" onclick=\"_gaq.push(['_trackEvent', 'CatVote', 'Down-Vote-Clicked', 'Justin Bieber']);\" style=\"width:50px;height:50px;\" title=\"Vote For Your Favourite Singers\"></i><span class=\"dislikes dislikes-3938\">622</span></div></div></div><div class=\"col-lg-8 col-md-7 col-sm-7 col-xs-12 rt-text-display\"><div class=\"desc-q\"><b>Listed In: </b><a href=\"//www.thefamouspeople.com/pop-singers.php\">Pop Singers</a>, <a href=\"//www.thefamouspeople.com/rhythm-blues-singers.php\">Rhythm &amp; Blues Singers</a></div><div class=\"desc-q\"><b>Birthdate: </b>March 1, 1994</div><div class=\"desc-q\"><b>Sun Sign: </b>Pisces</div><div class=\"desc-q\"><b>Birthplace: </b>London, Canada</div><div class=\"desc descEvent\"><p>Canadian singer and songwriter Justin Bieber was discovered via YouTube and subsequently went on to become a teen pop sensation. By age 25 he became the youngest solo artist to achieve seven number-one albums in the US. Bieber has received many accolades, including a Grammy Award. He’s also had his share of controversies and run-in with the law.</p></div></div><script>$(document).ready(function(){var pid =3938;var proname='';var page_url='//www.thefamouspeople.com/singers.php'; var ip = '2a06:98c0:3600::103'; var list_id = ' 25'; var uid ='7539142f08306d9c304dea98154572fa'; var page_type='category_parent'; var parent_cat_id = '0';$(\".like-btn-\"+pid).on(\"click\",function(){var s=$(this).data(\"id\");($clicked_btn=$(this)).hasClass(\"fa-thumbs-o-up\")?action=\"like\":$clicked_btn.hasClass(\"fa-thumbs-up\")&&(action=\"unlike\"),$.ajax({url:\"serverfile.php\",type:\"POST\",data:{action:action,post_id:s,user_id:uid,ip:ip,list_id:list_id,page_type:page_type,parent_cat_id:parent_cat_id,page_url:page_url,proname:proname},success:function(s){res=JSON.parse(s),\"like\"==action?($clicked_btn.removeClass(\"fa-thumbs-o-up\"),$clicked_btn.addClass(\"fa-thumbs-up\")):\"unlike\"==action&&($clicked_btn.removeClass(\"fa-thumbs-up\"),$clicked_btn.addClass(\"fa-thumbs-o-up\")),$(\".likes-\"+pid).text(res.likes),$(\".dislikes-\"+pid).text(res.dislikes),$(\".dislike-btn-\"+pid).removeClass(\"fa-thumbs-down\").addClass(\"fa-thumbs-o-down\")}})}),$(\".dislike-btn-\"+pid).on(\"click\",function(){var s=$(this).data(\"id\");($clicked_btn=$(this)).hasClass(\"fa-thumbs-o-down\")?action=\"dislike\":$clicked_btn.hasClass(\"fa-thumbs-down\")&&(action=\"undislike\"),$.ajax({url:\"serverfile.php\",type:\"POST\",data:{action:action,post_id:s,user_id:uid,ip:ip,list_id:list_id,page_type:page_type,parent_cat_id:parent_cat_id,page_url:page_url,proname:proname},success:function(s){res=JSON.parse(s),\"dislike\"==action?($clicked_btn.removeClass(\"fa-thumbs-o-down\"),$clicked_btn.addClass(\"fa-thumbs-down\")):\"undislike\"==action&&($clicked_btn.removeClass(\"fa-thumbs-down\"),$clicked_btn.addClass(\"fa-thumbs-o-down\")),$(\".likes-\"+pid).text(res.likes),$(\".dislikes-\"+pid).text(res.dislikes),$(\".like-btn-\"+pid).removeClass(\"fa-thumbs-up\").addClass(\"fa-thumbs-o-up\")}})});});</script></article></div><div class=\"clear\"></div><div style=\"margin-bottom:10px;margin-top:5px;\"><div class=\"ddl\" style=\"font-weight:700;color:#2b2b2b;\"><span class=\"rec_text\">Recommended Lists: </span><div class=\"combi_links\"> <a class=\"catmorelinks\" href=\"//www.thefamouspeople.com/punk-singers.php\">Punk Singers</a> </div><div class=\"combi_links\"> <a class=\"catmorelinks\" href=\"//www.thefamouspeople.com/rappers.php\">Rappers</a> </div></div></div><div class=\"wrapper\"><article class=\"feature col-lg-12 col-md-12 col-sm-12 col-xs-12 eventt internal_space\"><div class=\"ptitle\"><div style=\"display: flex;align-items: baseline;\"><div class=\"number\"> 23 </div><div class=\"ptitle-internal\" style=\"display:flex;flex-direction:column;\"><a class=\"tileLink\" href=\"//www.thefamouspeople.com/profiles/elton-john-13806.php\">Elton John</a><div class=\"\" style=\"font-size:14px;color:#666;margin-top: 0.5em;line-height: 1.6;\">(Singer, Pianist and Composer- One of the Best-Selling Artists of All Time)</div></div><div class=\"clear\"></div></div><div class=\"clear\"></div></div><div class=\"clear\"></div><div class=\"image col-lg-4 col-md-5 col-sm-5 col-xs-12\"><a class=\"tileLink\" href=\"//www.thefamouspeople.com/profiles/elton-john-13806.php\"><img alt=\"Elton John\" class=\"combi-profile-img\" data-src=\"//www.thefamouspeople.com/profiles/thumbs/elton-john-1.jpg\" height=\"250\" src=\"\" title=\"Elton John\" width=\"300\"/></a><div style=\"text-align:center;display: flex;justify-content: center;\"><div style=\"display:flex;flex-direction:column;align-items: center;\"><i class=\"fa fa-thumbs-o-up like-btn-13806\" data-id=\"13806\" data-placement=\"top\" data-toggle=\"tooltip\" onclick=\"_gaq.push(['_trackEvent', 'CatVote', 'Up-Vote-Clicked', 'Elton John']);\" style=\"width:50px;height:50px;\" title=\"Vote For Your Favourite Singers\"></i><span class=\"likes likes-13806\">284</span></div><div style=\"display:flex;flex-direction:column;align-items: center;\"><i class=\"fa fa-thumbs-o-down dislike-btn-13806\" data-id=\"13806\" data-placement=\"top\" data-toggle=\"tooltip\" onclick=\"_gaq.push(['_trackEvent', 'CatVote', 'Down-Vote-Clicked', 'Elton John']);\" style=\"width:50px;height:50px;\" title=\"Vote For Your Favourite Singers\"></i><span class=\"dislikes dislikes-13806\">140</span></div></div></div><div class=\"col-lg-8 col-md-7 col-sm-7 col-xs-12 rt-text-display\"><div class=\"desc-q\"><b>Listed In: </b><a href=\"//www.thefamouspeople.com/rock-singers.php\">Rock Singers</a>, <a href=\"//www.thefamouspeople.com/pop-singers.php\">Pop Singers</a>, <a href=\"//www.thefamouspeople.com/lyricists.php\">Lyricists &amp; Songwriters</a></div><div class=\"desc-q\"><b>Birthdate: </b>March 25, 1947</div><div class=\"desc-q\"><b>Sun Sign: </b>Aries</div><div class=\"desc-q\"><b>Birthplace: </b>Pinner, England</div><div class=\"desc descEvent\">The supremely gifted English singer, songwriter, pianist and composer, Elton John has entertained music lovers globally since the 1970s. His phenomenal talent make him one of the best-selling music artists in the world. Not to forget his tribute to Princess Diana, <em>Candle in the Wind 1997,</em> which till date is one of the best-selling singles in the UK and the US.</div></div><script>$(document).ready(function(){var pid =13806;var proname='';var page_url='//www.thefamouspeople.com/singers.php'; var ip = '2a06:98c0:3600::103'; var list_id = ' 25'; var uid ='7539142f08306d9c304dea98154572fa'; var page_type='category_parent'; var parent_cat_id = '0';$(\".like-btn-\"+pid).on(\"click\",function(){var s=$(this).data(\"id\");($clicked_btn=$(this)).hasClass(\"fa-thumbs-o-up\")?action=\"like\":$clicked_btn.hasClass(\"fa-thumbs-up\")&&(action=\"unlike\"),$.ajax({url:\"serverfile.php\",type:\"POST\",data:{action:action,post_id:s,user_id:uid,ip:ip,list_id:list_id,page_type:page_type,parent_cat_id:parent_cat_id,page_url:page_url,proname:proname},success:function(s){res=JSON.parse(s),\"like\"==action?($clicked_btn.removeClass(\"fa-thumbs-o-up\"),$clicked_btn.addClass(\"fa-thumbs-up\")):\"unlike\"==action&&($clicked_btn.removeClass(\"fa-thumbs-up\"),$clicked_btn.addClass(\"fa-thumbs-o-up\")),$(\".likes-\"+pid).text(res.likes),$(\".dislikes-\"+pid).text(res.dislikes),$(\".dislike-btn-\"+pid).removeClass(\"fa-thumbs-down\").addClass(\"fa-thumbs-o-down\")}})}),$(\".dislike-btn-\"+pid).on(\"click\",function(){var s=$(this).data(\"id\");($clicked_btn=$(this)).hasClass(\"fa-thumbs-o-down\")?action=\"dislike\":$clicked_btn.hasClass(\"fa-thumbs-down\")&&(action=\"undislike\"),$.ajax({url:\"serverfile.php\",type:\"POST\",data:{action:action,post_id:s,user_id:uid,ip:ip,list_id:list_id,page_type:page_type,parent_cat_id:parent_cat_id,page_url:page_url,proname:proname},success:function(s){res=JSON.parse(s),\"dislike\"==action?($clicked_btn.removeClass(\"fa-thumbs-o-down\"),$clicked_btn.addClass(\"fa-thumbs-down\")):\"undislike\"==action&&($clicked_btn.removeClass(\"fa-thumbs-down\"),$clicked_btn.addClass(\"fa-thumbs-o-down\")),$(\".likes-\"+pid).text(res.likes),$(\".dislikes-\"+pid).text(res.dislikes),$(\".like-btn-\"+pid).removeClass(\"fa-thumbs-up\").addClass(\"fa-thumbs-o-up\")}})});});</script></article></div><div class=\"clear\"></div><div class=\"wrapper\"><article class=\"feature col-lg-12 col-md-12 col-sm-12 col-xs-12 eventt internal_space\"><div class=\"ptitle\"><div style=\"display: flex;align-items: baseline;\"><div class=\"number\"> 24 </div><div class=\"ptitle-internal\" style=\"display:flex;flex-direction:column;\"><a class=\"tileLink\" href=\"//www.thefamouspeople.com/profiles/katy-perry-6034.php\">Katy Perry</a><div class=\"\" style=\"font-size:14px;color:#666;margin-top: 0.5em;line-height: 1.6;\">(American Singer Who Has Greatly Influenced Modern Pop Music)</div></div><div class=\"clear\"></div></div><div class=\"clear\"></div></div><div class=\"clear\"></div><div class=\"image col-lg-4 col-md-5 col-sm-5 col-xs-12\"><a class=\"tileLink\" href=\"//www.thefamouspeople.com/profiles/katy-perry-6034.php\"><img alt=\"Katy Perry\" class=\"combi-profile-img\" data-src=\"//www.thefamouspeople.com/profiles/thumbs/katy-perry-5.jpg\" height=\"250\" src=\"\" title=\"Katy Perry\" width=\"300\"/></a><div style=\"text-align:center;display: flex;justify-content: center;\"><div style=\"display:flex;flex-direction:column;align-items: center;\"><i class=\"fa fa-thumbs-o-up like-btn-6034\" data-id=\"6034\" data-placement=\"top\" data-toggle=\"tooltip\" onclick=\"_gaq.push(['_trackEvent', 'CatVote', 'Up-Vote-Clicked', 'Katy Perry']);\" style=\"width:50px;height:50px;\" title=\"Vote For Your Favourite Singers\"></i><span class=\"likes likes-6034\">682</span></div><div style=\"display:flex;flex-direction:column;align-items: center;\"><i class=\"fa fa-thumbs-o-down dislike-btn-6034\" data-id=\"6034\" data-placement=\"top\" data-toggle=\"tooltip\" onclick=\"_gaq.push(['_trackEvent', 'CatVote', 'Down-Vote-Clicked', 'Katy Perry']);\" style=\"width:50px;height:50px;\" title=\"Vote For Your Favourite Singers\"></i><span class=\"dislikes dislikes-6034\">297</span></div></div></div><div class=\"col-lg-8 col-md-7 col-sm-7 col-xs-12 rt-text-display\"><div class=\"desc-q\"><b>Listed In: </b><a href=\"//www.thefamouspeople.com/pop-singers.php\">Pop Singers</a></div><div class=\"desc-q\"><b>Birthdate: </b>October 25, 1984</div><div class=\"desc-q\"><b>Sun Sign: </b>Scorpio</div><div class=\"desc-q\"><b>Birthplace: </b>Santa Barbara, California, United States</div><div class=\"desc descEvent\"><p>A name that has found a place in the <strong>Forbes </strong><strong>list of highest-earning women in music </strong>continuously for 9 years in a row, Katy Perry is a one of America’s most beloved pop singers. An inspiration to upcoming singers, Perry has established herself in the music industry through her <strong>edgy tunes and empowering tracks</strong>.</p></div></div><script>$(document).ready(function(){var pid =6034;var proname='';var page_url='//www.thefamouspeople.com/singers.php'; var ip = '2a06:98c0:3600::103'; var list_id = ' 25'; var uid ='7539142f08306d9c304dea98154572fa'; var page_type='category_parent'; var parent_cat_id = '0';$(\".like-btn-\"+pid).on(\"click\",function(){var s=$(this).data(\"id\");($clicked_btn=$(this)).hasClass(\"fa-thumbs-o-up\")?action=\"like\":$clicked_btn.hasClass(\"fa-thumbs-up\")&&(action=\"unlike\"),$.ajax({url:\"serverfile.php\",type:\"POST\",data:{action:action,post_id:s,user_id:uid,ip:ip,list_id:list_id,page_type:page_type,parent_cat_id:parent_cat_id,page_url:page_url,proname:proname},success:function(s){res=JSON.parse(s),\"like\"==action?($clicked_btn.removeClass(\"fa-thumbs-o-up\"),$clicked_btn.addClass(\"fa-thumbs-up\")):\"unlike\"==action&&($clicked_btn.removeClass(\"fa-thumbs-up\"),$clicked_btn.addClass(\"fa-thumbs-o-up\")),$(\".likes-\"+pid).text(res.likes),$(\".dislikes-\"+pid).text(res.dislikes),$(\".dislike-btn-\"+pid).removeClass(\"fa-thumbs-down\").addClass(\"fa-thumbs-o-down\")}})}),$(\".dislike-btn-\"+pid).on(\"click\",function(){var s=$(this).data(\"id\");($clicked_btn=$(this)).hasClass(\"fa-thumbs-o-down\")?action=\"dislike\":$clicked_btn.hasClass(\"fa-thumbs-down\")&&(action=\"undislike\"),$.ajax({url:\"serverfile.php\",type:\"POST\",data:{action:action,post_id:s,user_id:uid,ip:ip,list_id:list_id,page_type:page_type,parent_cat_id:parent_cat_id,page_url:page_url,proname:proname},success:function(s){res=JSON.parse(s),\"dislike\"==action?($clicked_btn.removeClass(\"fa-thumbs-o-down\"),$clicked_btn.addClass(\"fa-thumbs-down\")):\"undislike\"==action&&($clicked_btn.removeClass(\"fa-thumbs-down\"),$clicked_btn.addClass(\"fa-thumbs-o-down\")),$(\".likes-\"+pid).text(res.likes),$(\".dislikes-\"+pid).text(res.dislikes),$(\".like-btn-\"+pid).removeClass(\"fa-thumbs-up\").addClass(\"fa-thumbs-o-up\")}})});});</script></article></div><div class=\"clear\"></div><div style=\"margin-bottom:10px;margin-top:5px;\"><div class=\"ddl\" style=\"font-weight:700;color:#2b2b2b;\"><span class=\"rec_text\">Recommended Lists: </span><div class=\"combi_links\"> <a class=\"catmorelinks\" href=\"//www.thefamouspeople.com/reggae-singers.php\">Reggae Singers</a> </div><div class=\"combi_links\"> <a class=\"catmorelinks\" href=\"//www.thefamouspeople.com/rhythm-blues-singers.php\">Rhythm &amp; Blues Singers</a> </div></div></div><div class=\"wrapper\"><article class=\"feature col-lg-12 col-md-12 col-sm-12 col-xs-12 eventt internal_space\"><div class=\"ptitle\"><div style=\"display: flex;align-items: baseline;\"><div class=\"number\"> 25 </div><div class=\"ptitle-internal\" style=\"display:flex;flex-direction:column;\"><a class=\"tileLink\" href=\"//www.thefamouspeople.com/profiles/juice-wrld-42371.php\">Juice WRLD</a><div class=\"\" style=\"font-size:14px;color:#666;margin-top: 0.5em;line-height: 1.6;\">(Rapper)</div></div><div class=\"clear\"></div></div><div class=\"clear\"></div></div><div class=\"clear\"></div><div class=\"image col-lg-4 col-md-5 col-sm-5 col-xs-12\"><a class=\"tileLink\" href=\"//www.thefamouspeople.com/profiles/juice-wrld-42371.php\"><img alt=\"Juice WRLD\" class=\"combi-profile-img\" data-src=\"//www.thefamouspeople.com/profiles/thumbs/juice-wrld-1.jpg\" height=\"250\" src=\"\" title=\"Juice WRLD\" width=\"300\"/></a><div style=\"text-align:center;display: flex;justify-content: center;\"><div style=\"display:flex;flex-direction:column;align-items: center;\"><i class=\"fa fa-thumbs-o-up like-btn-42371\" data-id=\"42371\" data-placement=\"top\" data-toggle=\"tooltip\" onclick=\"_gaq.push(['_trackEvent', 'CatVote', 'Up-Vote-Clicked', 'Juice WRLD']);\" style=\"width:50px;height:50px;\" title=\"Vote For Your Favourite Singers\"></i><span class=\"likes likes-42371\">853</span></div><div style=\"display:flex;flex-direction:column;align-items: center;\"><i class=\"fa fa-thumbs-o-down dislike-btn-42371\" data-id=\"42371\" data-placement=\"top\" data-toggle=\"tooltip\" onclick=\"_gaq.push(['_trackEvent', 'CatVote', 'Down-Vote-Clicked', 'Juice WRLD']);\" style=\"width:50px;height:50px;\" title=\"Vote For Your Favourite Singers\"></i><span class=\"dislikes dislikes-42371\">401</span></div></div></div><div class=\"col-lg-8 col-md-7 col-sm-7 col-xs-12 rt-text-display\"><div class=\"desc-q\"><b>Listed In: </b><a href=\"//www.thefamouspeople.com/rappers.php\">Rappers</a>, <a href=\"//www.thefamouspeople.com/lyricists.php\">Lyricists &amp; Songwriters</a></div><div class=\"desc-q\"><b>Birthdate: </b>December 2, 1998</div><div class=\"desc-q\"><b>Sun Sign: </b>Sagittarius</div><div class=\"desc-q\"><b>Birthplace: </b>Chicago, Illinois, United States</div><div class=\"desc-q\"><b>Died: </b>December 8, 2019</div><div class=\"desc descEvent\">Rapper Juice Wrld is best remembered for his tracks <strong>Lucid Dreams </strong>and <strong>All Girls Are the Same</strong>. He was also part of the collective <strong>Internet Money</strong>. He died due to a drug-induced seizure at the age of 21. His posthumous album <strong>Legends Never Die </strong>topped the <strong>Billboard 200 </strong>chart.</div></div><script>$(document).ready(function(){var pid =42371;var proname='';var page_url='//www.thefamouspeople.com/singers.php'; var ip = '2a06:98c0:3600::103'; var list_id = ' 25'; var uid ='7539142f08306d9c304dea98154572fa'; var page_type='category_parent'; var parent_cat_id = '0';$(\".like-btn-\"+pid).on(\"click\",function(){var s=$(this).data(\"id\");($clicked_btn=$(this)).hasClass(\"fa-thumbs-o-up\")?action=\"like\":$clicked_btn.hasClass(\"fa-thumbs-up\")&&(action=\"unlike\"),$.ajax({url:\"serverfile.php\",type:\"POST\",data:{action:action,post_id:s,user_id:uid,ip:ip,list_id:list_id,page_type:page_type,parent_cat_id:parent_cat_id,page_url:page_url,proname:proname},success:function(s){res=JSON.parse(s),\"like\"==action?($clicked_btn.removeClass(\"fa-thumbs-o-up\"),$clicked_btn.addClass(\"fa-thumbs-up\")):\"unlike\"==action&&($clicked_btn.removeClass(\"fa-thumbs-up\"),$clicked_btn.addClass(\"fa-thumbs-o-up\")),$(\".likes-\"+pid).text(res.likes),$(\".dislikes-\"+pid).text(res.dislikes),$(\".dislike-btn-\"+pid).removeClass(\"fa-thumbs-down\").addClass(\"fa-thumbs-o-down\")}})}),$(\".dislike-btn-\"+pid).on(\"click\",function(){var s=$(this).data(\"id\");($clicked_btn=$(this)).hasClass(\"fa-thumbs-o-down\")?action=\"dislike\":$clicked_btn.hasClass(\"fa-thumbs-down\")&&(action=\"undislike\"),$.ajax({url:\"serverfile.php\",type:\"POST\",data:{action:action,post_id:s,user_id:uid,ip:ip,list_id:list_id,page_type:page_type,parent_cat_id:parent_cat_id,page_url:page_url,proname:proname},success:function(s){res=JSON.parse(s),\"dislike\"==action?($clicked_btn.removeClass(\"fa-thumbs-o-down\"),$clicked_btn.addClass(\"fa-thumbs-down\")):\"undislike\"==action&&($clicked_btn.removeClass(\"fa-thumbs-down\"),$clicked_btn.addClass(\"fa-thumbs-o-down\")),$(\".likes-\"+pid).text(res.likes),$(\".dislikes-\"+pid).text(res.dislikes),$(\".like-btn-\"+pid).removeClass(\"fa-thumbs-up\").addClass(\"fa-thumbs-o-up\")}})});});</script></article></div><div class=\"clear\"></div><div class=\"col-lg-12 col-md-12 col-xs-12 col-sm-12\" style=\"margin:20px 0px;height:250px;\"><div class=\"center-ad desktop_ad\">\n",
       "<div class=\"_ap_apex_ad\" id=\"5655a656-98ad-4563-9ec0-8f844b708ca6\">\n",
       "<script>\n",
       "var adpushup = window.adpushup = window.adpushup || {};\n",
       "adpushup.que = adpushup.que || [];\n",
       "adpushup.que.push(function() {\n",
       "\tadpushup.triggerAd(\"5655a656-98ad-4563-9ec0-8f844b708ca6\");\n",
       "});\n",
       "</script>\n",
       "</div>\n",
       "</div><div class=\"center-ad tablet_ad\">\n",
       "<div class=\"_ap_apex_ad\" id=\"5655a656-98ad-4563-9ec0-8f844b708ca6\">\n",
       "<script>\n",
       "var adpushup = window.adpushup = window.adpushup || {};\n",
       "adpushup.que = adpushup.que || [];\n",
       "adpushup.que.push(function() {\n",
       "\tadpushup.triggerAd(\"5655a656-98ad-4563-9ec0-8f844b708ca6\");\n",
       "});\n",
       "</script>\n",
       "</div>\n",
       "</div><div class=\"center-ad mobile_ad\">\n",
       "<div class=\"_ap_apex_ad\" id=\"2fc1129b-a969-4ae5-bc29-2ffea14b72f9\">\n",
       "<script>\n",
       "var adpushup = window.adpushup = window.adpushup || {};\n",
       "adpushup.que = adpushup.que || [];\n",
       "adpushup.que.push(function() {\n",
       "\tadpushup.triggerAd(\"2fc1129b-a969-4ae5-bc29-2ffea14b72f9\");\n",
       "});\n",
       "</script>\n",
       "</div>\n",
       "</div></div><div class=\"clear\"></div><div class=\"wrapper\"><article class=\"feature col-lg-12 col-md-12 col-sm-12 col-xs-12 eventt internal_space\"><div class=\"ptitle\"><div style=\"display: flex;align-items: baseline;\"><div class=\"number\"> 26 </div><div class=\"ptitle-internal\" style=\"display:flex;flex-direction:column;\"><a class=\"tileLink\" href=\"//www.thefamouspeople.com/profiles/kanye-west-3939.php\">Kanye West</a><div class=\"\" style=\"font-size:14px;color:#666;margin-top: 0.5em;line-height: 1.6;\">(One of the Greatest and Most Influential Hip Hop Musicians of All Time)</div></div><div class=\"clear\"></div></div><div class=\"clear\"></div></div><div class=\"clear\"></div><div class=\"image col-lg-4 col-md-5 col-sm-5 col-xs-12\"><a class=\"tileLink\" href=\"//www.thefamouspeople.com/profiles/kanye-west-3939.php\"><img alt=\"Kanye West\" class=\"combi-profile-img\" data-src=\"//www.thefamouspeople.com/profiles/thumbs/kanye-west-4.jpg\" height=\"250\" src=\"\" title=\"Kanye West\" width=\"300\"/></a><div style=\"text-align:center;display: flex;justify-content: center;\"><div style=\"display:flex;flex-direction:column;align-items: center;\"><i class=\"fa fa-thumbs-o-up like-btn-3939\" data-id=\"3939\" data-placement=\"top\" data-toggle=\"tooltip\" onclick=\"_gaq.push(['_trackEvent', 'CatVote', 'Up-Vote-Clicked', 'Kanye West']);\" style=\"width:50px;height:50px;\" title=\"Vote For Your Favourite Singers\"></i><span class=\"likes likes-3939\">295</span></div><div style=\"display:flex;flex-direction:column;align-items: center;\"><i class=\"fa fa-thumbs-o-down dislike-btn-3939\" data-id=\"3939\" data-placement=\"top\" data-toggle=\"tooltip\" onclick=\"_gaq.push(['_trackEvent', 'CatVote', 'Down-Vote-Clicked', 'Kanye West']);\" style=\"width:50px;height:50px;\" title=\"Vote For Your Favourite Singers\"></i><span class=\"dislikes dislikes-3939\">252</span></div></div></div><div class=\"col-lg-8 col-md-7 col-sm-7 col-xs-12 rt-text-display\"><div class=\"desc-q\"><b>Listed In: </b><a href=\"//www.thefamouspeople.com/record-producers.php\">Record Producers</a>, <a href=\"//www.thefamouspeople.com/rappers.php\">Rappers</a>, <a href=\"//www.thefamouspeople.com/hip-hop-rappers.php\">Hip Hop Singers</a></div><div class=\"desc-q\"><b>Birthdate: </b>June 8, 1977</div><div class=\"desc-q\"><b>Sun Sign: </b>Gemini</div><div class=\"desc-q\"><b>Birthplace: </b>Atlanta, Georgia, United States</div><div class=\"desc descEvent\"><p>Creative from a very young age, Kanye West dreamed of becoming a rapper since very early in his life. He became an award winning American rapper whose creativity in music is widely appreciated by critics. However, his outspoken views, comments and behaviour have quite often landed him controversies.</p></div></div><script>$(document).ready(function(){var pid =3939;var proname='';var page_url='//www.thefamouspeople.com/singers.php'; var ip = '2a06:98c0:3600::103'; var list_id = ' 25'; var uid ='7539142f08306d9c304dea98154572fa'; var page_type='category_parent'; var parent_cat_id = '0';$(\".like-btn-\"+pid).on(\"click\",function(){var s=$(this).data(\"id\");($clicked_btn=$(this)).hasClass(\"fa-thumbs-o-up\")?action=\"like\":$clicked_btn.hasClass(\"fa-thumbs-up\")&&(action=\"unlike\"),$.ajax({url:\"serverfile.php\",type:\"POST\",data:{action:action,post_id:s,user_id:uid,ip:ip,list_id:list_id,page_type:page_type,parent_cat_id:parent_cat_id,page_url:page_url,proname:proname},success:function(s){res=JSON.parse(s),\"like\"==action?($clicked_btn.removeClass(\"fa-thumbs-o-up\"),$clicked_btn.addClass(\"fa-thumbs-up\")):\"unlike\"==action&&($clicked_btn.removeClass(\"fa-thumbs-up\"),$clicked_btn.addClass(\"fa-thumbs-o-up\")),$(\".likes-\"+pid).text(res.likes),$(\".dislikes-\"+pid).text(res.dislikes),$(\".dislike-btn-\"+pid).removeClass(\"fa-thumbs-down\").addClass(\"fa-thumbs-o-down\")}})}),$(\".dislike-btn-\"+pid).on(\"click\",function(){var s=$(this).data(\"id\");($clicked_btn=$(this)).hasClass(\"fa-thumbs-o-down\")?action=\"dislike\":$clicked_btn.hasClass(\"fa-thumbs-down\")&&(action=\"undislike\"),$.ajax({url:\"serverfile.php\",type:\"POST\",data:{action:action,post_id:s,user_id:uid,ip:ip,list_id:list_id,page_type:page_type,parent_cat_id:parent_cat_id,page_url:page_url,proname:proname},success:function(s){res=JSON.parse(s),\"dislike\"==action?($clicked_btn.removeClass(\"fa-thumbs-o-down\"),$clicked_btn.addClass(\"fa-thumbs-down\")):\"undislike\"==action&&($clicked_btn.removeClass(\"fa-thumbs-down\"),$clicked_btn.addClass(\"fa-thumbs-o-down\")),$(\".likes-\"+pid).text(res.likes),$(\".dislikes-\"+pid).text(res.dislikes),$(\".like-btn-\"+pid).removeClass(\"fa-thumbs-up\").addClass(\"fa-thumbs-o-up\")}})});});</script></article></div><div class=\"clear\"></div><div style=\"margin-bottom:10px;margin-top:5px;\"><div class=\"ddl\" style=\"font-weight:700;color:#2b2b2b;\"><span class=\"rec_text\">Recommended Lists: </span><div class=\"combi_links\"> <a class=\"catmorelinks\" href=\"//www.thefamouspeople.com/rock-singers.php\">Rock Singers</a> </div><div class=\"combi_links\"> <a class=\"catmorelinks\" href=\"//www.thefamouspeople.com/soprano-singers.php\">Soprano Singers</a> </div></div></div><div class=\"wrapper\"><article class=\"feature col-lg-12 col-md-12 col-sm-12 col-xs-12 eventt internal_space\"><div class=\"ptitle\"><div style=\"display: flex;align-items: baseline;\"><div class=\"number\"> 27 </div><div class=\"ptitle-internal\" style=\"display:flex;flex-direction:column;\"><a class=\"tileLink\" href=\"//www.thefamouspeople.com/profiles/nicki-minaj-6052.php\">Nicki Minaj</a><div class=\"\" style=\"font-size:14px;color:#666;margin-top: 0.5em;line-height: 1.6;\">(Trinidadian-born Hip-Hop Artist)</div></div><div class=\"clear\"></div></div><div class=\"clear\"></div></div><div class=\"clear\"></div><div class=\"image col-lg-4 col-md-5 col-sm-5 col-xs-12\"><a class=\"tileLink\" href=\"//www.thefamouspeople.com/profiles/nicki-minaj-6052.php\"><img alt=\"Nicki Minaj\" class=\"combi-profile-img\" data-src=\"//www.thefamouspeople.com/profiles/thumbs/nicki-minaj-4.jpg\" height=\"250\" src=\"\" title=\"Nicki Minaj\" width=\"300\"/></a><div style=\"text-align:center;display: flex;justify-content: center;\"><div style=\"display:flex;flex-direction:column;align-items: center;\"><i class=\"fa fa-thumbs-o-up like-btn-6052\" data-id=\"6052\" data-placement=\"top\" data-toggle=\"tooltip\" onclick=\"_gaq.push(['_trackEvent', 'CatVote', 'Up-Vote-Clicked', 'Nicki Minaj']);\" style=\"width:50px;height:50px;\" title=\"Vote For Your Favourite Singers\"></i><span class=\"likes likes-6052\">636</span></div><div style=\"display:flex;flex-direction:column;align-items: center;\"><i class=\"fa fa-thumbs-o-down dislike-btn-6052\" data-id=\"6052\" data-placement=\"top\" data-toggle=\"tooltip\" onclick=\"_gaq.push(['_trackEvent', 'CatVote', 'Down-Vote-Clicked', 'Nicki Minaj']);\" style=\"width:50px;height:50px;\" title=\"Vote For Your Favourite Singers\"></i><span class=\"dislikes dislikes-6052\">378</span></div></div></div><div class=\"col-lg-8 col-md-7 col-sm-7 col-xs-12 rt-text-display\"><div class=\"desc-q\"><b>Listed In: </b><a href=\"//www.thefamouspeople.com/rappers.php\">Rappers</a>, <a href=\"//www.thefamouspeople.com/hip-hop-rappers.php\">Hip Hop Singers</a>, <a href=\"//www.thefamouspeople.com/lyricists.php\">Lyricists &amp; Songwriters</a></div><div class=\"desc-q\"><b>Birthdate: </b>December 8, 1982</div><div class=\"desc-q\"><b>Sun Sign: </b>Sagittarius</div><div class=\"desc-q\"><b>Birthplace: </b>Saint James, Port of Spain, Trinidad and Tobago</div><div class=\"desc descEvent\"><p>Amongst the most influential female rap artists of all time and one of the bestselling artists, Nicki Minaj came to limelight after her collaborations with Dirty Money Record and Young Money Entertainment. With subsequent release of her four albums, Minaj firmly established herself as a chart-topping artist. The <strong>Queen of Rap</strong> has also dabbled in acting and ventured into business.</p></div></div><script>$(document).ready(function(){var pid =6052;var proname='';var page_url='//www.thefamouspeople.com/singers.php'; var ip = '2a06:98c0:3600::103'; var list_id = ' 25'; var uid ='7539142f08306d9c304dea98154572fa'; var page_type='category_parent'; var parent_cat_id = '0';$(\".like-btn-\"+pid).on(\"click\",function(){var s=$(this).data(\"id\");($clicked_btn=$(this)).hasClass(\"fa-thumbs-o-up\")?action=\"like\":$clicked_btn.hasClass(\"fa-thumbs-up\")&&(action=\"unlike\"),$.ajax({url:\"serverfile.php\",type:\"POST\",data:{action:action,post_id:s,user_id:uid,ip:ip,list_id:list_id,page_type:page_type,parent_cat_id:parent_cat_id,page_url:page_url,proname:proname},success:function(s){res=JSON.parse(s),\"like\"==action?($clicked_btn.removeClass(\"fa-thumbs-o-up\"),$clicked_btn.addClass(\"fa-thumbs-up\")):\"unlike\"==action&&($clicked_btn.removeClass(\"fa-thumbs-up\"),$clicked_btn.addClass(\"fa-thumbs-o-up\")),$(\".likes-\"+pid).text(res.likes),$(\".dislikes-\"+pid).text(res.dislikes),$(\".dislike-btn-\"+pid).removeClass(\"fa-thumbs-down\").addClass(\"fa-thumbs-o-down\")}})}),$(\".dislike-btn-\"+pid).on(\"click\",function(){var s=$(this).data(\"id\");($clicked_btn=$(this)).hasClass(\"fa-thumbs-o-down\")?action=\"dislike\":$clicked_btn.hasClass(\"fa-thumbs-down\")&&(action=\"undislike\"),$.ajax({url:\"serverfile.php\",type:\"POST\",data:{action:action,post_id:s,user_id:uid,ip:ip,list_id:list_id,page_type:page_type,parent_cat_id:parent_cat_id,page_url:page_url,proname:proname},success:function(s){res=JSON.parse(s),\"dislike\"==action?($clicked_btn.removeClass(\"fa-thumbs-o-down\"),$clicked_btn.addClass(\"fa-thumbs-down\")):\"undislike\"==action&&($clicked_btn.removeClass(\"fa-thumbs-down\"),$clicked_btn.addClass(\"fa-thumbs-o-down\")),$(\".likes-\"+pid).text(res.likes),$(\".dislikes-\"+pid).text(res.dislikes),$(\".like-btn-\"+pid).removeClass(\"fa-thumbs-up\").addClass(\"fa-thumbs-o-up\")}})});});</script></article></div><div class=\"clear\"></div><div class=\"wrapper\"><article class=\"feature col-lg-12 col-md-12 col-sm-12 col-xs-12 eventt internal_space\"><div class=\"ptitle\"><div style=\"display: flex;align-items: baseline;\"><div class=\"number\"> 28 </div><div class=\"ptitle-internal\" style=\"display:flex;flex-direction:column;\"><a class=\"tileLink\" href=\"//www.thefamouspeople.com/profiles/whitney-elizabeth-houston-3173.php\">Whitney Houston</a><div class=\"\" style=\"font-size:14px;color:#666;margin-top: 0.5em;line-height: 1.6;\">(Best-Selling Female R&amp;B Artist of the 20th Century)</div></div><div class=\"clear\"></div></div><div class=\"clear\"></div></div><div class=\"clear\"></div><div class=\"image col-lg-4 col-md-5 col-sm-5 col-xs-12\"><a class=\"tileLink\" href=\"//www.thefamouspeople.com/profiles/whitney-elizabeth-houston-3173.php\"><img alt=\"Whitney Houston\" class=\"combi-profile-img\" data-src=\"//www.thefamouspeople.com/profiles/thumbs/whitney-houston-4.jpg\" height=\"250\" src=\"\" title=\"Whitney Houston\" width=\"300\"/></a><div style=\"text-align:center;display: flex;justify-content: center;\"><div style=\"display:flex;flex-direction:column;align-items: center;\"><i class=\"fa fa-thumbs-o-up like-btn-3173\" data-id=\"3173\" data-placement=\"top\" data-toggle=\"tooltip\" onclick=\"_gaq.push(['_trackEvent', 'CatVote', 'Up-Vote-Clicked', 'Whitney Houston']);\" style=\"width:50px;height:50px;\" title=\"Vote For Your Favourite Singers\"></i><span class=\"likes likes-3173\">280</span></div><div style=\"display:flex;flex-direction:column;align-items: center;\"><i class=\"fa fa-thumbs-o-down dislike-btn-3173\" data-id=\"3173\" data-placement=\"top\" data-toggle=\"tooltip\" onclick=\"_gaq.push(['_trackEvent', 'CatVote', 'Down-Vote-Clicked', 'Whitney Houston']);\" style=\"width:50px;height:50px;\" title=\"Vote For Your Favourite Singers\"></i><span class=\"dislikes dislikes-3173\">94</span></div></div></div><div class=\"col-lg-8 col-md-7 col-sm-7 col-xs-12 rt-text-display\"><div class=\"desc-q\"><b>Listed In: </b><a href=\"//www.thefamouspeople.com/pop-singers.php\">Pop Singers</a>, <a href=\"//www.thefamouspeople.com/rhythm-blues-singers.php\">Rhythm &amp; Blues Singers</a>, <a href=\"//www.thefamouspeople.com/actress.php\">Actresses</a></div><div class=\"desc-q\"><b>Birthdate: </b>August 9, 1963</div><div class=\"desc-q\"><b>Sun Sign: </b>Leo</div><div class=\"desc-q\"><b>Birthplace: </b>Newark, New Jersey, United States</div><div class=\"desc-q\"><b>Died: </b>February 11, 2012</div><div class=\"desc descEvent\"><p>Amongst the best-selling recording artists of all time and an inspiration to millions of budding artists, Whitney Houston achieved stardom with her eponymous debut album. The success of her later albums consolidated her position and earned her a spot in the Guinness World Records as the <strong>most awarded female artist of all time</strong>. She struggled with drug abuse and troubled marriage and died of drowning in her hotel's bathtub.<strong> </strong></p></div></div><script>$(document).ready(function(){var pid =3173;var proname='';var page_url='//www.thefamouspeople.com/singers.php'; var ip = '2a06:98c0:3600::103'; var list_id = ' 25'; var uid ='7539142f08306d9c304dea98154572fa'; var page_type='category_parent'; var parent_cat_id = '0';$(\".like-btn-\"+pid).on(\"click\",function(){var s=$(this).data(\"id\");($clicked_btn=$(this)).hasClass(\"fa-thumbs-o-up\")?action=\"like\":$clicked_btn.hasClass(\"fa-thumbs-up\")&&(action=\"unlike\"),$.ajax({url:\"serverfile.php\",type:\"POST\",data:{action:action,post_id:s,user_id:uid,ip:ip,list_id:list_id,page_type:page_type,parent_cat_id:parent_cat_id,page_url:page_url,proname:proname},success:function(s){res=JSON.parse(s),\"like\"==action?($clicked_btn.removeClass(\"fa-thumbs-o-up\"),$clicked_btn.addClass(\"fa-thumbs-up\")):\"unlike\"==action&&($clicked_btn.removeClass(\"fa-thumbs-up\"),$clicked_btn.addClass(\"fa-thumbs-o-up\")),$(\".likes-\"+pid).text(res.likes),$(\".dislikes-\"+pid).text(res.dislikes),$(\".dislike-btn-\"+pid).removeClass(\"fa-thumbs-down\").addClass(\"fa-thumbs-o-down\")}})}),$(\".dislike-btn-\"+pid).on(\"click\",function(){var s=$(this).data(\"id\");($clicked_btn=$(this)).hasClass(\"fa-thumbs-o-down\")?action=\"dislike\":$clicked_btn.hasClass(\"fa-thumbs-down\")&&(action=\"undislike\"),$.ajax({url:\"serverfile.php\",type:\"POST\",data:{action:action,post_id:s,user_id:uid,ip:ip,list_id:list_id,page_type:page_type,parent_cat_id:parent_cat_id,page_url:page_url,proname:proname},success:function(s){res=JSON.parse(s),\"dislike\"==action?($clicked_btn.removeClass(\"fa-thumbs-o-down\"),$clicked_btn.addClass(\"fa-thumbs-down\")):\"undislike\"==action&&($clicked_btn.removeClass(\"fa-thumbs-down\"),$clicked_btn.addClass(\"fa-thumbs-o-down\")),$(\".likes-\"+pid).text(res.likes),$(\".dislikes-\"+pid).text(res.dislikes),$(\".like-btn-\"+pid).removeClass(\"fa-thumbs-up\").addClass(\"fa-thumbs-o-up\")}})});});</script></article></div><div class=\"clear\"></div><div style=\"margin-bottom:10px;margin-top:5px;\"><div class=\"ddl\" style=\"font-weight:700;color:#2b2b2b;\"><span class=\"rec_text\">Recommended Lists: </span><div class=\"combi_links\"> <a class=\"catmorelinks\" href=\"//www.thefamouspeople.com/soul-singers.php\">Soul Singers</a> </div><div class=\"combi_links\"> <a class=\"catmorelinks\" href=\"//www.thefamouspeople.com/vocalists.php\">Vocalists</a> </div></div></div><div class=\"wrapper\"><article class=\"feature col-lg-12 col-md-12 col-sm-12 col-xs-12 eventt internal_space\"><div class=\"ptitle\"><div style=\"display: flex;align-items: baseline;\"><div class=\"number\"> 29 </div><div class=\"ptitle-internal\" style=\"display:flex;flex-direction:column;\"><a class=\"tileLink\" href=\"//www.thefamouspeople.com/profiles/dolly-rebecca-parton-1236.php\">Dolly Parton</a><div class=\"\" style=\"font-size:14px;color:#666;margin-top: 0.5em;line-height: 1.6;\">(Singer-Songwriter and Actress, Primarily Known for Her Work in Country Music)</div></div><div class=\"clear\"></div></div><div class=\"clear\"></div></div><div class=\"clear\"></div><div class=\"image col-lg-4 col-md-5 col-sm-5 col-xs-12\"><a class=\"tileLink\" href=\"//www.thefamouspeople.com/profiles/dolly-rebecca-parton-1236.php\"><img alt=\"Dolly Parton\" class=\"combi-profile-img\" data-src=\"//www.thefamouspeople.com/profiles/thumbs/dolly-parton-3.jpg\" height=\"250\" src=\"\" title=\"Dolly Parton\" width=\"300\"/></a><div style=\"text-align:center;display: flex;justify-content: center;\"><div style=\"display:flex;flex-direction:column;align-items: center;\"><i class=\"fa fa-thumbs-o-up like-btn-1236\" data-id=\"1236\" data-placement=\"top\" data-toggle=\"tooltip\" onclick=\"_gaq.push(['_trackEvent', 'CatVote', 'Up-Vote-Clicked', 'Dolly Parton']);\" style=\"width:50px;height:50px;\" title=\"Vote For Your Favourite Singers\"></i><span class=\"likes likes-1236\">225</span></div><div style=\"display:flex;flex-direction:column;align-items: center;\"><i class=\"fa fa-thumbs-o-down dislike-btn-1236\" data-id=\"1236\" data-placement=\"top\" data-toggle=\"tooltip\" onclick=\"_gaq.push(['_trackEvent', 'CatVote', 'Down-Vote-Clicked', 'Dolly Parton']);\" style=\"width:50px;height:50px;\" title=\"Vote For Your Favourite Singers\"></i><span class=\"dislikes dislikes-1236\">139</span></div></div></div><div class=\"col-lg-8 col-md-7 col-sm-7 col-xs-12 rt-text-display\"><div class=\"desc-q\"><b>Listed In: </b><a href=\"//www.thefamouspeople.com/country-singers.php\">Country Singers</a></div><div class=\"desc-q\"><b>Birthdate: </b>January 19, 1946</div><div class=\"desc-q\"><b>Sun Sign: </b>Capricorn</div><div class=\"desc-q\"><b>Birthplace: </b>Sevier County, Tennessee, United States</div><div class=\"desc descEvent\"><p>Multifaceted personality, Dolly Parton is a singer, songwriter, record producer, actress, author and businesswoman and is known mainly for her work in country music. She has received various accolades and awards in her very successful singing career spanning several decades and has composed over 3,000 songs. She has also worked in several movies and is a prolific songwriter.</p></div></div><script>$(document).ready(function(){var pid =1236;var proname='';var page_url='//www.thefamouspeople.com/singers.php'; var ip = '2a06:98c0:3600::103'; var list_id = ' 25'; var uid ='7539142f08306d9c304dea98154572fa'; var page_type='category_parent'; var parent_cat_id = '0';$(\".like-btn-\"+pid).on(\"click\",function(){var s=$(this).data(\"id\");($clicked_btn=$(this)).hasClass(\"fa-thumbs-o-up\")?action=\"like\":$clicked_btn.hasClass(\"fa-thumbs-up\")&&(action=\"unlike\"),$.ajax({url:\"serverfile.php\",type:\"POST\",data:{action:action,post_id:s,user_id:uid,ip:ip,list_id:list_id,page_type:page_type,parent_cat_id:parent_cat_id,page_url:page_url,proname:proname},success:function(s){res=JSON.parse(s),\"like\"==action?($clicked_btn.removeClass(\"fa-thumbs-o-up\"),$clicked_btn.addClass(\"fa-thumbs-up\")):\"unlike\"==action&&($clicked_btn.removeClass(\"fa-thumbs-up\"),$clicked_btn.addClass(\"fa-thumbs-o-up\")),$(\".likes-\"+pid).text(res.likes),$(\".dislikes-\"+pid).text(res.dislikes),$(\".dislike-btn-\"+pid).removeClass(\"fa-thumbs-down\").addClass(\"fa-thumbs-o-down\")}})}),$(\".dislike-btn-\"+pid).on(\"click\",function(){var s=$(this).data(\"id\");($clicked_btn=$(this)).hasClass(\"fa-thumbs-o-down\")?action=\"dislike\":$clicked_btn.hasClass(\"fa-thumbs-down\")&&(action=\"undislike\"),$.ajax({url:\"serverfile.php\",type:\"POST\",data:{action:action,post_id:s,user_id:uid,ip:ip,list_id:list_id,page_type:page_type,parent_cat_id:parent_cat_id,page_url:page_url,proname:proname},success:function(s){res=JSON.parse(s),\"dislike\"==action?($clicked_btn.removeClass(\"fa-thumbs-o-down\"),$clicked_btn.addClass(\"fa-thumbs-down\")):\"undislike\"==action&&($clicked_btn.removeClass(\"fa-thumbs-down\"),$clicked_btn.addClass(\"fa-thumbs-o-down\")),$(\".likes-\"+pid).text(res.likes),$(\".dislikes-\"+pid).text(res.dislikes),$(\".like-btn-\"+pid).removeClass(\"fa-thumbs-up\").addClass(\"fa-thumbs-o-up\")}})});});</script></article></div><div class=\"clear\"></div><div class=\"wrapper\"><article class=\"feature col-lg-12 col-md-12 col-sm-12 col-xs-12 eventt internal_space\"><div class=\"ptitle\"><div style=\"display: flex;align-items: baseline;\"><div class=\"number\"> 30 </div><div class=\"ptitle-internal\" style=\"display:flex;flex-direction:column;\"><a class=\"tileLink\" href=\"//www.thefamouspeople.com/profiles/bruno-mars-6089.php\">Bruno Mars</a><div class=\"\" style=\"font-size:14px;color:#666;margin-top: 0.5em;line-height: 1.6;\">(First Artist to Receive five Diamond-certified Songs in the U.S.)</div></div><div class=\"clear\"></div></div><div class=\"clear\"></div></div><div class=\"clear\"></div><div class=\"image col-lg-4 col-md-5 col-sm-5 col-xs-12\"><a class=\"tileLink\" href=\"//www.thefamouspeople.com/profiles/bruno-mars-6089.php\"><img alt=\"Bruno Mars\" class=\"combi-profile-img\" data-src=\"//www.thefamouspeople.com/profiles/thumbs/bruno-mars-7.jpg\" height=\"250\" src=\"\" title=\"Bruno Mars\" width=\"300\"/></a><div style=\"text-align:center;display: flex;justify-content: center;\"><div style=\"display:flex;flex-direction:column;align-items: center;\"><i class=\"fa fa-thumbs-o-up like-btn-6089\" data-id=\"6089\" data-placement=\"top\" data-toggle=\"tooltip\" onclick=\"_gaq.push(['_trackEvent', 'CatVote', 'Up-Vote-Clicked', 'Bruno Mars']);\" style=\"width:50px;height:50px;\" title=\"Vote For Your Favourite Singers\"></i><span class=\"likes likes-6089\">620</span></div><div style=\"display:flex;flex-direction:column;align-items: center;\"><i class=\"fa fa-thumbs-o-down dislike-btn-6089\" data-id=\"6089\" data-placement=\"top\" data-toggle=\"tooltip\" onclick=\"_gaq.push(['_trackEvent', 'CatVote', 'Down-Vote-Clicked', 'Bruno Mars']);\" style=\"width:50px;height:50px;\" title=\"Vote For Your Favourite Singers\"></i><span class=\"dislikes dislikes-6089\">245</span></div></div></div><div class=\"col-lg-8 col-md-7 col-sm-7 col-xs-12 rt-text-display\"><div class=\"desc-q\"><b>Listed In: </b><a href=\"//www.thefamouspeople.com/record-producers.php\">Record Producers</a>, <a href=\"//www.thefamouspeople.com/pop-singers.php\">Pop Singers</a>, <a href=\"//www.thefamouspeople.com/rhythm-blues-singers.php\">Rhythm &amp; Blues Singers</a></div><div class=\"desc-q\"><b>Birthdate: </b>October 8, 1985</div><div class=\"desc-q\"><b>Sun Sign: </b>Libra</div><div class=\"desc-q\"><b>Birthplace: </b>Honolulu, Hawaii, United States</div><div class=\"desc descEvent\"><p>American singer, Bruno Mars, is one of the best-selling artists of all time. He has a wide range of musical style like R&amp;B, pop, funk, reggae, hip hop and rock. He is also known for his stage performances. <em>Locked Out of Heaven</em>, <em>When I Was Your Man</em>, <em>24K Magic </em>and <em>That's What I Like</em> are some of his hit songs.</p></div></div><script>$(document).ready(function(){var pid =6089;var proname='';var page_url='//www.thefamouspeople.com/singers.php'; var ip = '2a06:98c0:3600::103'; var list_id = ' 25'; var uid ='7539142f08306d9c304dea98154572fa'; var page_type='category_parent'; var parent_cat_id = '0';$(\".like-btn-\"+pid).on(\"click\",function(){var s=$(this).data(\"id\");($clicked_btn=$(this)).hasClass(\"fa-thumbs-o-up\")?action=\"like\":$clicked_btn.hasClass(\"fa-thumbs-up\")&&(action=\"unlike\"),$.ajax({url:\"serverfile.php\",type:\"POST\",data:{action:action,post_id:s,user_id:uid,ip:ip,list_id:list_id,page_type:page_type,parent_cat_id:parent_cat_id,page_url:page_url,proname:proname},success:function(s){res=JSON.parse(s),\"like\"==action?($clicked_btn.removeClass(\"fa-thumbs-o-up\"),$clicked_btn.addClass(\"fa-thumbs-up\")):\"unlike\"==action&&($clicked_btn.removeClass(\"fa-thumbs-up\"),$clicked_btn.addClass(\"fa-thumbs-o-up\")),$(\".likes-\"+pid).text(res.likes),$(\".dislikes-\"+pid).text(res.dislikes),$(\".dislike-btn-\"+pid).removeClass(\"fa-thumbs-down\").addClass(\"fa-thumbs-o-down\")}})}),$(\".dislike-btn-\"+pid).on(\"click\",function(){var s=$(this).data(\"id\");($clicked_btn=$(this)).hasClass(\"fa-thumbs-o-down\")?action=\"dislike\":$clicked_btn.hasClass(\"fa-thumbs-down\")&&(action=\"undislike\"),$.ajax({url:\"serverfile.php\",type:\"POST\",data:{action:action,post_id:s,user_id:uid,ip:ip,list_id:list_id,page_type:page_type,parent_cat_id:parent_cat_id,page_url:page_url,proname:proname},success:function(s){res=JSON.parse(s),\"dislike\"==action?($clicked_btn.removeClass(\"fa-thumbs-o-down\"),$clicked_btn.addClass(\"fa-thumbs-down\")):\"undislike\"==action&&($clicked_btn.removeClass(\"fa-thumbs-down\"),$clicked_btn.addClass(\"fa-thumbs-o-down\")),$(\".likes-\"+pid).text(res.likes),$(\".dislikes-\"+pid).text(res.dislikes),$(\".like-btn-\"+pid).removeClass(\"fa-thumbs-up\").addClass(\"fa-thumbs-o-up\")}})});});</script></article></div><div class=\"clear\"></div><div class=\"col-lg-12 col-md-12 col-xs-12 col-sm-12\" style=\"margin:20px 0px;height:250px;\"><div class=\"center-ad desktop_ad\">\n",
       "<div class=\"_ap_apex_ad\" id=\"5655a656-98ad-4563-9ec0-8f844b708ca6\">\n",
       "<script>\n",
       "var adpushup = window.adpushup = window.adpushup || {};\n",
       "adpushup.que = adpushup.que || [];\n",
       "adpushup.que.push(function() {\n",
       "\tadpushup.triggerAd(\"5655a656-98ad-4563-9ec0-8f844b708ca6\");\n",
       "});\n",
       "</script>\n",
       "</div>\n",
       "</div><div class=\"center-ad tablet_ad\">\n",
       "<div class=\"_ap_apex_ad\" id=\"5655a656-98ad-4563-9ec0-8f844b708ca6\">\n",
       "<script>\n",
       "var adpushup = window.adpushup = window.adpushup || {};\n",
       "adpushup.que = adpushup.que || [];\n",
       "adpushup.que.push(function() {\n",
       "\tadpushup.triggerAd(\"5655a656-98ad-4563-9ec0-8f844b708ca6\");\n",
       "});\n",
       "</script>\n",
       "</div>\n",
       "</div><div class=\"center-ad mobile_ad\">\n",
       "<div class=\"_ap_apex_ad\" id=\"2fc1129b-a969-4ae5-bc29-2ffea14b72f9\">\n",
       "<script>\n",
       "var adpushup = window.adpushup = window.adpushup || {};\n",
       "adpushup.que = adpushup.que || [];\n",
       "adpushup.que.push(function() {\n",
       "\tadpushup.triggerAd(\"2fc1129b-a969-4ae5-bc29-2ffea14b72f9\");\n",
       "});\n",
       "</script>\n",
       "</div>\n",
       "</div></div><div class=\"clear\"></div><div class=\"wrapper\"><article class=\"feature col-lg-12 col-md-12 col-sm-12 col-xs-12 eventt internal_space\"><div class=\"ptitle\"><div style=\"display: flex;align-items: baseline;\"><div class=\"number\"> 31 </div><div class=\"ptitle-internal\" style=\"display:flex;flex-direction:column;\"><a class=\"tileLink\" href=\"//www.thefamouspeople.com/profiles/demi-lovato-6127.php\">Demi Lovato</a><div class=\"\" style=\"font-size:14px;color:#666;margin-top: 0.5em;line-height: 1.6;\">(Singer, Songwriter, Actress)</div></div><div class=\"clear\"></div></div><div class=\"clear\"></div></div><div class=\"clear\"></div><div class=\"image col-lg-4 col-md-5 col-sm-5 col-xs-12\"><a class=\"tileLink\" href=\"//www.thefamouspeople.com/profiles/demi-lovato-6127.php\"><img alt=\"Demi Lovato\" class=\"combi-profile-img\" data-src=\"//www.thefamouspeople.com/profiles/thumbs/demi-lovato-6.jpg\" height=\"250\" src=\"\" title=\"Demi Lovato\" width=\"300\"/></a><div style=\"text-align:center;display: flex;justify-content: center;\"><div style=\"display:flex;flex-direction:column;align-items: center;\"><i class=\"fa fa-thumbs-o-up like-btn-6127\" data-id=\"6127\" data-placement=\"top\" data-toggle=\"tooltip\" onclick=\"_gaq.push(['_trackEvent', 'CatVote', 'Up-Vote-Clicked', 'Demi Lovato']);\" style=\"width:50px;height:50px;\" title=\"Vote For Your Favourite Singers\"></i><span class=\"likes likes-6127\">441</span></div><div style=\"display:flex;flex-direction:column;align-items: center;\"><i class=\"fa fa-thumbs-o-down dislike-btn-6127\" data-id=\"6127\" data-placement=\"top\" data-toggle=\"tooltip\" onclick=\"_gaq.push(['_trackEvent', 'CatVote', 'Down-Vote-Clicked', 'Demi Lovato']);\" style=\"width:50px;height:50px;\" title=\"Vote For Your Favourite Singers\"></i><span class=\"dislikes dislikes-6127\">287</span></div></div></div><div class=\"col-lg-8 col-md-7 col-sm-7 col-xs-12 rt-text-display\"><div class=\"desc-q\"><b>Listed In: </b><a href=\"//www.thefamouspeople.com/pop-rock-singers.php\">Pop Rock Singers</a>, <a href=\"//www.thefamouspeople.com/pop-singers.php\">Pop Singers</a>, <a href=\"//www.thefamouspeople.com/rhythm-blues-singers.php\">Rhythm &amp; Blues Singers</a></div><div class=\"desc-q\"><b>Birthdate: </b>August 20, 1992</div><div class=\"desc-q\"><b>Sun Sign: </b>Leo</div><div class=\"desc-q\"><b>Birthplace: </b>Albuquerque, New Mexico, United States</div><div class=\"desc descEvent\"><p>Demi Lovato rose to fame with the television film <em>Camp Rock</em>, but became highly successful as singer when she released her pop rock debut album, <em>Don't Forget</em> in 2008, which was followed by many more albums seeing millions in sale. Her health issues like bipolar disorder, anorexia nervosa and drug and alcohol addictions have received significant media attention.</p></div></div><script>$(document).ready(function(){var pid =6127;var proname='';var page_url='//www.thefamouspeople.com/singers.php'; var ip = '2a06:98c0:3600::103'; var list_id = ' 25'; var uid ='7539142f08306d9c304dea98154572fa'; var page_type='category_parent'; var parent_cat_id = '0';$(\".like-btn-\"+pid).on(\"click\",function(){var s=$(this).data(\"id\");($clicked_btn=$(this)).hasClass(\"fa-thumbs-o-up\")?action=\"like\":$clicked_btn.hasClass(\"fa-thumbs-up\")&&(action=\"unlike\"),$.ajax({url:\"serverfile.php\",type:\"POST\",data:{action:action,post_id:s,user_id:uid,ip:ip,list_id:list_id,page_type:page_type,parent_cat_id:parent_cat_id,page_url:page_url,proname:proname},success:function(s){res=JSON.parse(s),\"like\"==action?($clicked_btn.removeClass(\"fa-thumbs-o-up\"),$clicked_btn.addClass(\"fa-thumbs-up\")):\"unlike\"==action&&($clicked_btn.removeClass(\"fa-thumbs-up\"),$clicked_btn.addClass(\"fa-thumbs-o-up\")),$(\".likes-\"+pid).text(res.likes),$(\".dislikes-\"+pid).text(res.dislikes),$(\".dislike-btn-\"+pid).removeClass(\"fa-thumbs-down\").addClass(\"fa-thumbs-o-down\")}})}),$(\".dislike-btn-\"+pid).on(\"click\",function(){var s=$(this).data(\"id\");($clicked_btn=$(this)).hasClass(\"fa-thumbs-o-down\")?action=\"dislike\":$clicked_btn.hasClass(\"fa-thumbs-down\")&&(action=\"undislike\"),$.ajax({url:\"serverfile.php\",type:\"POST\",data:{action:action,post_id:s,user_id:uid,ip:ip,list_id:list_id,page_type:page_type,parent_cat_id:parent_cat_id,page_url:page_url,proname:proname},success:function(s){res=JSON.parse(s),\"dislike\"==action?($clicked_btn.removeClass(\"fa-thumbs-o-down\"),$clicked_btn.addClass(\"fa-thumbs-down\")):\"undislike\"==action&&($clicked_btn.removeClass(\"fa-thumbs-down\"),$clicked_btn.addClass(\"fa-thumbs-o-down\")),$(\".likes-\"+pid).text(res.likes),$(\".dislikes-\"+pid).text(res.dislikes),$(\".like-btn-\"+pid).removeClass(\"fa-thumbs-up\").addClass(\"fa-thumbs-o-up\")}})});});</script></article></div><div class=\"clear\"></div><div class=\"wrapper\"><article class=\"feature col-lg-12 col-md-12 col-sm-12 col-xs-12 eventt internal_space\"><div class=\"ptitle\"><div style=\"display: flex;align-items: baseline;\"><div class=\"number\"> 32 </div><div class=\"ptitle-internal\" style=\"display:flex;flex-direction:column;\"><a class=\"tileLink\" href=\"//www.thefamouspeople.com/profiles/dr-dre-6207.php\">Dr. Dre</a><div class=\"\" style=\"font-size:14px;color:#666;margin-top: 0.5em;line-height: 1.6;\">(Rapper, Record Producer &amp; Entrepreneur)</div></div><div class=\"clear\"></div></div><div class=\"clear\"></div></div><div class=\"clear\"></div><div class=\"image col-lg-4 col-md-5 col-sm-5 col-xs-12\"><a class=\"tileLink\" href=\"//www.thefamouspeople.com/profiles/dr-dre-6207.php\"><img alt=\"Dr. Dre\" class=\"combi-profile-img\" data-src=\"//www.thefamouspeople.com/profiles/thumbs/dr-dre-4.jpg\" height=\"250\" src=\"\" title=\"Dr. Dre\" width=\"300\"/></a><div style=\"text-align:center;display: flex;justify-content: center;\"><div style=\"display:flex;flex-direction:column;align-items: center;\"><i class=\"fa fa-thumbs-o-up like-btn-6207\" data-id=\"6207\" data-placement=\"top\" data-toggle=\"tooltip\" onclick=\"_gaq.push(['_trackEvent', 'CatVote', 'Up-Vote-Clicked', 'Dr. Dre']);\" style=\"width:50px;height:50px;\" title=\"Vote For Your Favourite Singers\"></i><span class=\"likes likes-6207\">299</span></div><div style=\"display:flex;flex-direction:column;align-items: center;\"><i class=\"fa fa-thumbs-o-down dislike-btn-6207\" data-id=\"6207\" data-placement=\"top\" data-toggle=\"tooltip\" onclick=\"_gaq.push(['_trackEvent', 'CatVote', 'Down-Vote-Clicked', 'Dr. Dre']);\" style=\"width:50px;height:50px;\" title=\"Vote For Your Favourite Singers\"></i><span class=\"dislikes dislikes-6207\">205</span></div></div></div><div class=\"col-lg-8 col-md-7 col-sm-7 col-xs-12 rt-text-display\"><div class=\"desc-q\"><b>Listed In: </b><a href=\"//www.thefamouspeople.com/rappers.php\">Rappers</a>, <a href=\"//www.thefamouspeople.com/hip-hop-rappers.php\">Hip Hop Singers</a></div><div class=\"desc-q\"><b>Birthdate: </b>February 18, 1965</div><div class=\"desc-q\"><b>Sun Sign: </b>Aquarius</div><div class=\"desc-q\"><b>Birthplace: </b>Compton, California, United States</div><div class=\"desc descEvent\"><p>Rapper, record producer, and audio engineer, Dr. Dre, is the founder and CEO of Aftermath Entertainment and Beats Electronics. He is credited with the popularization of  West Coast G-funk, a sub-genre of hip hop. After establishing himself in the music industry, he promoted the careers of many other rappers, including 2Pac and Snoop Dogg.</p></div></div><script>$(document).ready(function(){var pid =6207;var proname='';var page_url='//www.thefamouspeople.com/singers.php'; var ip = '2a06:98c0:3600::103'; var list_id = ' 25'; var uid ='7539142f08306d9c304dea98154572fa'; var page_type='category_parent'; var parent_cat_id = '0';$(\".like-btn-\"+pid).on(\"click\",function(){var s=$(this).data(\"id\");($clicked_btn=$(this)).hasClass(\"fa-thumbs-o-up\")?action=\"like\":$clicked_btn.hasClass(\"fa-thumbs-up\")&&(action=\"unlike\"),$.ajax({url:\"serverfile.php\",type:\"POST\",data:{action:action,post_id:s,user_id:uid,ip:ip,list_id:list_id,page_type:page_type,parent_cat_id:parent_cat_id,page_url:page_url,proname:proname},success:function(s){res=JSON.parse(s),\"like\"==action?($clicked_btn.removeClass(\"fa-thumbs-o-up\"),$clicked_btn.addClass(\"fa-thumbs-up\")):\"unlike\"==action&&($clicked_btn.removeClass(\"fa-thumbs-up\"),$clicked_btn.addClass(\"fa-thumbs-o-up\")),$(\".likes-\"+pid).text(res.likes),$(\".dislikes-\"+pid).text(res.dislikes),$(\".dislike-btn-\"+pid).removeClass(\"fa-thumbs-down\").addClass(\"fa-thumbs-o-down\")}})}),$(\".dislike-btn-\"+pid).on(\"click\",function(){var s=$(this).data(\"id\");($clicked_btn=$(this)).hasClass(\"fa-thumbs-o-down\")?action=\"dislike\":$clicked_btn.hasClass(\"fa-thumbs-down\")&&(action=\"undislike\"),$.ajax({url:\"serverfile.php\",type:\"POST\",data:{action:action,post_id:s,user_id:uid,ip:ip,list_id:list_id,page_type:page_type,parent_cat_id:parent_cat_id,page_url:page_url,proname:proname},success:function(s){res=JSON.parse(s),\"dislike\"==action?($clicked_btn.removeClass(\"fa-thumbs-o-down\"),$clicked_btn.addClass(\"fa-thumbs-down\")):\"undislike\"==action&&($clicked_btn.removeClass(\"fa-thumbs-down\"),$clicked_btn.addClass(\"fa-thumbs-o-down\")),$(\".likes-\"+pid).text(res.likes),$(\".dislikes-\"+pid).text(res.dislikes),$(\".like-btn-\"+pid).removeClass(\"fa-thumbs-up\").addClass(\"fa-thumbs-o-up\")}})});});</script></article></div><div class=\"clear\"></div><div class=\"wrapper\"><article class=\"feature col-lg-12 col-md-12 col-sm-12 col-xs-12 eventt internal_space\"><div class=\"ptitle\"><div style=\"display: flex;align-items: baseline;\"><div class=\"number\"> 33 </div><div class=\"ptitle-internal\" style=\"display:flex;flex-direction:column;\"><a class=\"tileLink\" href=\"//www.thefamouspeople.com/profiles/francis-albert-sinatra-1419.php\">Frank Sinatra</a><div class=\"\" style=\"font-size:14px;color:#666;margin-top: 0.5em;line-height: 1.6;\">(One of The World's Best-selling Music Artists of All Time)</div></div><div class=\"clear\"></div></div><div class=\"clear\"></div></div><div class=\"clear\"></div><div class=\"image col-lg-4 col-md-5 col-sm-5 col-xs-12\"><a class=\"tileLink\" href=\"//www.thefamouspeople.com/profiles/francis-albert-sinatra-1419.php\"><img alt=\"Frank Sinatra\" class=\"combi-profile-img\" data-src=\"//www.thefamouspeople.com/profiles/thumbs/frank-sinatra-1.jpg\" height=\"250\" src=\"\" title=\"Frank Sinatra\" width=\"300\"/></a><div style=\"text-align:center;display: flex;justify-content: center;\"><div style=\"display:flex;flex-direction:column;align-items: center;\"><i class=\"fa fa-thumbs-o-up like-btn-1419\" data-id=\"1419\" data-placement=\"top\" data-toggle=\"tooltip\" onclick=\"_gaq.push(['_trackEvent', 'CatVote', 'Up-Vote-Clicked', 'Frank Sinatra']);\" style=\"width:50px;height:50px;\" title=\"Vote For Your Favourite Singers\"></i><span class=\"likes likes-1419\">143</span></div><div style=\"display:flex;flex-direction:column;align-items: center;\"><i class=\"fa fa-thumbs-o-down dislike-btn-1419\" data-id=\"1419\" data-placement=\"top\" data-toggle=\"tooltip\" onclick=\"_gaq.push(['_trackEvent', 'CatVote', 'Down-Vote-Clicked', 'Frank Sinatra']);\" style=\"width:50px;height:50px;\" title=\"Vote For Your Favourite Singers\"></i><span class=\"dislikes dislikes-1419\">70</span></div></div></div><div class=\"col-lg-8 col-md-7 col-sm-7 col-xs-12 rt-text-display\"><div class=\"desc-q\"><b>Listed In: </b><a href=\"//www.thefamouspeople.com/pop-singers.php\">Pop Singers</a>, <a href=\"//www.thefamouspeople.com/actors.php\">Actors</a></div><div class=\"desc-q\"><b>Birthdate: </b>December 12, 1915</div><div class=\"desc-q\"><b>Sun Sign: </b>Sagittarius</div><div class=\"desc-q\"><b>Birthplace: </b>Hoboken, New Jersey, United States</div><div class=\"desc-q\"><b>Died: </b>May 14, 1998</div><div class=\"desc descEvent\"><p>Amongst the most popular singers of the 20th century and one of the bestselling artists of all time, Frank Sinatra began his musical career singing with bands and later established his successful solo career with albums like <em>The Voice of Frank Sinatra</em>. Also an award winning actor, he featured in movies like <em>From Here to Eternity</em> and <em>The Manchurian Candidate</em>.</p></div></div><script>$(document).ready(function(){var pid =1419;var proname='';var page_url='//www.thefamouspeople.com/singers.php'; var ip = '2a06:98c0:3600::103'; var list_id = ' 25'; var uid ='7539142f08306d9c304dea98154572fa'; var page_type='category_parent'; var parent_cat_id = '0';$(\".like-btn-\"+pid).on(\"click\",function(){var s=$(this).data(\"id\");($clicked_btn=$(this)).hasClass(\"fa-thumbs-o-up\")?action=\"like\":$clicked_btn.hasClass(\"fa-thumbs-up\")&&(action=\"unlike\"),$.ajax({url:\"serverfile.php\",type:\"POST\",data:{action:action,post_id:s,user_id:uid,ip:ip,list_id:list_id,page_type:page_type,parent_cat_id:parent_cat_id,page_url:page_url,proname:proname},success:function(s){res=JSON.parse(s),\"like\"==action?($clicked_btn.removeClass(\"fa-thumbs-o-up\"),$clicked_btn.addClass(\"fa-thumbs-up\")):\"unlike\"==action&&($clicked_btn.removeClass(\"fa-thumbs-up\"),$clicked_btn.addClass(\"fa-thumbs-o-up\")),$(\".likes-\"+pid).text(res.likes),$(\".dislikes-\"+pid).text(res.dislikes),$(\".dislike-btn-\"+pid).removeClass(\"fa-thumbs-down\").addClass(\"fa-thumbs-o-down\")}})}),$(\".dislike-btn-\"+pid).on(\"click\",function(){var s=$(this).data(\"id\");($clicked_btn=$(this)).hasClass(\"fa-thumbs-o-down\")?action=\"dislike\":$clicked_btn.hasClass(\"fa-thumbs-down\")&&(action=\"undislike\"),$.ajax({url:\"serverfile.php\",type:\"POST\",data:{action:action,post_id:s,user_id:uid,ip:ip,list_id:list_id,page_type:page_type,parent_cat_id:parent_cat_id,page_url:page_url,proname:proname},success:function(s){res=JSON.parse(s),\"dislike\"==action?($clicked_btn.removeClass(\"fa-thumbs-o-down\"),$clicked_btn.addClass(\"fa-thumbs-down\")):\"undislike\"==action&&($clicked_btn.removeClass(\"fa-thumbs-down\"),$clicked_btn.addClass(\"fa-thumbs-o-down\")),$(\".likes-\"+pid).text(res.likes),$(\".dislikes-\"+pid).text(res.dislikes),$(\".like-btn-\"+pid).removeClass(\"fa-thumbs-up\").addClass(\"fa-thumbs-o-up\")}})});});</script></article></div><div class=\"clear\"></div><div class=\"wrapper\"><article class=\"feature col-lg-12 col-md-12 col-sm-12 col-xs-12 eventt internal_space\"><div class=\"ptitle\"><div style=\"display: flex;align-items: baseline;\"><div class=\"number\"> 34 </div><div class=\"ptitle-internal\" style=\"display:flex;flex-direction:column;\"><a class=\"tileLink\" href=\"//www.thefamouspeople.com/profiles/john-r-cash-1978.php\">Johnny Cash</a><div class=\"\" style=\"font-size:14px;color:#666;margin-top: 0.5em;line-height: 1.6;\">(One of the Best-Selling Music Artists of All Time)</div></div><div class=\"clear\"></div></div><div class=\"clear\"></div></div><div class=\"clear\"></div><div class=\"image col-lg-4 col-md-5 col-sm-5 col-xs-12\"><a class=\"tileLink\" href=\"//www.thefamouspeople.com/profiles/john-r-cash-1978.php\"><img alt=\"Johnny Cash\" class=\"combi-profile-img\" data-src=\"//www.thefamouspeople.com/profiles/thumbs/johnny-cash-6.jpg\" height=\"250\" src=\"\" title=\"Johnny Cash\" width=\"300\"/></a><div style=\"text-align:center;display: flex;justify-content: center;\"><div style=\"display:flex;flex-direction:column;align-items: center;\"><i class=\"fa fa-thumbs-o-up like-btn-1978\" data-id=\"1978\" data-placement=\"top\" data-toggle=\"tooltip\" onclick=\"_gaq.push(['_trackEvent', 'CatVote', 'Up-Vote-Clicked', 'Johnny Cash']);\" style=\"width:50px;height:50px;\" title=\"Vote For Your Favourite Singers\"></i><span class=\"likes likes-1978\">145</span></div><div style=\"display:flex;flex-direction:column;align-items: center;\"><i class=\"fa fa-thumbs-o-down dislike-btn-1978\" data-id=\"1978\" data-placement=\"top\" data-toggle=\"tooltip\" onclick=\"_gaq.push(['_trackEvent', 'CatVote', 'Down-Vote-Clicked', 'Johnny Cash']);\" style=\"width:50px;height:50px;\" title=\"Vote For Your Favourite Singers\"></i><span class=\"dislikes dislikes-1978\">79</span></div></div></div><div class=\"col-lg-8 col-md-7 col-sm-7 col-xs-12 rt-text-display\"><div class=\"desc-q\"><b>Listed In: </b><a href=\"//www.thefamouspeople.com/gospel-singers.php\">Gospel Singers</a>, <a href=\"//www.thefamouspeople.com/country-singers.php\">Country Singers</a>, <a href=\"//www.thefamouspeople.com/lyricists.php\">Lyricists &amp; Songwriters</a></div><div class=\"desc-q\"><b>Birthdate: </b>February 26, 1932</div><div class=\"desc-q\"><b>Sun Sign: </b>Pisces</div><div class=\"desc-q\"><b>Birthplace: </b>Kingsland, Arkansas, United States</div><div class=\"desc-q\"><b>Died: </b>September 12, 2003</div><div class=\"desc descEvent\"><p>Johnny Cash, the American singer, songwriter and actor, was known for sorrow, moral suffering and redemption themes in his music. His genre was country, rock and roll, blues, folk and gospel sounds and he is one of the best-selling artists of all time. Cash had issues with drinking and drug abuse. Later he was diagnosed with a neurodegenerative disease.</p></div></div><script>$(document).ready(function(){var pid =1978;var proname='';var page_url='//www.thefamouspeople.com/singers.php'; var ip = '2a06:98c0:3600::103'; var list_id = ' 25'; var uid ='7539142f08306d9c304dea98154572fa'; var page_type='category_parent'; var parent_cat_id = '0';$(\".like-btn-\"+pid).on(\"click\",function(){var s=$(this).data(\"id\");($clicked_btn=$(this)).hasClass(\"fa-thumbs-o-up\")?action=\"like\":$clicked_btn.hasClass(\"fa-thumbs-up\")&&(action=\"unlike\"),$.ajax({url:\"serverfile.php\",type:\"POST\",data:{action:action,post_id:s,user_id:uid,ip:ip,list_id:list_id,page_type:page_type,parent_cat_id:parent_cat_id,page_url:page_url,proname:proname},success:function(s){res=JSON.parse(s),\"like\"==action?($clicked_btn.removeClass(\"fa-thumbs-o-up\"),$clicked_btn.addClass(\"fa-thumbs-up\")):\"unlike\"==action&&($clicked_btn.removeClass(\"fa-thumbs-up\"),$clicked_btn.addClass(\"fa-thumbs-o-up\")),$(\".likes-\"+pid).text(res.likes),$(\".dislikes-\"+pid).text(res.dislikes),$(\".dislike-btn-\"+pid).removeClass(\"fa-thumbs-down\").addClass(\"fa-thumbs-o-down\")}})}),$(\".dislike-btn-\"+pid).on(\"click\",function(){var s=$(this).data(\"id\");($clicked_btn=$(this)).hasClass(\"fa-thumbs-o-down\")?action=\"dislike\":$clicked_btn.hasClass(\"fa-thumbs-down\")&&(action=\"undislike\"),$.ajax({url:\"serverfile.php\",type:\"POST\",data:{action:action,post_id:s,user_id:uid,ip:ip,list_id:list_id,page_type:page_type,parent_cat_id:parent_cat_id,page_url:page_url,proname:proname},success:function(s){res=JSON.parse(s),\"dislike\"==action?($clicked_btn.removeClass(\"fa-thumbs-o-down\"),$clicked_btn.addClass(\"fa-thumbs-down\")):\"undislike\"==action&&($clicked_btn.removeClass(\"fa-thumbs-down\"),$clicked_btn.addClass(\"fa-thumbs-o-down\")),$(\".likes-\"+pid).text(res.likes),$(\".dislikes-\"+pid).text(res.dislikes),$(\".like-btn-\"+pid).removeClass(\"fa-thumbs-up\").addClass(\"fa-thumbs-o-up\")}})});});</script></article></div><div class=\"clear\"></div><div class=\"wrapper\"><article class=\"feature col-lg-12 col-md-12 col-sm-12 col-xs-12 eventt internal_space\"><div class=\"ptitle\"><div style=\"display: flex;align-items: baseline;\"><div class=\"number\"> 35 </div><div class=\"ptitle-internal\" style=\"display:flex;flex-direction:column;\"><a class=\"tileLink\" href=\"//www.thefamouspeople.com/profiles/travis-scott-37591.php\">Travis Scott</a><div class=\"\" style=\"font-size:14px;color:#666;margin-top: 0.5em;line-height: 1.6;\">(Rapper)</div></div><div class=\"clear\"></div></div><div class=\"clear\"></div></div><div class=\"clear\"></div><div class=\"image col-lg-4 col-md-5 col-sm-5 col-xs-12\"><a class=\"tileLink\" href=\"//www.thefamouspeople.com/profiles/travis-scott-37591.php\"><img alt=\"Travis Scott\" class=\"combi-profile-img\" data-src=\"//www.thefamouspeople.com/profiles/thumbs/travis-scott-1.jpg\" height=\"250\" src=\"\" title=\"Travis Scott\" width=\"300\"/></a><div style=\"text-align:center;display: flex;justify-content: center;\"><div style=\"display:flex;flex-direction:column;align-items: center;\"><i class=\"fa fa-thumbs-o-up like-btn-37591\" data-id=\"37591\" data-placement=\"top\" data-toggle=\"tooltip\" onclick=\"_gaq.push(['_trackEvent', 'CatVote', 'Up-Vote-Clicked', 'Travis Scott']);\" style=\"width:50px;height:50px;\" title=\"Vote For Your Favourite Singers\"></i><span class=\"likes likes-37591\">560</span></div><div style=\"display:flex;flex-direction:column;align-items: center;\"><i class=\"fa fa-thumbs-o-down dislike-btn-37591\" data-id=\"37591\" data-placement=\"top\" data-toggle=\"tooltip\" onclick=\"_gaq.push(['_trackEvent', 'CatVote', 'Down-Vote-Clicked', 'Travis Scott']);\" style=\"width:50px;height:50px;\" title=\"Vote For Your Favourite Singers\"></i><span class=\"dislikes dislikes-37591\">443</span></div></div></div><div class=\"col-lg-8 col-md-7 col-sm-7 col-xs-12 rt-text-display\"><div class=\"desc-q\"><b>Listed In: </b><a href=\"//www.thefamouspeople.com/rappers.php\">Rappers</a></div><div class=\"desc-q\"><b>Birthdate: </b>1992</div><div class=\"desc-q\"><b>Sun Sign: </b>Aries</div><div class=\"desc-q\"><b>Birthplace: </b>Houston, Texas, United States</div><div class=\"desc descEvent\"><p>Travis Scott is a highly successful rapper, singer and songwriter. In 2016, his second albun, <em>Birds in the Trap Sing McKnight</em> became his first number one album on the Billboard 200. It was followed by his album, <em>Astroworld,</em> which received widespread critical praise. His music is a fusion of fusion of traditional, hip hop, lo-fi and ambient.</p></div></div><script>$(document).ready(function(){var pid =37591;var proname='';var page_url='//www.thefamouspeople.com/singers.php'; var ip = '2a06:98c0:3600::103'; var list_id = ' 25'; var uid ='7539142f08306d9c304dea98154572fa'; var page_type='category_parent'; var parent_cat_id = '0';$(\".like-btn-\"+pid).on(\"click\",function(){var s=$(this).data(\"id\");($clicked_btn=$(this)).hasClass(\"fa-thumbs-o-up\")?action=\"like\":$clicked_btn.hasClass(\"fa-thumbs-up\")&&(action=\"unlike\"),$.ajax({url:\"serverfile.php\",type:\"POST\",data:{action:action,post_id:s,user_id:uid,ip:ip,list_id:list_id,page_type:page_type,parent_cat_id:parent_cat_id,page_url:page_url,proname:proname},success:function(s){res=JSON.parse(s),\"like\"==action?($clicked_btn.removeClass(\"fa-thumbs-o-up\"),$clicked_btn.addClass(\"fa-thumbs-up\")):\"unlike\"==action&&($clicked_btn.removeClass(\"fa-thumbs-up\"),$clicked_btn.addClass(\"fa-thumbs-o-up\")),$(\".likes-\"+pid).text(res.likes),$(\".dislikes-\"+pid).text(res.dislikes),$(\".dislike-btn-\"+pid).removeClass(\"fa-thumbs-down\").addClass(\"fa-thumbs-o-down\")}})}),$(\".dislike-btn-\"+pid).on(\"click\",function(){var s=$(this).data(\"id\");($clicked_btn=$(this)).hasClass(\"fa-thumbs-o-down\")?action=\"dislike\":$clicked_btn.hasClass(\"fa-thumbs-down\")&&(action=\"undislike\"),$.ajax({url:\"serverfile.php\",type:\"POST\",data:{action:action,post_id:s,user_id:uid,ip:ip,list_id:list_id,page_type:page_type,parent_cat_id:parent_cat_id,page_url:page_url,proname:proname},success:function(s){res=JSON.parse(s),\"dislike\"==action?($clicked_btn.removeClass(\"fa-thumbs-o-down\"),$clicked_btn.addClass(\"fa-thumbs-down\")):\"undislike\"==action&&($clicked_btn.removeClass(\"fa-thumbs-down\"),$clicked_btn.addClass(\"fa-thumbs-o-down\")),$(\".likes-\"+pid).text(res.likes),$(\".dislikes-\"+pid).text(res.dislikes),$(\".like-btn-\"+pid).removeClass(\"fa-thumbs-up\").addClass(\"fa-thumbs-o-up\")}})});});</script></article></div><div class=\"clear\"></div><div class=\"col-lg-12 col-md-12 col-xs-12 col-sm-12\" style=\"margin:20px 0px;height:250px;\"><div class=\"center-ad desktop_ad\">\n",
       "<div class=\"_ap_apex_ad\" id=\"5655a656-98ad-4563-9ec0-8f844b708ca6\">\n",
       "<script>\n",
       "var adpushup = window.adpushup = window.adpushup || {};\n",
       "adpushup.que = adpushup.que || [];\n",
       "adpushup.que.push(function() {\n",
       "\tadpushup.triggerAd(\"5655a656-98ad-4563-9ec0-8f844b708ca6\");\n",
       "});\n",
       "</script>\n",
       "</div>\n",
       "</div><div class=\"center-ad tablet_ad\">\n",
       "<div class=\"_ap_apex_ad\" id=\"5655a656-98ad-4563-9ec0-8f844b708ca6\">\n",
       "<script>\n",
       "var adpushup = window.adpushup = window.adpushup || {};\n",
       "adpushup.que = adpushup.que || [];\n",
       "adpushup.que.push(function() {\n",
       "\tadpushup.triggerAd(\"5655a656-98ad-4563-9ec0-8f844b708ca6\");\n",
       "});\n",
       "</script>\n",
       "</div>\n",
       "</div><div class=\"center-ad mobile_ad\">\n",
       "<div class=\"_ap_apex_ad\" id=\"2fc1129b-a969-4ae5-bc29-2ffea14b72f9\">\n",
       "<script>\n",
       "var adpushup = window.adpushup = window.adpushup || {};\n",
       "adpushup.que = adpushup.que || [];\n",
       "adpushup.que.push(function() {\n",
       "\tadpushup.triggerAd(\"2fc1129b-a969-4ae5-bc29-2ffea14b72f9\");\n",
       "});\n",
       "</script>\n",
       "</div>\n",
       "</div></div><div class=\"clear\"></div><div class=\"wrapper\"><article class=\"feature col-lg-12 col-md-12 col-sm-12 col-xs-12 eventt internal_space\"><div class=\"ptitle\"><div style=\"display: flex;align-items: baseline;\"><div class=\"number\"> 36 </div><div class=\"ptitle-internal\" style=\"display:flex;flex-direction:column;\"><a class=\"tileLink\" href=\"//www.thefamouspeople.com/profiles/oshea-jackson-1662.php\">Ice Cube</a><div class=\"\" style=\"font-size:14px;color:#666;margin-top: 0.5em;line-height: 1.6;\">(Rapper - Contributed Significantly to the Development of 'Gangsta Rap')</div></div><div class=\"clear\"></div></div><div class=\"clear\"></div></div><div class=\"clear\"></div><div class=\"image col-lg-4 col-md-5 col-sm-5 col-xs-12\"><a class=\"tileLink\" href=\"//www.thefamouspeople.com/profiles/oshea-jackson-1662.php\"><img alt=\"Ice Cube\" class=\"combi-profile-img\" data-src=\"//www.thefamouspeople.com/profiles/thumbs/ice-cube-3.jpg\" height=\"250\" src=\"\" title=\"Ice Cube\" width=\"300\"/></a><div style=\"text-align:center;display: flex;justify-content: center;\"><div style=\"display:flex;flex-direction:column;align-items: center;\"><i class=\"fa fa-thumbs-o-up like-btn-1662\" data-id=\"1662\" data-placement=\"top\" data-toggle=\"tooltip\" onclick=\"_gaq.push(['_trackEvent', 'CatVote', 'Up-Vote-Clicked', 'Ice Cube']);\" style=\"width:50px;height:50px;\" title=\"Vote For Your Favourite Singers\"></i><span class=\"likes likes-1662\">362</span></div><div style=\"display:flex;flex-direction:column;align-items: center;\"><i class=\"fa fa-thumbs-o-down dislike-btn-1662\" data-id=\"1662\" data-placement=\"top\" data-toggle=\"tooltip\" onclick=\"_gaq.push(['_trackEvent', 'CatVote', 'Down-Vote-Clicked', 'Ice Cube']);\" style=\"width:50px;height:50px;\" title=\"Vote For Your Favourite Singers\"></i><span class=\"dislikes dislikes-1662\">191</span></div></div></div><div class=\"col-lg-8 col-md-7 col-sm-7 col-xs-12 rt-text-display\"><div class=\"desc-q\"><b>Listed In: </b><a href=\"//www.thefamouspeople.com/rappers.php\">Rappers</a></div><div class=\"desc-q\"><b>Birthdate: </b>June 15, 1969</div><div class=\"desc-q\"><b>Sun Sign: </b>Gemini</div><div class=\"desc-q\"><b>Birthplace: </b>Crenshaw, California, United States</div><div class=\"desc descEvent\"><p>Ice Cube played an important role in contributing to gangsta rap's popularity. His lyrics for N.W.A's album <em>Straight Outta Compton</em> redrew boundaries and shaped West Coast rap's identity. Because of his lyrics, that explain black nationalism and black struggle, Ice Cube went on to influence a host of rappers and is considered one of the greatest rappers ever.</p></div></div><script>$(document).ready(function(){var pid =1662;var proname='';var page_url='//www.thefamouspeople.com/singers.php'; var ip = '2a06:98c0:3600::103'; var list_id = ' 25'; var uid ='7539142f08306d9c304dea98154572fa'; var page_type='category_parent'; var parent_cat_id = '0';$(\".like-btn-\"+pid).on(\"click\",function(){var s=$(this).data(\"id\");($clicked_btn=$(this)).hasClass(\"fa-thumbs-o-up\")?action=\"like\":$clicked_btn.hasClass(\"fa-thumbs-up\")&&(action=\"unlike\"),$.ajax({url:\"serverfile.php\",type:\"POST\",data:{action:action,post_id:s,user_id:uid,ip:ip,list_id:list_id,page_type:page_type,parent_cat_id:parent_cat_id,page_url:page_url,proname:proname},success:function(s){res=JSON.parse(s),\"like\"==action?($clicked_btn.removeClass(\"fa-thumbs-o-up\"),$clicked_btn.addClass(\"fa-thumbs-up\")):\"unlike\"==action&&($clicked_btn.removeClass(\"fa-thumbs-up\"),$clicked_btn.addClass(\"fa-thumbs-o-up\")),$(\".likes-\"+pid).text(res.likes),$(\".dislikes-\"+pid).text(res.dislikes),$(\".dislike-btn-\"+pid).removeClass(\"fa-thumbs-down\").addClass(\"fa-thumbs-o-down\")}})}),$(\".dislike-btn-\"+pid).on(\"click\",function(){var s=$(this).data(\"id\");($clicked_btn=$(this)).hasClass(\"fa-thumbs-o-down\")?action=\"dislike\":$clicked_btn.hasClass(\"fa-thumbs-down\")&&(action=\"undislike\"),$.ajax({url:\"serverfile.php\",type:\"POST\",data:{action:action,post_id:s,user_id:uid,ip:ip,list_id:list_id,page_type:page_type,parent_cat_id:parent_cat_id,page_url:page_url,proname:proname},success:function(s){res=JSON.parse(s),\"dislike\"==action?($clicked_btn.removeClass(\"fa-thumbs-o-down\"),$clicked_btn.addClass(\"fa-thumbs-down\")):\"undislike\"==action&&($clicked_btn.removeClass(\"fa-thumbs-down\"),$clicked_btn.addClass(\"fa-thumbs-o-down\")),$(\".likes-\"+pid).text(res.likes),$(\".dislikes-\"+pid).text(res.dislikes),$(\".like-btn-\"+pid).removeClass(\"fa-thumbs-up\").addClass(\"fa-thumbs-o-up\")}})});});</script></article></div><div class=\"clear\"></div><div class=\"wrapper\"><article class=\"feature col-lg-12 col-md-12 col-sm-12 col-xs-12 eventt internal_space\"><div class=\"ptitle\"><div style=\"display: flex;align-items: baseline;\"><div class=\"number\"> 37 </div><div class=\"ptitle-internal\" style=\"display:flex;flex-direction:column;\"><a class=\"tileLink\" href=\"//www.thefamouspeople.com/profiles/george-michael-8446.php\">George Michael</a><div class=\"\" style=\"font-size:14px;color:#666;margin-top: 0.5em;line-height: 1.6;\">(English Singer Who is Considered One of the Most Significant Cultural Icons of the MTV Generation)</div></div><div class=\"clear\"></div></div><div class=\"clear\"></div></div><div class=\"clear\"></div><div class=\"image col-lg-4 col-md-5 col-sm-5 col-xs-12\"><a class=\"tileLink\" href=\"//www.thefamouspeople.com/profiles/george-michael-8446.php\"><img alt=\"George Michael\" class=\"combi-profile-img\" data-src=\"//www.thefamouspeople.com/profiles/thumbs/george-michael-3.jpg\" height=\"250\" src=\"\" title=\"George Michael\" width=\"300\"/></a><div style=\"text-align:center;display: flex;justify-content: center;\"><div style=\"display:flex;flex-direction:column;align-items: center;\"><i class=\"fa fa-thumbs-o-up like-btn-8446\" data-id=\"8446\" data-placement=\"top\" data-toggle=\"tooltip\" onclick=\"_gaq.push(['_trackEvent', 'CatVote', 'Up-Vote-Clicked', 'George Michael']);\" style=\"width:50px;height:50px;\" title=\"Vote For Your Favourite Singers\"></i><span class=\"likes likes-8446\">211</span></div><div style=\"display:flex;flex-direction:column;align-items: center;\"><i class=\"fa fa-thumbs-o-down dislike-btn-8446\" data-id=\"8446\" data-placement=\"top\" data-toggle=\"tooltip\" onclick=\"_gaq.push(['_trackEvent', 'CatVote', 'Down-Vote-Clicked', 'George Michael']);\" style=\"width:50px;height:50px;\" title=\"Vote For Your Favourite Singers\"></i><span class=\"dislikes dislikes-8446\">123</span></div></div></div><div class=\"col-lg-8 col-md-7 col-sm-7 col-xs-12 rt-text-display\"><div class=\"desc-q\"><b>Listed In: </b><a href=\"//www.thefamouspeople.com/pop-singers.php\">Pop Singers</a></div><div class=\"desc-q\"><b>Birthdate: </b>June 25, 1963</div><div class=\"desc-q\"><b>Sun Sign: </b>Cancer</div><div class=\"desc-q\"><b>Birthplace: </b>East Finchley, London, England</div><div class=\"desc-q\"><b>Died: </b>December 25, 2016</div><div class=\"desc descEvent\"><p>George Michael is one of the best-selling music artists of all time. He rose to fame as a member of the music duo Wham and later went solo. His first solo single Careless Whisper reached number one in over 20 countries. He came out as gay in 1998. He was often in news for his personal life and legal troubles.</p></div></div><script>$(document).ready(function(){var pid =8446;var proname='';var page_url='//www.thefamouspeople.com/singers.php'; var ip = '2a06:98c0:3600::103'; var list_id = ' 25'; var uid ='7539142f08306d9c304dea98154572fa'; var page_type='category_parent'; var parent_cat_id = '0';$(\".like-btn-\"+pid).on(\"click\",function(){var s=$(this).data(\"id\");($clicked_btn=$(this)).hasClass(\"fa-thumbs-o-up\")?action=\"like\":$clicked_btn.hasClass(\"fa-thumbs-up\")&&(action=\"unlike\"),$.ajax({url:\"serverfile.php\",type:\"POST\",data:{action:action,post_id:s,user_id:uid,ip:ip,list_id:list_id,page_type:page_type,parent_cat_id:parent_cat_id,page_url:page_url,proname:proname},success:function(s){res=JSON.parse(s),\"like\"==action?($clicked_btn.removeClass(\"fa-thumbs-o-up\"),$clicked_btn.addClass(\"fa-thumbs-up\")):\"unlike\"==action&&($clicked_btn.removeClass(\"fa-thumbs-up\"),$clicked_btn.addClass(\"fa-thumbs-o-up\")),$(\".likes-\"+pid).text(res.likes),$(\".dislikes-\"+pid).text(res.dislikes),$(\".dislike-btn-\"+pid).removeClass(\"fa-thumbs-down\").addClass(\"fa-thumbs-o-down\")}})}),$(\".dislike-btn-\"+pid).on(\"click\",function(){var s=$(this).data(\"id\");($clicked_btn=$(this)).hasClass(\"fa-thumbs-o-down\")?action=\"dislike\":$clicked_btn.hasClass(\"fa-thumbs-down\")&&(action=\"undislike\"),$.ajax({url:\"serverfile.php\",type:\"POST\",data:{action:action,post_id:s,user_id:uid,ip:ip,list_id:list_id,page_type:page_type,parent_cat_id:parent_cat_id,page_url:page_url,proname:proname},success:function(s){res=JSON.parse(s),\"dislike\"==action?($clicked_btn.removeClass(\"fa-thumbs-o-down\"),$clicked_btn.addClass(\"fa-thumbs-down\")):\"undislike\"==action&&($clicked_btn.removeClass(\"fa-thumbs-down\"),$clicked_btn.addClass(\"fa-thumbs-o-down\")),$(\".likes-\"+pid).text(res.likes),$(\".dislikes-\"+pid).text(res.dislikes),$(\".like-btn-\"+pid).removeClass(\"fa-thumbs-up\").addClass(\"fa-thumbs-o-up\")}})});});</script></article></div><div class=\"clear\"></div><div class=\"wrapper\"><article class=\"feature col-lg-12 col-md-12 col-sm-12 col-xs-12 eventt internal_space\"><div class=\"ptitle\"><div style=\"display: flex;align-items: baseline;\"><div class=\"number\"> 38 </div><div class=\"ptitle-internal\" style=\"display:flex;flex-direction:column;\"><a class=\"tileLink\" href=\"//www.thefamouspeople.com/profiles/eazy-e-6545.php\">Eazy-E</a><div class=\"\" style=\"font-size:14px;color:#666;margin-top: 0.5em;line-height: 1.6;\">(Rapper Known as the 'Godfather of Gangsta Rap')</div></div><div class=\"clear\"></div></div><div class=\"clear\"></div></div><div class=\"clear\"></div><div class=\"image col-lg-4 col-md-5 col-sm-5 col-xs-12\"><a class=\"tileLink\" href=\"//www.thefamouspeople.com/profiles/eazy-e-6545.php\"><img alt=\"Eazy-E\" class=\"combi-profile-img\" data-src=\"//www.thefamouspeople.com/profiles/thumbs/eazy-e-1.jpg\" height=\"250\" src=\"\" title=\"Eazy-E\" width=\"300\"/></a><div style=\"text-align:center;display: flex;justify-content: center;\"><div style=\"display:flex;flex-direction:column;align-items: center;\"><i class=\"fa fa-thumbs-o-up like-btn-6545\" data-id=\"6545\" data-placement=\"top\" data-toggle=\"tooltip\" onclick=\"_gaq.push(['_trackEvent', 'CatVote', 'Up-Vote-Clicked', 'Eazy-E']);\" style=\"width:50px;height:50px;\" title=\"Vote For Your Favourite Singers\"></i><span class=\"likes likes-6545\">202</span></div><div style=\"display:flex;flex-direction:column;align-items: center;\"><i class=\"fa fa-thumbs-o-down dislike-btn-6545\" data-id=\"6545\" data-placement=\"top\" data-toggle=\"tooltip\" onclick=\"_gaq.push(['_trackEvent', 'CatVote', 'Down-Vote-Clicked', 'Eazy-E']);\" style=\"width:50px;height:50px;\" title=\"Vote For Your Favourite Singers\"></i><span class=\"dislikes dislikes-6545\">117</span></div></div></div><div class=\"col-lg-8 col-md-7 col-sm-7 col-xs-12 rt-text-display\"><div class=\"desc-q\"><b>Listed In: </b><a href=\"//www.thefamouspeople.com/rappers.php\">Rappers</a>, <a href=\"//www.thefamouspeople.com/hip-hop-rappers.php\">Hip Hop Singers</a>, <a href=\"//www.thefamouspeople.com/lyricists.php\">Lyricists &amp; Songwriters</a></div><div class=\"desc-q\"><b>Birthdate: </b>September 7, 1964</div><div class=\"desc-q\"><b>Sun Sign: </b>Virgo</div><div class=\"desc-q\"><b>Birthplace: </b>Compton, California, United States</div><div class=\"desc-q\"><b>Died: </b>March 26, 1995</div><div class=\"desc descEvent\"><p>Widely regarded as the<strong> godfather of gangsta rap</strong>, Eazy-E was a rapper and record producer. He played a major role in popularizing gangsta rap and West Coast rap by forming <em>N.W.A</em>, which is considered one of the most influential and greatest hip hop groups of all time. Eazy-E died at the age of 30 after being diagnosed with AIDS.</p></div></div><script>$(document).ready(function(){var pid =6545;var proname='';var page_url='//www.thefamouspeople.com/singers.php'; var ip = '2a06:98c0:3600::103'; var list_id = ' 25'; var uid ='7539142f08306d9c304dea98154572fa'; var page_type='category_parent'; var parent_cat_id = '0';$(\".like-btn-\"+pid).on(\"click\",function(){var s=$(this).data(\"id\");($clicked_btn=$(this)).hasClass(\"fa-thumbs-o-up\")?action=\"like\":$clicked_btn.hasClass(\"fa-thumbs-up\")&&(action=\"unlike\"),$.ajax({url:\"serverfile.php\",type:\"POST\",data:{action:action,post_id:s,user_id:uid,ip:ip,list_id:list_id,page_type:page_type,parent_cat_id:parent_cat_id,page_url:page_url,proname:proname},success:function(s){res=JSON.parse(s),\"like\"==action?($clicked_btn.removeClass(\"fa-thumbs-o-up\"),$clicked_btn.addClass(\"fa-thumbs-up\")):\"unlike\"==action&&($clicked_btn.removeClass(\"fa-thumbs-up\"),$clicked_btn.addClass(\"fa-thumbs-o-up\")),$(\".likes-\"+pid).text(res.likes),$(\".dislikes-\"+pid).text(res.dislikes),$(\".dislike-btn-\"+pid).removeClass(\"fa-thumbs-down\").addClass(\"fa-thumbs-o-down\")}})}),$(\".dislike-btn-\"+pid).on(\"click\",function(){var s=$(this).data(\"id\");($clicked_btn=$(this)).hasClass(\"fa-thumbs-o-down\")?action=\"dislike\":$clicked_btn.hasClass(\"fa-thumbs-down\")&&(action=\"undislike\"),$.ajax({url:\"serverfile.php\",type:\"POST\",data:{action:action,post_id:s,user_id:uid,ip:ip,list_id:list_id,page_type:page_type,parent_cat_id:parent_cat_id,page_url:page_url,proname:proname},success:function(s){res=JSON.parse(s),\"dislike\"==action?($clicked_btn.removeClass(\"fa-thumbs-o-down\"),$clicked_btn.addClass(\"fa-thumbs-down\")):\"undislike\"==action&&($clicked_btn.removeClass(\"fa-thumbs-down\"),$clicked_btn.addClass(\"fa-thumbs-o-down\")),$(\".likes-\"+pid).text(res.likes),$(\".dislikes-\"+pid).text(res.dislikes),$(\".like-btn-\"+pid).removeClass(\"fa-thumbs-up\").addClass(\"fa-thumbs-o-up\")}})});});</script></article></div><div class=\"clear\"></div><div class=\"wrapper\"><article class=\"feature col-lg-12 col-md-12 col-sm-12 col-xs-12 eventt internal_space\"><div class=\"ptitle\"><div style=\"display: flex;align-items: baseline;\"><div class=\"number\"> 39 </div><div class=\"ptitle-internal\" style=\"display:flex;flex-direction:column;\"><a class=\"tileLink\" href=\"//www.thefamouspeople.com/profiles/the-notorious-b-i-g--6705.php\">The Notorious B.I.G.</a><div class=\"\" style=\"font-size:14px;color:#666;margin-top: 0.5em;line-height: 1.6;\">(One of the Greatest Rappers of All Time)</div></div><div class=\"clear\"></div></div><div class=\"clear\"></div></div><div class=\"clear\"></div><div class=\"image col-lg-4 col-md-5 col-sm-5 col-xs-12\"><a class=\"tileLink\" href=\"//www.thefamouspeople.com/profiles/the-notorious-b-i-g--6705.php\"><img alt=\"The Notorious B.I.G.\" class=\"combi-profile-img\" data-src=\"//www.thefamouspeople.com/profiles/thumbs/the-notorious-b-i-g--1.jpg\" height=\"250\" src=\"\" title=\"The Notorious B.I.G.\" width=\"300\"/></a><div style=\"text-align:center;display: flex;justify-content: center;\"><div style=\"display:flex;flex-direction:column;align-items: center;\"><i class=\"fa fa-thumbs-o-up like-btn-6705\" data-id=\"6705\" data-placement=\"top\" data-toggle=\"tooltip\" onclick=\"_gaq.push(['_trackEvent', 'CatVote', 'Up-Vote-Clicked', 'The Notorious B.I.G.']);\" style=\"width:50px;height:50px;\" title=\"Vote For Your Favourite Singers\"></i><span class=\"likes likes-6705\">349</span></div><div style=\"display:flex;flex-direction:column;align-items: center;\"><i class=\"fa fa-thumbs-o-down dislike-btn-6705\" data-id=\"6705\" data-placement=\"top\" data-toggle=\"tooltip\" onclick=\"_gaq.push(['_trackEvent', 'CatVote', 'Down-Vote-Clicked', 'The Notorious B.I.G.']);\" style=\"width:50px;height:50px;\" title=\"Vote For Your Favourite Singers\"></i><span class=\"dislikes dislikes-6705\">216</span></div></div></div><div class=\"col-lg-8 col-md-7 col-sm-7 col-xs-12 rt-text-display\"><div class=\"desc-q\"><b>Listed In: </b><a href=\"//www.thefamouspeople.com/rappers.php\">Rappers</a>, <a href=\"//www.thefamouspeople.com/hip-hop-rappers.php\">Hip Hop Singers</a>, <a href=\"//www.thefamouspeople.com/lyricists.php\">Lyricists &amp; Songwriters</a></div><div class=\"desc-q\"><b>Birthdate: </b>May 21, 1972</div><div class=\"desc-q\"><b>Sun Sign: </b>Gemini</div><div class=\"desc-q\"><b>Birthplace: </b>Brooklyn, New York, United States</div><div class=\"desc-q\"><b>Died: </b>March 9, 1997</div><div class=\"desc descEvent\"><p>The Notorious B.I.G. was a rapper and songwriter and is considered one of the best ever. His debut album<em> Ready to Die</em> in 1994 was critically acclaimed. He was murdered in a drive-by shooting in Los Angeles in September 1996. His album <em>Life After Death</em> was released two weeks after his death. </p></div></div><script>$(document).ready(function(){var pid =6705;var proname='';var page_url='//www.thefamouspeople.com/singers.php'; var ip = '2a06:98c0:3600::103'; var list_id = ' 25'; var uid ='7539142f08306d9c304dea98154572fa'; var page_type='category_parent'; var parent_cat_id = '0';$(\".like-btn-\"+pid).on(\"click\",function(){var s=$(this).data(\"id\");($clicked_btn=$(this)).hasClass(\"fa-thumbs-o-up\")?action=\"like\":$clicked_btn.hasClass(\"fa-thumbs-up\")&&(action=\"unlike\"),$.ajax({url:\"serverfile.php\",type:\"POST\",data:{action:action,post_id:s,user_id:uid,ip:ip,list_id:list_id,page_type:page_type,parent_cat_id:parent_cat_id,page_url:page_url,proname:proname},success:function(s){res=JSON.parse(s),\"like\"==action?($clicked_btn.removeClass(\"fa-thumbs-o-up\"),$clicked_btn.addClass(\"fa-thumbs-up\")):\"unlike\"==action&&($clicked_btn.removeClass(\"fa-thumbs-up\"),$clicked_btn.addClass(\"fa-thumbs-o-up\")),$(\".likes-\"+pid).text(res.likes),$(\".dislikes-\"+pid).text(res.dislikes),$(\".dislike-btn-\"+pid).removeClass(\"fa-thumbs-down\").addClass(\"fa-thumbs-o-down\")}})}),$(\".dislike-btn-\"+pid).on(\"click\",function(){var s=$(this).data(\"id\");($clicked_btn=$(this)).hasClass(\"fa-thumbs-o-down\")?action=\"dislike\":$clicked_btn.hasClass(\"fa-thumbs-down\")&&(action=\"undislike\"),$.ajax({url:\"serverfile.php\",type:\"POST\",data:{action:action,post_id:s,user_id:uid,ip:ip,list_id:list_id,page_type:page_type,parent_cat_id:parent_cat_id,page_url:page_url,proname:proname},success:function(s){res=JSON.parse(s),\"dislike\"==action?($clicked_btn.removeClass(\"fa-thumbs-o-down\"),$clicked_btn.addClass(\"fa-thumbs-down\")):\"undislike\"==action&&($clicked_btn.removeClass(\"fa-thumbs-down\"),$clicked_btn.addClass(\"fa-thumbs-o-down\")),$(\".likes-\"+pid).text(res.likes),$(\".dislikes-\"+pid).text(res.dislikes),$(\".like-btn-\"+pid).removeClass(\"fa-thumbs-up\").addClass(\"fa-thumbs-o-up\")}})});});</script></article></div><div class=\"clear\"></div><div class=\"wrapper\"><article class=\"feature col-lg-12 col-md-12 col-sm-12 col-xs-12 eventt internal_space\"><div class=\"ptitle\"><div style=\"display: flex;align-items: baseline;\"><div class=\"number\"> 40 </div><div class=\"ptitle-internal\" style=\"display:flex;flex-direction:column;\"><a class=\"tileLink\" href=\"//www.thefamouspeople.com/profiles/kurt-donald-cobain-2093.php\">Kurt Cobain</a><div class=\"\" style=\"font-size:14px;color:#666;margin-top: 0.5em;line-height: 1.6;\">(Guitarist, Lead Vocalist and Primary Songwriter of the Rock Band 'Nirvana')</div></div><div class=\"clear\"></div></div><div class=\"clear\"></div></div><div class=\"clear\"></div><div class=\"image col-lg-4 col-md-5 col-sm-5 col-xs-12\"><a class=\"tileLink\" href=\"//www.thefamouspeople.com/profiles/kurt-donald-cobain-2093.php\"><img alt=\"Kurt Cobain\" class=\"combi-profile-img\" data-src=\"//www.thefamouspeople.com/profiles/thumbs/kurt-donald-cobain-1.jpg\" height=\"250\" src=\"\" title=\"Kurt Cobain\" width=\"300\"/></a><div style=\"text-align:center;display: flex;justify-content: center;\"><div style=\"display:flex;flex-direction:column;align-items: center;\"><i class=\"fa fa-thumbs-o-up like-btn-2093\" data-id=\"2093\" data-placement=\"top\" data-toggle=\"tooltip\" onclick=\"_gaq.push(['_trackEvent', 'CatVote', 'Up-Vote-Clicked', 'Kurt Cobain']);\" style=\"width:50px;height:50px;\" title=\"Vote For Your Favourite Singers\"></i><span class=\"likes likes-2093\">115</span></div><div style=\"display:flex;flex-direction:column;align-items: center;\"><i class=\"fa fa-thumbs-o-down dislike-btn-2093\" data-id=\"2093\" data-placement=\"top\" data-toggle=\"tooltip\" onclick=\"_gaq.push(['_trackEvent', 'CatVote', 'Down-Vote-Clicked', 'Kurt Cobain']);\" style=\"width:50px;height:50px;\" title=\"Vote For Your Favourite Singers\"></i><span class=\"dislikes dislikes-2093\">50</span></div></div></div><div class=\"col-lg-8 col-md-7 col-sm-7 col-xs-12 rt-text-display\"><div class=\"desc-q\"><b>Listed In: </b><a href=\"//www.thefamouspeople.com/rock-singers.php\">Rock Singers</a>, <a href=\"//www.thefamouspeople.com/lyricists.php\">Lyricists &amp; Songwriters</a>, <a href=\"//www.thefamouspeople.com/guitarists.php\">Guitarists</a></div><div class=\"desc-q\"><b>Birthdate: </b>February 20, 1967</div><div class=\"desc-q\"><b>Sun Sign: </b>Pisces</div><div class=\"desc-q\"><b>Birthplace: </b>Aberdeen, Washington, United States</div><div class=\"desc-q\"><b>Died: </b>April 5, 1994</div><div class=\"desc descEvent\"><p>Gaining fame as a member of the rock band <em>Nirvana</em>, singer-songwriter and musician Kurt Cobain was often heralded as a spokesman of Generation X. He is considered to be one of the most influential musicians in the history of alternative rock. He enjoyed tremendous professional success, but his personal life was troubled. He died of suicide at just 27.</p></div></div><script>$(document).ready(function(){var pid =2093;var proname='';var page_url='//www.thefamouspeople.com/singers.php'; var ip = '2a06:98c0:3600::103'; var list_id = ' 25'; var uid ='7539142f08306d9c304dea98154572fa'; var page_type='category_parent'; var parent_cat_id = '0';$(\".like-btn-\"+pid).on(\"click\",function(){var s=$(this).data(\"id\");($clicked_btn=$(this)).hasClass(\"fa-thumbs-o-up\")?action=\"like\":$clicked_btn.hasClass(\"fa-thumbs-up\")&&(action=\"unlike\"),$.ajax({url:\"serverfile.php\",type:\"POST\",data:{action:action,post_id:s,user_id:uid,ip:ip,list_id:list_id,page_type:page_type,parent_cat_id:parent_cat_id,page_url:page_url,proname:proname},success:function(s){res=JSON.parse(s),\"like\"==action?($clicked_btn.removeClass(\"fa-thumbs-o-up\"),$clicked_btn.addClass(\"fa-thumbs-up\")):\"unlike\"==action&&($clicked_btn.removeClass(\"fa-thumbs-up\"),$clicked_btn.addClass(\"fa-thumbs-o-up\")),$(\".likes-\"+pid).text(res.likes),$(\".dislikes-\"+pid).text(res.dislikes),$(\".dislike-btn-\"+pid).removeClass(\"fa-thumbs-down\").addClass(\"fa-thumbs-o-down\")}})}),$(\".dislike-btn-\"+pid).on(\"click\",function(){var s=$(this).data(\"id\");($clicked_btn=$(this)).hasClass(\"fa-thumbs-o-down\")?action=\"dislike\":$clicked_btn.hasClass(\"fa-thumbs-down\")&&(action=\"undislike\"),$.ajax({url:\"serverfile.php\",type:\"POST\",data:{action:action,post_id:s,user_id:uid,ip:ip,list_id:list_id,page_type:page_type,parent_cat_id:parent_cat_id,page_url:page_url,proname:proname},success:function(s){res=JSON.parse(s),\"dislike\"==action?($clicked_btn.removeClass(\"fa-thumbs-o-down\"),$clicked_btn.addClass(\"fa-thumbs-down\")):\"undislike\"==action&&($clicked_btn.removeClass(\"fa-thumbs-down\"),$clicked_btn.addClass(\"fa-thumbs-o-down\")),$(\".likes-\"+pid).text(res.likes),$(\".dislikes-\"+pid).text(res.dislikes),$(\".like-btn-\"+pid).removeClass(\"fa-thumbs-up\").addClass(\"fa-thumbs-o-up\")}})});});</script></article></div><div class=\"clear\"></div><div class=\"col-lg-12 col-md-12 col-xs-12 col-sm-12\" style=\"margin:20px 0px;height:250px;\"><div class=\"center-ad desktop_ad\">\n",
       "<div class=\"_ap_apex_ad\" id=\"5655a656-98ad-4563-9ec0-8f844b708ca6\">\n",
       "<script>\n",
       "var adpushup = window.adpushup = window.adpushup || {};\n",
       "adpushup.que = adpushup.que || [];\n",
       "adpushup.que.push(function() {\n",
       "\tadpushup.triggerAd(\"5655a656-98ad-4563-9ec0-8f844b708ca6\");\n",
       "});\n",
       "</script>\n",
       "</div>\n",
       "</div><div class=\"center-ad tablet_ad\">\n",
       "<div class=\"_ap_apex_ad\" id=\"5655a656-98ad-4563-9ec0-8f844b708ca6\">\n",
       "<script>\n",
       "var adpushup = window.adpushup = window.adpushup || {};\n",
       "adpushup.que = adpushup.que || [];\n",
       "adpushup.que.push(function() {\n",
       "\tadpushup.triggerAd(\"5655a656-98ad-4563-9ec0-8f844b708ca6\");\n",
       "});\n",
       "</script>\n",
       "</div>\n",
       "</div><div class=\"center-ad mobile_ad\">\n",
       "<div class=\"_ap_apex_ad\" id=\"2fc1129b-a969-4ae5-bc29-2ffea14b72f9\">\n",
       "<script>\n",
       "var adpushup = window.adpushup = window.adpushup || {};\n",
       "adpushup.que = adpushup.que || [];\n",
       "adpushup.que.push(function() {\n",
       "\tadpushup.triggerAd(\"2fc1129b-a969-4ae5-bc29-2ffea14b72f9\");\n",
       "});\n",
       "</script>\n",
       "</div>\n",
       "</div></div><div class=\"clear\"></div><div class=\"wrapper\"><article class=\"feature col-lg-12 col-md-12 col-sm-12 col-xs-12 eventt internal_space\"><div class=\"ptitle\"><div style=\"display: flex;align-items: baseline;\"><div class=\"number\"> 41 </div><div class=\"ptitle-internal\" style=\"display:flex;flex-direction:column;\"><a class=\"tileLink\" href=\"//www.thefamouspeople.com/profiles/kendrick-lamar-30747.php\">Kendrick Lamar</a><div class=\"\" style=\"font-size:14px;color:#666;margin-top: 0.5em;line-height: 1.6;\">(Regarded As One of the Greatest Rappers of All Time)</div></div><div class=\"clear\"></div></div><div class=\"clear\"></div></div><div class=\"clear\"></div><div class=\"image col-lg-4 col-md-5 col-sm-5 col-xs-12\"><a class=\"tileLink\" href=\"//www.thefamouspeople.com/profiles/kendrick-lamar-30747.php\"><img alt=\"Kendrick Lamar\" class=\"combi-profile-img\" data-src=\"//www.thefamouspeople.com/profiles/thumbs/kendrick-lamar-1.jpg\" height=\"250\" src=\"\" title=\"Kendrick Lamar\" width=\"300\"/></a><div style=\"text-align:center;display: flex;justify-content: center;\"><div style=\"display:flex;flex-direction:column;align-items: center;\"><i class=\"fa fa-thumbs-o-up like-btn-30747\" data-id=\"30747\" data-placement=\"top\" data-toggle=\"tooltip\" onclick=\"_gaq.push(['_trackEvent', 'CatVote', 'Up-Vote-Clicked', 'Kendrick Lamar']);\" style=\"width:50px;height:50px;\" title=\"Vote For Your Favourite Singers\"></i><span class=\"likes likes-30747\">296</span></div><div style=\"display:flex;flex-direction:column;align-items: center;\"><i class=\"fa fa-thumbs-o-down dislike-btn-30747\" data-id=\"30747\" data-placement=\"top\" data-toggle=\"tooltip\" onclick=\"_gaq.push(['_trackEvent', 'CatVote', 'Down-Vote-Clicked', 'Kendrick Lamar']);\" style=\"width:50px;height:50px;\" title=\"Vote For Your Favourite Singers\"></i><span class=\"dislikes dislikes-30747\">127</span></div></div></div><div class=\"col-lg-8 col-md-7 col-sm-7 col-xs-12 rt-text-display\"><div class=\"desc-q\"><b>Listed In: </b><a href=\"//www.thefamouspeople.com/rappers.php\">Rappers</a>, <a href=\"//www.thefamouspeople.com/hip-hop-rappers.php\">Hip Hop Singers</a></div><div class=\"desc-q\"><b>Birthdate: </b>June 17, 1987</div><div class=\"desc-q\"><b>Sun Sign: </b>Gemini</div><div class=\"desc-q\"><b>Birthplace: </b>Compton, California, United States</div><div class=\"desc descEvent\"><p>Kendrick Lamar is regarded as one of the greatest lyricists and rappers of all time. He is also considered one of the most influential celebrities<strong> </strong>of his generation; such has been his impact on the music industry. In 2016, he was named in <em>Time </em>magazine's <em>100 most influential people in the world</em> list.</p></div></div><script>$(document).ready(function(){var pid =30747;var proname='';var page_url='//www.thefamouspeople.com/singers.php'; var ip = '2a06:98c0:3600::103'; var list_id = ' 25'; var uid ='7539142f08306d9c304dea98154572fa'; var page_type='category_parent'; var parent_cat_id = '0';$(\".like-btn-\"+pid).on(\"click\",function(){var s=$(this).data(\"id\");($clicked_btn=$(this)).hasClass(\"fa-thumbs-o-up\")?action=\"like\":$clicked_btn.hasClass(\"fa-thumbs-up\")&&(action=\"unlike\"),$.ajax({url:\"serverfile.php\",type:\"POST\",data:{action:action,post_id:s,user_id:uid,ip:ip,list_id:list_id,page_type:page_type,parent_cat_id:parent_cat_id,page_url:page_url,proname:proname},success:function(s){res=JSON.parse(s),\"like\"==action?($clicked_btn.removeClass(\"fa-thumbs-o-up\"),$clicked_btn.addClass(\"fa-thumbs-up\")):\"unlike\"==action&&($clicked_btn.removeClass(\"fa-thumbs-up\"),$clicked_btn.addClass(\"fa-thumbs-o-up\")),$(\".likes-\"+pid).text(res.likes),$(\".dislikes-\"+pid).text(res.dislikes),$(\".dislike-btn-\"+pid).removeClass(\"fa-thumbs-down\").addClass(\"fa-thumbs-o-down\")}})}),$(\".dislike-btn-\"+pid).on(\"click\",function(){var s=$(this).data(\"id\");($clicked_btn=$(this)).hasClass(\"fa-thumbs-o-down\")?action=\"dislike\":$clicked_btn.hasClass(\"fa-thumbs-down\")&&(action=\"undislike\"),$.ajax({url:\"serverfile.php\",type:\"POST\",data:{action:action,post_id:s,user_id:uid,ip:ip,list_id:list_id,page_type:page_type,parent_cat_id:parent_cat_id,page_url:page_url,proname:proname},success:function(s){res=JSON.parse(s),\"dislike\"==action?($clicked_btn.removeClass(\"fa-thumbs-o-down\"),$clicked_btn.addClass(\"fa-thumbs-down\")):\"undislike\"==action&&($clicked_btn.removeClass(\"fa-thumbs-down\"),$clicked_btn.addClass(\"fa-thumbs-o-down\")),$(\".likes-\"+pid).text(res.likes),$(\".dislikes-\"+pid).text(res.dislikes),$(\".like-btn-\"+pid).removeClass(\"fa-thumbs-up\").addClass(\"fa-thumbs-o-up\")}})});});</script></article></div><div class=\"clear\"></div><div class=\"wrapper\"><article class=\"feature col-lg-12 col-md-12 col-sm-12 col-xs-12 eventt internal_space\"><div class=\"ptitle\"><div style=\"display: flex;align-items: baseline;\"><div class=\"number\"> 42 </div><div class=\"ptitle-internal\" style=\"display:flex;flex-direction:column;\"><a class=\"tileLink\" href=\"//www.thefamouspeople.com/profiles/aaliyah-558.php\">Aaliyah</a><div class=\"\" style=\"font-size:14px;color:#666;margin-top: 0.5em;line-height: 1.6;\">(Best Known as 'Princess of R&amp;B' &amp; 'Queen of Urban Pop')</div></div><div class=\"clear\"></div></div><div class=\"clear\"></div></div><div class=\"clear\"></div><div class=\"image col-lg-4 col-md-5 col-sm-5 col-xs-12\"><a class=\"tileLink\" href=\"//www.thefamouspeople.com/profiles/aaliyah-558.php\"><img alt=\"Aaliyah\" class=\"combi-profile-img\" data-src=\"//www.thefamouspeople.com/profiles/thumbs/aaliyah-6.jpg\" height=\"250\" src=\"\" title=\"Aaliyah\" width=\"300\"/></a><div style=\"text-align:center;display: flex;justify-content: center;\"><div style=\"display:flex;flex-direction:column;align-items: center;\"><i class=\"fa fa-thumbs-o-up like-btn-558\" data-id=\"558\" data-placement=\"top\" data-toggle=\"tooltip\" onclick=\"_gaq.push(['_trackEvent', 'CatVote', 'Up-Vote-Clicked', 'Aaliyah']);\" style=\"width:50px;height:50px;\" title=\"Vote For Your Favourite Singers\"></i><span class=\"likes likes-558\">130</span></div><div style=\"display:flex;flex-direction:column;align-items: center;\"><i class=\"fa fa-thumbs-o-down dislike-btn-558\" data-id=\"558\" data-placement=\"top\" data-toggle=\"tooltip\" onclick=\"_gaq.push(['_trackEvent', 'CatVote', 'Down-Vote-Clicked', 'Aaliyah']);\" style=\"width:50px;height:50px;\" title=\"Vote For Your Favourite Singers\"></i><span class=\"dislikes dislikes-558\">81</span></div></div></div><div class=\"col-lg-8 col-md-7 col-sm-7 col-xs-12 rt-text-display\"><div class=\"desc-q\"><b>Listed In: </b><a href=\"//www.thefamouspeople.com/contemporary-rb-singers.php\">Contemporary R&amp;B Singers</a>, <a href=\"//www.thefamouspeople.com/pop-singers.php\">Pop Singers</a>, <a href=\"//www.thefamouspeople.com/hip-hop-rappers.php\">Hip Hop Singers</a></div><div class=\"desc-q\"><b>Birthdate: </b>January 16, 1979</div><div class=\"desc-q\"><b>Sun Sign: </b>Capricorn</div><div class=\"desc-q\"><b>Birthplace: </b>Brooklyn, New York, United States</div><div class=\"desc-q\"><b>Died: </b>August 25, 2001</div><div class=\"desc descEvent\"><p>Aaliyah was an American singer, actress and model, who became famous when her debut album, <em>Age Ain't Nothing but a Number</em> sold three million copies in the US. Her subsequent albums also sold in millions and won her numerous accolades. She also acted in some films. She tragically died in an airplane crash in the Bahamas, at the age of 22.</p></div></div><script>$(document).ready(function(){var pid =558;var proname='';var page_url='//www.thefamouspeople.com/singers.php'; var ip = '2a06:98c0:3600::103'; var list_id = ' 25'; var uid ='7539142f08306d9c304dea98154572fa'; var page_type='category_parent'; var parent_cat_id = '0';$(\".like-btn-\"+pid).on(\"click\",function(){var s=$(this).data(\"id\");($clicked_btn=$(this)).hasClass(\"fa-thumbs-o-up\")?action=\"like\":$clicked_btn.hasClass(\"fa-thumbs-up\")&&(action=\"unlike\"),$.ajax({url:\"serverfile.php\",type:\"POST\",data:{action:action,post_id:s,user_id:uid,ip:ip,list_id:list_id,page_type:page_type,parent_cat_id:parent_cat_id,page_url:page_url,proname:proname},success:function(s){res=JSON.parse(s),\"like\"==action?($clicked_btn.removeClass(\"fa-thumbs-o-up\"),$clicked_btn.addClass(\"fa-thumbs-up\")):\"unlike\"==action&&($clicked_btn.removeClass(\"fa-thumbs-up\"),$clicked_btn.addClass(\"fa-thumbs-o-up\")),$(\".likes-\"+pid).text(res.likes),$(\".dislikes-\"+pid).text(res.dislikes),$(\".dislike-btn-\"+pid).removeClass(\"fa-thumbs-down\").addClass(\"fa-thumbs-o-down\")}})}),$(\".dislike-btn-\"+pid).on(\"click\",function(){var s=$(this).data(\"id\");($clicked_btn=$(this)).hasClass(\"fa-thumbs-o-down\")?action=\"dislike\":$clicked_btn.hasClass(\"fa-thumbs-down\")&&(action=\"undislike\"),$.ajax({url:\"serverfile.php\",type:\"POST\",data:{action:action,post_id:s,user_id:uid,ip:ip,list_id:list_id,page_type:page_type,parent_cat_id:parent_cat_id,page_url:page_url,proname:proname},success:function(s){res=JSON.parse(s),\"dislike\"==action?($clicked_btn.removeClass(\"fa-thumbs-o-down\"),$clicked_btn.addClass(\"fa-thumbs-down\")):\"undislike\"==action&&($clicked_btn.removeClass(\"fa-thumbs-down\"),$clicked_btn.addClass(\"fa-thumbs-o-down\")),$(\".likes-\"+pid).text(res.likes),$(\".dislikes-\"+pid).text(res.dislikes),$(\".like-btn-\"+pid).removeClass(\"fa-thumbs-up\").addClass(\"fa-thumbs-o-up\")}})});});</script></article></div><div class=\"clear\"></div><div class=\"wrapper\"><article class=\"feature col-lg-12 col-md-12 col-sm-12 col-xs-12 eventt internal_space\"><div class=\"ptitle\"><div style=\"display: flex;align-items: baseline;\"><div class=\"number\"> 43 </div><div class=\"ptitle-internal\" style=\"display:flex;flex-direction:column;\"><a class=\"tileLink\" href=\"//www.thefamouspeople.com/profiles/amy-jade-winehouse-691.php\">Amy Jade Winehouse</a><div class=\"\" style=\"font-size:14px;color:#666;margin-top: 0.5em;line-height: 1.6;\">(Known for Her Deep, Expressive Contralto Vocals and Her Eclectic Mix of Musical Genres)</div></div><div class=\"clear\"></div></div><div class=\"clear\"></div></div><div class=\"clear\"></div><div class=\"image col-lg-4 col-md-5 col-sm-5 col-xs-12\"><a class=\"tileLink\" href=\"//www.thefamouspeople.com/profiles/amy-jade-winehouse-691.php\"><img alt=\"Amy Jade Winehouse\" class=\"combi-profile-img\" data-src=\"//www.thefamouspeople.com/profiles/thumbs/amy-jade-winehouse-4.jpg\" height=\"250\" src=\"\" title=\"Amy Jade Winehouse\" width=\"300\"/></a><div style=\"text-align:center;display: flex;justify-content: center;\"><div style=\"display:flex;flex-direction:column;align-items: center;\"><i class=\"fa fa-thumbs-o-up like-btn-691\" data-id=\"691\" data-placement=\"top\" data-toggle=\"tooltip\" onclick=\"_gaq.push(['_trackEvent', 'CatVote', 'Up-Vote-Clicked', 'Amy Jade Winehouse']);\" style=\"width:50px;height:50px;\" title=\"Vote For Your Favourite Singers\"></i><span class=\"likes likes-691\">224</span></div><div style=\"display:flex;flex-direction:column;align-items: center;\"><i class=\"fa fa-thumbs-o-down dislike-btn-691\" data-id=\"691\" data-placement=\"top\" data-toggle=\"tooltip\" onclick=\"_gaq.push(['_trackEvent', 'CatVote', 'Down-Vote-Clicked', 'Amy Jade Winehouse']);\" style=\"width:50px;height:50px;\" title=\"Vote For Your Favourite Singers\"></i><span class=\"dislikes dislikes-691\">115</span></div></div></div><div class=\"col-lg-8 col-md-7 col-sm-7 col-xs-12 rt-text-display\"><div class=\"desc-q\"><b>Listed In: </b><a href=\"//www.thefamouspeople.com/soul-singers.php\">Soul Singers</a>, <a href=\"//www.thefamouspeople.com/pop-singers.php\">Pop Singers</a>, <a href=\"//www.thefamouspeople.com/rhythm-blues-singers.php\">Rhythm &amp; Blues Singers</a></div><div class=\"desc-q\"><b>Birthdate: </b>September 14, 1983</div><div class=\"desc-q\"><b>Sun Sign: </b>Virgo</div><div class=\"desc-q\"><b>Birthplace: </b>Enfield, London, England</div><div class=\"desc-q\"><b>Died: </b>July 23, 2011</div><div class=\"desc descEvent\">Soul and jazz singer Amy Winehouse is best remembered for her tracks <strong>Stronger Than Me</strong> and <strong>Rehab</strong>. She was the first British female to win five <strong>Grammys</strong>. Following her death due to alcohol poisoning at age 27, her album <strong>Back to Black </strong>became U.K.’s best-selling album of the 21st century.</div></div><script>$(document).ready(function(){var pid =691;var proname='';var page_url='//www.thefamouspeople.com/singers.php'; var ip = '2a06:98c0:3600::103'; var list_id = ' 25'; var uid ='7539142f08306d9c304dea98154572fa'; var page_type='category_parent'; var parent_cat_id = '0';$(\".like-btn-\"+pid).on(\"click\",function(){var s=$(this).data(\"id\");($clicked_btn=$(this)).hasClass(\"fa-thumbs-o-up\")?action=\"like\":$clicked_btn.hasClass(\"fa-thumbs-up\")&&(action=\"unlike\"),$.ajax({url:\"serverfile.php\",type:\"POST\",data:{action:action,post_id:s,user_id:uid,ip:ip,list_id:list_id,page_type:page_type,parent_cat_id:parent_cat_id,page_url:page_url,proname:proname},success:function(s){res=JSON.parse(s),\"like\"==action?($clicked_btn.removeClass(\"fa-thumbs-o-up\"),$clicked_btn.addClass(\"fa-thumbs-up\")):\"unlike\"==action&&($clicked_btn.removeClass(\"fa-thumbs-up\"),$clicked_btn.addClass(\"fa-thumbs-o-up\")),$(\".likes-\"+pid).text(res.likes),$(\".dislikes-\"+pid).text(res.dislikes),$(\".dislike-btn-\"+pid).removeClass(\"fa-thumbs-down\").addClass(\"fa-thumbs-o-down\")}})}),$(\".dislike-btn-\"+pid).on(\"click\",function(){var s=$(this).data(\"id\");($clicked_btn=$(this)).hasClass(\"fa-thumbs-o-down\")?action=\"dislike\":$clicked_btn.hasClass(\"fa-thumbs-down\")&&(action=\"undislike\"),$.ajax({url:\"serverfile.php\",type:\"POST\",data:{action:action,post_id:s,user_id:uid,ip:ip,list_id:list_id,page_type:page_type,parent_cat_id:parent_cat_id,page_url:page_url,proname:proname},success:function(s){res=JSON.parse(s),\"dislike\"==action?($clicked_btn.removeClass(\"fa-thumbs-o-down\"),$clicked_btn.addClass(\"fa-thumbs-down\")):\"undislike\"==action&&($clicked_btn.removeClass(\"fa-thumbs-down\"),$clicked_btn.addClass(\"fa-thumbs-o-down\")),$(\".likes-\"+pid).text(res.likes),$(\".dislikes-\"+pid).text(res.dislikes),$(\".like-btn-\"+pid).removeClass(\"fa-thumbs-up\").addClass(\"fa-thumbs-o-up\")}})});});</script></article></div><div class=\"clear\"></div><div class=\"wrapper\"><article class=\"feature col-lg-12 col-md-12 col-sm-12 col-xs-12 eventt internal_space\"><div class=\"ptitle\"><div style=\"display: flex;align-items: baseline;\"><div class=\"number\"> 44 </div><div class=\"ptitle-internal\" style=\"display:flex;flex-direction:column;\"><a class=\"tileLink\" href=\"//www.thefamouspeople.com/profiles/anna-mae-bullock-3051.php\">Tina Turner</a><div class=\"\" style=\"font-size:14px;color:#666;margin-top: 0.5em;line-height: 1.6;\">(The \"Queen of Rock 'n' Roll\")</div></div><div class=\"clear\"></div></div><div class=\"clear\"></div></div><div class=\"clear\"></div><div class=\"image col-lg-4 col-md-5 col-sm-5 col-xs-12\"><a class=\"tileLink\" href=\"//www.thefamouspeople.com/profiles/anna-mae-bullock-3051.php\"><img alt=\"Tina Turner\" class=\"combi-profile-img\" data-src=\"//www.thefamouspeople.com/profiles/thumbs/tina-turner-3.jpg\" height=\"250\" src=\"\" title=\"Tina Turner\" width=\"300\"/></a><div style=\"text-align:center;display: flex;justify-content: center;\"><div style=\"display:flex;flex-direction:column;align-items: center;\"><i class=\"fa fa-thumbs-o-up like-btn-3051\" data-id=\"3051\" data-placement=\"top\" data-toggle=\"tooltip\" onclick=\"_gaq.push(['_trackEvent', 'CatVote', 'Up-Vote-Clicked', 'Tina Turner']);\" style=\"width:50px;height:50px;\" title=\"Vote For Your Favourite Singers\"></i><span class=\"likes likes-3051\">124</span></div><div style=\"display:flex;flex-direction:column;align-items: center;\"><i class=\"fa fa-thumbs-o-down dislike-btn-3051\" data-id=\"3051\" data-placement=\"top\" data-toggle=\"tooltip\" onclick=\"_gaq.push(['_trackEvent', 'CatVote', 'Down-Vote-Clicked', 'Tina Turner']);\" style=\"width:50px;height:50px;\" title=\"Vote For Your Favourite Singers\"></i><span class=\"dislikes dislikes-3051\">73</span></div></div></div><div class=\"col-lg-8 col-md-7 col-sm-7 col-xs-12 rt-text-display\"><div class=\"desc-q\"><b>Listed In: </b><a href=\"//www.thefamouspeople.com/rock-singers.php\">Rock Singers</a>, <a href=\"//www.thefamouspeople.com/rhythm-blues-singers.php\">Rhythm &amp; Blues Singers</a></div><div class=\"desc-q\"><b>Birthdate: </b>November 26, 1939</div><div class=\"desc-q\"><b>Sun Sign: </b>Sagittarius</div><div class=\"desc-q\"><b>Birthplace: </b>Nutbush, Tennessee, United States</div><div class=\"desc-q\"><b>Died: </b>May 24, 2023</div><div class=\"desc descEvent\"><p>Known as the Queen of Rock 'n' Roll, Tina Turner was one of the best-selling recording artists of all time and had a very long and successful career. <em>Let's Stay Together</em>, <em>What's Love Got to Do with It</em>, <em>Private Dancer </em>and <em>Golden Eye </em>are some of her chartbuster songs. She was also a songwriter and had acted in films too.</p></div></div><script>$(document).ready(function(){var pid =3051;var proname='';var page_url='//www.thefamouspeople.com/singers.php'; var ip = '2a06:98c0:3600::103'; var list_id = ' 25'; var uid ='7539142f08306d9c304dea98154572fa'; var page_type='category_parent'; var parent_cat_id = '0';$(\".like-btn-\"+pid).on(\"click\",function(){var s=$(this).data(\"id\");($clicked_btn=$(this)).hasClass(\"fa-thumbs-o-up\")?action=\"like\":$clicked_btn.hasClass(\"fa-thumbs-up\")&&(action=\"unlike\"),$.ajax({url:\"serverfile.php\",type:\"POST\",data:{action:action,post_id:s,user_id:uid,ip:ip,list_id:list_id,page_type:page_type,parent_cat_id:parent_cat_id,page_url:page_url,proname:proname},success:function(s){res=JSON.parse(s),\"like\"==action?($clicked_btn.removeClass(\"fa-thumbs-o-up\"),$clicked_btn.addClass(\"fa-thumbs-up\")):\"unlike\"==action&&($clicked_btn.removeClass(\"fa-thumbs-up\"),$clicked_btn.addClass(\"fa-thumbs-o-up\")),$(\".likes-\"+pid).text(res.likes),$(\".dislikes-\"+pid).text(res.dislikes),$(\".dislike-btn-\"+pid).removeClass(\"fa-thumbs-down\").addClass(\"fa-thumbs-o-down\")}})}),$(\".dislike-btn-\"+pid).on(\"click\",function(){var s=$(this).data(\"id\");($clicked_btn=$(this)).hasClass(\"fa-thumbs-o-down\")?action=\"dislike\":$clicked_btn.hasClass(\"fa-thumbs-down\")&&(action=\"undislike\"),$.ajax({url:\"serverfile.php\",type:\"POST\",data:{action:action,post_id:s,user_id:uid,ip:ip,list_id:list_id,page_type:page_type,parent_cat_id:parent_cat_id,page_url:page_url,proname:proname},success:function(s){res=JSON.parse(s),\"dislike\"==action?($clicked_btn.removeClass(\"fa-thumbs-o-down\"),$clicked_btn.addClass(\"fa-thumbs-down\")):\"undislike\"==action&&($clicked_btn.removeClass(\"fa-thumbs-down\"),$clicked_btn.addClass(\"fa-thumbs-o-down\")),$(\".likes-\"+pid).text(res.likes),$(\".dislikes-\"+pid).text(res.dislikes),$(\".like-btn-\"+pid).removeClass(\"fa-thumbs-up\").addClass(\"fa-thumbs-o-up\")}})});});</script></article></div><div class=\"clear\"></div><div class=\"wrapper\"><article class=\"feature col-lg-12 col-md-12 col-sm-12 col-xs-12 eventt internal_space\"><div class=\"ptitle\"><div style=\"display: flex;align-items: baseline;\"><div class=\"number\"> 45 </div><div class=\"ptitle-internal\" style=\"display:flex;flex-direction:column;\"><a class=\"tileLink\" href=\"//www.thefamouspeople.com/profiles/cline-marie-claudette-dion-987.php\">Celine Dion</a><div class=\"\" style=\"font-size:14px;color:#666;margin-top: 0.5em;line-height: 1.6;\">(Canadian Singer Known for Her Songs: ‘My Heart Will Go On’ and ‘The Power of Love’)</div></div><div class=\"clear\"></div></div><div class=\"clear\"></div></div><div class=\"clear\"></div><div class=\"image col-lg-4 col-md-5 col-sm-5 col-xs-12\"><a class=\"tileLink\" href=\"//www.thefamouspeople.com/profiles/cline-marie-claudette-dion-987.php\"><img alt=\"Celine Dion\" class=\"combi-profile-img\" data-src=\"//www.thefamouspeople.com/profiles/thumbs/celine-dion-987-1.jpg\" height=\"250\" src=\"\" title=\"Celine Dion\" width=\"300\"/></a><div style=\"text-align:center;display: flex;justify-content: center;\"><div style=\"display:flex;flex-direction:column;align-items: center;\"><i class=\"fa fa-thumbs-o-up like-btn-987\" data-id=\"987\" data-placement=\"top\" data-toggle=\"tooltip\" onclick=\"_gaq.push(['_trackEvent', 'CatVote', 'Up-Vote-Clicked', 'Celine Dion']);\" style=\"width:50px;height:50px;\" title=\"Vote For Your Favourite Singers\"></i><span class=\"likes likes-987\">181</span></div><div style=\"display:flex;flex-direction:column;align-items: center;\"><i class=\"fa fa-thumbs-o-down dislike-btn-987\" data-id=\"987\" data-placement=\"top\" data-toggle=\"tooltip\" onclick=\"_gaq.push(['_trackEvent', 'CatVote', 'Down-Vote-Clicked', 'Celine Dion']);\" style=\"width:50px;height:50px;\" title=\"Vote For Your Favourite Singers\"></i><span class=\"dislikes dislikes-987\">64</span></div></div></div><div class=\"col-lg-8 col-md-7 col-sm-7 col-xs-12 rt-text-display\"><div class=\"desc-q\"><b>Listed In: </b><a href=\"//www.thefamouspeople.com/pop-singers.php\">Pop Singers</a></div><div class=\"desc-q\"><b>Birthdate: </b>March 30, 1968</div><div class=\"desc-q\"><b>Sun Sign: </b>Aries</div><div class=\"desc-q\"><b>Birthplace: </b>Charlemagne, Canada</div><div class=\"desc descEvent\"><p>Celine Dion is a Canadian singer renowned for her powerful voice. Having sold more than 200 million records worldwide, Dion is one of the best-selling singers ever. Widely regarded as one of the <strong>most influential pop singers of her generation</strong>, Celine Dion's works have inspired other popular singers, such as Christina Aguilera, Rihanna, Jennifer Hudson, Katy Perry, and Ariana Grande.</p></div></div><script>$(document).ready(function(){var pid =987;var proname='';var page_url='//www.thefamouspeople.com/singers.php'; var ip = '2a06:98c0:3600::103'; var list_id = ' 25'; var uid ='7539142f08306d9c304dea98154572fa'; var page_type='category_parent'; var parent_cat_id = '0';$(\".like-btn-\"+pid).on(\"click\",function(){var s=$(this).data(\"id\");($clicked_btn=$(this)).hasClass(\"fa-thumbs-o-up\")?action=\"like\":$clicked_btn.hasClass(\"fa-thumbs-up\")&&(action=\"unlike\"),$.ajax({url:\"serverfile.php\",type:\"POST\",data:{action:action,post_id:s,user_id:uid,ip:ip,list_id:list_id,page_type:page_type,parent_cat_id:parent_cat_id,page_url:page_url,proname:proname},success:function(s){res=JSON.parse(s),\"like\"==action?($clicked_btn.removeClass(\"fa-thumbs-o-up\"),$clicked_btn.addClass(\"fa-thumbs-up\")):\"unlike\"==action&&($clicked_btn.removeClass(\"fa-thumbs-up\"),$clicked_btn.addClass(\"fa-thumbs-o-up\")),$(\".likes-\"+pid).text(res.likes),$(\".dislikes-\"+pid).text(res.dislikes),$(\".dislike-btn-\"+pid).removeClass(\"fa-thumbs-down\").addClass(\"fa-thumbs-o-down\")}})}),$(\".dislike-btn-\"+pid).on(\"click\",function(){var s=$(this).data(\"id\");($clicked_btn=$(this)).hasClass(\"fa-thumbs-o-down\")?action=\"dislike\":$clicked_btn.hasClass(\"fa-thumbs-down\")&&(action=\"undislike\"),$.ajax({url:\"serverfile.php\",type:\"POST\",data:{action:action,post_id:s,user_id:uid,ip:ip,list_id:list_id,page_type:page_type,parent_cat_id:parent_cat_id,page_url:page_url,proname:proname},success:function(s){res=JSON.parse(s),\"dislike\"==action?($clicked_btn.removeClass(\"fa-thumbs-o-down\"),$clicked_btn.addClass(\"fa-thumbs-down\")):\"undislike\"==action&&($clicked_btn.removeClass(\"fa-thumbs-down\"),$clicked_btn.addClass(\"fa-thumbs-o-down\")),$(\".likes-\"+pid).text(res.likes),$(\".dislikes-\"+pid).text(res.dislikes),$(\".like-btn-\"+pid).removeClass(\"fa-thumbs-up\").addClass(\"fa-thumbs-o-up\")}})});});</script></article></div><div class=\"clear\"></div><div class=\"col-lg-12 col-md-12 col-xs-12 col-sm-12\" style=\"margin:20px 0px;height:250px;\"><div class=\"center-ad desktop_ad\">\n",
       "<div class=\"_ap_apex_ad\" id=\"5655a656-98ad-4563-9ec0-8f844b708ca6\">\n",
       "<script>\n",
       "var adpushup = window.adpushup = window.adpushup || {};\n",
       "adpushup.que = adpushup.que || [];\n",
       "adpushup.que.push(function() {\n",
       "\tadpushup.triggerAd(\"5655a656-98ad-4563-9ec0-8f844b708ca6\");\n",
       "});\n",
       "</script>\n",
       "</div>\n",
       "</div><div class=\"center-ad tablet_ad\">\n",
       "<div class=\"_ap_apex_ad\" id=\"5655a656-98ad-4563-9ec0-8f844b708ca6\">\n",
       "<script>\n",
       "var adpushup = window.adpushup = window.adpushup || {};\n",
       "adpushup.que = adpushup.que || [];\n",
       "adpushup.que.push(function() {\n",
       "\tadpushup.triggerAd(\"5655a656-98ad-4563-9ec0-8f844b708ca6\");\n",
       "});\n",
       "</script>\n",
       "</div>\n",
       "</div><div class=\"center-ad mobile_ad\">\n",
       "<div class=\"_ap_apex_ad\" id=\"2fc1129b-a969-4ae5-bc29-2ffea14b72f9\">\n",
       "<script>\n",
       "var adpushup = window.adpushup = window.adpushup || {};\n",
       "adpushup.que = adpushup.que || [];\n",
       "adpushup.que.push(function() {\n",
       "\tadpushup.triggerAd(\"2fc1129b-a969-4ae5-bc29-2ffea14b72f9\");\n",
       "});\n",
       "</script>\n",
       "</div>\n",
       "</div></div><div class=\"clear\"></div><div class=\"wrapper\"><article class=\"feature col-lg-12 col-md-12 col-sm-12 col-xs-12 eventt internal_space\"><div class=\"ptitle\"><div style=\"display: flex;align-items: baseline;\"><div class=\"number\"> 46 </div><div class=\"ptitle-internal\" style=\"display:flex;flex-direction:column;\"><a class=\"tileLink\" href=\"//www.thefamouspeople.com/profiles/justin-randall-timberlake-2037.php\">Justin Randall Timberlake</a><div class=\"\" style=\"font-size:14px;color:#666;margin-top: 0.5em;line-height: 1.6;\">(Billboard Best Performing Male Soloist in the History of the Mainstream Top 40)</div></div><div class=\"clear\"></div></div><div class=\"clear\"></div></div><div class=\"clear\"></div><div class=\"image col-lg-4 col-md-5 col-sm-5 col-xs-12\"><a class=\"tileLink\" href=\"//www.thefamouspeople.com/profiles/justin-randall-timberlake-2037.php\"><img alt=\"Justin Randall Timberlake\" class=\"combi-profile-img\" data-src=\"//www.thefamouspeople.com/profiles/thumbs/justin-randall-timberlake-5.jpg\" height=\"250\" src=\"\" title=\"Justin Randall Timberlake\" width=\"300\"/></a><div style=\"text-align:center;display: flex;justify-content: center;\"><div style=\"display:flex;flex-direction:column;align-items: center;\"><i class=\"fa fa-thumbs-o-up like-btn-2037\" data-id=\"2037\" data-placement=\"top\" data-toggle=\"tooltip\" onclick=\"_gaq.push(['_trackEvent', 'CatVote', 'Up-Vote-Clicked', 'Justin Randall Timberlake']);\" style=\"width:50px;height:50px;\" title=\"Vote For Your Favourite Singers\"></i><span class=\"likes likes-2037\">181</span></div><div style=\"display:flex;flex-direction:column;align-items: center;\"><i class=\"fa fa-thumbs-o-down dislike-btn-2037\" data-id=\"2037\" data-placement=\"top\" data-toggle=\"tooltip\" onclick=\"_gaq.push(['_trackEvent', 'CatVote', 'Down-Vote-Clicked', 'Justin Randall Timberlake']);\" style=\"width:50px;height:50px;\" title=\"Vote For Your Favourite Singers\"></i><span class=\"dislikes dislikes-2037\">77</span></div></div></div><div class=\"col-lg-8 col-md-7 col-sm-7 col-xs-12 rt-text-display\"><div class=\"desc-q\"><b>Listed In: </b><a href=\"//www.thefamouspeople.com/record-producers.php\">Record Producers</a>, <a href=\"//www.thefamouspeople.com/pop-singers.php\">Pop Singers</a>, <a href=\"//www.thefamouspeople.com/rhythm-blues-singers.php\">Rhythm &amp; Blues Singers</a></div><div class=\"desc-q\"><b>Birthdate: </b>January 31, 1981</div><div class=\"desc-q\"><b>Sun Sign: </b>Aquarius</div><div class=\"desc-q\"><b>Birthplace: </b>Memphis, Tennessee, United States</div><div class=\"desc descEvent\"><p>Justin Randall Timberlake is an American actor, singer-songwriter, and record producer. Regarded as a <strong>pop icon</strong>, Timberlake has sold more than 56 million singles worldwide, which makes him <strong>one of the best-selling music artists</strong>. In 2007 and 2013, he was named in <em>Time </em>magazine's<em> 100 most influential people in the world </em>list. Timberlake is also known for his philanthropic activities.</p></div></div><script>$(document).ready(function(){var pid =2037;var proname='';var page_url='//www.thefamouspeople.com/singers.php'; var ip = '2a06:98c0:3600::103'; var list_id = ' 25'; var uid ='7539142f08306d9c304dea98154572fa'; var page_type='category_parent'; var parent_cat_id = '0';$(\".like-btn-\"+pid).on(\"click\",function(){var s=$(this).data(\"id\");($clicked_btn=$(this)).hasClass(\"fa-thumbs-o-up\")?action=\"like\":$clicked_btn.hasClass(\"fa-thumbs-up\")&&(action=\"unlike\"),$.ajax({url:\"serverfile.php\",type:\"POST\",data:{action:action,post_id:s,user_id:uid,ip:ip,list_id:list_id,page_type:page_type,parent_cat_id:parent_cat_id,page_url:page_url,proname:proname},success:function(s){res=JSON.parse(s),\"like\"==action?($clicked_btn.removeClass(\"fa-thumbs-o-up\"),$clicked_btn.addClass(\"fa-thumbs-up\")):\"unlike\"==action&&($clicked_btn.removeClass(\"fa-thumbs-up\"),$clicked_btn.addClass(\"fa-thumbs-o-up\")),$(\".likes-\"+pid).text(res.likes),$(\".dislikes-\"+pid).text(res.dislikes),$(\".dislike-btn-\"+pid).removeClass(\"fa-thumbs-down\").addClass(\"fa-thumbs-o-down\")}})}),$(\".dislike-btn-\"+pid).on(\"click\",function(){var s=$(this).data(\"id\");($clicked_btn=$(this)).hasClass(\"fa-thumbs-o-down\")?action=\"dislike\":$clicked_btn.hasClass(\"fa-thumbs-down\")&&(action=\"undislike\"),$.ajax({url:\"serverfile.php\",type:\"POST\",data:{action:action,post_id:s,user_id:uid,ip:ip,list_id:list_id,page_type:page_type,parent_cat_id:parent_cat_id,page_url:page_url,proname:proname},success:function(s){res=JSON.parse(s),\"dislike\"==action?($clicked_btn.removeClass(\"fa-thumbs-o-down\"),$clicked_btn.addClass(\"fa-thumbs-down\")):\"undislike\"==action&&($clicked_btn.removeClass(\"fa-thumbs-down\"),$clicked_btn.addClass(\"fa-thumbs-o-down\")),$(\".likes-\"+pid).text(res.likes),$(\".dislikes-\"+pid).text(res.dislikes),$(\".like-btn-\"+pid).removeClass(\"fa-thumbs-up\").addClass(\"fa-thumbs-o-up\")}})});});</script></article></div><div class=\"clear\"></div><div class=\"wrapper\"><article class=\"feature col-lg-12 col-md-12 col-sm-12 col-xs-12 eventt internal_space\"><div class=\"ptitle\"><div style=\"display: flex;align-items: baseline;\"><div class=\"number\"> 47 </div><div class=\"ptitle-internal\" style=\"display:flex;flex-direction:column;\"><a class=\"tileLink\" href=\"//www.thefamouspeople.com/profiles/lil-wayne-9156.php\">Lil Wayne</a><div class=\"\" style=\"font-size:14px;color:#666;margin-top: 0.5em;line-height: 1.6;\">(One of the Greatest Rappers of All Time)</div></div><div class=\"clear\"></div></div><div class=\"clear\"></div></div><div class=\"clear\"></div><div class=\"image col-lg-4 col-md-5 col-sm-5 col-xs-12\"><a class=\"tileLink\" href=\"//www.thefamouspeople.com/profiles/lil-wayne-9156.php\"><img alt=\"Lil Wayne\" class=\"combi-profile-img\" data-src=\"//www.thefamouspeople.com/profiles/thumbs/lil-wayne-1.jpg\" height=\"250\" src=\"\" title=\"Lil Wayne\" width=\"300\"/></a><div style=\"text-align:center;display: flex;justify-content: center;\"><div style=\"display:flex;flex-direction:column;align-items: center;\"><i class=\"fa fa-thumbs-o-up like-btn-9156\" data-id=\"9156\" data-placement=\"top\" data-toggle=\"tooltip\" onclick=\"_gaq.push(['_trackEvent', 'CatVote', 'Up-Vote-Clicked', 'Lil Wayne']);\" style=\"width:50px;height:50px;\" title=\"Vote For Your Favourite Singers\"></i><span class=\"likes likes-9156\">236</span></div><div style=\"display:flex;flex-direction:column;align-items: center;\"><i class=\"fa fa-thumbs-o-down dislike-btn-9156\" data-id=\"9156\" data-placement=\"top\" data-toggle=\"tooltip\" onclick=\"_gaq.push(['_trackEvent', 'CatVote', 'Down-Vote-Clicked', 'Lil Wayne']);\" style=\"width:50px;height:50px;\" title=\"Vote For Your Favourite Singers\"></i><span class=\"dislikes dislikes-9156\">164</span></div></div></div><div class=\"col-lg-8 col-md-7 col-sm-7 col-xs-12 rt-text-display\"><div class=\"desc-q\"><b>Listed In: </b><a href=\"//www.thefamouspeople.com/rappers.php\">Rappers</a>, <a href=\"//www.thefamouspeople.com/hip-hop-rappers.php\">Hip Hop Singers</a></div><div class=\"desc-q\"><b>Birthdate: </b>September 27, 1982</div><div class=\"desc-q\"><b>Sun Sign: </b>Libra</div><div class=\"desc-q\"><b>Birthplace: </b>New Orleans, Louisiana, United States</div><div class=\"desc descEvent\"><p>Rapper, singer and songwriter, Lil Wayne, is said to be an influential hip hop artists of his generation. Initially he was a flagship artist of Cash Money Records and then went solo. His albums are hugely popular and he has sold more than 120 million records worldwide. He has served an eight-month jail sentence for criminal possession of a weapon.</p></div></div><script>$(document).ready(function(){var pid =9156;var proname='';var page_url='//www.thefamouspeople.com/singers.php'; var ip = '2a06:98c0:3600::103'; var list_id = ' 25'; var uid ='7539142f08306d9c304dea98154572fa'; var page_type='category_parent'; var parent_cat_id = '0';$(\".like-btn-\"+pid).on(\"click\",function(){var s=$(this).data(\"id\");($clicked_btn=$(this)).hasClass(\"fa-thumbs-o-up\")?action=\"like\":$clicked_btn.hasClass(\"fa-thumbs-up\")&&(action=\"unlike\"),$.ajax({url:\"serverfile.php\",type:\"POST\",data:{action:action,post_id:s,user_id:uid,ip:ip,list_id:list_id,page_type:page_type,parent_cat_id:parent_cat_id,page_url:page_url,proname:proname},success:function(s){res=JSON.parse(s),\"like\"==action?($clicked_btn.removeClass(\"fa-thumbs-o-up\"),$clicked_btn.addClass(\"fa-thumbs-up\")):\"unlike\"==action&&($clicked_btn.removeClass(\"fa-thumbs-up\"),$clicked_btn.addClass(\"fa-thumbs-o-up\")),$(\".likes-\"+pid).text(res.likes),$(\".dislikes-\"+pid).text(res.dislikes),$(\".dislike-btn-\"+pid).removeClass(\"fa-thumbs-down\").addClass(\"fa-thumbs-o-down\")}})}),$(\".dislike-btn-\"+pid).on(\"click\",function(){var s=$(this).data(\"id\");($clicked_btn=$(this)).hasClass(\"fa-thumbs-o-down\")?action=\"dislike\":$clicked_btn.hasClass(\"fa-thumbs-down\")&&(action=\"undislike\"),$.ajax({url:\"serverfile.php\",type:\"POST\",data:{action:action,post_id:s,user_id:uid,ip:ip,list_id:list_id,page_type:page_type,parent_cat_id:parent_cat_id,page_url:page_url,proname:proname},success:function(s){res=JSON.parse(s),\"dislike\"==action?($clicked_btn.removeClass(\"fa-thumbs-o-down\"),$clicked_btn.addClass(\"fa-thumbs-down\")):\"undislike\"==action&&($clicked_btn.removeClass(\"fa-thumbs-down\"),$clicked_btn.addClass(\"fa-thumbs-o-down\")),$(\".likes-\"+pid).text(res.likes),$(\".dislikes-\"+pid).text(res.dislikes),$(\".like-btn-\"+pid).removeClass(\"fa-thumbs-up\").addClass(\"fa-thumbs-o-up\")}})});});</script></article></div><div class=\"clear\"></div><div class=\"wrapper\"><article class=\"feature col-lg-12 col-md-12 col-sm-12 col-xs-12 eventt internal_space\"><div class=\"ptitle\"><div style=\"display: flex;align-items: baseline;\"><div class=\"number\"> 48 </div><div class=\"ptitle-internal\" style=\"display:flex;flex-direction:column;\"><a class=\"tileLink\" href=\"//www.thefamouspeople.com/profiles/gwen-stefani-5454.php\">Gwen Stefani</a><div class=\"\" style=\"font-size:14px;color:#666;margin-top: 0.5em;line-height: 1.6;\">(Co-founder of Band 'No Doubt')</div></div><div class=\"clear\"></div></div><div class=\"clear\"></div></div><div class=\"clear\"></div><div class=\"image col-lg-4 col-md-5 col-sm-5 col-xs-12\"><a class=\"tileLink\" href=\"//www.thefamouspeople.com/profiles/gwen-stefani-5454.php\"><img alt=\"Gwen Stefani\" class=\"combi-profile-img\" data-src=\"//www.thefamouspeople.com/profiles/thumbs/gwen-stefani-3.jpg\" height=\"250\" src=\"\" title=\"Gwen Stefani\" width=\"300\"/></a><div style=\"text-align:center;display: flex;justify-content: center;\"><div style=\"display:flex;flex-direction:column;align-items: center;\"><i class=\"fa fa-thumbs-o-up like-btn-5454\" data-id=\"5454\" data-placement=\"top\" data-toggle=\"tooltip\" onclick=\"_gaq.push(['_trackEvent', 'CatVote', 'Up-Vote-Clicked', 'Gwen Stefani']);\" style=\"width:50px;height:50px;\" title=\"Vote For Your Favourite Singers\"></i><span class=\"likes likes-5454\">260</span></div><div style=\"display:flex;flex-direction:column;align-items: center;\"><i class=\"fa fa-thumbs-o-down dislike-btn-5454\" data-id=\"5454\" data-placement=\"top\" data-toggle=\"tooltip\" onclick=\"_gaq.push(['_trackEvent', 'CatVote', 'Down-Vote-Clicked', 'Gwen Stefani']);\" style=\"width:50px;height:50px;\" title=\"Vote For Your Favourite Singers\"></i><span class=\"dislikes dislikes-5454\">189</span></div></div></div><div class=\"col-lg-8 col-md-7 col-sm-7 col-xs-12 rt-text-display\"><div class=\"desc-q\"><b>Listed In: </b><a href=\"//www.thefamouspeople.com/rock-singers.php\">Rock Singers</a>, <a href=\"//www.thefamouspeople.com/pop-singers.php\">Pop Singers</a>, <a href=\"//www.thefamouspeople.com/lyricists.php\">Lyricists &amp; Songwriters</a></div><div class=\"desc-q\"><b>Birthdate: </b>October 3, 1969</div><div class=\"desc-q\"><b>Sun Sign: </b>Libra</div><div class=\"desc-q\"><b>Birthplace: </b>Fullerton, California, United States</div><div class=\"desc descEvent\"><p>The co-founder of the popular band <em>No Doubt</em>, Gwen Stefani is a famous singer, songwriter, and record producer. One of the most decorated singer-songwriters, Stefani was ranked 13th in VH1's list of <em>100 Greatest Women in Music</em> in 2012. Having sold over <strong>30 million albums </strong>worldwide, she is also one of the most successful female artists.</p></div></div><script>$(document).ready(function(){var pid =5454;var proname='';var page_url='//www.thefamouspeople.com/singers.php'; var ip = '2a06:98c0:3600::103'; var list_id = ' 25'; var uid ='7539142f08306d9c304dea98154572fa'; var page_type='category_parent'; var parent_cat_id = '0';$(\".like-btn-\"+pid).on(\"click\",function(){var s=$(this).data(\"id\");($clicked_btn=$(this)).hasClass(\"fa-thumbs-o-up\")?action=\"like\":$clicked_btn.hasClass(\"fa-thumbs-up\")&&(action=\"unlike\"),$.ajax({url:\"serverfile.php\",type:\"POST\",data:{action:action,post_id:s,user_id:uid,ip:ip,list_id:list_id,page_type:page_type,parent_cat_id:parent_cat_id,page_url:page_url,proname:proname},success:function(s){res=JSON.parse(s),\"like\"==action?($clicked_btn.removeClass(\"fa-thumbs-o-up\"),$clicked_btn.addClass(\"fa-thumbs-up\")):\"unlike\"==action&&($clicked_btn.removeClass(\"fa-thumbs-up\"),$clicked_btn.addClass(\"fa-thumbs-o-up\")),$(\".likes-\"+pid).text(res.likes),$(\".dislikes-\"+pid).text(res.dislikes),$(\".dislike-btn-\"+pid).removeClass(\"fa-thumbs-down\").addClass(\"fa-thumbs-o-down\")}})}),$(\".dislike-btn-\"+pid).on(\"click\",function(){var s=$(this).data(\"id\");($clicked_btn=$(this)).hasClass(\"fa-thumbs-o-down\")?action=\"dislike\":$clicked_btn.hasClass(\"fa-thumbs-down\")&&(action=\"undislike\"),$.ajax({url:\"serverfile.php\",type:\"POST\",data:{action:action,post_id:s,user_id:uid,ip:ip,list_id:list_id,page_type:page_type,parent_cat_id:parent_cat_id,page_url:page_url,proname:proname},success:function(s){res=JSON.parse(s),\"dislike\"==action?($clicked_btn.removeClass(\"fa-thumbs-o-down\"),$clicked_btn.addClass(\"fa-thumbs-down\")):\"undislike\"==action&&($clicked_btn.removeClass(\"fa-thumbs-down\"),$clicked_btn.addClass(\"fa-thumbs-o-down\")),$(\".likes-\"+pid).text(res.likes),$(\".dislikes-\"+pid).text(res.dislikes),$(\".like-btn-\"+pid).removeClass(\"fa-thumbs-up\").addClass(\"fa-thumbs-o-up\")}})});});</script></article></div><div class=\"clear\"></div><div class=\"wrapper\"><article class=\"feature col-lg-12 col-md-12 col-sm-12 col-xs-12 eventt internal_space\"><div class=\"ptitle\"><div style=\"display: flex;align-items: baseline;\"><div class=\"number\"> 49 </div><div class=\"ptitle-internal\" style=\"display:flex;flex-direction:column;\"><a class=\"tileLink\" href=\"//www.thefamouspeople.com/profiles/aretha-louise-franklin-753.php\">Aretha Franklin</a><div class=\"\" style=\"font-size:14px;color:#666;margin-top: 0.5em;line-height: 1.6;\">(One of the Best-Selling Music Artists in the World &amp; 'Queen of Soul')</div></div><div class=\"clear\"></div></div><div class=\"clear\"></div></div><div class=\"clear\"></div><div class=\"image col-lg-4 col-md-5 col-sm-5 col-xs-12\"><a class=\"tileLink\" href=\"//www.thefamouspeople.com/profiles/aretha-louise-franklin-753.php\"><img alt=\"Aretha Franklin\" class=\"combi-profile-img\" data-src=\"//www.thefamouspeople.com/profiles/thumbs/aretha-franklin-2.jpg\" height=\"250\" src=\"\" title=\"Aretha Franklin\" width=\"300\"/></a><div style=\"text-align:center;display: flex;justify-content: center;\"><div style=\"display:flex;flex-direction:column;align-items: center;\"><i class=\"fa fa-thumbs-o-up like-btn-753\" data-id=\"753\" data-placement=\"top\" data-toggle=\"tooltip\" onclick=\"_gaq.push(['_trackEvent', 'CatVote', 'Up-Vote-Clicked', 'Aretha Franklin']);\" style=\"width:50px;height:50px;\" title=\"Vote For Your Favourite Singers\"></i><span class=\"likes likes-753\">177</span></div><div style=\"display:flex;flex-direction:column;align-items: center;\"><i class=\"fa fa-thumbs-o-down dislike-btn-753\" data-id=\"753\" data-placement=\"top\" data-toggle=\"tooltip\" onclick=\"_gaq.push(['_trackEvent', 'CatVote', 'Down-Vote-Clicked', 'Aretha Franklin']);\" style=\"width:50px;height:50px;\" title=\"Vote For Your Favourite Singers\"></i><span class=\"dislikes dislikes-753\">115</span></div></div></div><div class=\"col-lg-8 col-md-7 col-sm-7 col-xs-12 rt-text-display\"><div class=\"desc-q\"><b>Listed In: </b><a href=\"//www.thefamouspeople.com/soul-singers.php\">Soul Singers</a>, <a href=\"//www.thefamouspeople.com/gospel-singers.php\">Gospel Singers</a>, <a href=\"//www.thefamouspeople.com/rhythm-blues-singers.php\">Rhythm &amp; Blues Singers</a></div><div class=\"desc-q\"><b>Birthdate: </b>March 25, 1942</div><div class=\"desc-q\"><b>Sun Sign: </b>Aries</div><div class=\"desc-q\"><b>Birthplace: </b>Memphis, Tennessee, United States</div><div class=\"desc-q\"><b>Died: </b>August 16, 2018</div><div class=\"desc descEvent\"><p>Widely regarded as the <strong>Queen of Soul</strong>, Aretha Franklin was a singer-songwriter, actress, and civil rights activist. Recipient of the <em>Presidential Medal of Freedom</em>, Aretha was ranked number one on <em>Rolling Stone</em> magazine's <em>100 Greatest Singers of All Time</em> list in 2010. Having sold over 75 million records, she is also one of the best-selling musicians ever.</p></div></div><script>$(document).ready(function(){var pid =753;var proname='';var page_url='//www.thefamouspeople.com/singers.php'; var ip = '2a06:98c0:3600::103'; var list_id = ' 25'; var uid ='7539142f08306d9c304dea98154572fa'; var page_type='category_parent'; var parent_cat_id = '0';$(\".like-btn-\"+pid).on(\"click\",function(){var s=$(this).data(\"id\");($clicked_btn=$(this)).hasClass(\"fa-thumbs-o-up\")?action=\"like\":$clicked_btn.hasClass(\"fa-thumbs-up\")&&(action=\"unlike\"),$.ajax({url:\"serverfile.php\",type:\"POST\",data:{action:action,post_id:s,user_id:uid,ip:ip,list_id:list_id,page_type:page_type,parent_cat_id:parent_cat_id,page_url:page_url,proname:proname},success:function(s){res=JSON.parse(s),\"like\"==action?($clicked_btn.removeClass(\"fa-thumbs-o-up\"),$clicked_btn.addClass(\"fa-thumbs-up\")):\"unlike\"==action&&($clicked_btn.removeClass(\"fa-thumbs-up\"),$clicked_btn.addClass(\"fa-thumbs-o-up\")),$(\".likes-\"+pid).text(res.likes),$(\".dislikes-\"+pid).text(res.dislikes),$(\".dislike-btn-\"+pid).removeClass(\"fa-thumbs-down\").addClass(\"fa-thumbs-o-down\")}})}),$(\".dislike-btn-\"+pid).on(\"click\",function(){var s=$(this).data(\"id\");($clicked_btn=$(this)).hasClass(\"fa-thumbs-o-down\")?action=\"dislike\":$clicked_btn.hasClass(\"fa-thumbs-down\")&&(action=\"undislike\"),$.ajax({url:\"serverfile.php\",type:\"POST\",data:{action:action,post_id:s,user_id:uid,ip:ip,list_id:list_id,page_type:page_type,parent_cat_id:parent_cat_id,page_url:page_url,proname:proname},success:function(s){res=JSON.parse(s),\"dislike\"==action?($clicked_btn.removeClass(\"fa-thumbs-o-down\"),$clicked_btn.addClass(\"fa-thumbs-down\")):\"undislike\"==action&&($clicked_btn.removeClass(\"fa-thumbs-down\"),$clicked_btn.addClass(\"fa-thumbs-o-down\")),$(\".likes-\"+pid).text(res.likes),$(\".dislikes-\"+pid).text(res.dislikes),$(\".like-btn-\"+pid).removeClass(\"fa-thumbs-up\").addClass(\"fa-thumbs-o-up\")}})});});</script></article></div><div class=\"clear\"></div><div class=\"wrapper\"><article class=\"feature col-lg-12 col-md-12 col-sm-12 col-xs-12 eventt internal_space\"><div class=\"ptitle\"><div style=\"display: flex;align-items: baseline;\"><div class=\"number\"> 50 </div><div class=\"ptitle-internal\" style=\"display:flex;flex-direction:column;\"><a class=\"tileLink\" href=\"//www.thefamouspeople.com/profiles/50-cent-9333.php\">50 Cent</a><div class=\"\" style=\"font-size:14px;color:#666;margin-top: 0.5em;line-height: 1.6;\">(Rapper)</div></div><div class=\"clear\"></div></div><div class=\"clear\"></div></div><div class=\"clear\"></div><div class=\"image col-lg-4 col-md-5 col-sm-5 col-xs-12\"><a class=\"tileLink\" href=\"//www.thefamouspeople.com/profiles/50-cent-9333.php\"><img alt=\"50 Cent\" class=\"combi-profile-img\" data-src=\"//www.thefamouspeople.com/profiles/thumbs/50-cent-1.jpg\" height=\"250\" src=\"\" title=\"50 Cent\" width=\"300\"/></a><div style=\"text-align:center;display: flex;justify-content: center;\"><div style=\"display:flex;flex-direction:column;align-items: center;\"><i class=\"fa fa-thumbs-o-up like-btn-9333\" data-id=\"9333\" data-placement=\"top\" data-toggle=\"tooltip\" onclick=\"_gaq.push(['_trackEvent', 'CatVote', 'Up-Vote-Clicked', '50 Cent']);\" style=\"width:50px;height:50px;\" title=\"Vote For Your Favourite Singers\"></i><span class=\"likes likes-9333\">341</span></div><div style=\"display:flex;flex-direction:column;align-items: center;\"><i class=\"fa fa-thumbs-o-down dislike-btn-9333\" data-id=\"9333\" data-placement=\"top\" data-toggle=\"tooltip\" onclick=\"_gaq.push(['_trackEvent', 'CatVote', 'Down-Vote-Clicked', '50 Cent']);\" style=\"width:50px;height:50px;\" title=\"Vote For Your Favourite Singers\"></i><span class=\"dislikes dislikes-9333\">173</span></div></div></div><div class=\"col-lg-8 col-md-7 col-sm-7 col-xs-12 rt-text-display\"><div class=\"desc-q\"><b>Listed In: </b><a href=\"//www.thefamouspeople.com/record-producers.php\">Record Producers</a>, <a href=\"//www.thefamouspeople.com/rappers.php\">Rappers</a></div><div class=\"desc-q\"><b>Birthdate: </b>July 6, 1975</div><div class=\"desc-q\"><b>Sun Sign: </b>Cancer</div><div class=\"desc-q\"><b>Birthplace: </b>South Jamaica, New York, United States</div><div class=\"desc descEvent\"><p>From selling drugs and getting arrested in his teens to becoming one of the world’s best-selling rappers, Curtis James Jackson III’s journey has been an interesting one. Better known by his stage name 50 Cent, his albums have sold in millions. However, despite being one of the richest celebrities, he filed for bankruptcy protection in 2015 due to financial troubles.</p></div></div><script>$(document).ready(function(){var pid =9333;var proname='';var page_url='//www.thefamouspeople.com/singers.php'; var ip = '2a06:98c0:3600::103'; var list_id = ' 25'; var uid ='7539142f08306d9c304dea98154572fa'; var page_type='category_parent'; var parent_cat_id = '0';$(\".like-btn-\"+pid).on(\"click\",function(){var s=$(this).data(\"id\");($clicked_btn=$(this)).hasClass(\"fa-thumbs-o-up\")?action=\"like\":$clicked_btn.hasClass(\"fa-thumbs-up\")&&(action=\"unlike\"),$.ajax({url:\"serverfile.php\",type:\"POST\",data:{action:action,post_id:s,user_id:uid,ip:ip,list_id:list_id,page_type:page_type,parent_cat_id:parent_cat_id,page_url:page_url,proname:proname},success:function(s){res=JSON.parse(s),\"like\"==action?($clicked_btn.removeClass(\"fa-thumbs-o-up\"),$clicked_btn.addClass(\"fa-thumbs-up\")):\"unlike\"==action&&($clicked_btn.removeClass(\"fa-thumbs-up\"),$clicked_btn.addClass(\"fa-thumbs-o-up\")),$(\".likes-\"+pid).text(res.likes),$(\".dislikes-\"+pid).text(res.dislikes),$(\".dislike-btn-\"+pid).removeClass(\"fa-thumbs-down\").addClass(\"fa-thumbs-o-down\")}})}),$(\".dislike-btn-\"+pid).on(\"click\",function(){var s=$(this).data(\"id\");($clicked_btn=$(this)).hasClass(\"fa-thumbs-o-down\")?action=\"dislike\":$clicked_btn.hasClass(\"fa-thumbs-down\")&&(action=\"undislike\"),$.ajax({url:\"serverfile.php\",type:\"POST\",data:{action:action,post_id:s,user_id:uid,ip:ip,list_id:list_id,page_type:page_type,parent_cat_id:parent_cat_id,page_url:page_url,proname:proname},success:function(s){res=JSON.parse(s),\"dislike\"==action?($clicked_btn.removeClass(\"fa-thumbs-o-down\"),$clicked_btn.addClass(\"fa-thumbs-down\")):\"undislike\"==action&&($clicked_btn.removeClass(\"fa-thumbs-down\"),$clicked_btn.addClass(\"fa-thumbs-o-down\")),$(\".likes-\"+pid).text(res.likes),$(\".dislikes-\"+pid).text(res.dislikes),$(\".like-btn-\"+pid).removeClass(\"fa-thumbs-up\").addClass(\"fa-thumbs-o-up\")}})});});</script></article></div><div class=\"clear\"></div><div class=\"col-lg-12 col-md-12 col-xs-12 col-sm-12\" style=\"margin:20px 0px;height:250px;\"><div class=\"center-ad desktop_ad\">\n",
       "<div class=\"_ap_apex_ad\" id=\"5655a656-98ad-4563-9ec0-8f844b708ca6\">\n",
       "<script>\n",
       "var adpushup = window.adpushup = window.adpushup || {};\n",
       "adpushup.que = adpushup.que || [];\n",
       "adpushup.que.push(function() {\n",
       "\tadpushup.triggerAd(\"5655a656-98ad-4563-9ec0-8f844b708ca6\");\n",
       "});\n",
       "</script>\n",
       "</div>\n",
       "</div><div class=\"center-ad tablet_ad\">\n",
       "<div class=\"_ap_apex_ad\" id=\"5655a656-98ad-4563-9ec0-8f844b708ca6\">\n",
       "<script>\n",
       "var adpushup = window.adpushup = window.adpushup || {};\n",
       "adpushup.que = adpushup.que || [];\n",
       "adpushup.que.push(function() {\n",
       "\tadpushup.triggerAd(\"5655a656-98ad-4563-9ec0-8f844b708ca6\");\n",
       "});\n",
       "</script>\n",
       "</div>\n",
       "</div><div class=\"center-ad mobile_ad\">\n",
       "<div class=\"_ap_apex_ad\" id=\"2fc1129b-a969-4ae5-bc29-2ffea14b72f9\">\n",
       "<script>\n",
       "var adpushup = window.adpushup = window.adpushup || {};\n",
       "adpushup.que = adpushup.que || [];\n",
       "adpushup.que.push(function() {\n",
       "\tadpushup.triggerAd(\"2fc1129b-a969-4ae5-bc29-2ffea14b72f9\");\n",
       "});\n",
       "</script>\n",
       "</div>\n",
       "</div></div><div class=\"clear\"></div><div class=\"clear\"></div><style>NR: 9940 : SC : Minus Value: 1.9</br>TV :278880</br>Rule 3B: pv+tv+at+ptv</br></style>\n",
       "<script>\n",
       "//var scrollingcontent = $.noConflict();\n",
       "//var pcondition = '[\"0\",\"25\"]';\n",
       "$(document).ready(function(){$('#content-scroll').scrollPagination({nop:10,offset:50,error: 'No More Profiles!',delay:0,scroll:true});});\n",
       "</script>\n",
       "<div id=\"content-scroll\"></div>\n",
       "</div>\n",
       "<div class=\"clear\"></div>\n",
       "<div class=\"center-ad\">\n",
       "<ins class=\"adsbygoogle\" data-ad-client=\"ca-pub-0023073267844535\" data-ad-format=\"autorelaxed\" data-ad-slot=\"2997502898\" style=\"display:block\"></ins>\n",
       "<script> (adsbygoogle = window.adsbygoogle || []).push({}); </script>\n",
       "</div>\n",
       "<div class=\"clear\"></div>\n",
       "<div class=\"main_introduction_right\"></div>\n",
       "<div class=\"clear\"></div>\n",
       "<div class=\"cat_more_from col-md-12 col-sm-12 col-xs-12\">\n",
       "<div class=\"cat_more_from_heading\">See Also</div>\n",
       "<div class=\"catmore\">\n",
       "<a class=\"col-md-3 col-sm-4 col-xs-6 catmorelinks\" href=\"//www.thefamouspeople.com/classical-singers.php\">Classical Singers</a><a class=\"col-md-3 col-sm-4 col-xs-6 catmorelinks\" href=\"//www.thefamouspeople.com/contemporary-rb-singers.php\">Contemporary R&amp;B Singers</a><a class=\"col-md-3 col-sm-4 col-xs-6 catmorelinks\" href=\"//www.thefamouspeople.com/country-singers.php\">Country Singers</a><a class=\"col-md-3 col-sm-4 col-xs-6 catmorelinks\" href=\"//www.thefamouspeople.com/dance-singers.php\">Dance Singers</a><a class=\"col-md-3 col-sm-4 col-xs-6 catmorelinks\" href=\"//www.thefamouspeople.com/devotional-singers.php\">Devotional Singers</a><a class=\"col-md-3 col-sm-4 col-xs-6 catmorelinks\" href=\"//www.thefamouspeople.com/folk-rock-singers.php\">Folk Rock Singers</a><a class=\"col-md-3 col-sm-4 col-xs-6 catmorelinks\" href=\"//www.thefamouspeople.com/folk-singers.php\">Folk Singers</a><a class=\"col-md-3 col-sm-4 col-xs-6 catmorelinks\" href=\"//www.thefamouspeople.com/ghazal-singers.php\">Ghazal Singers</a><a class=\"col-md-3 col-sm-4 col-xs-6 catmorelinks\" href=\"//www.thefamouspeople.com/gospel-singers.php\">Gospel Singers</a><a class=\"col-md-3 col-sm-4 col-xs-6 catmorelinks\" href=\"//www.thefamouspeople.com/hard-rock-singers.php\">Hard Rock Singers</a><a class=\"col-md-3 col-sm-4 col-xs-6 catmorelinks\" href=\"//www.thefamouspeople.com/hip-hop-rappers.php\">Hip Hop Singers</a><a class=\"col-md-3 col-sm-4 col-xs-6 catmorelinks\" href=\"//www.thefamouspeople.com/indie-pop-singers.php\">Indie Pop Singers</a><a class=\"col-md-3 col-sm-4 col-xs-6 catmorelinks\" href=\"//www.thefamouspeople.com/jazz-singers.php\">Jazz Singers</a><a class=\"col-md-3 col-sm-4 col-xs-6 catmorelinks\" href=\"//www.thefamouspeople.com/k-pop.php\">K-Pop Singers</a><a class=\"col-md-3 col-sm-4 col-xs-6 catmorelinks\" href=\"//www.thefamouspeople.com/opera-singers.php\">Opera Singers</a><a class=\"col-md-3 col-sm-4 col-xs-6 catmorelinks\" href=\"//www.thefamouspeople.com/playback-singers.php\">Playback Singers</a><a class=\"col-md-3 col-sm-4 col-xs-6 catmorelinks\" href=\"//www.thefamouspeople.com/pop-rock-singers.php\">Pop Rock Singers</a><a class=\"col-md-3 col-sm-4 col-xs-6 catmorelinks\" href=\"//www.thefamouspeople.com/pop-singers.php\">Pop Singers</a><a class=\"col-md-3 col-sm-4 col-xs-6 catmorelinks\" href=\"//www.thefamouspeople.com/psychedelic-singers.php\">Psychedelic Singers</a><a class=\"col-md-3 col-sm-4 col-xs-6 catmorelinks\" href=\"//www.thefamouspeople.com/punk-singers.php\">Punk Singers</a><a class=\"col-md-3 col-sm-4 col-xs-6 catmorelinks\" href=\"//www.thefamouspeople.com/rappers.php\">Rappers</a><a class=\"col-md-3 col-sm-4 col-xs-6 catmorelinks\" href=\"//www.thefamouspeople.com/reggae-singers.php\">Reggae Singers</a><a class=\"col-md-3 col-sm-4 col-xs-6 catmorelinks\" href=\"//www.thefamouspeople.com/rhythm-blues-singers.php\">Rhythm &amp; Blues Singers</a><a class=\"col-md-3 col-sm-4 col-xs-6 catmorelinks\" href=\"//www.thefamouspeople.com/rock-singers.php\">Rock Singers</a><a class=\"col-md-3 col-sm-4 col-xs-6 catmorelinks\" href=\"//www.thefamouspeople.com/soprano-singers.php\">Soprano Singers</a><a class=\"col-md-3 col-sm-4 col-xs-6 catmorelinks\" href=\"//www.thefamouspeople.com/soul-singers.php\">Soul Singers</a><a class=\"col-md-3 col-sm-4 col-xs-6 catmorelinks\" href=\"//www.thefamouspeople.com/vocalists.php\">Vocalists</a></div>\n",
       "</div>\n",
       "<div class=\"clear\"></div>\n",
       "</div>\n",
       "<div class=\"col-lg-3 col-md-4 col-sm-12 col-xs-12 rtside display_combi_sticky_ad\" style=\"float:right;\">\n",
       "<div class=\"sidebar\" style=\"max-height:600px;max-width:300px;margin-bottom:10px;height:600px;\">\n",
       "<div class=\"_ap_apex_ad\" id=\"a1d1d54b-ded7-4fe3-b36b-699d2a320218\">\n",
       "<script>\n",
       "\tvar adpushup = window.adpushup = window.adpushup || {};\n",
       "\tadpushup.que = adpushup.que || [];\n",
       "\tadpushup.que.push(function() {\n",
       "\t\tadpushup.triggerAd(\"a1d1d54b-ded7-4fe3-b36b-699d2a320218\");\n",
       "\t});\n",
       "</script>\n",
       "</div>\n",
       "</div>\n",
       "<div class=\"overlay\"></div>\n",
       "<div class=\"sidebar\" style=\"max-height:400px;max-width:300px;margin-bottom:10px;\">\n",
       "<style>\n",
       ".cat-block a{color:#fafafa!important;font-weight:700}.card-text{font-size:.875rem;margin-bottom:.5rem;line-height:1.5rem;top:0%;right:0%;position:absolute}.card-title h5{color:#2b2b2b!important}.card-votes{font-size:18px;color:red;float:right}.profile-block a{color:#fafafa!important}.profile-block{position:absolute;left:50%;transform:translateX(-50%);background:rgba(10,10,10,.6);color:#fafafa;bottom:2%;width:98%;padding:10px;margin:0 auto;font-family:\"Guardian Egyptian Web\",\"Guardian Text Egyptian Web\",Georgia,serif;text-align:center;border-radius:10px}.cat-block-votes{position:absolute;left:18%;transform:translateX(-50%);background:rgb(0 0 0 / 50%);color:#fc0;top:3%;font-size:14px;padding:5px;margin:0 auto;text-align:center;border-radius:10px;font-weight:700;width:26%}\n",
       "</style>\n",
       "<div class=\"catitems\">\n",
       "<div class=\"col-md-12 col-lg-12 col-sm-12 col-xs-12\" style=\"padding:0px;margin-bottom:10px;\"><a href=\"//www.thefamouspeople.com/list-of-musical-ly.php\"><img alt=\"TikTok Stars\" class=\"profile-image\" height=\"157\" src=\"https://www.thefamouspeople.com/profiles/images/og-khabane-lame-112801.jpg\" style=\"border-radius:2.5px;\" width=\"300\"/></a><p class=\"cat-block-votes\">59.9K Votes</p><div class=\"profile-block\" style=\"font-weight:700;font-size:20px;\"><a class=\"md-button\" href=\"//www.thefamouspeople.com/list-of-musical-ly.php\">TikTok Stars</a></div></div><div class=\"clear\"></div><div class=\"col-md-12 col-lg-12 col-sm-12 col-xs-12\" style=\"padding:0px;margin-bottom:10px;\"><a href=\"//www.thefamouspeople.com/dramatists-playrights.php\"><img alt=\"Playwrights\" class=\"profile-image\" height=\"157\" src=\"https://www.thefamouspeople.com/profiles/images/og-oscar-wilde-63.jpg\" style=\"border-radius:2.5px;\" width=\"300\"/></a><p class=\"cat-block-votes\">81.5K Votes</p><div class=\"profile-block\" style=\"font-weight:700;font-size:20px;\"><a class=\"md-button\" href=\"//www.thefamouspeople.com/dramatists-playrights.php\">Playwrights</a></div></div><div class=\"clear\"></div></div>\n",
       "</div>\n",
       "<div class=\"overlay\"></div>\n",
       "<div class=\"rt_sticky sidebox sticky-combi-mains1\" id=\"content-right-ad\" style=\"text-align: -webkit-center;max-height:600px;max-width:300px;\">\n",
       "<div class=\"_ap_apex_ad\" id=\"2fc1129b-a969-4ae5-bc29-2ffea14b72f9\">\n",
       "<script>\n",
       "var adpushup = window.adpushup = window.adpushup || {};\n",
       "adpushup.que = adpushup.que || [];\n",
       "adpushup.que.push(function() {\n",
       "\tadpushup.triggerAd(\"2fc1129b-a969-4ae5-bc29-2ffea14b72f9\");\n",
       "});\n",
       "</script>\n",
       "</div>\n",
       "</div>\n",
       "</div>\n",
       "<div class=\"clear\"></div>\n",
       "</div>\n",
       "</div>\n",
       "</div>\n",
       "<div class=\"clear\"></div>\n",
       "<script type=\"text/javascript\">\n",
       "(function($) {\n",
       "\t$(\"#showmore\").css({cursor:\"pointer\",color:\"green\",\"background-repeat\":\"no-repeat\",\"background-position\":\"252px 3px\",\"font-size\":\"14px\"}),$(\".award_section\").hide(),$(\"#showmore\").click(function(){$(this).toggleClass(\"open\").toggleClass(\"close\"),$(this).next().toggle(),$(this).css(\"display\",\"none\")});\n",
       "\t$.fn.scrollPagination = function(options) {\n",
       "\t\tvar pcondition = '[\"0\",\"25\"]';\n",
       "\t\tvar c1 = \t'category_parent';\n",
       "\t\tvar c2 =  \"\";\n",
       "\t\tvar c3 =\t\"1\";\n",
       "\t\tvar limit = 10;\n",
       "\t\tvar settings={nop:10,offset:limit,error:\"No More Profiles!\",delay:0,scroll:!0,sqlcondition:pcondition,c1:c1,c2:c2,c3:c3}\n",
       "\t\t// Extend the options so they work with the plugin\n",
       "\t\toptions&&$.extend(settings,options)\n",
       "\t\t// For each so that we keep chainability.\n",
       "\t\treturn this.each(function() {\n",
       "\t\t$this=$(this),$settings=settings;var offset=$settings.offset,busy=!1;function getData(){$.post('//www.thefamouspeople.com/ajax/page_loader.php',{action:\"scrollpagination\",number:$settings.nop,offset:offset,sqlc:$settings.sqlcondition,c1:$settings.c1,c2:$settings.c2,c3:$settings.c3},function(a){var a=a.trim();$this.find(\".loading-bar\").html($initmessage),0==a.length?$this.find(\".loading-bar\").hide():(offset+=$settings.nop,$this.find(\".content\").append(a),busy=!1)})}function getDataContent(){$.post('//www.thefamouspeople.com/ajax/page_loader.php',{action:\"scrollpagination\",number:$settings.nop,offset:offset,sqlc:$settings.sqlcondition,c1:$settings.c1,c2:$settings.c2,c3:$settings.c3},function(a){var a=a.trim();$this.find(\".loading-bar\").html($initmessage),0==a.length&&$this.find(\".loading-bar\").hide()})}$initmessage=!0==$settings.scroll?\"Scroll for more or click here\":\"View More\",$this.append('<div class=\"content\"></div><div class=\"loading-bar\">'+$initmessage+\"</div>\"),getDataContent(),!0==$settings.scroll&&$(window).scroll(function(){$(window).scrollTop()+$(window).height()>$this.height()&&!busy&&(busy=!0,$this.find(\".loading-bar\").html(\"Loading Posts\"),setTimeout(function(){getData()},$settings.delay))}),$this.find(\".loading-bar\").click(function(){!1==busy&&(busy=!0,getData())});\n",
       "\t\t});\n",
       "\t}\n",
       "\t$.fn.loadScroll=function(c){var d,e,a=$(window),b=this;b.one(\"loadScroll\",function(){if(this.getAttribute(\"data-src\")){if(this.setAttribute(\"src\",this.getAttribute(\"data-src\")),this.removeAttribute(\"data-src\"),!c)return!1;$(this).hide().fadeIn(c).add(\"img\").removeAttr(\"style\")}}),a.scroll(function(){e=(d=b.filter(function(){var b=a.scrollTop(),d=a.height(),c=$(this).offset().top,e=$(this).height();return c+e>=b&&c<=b+d})).trigger(\"loadScroll\"),b=b.not(e)})}\n",
       "})(jQuery);\n",
       "</script>\n",
       "<script async=\"async\" src=\"//www.thefamouspeople.com/js/brand.js\"></script><div id=\"footer\"><div class=\"footer-menu\"><div class=\"copyright\"><a href=\"//www.thefamouspeople.com/grouping.php\">Grouping Of People</a> |<a href=\"//www.thefamouspeople.com/recent.php\">Recent </a></div><a href=\"//thisday.thefamouspeople.com\">This Day In History </a> | <a href=\"//www.thefamouspeople.com/profiles/index.php\">SITE MAP </a> | <a href=\"//www.thefamouspeople.com/manage_cookies.php\">Cookie Policy </a> | <a href=\"//www.thefamouspeople.com/privacy-policy.php\">PRIVACY POLICY </a> | <a href=\"//www.thefamouspeople.com/contact-us.php\">CONTACT US </a> | <a href=\"//www.thefamouspeople.com/about_us.php\">ABOUT US </a> |<a href=\"//www.thefamouspeople.com/jobs.php\">JOBS </a><div class=\"copyright\"><p> © <a href=\"//www.thefamouspeople.com\" style=\"\">Famous People</a> All Rights Reserved</p></div></div></div>\n",
       "<script>$(document).ready(function(){var t;((t=jQuery).fn.loadScroll=function(i){var o,n,e=t(window),s=this;s.one(\"loadScroll\",function(){if(this.getAttribute(\"data-src\")){if((this.setAttribute(\"src\",this.getAttribute(\"data-src\")),this.removeAttribute(\"data-src\"),!i))return!1;t(this).hide().fadeIn(i).add(\"img\").removeAttr(\"style\")}}),e.scroll(function(){(o=s.filter(function(){var i=e.scrollTop(),o=e.height(),n=t(this).offset().top;return n+t(this).height()>=i&&n<=i+o})),(n=o.trigger(\"loadScroll\")),(s=s.not(n))})}),$(function(){$(\"img\").loadScroll(0)}),$(function(){if($(\"#content-right-ad\").offset()){var t=$(\"#content-right-ad\").offset().top;$(window).scroll(function(){if(window.innerWidth>1024){var i=$(window).scrollTop();i<$(\".primis_cls\").offset().top?$(\"#content-right-ad\").css({position:\"relative\"}):$(\"#content-right-ad\").css({top:\"0\",\"margin-left\":\"initial\",\"margin-right\":\"initial\",\"text-align\":\"-webkit-center\",position:\"fixed\"}),t<i||$(\"#content-right-ad\").css(\"position\",\"static\")}})}}),$(window).scroll(function(t){var i=$(\".sticky-birth\"),o=\"fixed\"==i.css(\"position\");$(this).scrollTop()>500&&!o&&i.css({position:\"fixed\",top:\"0px\",display:\"block\",right:\"0px\",\"text-align\":\"-webkit-center\",\"text-align\":\"center\"}),500>$(this).scrollTop()&&o&&i.css({position:\"static\",top:\"0px\",display:\"none\"});var n=$(\"header\"),e=$(\"#ui-datepicker-div\");window.innerWidth<=768&&(n.css({top:\"unset\",bottom:\"0px\"}),$(\"#datepicker\").click(function(){e.css({position:\"sticky\"})}))})});</script>\n",
       "<script>\n",
       "  if(\"undefined\"==typeof jQuery)throw new Error(\"Bootstrap's JavaScript requires jQuery\");!function(t){\"use strict\";var e=jQuery.fn.jquery.split(\" \")[0].split(\".\");if(e[0]<2&&e[1]<9||1==e[0]&&9==e[1]&&e[2]<1||e[0]>3)throw new Error(\"Bootstrap's JavaScript requires jQuery version 1.9.1 or higher, but lower than version 4\")}(),function(t){\"use strict\";t.fn.emulateTransitionEnd=function(e){var i=!1,n=this;return t(this).one(\"bsTransitionEnd\",(function(){i=!0})),setTimeout((function(){i||t(n).trigger(t.support.transition.end)}),e),this},t((function(){t.support.transition=function(){var t=document.createElement(\"bootstrap\"),e={WebkitTransition:\"webkitTransitionEnd\",MozTransition:\"transitionend\",OTransition:\"oTransitionEnd otransitionend\",transition:\"transitionend\"};for(var i in e)if(void 0!==t.style[i])return{end:e[i]};return!1}(),t.support.transition&&(t.event.special.bsTransitionEnd={bindType:t.support.transition.end,delegateType:t.support.transition.end,handle:function(e){if(t(e.target).is(this))return e.handleObj.handler.apply(this,arguments)}})}))}(jQuery),function(t){\"use strict\";var e='[data-dismiss=\"alert\"]',i=function(i){t(i).on(\"click\",e,this.close)};i.VERSION=\"3.3.7\",i.TRANSITION_DURATION=150,i.prototype.close=function(e){function n(){r.detach().trigger(\"closed.bs.alert\").remove()}var s=t(this),a=s.attr(\"data-target\");a||(a=(a=s.attr(\"href\"))&&a.replace(/.*(?=#[^\\s]*$)/,\"\"));var r=t(\"#\"===a?[]:a);e&&e.preventDefault(),r.length||(r=s.closest(\".alert\")),r.trigger(e=t.Event(\"close.bs.alert\")),e.isDefaultPrevented()||(r.removeClass(\"in\"),t.support.transition&&r.hasClass(\"fade\")?r.one(\"bsTransitionEnd\",n).emulateTransitionEnd(i.TRANSITION_DURATION):n())};var n=t.fn.alert;t.fn.alert=function(e){return this.each((function(){var n=t(this),s=n.data(\"bs.alert\");s||n.data(\"bs.alert\",s=new i(this)),\"string\"==typeof e&&s[e].call(n)}))},t.fn.alert.Constructor=i,t.fn.alert.noConflict=function(){return t.fn.alert=n,this},t(document).on(\"click.bs.alert.data-api\",e,i.prototype.close)}(jQuery),function(t){\"use strict\";function e(e){return this.each((function(){var n=t(this),s=n.data(\"bs.button\"),a=\"object\"==typeof e&&e;s||n.data(\"bs.button\",s=new i(this,a)),\"toggle\"==e?s.toggle():e&&s.setState(e)}))}var i=function(e,n){this.$element=t(e),this.options=t.extend({},i.DEFAULTS,n),this.isLoading=!1};i.VERSION=\"3.3.7\",i.DEFAULTS={loadingText:\"loading...\"},i.prototype.setState=function(e){var i=\"disabled\",n=this.$element,s=n.is(\"input\")?\"val\":\"html\",a=n.data();e+=\"Text\",null==a.resetText&&n.data(\"resetText\",n[s]()),setTimeout(t.proxy((function(){n[s](null==a[e]?this.options[e]:a[e]),\"loadingText\"==e?(this.isLoading=!0,n.addClass(i).attr(i,i).prop(i,!0)):this.isLoading&&(this.isLoading=!1,n.removeClass(i).removeAttr(i).prop(i,!1))}),this),0)},i.prototype.toggle=function(){var t=!0,e=this.$element.closest('[data-toggle=\"buttons\"]');if(e.length){var i=this.$element.find(\"input\");\"radio\"==i.prop(\"type\")?(i.prop(\"checked\")&&(t=!1),e.find(\".active\").removeClass(\"active\"),this.$element.addClass(\"active\")):\"checkbox\"==i.prop(\"type\")&&(i.prop(\"checked\")!==this.$element.hasClass(\"active\")&&(t=!1),this.$element.toggleClass(\"active\")),i.prop(\"checked\",this.$element.hasClass(\"active\")),t&&i.trigger(\"change\")}else this.$element.attr(\"aria-pressed\",!this.$element.hasClass(\"active\")),this.$element.toggleClass(\"active\")};var n=t.fn.button;t.fn.button=e,t.fn.button.Constructor=i,t.fn.button.noConflict=function(){return t.fn.button=n,this},t(document).on(\"click.bs.button.data-api\",'[data-toggle^=\"button\"]',(function(i){var n=t(i.target).closest(\".btn\");e.call(n,\"toggle\"),t(i.target).is('input[type=\"radio\"], input[type=\"checkbox\"]')||(i.preventDefault(),n.is(\"input,button\")?n.trigger(\"focus\"):n.find(\"input:visible,button:visible\").first().trigger(\"focus\"))})).on(\"focus.bs.button.data-api blur.bs.button.data-api\",'[data-toggle^=\"button\"]',(function(e){t(e.target).closest(\".btn\").toggleClass(\"focus\",/^focus(in)?$/.test(e.type))}))}(jQuery),function(t){\"use strict\";function e(e){return this.each((function(){var n=t(this),s=n.data(\"bs.carousel\"),a=t.extend({},i.DEFAULTS,n.data(),\"object\"==typeof e&&e),r=\"string\"==typeof e?e:a.slide;s||n.data(\"bs.carousel\",s=new i(this,a)),\"number\"==typeof e?s.to(e):r?s[r]():a.interval&&s.pause().cycle()}))}var i=function(e,i){this.$element=t(e),this.$indicators=this.$element.find(\".carousel-indicators\"),this.options=i,this.paused=null,this.sliding=null,this.interval=null,this.$active=null,this.$items=null,this.options.keyboard&&this.$element.on(\"keydown.bs.carousel\",t.proxy(this.keydown,this)),\"hover\"==this.options.pause&&!(\"ontouchstart\"in document.documentElement)&&this.$element.on(\"mouseenter.bs.carousel\",t.proxy(this.pause,this)).on(\"mouseleave.bs.carousel\",t.proxy(this.cycle,this))};i.VERSION=\"3.3.7\",i.TRANSITION_DURATION=400,i.DEFAULTS={interval:3e3,pause:\"hover\",wrap:!0,keyboard:!0},i.prototype.keydown=function(t){if(!/input|textarea/i.test(t.target.tagName)){switch(t.which){case 37:this.prev();break;case 39:this.next();break;default:return}t.preventDefault()}},i.prototype.cycle=function(e){return e||(this.paused=!1),this.interval&&clearInterval(this.interval),this.options.interval&&!this.paused&&(this.interval=setInterval(t.proxy(this.next,this),this.options.interval)),this},i.prototype.getItemIndex=function(t){return this.$items=t.parent().children(\".item\"),this.$items.index(t||this.$active)},i.prototype.getItemForDirection=function(t,e){var i=this.getItemIndex(e);if((\"prev\"==t&&0===i||\"next\"==t&&i==this.$items.length-1)&&!this.options.wrap)return e;var n=(i+(\"prev\"==t?-1:1))%this.$items.length;return this.$items.eq(n)},i.prototype.to=function(t){var e=this,i=this.getItemIndex(this.$active=this.$element.find(\".item.active\"));if(!(t>this.$items.length-1||t<0))return this.sliding?this.$element.one(\"slid.bs.carousel\",(function(){e.to(t)})):i==t?this.pause().cycle():this.slide(t>i?\"next\":\"prev\",this.$items.eq(t))},i.prototype.pause=function(e){return e||(this.paused=!0),this.$element.find(\".next, .prev\").length&&t.support.transition&&(this.$element.trigger(t.support.transition.end),this.cycle(!0)),this.interval=clearInterval(this.interval),this},i.prototype.next=function(){if(!this.sliding)return this.slide(\"next\")},i.prototype.prev=function(){if(!this.sliding)return this.slide(\"prev\")},i.prototype.slide=function(e,n){var s=this.$element.find(\".item.active\"),a=n||this.getItemForDirection(e,s),r=this.interval,o=\"next\"==e?\"left\":\"right\",l=this;if(a.hasClass(\"active\"))return this.sliding=!1;var c=a[0],h=t.Event(\"slide.bs.carousel\",{relatedTarget:c,direction:o});if(this.$element.trigger(h),!h.isDefaultPrevented()){if(this.sliding=!0,r&&this.pause(),this.$indicators.length){this.$indicators.find(\".active\").removeClass(\"active\");var d=t(this.$indicators.children()[this.getItemIndex(a)]);d&&d.addClass(\"active\")}var u=t.Event(\"slid.bs.carousel\",{relatedTarget:c,direction:o});return t.support.transition&&this.$element.hasClass(\"slide\")?(a.addClass(e),a[0].offsetWidth,s.addClass(o),a.addClass(o),s.one(\"bsTransitionEnd\",(function(){a.removeClass([e,o].join(\" \")).addClass(\"active\"),s.removeClass([\"active\",o].join(\" \")),l.sliding=!1,setTimeout((function(){l.$element.trigger(u)}),0)})).emulateTransitionEnd(i.TRANSITION_DURATION)):(s.removeClass(\"active\"),a.addClass(\"active\"),this.sliding=!1,this.$element.trigger(u)),r&&this.cycle(),this}};var n=t.fn.carousel;t.fn.carousel=e,t.fn.carousel.Constructor=i,t.fn.carousel.noConflict=function(){return t.fn.carousel=n,this};var s=function(i){var n,s=t(this),a=t(s.attr(\"data-target\")||(n=s.attr(\"href\"))&&n.replace(/.*(?=#[^\\s]+$)/,\"\"));if(a.hasClass(\"carousel\")){var r=t.extend({},a.data(),s.data()),o=s.attr(\"data-slide-to\");o&&(r.interval=!1),e.call(a,r),o&&a.data(\"bs.carousel\").to(o),i.preventDefault()}};t(document).on(\"click.bs.carousel.data-api\",\"[data-slide]\",s).on(\"click.bs.carousel.data-api\",\"[data-slide-to]\",s),t(window).on(\"load\",(function(){t('[data-ride=\"carousel\"]').each((function(){var i=t(this);e.call(i,i.data())}))}))}(jQuery),function(t){\"use strict\";function e(e){var i,n=e.attr(\"data-target\")||(i=e.attr(\"href\"))&&i.replace(/.*(?=#[^\\s]+$)/,\"\");return t(n)}function i(e){return this.each((function(){var i=t(this),s=i.data(\"bs.collapse\"),a=t.extend({},n.DEFAULTS,i.data(),\"object\"==typeof e&&e);!s&&a.toggle&&/show|hide/.test(e)&&(a.toggle=!1),s||i.data(\"bs.collapse\",s=new n(this,a)),\"string\"==typeof e&&s[e]()}))}var n=function(e,i){this.$element=t(e),this.options=t.extend({},n.DEFAULTS,i),this.$trigger=t('[data-toggle=\"collapse\"][href=\"#'+e.id+'\"],[data-toggle=\"collapse\"][data-target=\"#'+e.id+'\"]'),this.transitioning=null,this.options.parent?this.$parent=this.getParent():this.addAriaAndCollapsedClass(this.$element,this.$trigger),this.options.toggle&&this.toggle()};n.VERSION=\"3.3.7\",n.TRANSITION_DURATION=350,n.DEFAULTS={toggle:!0},n.prototype.dimension=function(){return this.$element.hasClass(\"width\")?\"width\":\"height\"},n.prototype.show=function(){if(!this.transitioning&&!this.$element.hasClass(\"in\")){var e,s=this.$parent&&this.$parent.children(\".panel\").children(\".in, .collapsing\");if(!(s&&s.length&&(e=s.data(\"bs.collapse\"),e&&e.transitioning))){var a=t.Event(\"show.bs.collapse\");if(this.$element.trigger(a),!a.isDefaultPrevented()){s&&s.length&&(i.call(s,\"hide\"),e||s.data(\"bs.collapse\",null));var r=this.dimension();this.$element.removeClass(\"collapse\").addClass(\"collapsing\")[r](0).attr(\"aria-expanded\",!0),this.$trigger.removeClass(\"collapsed\").attr(\"aria-expanded\",!0),this.transitioning=1;var o=function(){this.$element.removeClass(\"collapsing\").addClass(\"collapse in\")[r](\"\"),this.transitioning=0,this.$element.trigger(\"shown.bs.collapse\")};if(!t.support.transition)return o.call(this);var l=t.camelCase([\"scroll\",r].join(\"-\"));this.$element.one(\"bsTransitionEnd\",t.proxy(o,this)).emulateTransitionEnd(n.TRANSITION_DURATION)[r](this.$element[0][l])}}}},n.prototype.hide=function(){if(!this.transitioning&&this.$element.hasClass(\"in\")){var e=t.Event(\"hide.bs.collapse\");if(this.$element.trigger(e),!e.isDefaultPrevented()){var i=this.dimension();this.$element[i](this.$element[i]())[0].offsetHeight,this.$element.addClass(\"collapsing\").removeClass(\"collapse in\").attr(\"aria-expanded\",!1),this.$trigger.addClass(\"collapsed\").attr(\"aria-expanded\",!1),this.transitioning=1;var s=function(){this.transitioning=0,this.$element.removeClass(\"collapsing\").addClass(\"collapse\").trigger(\"hidden.bs.collapse\")};return t.support.transition?void this.$element[i](0).one(\"bsTransitionEnd\",t.proxy(s,this)).emulateTransitionEnd(n.TRANSITION_DURATION):s.call(this)}}},n.prototype.toggle=function(){this[this.$element.hasClass(\"in\")?\"hide\":\"show\"]()},n.prototype.getParent=function(){return t(this.options.parent).find('[data-toggle=\"collapse\"][data-parent=\"'+this.options.parent+'\"]').each(t.proxy((function(i,n){var s=t(n);this.addAriaAndCollapsedClass(e(s),s)}),this)).end()},n.prototype.addAriaAndCollapsedClass=function(t,e){var i=t.hasClass(\"in\");t.attr(\"aria-expanded\",i),e.toggleClass(\"collapsed\",!i).attr(\"aria-expanded\",i)};var s=t.fn.collapse;t.fn.collapse=i,t.fn.collapse.Constructor=n,t.fn.collapse.noConflict=function(){return t.fn.collapse=s,this},t(document).on(\"click.bs.collapse.data-api\",'[data-toggle=\"collapse\"]',(function(n){var s=t(this);s.attr(\"data-target\")||n.preventDefault();var a=e(s),r=a.data(\"bs.collapse\")?\"toggle\":s.data();i.call(a,r)}))}(jQuery);\n",
       "</script>\n",
       "<script>\n",
       "var _gaq=_gaq||[];_gaq.push([\"_setAccount\",\"UA-357183-36\"]),_gaq.push([\"_trackPageview\"]),function(){var t=document.createElement(\"script\");t.type=\"text/javascript\",t.async=!0,t.src=(\"https:\"==document.location.protocol?\"https://ssl\":\"http://www\")+\".google-analytics.com/ga.js\";var e=document.getElementsByTagName(\"script\")[0];e.parentNode.insertBefore(t,e)}();\n",
       "</script>\n",
       "<script crossorigin=\"anonymous\" data-cf-beacon='{\"rayId\":\"8099573a3df086cc\",\"version\":\"2023.8.0\",\"b\":1,\"token\":\"6c6e9512a2ba44ee85600fc88250857b\",\"si\":100}' defer=\"\" integrity=\"sha512-bjgnUKX4azu3dLTVtie9u6TKqgx29RBwfj3QXYt5EKfWM/9hPSAI/4qcV5NACjwAo8UtTeWefx6Zq5PHcMm7Tg==\" src=\"https://static.cloudflareinsights.com/beacon.min.js/v8b253dfea2ab4077af8c6f58422dfbfd1689876627854\"></script>\n",
       "</body>\n",
       "</html>"
      ]
     },
     "execution_count": 74,
     "metadata": {},
     "output_type": "execute_result"
    }
   ],
   "source": [
    "from bs4 import BeautifulSoup\n",
    "import urllib3\n",
    "\n",
    "http = urllib3.PoolManager()\n",
    "\n",
    "url = 'http://www.thefamouspeople.com/singers.php'\n",
    "response = http.request('GET', url)\n",
    "soup = BeautifulSoup(response.data)\n",
    "soup"
   ]
  },
  {
   "cell_type": "markdown",
   "metadata": {},
   "source": [
    "## Packaging\n",
    "### Interface design\n",
    "* Encapsulation\n",
    "* Generalization\n",
    "* Interface design\n",
    "* Refactoring\n"
   ]
  },
  {
   "cell_type": "markdown",
   "metadata": {},
   "source": [
    "### Extending/embedding Python\n",
    "\n",
    "Python provides bindings to other languages that allow for powerful large project building. Check\n",
    "[http://docs.python.org/extending/index.html](http://docs.python.org/extending/index.html) for general information.\n",
    "Check als [http://pyobjc.sourceforge.net/](http://pyobjc.sourceforge.net/) for a bridge between Python and Objective C, needed for example when building framework based software. "
   ]
  },
  {
   "cell_type": "markdown",
   "metadata": {},
   "source": [
    "## Glossary\n",
    "\n",
    "* **problem solving** The process of formulating a problem, finding a solution, and expressing the solution. \n",
    "* **high-level language** A programming language like Python that is designed to be easy for humans to read and write. \n",
    "* **low-level language** A programming language that is designed to be easy for a computer to execute; also called \"machine language\" or \"assembly language\" \n",
    "* **portability** A property of a program that can run on more than one kind of computer. \n",
    "* **interpret** To execute a program in a high-level language by translating it one line at a time. \n",
    "* **compile** To translate a program written in a high-level language into a low-level language all at once, in preparation for later execution. \n",
    "* **source code** A program in a high-level language before being compiled. \n",
    "* **object code** The output of the compiler after it translates the program. \n",
    "* **executable** Another name for ob ject code that is ready to be executed. \n",
    "* **prompt** Characters displayed by the interpreter to indicate that it is ready to take input from the user. \n",
    "* **script** A program stored in a file (usually one that will be interpreted).\n",
    "* **program** A set of instructions that specifies a computation. \n",
    "* **algorithm** A general process for solving a category of problems. \n",
    "* **bug** An error in a program. \n",
    "* **debugging** The process of finding and removing any of the three kinds of programming errors. \n",
    "* **syntax** The structure of a program. \n",
    "* **syntax error** An error in a program that makes it impossible to parse (and therefore impossible to interpret). \n",
    "* **exception** An error that is detected while the program is running. \n",
    "* **semantics** The meaning of a program. \n",
    "* **semantic error** An error in a program that makes it do something other than what the programmer intended. \n",
    "* **natural language** Any one of the languages that people speak that evolved naturally. \n",
    "* **formal language** Any one of the languages that people have designed for specific purposes, such as representing mathematical ideas or computer programs; all programming languages are formal languages. \n",
    "* **token** One of the basic elements of the syntactic structure of a program, analogous to a word in a natural language. \n",
    "* **parse** To examine a program and analyze the syntactic structure. \n",
    "* **print statement** An instruction that causes the Python interpreter to display a value on the screen.\n",
    "* **instance** A member of a set. \n",
    "* **loop** A part of a program that can execute repeatedly. \n",
    "* **encapsulation** The process of transforming a sequence of statements into a function definition. \n",
    "* **generalization** The process of replacing something unnecessarily specific (like a number) with something appropriately general (like a variable or parameter). \n",
    "* **interface** A description of how to use a function, including the name and descriptions of the arguments and return value. \n",
    "* **development plan** A process for writing programs. \n",
    "* **docstring** A string that appears in a function definition to document the function's interface. "
   ]
  },
  {
   "cell_type": "markdown",
   "metadata": {},
   "source": [
    "## History and Sources\n",
    "\n",
    "This document's history:\n",
    "\n",
    "1. 2007 : Original version by Michael A. Johnston\n",
    "2. 2008 : modifications and examples added by JVF\n",
    "3. 2010-2019: \\LaTeX2e\\ version and extensions by JVF\n",
    "4. 2020: it to Markup and GitHub\n",
    "5. 2023: moved to Python3; update of links\n",
    "\n",
    "Sources of information:\n",
    "\n",
    "* Bioinformatics with Python Cookbook, Second Edition [https://github.com/PacktPublishing/Bioinformatics-with-Python-Cookbook-Second-Edition](https://github.com/PacktPublishing/Bioinformatics-with-Python-Cookbook-Second-Edition)\n",
    "* Style guide for Python code [https://www.python.org/dev/peps/pep-0008/](https://www.python.org/dev/peps/pep-0008/)\n",
    "* Library: [https://docs.python.org/3/library/index.html](https://docs.python.org/3/library/index.html)\n",
    "* [http://www.thinkpython.com](http://www.thinkpython.com)\n",
    "* [http://docs.python.org/tutorial/introduction.html](http://docs.python.org/tutorial/introduction.html)\n",
    "* [http://code.google.com/edu/languages/google-python-class/](http://code.google.com/edu/languages/google-python-class/)\n",
    "* [As old as enlightnening Python tutorial from Guido van Rossum](http://max2.physics.sunysb.edu/itp/computing/doc/python/python-tut/tut.html)"
   ]
  }
 ],
 "metadata": {
  "kernelspec": {
   "display_name": "Python 3",
   "language": "python",
   "name": "python3"
  },
  "language_info": {
   "codemirror_mode": {
    "name": "ipython",
    "version": 3
   },
   "file_extension": ".py",
   "mimetype": "text/x-python",
   "name": "python",
   "nbconvert_exporter": "python",
   "pygments_lexer": "ipython3",
   "version": "3.11.4"
  }
 },
 "nbformat": 4,
 "nbformat_minor": 4
}