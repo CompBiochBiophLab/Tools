{
 "cells": [
  {
   "cell_type": "markdown",
   "metadata": {},
   "source": [
    "# Remove empty directories"
   ]
  },
  {
   "cell_type": "code",
   "execution_count": 1,
   "metadata": {},
   "outputs": [
    {
     "ename": "FileNotFoundError",
     "evalue": "[Errno 2] No such file or directory: '/Users/whoever/whatever'",
     "output_type": "error",
     "traceback": [
      "\u001b[0;31m---------------------------------------------------------------------------\u001b[0m",
      "\u001b[0;31mFileNotFoundError\u001b[0m                         Traceback (most recent call last)",
      "Cell \u001b[0;32mIn[1], line 29\u001b[0m\n\u001b[1;32m     27\u001b[0m \u001b[38;5;28;01mwhile\u001b[39;00m counter \u001b[38;5;241m==\u001b[39m \u001b[38;5;241m0\u001b[39m \u001b[38;5;129;01mor\u001b[39;00m first\u001b[38;5;241m==\u001b[39m\u001b[38;5;28;01mTrue\u001b[39;00m:\n\u001b[1;32m     28\u001b[0m     first\u001b[38;5;241m=\u001b[39m\u001b[38;5;28;01mFalse\u001b[39;00m\n\u001b[0;32m---> 29\u001b[0m     remove_empty_dirs(homepath,excludes)\n\u001b[1;32m     30\u001b[0m     \u001b[38;5;28mprint\u001b[39m(\u001b[38;5;124m\"\u001b[39m\u001b[38;5;132;01m%d\u001b[39;00m\u001b[38;5;124m directories have been removed\u001b[39m\u001b[38;5;124m\"\u001b[39m \u001b[38;5;241m%\u001b[39m counter)\n",
      "Cell \u001b[0;32mIn[1], line 6\u001b[0m, in \u001b[0;36mremove_empty_dirs\u001b[0;34m(path, excludes)\u001b[0m\n\u001b[1;32m      4\u001b[0m \u001b[38;5;250m    \u001b[39m\u001b[38;5;124;03m\"\"\"recursive function that checks all subdirs in a dir and removes them if empty\"\"\"\u001b[39;00m\n\u001b[1;32m      5\u001b[0m     \u001b[38;5;28;01mglobal\u001b[39;00m counter\n\u001b[0;32m----> 6\u001b[0m     contents\u001b[38;5;241m=\u001b[39mos\u001b[38;5;241m.\u001b[39mlistdir(path)\n\u001b[1;32m      7\u001b[0m \u001b[38;5;66;03m#    print contents\u001b[39;00m\n\u001b[1;32m      8\u001b[0m     \u001b[38;5;28;01mfor\u001b[39;00m element \u001b[38;5;129;01min\u001b[39;00m contents:\n",
      "\u001b[0;31mFileNotFoundError\u001b[0m: [Errno 2] No such file or directory: '/Users/whoever/whatever'"
     ]
    }
   ],
   "source": [
    "import os\n",
    "counter=1\n",
    "def remove_empty_dirs(path,excludes):\n",
    "    \"\"\"recursive function that checks all subdirs in a dir and removes them if empty\"\"\"\n",
    "    global counter\n",
    "    contents=os.listdir(path)\n",
    "#    print contents\n",
    "    for element in contents:\n",
    "        entity=path+\"/\"+element\n",
    "        if element not in excludes:\n",
    "            if os.path.isdir(entity):\n",
    "                try:\n",
    "                    os.rmdir(entity)\n",
    "                except:\n",
    "#                    print entity+\" does not appear to be empty. Let us look inside\"\n",
    "                    remove_empty_dirs(entity,excludes)\n",
    "                else:\n",
    "                    print(entity+\" has been successfully removed\")\n",
    "                    counter+=1\n",
    "        else:\n",
    "            print(entity + \" skipped\")\n",
    "    return\n",
    "\n",
    "excludes=[\".svn\",\"CVS\"]\n",
    "homepath=\"/Users/whoever/whatever\"\n",
    "first = True\n",
    "while counter == 0 or first==True:\n",
    "    first=False\n",
    "    remove_empty_dirs(homepath,excludes)\n",
    "    print(\"%d directories have been removed\" % counter)\n"
   ]
  },
  {
   "cell_type": "code",
   "execution_count": null,
   "metadata": {},
   "outputs": [],
   "source": []
  }
 ],
 "metadata": {
  "kernelspec": {
   "display_name": "Python 3",
   "language": "python",
   "name": "python3"
  },
  "language_info": {
   "codemirror_mode": {
    "name": "ipython",
    "version": 3
   },
   "file_extension": ".py",
   "mimetype": "text/x-python",
   "name": "python",
   "nbconvert_exporter": "python",
   "pygments_lexer": "ipython3",
   "version": "3.11.5"
  }
 },
 "nbformat": 4,
 "nbformat_minor": 4
}