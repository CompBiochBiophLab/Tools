{
 "cells": [
  {
   "cell_type": "markdown",
   "metadata": {},
   "source": [
    "<!-- vscode-markdown-toc -->\n",
    "\n",
    "<!-- vscode-markdown-toc-config\n",
    "\tnumbering=true\n",
    "\tautoSave=true\n",
    "\t/vscode-markdown-toc-config -->\n",
    "<!-- /vscode-markdown-toc -->\n",
    "\n",
    "This collection of cells include tools to retrieve and procvess sequences. \n",
    "\n",
    "They are all disconnected from each other, so do not try this sequentially\n",
    "\n",
    "[API mapping Uniprot](https://www.uniprot.org/help/api_idmapping)\n"
   ]
  },
  {
   "cell_type": "markdown",
   "metadata": {},
   "source": [
    "## General access to UNIPROT API"
   ]
  },
  {
   "cell_type": "code",
   "execution_count": 1,
   "metadata": {},
   "outputs": [
    {
     "name": "stdout",
     "output_type": "stream",
     "text": [
      "<!doctype html><html lang=\"en\"><head><meta charset=\"utf-8\"/><title>UniProt</title><meta name=\"viewport\" content=\"width=device-width,initial-scale=1\"/><meta name=\"theme-color\" content=\"#00639a\"/><link rel=\"preconnect\" href=\"https://rest.uniprot.org/\"/><link rel=\"preconnect\" href=\"https://fonts.googleapis.com\"/><link rel=\"preconnect\" href=\"https://fonts.gstatic.com\" crossorigin/><link href=\"https://fonts.googleapis.com/css?family=Lato:400,700|Source+Sans+Pro:600,700&display=optional\" rel=\"stylesheet\"/><link rel=\"apple-touch-icon\" sizes=\"180x180\" href=\"/apple-touch-icon.png\"/><link rel=\"shortcut icon\" type=\"image/png\" sizes=\"144x144\" href=\"/mstile-144x144.png\"/><link rel=\"icon\" type=\"image/png\" sizes=\"32x32\" href=\"/favicon-32x32.png\"/><link rel=\"icon\" type=\"image/png\" sizes=\"16x16\" href=\"/favicon-16x16.png\"/><link rel=\"manifest\" href=\"/manifest.json\"/><script async src=\"https://www.googletagmanager.com/gtag/js?id=G-V6TXEC4BDF\"></script><script>window.dataLayer = window.dataLayer || [];\n",
      "      function gtag() {\n",
      "        dataLayer.push(arguments);\n",
      "      }\n",
      "      gtag('js', new Date());\n",
      "\n",
      "      // GA4\n",
      "      gtag('config', 'G-V6TXEC4BDF', {\n",
      "        anonymize_ip: true,\n",
      "        allow_google_signals: false,\n",
      "        allow_ad_personalization_signals: false,\n",
      "        restricted_data_processing: true,\n",
      "        custom_map: {\n",
      "          dimension1: 'result_view',\n",
      "          metric1: 'result_view_set',\n",
      "        },\n",
      "        send_page_view: false,\n",
      "      });\n",
      "      // UA\n",
      "      gtag('config', 'UA-6228219-1', {\n",
      "        anonymize_ip: true,\n",
      "        allow_google_signals: false,\n",
      "        allow_ad_personalization_signals: false,\n",
      "        restricted_data_processing: true,\n",
      "        custom_map: {\n",
      "          dimension1: 'result_view',\n",
      "          metric1: 'result_view_set',\n",
      "        },\n",
      "        send_page_view: false,\n",
      "      });</script><script>(function (h, o, t, j, a, r) {\n",
      "        h.hj =\n",
      "          h.hj ||\n",
      "          function () {\n",
      "            (h.hj.q = h.hj.q || []).push(arguments);\n",
      "          };\n",
      "        h._hjSettings = { hjid: 2638207, hjsv: 6 };\n",
      "        a = o.getElementsByTagName('head')[0];\n",
      "        r = o.createElement('script');\n",
      "        r.async = 1;\n",
      "        r.src = t + h._hjSettings.hjid + j + h._hjSettings.hjsv;\n",
      "        a.appendChild(r);\n",
      "      })(window, document, 'https://static.hotjar.com/c/hotjar-', '.js?sv=');</script><style>#root > .fallback {\n",
      "        height: 90vh;\n",
      "        display: flex;\n",
      "        align-items: center;\n",
      "        justify-content: center;\n",
      "        opacity: 0;\n",
      "        animation: fallback-appear 1s 1 10s both;\n",
      "      }\n",
      "\n",
      "      #root > .fallback > div {\n",
      "        max-width: 60ch;\n",
      "      }\n",
      "\n",
      "      #root > .fallback li {\n",
      "        margin-bottom: 1em;\n",
      "      }\n",
      "\n",
      "      @keyframes fallback-appear {\n",
      "        from {\n",
      "          opacity: 0;\n",
      "        }\n",
      "        to {\n",
      "          opacity: 1;\n",
      "        }\n",
      "      }</style><link rel=\"stylesheet\" href=\"/styles.c84bc0.css\"/><link rel=\"stylesheet\" href=\"/styles.8d32c9.css\"/></head><body><div id=\"root\"><div class=\"fallback\" data-nosnippet><div><h1>UniProt website fallback message</h1>If you are not seeing anything on this page, it might be for multiple reasons:<ul><li><strong>You might have JavaScript disabled</strong>: make sure to enable JavaScript on your browser, or use a browser that supports JavaScript.</li><li><strong>You might have an outdated browser</strong>: make sure that your browser is up to date as older versions might not work with the website.</li><li><strong>There might have been a network issue</strong>: ensure that your connectivity is stable and try to reload the page to see if it solves the issue. <button onclick=\"location.reload();\">Reload this page</button></li></ul></div></div></div><script nomodule>// workaround for Safari 10.1 supporting module but ignoring nomodule\n",
      "      // From https://gist.github.com/samthor/64b114e4a4f539915a95b91ffd340acc\n",
      "      (function () {\n",
      "        var d = document;\n",
      "        var c = d.createElement('script');\n",
      "        if (!('noModule' in c) && 'onbeforeload' in c) {\n",
      "          var s = false;\n",
      "          d.addEventListener(\n",
      "            'beforeload',\n",
      "            function (e) {\n",
      "              if (e.target === c) {\n",
      "                s = true;\n",
      "              } else if (!e.target.hasAttribute('nomodule') || !s) {\n",
      "                return;\n",
      "              }\n",
      "              e.preventDefault();\n",
      "            },\n",
      "            true\n",
      "          );\n",
      "\n",
      "          c.type = 'module';\n",
      "          c.src = '.';\n",
      "          d.head.appendChild(c);\n",
      "          c.remove();\n",
      "        }\n",
      "      })();</script><script type=\"module\" src=\"/modern.app.c76315.js\"></script><script type=\"module\" src=\"/modern.app.9062d6.js\"></script><script type=\"module\" src=\"/modern.app.922f2d.js\"></script><script type=\"module\" src=\"/modern.app.4ebafc.js\"></script><script type=\"module\" src=\"/modern.app.09b27f.js\"></script><script nomodule defer=\"defer\" src=\"/legacy.app.e82cf9.js\"></script><script nomodule defer=\"defer\" src=\"/legacy.app.9062d6.js\"></script><script nomodule defer=\"defer\" src=\"/legacy.app.922f2d.js\"></script><script nomodule defer=\"defer\" src=\"/legacy.app.a37482.js\"></script><script nomodule defer=\"defer\" src=\"/legacy.app.ecbc24.js\"></script></body></html>\n"
     ]
    }
   ],
   "source": [
    "import urllib.parse\n",
    "import urllib.request\n",
    "\n",
    "url = 'https://www.uniprot.org/uploadlists/'\n",
    "\n",
    "params = {\n",
    "'from': 'GENENAME',\n",
    "#'to': 'ENSEMBL_ID',\n",
    "'to': 'ID',\n",
    "'format': 'tab',\n",
    "'query': 'CCNE1 SHvC CCNA2m CCNB1 CCNA2h GHvC CCND1 CCND3 CCNT1 CCNI'\n",
    "}\n",
    "\n",
    "data = urllib.parse.urlencode(params)\n",
    "data = data.encode('utf-8')\n",
    "req = urllib.request.Request(url, data)\n",
    "with urllib.request.urlopen(req) as f:\n",
    "   response = f.read()\n",
    "print(response.decode('utf-8'))"
   ]
  },
  {
   "attachments": {},
   "cell_type": "markdown",
   "metadata": {},
   "source": [
    "## Genearl use of Biopython to retrieve sequences"
   ]
  },
  {
   "cell_type": "code",
   "execution_count": 2,
   "metadata": {},
   "outputs": [
    {
     "ename": "ModuleNotFoundError",
     "evalue": "No module named 'Bio'",
     "output_type": "error",
     "traceback": [
      "\u001b[0;31m---------------------------------------------------------------------------\u001b[0m",
      "\u001b[0;31mModuleNotFoundError\u001b[0m                       Traceback (most recent call last)",
      "Cell \u001b[0;32mIn[2], line 3\u001b[0m\n\u001b[1;32m      1\u001b[0m \u001b[38;5;66;03m# simple script to retrieve a sequence of a protein from a given Uniprot ID\u001b[39;00m\n\u001b[0;32m----> 3\u001b[0m \u001b[38;5;28;01mfrom\u001b[39;00m \u001b[38;5;21;01mBio\u001b[39;00m \u001b[38;5;28;01mimport\u001b[39;00m SeqIO\n\u001b[1;32m      4\u001b[0m \u001b[38;5;28;01mfrom\u001b[39;00m \u001b[38;5;21;01mio\u001b[39;00m \u001b[38;5;28;01mimport\u001b[39;00m StringIO\n\u001b[1;32m      5\u001b[0m \u001b[38;5;28;01mimport\u001b[39;00m \u001b[38;5;21;01mrequests\u001b[39;00m\n",
      "\u001b[0;31mModuleNotFoundError\u001b[0m: No module named 'Bio'"
     ]
    }
   ],
   "source": [
    "# simple script to retrieve a sequence of a protein from a given Uniprot ID\n",
    "\n",
    "from Bio import SeqIO\n",
    "from io import StringIO\n",
    "import requests\n",
    "\n",
    "cID='Q14094'\n",
    "\n",
    "# retrieve info\n",
    "baseUrl=\"http://www.uniprot.org/uniprot/\"\n",
    "currentUrl=baseUrl+cID+\".fasta\"\n",
    "response = requests.post(currentUrl)\n",
    "cData=''.join(response.text)\n",
    "Seq=StringIO(cData)\n",
    "\n",
    "# print in FASTA format\n",
    "for record in SeqIO.parse(Seq, \"fasta\"):\n",
    "    print(\">\"+record.description)\n",
    "    print(record.seq)"
   ]
  },
  {
   "cell_type": "markdown",
   "metadata": {},
   "source": [
    "## Using ProDy to retrieve sequences and structures"
   ]
  },
  {
   "cell_type": "code",
   "execution_count": 3,
   "metadata": {},
   "outputs": [
    {
     "name": "stdout",
     "output_type": "stream",
     "text": [
      "Requirement already satisfied: scipy in /home/jordi/.conda/envs/openMM/lib/python3.9/site-packages (1.8.0)\n",
      "Requirement already satisfied: numpy<1.25.0,>=1.17.3 in /home/jordi/.conda/envs/openMM/lib/python3.9/site-packages (from scipy) (1.22.2)\n",
      "Collecting pyparsing\n",
      "  Downloading pyparsing-3.0.7-py3-none-any.whl (98 kB)\n",
      "\u001b[K     |████████████████████████████████| 98 kB 636 kB/s eta 0:00:011\n",
      "\u001b[?25hInstalling collected packages: pyparsing\n",
      "Successfully installed pyparsing-3.0.7\n"
     ]
    },
    {
     "ename": "AttributeError",
     "evalue": "module 'prody.atomic' has no attribute 'fields'",
     "output_type": "error",
     "traceback": [
      "\u001b[0;31m---------------------------------------------------------------------------\u001b[0m",
      "\u001b[0;31mAttributeError\u001b[0m                            Traceback (most recent call last)",
      "\u001b[1;32m/home/jordi/GitHub/Tools/sequenceTools/RetrieveSequence.ipynb Cell 7'\u001b[0m in \u001b[0;36m<module>\u001b[0;34m\u001b[0m\n\u001b[1;32m      <a href='vscode-notebook-cell:/home/jordi/GitHub/Tools/sequenceTools/RetrieveSequence.ipynb#ch0000006?line=0'>1</a>\u001b[0m get_ipython()\u001b[39m.\u001b[39msystem(\u001b[39m'\u001b[39m\u001b[39mpip install scipy\u001b[39m\u001b[39m'\u001b[39m)\n\u001b[1;32m      <a href='vscode-notebook-cell:/home/jordi/GitHub/Tools/sequenceTools/RetrieveSequence.ipynb#ch0000006?line=1'>2</a>\u001b[0m get_ipython()\u001b[39m.\u001b[39msystem(\u001b[39m'\u001b[39m\u001b[39mpip install pyparsing\u001b[39m\u001b[39m'\u001b[39m)\n\u001b[0;32m----> <a href='vscode-notebook-cell:/home/jordi/GitHub/Tools/sequenceTools/RetrieveSequence.ipynb#ch0000006?line=2'>3</a>\u001b[0m \u001b[39mfrom\u001b[39;00m \u001b[39mprody\u001b[39;00m \u001b[39mimport\u001b[39;00m \u001b[39m*\u001b[39m\n",
      "File \u001b[0;32m~/GitHub/ProDy/prody/__init__.py:82\u001b[0m, in \u001b[0;36m<module>\u001b[0;34m\u001b[0m\n\u001b[1;32m     <a href='file:///~/GitHub/ProDy/prody/__init__.py?line=78'>79</a>\u001b[0m __all__\u001b[39m.\u001b[39mappend(\u001b[39m'\u001b[39m\u001b[39mkdtree\u001b[39m\u001b[39m'\u001b[39m)\n\u001b[1;32m     <a href='file:///~/GitHub/ProDy/prody/__init__.py?line=80'>81</a>\u001b[0m \u001b[39mfrom\u001b[39;00m \u001b[39m.\u001b[39;00m \u001b[39mimport\u001b[39;00m atomic\n\u001b[0;32m---> <a href='file:///~/GitHub/ProDy/prody/__init__.py?line=81'>82</a>\u001b[0m \u001b[39mfrom\u001b[39;00m \u001b[39m.\u001b[39;00m\u001b[39matomic\u001b[39;00m \u001b[39mimport\u001b[39;00m \u001b[39m*\u001b[39m\n\u001b[1;32m     <a href='file:///~/GitHub/ProDy/prody/__init__.py?line=82'>83</a>\u001b[0m __all__\u001b[39m.\u001b[39mextend(atomic\u001b[39m.\u001b[39m__all__)\n\u001b[1;32m     <a href='file:///~/GitHub/ProDy/prody/__init__.py?line=83'>84</a>\u001b[0m __all__\u001b[39m.\u001b[39mappend(\u001b[39m'\u001b[39m\u001b[39matomic\u001b[39m\u001b[39m'\u001b[39m)\n",
      "\u001b[0;31mAttributeError\u001b[0m: module 'prody.atomic' has no attribute 'fields'"
     ]
    }
   ],
   "source": [
    "from prody import *"
   ]
  }
 ],
 "metadata": {
  "kernelspec": {
   "display_name": "openMM",
   "language": "python",
   "name": "python3"
  },
  "language_info": {
   "codemirror_mode": {
    "name": "ipython",
    "version": 3
   },
   "file_extension": ".py",
   "mimetype": "text/x-python",
   "name": "python",
   "nbconvert_exporter": "python",
   "pygments_lexer": "ipython3",
   "version": "3.11.4"
  },
  "vscode": {
   "interpreter": {
    "hash": "7c1c7ef82fe2c864a9b6aa67c1218b0b1c227ad5241094d42b3d5b29007a382f"
   }
  }
 },
 "nbformat": 4,
 "nbformat_minor": 4
}