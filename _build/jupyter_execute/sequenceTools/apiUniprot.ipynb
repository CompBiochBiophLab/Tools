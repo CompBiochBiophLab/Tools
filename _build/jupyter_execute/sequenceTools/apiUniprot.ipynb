{
 "cells": [
  {
   "cell_type": "code",
   "execution_count": 1,
   "metadata": {},
   "outputs": [],
   "source": [
    "# Getting the protein sequence of a UNIPROT code"
   ]
  },
  {
   "cell_type": "code",
   "execution_count": 29,
   "metadata": {},
   "outputs": [],
   "source": [
    "import requests, sys, json, urllib\n",
    "\n",
    "WEBSITE_API = 'https://www.uniprot.org'\n",
    "PROTEINS_API = 'https://www.ebi.ac.uk/proteins/api'\n"
   ]
  },
  {
   "cell_type": "code",
   "execution_count": 2,
   "metadata": {},
   "outputs": [
    {
     "name": "stdout",
     "output_type": "stream",
     "text": [
      "https://www.uniprot.org/uniprot/?query=id%3AP40925+OR+id%3AP40926&format=fasta\n"
     ]
    },
    {
     "ename": "NameError",
     "evalue": "name 'urllib' is not defined",
     "output_type": "error",
     "traceback": [
      "\u001b[0;31m---------------------------------------------------------------------------\u001b[0m",
      "\u001b[0;31mNameError\u001b[0m                                 Traceback (most recent call last)",
      "Cell \u001b[0;32mIn[2], line 22\u001b[0m\n\u001b[1;32m     19\u001b[0m     \u001b[39mreturn\u001b[39;00m fasta\n\u001b[1;32m     21\u001b[0m uniprot_list \u001b[39m=\u001b[39m [\u001b[39m'\u001b[39m\u001b[39mP40925\u001b[39m\u001b[39m'\u001b[39m, \u001b[39m'\u001b[39m\u001b[39mP40926\u001b[39m\u001b[39m'\u001b[39m]\n\u001b[0;32m---> 22\u001b[0m \u001b[39mprint\u001b[39m(get_protein_sequences(uniprot_list))\n",
      "Cell \u001b[0;32mIn[2], line 17\u001b[0m, in \u001b[0;36mget_protein_sequences\u001b[0;34m(uniprot_list)\u001b[0m\n\u001b[1;32m     15\u001b[0m url \u001b[39m=\u001b[39m \u001b[39mf\u001b[39m\u001b[39m'\u001b[39m\u001b[39mhttps://www.uniprot.org/uniprot/?query=\u001b[39m\u001b[39m{\u001b[39;00mline\u001b[39m}\u001b[39;00m\u001b[39m&format=fasta\u001b[39m\u001b[39m'\u001b[39m\n\u001b[1;32m     16\u001b[0m \u001b[39mprint\u001b[39m(url)\n\u001b[0;32m---> 17\u001b[0m \u001b[39mwith\u001b[39;00m urllib\u001b[39m.\u001b[39mrequest\u001b[39m.\u001b[39murlopen(url) \u001b[39mas\u001b[39;00m f:\n\u001b[1;32m     18\u001b[0m     fasta \u001b[39m=\u001b[39m f\u001b[39m.\u001b[39mread()\u001b[39m.\u001b[39mdecode(\u001b[39m'\u001b[39m\u001b[39mutf-8\u001b[39m\u001b[39m'\u001b[39m)\u001b[39m.\u001b[39mstrip()\n\u001b[1;32m     19\u001b[0m \u001b[39mreturn\u001b[39;00m fasta\n",
      "\u001b[0;31mNameError\u001b[0m: name 'urllib' is not defined"
     ]
    }
   ],
   "source": [
    "def get_protein_sequences(uniprot_list):\n",
    "    \"\"\"Retrieves the sequences from the UniProt database based on the list of\n",
    "    UniProt ids.\n",
    "    In general, \n",
    "        1. Compose your query here with the advanced search tool:\n",
    "    https://www.uniprot.org/uniprot/?query=id%3Ap40925+OR+id%3Ap40926+OR+id%3Ao43175&sort=score\n",
    "        2. Replace `&sort=score` with `&format=fasta`\n",
    "        3. Edit this function as necessary\n",
    "    Returns:\n",
    "        protein_dict (dict): the updated dictionary\n",
    "    \"\"\"\n",
    "    # This makes it so we match only the ENTRY field\n",
    "    uniprot_list = ['id%3A'+id for id in uniprot_list]\n",
    "    line = '+OR+'.join(uniprot_list)\n",
    "    url = f'https://www.uniprot.org/uniprot/?query={line}&format=fasta'\n",
    "    print(url)\n",
    "    with urllib.request.urlopen(url) as f:\n",
    "        fasta = f.read().decode('utf-8').strip()\n",
    "    return fasta\n",
    "    \n",
    "uniprot_list = ['P40925', 'P40926']\n",
    "print(get_protein_sequences(uniprot_list))"
   ]
  },
  {
   "cell_type": "markdown",
   "metadata": {},
   "source": [
    "Search the uniprot database"
   ]
  },
  {
   "cell_type": "code",
   "execution_count": 31,
   "metadata": {},
   "outputs": [
    {
     "name": "stdout",
     "output_type": "stream",
     "text": [
      "<Response [200]>\n",
      "<class 'NoneType'>\n"
     ]
    },
    {
     "ename": "AttributeError",
     "evalue": "'NoneType' object has no attribute 'json'",
     "output_type": "error",
     "traceback": [
      "\u001b[0;31m---------------------------------------------------------------------------\u001b[0m",
      "\u001b[0;31mAttributeError\u001b[0m                            Traceback (most recent call last)",
      "\u001b[1;32m/Users/556079/GitHub/Tools/genomeTools/apiUniprot.ipynb Cell 4'\u001b[0m in \u001b[0;36m<cell line: 5>\u001b[0;34m()\u001b[0m\n\u001b[1;32m      <a href='vscode-notebook-cell:/Users/556079/GitHub/Tools/genomeTools/apiUniprot.ipynb#ch0000003?line=1'>2</a>\u001b[0m r \u001b[39m=\u001b[39m get_url(url)\n\u001b[1;32m      <a href='vscode-notebook-cell:/Users/556079/GitHub/Tools/genomeTools/apiUniprot.ipynb#ch0000003?line=3'>4</a>\u001b[0m \u001b[39mprint\u001b[39m(\u001b[39mtype\u001b[39m(r))\n\u001b[0;32m----> <a href='vscode-notebook-cell:/Users/556079/GitHub/Tools/genomeTools/apiUniprot.ipynb#ch0000003?line=4'>5</a>\u001b[0m data \u001b[39m=\u001b[39m r\u001b[39m.\u001b[39;49mjson()\n\u001b[1;32m      <a href='vscode-notebook-cell:/Users/556079/GitHub/Tools/genomeTools/apiUniprot.ipynb#ch0000003?line=6'>7</a>\u001b[0m n_results \u001b[39m=\u001b[39m \u001b[39mlen\u001b[39m(data[\u001b[39m\"\u001b[39m\u001b[39mresults\u001b[39m\u001b[39m\"\u001b[39m])\n\u001b[1;32m      <a href='vscode-notebook-cell:/Users/556079/GitHub/Tools/genomeTools/apiUniprot.ipynb#ch0000003?line=7'>8</a>\u001b[0m \u001b[39mprint\u001b[39m(\u001b[39mf\u001b[39m\u001b[39m'\u001b[39m\u001b[39mNumber of results: (n_results)\u001b[39m\u001b[39m\\n\u001b[39;00m\u001b[39m'\u001b[39m)\n",
      "\u001b[0;31mAttributeError\u001b[0m: 'NoneType' object has no attribute 'json'"
     ]
    }
   ],
   "source": [
    "url = f\"{WEBSITE_API}/uniprot/?query=GPX3\"\n",
    "r = get_url(url)\n",
    "\n",
    "print(type(r))\n",
    "data = r.json()\n",
    "\n",
    "n_results = len(data[\"results\"])\n",
    "print(f'Number of results: (n_results)\\n')\n",
    "\n",
    "for (key, value) in r.headers.items():\n",
    "    print(f'{key}: {value}')"
   ]
  }
 ],
 "metadata": {
  "interpreter": {
   "hash": "3092eb76212a397e08400f30a06080d565cbb198465bf3cec279629c0154c2e9"
  },
  "kernelspec": {
   "display_name": "Python 3.10.0 ('omics')",
   "language": "python",
   "name": "python3"
  },
  "language_info": {
   "codemirror_mode": {
    "name": "ipython",
    "version": 3
   },
   "file_extension": ".py",
   "mimetype": "text/x-python",
   "name": "python",
   "nbconvert_exporter": "python",
   "pygments_lexer": "ipython3",
   "version": "3.10.11"
  }
 },
 "nbformat": 4,
 "nbformat_minor": 2
}