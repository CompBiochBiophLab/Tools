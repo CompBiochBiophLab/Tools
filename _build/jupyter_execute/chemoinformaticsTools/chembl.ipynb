{
 "cells": [
  {
   "attachments": {},
   "cell_type": "markdown",
   "metadata": {},
   "source": [
    "# Retrieving data from Chembl\n",
    "\n",
    "Adapted from https://www.researchgate.net/publication/304802966_Want_Drugs_Use_Python "
   ]
  },
  {
   "cell_type": "code",
   "execution_count": 1,
   "metadata": {},
   "outputs": [
    {
     "ename": "ModuleNotFoundError",
     "evalue": "No module named 'chembl_webresource_client'",
     "output_type": "error",
     "traceback": [
      "\u001b[0;31m---------------------------------------------------------------------------\u001b[0m",
      "\u001b[0;31mModuleNotFoundError\u001b[0m                       Traceback (most recent call last)",
      "Cell \u001b[0;32mIn[1], line 1\u001b[0m\n\u001b[0;32m----> 1\u001b[0m \u001b[38;5;28;01mfrom\u001b[39;00m \u001b[38;5;21;01mchembl_webresource_client\u001b[39;00m\u001b[38;5;21;01m.\u001b[39;00m\u001b[38;5;21;01mnew_client\u001b[39;00m \u001b[38;5;28;01mimport\u001b[39;00m new_client\n\u001b[1;32m      3\u001b[0m \u001b[38;5;66;03m# Receptor protein-tyrosyne kinase erbB-2\u001b[39;00m\n\u001b[1;32m      5\u001b[0m chembl_id \u001b[38;5;241m=\u001b[39m \u001b[38;5;124m\"\u001b[39m\u001b[38;5;124mCHEMBL1824\u001b[39m\u001b[38;5;124m\"\u001b[39m\n",
      "\u001b[0;31mModuleNotFoundError\u001b[0m: No module named 'chembl_webresource_client'"
     ]
    }
   ],
   "source": [
    "\n",
    "from chembl_webresource_client.new_client import new_client\n",
    "\n",
    "# Receptor protein-tyrosyne kinase erbB-2\n",
    "\n",
    "chembl_id = \"CHEMBL1824\"\n",
    "\n",
    "\n",
    "activities = new_client.mechanism.filter(target_chembl_id=chembl_id)\n",
    "compounds_ids = [x[\"molecule_chembl_id\"] for x in activities]\n",
    "approved_drugs = new_client.molecule.filter(molecule_chembl_id_in=compounds_ids).filter(max_phase=4)"
   ]
  },
  {
   "cell_type": "code",
   "execution_count": 2,
   "metadata": {},
   "outputs": [
    {
     "ename": "NameError",
     "evalue": "name 'approved_drugs' is not defined",
     "output_type": "error",
     "traceback": [
      "\u001b[0;31m---------------------------------------------------------------------------\u001b[0m",
      "\u001b[0;31mNameError\u001b[0m                                 Traceback (most recent call last)",
      "Cell \u001b[0;32mIn[2], line 2\u001b[0m\n\u001b[1;32m      1\u001b[0m \u001b[38;5;28;01mimport\u001b[39;00m \u001b[38;5;21;01mpandas\u001b[39;00m \u001b[38;5;28;01mas\u001b[39;00m \u001b[38;5;21;01mpd\u001b[39;00m\n\u001b[0;32m----> 2\u001b[0m \u001b[38;5;28mprint\u001b[39m(\u001b[38;5;28mtype\u001b[39m(approved_drugs))\n\u001b[1;32m      3\u001b[0m df \u001b[38;5;241m=\u001b[39m pd\u001b[38;5;241m.\u001b[39mDataFrame(approved_drugs)\n",
      "\u001b[0;31mNameError\u001b[0m: name 'approved_drugs' is not defined"
     ]
    }
   ],
   "source": [
    "import pandas as pd\n",
    "print(type(approved_drugs))\n",
    "df = pd.DataFrame(approved_drugs)"
   ]
  },
  {
   "cell_type": "code",
   "execution_count": 3,
   "metadata": {},
   "outputs": [
    {
     "ename": "ModuleNotFoundError",
     "evalue": "No module named 'chembl_webresource_client'",
     "output_type": "error",
     "traceback": [
      "\u001b[0;31m---------------------------------------------------------------------------\u001b[0m",
      "\u001b[0;31mModuleNotFoundError\u001b[0m                       Traceback (most recent call last)",
      "Cell \u001b[0;32mIn[3], line 1\u001b[0m\n\u001b[0;32m----> 1\u001b[0m \u001b[38;5;28;01mfrom\u001b[39;00m \u001b[38;5;21;01mchembl_webresource_client\u001b[39;00m\u001b[38;5;21;01m.\u001b[39;00m\u001b[38;5;21;01mnew_client\u001b[39;00m \u001b[38;5;28;01mimport\u001b[39;00m new_client\n\u001b[1;32m      3\u001b[0m \u001b[38;5;66;03m# Cerca d'inhibidors de \"cysteine protease\" a partir de la base de dades ChEMBL\u001b[39;00m\n\u001b[1;32m      4\u001b[0m target \u001b[38;5;241m=\u001b[39m new_client\u001b[38;5;241m.\u001b[39mtarget\n",
      "\u001b[0;31mModuleNotFoundError\u001b[0m: No module named 'chembl_webresource_client'"
     ]
    }
   ],
   "source": [
    "from chembl_webresource_client.new_client import new_client\n",
    "\n",
    "# Cerca d'inhibidors de \"cysteine protease\" a partir de la base de dades ChEMBL\n",
    "target = new_client.target\n",
    "query = target.search('cysteine')\n",
    "targets = target.filter(target_synonym__icontains='inhibitor')\n",
    "for target in targets:\n",
    "    print(target.keys())\n",
    "    print(target['cross_references'])\n",
    "    activities = target['cross_references']\n",
    "    for act in activities:\n",
    "        print(act.keys())\n",
    "        print(act)\n"
   ]
  }
 ],
 "metadata": {
  "kernelspec": {
   "display_name": "chemoinfo",
   "language": "python",
   "name": "python3"
  },
  "language_info": {
   "codemirror_mode": {
    "name": "ipython",
    "version": 3
   },
   "file_extension": ".py",
   "mimetype": "text/x-python",
   "name": "python",
   "nbconvert_exporter": "python",
   "pygments_lexer": "ipython3",
   "version": "3.11.5"
  },
  "vscode": {
   "interpreter": {
    "hash": "01651914d263bf9e787c6ee6a9a624658fa221488028fb9c235cc274617de01e"
   }
  }
 },
 "nbformat": 4,
 "nbformat_minor": 2
}