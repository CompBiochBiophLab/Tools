{
 "cells": [
  {
   "attachments": {},
   "cell_type": "markdown",
   "metadata": {},
   "source": [
    "Small script to obtain the gene name of an ENSEMBL ID"
   ]
  },
  {
   "cell_type": "code",
   "execution_count": 1,
   "metadata": {},
   "outputs": [
    {
     "name": "stdout",
     "output_type": "stream",
     "text": [
      "{\"version\":6,\"start\":100584936,\"seq_region_name\":\"X\",\"object_type\":\"Gene\",\"source\":\"ensembl_havana\",\"Transcript\":[{\"biotype\":\"protein_coding\",\"strand\":1,\"species\":\"homo_sapiens\",\"db_type\":\"core\",\"id\":\"ENST00000373031\",\"display_name\":\"TNMD-201\",\"Parent\":\"ENSG00000000005\",\"logic_name\":\"ensembl_havana_transcript_homo_sapiens\",\"is_canonical\":1,\"end\":100599885,\"Translation\":{\"end\":100599717,\"Parent\":\"ENST00000373031\",\"id\":\"ENSP00000362122\",\"start\":100585019,\"db_type\":\"core\",\"version\":4,\"species\":\"homo_sapiens\",\"object_type\":\"Translation\",\"length\":317},\"object_type\":\"Transcript\",\"source\":\"ensembl_havana\",\"version\":5,\"start\":100584936,\"seq_region_name\":\"X\",\"Exon\":[{\"end\":100585066,\"assembly_name\":\"GRCh38\",\"strand\":1,\"object_type\":\"Exon\",\"species\":\"homo_sapiens\",\"db_type\":\"core\",\"version\":5,\"id\":\"ENSE00001459371\",\"start\":100584936,\"seq_region_name\":\"X\"},{\"assembly_name\":\"GRCh38\",\"end\":100585362,\"strand\":1,\"object_type\":\"Exon\",\"species\":\"homo_sapiens\",\"version\":1,\"db_type\":\"core\",\"seq_region_name\":\"X\",\"start\":100585231,\"id\":\"ENSE00000401061\"},{\"assembly_name\":\"GRCh38\",\"end\":100594035,\"species\":\"homo_sapiens\",\"object_type\":\"Exon\",\"strand\":1,\"seq_region_name\":\"X\",\"start\":100593895,\"id\":\"ENSE00000673400\",\"db_type\":\"core\",\"version\":1},{\"assembly_name\":\"GRCh38\",\"end\":100594362,\"object_type\":\"Exon\",\"species\":\"homo_sapiens\",\"strand\":1,\"start\":100594261,\"seq_region_name\":\"X\",\"id\":\"ENSE00003504197\",\"version\":1,\"db_type\":\"core\"},{\"end\":100597657,\"assembly_name\":\"GRCh38\",\"object_type\":\"Exon\",\"species\":\"homo_sapiens\",\"strand\":1,\"db_type\":\"core\",\"version\":1,\"seq_region_name\":\"X\",\"id\":\"ENSE00000673403\",\"start\":100597504},{\"assembly_name\":\"GRCh38\",\"end\":100599182,\"strand\":1,\"species\":\"homo_sapiens\",\"object_type\":\"Exon\",\"version\":1,\"db_type\":\"core\",\"start\":100599016,\"seq_region_name\":\"X\",\"id\":\"ENSE00000868865\"},{\"id\":\"ENSE00001459358\",\"seq_region_name\":\"X\",\"start\":100599508,\"db_type\":\"core\",\"version\":4,\"species\":\"homo_sapiens\",\"object_type\":\"Exon\",\"strand\":1,\"assembly_name\":\"GRCh38\",\"end\":100599885}],\"assembly_name\":\"GRCh38\"},{\"Exon\":[{\"assembly_name\":\"GRCh38\",\"end\":100594035,\"species\":\"homo_sapiens\",\"object_type\":\"Exon\",\"strand\":1,\"seq_region_name\":\"X\",\"id\":\"ENSE00001952391\",\"start\":100593624,\"db_type\":\"core\",\"version\":1},{\"assembly_name\":\"GRCh38\",\"end\":100594362,\"object_type\":\"Exon\",\"species\":\"homo_sapiens\",\"strand\":1,\"db_type\":\"core\",\"version\":1,\"seq_region_name\":\"X\",\"start\":100594261,\"id\":\"ENSE00003639486\"},{\"start\":100597504,\"id\":\"ENSE00001881546\",\"seq_region_name\":\"X\",\"version\":1,\"db_type\":\"core\",\"strand\":1,\"species\":\"homo_sapiens\",\"object_type\":\"Exon\",\"end\":100597531,\"assembly_name\":\"GRCh38\"}],\"assembly_name\":\"GRCh38\",\"object_type\":\"Transcript\",\"source\":\"havana\",\"version\":1,\"start\":100593624,\"seq_region_name\":\"X\",\"Parent\":\"ENSG00000000005\",\"display_name\":\"TNMD-202\",\"is_canonical\":0,\"logic_name\":\"havana_homo_sapiens\",\"end\":100597531,\"species\":\"homo_sapiens\",\"strand\":1,\"biotype\":\"protein_coding_CDS_not_defined\",\"db_type\":\"core\",\"id\":\"ENST00000485971\"}],\"canonical_transcript\":\"ENST00000373031.5\",\"assembly_name\":\"GRCh38\",\"db_type\":\"core\",\"id\":\"ENSG00000000005\",\"species\":\"homo_sapiens\",\"biotype\":\"protein_coding\",\"strand\":1,\"end\":100599885,\"description\":\"tenomodulin [Source:HGNC Symbol;Acc:HGNC:17757]\",\"display_name\":\"TNMD\",\"logic_name\":\"ensembl_havana_gene_homo_sapiens\"}\n",
      "Gene name for Ensembl ENSG00000000005: TNMD\n"
     ]
    }
   ],
   "source": [
    "import requests\n",
    "import json\n",
    "\n",
    "def get_gene_name_from_ensembl_code(ensembl_code):\n",
    "    # Ensembl REST API URL to get gene info from Ensembl code\n",
    "    url = f\"https://rest.ensembl.org/lookup/id/{ensembl_code}?expand=1\"\n",
    "\n",
    "    # Send a GET request to Ensembl REST API and obtain a json file\n",
    "    response = requests.get(url, headers={\"Content-Type\": \"application/json\"})\n",
    "    print(response.text)  \n",
    "\n",
    "    # Check if the request is successful and process the response\n",
    "    if response.status_code == 200:\n",
    "        data = json.loads(response.text)\n",
    "        if \"display_name\" in data:    # this can be adapted to display any other information in the json file\n",
    "            gene_name = data[\"display_name\"]  \n",
    "            return gene_name\n",
    "\n",
    "    return None\n",
    "\n",
    "# Example of use for a single gene (looping thorough a list of IDs is trivial)\n",
    "ensembl_code = 'ENSG00000000005'\n",
    "gene_name = get_gene_name_from_ensembl_code(ensembl_code)\n",
    "\n",
    "if gene_name:\n",
    "    print(f\"Gene name for Ensembl {ensembl_code}: {gene_name}\")\n",
    "else:\n",
    "    print(f\"No gene name found for Ensembl {ensembl_code}\")\n"
   ]
  }
 ],
 "metadata": {
  "kernelspec": {
   "display_name": "RNATools",
   "language": "python",
   "name": "python3"
  },
  "language_info": {
   "codemirror_mode": {
    "name": "ipython",
    "version": 3
   },
   "file_extension": ".py",
   "mimetype": "text/x-python",
   "name": "python",
   "nbconvert_exporter": "python",
   "pygments_lexer": "ipython3",
   "version": "3.11.3"
  },
  "orig_nbformat": 4
 },
 "nbformat": 4,
 "nbformat_minor": 2
}
