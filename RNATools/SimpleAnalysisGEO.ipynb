{
 "cells": [
  {
   "cell_type": "code",
   "execution_count": 1,
   "metadata": {},
   "outputs": [
    {
     "name": "stderr",
     "output_type": "stream",
     "text": [
      "22-May-2023 05:42:06 INFO GEOparse - File already exist: using local version.\n",
      "22-May-2023 05:42:06 INFO GEOparse - Parsing dataDownload/GSE160306_family.soft.gz: \n",
      "22-May-2023 05:42:06 DEBUG GEOparse - DATABASE: GeoMiame\n",
      "22-May-2023 05:42:06 DEBUG GEOparse - SERIES: GSE160306\n",
      "22-May-2023 05:42:06 DEBUG GEOparse - PLATFORM: GPL20301\n",
      "22-May-2023 05:42:06 DEBUG GEOparse - SAMPLE: GSM4871112\n",
      "22-May-2023 05:42:06 DEBUG GEOparse - SAMPLE: GSM4871113\n",
      "22-May-2023 05:42:06 DEBUG GEOparse - SAMPLE: GSM4871114\n",
      "22-May-2023 05:42:06 DEBUG GEOparse - SAMPLE: GSM4871115\n",
      "22-May-2023 05:42:06 DEBUG GEOparse - SAMPLE: GSM4871116\n",
      "22-May-2023 05:42:06 DEBUG GEOparse - SAMPLE: GSM4871117\n",
      "22-May-2023 05:42:06 DEBUG GEOparse - SAMPLE: GSM4871118\n",
      "22-May-2023 05:42:06 DEBUG GEOparse - SAMPLE: GSM4871119\n",
      "22-May-2023 05:42:06 DEBUG GEOparse - SAMPLE: GSM4871120\n",
      "22-May-2023 05:42:06 DEBUG GEOparse - SAMPLE: GSM4871121\n",
      "22-May-2023 05:42:06 DEBUG GEOparse - SAMPLE: GSM4871122\n",
      "22-May-2023 05:42:06 DEBUG GEOparse - SAMPLE: GSM4871123\n",
      "22-May-2023 05:42:06 DEBUG GEOparse - SAMPLE: GSM4871124\n",
      "22-May-2023 05:42:06 DEBUG GEOparse - SAMPLE: GSM4871125\n",
      "22-May-2023 05:42:06 DEBUG GEOparse - SAMPLE: GSM4871126\n",
      "22-May-2023 05:42:06 DEBUG GEOparse - SAMPLE: GSM4871127\n",
      "22-May-2023 05:42:06 DEBUG GEOparse - SAMPLE: GSM4871128\n",
      "22-May-2023 05:42:06 DEBUG GEOparse - SAMPLE: GSM4871129\n",
      "22-May-2023 05:42:06 DEBUG GEOparse - SAMPLE: GSM4871130\n",
      "22-May-2023 05:42:06 DEBUG GEOparse - SAMPLE: GSM4871131\n",
      "22-May-2023 05:42:06 DEBUG GEOparse - SAMPLE: GSM4871132\n",
      "22-May-2023 05:42:06 DEBUG GEOparse - SAMPLE: GSM4871133\n",
      "22-May-2023 05:42:06 DEBUG GEOparse - SAMPLE: GSM4871134\n",
      "22-May-2023 05:42:06 DEBUG GEOparse - SAMPLE: GSM4871135\n",
      "22-May-2023 05:42:06 DEBUG GEOparse - SAMPLE: GSM4871136\n",
      "22-May-2023 05:42:06 DEBUG GEOparse - SAMPLE: GSM4871137\n",
      "22-May-2023 05:42:06 DEBUG GEOparse - SAMPLE: GSM4871138\n",
      "22-May-2023 05:42:06 DEBUG GEOparse - SAMPLE: GSM4871139\n",
      "22-May-2023 05:42:06 DEBUG GEOparse - SAMPLE: GSM4871140\n",
      "22-May-2023 05:42:06 DEBUG GEOparse - SAMPLE: GSM4871141\n",
      "22-May-2023 05:42:06 DEBUG GEOparse - SAMPLE: GSM4871142\n",
      "22-May-2023 05:42:06 DEBUG GEOparse - SAMPLE: GSM4871143\n",
      "22-May-2023 05:42:06 DEBUG GEOparse - SAMPLE: GSM4871144\n",
      "22-May-2023 05:42:06 DEBUG GEOparse - SAMPLE: GSM4871145\n",
      "22-May-2023 05:42:06 DEBUG GEOparse - SAMPLE: GSM4871146\n",
      "22-May-2023 05:42:06 DEBUG GEOparse - SAMPLE: GSM4871147\n",
      "22-May-2023 05:42:06 DEBUG GEOparse - SAMPLE: GSM4871148\n",
      "22-May-2023 05:42:06 DEBUG GEOparse - SAMPLE: GSM4871149\n",
      "22-May-2023 05:42:06 DEBUG GEOparse - SAMPLE: GSM4871150\n",
      "22-May-2023 05:42:06 DEBUG GEOparse - SAMPLE: GSM4871151\n",
      "22-May-2023 05:42:06 DEBUG GEOparse - SAMPLE: GSM4871152\n",
      "22-May-2023 05:42:06 DEBUG GEOparse - SAMPLE: GSM4871153\n",
      "22-May-2023 05:42:06 DEBUG GEOparse - SAMPLE: GSM4871154\n",
      "22-May-2023 05:42:06 DEBUG GEOparse - SAMPLE: GSM4871155\n",
      "22-May-2023 05:42:06 DEBUG GEOparse - SAMPLE: GSM4871156\n",
      "22-May-2023 05:42:06 DEBUG GEOparse - SAMPLE: GSM4871157\n",
      "22-May-2023 05:42:06 DEBUG GEOparse - SAMPLE: GSM4871158\n",
      "22-May-2023 05:42:06 DEBUG GEOparse - SAMPLE: GSM4871159\n",
      "22-May-2023 05:42:06 DEBUG GEOparse - SAMPLE: GSM4871160\n",
      "22-May-2023 05:42:06 DEBUG GEOparse - SAMPLE: GSM4871161\n",
      "22-May-2023 05:42:06 DEBUG GEOparse - SAMPLE: GSM4871162\n",
      "22-May-2023 05:42:06 DEBUG GEOparse - SAMPLE: GSM4871163\n",
      "22-May-2023 05:42:06 DEBUG GEOparse - SAMPLE: GSM4871164\n",
      "22-May-2023 05:42:06 DEBUG GEOparse - SAMPLE: GSM4871165\n",
      "22-May-2023 05:42:06 DEBUG GEOparse - SAMPLE: GSM4871166\n",
      "22-May-2023 05:42:06 DEBUG GEOparse - SAMPLE: GSM4871167\n",
      "22-May-2023 05:42:06 DEBUG GEOparse - SAMPLE: GSM4871168\n",
      "22-May-2023 05:42:06 DEBUG GEOparse - SAMPLE: GSM4871169\n",
      "22-May-2023 05:42:06 DEBUG GEOparse - SAMPLE: GSM4871170\n",
      "22-May-2023 05:42:06 DEBUG GEOparse - SAMPLE: GSM4871171\n",
      "22-May-2023 05:42:06 DEBUG GEOparse - SAMPLE: GSM4871172\n",
      "22-May-2023 05:42:06 DEBUG GEOparse - SAMPLE: GSM4871173\n",
      "22-May-2023 05:42:06 DEBUG GEOparse - SAMPLE: GSM4871174\n",
      "22-May-2023 05:42:06 DEBUG GEOparse - SAMPLE: GSM4871175\n",
      "22-May-2023 05:42:06 DEBUG GEOparse - SAMPLE: GSM4871176\n",
      "22-May-2023 05:42:06 DEBUG GEOparse - SAMPLE: GSM4871177\n",
      "22-May-2023 05:42:06 DEBUG GEOparse - SAMPLE: GSM4871178\n",
      "22-May-2023 05:42:06 DEBUG GEOparse - SAMPLE: GSM4871179\n",
      "22-May-2023 05:42:06 DEBUG GEOparse - SAMPLE: GSM4871180\n",
      "22-May-2023 05:42:06 DEBUG GEOparse - SAMPLE: GSM4871181\n",
      "22-May-2023 05:42:06 DEBUG GEOparse - SAMPLE: GSM4871182\n",
      "22-May-2023 05:42:06 DEBUG GEOparse - SAMPLE: GSM4871183\n",
      "22-May-2023 05:42:06 DEBUG GEOparse - SAMPLE: GSM4871184\n",
      "22-May-2023 05:42:06 DEBUG GEOparse - SAMPLE: GSM4871185\n",
      "22-May-2023 05:42:06 DEBUG GEOparse - SAMPLE: GSM4871186\n",
      "22-May-2023 05:42:06 DEBUG GEOparse - SAMPLE: GSM4871187\n",
      "22-May-2023 05:42:06 DEBUG GEOparse - SAMPLE: GSM4871188\n",
      "22-May-2023 05:42:06 DEBUG GEOparse - SAMPLE: GSM4871189\n",
      "22-May-2023 05:42:06 DEBUG GEOparse - SAMPLE: GSM4871190\n"
     ]
    }
   ],
   "source": [
    "import GEOparse\n",
    "import pandas as pd\n",
    "\n",
    "gse = GEOparse.get_GEO(geo=\"GSE160306\", destdir=\"dataDownload\")\n"
   ]
  },
  {
   "cell_type": "code",
   "execution_count": 2,
   "metadata": {},
   "outputs": [
    {
     "name": "stdout",
     "output_type": "stream",
     "text": [
      "GPL check:\n"
     ]
    },
    {
     "ename": "NameError",
     "evalue": "name 'geo' is not defined",
     "output_type": "error",
     "traceback": [
      "\u001b[0;31m---------------------------------------------------------------------------\u001b[0m",
      "\u001b[0;31mNameError\u001b[0m                                 Traceback (most recent call last)",
      "Cell \u001b[0;32mIn[2], line 2\u001b[0m\n\u001b[1;32m      1\u001b[0m \u001b[38;5;28mprint\u001b[39m(\u001b[38;5;124m\"\u001b[39m\u001b[38;5;124mGPL check:\u001b[39m\u001b[38;5;124m\"\u001b[39m)\n\u001b[0;32m----> 2\u001b[0m \u001b[38;5;28;01mfor\u001b[39;00m gpl_name, gpl \u001b[38;5;129;01min\u001b[39;00m \u001b[43mgeo\u001b[49m\u001b[38;5;241m.\u001b[39mgpls\u001b[38;5;241m.\u001b[39mitems():\n\u001b[1;32m      3\u001b[0m     \u001b[38;5;28mprint\u001b[39m(\u001b[38;5;124m\"\u001b[39m\u001b[38;5;124mName: \u001b[39m\u001b[38;5;124m\"\u001b[39m, gpl_name)\n\u001b[1;32m      4\u001b[0m     \u001b[38;5;28mprint\u001b[39m(\u001b[38;5;124m\"\u001b[39m\u001b[38;5;124mMetadata:\u001b[39m\u001b[38;5;124m\"\u001b[39m,)\n",
      "\u001b[0;31mNameError\u001b[0m: name 'geo' is not defined"
     ]
    }
   ],
   "source": [
    "print(\"GPL check:\")\n",
    "for gpl_name, gpl in geo.gpls.items():\n",
    "    print(\"Name: \", gpl_name)\n",
    "    print(\"Metadata:\",)\n",
    "    for key, value in gpl.metadata.items():\n",
    "        print(\" - %s : %s\" % (key, \", \".join(value)))\n",
    "    print(\"Table data:\",)\n",
    "    print(gpl.table.head())\n"
   ]
  },
  {
   "cell_type": "code",
   "execution_count": null,
   "metadata": {},
   "outputs": [],
   "source": [
    "print(\"GSM check:\")\n",
    "for gsm_name, gsm in geo.gsms.items():\n",
    "    print(\"Name: \", gsm_name)\n",
    "    print(\"Metadata:\",)\n",
    "    for key, value in gsm.metadata.items():\n",
    "        print(\" - %s : %s\" % (key, \", \".join(value)))\n",
    "    print (\"Table data:\",)\n",
    "    print (gsm.table.head())\n",
    "    print(gsm.columns)"
   ]
  },
  {
   "cell_type": "code",
   "execution_count": null,
   "metadata": {},
   "outputs": [],
   "source": [
    "pivoted_control_samples = gse.pivot_samples('VALUE')[controls]\n",
    "pivoted_control_samples.head()"
   ]
  }
 ],
 "metadata": {
  "kernelspec": {
   "display_name": "Python 3 (ipykernel)",
   "language": "python",
   "name": "python3"
  },
  "language_info": {
   "codemirror_mode": {
    "name": "ipython",
    "version": 3
   },
   "file_extension": ".py",
   "mimetype": "text/x-python",
   "name": "python",
   "nbconvert_exporter": "python",
   "pygments_lexer": "ipython3",
   "version": "3.11.3"
  }
 },
 "nbformat": 4,
 "nbformat_minor": 2
}
