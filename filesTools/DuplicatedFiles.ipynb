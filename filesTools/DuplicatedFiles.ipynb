{
  "cells": [{
      "cell_type": "markdown",
      "metadata": {},
      "source": [
        "## Finding duplicate files\n",
        "\n",
        "Strongly based on [this code](https://www.pythoncentral.io/finding-duplicate-files-with-python/)."
      ]
    },
    {
      "cell_type": "code",
      "execution_count": null,
      "metadata": {},
      "outputs": [{
        "name": "stdout",
        "output_type": "stream",
        "text": [
          "search done\n"
        ]
      }],
      "source": [
        "import os\n",
        "import sys\n",
        "import hashlib\n",
        "from pathlib import Path\n",
        "\n",
        "def hashfile(path,blocksize=65536):\n",
        "    \"\"\"Function to find the MD5 signature of a given file, in order to compare them\"\"\"\n",
        "    afile = open(path,'rb')\n",
        "    hasher = hashlib.md5()\n",
        "    buf = afile.read(blocksize)\n",
        "    while len(buf) > 0:\n",
        "        hasher.update(buf)\n",
        "        buf = afile.read(blocksize)\n",
        "    afile.close()\n",
        "    return hasher.hexdigest()\n",
        "\n",
        "def clean(filename):\n",
        "    \"\"\"Clean useless files\"\"\"\n",
        "    list2delete = ['.bak','.aux','.pyc','.old','.OLD'] \n",
        "    #print(os.path.splitext(filename)[1])\n",
        "    if os.path.splitext(filename)[1] in list2delete:\n",
        "        print('\\n\\n\\n!!!!!!  removing %s !!!!!\\n\\n\\n' % filename)\n",
        "        os.remove(filename)\n",
        "        return(1)\n",
        "    return\n",
        "\n",
        "def findDup(parentFolder):\n",
        "    \"\"\"a function to scan a directory for duplicate files\"\"\"\n",
        "    dups = {}\n",
        "    excludeDirs = ('.git')\n",
        "    for dirName, subdirs, fileList in os.walk(parentFolder):\n",
        "        if dirName not in excludeDirs:\n",
        "            print (\"Scanning %s...\" % dirName)\n",
        "            #print (fileList)\n",
        "            for filename in fileList:\n",
        "                #First, get the path to the file\n",
        "                path = os.path.join(dirName,filename)\n",
        "                if clean(path) != 1: # check if I had to delete the file. Such way, do not count it below\n",
        "                    #print(Path(path).stat().st_size)\n",
        "                    if Path(path).stat().st_size > 10:\n",
        "                        #now get its MD5 hash\n",
        "                        file_hash = hashfile(path)\n",
        "                        # update the dictionary with the duplicated files\n",
        "                        if file_hash in dups:\n",
        "                            dups[file_hash].append(path)\n",
        "                        else:\n",
        "                            dups[file_hash]=[path]\n",
        "    print('search done')\n",
        "    return dups\n",
        "\n",
        "def printResults(dict1):\n",
        "    \"\"\"MEthod to print the results\"\"\"\n",
        "    results = list(filter(lambda x: len(x) > 1, dict1.values()))\n",
        "    if len(results) > 0:\n",
        "        print('Duplicates Found:')\n",
        "        print('The content of these files is duplicated')\n",
        "        print('----------------------------------------')\n",
        "        for result in results:\n",
        "            item = 0\n",
        "            for subresult in result:\n",
        "                if item == 0:  # let us assume the first one is the one to keep (Check!!)\n",
        "                    print('\\'%s\\'' % subresult)\n",
        "                    item = 1\n",
        "                else:\n",
        "                    print('rm \\'%s\\'' % subresult)\n",
        "            print('------------')\n",
        "    else:\n",
        "        print('No duplicates found')\n",
        "\n",
        "dictionary=findDup(os.path.expanduser('~')+'/Onedrive')\n",
        "sys.stdout = open('results.txt','w')\n",
        "printResults(dictionary)\n",
        "sys.stdout.close()\n",
        "sys.exit(\"all done!\")"
      ]
    },
    {
      "cell_type": "code",
      "execution_count": null,
      "metadata": {},
      "outputs": [],
      "source": []
    }
  ],
  "metadata": {
    "kernelspec": {
      "display_name": "Python 3",
      "language": "python",
      "name": "python3"
    },
    "language_info": {
      "codemirror_mode": {
        "name": "ipython",
        "version": 3
      },
      "file_extension": ".py",
      "mimetype": "text/x-python",
      "name": "python",
      "nbconvert_exporter": "python",
      "pygments_lexer": "ipython3",
      "version": "3.8.10"
    }
  },
  "nbformat": 4,
  "nbformat_minor": 4
}