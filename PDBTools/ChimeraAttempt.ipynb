{
 "cells": [
  {
   "cell_type": "code",
   "execution_count": 1,
   "metadata": {},
   "outputs": [
    {
     "ename": "ModuleNotFoundError",
     "evalue": "No module named 'chimera'",
     "output_type": "error",
     "traceback": [
      "\u001b[0;31m---------------------------------------------------------------------------\u001b[0m",
      "\u001b[0;31mModuleNotFoundError\u001b[0m                       Traceback (most recent call last)",
      "\u001b[0;32m<ipython-input-1-1a44952669f8>\u001b[0m in \u001b[0;36m<module>\u001b[0;34m\u001b[0m\n\u001b[1;32m      1\u001b[0m \u001b[0;32mimport\u001b[0m \u001b[0mos\u001b[0m\u001b[0;34m\u001b[0m\u001b[0;34m\u001b[0m\u001b[0m\n\u001b[0;32m----> 2\u001b[0;31m \u001b[0;32mfrom\u001b[0m \u001b[0mchimera\u001b[0m \u001b[0;32mimport\u001b[0m \u001b[0mrunCommand\u001b[0m \u001b[0;32mas\u001b[0m \u001b[0mrc\u001b[0m \u001b[0;31m# use 'rc' as shorthand for runCommand\u001b[0m\u001b[0;34m\u001b[0m\u001b[0;34m\u001b[0m\u001b[0m\n\u001b[0m\u001b[1;32m      3\u001b[0m \u001b[0;32mfrom\u001b[0m \u001b[0mchimera\u001b[0m \u001b[0;32mimport\u001b[0m \u001b[0mreplyobj\u001b[0m \u001b[0;31m# for emitting status messages\u001b[0m\u001b[0;34m\u001b[0m\u001b[0;34m\u001b[0m\u001b[0m\n\u001b[1;32m      4\u001b[0m \u001b[0;34m\u001b[0m\u001b[0m\n\u001b[1;32m      5\u001b[0m \u001b[0;31m# change to folder with data files\u001b[0m\u001b[0;34m\u001b[0m\u001b[0;34m\u001b[0m\u001b[0;34m\u001b[0m\u001b[0m\n",
      "\u001b[0;31mModuleNotFoundError\u001b[0m: No module named 'chimera'"
     ]
    }
   ],
   "source": [
    "import os\n",
    "from chimera import runCommand as rc # use 'rc' as shorthand for runCommand\n",
    "from chimera import replyobj # for emitting status messages\n",
    "\n",
    "# change to folder with data files\n",
    "os.chdir(\"/Users/pett/data\")\n",
    "\n",
    "# gather the names of .pdb files in the folder\n",
    "file_names = [fn for fn in os.listdir(\".\") if fn.endswith(\".pdb\")]\n",
    "\n",
    "# loop through the files, opening, processing, and closing each in turn\n",
    "for fn in file_names:\n",
    "\treplyobj.status(\"Processing \" + fn) # show what file we're working on\n",
    "\trc(\"open \" + fn)\n",
    "\trc(\"align ligand ~ligand\") # put ligand in front of remainder of molecule\n",
    "\trc(\"focus ligand\") # center/zoom ligand\n",
    "\trc(\"surf\") # surface receptor\n",
    "\trc(\"preset apply publication 1\") # make everything look nice\n",
    "\trc(\"surftransp 15\") # make the surface a little bit see-through\n",
    "\t# save image to a file that ends in .png rather than .pdb\n",
    "\tpng_name = fn[:-3] + \"png\"\n",
    "\trc(\"copy file \" + png_name + \" supersample 3\")\n",
    "\trc(\"close all\")\n",
    "# uncommenting the line below will cause Chimera to exit when the script is done\n",
    "#rc(\"stop now\")\n",
    "# note that indentation is significant in Python; the fact that\n",
    "# the above command is exdented means that it is executed after\n",
    "# the loop completes, whereas the indented commands that \n",
    "# preceded it are executed as part of the loop."
   ]
  },
  {
   "cell_type": "code",
   "execution_count": null,
   "metadata": {},
   "outputs": [],
   "source": []
  }
 ],
 "metadata": {
  "kernelspec": {
   "display_name": "Python 3",
   "language": "python",
   "name": "python3"
  },
  "language_info": {
   "codemirror_mode": {
    "name": "ipython",
    "version": 3
   },
   "file_extension": ".py",
   "mimetype": "text/x-python",
   "name": "python",
   "nbconvert_exporter": "python",
   "pygments_lexer": "ipython3",
   "version": "3.7.4"
  }
 },
 "nbformat": 4,
 "nbformat_minor": 4
}
