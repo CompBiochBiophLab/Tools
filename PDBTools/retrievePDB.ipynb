from Bio import Bio
pdb_id, chain_id = '1ATP', 'E'
work_dir = './'
PDB.PDBList(verbose=False).retrieve_pdb_file(pdb_id, pdir=work_dir, file_format='pdb')
biopdb_name = '{0}/pdb{1}.ent'.format(work_dir, pdb_id.lower())

## Read the PDB file and extract the chain from structure[0]
model = PDB.PDBParser(PERMISSIVE=1,QUIET=1).get_structure(pdb_id, biopdb_name)[0]

io = PDB.PDBIO()
io.set_structure(model[chain_id])
io.save('{0}/{1}_{2}.pdb'.format(work_dir, pdb_id, chain_id))
